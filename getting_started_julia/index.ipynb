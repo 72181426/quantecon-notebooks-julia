{
 "cells": [
  {
   "cell_type": "markdown",
   "metadata": {},
   "source": [
    "\n",
    "<a id='learning-julia'></a>\n",
    "<div id=\"qe-notebook-header\" style=\"text-align:right;\">\n",
    "        <a href=\"https://quantecon.org/\" title=\"quantecon.org\">\n",
    "                <img style=\"width:250px;display:inline;\" src=\"https://assets.quantecon.org/img/qe-menubar-logo.svg\" alt=\"QuantEcon\">\n",
    "        </a>\n",
    "</div>"
   ]
  },
  {
   "cell_type": "markdown",
   "metadata": {},
   "source": [
    "# Getting Started with Julia\n",
    "\n",
    "This first part of the course provides a relatively fast-paced introduction to enough of the Julia programming language to understand the lectures"
   ]
  },
  {
   "cell_type": "markdown",
   "metadata": {},
   "source": [
    "## Lectures\n",
    "\n",
    "- [Setting up Your Julia Environment](https://julia.quantecon.org/getting_started.html)\n",
    "  - [Overview](https://julia.quantecon.org/getting_started.html#overview)\n",
    "  - [A Note on Jupyter](https://julia.quantecon.org/getting_started.html#a-note-on-jupyter)\n",
    "  - [Desktop Installation of Julia and Jupyter](https://julia.quantecon.org/getting_started.html#desktop-installation-of-julia-and-jupyter)\n",
    "  - [Using Julia on the Web](https://julia.quantecon.org/getting_started.html#using-julia-on-the-web)\n",
    "  - [Installing Packages](https://julia.quantecon.org/getting_started.html#installing-packages)\n",
    "- [Interacting with Julia](https://julia.quantecon.org/julia_environment.html)\n",
    "  - [Overview](https://julia.quantecon.org/julia_environment.html#overview)\n",
    "  - [Using Jupyter](https://julia.quantecon.org/julia_environment.html#using-jupyter)\n",
    "  - [Using the REPL](https://julia.quantecon.org/julia_environment.html#using-the-repl)\n",
    "  - [(Optional) Adding Jupyter to the Path](https://julia.quantecon.org/julia_environment.html#optional-adding-jupyter-to-the-path)\n",
    "- [Introductory Examples](https://julia.quantecon.org/julia_by_example.html)\n",
    "  - [Overview](https://julia.quantecon.org/julia_by_example.html#overview)\n",
    "  - [Example: Plotting a White Noise Process](https://julia.quantecon.org/julia_by_example.html#example-plotting-a-white-noise-process)\n",
    "  - [Example: Variations on Fixed Points](https://julia.quantecon.org/julia_by_example.html#example-variations-on-fixed-points)\n",
    "  - [Exercises](https://julia.quantecon.org/julia_by_example.html#exercises)\n",
    "  - [Solutions](https://julia.quantecon.org/julia_by_example.html#solutions)\n",
    "- [Julia Essentials](https://julia.quantecon.org/julia_essentials.html)\n",
    "  - [Overview](https://julia.quantecon.org/julia_essentials.html#overview)\n",
    "  - [Common Data Types](https://julia.quantecon.org/julia_essentials.html#common-data-types)\n",
    "  - [Iterating](https://julia.quantecon.org/julia_essentials.html#iterating)\n",
    "  - [Comparisons and Logical Operators](https://julia.quantecon.org/julia_essentials.html#comparisons-and-logical-operators)\n",
    "  - [User-Defined Functions](https://julia.quantecon.org/julia_essentials.html#user-defined-functions)\n",
    "  - [Broadcasting](https://julia.quantecon.org/julia_essentials.html#broadcasting)\n",
    "  - [Scoping and Closures](https://julia.quantecon.org/julia_essentials.html#scoping-and-closures)\n",
    "  - [Exercises](https://julia.quantecon.org/julia_essentials.html#exercises)\n",
    "  - [Solutions](https://julia.quantecon.org/julia_essentials.html#solutions)\n",
    "- [Arrays, Tuples, Ranges, and Other Fundamental Types](https://julia.quantecon.org/fundamental_types.html)\n",
    "  - [Overview](https://julia.quantecon.org/fundamental_types.html#overview)\n",
    "  - [Array Basics](https://julia.quantecon.org/fundamental_types.html#array-basics)\n",
    "  - [Operations on Arrays](https://julia.quantecon.org/fundamental_types.html#operations-on-arrays)\n",
    "  - [Ranges](https://julia.quantecon.org/fundamental_types.html#ranges)\n",
    "  - [Tuples and Named Tuples](https://julia.quantecon.org/fundamental_types.html#tuples-and-named-tuples)\n",
    "  - [Nothing, Missing, and Unions](https://julia.quantecon.org/fundamental_types.html#nothing-missing-and-unions)\n",
    "  - [Exercises](https://julia.quantecon.org/fundamental_types.html#exercises)\n",
    "  - [Solutions](https://julia.quantecon.org/fundamental_types.html#solutions)\n",
    "- [Introduction to Types and Generic Programming](https://julia.quantecon.org/introduction_to_types.html)\n",
    "  - [Overview](https://julia.quantecon.org/introduction_to_types.html#overview)\n",
    "  - [Finding and Interpreting Types](https://julia.quantecon.org/introduction_to_types.html#finding-and-interpreting-types)\n",
    "  - [The Type Hierarchy](https://julia.quantecon.org/introduction_to_types.html#the-type-hierarchy)\n",
    "  - [Deducing and Declaring Types](https://julia.quantecon.org/introduction_to_types.html#deducing-and-declaring-types)\n",
    "  - [Creating New Types](https://julia.quantecon.org/introduction_to_types.html#creating-new-types)\n",
    "  - [Introduction to Multiple Dispatch](https://julia.quantecon.org/introduction_to_types.html#introduction-to-multiple-dispatch)\n",
    "  - [Exercises](https://julia.quantecon.org/introduction_to_types.html#exercises)"
   ]
  }
 ],
 "metadata": {
  "date": 1570707166.5103183,
  "download_nb": 1,
  "download_nb_path": "https://julia.quantecon.org/",
  "filename": "index.rst",
  "filename_with_path": "getting_started_julia/index",
  "kernelspec": {
   "display_name": "Julia 1.2.0",
   "language": "julia",
   "name": "julia-1.2"
  },
  "language_info": {
   "file_extension": ".jl",
   "mimetype": "application/julia",
   "name": "julia",
   "version": "1.2.0"
  },
  "title": "Getting Started with Julia"
 },
 "nbformat": 4,
 "nbformat_minor": 2
}
