{
 "cells": [
  {
   "cell_type": "markdown",
   "metadata": {},
   "source": [
    "\n",
    "<a id='learning-julia'></a>\n",
    "<div id=\"qe-notebook-header\" style=\"text-align:right;\">\n",
    "        <a href=\"https://quantecon.org/\" title=\"quantecon.org\">\n",
    "                <img style=\"width:250px;display:inline;\" src=\"https://assets.quantecon.org/img/qe-menubar-logo.svg\" alt=\"QuantEcon\">\n",
    "        </a>\n",
    "</div>"
   ]
  },
  {
   "cell_type": "markdown",
   "metadata": {},
   "source": [
    "# Getting Started with Julia\n",
    "\n",
    "This first part of the course provides a relatively fast-paced introduction to enough of the Julia programming language to understand the lectures"
   ]
  },
  {
   "cell_type": "markdown",
   "metadata": {},
   "source": [
    "## Lectures\n",
    "\n",
    "- [Setting up Your Julia Environment](https://lectures.quantecon.org/getting_started.html)\n",
    "  - [Overview](https://lectures.quantecon.org/getting_started.html#overview)\n",
    "  - [A Note on Jupyter](https://lectures.quantecon.org/getting_started.html#a-note-on-jupyter)\n",
    "  - [Desktop Installation of Julia and Jupyter](https://lectures.quantecon.org/getting_started.html#desktop-installation-of-julia-and-jupyter)\n",
    "  - [Using Julia on the Web](https://lectures.quantecon.org/getting_started.html#using-julia-on-the-web)\n",
    "  - [Installing Packages](https://lectures.quantecon.org/getting_started.html#installing-packages)\n",
    "- [Interacting with Julia](https://lectures.quantecon.org/julia_environment.html)\n",
    "  - [Overview](https://lectures.quantecon.org/julia_environment.html#overview)\n",
    "  - [Using Jupyter](https://lectures.quantecon.org/julia_environment.html#using-jupyter)\n",
    "  - [Using the REPL](https://lectures.quantecon.org/julia_environment.html#using-the-repl)\n",
    "  - [(Optional) Adding Jupyter to the Path](https://lectures.quantecon.org/julia_environment.html#optional-adding-jupyter-to-the-path)\n",
    "- [Introductory Examples](https://lectures.quantecon.org/julia_by_example.html)\n",
    "  - [Overview](https://lectures.quantecon.org/julia_by_example.html#overview)\n",
    "  - [Example: Plotting a White Noise Process](https://lectures.quantecon.org/julia_by_example.html#example-plotting-a-white-noise-process)\n",
    "  - [Example: Variations on Fixed Points](https://lectures.quantecon.org/julia_by_example.html#example-variations-on-fixed-points)\n",
    "  - [Exercises](https://lectures.quantecon.org/julia_by_example.html#exercises)\n",
    "  - [Solutions](https://lectures.quantecon.org/julia_by_example.html#solutions)\n",
    "- [Julia Essentials](https://lectures.quantecon.org/julia_essentials.html)\n",
    "  - [Overview](https://lectures.quantecon.org/julia_essentials.html#overview)\n",
    "  - [Common Data Types](https://lectures.quantecon.org/julia_essentials.html#common-data-types)\n",
    "  - [Iterating](https://lectures.quantecon.org/julia_essentials.html#iterating)\n",
    "  - [Comparisons and Logical Operators](https://lectures.quantecon.org/julia_essentials.html#comparisons-and-logical-operators)\n",
    "  - [User-Defined Functions](https://lectures.quantecon.org/julia_essentials.html#user-defined-functions)\n",
    "  - [Broadcasting](https://lectures.quantecon.org/julia_essentials.html#broadcasting)\n",
    "  - [Scoping and Closures](https://lectures.quantecon.org/julia_essentials.html#scoping-and-closures)\n",
    "  - [Exercises](https://lectures.quantecon.org/julia_essentials.html#exercises)\n",
    "  - [Solutions](https://lectures.quantecon.org/julia_essentials.html#solutions)\n",
    "- [Arrays, Tuples, Ranges, and Other Fundamental Types](https://lectures.quantecon.org/fundamental_types.html)\n",
    "  - [Overview](https://lectures.quantecon.org/fundamental_types.html#overview)\n",
    "  - [Array Basics](https://lectures.quantecon.org/fundamental_types.html#array-basics)\n",
    "  - [Operations on Arrays](https://lectures.quantecon.org/fundamental_types.html#operations-on-arrays)\n",
    "  - [Ranges](https://lectures.quantecon.org/fundamental_types.html#ranges)\n",
    "  - [Tuples and Named Tuples](https://lectures.quantecon.org/fundamental_types.html#tuples-and-named-tuples)\n",
    "  - [Nothing, Missing, and Unions](https://lectures.quantecon.org/fundamental_types.html#nothing-missing-and-unions)\n",
    "  - [Exercises](https://lectures.quantecon.org/fundamental_types.html#exercises)\n",
    "  - [Solutions](https://lectures.quantecon.org/fundamental_types.html#solutions)\n",
    "- [Introduction to Types and Generic Programming](https://lectures.quantecon.org/introduction_to_types.html)\n",
    "  - [Overview](https://lectures.quantecon.org/introduction_to_types.html#overview)\n",
    "  - [Finding and Interpreting Types](https://lectures.quantecon.org/introduction_to_types.html#finding-and-interpreting-types)\n",
    "  - [The Type Hierarchy](https://lectures.quantecon.org/introduction_to_types.html#the-type-hierarchy)\n",
    "  - [Deducing and Declaring Types](https://lectures.quantecon.org/introduction_to_types.html#deducing-and-declaring-types)\n",
    "  - [Creating New Types](https://lectures.quantecon.org/introduction_to_types.html#creating-new-types)\n",
    "  - [Introduction to Multiple Dispatch](https://lectures.quantecon.org/introduction_to_types.html#introduction-to-multiple-dispatch)\n",
    "  - [Exercises](https://lectures.quantecon.org/introduction_to_types.html#exercises)"
   ]
  }
 ],
 "metadata": {
  "download_nb": 1,
  "download_nb_path": "https://lectures.quantecon.org/",
  "filename": "index.rst",
  "filename_with_path": "getting_started_julia/index",
  "kernelspec": {
   "display_name": "Julia 1.2.0",
   "language": "julia",
   "name": "julia-1.2"
  },
  "language_info": {
   "file_extension": ".jl",
   "mimetype": "application/julia",
   "name": "julia",
   "version": "1.2.0"
  },
  "title": "Getting Started with Julia"
 },
 "nbformat": 4,
 "nbformat_minor": 2
}
