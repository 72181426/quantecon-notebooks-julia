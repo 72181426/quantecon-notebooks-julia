{
 "cells": [
  {
   "cell_type": "markdown",
   "metadata": {},
   "source": [
    "\n",
    "<a id='single-agent-models'></a>\n",
    "<div id=\"qe-notebook-header\" style=\"text-align:right;\">\n",
    "        <a href=\"https://quantecon.org/\" title=\"quantecon.org\">\n",
    "                <img style=\"width:250px;display:inline;\" src=\"https://assets.quantecon.org/img/qe-menubar-logo.svg\" alt=\"QuantEcon\">\n",
    "        </a>\n",
    "</div>"
   ]
  },
  {
   "cell_type": "markdown",
   "metadata": {},
   "source": [
    "# Dynamic Programming\n",
    "\n",
    "This section of the course contains foundational models for dynamic economic\n",
    "modeling.   Most are single agent problems that take the activities of other\n",
    "agents as given.  Later we will look at full equilibrium problems."
   ]
  },
  {
   "cell_type": "markdown",
   "metadata": {},
   "source": [
    "## Lectures\n",
    "\n",
    "- [Shortest Paths](https://julia.quantecon.org/short_path.html)\n",
    "  - [Overview](https://julia.quantecon.org/short_path.html#overview)\n",
    "  - [Outline of the Problem](https://julia.quantecon.org/short_path.html#outline-of-the-problem)\n",
    "  - [Finding Least-Cost Paths](https://julia.quantecon.org/short_path.html#finding-least-cost-paths)\n",
    "  - [Solving for $ J $](https://julia.quantecon.org/short_path.html#solving-for-j)\n",
    "  - [Exercises](https://julia.quantecon.org/short_path.html#exercises)\n",
    "  - [Solutions](https://julia.quantecon.org/short_path.html#solutions)\n",
    "- [Job Search I: The McCall Search Model](https://julia.quantecon.org/mccall_model.html)\n",
    "  - [Overview](https://julia.quantecon.org/mccall_model.html#overview)\n",
    "  - [The McCall Model](https://julia.quantecon.org/mccall_model.html#the-mccall-model)\n",
    "  - [Computing the Optimal Policy: Take 1](https://julia.quantecon.org/mccall_model.html#computing-the-optimal-policy-take-1)\n",
    "  - [Computing the Optimal Policy: Take 2](https://julia.quantecon.org/mccall_model.html#computing-the-optimal-policy-take-2)\n",
    "  - [Exercises](https://julia.quantecon.org/mccall_model.html#exercises)\n",
    "  - [Solutions](https://julia.quantecon.org/mccall_model.html#solutions)\n",
    "- [Job Search II: Search and Separation](https://julia.quantecon.org/mccall_model_with_separation.html)\n",
    "  - [Overview](https://julia.quantecon.org/mccall_model_with_separation.html#overview)\n",
    "  - [The Model](https://julia.quantecon.org/mccall_model_with_separation.html#the-model)\n",
    "  - [Solving the Model using Dynamic Programming](https://julia.quantecon.org/mccall_model_with_separation.html#solving-the-model-using-dynamic-programming)\n",
    "  - [Implementation](https://julia.quantecon.org/mccall_model_with_separation.html#implementation)\n",
    "  - [The Reservation Wage](https://julia.quantecon.org/mccall_model_with_separation.html#the-reservation-wage)\n",
    "  - [Exercises](https://julia.quantecon.org/mccall_model_with_separation.html#exercises)\n",
    "  - [Solutions](https://julia.quantecon.org/mccall_model_with_separation.html#solutions)\n",
    "- [Optimal Savings I: The Permanent Income Model](https://julia.quantecon.org/perm_income.html)\n",
    "  - [Overview](https://julia.quantecon.org/perm_income.html#overview)\n",
    "  - [The Savings Problem](https://julia.quantecon.org/perm_income.html#the-savings-problem)\n",
    "  - [Alternative Representations](https://julia.quantecon.org/perm_income.html#alternative-representations)\n",
    "  - [Two Classic Examples](https://julia.quantecon.org/perm_income.html#two-classic-examples)\n",
    "  - [Further Reading](https://julia.quantecon.org/perm_income.html#further-reading)\n",
    "  - [Appendix: the Euler Equation](https://julia.quantecon.org/perm_income.html#appendix-the-euler-equation)\n",
    "- [Optimal Savings II: LQ Techniques](https://julia.quantecon.org/perm_income_cons.html)\n",
    "  - [Overview](https://julia.quantecon.org/perm_income_cons.html#overview)\n",
    "  - [Introduction](https://julia.quantecon.org/perm_income_cons.html#introduction)\n",
    "  - [The LQ Approach](https://julia.quantecon.org/perm_income_cons.html#the-lq-approach)\n",
    "  - [Implementation](https://julia.quantecon.org/perm_income_cons.html#implementation)\n",
    "  - [Two Example Economies](https://julia.quantecon.org/perm_income_cons.html#two-example-economies)\n",
    "- [Consumption and Tax Smoothing with Complete and Incomplete Markets](https://julia.quantecon.org/smoothing.html)\n",
    "  - [Overview](https://julia.quantecon.org/smoothing.html#overview)\n",
    "  - [Background](https://julia.quantecon.org/smoothing.html#background)\n",
    "  - [Model 1 (Complete Markets)](https://julia.quantecon.org/smoothing.html#model-1-complete-markets)\n",
    "  - [Model 2 (One-Period Risk Free Debt Only)](https://julia.quantecon.org/smoothing.html#model-2-one-period-risk-free-debt-only)\n",
    "  - [Example: Tax Smoothing with Complete Markets](https://julia.quantecon.org/smoothing.html#example-tax-smoothing-with-complete-markets)\n",
    "  - [Linear State Space Version of Complete Markets Model](https://julia.quantecon.org/smoothing.html#linear-state-space-version-of-complete-markets-model)"
   ]
  }
 ],
 "metadata": {
  "date": 1570707161.7971146,
  "download_nb": 1,
  "download_nb_path": "https://julia.quantecon.org/",
  "filename": "index_undergrad.rst",
  "filename_with_path": "dynamic_programming/index_undergrad",
  "kernelspec": {
   "display_name": "Julia 1.2.0",
   "language": "julia",
   "name": "julia-1.2"
  },
  "language_info": {
   "file_extension": ".jl",
   "mimetype": "application/julia",
   "name": "julia",
   "version": "1.2.0"
  },
  "title": "Dynamic Programming"
 },
 "nbformat": 4,
 "nbformat_minor": 2
}
