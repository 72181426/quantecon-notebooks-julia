{
 "cells": [
  {
   "cell_type": "markdown",
   "metadata": {},
   "source": [
    "\n",
    "<a id='jv'></a>\n",
    "<div id=\"qe-notebook-header\" style=\"text-align:right;\">\n",
    "        <a href=\"https://quantecon.org/\" title=\"quantecon.org\">\n",
    "                <img style=\"width:250px;display:inline;\" src=\"https://assets.quantecon.org/img/qe-menubar-logo.svg\" alt=\"QuantEcon\">\n",
    "        </a>\n",
    "</div>"
   ]
  },
  {
   "cell_type": "markdown",
   "metadata": {},
   "source": [
    "# Job Search V: On-the-Job Search\n",
    "\n",
    "\n",
    "<a id='index-1'></a>"
   ]
  },
  {
   "cell_type": "markdown",
   "metadata": {},
   "source": [
    "## Contents\n",
    "\n",
    "- [Job Search V: On-the-Job Search](#Job-Search-V:-On-the-Job-Search)  \n",
    "  - [Overview](#Overview)  \n",
    "  - [Model](#Model)  \n",
    "  - [Implementation](#Implementation)  \n",
    "  - [Solving for Policies](#Solving-for-Policies)  \n",
    "  - [Exercises](#Exercises)  \n",
    "  - [Solutions](#Solutions)  "
   ]
  },
  {
   "cell_type": "markdown",
   "metadata": {},
   "source": [
    "## Overview"
   ]
  },
  {
   "cell_type": "markdown",
   "metadata": {},
   "source": [
    "### Model features\n",
    "\n",
    "\n",
    "<a id='index-2'></a>\n",
    "- job-specific human capital accumulation combined with on-the-job search  \n",
    "- infinite horizon dynamic programming with one state variable and two controls  "
   ]
  },
  {
   "cell_type": "markdown",
   "metadata": {},
   "source": [
    "### Setup"
   ]
  },
  {
   "cell_type": "code",
   "execution_count": 1,
   "metadata": {
    "hide-output": true
   },
   "outputs": [],
   "source": [
    "using InstantiateFromURL\n",
    "github_project(\"QuantEcon/quantecon-notebooks-julia\", version = \"0.1.0\")"
   ]
  },
  {
   "cell_type": "code",
   "execution_count": 2,
   "metadata": {
    "hide-output": true
   },
   "outputs": [],
   "source": [
    "using LinearAlgebra, Statistics, Compat\n",
    "using Distributions, QuantEcon, Interpolations, Expectations, Parameters\n",
    "using Plots, NLsolve, Random"
   ]
  },
  {
   "cell_type": "markdown",
   "metadata": {},
   "source": [
    "## Model\n",
    "\n",
    "\n",
    "<a id='index-3'></a>\n",
    "Let\n",
    "\n",
    "- $ x_t $ denote the time-$ t $ job-specific human capital of a worker employed at a given firm  \n",
    "- $ w_t $ denote current wages  \n",
    "\n",
    "\n",
    "Let $ w_t = x_t(1 - s_t - \\phi_t) $, where\n",
    "\n",
    "- $ \\phi_t $ is investment in job-specific human capital for the current role  \n",
    "- $ s_t $ is search effort, devoted to obtaining new offers from other firms.  \n",
    "\n",
    "\n",
    "For as long as the worker remains in the current job, evolution of\n",
    "$ \\{x_t\\} $ is given by $ x_{t+1} = G(x_t, \\phi_t) $\n",
    "\n",
    "When search effort at $ t $ is $ s_t $, the worker receives a new job\n",
    "offer with probability $ \\pi(s_t) \\in [0, 1] $\n",
    "\n",
    "Value of offer is $ U_{t+1} $, where $ \\{U_t\\} $ is iid with common distribution $ F $\n",
    "\n",
    "Worker has the right to reject the current offer and continue with existing job\n",
    "\n",
    "In particular, $ x_{t+1} = U_{t+1} $ if accepts and $ x_{t+1} = G(x_t, \\phi_t) $ if rejects\n",
    "\n",
    "Letting $ b_{t+1} \\in \\{0,1\\} $ be binary with $ b_{t+1} = 1 $ indicating an offer, we can write\n",
    "\n",
    "\n",
    "<a id='equation-jd'></a>\n",
    "$$\n",
    "x_{t+1}\n",
    "= (1 - b_{t+1}) G(x_t, \\phi_t) + b_{t+1}\n",
    "    \\max \\{ G(x_t, \\phi_t), U_{t+1}\\} \\tag{1}\n",
    "$$\n",
    "\n",
    "Agent’s objective: maximize expected discounted sum of wages via controls $ \\{s_t\\} $ and $ \\{\\phi_t\\} $\n",
    "\n",
    "Taking the expectation of $ V(x_{t+1}) $ and using [(1)](#equation-jd),\n",
    "the Bellman equation for this problem can be written as\n",
    "\n",
    "\n",
    "<a id='equation-jvbell'></a>\n",
    "$$\n",
    "V(x)\n",
    "= \\max_{s + \\phi \\leq 1}\n",
    "    \\left\\{\n",
    "        x (1 - s - \\phi) + \\beta (1 - \\pi(s)) V[G(x, \\phi)] +\n",
    "        \\beta \\pi(s) \\int V[G(x, \\phi) \\vee u] F(du)\n",
    "     \\right\\}. \\tag{2}\n",
    "$$\n",
    "\n",
    "Here nonnegativity of $ s $ and $ \\phi $ is understood, while\n",
    "$ a \\vee b := \\max\\{a, b\\} $"
   ]
  },
  {
   "cell_type": "markdown",
   "metadata": {},
   "source": [
    "### Parameterization\n",
    "\n",
    "\n",
    "<a id='index-4'></a>\n",
    "In the implementation below, we will focus on the parameterization\n",
    "\n",
    "$$\n",
    "G(x, \\phi) = A (x \\phi)^{\\alpha},\n",
    "\\quad\n",
    "\\pi(s) = \\sqrt s\n",
    "\\quad \\text{and} \\quad\n",
    "F = \\text{Beta}(2, 2)\n",
    "$$\n",
    "\n",
    "with default parameter values\n",
    "\n",
    "- $ A = 1.4 $  \n",
    "- $ \\alpha = 0.6 $  \n",
    "- $ \\beta = 0.96 $  \n",
    "\n",
    "\n",
    "The Beta(2,2) distribution is supported on $ (0,1) $.  It has a unimodal, symmetric density peaked at 0.5\n",
    "\n",
    "\n",
    "<a id='jvboecalc'></a>"
   ]
  },
  {
   "cell_type": "markdown",
   "metadata": {},
   "source": [
    "### Back-of-the-Envelope Calculations\n",
    "\n",
    "Before we solve the model, let’s make some quick calculations that\n",
    "provide intuition on what the solution should look like\n",
    "\n",
    "To begin, observe that the worker has two instruments to build\n",
    "capital and hence wages:\n",
    "\n",
    "1. invest in capital specific to the current job via $ \\phi $  \n",
    "1. search for a new job with better job-specific capital match via $ s $  \n",
    "\n",
    "\n",
    "Since wages are $ x (1 - s - \\phi) $, marginal cost of investment via either $ \\phi $ or $ s $ is identical\n",
    "\n",
    "Our risk neutral worker should focus on whatever instrument has the highest expected return\n",
    "\n",
    "The relative expected return will depend on $ x $\n",
    "\n",
    "For example, suppose first that $ x = 0.05 $\n",
    "\n",
    "- If $ s=1 $ and $ \\phi = 0 $, then since $ G(x,\\phi) = 0 $,\n",
    "  taking expectations of [(1)](#equation-jd) gives expected next period capital equal to $ \\pi(s) \\mathbb{E} U\n",
    "  = \\mathbb{E} U = 0.5 $  \n",
    "- If $ s=0 $ and $ \\phi=1 $, then next period capital is $ G(x, \\phi) = G(0.05, 1) \\approx 0.23 $  \n",
    "\n",
    "\n",
    "Both rates of return are good, but the return from search is better\n",
    "\n",
    "Next suppose that $ x = 0.4 $\n",
    "\n",
    "- If $ s=1 $ and $ \\phi = 0 $, then expected next period capital is again $ 0.5 $  \n",
    "- If $ s=0 $ and $ \\phi = 1 $, then $ G(x, \\phi) = G(0.4, 1) \\approx 0.8 $  \n",
    "\n",
    "\n",
    "Return from investment via $ \\phi $ dominates expected return from search\n",
    "\n",
    "Combining these observations gives us two informal predictions:\n",
    "\n",
    "1. At any given state $ x $, the two controls $ \\phi $ and $ s $ will function primarily as substitutes — worker will focus on whichever instrument has the higher expected return  \n",
    "1. For sufficiently small $ x $, search will be preferable to investment in job-specific human capital.  For larger $ x $, the reverse will be true  \n",
    "\n",
    "\n",
    "Now let’s turn to implementation, and see if we can match our predictions"
   ]
  },
  {
   "cell_type": "markdown",
   "metadata": {},
   "source": [
    "## Implementation\n",
    "\n",
    "\n",
    "<a id='index-5'></a>\n",
    "The following code solves the DP problem described above"
   ]
  },
  {
   "cell_type": "code",
   "execution_count": 3,
   "metadata": {
    "hide-output": false
   },
   "outputs": [
    {
     "data": {
      "text/plain": [
       "T (generic function with 1 method)"
      ]
     },
     "execution_count": 3,
     "metadata": {},
     "output_type": "execute_result"
    }
   ],
   "source": [
    "using Distributions, QuantEcon, Interpolations, Expectations, Parameters\n",
    "\n",
    "  # model object\n",
    "  function JvWorker(;A = 1.4,\n",
    "              α = 0.6,\n",
    "              β = 0.96,\n",
    "              grid_size = 50,\n",
    "              ϵ = 1e-4)\n",
    "\n",
    "      G(x, ϕ) = A .* (x .* ϕ).^α\n",
    "      π_func = sqrt\n",
    "      F = Beta(2, 2)\n",
    "\n",
    "      # expectation operator\n",
    "      E = expectation(F)\n",
    "\n",
    "      # Set up grid over the state space for DP\n",
    "      # Max of grid is the max of a large quantile value for F and the\n",
    "      # fixed point y = G(y, 1).\n",
    "      grid_max = max(A^(1.0 / (1.0 - α)), quantile(F, 1 - ϵ))\n",
    "\n",
    "      # range for range(ϵ, grid_max, grid_size). Needed for\n",
    "      # CoordInterpGrid below\n",
    "      x_grid = range(ϵ, grid_max, length = grid_size)\n",
    "\n",
    "      return (A = A, α = α, β = β, x_grid = x_grid, G = G,\n",
    "              π_func = π_func, F = F, E = E, ϵ = ϵ)\n",
    "  end\n",
    "\n",
    "function T!(jv,\n",
    "                           V,\n",
    "                           new_V::AbstractVector)\n",
    "\n",
    "    # simplify notation\n",
    "    @unpack G, π_func, F, β, E, ϵ = jv\n",
    "\n",
    "    # prepare interpoland of value function\n",
    "    Vf = LinearInterpolation(jv.x_grid, V, extrapolation_bc=Line())\n",
    "\n",
    "    # instantiate the linesearch variables\n",
    "    max_val = -1.0\n",
    "    cur_val = 0.0\n",
    "    max_s = 1.0\n",
    "    max_ϕ = 1.0\n",
    "    search_grid = range(ϵ, 1.0, length = 15)\n",
    "\n",
    "    for (i, x) in enumerate(jv.x_grid)\n",
    "\n",
    "        function w(z)\n",
    "            s, ϕ = z\n",
    "            h(u) = Vf(max(G(x, ϕ), u))\n",
    "            integral = E(h)\n",
    "            q = π_func(s) * integral + (1.0 - π_func(s)) * Vf(G(x, ϕ))\n",
    "\n",
    "            return - x * (1.0 - ϕ - s) - β * q\n",
    "        end\n",
    "\n",
    "        for s in search_grid\n",
    "            for ϕ in search_grid\n",
    "                cur_val = ifelse(s + ϕ <= 1.0, -w((s, ϕ)), -1.0)\n",
    "                if cur_val > max_val\n",
    "                    max_val, max_s, max_ϕ = cur_val, s, ϕ\n",
    "                end\n",
    "            end\n",
    "        end\n",
    "\n",
    "        new_V[i] = max_val\n",
    "    end\n",
    "end\n",
    "\n",
    "function T!(jv,\n",
    "                           V,\n",
    "                           out::Tuple{AbstractVector, AbstractVector})\n",
    "\n",
    "    # simplify notation\n",
    "    @unpack G, π_func, F, β, E, ϵ = jv\n",
    "\n",
    "    # prepare interpoland of value function\n",
    "    Vf = LinearInterpolation(jv.x_grid, V, extrapolation_bc=Line())\n",
    "\n",
    "    # instantiate variables\n",
    "    s_policy, ϕ_policy = out[1], out[2]\n",
    "\n",
    "    # instantiate the linesearch variables\n",
    "    max_val = -1.0\n",
    "    cur_val = 0.0\n",
    "    max_s = 1.0\n",
    "    max_ϕ = 1.0\n",
    "    search_grid = range(ϵ, 1.0, length = 15)\n",
    "\n",
    "    for (i, x) in enumerate(jv.x_grid)\n",
    "\n",
    "        function w(z)\n",
    "            s, ϕ = z\n",
    "            h(u) = Vf(max(G(x, ϕ), u))\n",
    "            integral = E(h)\n",
    "            q = π_func(s) * integral + (1.0 - π_func(s)) * Vf(G(x, ϕ))\n",
    "\n",
    "            return - x * (1.0 - ϕ - s) - β * q\n",
    "        end\n",
    "\n",
    "        for s in search_grid\n",
    "            for ϕ in search_grid\n",
    "                cur_val = ifelse(s + ϕ <= 1.0, -w((s, ϕ)), -1.0)\n",
    "                if cur_val > max_val\n",
    "                    max_val, max_s, max_ϕ = cur_val, s, ϕ\n",
    "                end\n",
    "            end\n",
    "        end\n",
    "\n",
    "    s_policy[i], ϕ_policy[i] = max_s, max_ϕ\n",
    "end\n",
    "end\n",
    "\n",
    "function T(jv, V; ret_policies = false)\n",
    "    out = ifelse(ret_policies, (similar(V), similar(V)), similar(V))\n",
    "    T!(jv, V, out)\n",
    "    return out\n",
    "end"
   ]
  },
  {
   "cell_type": "markdown",
   "metadata": {},
   "source": [
    "The code is written to be relatively generic—and hence reusable\n",
    "\n",
    "- For example, we use generic $ G(x,\\phi) $ instead of specific $ A (x \\phi)^{\\alpha} $  \n",
    "\n",
    "\n",
    "Regarding the imports\n",
    "\n",
    "- `fixed_quad` is a simple non-adaptive integration routine  \n",
    "- `fmin_slsqp` is a minimization routine that permits inequality constraints  \n",
    "\n",
    "\n",
    "Next we write a constructor called `JvWorker` that\n",
    "\n",
    "- packages all the parameters and other basic attributes of a given model  \n",
    "- implements the method `T` for value function iteration  \n",
    "\n",
    "\n",
    "The `T` method\n",
    "takes a candidate value function $ V $ and updates it to $ TV $ via\n",
    "\n",
    "$$\n",
    "TV(x)\n",
    "= - \\min_{s + \\phi \\leq 1} w(s, \\phi)\n",
    "$$\n",
    "\n",
    "where\n",
    "\n",
    "\n",
    "<a id='equation-defw'></a>\n",
    "$$\n",
    "w(s, \\phi)\n",
    " := - \\left\\{\n",
    "         x (1 - s - \\phi) + \\beta (1 - \\pi(s)) V[G(x, \\phi)] +\n",
    "         \\beta \\pi(s) \\int V[G(x, \\phi) \\vee u] F(du)\n",
    "\\right\\} \\tag{3}\n",
    "$$\n",
    "\n",
    "Here we are minimizing instead of maximizing to fit with optimization routines\n",
    "\n",
    "When we represent $ V $, it will be with a Julia array `V` giving values on grid `x_grid`\n",
    "\n",
    "But to evaluate the right-hand side of [(3)](#equation-defw), we need a function, so\n",
    "we replace the arrays `V` and `x_grid` with a function `Vf` that gives linear\n",
    "interpolation of `V` on `x_grid`\n",
    "\n",
    "Hence in the preliminaries of `T`\n",
    "\n",
    "- from the array `V` we define a linear interpolation `Vf` of its values  \n",
    "  \n",
    "  - `c1` is used to implement the constraint $ s + \\phi \\leq 1 $  \n",
    "  - `c2` is used to implement $ s \\geq \\epsilon $, a numerically stable  \n",
    "    alternative to the true constraint $ s \\geq 0 $  \n",
    "  - `c3` does the same for $ \\phi $  \n",
    "  \n",
    "\n",
    "\n",
    "Inside the `for` loop, for each `x` in the grid over the state space, we\n",
    "set up the function $ w(z) = w(s, \\phi) $ defined in [(3)](#equation-defw).\n",
    "\n",
    "The function is minimized over all feasible $ (s, \\phi) $ pairs, either by brute-force search over a grid, or specialized solver routines\n",
    "\n",
    "The latter is much faster, but convergence to the global optimum is not\n",
    "guaranteed.  Grid search is a simple way to check results"
   ]
  },
  {
   "cell_type": "markdown",
   "metadata": {},
   "source": [
    "## Solving for Policies\n",
    "\n",
    "\n",
    "<a id='index-6'></a>\n",
    "Let’s plot the optimal policies and see what they look like\n",
    "\n",
    "The code is as follows"
   ]
  },
  {
   "cell_type": "code",
   "execution_count": 4,
   "metadata": {
    "hide-output": false
   },
   "outputs": [
    {
     "data": {
      "image/png": "[encoded data removed]"
     },
     "execution_count": 4,
     "metadata": {},
     "output_type": "execute_result"
    }
   ],
   "source": [
    "using Plots, NLsolve\n",
    "gr(fmt=:png);\n",
    "\n",
    "wp = JvWorker(grid_size=25)\n",
    "v_init = collect(wp.x_grid) .* 0.5\n",
    "\n",
    "f(x) = T(wp, x)\n",
    "V = fixedpoint(f, v_init)\n",
    "sol_V = V.zero\n",
    "\n",
    "s_policy, ϕ_policy = T(wp, sol_V, ret_policies = true)\n",
    "\n",
    "# plot solution\n",
    "p = plot(wp.x_grid, [ϕ_policy s_policy sol_V],\n",
    "         title = [\"phi policy\" \"s policy\" \"value function\"],\n",
    "         color = [:orange :blue :green],\n",
    "         xaxis = (\"x\", (0.0, maximum(wp.x_grid))),\n",
    "         yaxis = ((-0.1, 1.1)), size = (800, 800),\n",
    "         legend = false, layout = (3, 1),\n",
    "         bottom_margin = Plots.PlotMeasures.Length(:mm, 20))"
   ]
  },
  {
   "cell_type": "markdown",
   "metadata": {},
   "source": [
    "The horizontal axis is the state $ x $, while the vertical axis gives $ s(x) $ and $ \\phi(x) $\n",
    "\n",
    "Overall, the policies match well with our predictions from [section](#jvboecalc)\n",
    "\n",
    "- Worker switches from one investment strategy to the other depending on relative return  \n",
    "- For low values of $ x $, the best option is to search for a new job  \n",
    "- Once $ x $ is larger, worker does better by investing in human capital specific to the current position  "
   ]
  },
  {
   "cell_type": "markdown",
   "metadata": {},
   "source": [
    "## Exercises\n",
    "\n",
    "\n",
    "<a id='jv-ex1'></a>"
   ]
  },
  {
   "cell_type": "markdown",
   "metadata": {},
   "source": [
    "### Exercise 1\n",
    "\n",
    "Let’s look at the dynamics for the state process $ \\{x_t\\} $ associated with these policies\n",
    "\n",
    "The dynamics are given by [(1)](#equation-jd) when $ \\phi_t $ and $ s_t $ are\n",
    "chosen according to the optimal policies, and $ \\mathbb{P}\\{b_{t+1} = 1\\}\n",
    "= \\pi(s_t) $\n",
    "\n",
    "Since the dynamics are random, analysis is a bit subtle\n",
    "\n",
    "One way to do it is to plot, for each $ x $ in a relatively fine grid\n",
    "called `plot_grid`, a\n",
    "large number $ K $ of realizations of $ x_{t+1} $ given $ x_t =\n",
    "x $.  Plot this with one dot for each realization, in the form of a 45 degree\n",
    "diagram.  Set"
   ]
  },
  {
   "cell_type": "markdown",
   "metadata": {
    "hide-output": false
   },
   "source": [
    "```julia\n",
    "K = 50\n",
    "plot_grid_max, plot_grid_size = 1.2, 100\n",
    "plot_grid = range(0, plot_grid_max, length = plot_grid_size)\n",
    "plot(plot_grid, plot_grid, color = :black, linestyle = :dash,\n",
    "     lims = (0, plot_grid_max), legend = :none)\n",
    "```\n"
   ]
  },
  {
   "cell_type": "markdown",
   "metadata": {},
   "source": [
    "By examining the plot, argue that under the optimal policies, the state\n",
    "$ x_t $ will converge to a constant value $ \\bar x $ close to unity\n",
    "\n",
    "Argue that at the steady state, $ s_t \\approx 0 $ and $ \\phi_t \\approx 0.6 $\n",
    "\n",
    "\n",
    "<a id='jv-ex2'></a>"
   ]
  },
  {
   "cell_type": "markdown",
   "metadata": {},
   "source": [
    "### Exercise 2\n",
    "\n",
    "In the preceding exercise we found that $ s_t $ converges to zero\n",
    "and $ \\phi_t $ converges to about 0.6\n",
    "\n",
    "Since these results were calculated at a value of $ \\beta $ close to\n",
    "one, let’s compare them to the best choice for an *infinitely* patient worker\n",
    "\n",
    "Intuitively, an infinitely patient worker would like to maximize steady state\n",
    "wages, which are a function of steady state capital\n",
    "\n",
    "You can take it as given—it’s certainly true—that the infinitely patient worker does not\n",
    "search in the long run (i.e., $ s_t = 0 $ for large $ t $)\n",
    "\n",
    "Thus, given $ \\phi $, steady state capital is the positive fixed point\n",
    "$ x^*(\\phi) $ of the map $ x \\mapsto G(x, \\phi) $\n",
    "\n",
    "Steady state wages can be written as $ w^*(\\phi) = x^*(\\phi) (1 - \\phi) $\n",
    "\n",
    "Graph $ w^*(\\phi) $ with respect to $ \\phi $, and examine the best\n",
    "choice of $ \\phi $\n",
    "\n",
    "Can you give a rough interpretation for the value that you see?"
   ]
  },
  {
   "cell_type": "markdown",
   "metadata": {},
   "source": [
    "## Solutions"
   ]
  },
  {
   "cell_type": "markdown",
   "metadata": {},
   "source": [
    "### Exercise 1\n",
    "\n",
    "Here’s code to produce the 45 degree diagram"
   ]
  },
  {
   "cell_type": "code",
   "execution_count": 5,
   "metadata": {
    "hide-output": false
   },
   "outputs": [
    {
     "data": {
      "text/plain": [
       "h_func (generic function with 1 method)"
      ]
     },
     "execution_count": 5,
     "metadata": {},
     "output_type": "execute_result"
    }
   ],
   "source": [
    "wp = JvWorker(grid_size=25)\n",
    "# simplify notation\n",
    "@unpack G, π_func, F = wp\n",
    "\n",
    "v_init = collect(wp.x_grid) * 0.5\n",
    "f2(x) = T(wp, x)\n",
    "V2 = fixedpoint(f2, v_init)\n",
    "sol_V2 = V2.zero\n",
    "s_policy, ϕ_policy = T(wp, sol_V2, ret_policies=true)\n",
    "\n",
    "# Turn the policy function arrays into CoordInterpGrid objects for interpolation\n",
    "s = LinearInterpolation(wp.x_grid, s_policy, extrapolation_bc=Line())\n",
    "ϕ = LinearInterpolation(wp.x_grid, ϕ_policy, extrapolation_bc=Line())\n",
    "\n",
    "h_func(x, b, U) = (1 - b) * G(x, ϕ(x)) + b * max(G(x, ϕ(x)), U)"
   ]
  },
  {
   "cell_type": "code",
   "execution_count": 6,
   "metadata": {
    "hide-output": false
   },
   "outputs": [
    {
     "ename": "ErrorException",
     "evalue": "Cannot convert Float64 to series data for plotting",
     "output_type": "error",
     "traceback": [
      "Cannot convert Float64 to series data for plotting",
      "",
      "Stacktrace:",
      " [1] error(::String) at ./error.jl:33",
      " [2] prepareSeriesData(::Float64) at /Users/arnavsood/.julia/packages/Plots/Ih71u/src/series.jl:13",
      " [3] convertToAnyVector(::Float64) at /Users/arnavsood/.julia/packages/Plots/Ih71u/src/series.jl:24",
      " [4] iterate(::Base.Generator{Array{Any,1},typeof(Plots.convertToAnyVector)}) at ./generator.jl:47",
      " [5] append_any(::Any, ::Vararg{Any,N} where N) at ./essentials.jl:722",
      " [6] convertToAnyVector at /Users/arnavsood/.julia/packages/Plots/Ih71u/src/series.jl:33 [inlined]",
      " [7] macro expansion at /Users/arnavsood/.julia/packages/Plots/Ih71u/src/series.jl:113 [inlined]",
      " [8] apply_recipe(::Dict{Symbol,Any}, ::Type{Plots.SliceIt}, ::Array{Any,1}, ::Array{Any,1}, ::Nothing) at /Users/arnavsood/.julia/packages/RecipesBase/zBoFG/src/RecipesBase.jl:275",
      " [9] _process_userrecipes(::Plots.Plot{Plots.GRBackend}, ::Dict{Symbol,Any}, ::Tuple{Array{Any,1},Array{Any,1}}) at /Users/arnavsood/.julia/packages/Plots/Ih71u/src/pipeline.jl:83",
      " [10] _plot!(::Plots.Plot{Plots.GRBackend}, ::Dict{Symbol,Any}, ::Tuple{Array{Any,1},Array{Any,1}}) at /Users/arnavsood/.julia/packages/Plots/Ih71u/src/plot.jl:178",
      " [11] #plot!#138(::Base.Iterators.Pairs{Symbol,Any,NTuple{5,Symbol},NamedTuple{(:alpha, :color, :lims, :ticks, :seriestype),Tuple{Float64,Symbol,Tuple{Int64,Float64},Array{Float64,1},Symbol}}}, ::typeof(plot!), ::Plots.Plot{Plots.GRBackend}, ::Array{Any,1}, ::Vararg{Array{Any,1},N} where N) at /Users/arnavsood/.julia/packages/Plots/Ih71u/src/plot.jl:158",
      " [12] (::getfield(RecipesBase, Symbol(\"#kw##plot!\")))(::NamedTuple{(:alpha, :color, :lims, :ticks, :seriestype),Tuple{Float64,Symbol,Tuple{Int64,Float64},Array{Float64,1},Symbol}}, ::typeof(plot!), ::Plots.Plot{Plots.GRBackend}, ::Array{Any,1}, ::Vararg{Array{Any,1},N} where N) at ./none:0",
      " [13] #plot!#137(::Base.Iterators.Pairs{Symbol,Any,NTuple{5,Symbol},NamedTuple{(:alpha, :color, :lims, :ticks, :seriestype),Tuple{Float64,Symbol,Tuple{Int64,Float64},Array{Float64,1},Symbol}}}, ::typeof(plot!), ::Array{Any,1}, ::Vararg{Array{Any,1},N} where N) at /Users/arnavsood/.julia/packages/Plots/Ih71u/src/plot.jl:150",
      " [14] (::getfield(RecipesBase, Symbol(\"#kw##plot!\")))(::NamedTuple{(:alpha, :color, :lims, :ticks, :seriestype),Tuple{Float64,Symbol,Tuple{Int64,Float64},Array{Float64,1},Symbol}}, ::typeof(plot!), ::Array{Any,1}, ::Array{Any,1}) at ./none:0",
      " [15] #scatter!#371(::Base.Iterators.Pairs{Symbol,Any,NTuple{4,Symbol},NamedTuple{(:alpha, :color, :lims, :ticks),Tuple{Float64,Symbol,Tuple{Int64,Float64},Array{Float64,1}}}}, ::typeof(scatter!), ::Array{Any,1}, ::Vararg{Array{Any,1},N} where N) at /Users/arnavsood/.julia/packages/RecipesBase/zBoFG/src/RecipesBase.jl:370",
      " [16] (::getfield(Plots, Symbol(\"#kw##scatter!\")))(::NamedTuple{(:alpha, :color, :lims, :ticks),Tuple{Float64,Symbol,Tuple{Int64,Float64},Array{Float64,1}}}, ::typeof(scatter!), ::Array{Any,1}, ::Vararg{Array{Any,1},N} where N) at ./none:0",
      " [17] top-level scope at In[6]:22"
     ]
    }
   ],
   "source": [
    "using Random\n",
    "Random.seed!(42)\n",
    "K = 50\n",
    "\n",
    "plot_grid_max, plot_grid_size = 1.2, 100\n",
    "plot_grid = range(0, plot_grid_max, length = plot_grid_size)\n",
    "ticks = [0.25, 0.5, 0.75, 1.0]\n",
    "\n",
    "xs = []\n",
    "ys = []\n",
    "for x in plot_grid\n",
    "    for i=1:K\n",
    "        b = rand() < π_func(s(x)) ? 1 : 0\n",
    "        U = rand(wp.F)\n",
    "        y = h_func(x, b, U)\n",
    "        push!(xs, x)\n",
    "        push!(ys, y)\n",
    "    end\n",
    "end\n",
    "\n",
    "plot(plot_grid, plot_grid, color=:black, linestyle=:dash, legend=:none)\n",
    "scatter!(xs, ys, alpha=0.25, color=:green, lims=(0, plot_grid_max), ticks=ticks)\n",
    "plot!(xlabel=\"x_t\", ylabel=\"x_{t+1}\", guidefont=font(16))"
   ]
  },
  {
   "cell_type": "markdown",
   "metadata": {},
   "source": [
    "Looking at the dynamics, we can see that\n",
    "\n",
    "- If $ x_t $ is below about 0.2 the dynamics are random, but\n",
    "  $ x_{t+1} > x_t $ is very likely  \n",
    "- As $ x_t $ increases the dynamics become deterministic, and\n",
    "  $ x_t $ converges to a steady state value close to 1  \n",
    "\n",
    "\n",
    "Referring back to the figure here\n",
    "\n",
    "[https://lectures.quantecon.org/jl/jv.html#Solving-for-Policies](https://lectures.quantecon.org/jl/jv.html#Solving-for-Policies)\n",
    "\n",
    "we see that $ x_t \\approx 1 $ means that\n",
    "$ s_t = s(x_t) \\approx 0 $ and\n",
    "$ \\phi_t = \\phi(x_t) \\approx 0.6 $"
   ]
  },
  {
   "cell_type": "markdown",
   "metadata": {},
   "source": [
    "### Exercise 2"
   ]
  },
  {
   "cell_type": "code",
   "execution_count": 7,
   "metadata": {
    "hide-output": false
   },
   "outputs": [
    {
     "data": {
      "image/png": "[encoded data removed]"
     },
     "execution_count": 7,
     "metadata": {},
     "output_type": "execute_result"
    }
   ],
   "source": [
    "wp = JvWorker(grid_size=25)\n",
    "\n",
    "xbar(ϕ) = (wp.A * ϕ^wp.α)^(1.0 / (1.0 - wp.α))\n",
    "\n",
    "ϕ_grid = range(0, 1, length = 100)\n",
    "\n",
    "plot(ϕ_grid, [xbar(ϕ) * (1 - ϕ) for ϕ in ϕ_grid], color = :blue,\n",
    "     label = \"w^phi\", legendfont = font(12), xlabel = \"phi\",\n",
    "     guidefont = font(16), grid = false, legend = :topleft)"
   ]
  },
  {
   "cell_type": "markdown",
   "metadata": {},
   "source": [
    "Observe that the maximizer is around 0.6\n",
    "\n",
    "This this is similar to the long run value for $ \\phi $ obtained in\n",
    "exercise 1\n",
    "\n",
    "Hence the behaviour of the infinitely patent worker is similar to that\n",
    "of the worker with $ \\beta = 0.96 $\n",
    "\n",
    "This seems reasonable, and helps us confirm that our dynamic programming\n",
    "solutions are probably correct"
   ]
  }
 ],
 "metadata": {
  "download_nb": 1,
  "download_nb_path": "https://lectures.quantecon.org/",
  "filename": "jv.rst",
  "filename_with_path": "dynamic_programming/jv",
  "kernelspec": {
   "display_name": "Julia 1.2",
   "language": "julia",
   "name": "julia-1.2"
  },
  "language_info": {
   "file_extension": ".jl",
   "mimetype": "application/julia",
   "name": "julia",
   "version": "1.2.0"
  },
  "title": "Job Search V: On-the-Job Search"
 },
 "nbformat": 4,
 "nbformat_minor": 2
}
