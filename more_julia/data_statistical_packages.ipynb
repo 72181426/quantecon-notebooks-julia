{
 "cells": [
  {
   "cell_type": "markdown",
   "metadata": {},
   "source": [
    "\n",
    "<a id='data-statistical-packages'></a>\n",
    "<div id=\"qe-notebook-header\" style=\"text-align:right;\">\n",
    "        <a href=\"https://quantecon.org/\" title=\"quantecon.org\">\n",
    "                <img style=\"width:250px;display:inline;\" src=\"https://assets.quantecon.org/img/qe-menubar-logo.svg\" alt=\"QuantEcon\">\n",
    "        </a>\n",
    "</div>"
   ]
  },
  {
   "cell_type": "markdown",
   "metadata": {},
   "source": [
    "# Data and Statistics Packages"
   ]
  },
  {
   "cell_type": "markdown",
   "metadata": {},
   "source": [
    "## Contents\n",
    "\n",
    "- [Data and Statistics Packages](#Data-and-Statistics-Packages)  \n",
    "  - [Overview](#Overview)  \n",
    "  - [DataFrames](#DataFrames)  \n",
    "  - [Statistics and Econometrics](#Statistics-and-Econometrics)  "
   ]
  },
  {
   "cell_type": "markdown",
   "metadata": {},
   "source": [
    "## Overview\n",
    "\n",
    "This lecture explores some of the key packages for working with data and doing statistics in Julia\n",
    "\n",
    "In particular, we will examine the `DataFrame` object in detail (i.e., construction, manipulation, querying, visualization, and nuances like missing data)\n",
    "\n",
    "While Julia is not an ideal language for pure cookie-cutter statistical analysis, it has many useful packages to provide those tools as part of a more general solution\n",
    "\n",
    "This list is not exhaustive, and others can be found in organizations such as [JuliaStats](https://github.com/JuliaStats), [JuliaData](https://github.com/JuliaData/), and  [QueryVerse](https://github.com/queryverse)"
   ]
  },
  {
   "cell_type": "markdown",
   "metadata": {},
   "source": [
    "### Setup"
   ]
  },
  {
   "cell_type": "code",
   "execution_count": 1,
   "metadata": {
    "hide-output": true
   },
   "outputs": [],
   "source": [
    "using InstantiateFromURL\n",
    "github_project(\"QuantEcon/quantecon-notebooks-julia\", version = \"0.3.0\")"
   ]
  },
  {
   "cell_type": "code",
   "execution_count": 2,
   "metadata": {
    "hide-output": true
   },
   "outputs": [],
   "source": [
    "using LinearAlgebra, Statistics\n",
    "using DataFrames, RDatasets, DataFramesMeta, CategoricalArrays, Query, VegaLite\n",
    "using DataVoyager, GLM"
   ]
  },
  {
   "cell_type": "markdown",
   "metadata": {},
   "source": [
    "## DataFrames\n",
    "\n",
    "A useful package for working with data is [DataFrames.jl](https://github.com/JuliaStats/DataFrames.jl)\n",
    "\n",
    "The most important data type provided is a `DataFrame`, a two dimensional array for storing heterogeneous data\n",
    "\n",
    "Although data can be heterogeneous within a `DataFrame`, the contents of the columns must be homogeneous\n",
    "(of the same type)\n",
    "\n",
    "This is analogous to a `data.frame` in R, a `DataFrame` in Pandas (Python) or, more loosely, a spreadsheet in Excel\n",
    "\n",
    "There are a few different ways to create a DataFrame"
   ]
  },
  {
   "cell_type": "markdown",
   "metadata": {},
   "source": [
    "### Constructing and Accessing a DataFrame\n",
    "\n",
    "The first is to set up columns and construct a dataframe by assigning names"
   ]
  },
  {
   "cell_type": "code",
   "execution_count": 3,
   "metadata": {
    "hide-output": false
   },
   "outputs": [
    {
     "data": {
      "text/html": [
       "<table class=\"data-frame\"><thead><tr><th></th><th>commod</th><th>price</th></tr><tr><th></th><th>String</th><th>Float64⍰</th></tr></thead><tbody><p>4 rows × 2 columns</p><tr><th>1</th><td>crude</td><td>4.2</td></tr><tr><th>2</th><td>gas</td><td>11.3</td></tr><tr><th>3</th><td>gold</td><td>12.1</td></tr><tr><th>4</th><td>silver</td><td>missing</td></tr></tbody></table>"
      ],
      "text/latex": [
       "\\begin{tabular}{r|cc}\n",
       "\t& commod & price\\\\\n",
       "\t\\hline\n",
       "\t& String & Float64⍰\\\\\n",
       "\t\\hline\n",
       "\t1 & crude & 4.2 \\\\\n",
       "\t2 & gas & 11.3 \\\\\n",
       "\t3 & gold & 12.1 \\\\\n",
       "\t4 & silver &  \\\\\n",
       "\\end{tabular}\n"
      ],
      "text/plain": [
       "4×2 DataFrame\n",
       "│ Row │ commod │ price    │\n",
       "│     │ \u001b[90mString\u001b[39m │ \u001b[90mFloat64⍰\u001b[39m │\n",
       "├─────┼────────┼──────────┤\n",
       "│ 1   │ crude  │ 4.2      │\n",
       "│ 2   │ gas    │ 11.3     │\n",
       "│ 3   │ gold   │ 12.1     │\n",
       "│ 4   │ silver │ \u001b[90mmissing\u001b[39m  │"
      ]
     },
     "execution_count": 3,
     "metadata": {},
     "output_type": "execute_result"
    },
    {
     "name": "stderr",
     "output_type": "stream",
     "text": [
      "┌ Warning: `T` is deprecated, use `nonmissingtype` instead.\n",
      "│   caller = compacttype(::Type, ::Int64) at show.jl:39\n",
      "└ @ DataFrames /home/ubuntu/.julia/packages/DataFrames/VrZOl/src/abstractdataframe/show.jl:39\n"
     ]
    }
   ],
   "source": [
    "using DataFrames, RDatasets  # RDatasets provides good standard data examples from R\n",
    "\n",
    "# note use of missing\n",
    "commodities = [\"crude\", \"gas\", \"gold\", \"silver\"]\n",
    "last_price = [4.2, 11.3, 12.1, missing]\n",
    "df = DataFrame(commod = commodities, price = last_price)"
   ]
  },
  {
   "cell_type": "markdown",
   "metadata": {},
   "source": [
    "Columns of the `DataFrame` can be accessed by name using `df.col`, as below"
   ]
  },
  {
   "cell_type": "code",
   "execution_count": 4,
   "metadata": {
    "hide-output": false
   },
   "outputs": [
    {
     "data": {
      "text/plain": [
       "4-element Array{Union{Missing, Float64},1}:\n",
       "  4.2     \n",
       " 11.3     \n",
       " 12.1     \n",
       "   missing"
      ]
     },
     "execution_count": 4,
     "metadata": {},
     "output_type": "execute_result"
    }
   ],
   "source": [
    "df.price"
   ]
  },
  {
   "cell_type": "markdown",
   "metadata": {},
   "source": [
    "Note that the type of this array has values `Union{Missing, Float64}` since it was created with a `missing` value"
   ]
  },
  {
   "cell_type": "code",
   "execution_count": 5,
   "metadata": {
    "hide-output": false
   },
   "outputs": [
    {
     "data": {
      "text/plain": [
       "4-element Array{String,1}:\n",
       " \"crude\" \n",
       " \"gas\"   \n",
       " \"gold\"  \n",
       " \"silver\""
      ]
     },
     "execution_count": 5,
     "metadata": {},
     "output_type": "execute_result"
    }
   ],
   "source": [
    "df.commod"
   ]
  },
  {
   "cell_type": "markdown",
   "metadata": {},
   "source": [
    "The `DataFrames.jl` package provides a number of methods for acting on `DataFrame`’s, such as `describe`"
   ]
  },
  {
   "cell_type": "code",
   "execution_count": 6,
   "metadata": {
    "hide-output": false
   },
   "outputs": [
    {
     "data": {
      "text/html": [
       "<table class=\"data-frame\"><thead><tr><th></th><th>variable</th><th>mean</th><th>min</th><th>median</th><th>max</th><th>nunique</th><th>nmissing</th><th>eltype</th></tr><tr><th></th><th>Symbol</th><th>Union…</th><th>Any</th><th>Union…</th><th>Any</th><th>Union…</th><th>Union…</th><th>DataType</th></tr></thead><tbody><p>2 rows × 8 columns</p><tr><th>1</th><td>commod</td><td></td><td>crude</td><td></td><td>silver</td><td>4</td><td></td><td>String</td></tr><tr><th>2</th><td>price</td><td>9.2</td><td>4.2</td><td>11.3</td><td>12.1</td><td></td><td>1</td><td>Float64</td></tr></tbody></table>"
      ],
      "text/latex": [
       "\\begin{tabular}{r|cccccccc}\n",
       "\t& variable & mean & min & median & max & nunique & nmissing & eltype\\\\\n",
       "\t\\hline\n",
       "\t& Symbol & Union… & Any & Union… & Any & Union… & Union… & DataType\\\\\n",
       "\t\\hline\n",
       "\t1 & commod &  & crude &  & silver & 4 &  & String \\\\\n",
       "\t2 & price & 9.2 & 4.2 & 11.3 & 12.1 &  & 1 & Float64 \\\\\n",
       "\\end{tabular}\n"
      ],
      "text/plain": [
       "2×8 DataFrame. Omitted printing of 1 columns\n",
       "│ Row │ variable │ mean   │ min   │ median │ max    │ nunique │ nmissing │\n",
       "│     │ \u001b[90mSymbol\u001b[39m   │ \u001b[90mUnion…\u001b[39m │ \u001b[90mAny\u001b[39m   │ \u001b[90mUnion…\u001b[39m │ \u001b[90mAny\u001b[39m    │ \u001b[90mUnion…\u001b[39m  │ \u001b[90mUnion…\u001b[39m   │\n",
       "├─────┼──────────┼────────┼───────┼────────┼────────┼─────────┼──────────┤\n",
       "│ 1   │ commod   │        │ crude │        │ silver │ 4       │          │\n",
       "│ 2   │ price    │ 9.2    │ 4.2   │ 11.3   │ 12.1   │         │ 1        │"
      ]
     },
     "execution_count": 6,
     "metadata": {},
     "output_type": "execute_result"
    }
   ],
   "source": [
    "DataFrames.describe(df)"
   ]
  },
  {
   "cell_type": "markdown",
   "metadata": {},
   "source": [
    "While often data will be generated all at once, or read from a file, you can add to a `DataFrame` by providing the key parameters"
   ]
  },
  {
   "cell_type": "code",
   "execution_count": 7,
   "metadata": {
    "hide-output": false
   },
   "outputs": [
    {
     "data": {
      "text/html": [
       "<table class=\"data-frame\"><thead><tr><th></th><th>commod</th><th>price</th></tr><tr><th></th><th>String</th><th>Float64⍰</th></tr></thead><tbody><p>5 rows × 2 columns</p><tr><th>1</th><td>crude</td><td>4.2</td></tr><tr><th>2</th><td>gas</td><td>11.3</td></tr><tr><th>3</th><td>gold</td><td>12.1</td></tr><tr><th>4</th><td>silver</td><td>missing</td></tr><tr><th>5</th><td>nickel</td><td>5.1</td></tr></tbody></table>"
      ],
      "text/latex": [
       "\\begin{tabular}{r|cc}\n",
       "\t& commod & price\\\\\n",
       "\t\\hline\n",
       "\t& String & Float64⍰\\\\\n",
       "\t\\hline\n",
       "\t1 & crude & 4.2 \\\\\n",
       "\t2 & gas & 11.3 \\\\\n",
       "\t3 & gold & 12.1 \\\\\n",
       "\t4 & silver &  \\\\\n",
       "\t5 & nickel & 5.1 \\\\\n",
       "\\end{tabular}\n"
      ],
      "text/plain": [
       "5×2 DataFrame\n",
       "│ Row │ commod │ price    │\n",
       "│     │ \u001b[90mString\u001b[39m │ \u001b[90mFloat64⍰\u001b[39m │\n",
       "├─────┼────────┼──────────┤\n",
       "│ 1   │ crude  │ 4.2      │\n",
       "│ 2   │ gas    │ 11.3     │\n",
       "│ 3   │ gold   │ 12.1     │\n",
       "│ 4   │ silver │ \u001b[90mmissing\u001b[39m  │\n",
       "│ 5   │ nickel │ 5.1      │"
      ]
     },
     "execution_count": 7,
     "metadata": {},
     "output_type": "execute_result"
    }
   ],
   "source": [
    "nt = (commod = \"nickel\", price= 5.1)\n",
    "push!(df, nt)"
   ]
  },
  {
   "cell_type": "markdown",
   "metadata": {},
   "source": [
    "Named tuples can also be used to construct a `DataFrame`, and have it properly deduce all types"
   ]
  },
  {
   "cell_type": "code",
   "execution_count": 8,
   "metadata": {
    "hide-output": false
   },
   "outputs": [
    {
     "data": {
      "text/html": [
       "<table class=\"data-frame\"><thead><tr><th></th><th>t</th><th>col1</th></tr><tr><th></th><th>Int64</th><th>Float64</th></tr></thead><tbody><p>2 rows × 2 columns</p><tr><th>1</th><td>1</td><td>3.0</td></tr><tr><th>2</th><td>2</td><td>4.0</td></tr></tbody></table>"
      ],
      "text/latex": [
       "\\begin{tabular}{r|cc}\n",
       "\t& t & col1\\\\\n",
       "\t\\hline\n",
       "\t& Int64 & Float64\\\\\n",
       "\t\\hline\n",
       "\t1 & 1 & 3.0 \\\\\n",
       "\t2 & 2 & 4.0 \\\\\n",
       "\\end{tabular}\n"
      ],
      "text/plain": [
       "2×2 DataFrame\n",
       "│ Row │ t     │ col1    │\n",
       "│     │ \u001b[90mInt64\u001b[39m │ \u001b[90mFloat64\u001b[39m │\n",
       "├─────┼───────┼─────────┤\n",
       "│ 1   │ 1     │ 3.0     │\n",
       "│ 2   │ 2     │ 4.0     │"
      ]
     },
     "execution_count": 8,
     "metadata": {},
     "output_type": "execute_result"
    }
   ],
   "source": [
    "nt = (t = 1, col1 = 3.0)\n",
    "df2 = DataFrame([nt])\n",
    "push!(df2, (t=2, col1 = 4.0))"
   ]
  },
  {
   "cell_type": "markdown",
   "metadata": {},
   "source": [
    "In order to modify a column, access the mutating version by the symbol `df[!, :col]`"
   ]
  },
  {
   "cell_type": "code",
   "execution_count": 9,
   "metadata": {
    "hide-output": false
   },
   "outputs": [
    {
     "data": {
      "text/plain": [
       "5-element Array{Union{Missing, Float64},1}:\n",
       "  4.2     \n",
       " 11.3     \n",
       " 12.1     \n",
       "   missing\n",
       "  5.1     "
      ]
     },
     "execution_count": 9,
     "metadata": {},
     "output_type": "execute_result"
    }
   ],
   "source": [
    "df[!, :price]"
   ]
  },
  {
   "cell_type": "markdown",
   "metadata": {},
   "source": [
    "Which allows modifications, like other mutating `!` functions in julia"
   ]
  },
  {
   "cell_type": "code",
   "execution_count": 10,
   "metadata": {
    "hide-output": false
   },
   "outputs": [
    {
     "data": {
      "text/plain": [
       "5-element Array{Union{Missing, Float64},1}:\n",
       "  8.4     \n",
       " 22.6     \n",
       " 24.2     \n",
       "   missing\n",
       " 10.2     "
      ]
     },
     "execution_count": 10,
     "metadata": {},
     "output_type": "execute_result"
    }
   ],
   "source": [
    "df[!, :price] *= 2.0  # double prices"
   ]
  },
  {
   "cell_type": "markdown",
   "metadata": {},
   "source": [
    "As discussed in the next section, note that the [fundamental types](https://lectures.quantecon.org/getting_started_julia/fundamental_types.html#missing), is propagated, i.e. `missing * 2 === missing`"
   ]
  },
  {
   "cell_type": "markdown",
   "metadata": {},
   "source": [
    "### Working with Missing\n",
    "\n",
    "As we discussed in [fundamental types](https://lectures.quantecon.org/getting_started_julia/fundamental_types.html#missing), the semantics of `missing` are that mathematical operations will not silently ignore it\n",
    "\n",
    "In order to allow `missing` in a column, you can create/load the `DataFrame`\n",
    "from a source with `missing`’s, or call `allowmissing!` on a column"
   ]
  },
  {
   "cell_type": "code",
   "execution_count": 11,
   "metadata": {
    "hide-output": false
   },
   "outputs": [
    {
     "data": {
      "text/html": [
       "<table class=\"data-frame\"><thead><tr><th></th><th>t</th><th>col1</th></tr><tr><th></th><th>Int64</th><th>Float64⍰</th></tr></thead><tbody><p>4 rows × 2 columns</p><tr><th>1</th><td>1</td><td>3.0</td></tr><tr><th>2</th><td>2</td><td>4.0</td></tr><tr><th>3</th><td>3</td><td>missing</td></tr><tr><th>4</th><td>4</td><td>5.1</td></tr></tbody></table>"
      ],
      "text/latex": [
       "\\begin{tabular}{r|cc}\n",
       "\t& t & col1\\\\\n",
       "\t\\hline\n",
       "\t& Int64 & Float64⍰\\\\\n",
       "\t\\hline\n",
       "\t1 & 1 & 3.0 \\\\\n",
       "\t2 & 2 & 4.0 \\\\\n",
       "\t3 & 3 &  \\\\\n",
       "\t4 & 4 & 5.1 \\\\\n",
       "\\end{tabular}\n"
      ],
      "text/plain": [
       "4×2 DataFrame\n",
       "│ Row │ t     │ col1     │\n",
       "│     │ \u001b[90mInt64\u001b[39m │ \u001b[90mFloat64⍰\u001b[39m │\n",
       "├─────┼───────┼──────────┤\n",
       "│ 1   │ 1     │ 3.0      │\n",
       "│ 2   │ 2     │ 4.0      │\n",
       "│ 3   │ 3     │ \u001b[90mmissing\u001b[39m  │\n",
       "│ 4   │ 4     │ 5.1      │"
      ]
     },
     "execution_count": 11,
     "metadata": {},
     "output_type": "execute_result"
    }
   ],
   "source": [
    "allowmissing!(df2, :col1) # necessary to add in a for col1\n",
    "push!(df2, (t=3, col1 = missing))\n",
    "push!(df2, (t=4, col1 = 5.1))"
   ]
  },
  {
   "cell_type": "markdown",
   "metadata": {},
   "source": [
    "We can see the propagation of `missing` to caller functions, as well as a way to efficiently calculate with non-missing data"
   ]
  },
  {
   "cell_type": "code",
   "execution_count": 12,
   "metadata": {
    "hide-output": false
   },
   "outputs": [
    {
     "name": "stdout",
     "output_type": "stream",
     "text": [
      "mean(df2.col1) = missing\n",
      "mean(skipmissing(df2.col1)) = 4.033333333333333\n"
     ]
    },
    {
     "data": {
      "text/plain": [
       "4.033333333333333"
      ]
     },
     "execution_count": 12,
     "metadata": {},
     "output_type": "execute_result"
    }
   ],
   "source": [
    "@show mean(df2.col1)\n",
    "@show mean(skipmissing(df2.col1))"
   ]
  },
  {
   "cell_type": "markdown",
   "metadata": {},
   "source": [
    "And to replace the `missing`"
   ]
  },
  {
   "cell_type": "code",
   "execution_count": 13,
   "metadata": {
    "hide-output": false
   },
   "outputs": [
    {
     "data": {
      "text/plain": [
       "4-element Array{Union{Missing, Float64},1}:\n",
       " 3.0\n",
       " 4.0\n",
       " 0.0\n",
       " 5.1"
      ]
     },
     "execution_count": 13,
     "metadata": {},
     "output_type": "execute_result"
    }
   ],
   "source": [
    "df2.col1  .= coalesce.(df2.col1, 0.0) # replace all missing with 0.0"
   ]
  },
  {
   "cell_type": "markdown",
   "metadata": {},
   "source": [
    "### Manipulating and Transforming DataFrames\n",
    "\n",
    "One way to do an additional calculation with a `DataFrame` is to tuse the `@transform` macro from `DataFramesMeta.jl`"
   ]
  },
  {
   "cell_type": "code",
   "execution_count": 14,
   "metadata": {
    "hide-output": false
   },
   "outputs": [
    {
     "data": {
      "text/html": [
       "<table class=\"data-frame\"><thead><tr><th></th><th>t</th><th>col1</th><th>col2</th></tr><tr><th></th><th>Int64</th><th>Float64⍰</th><th>Float64</th></tr></thead><tbody><p>4 rows × 3 columns</p><tr><th>1</th><td>1</td><td>3.0</td><td>9.0</td></tr><tr><th>2</th><td>2</td><td>4.0</td><td>16.0</td></tr><tr><th>3</th><td>3</td><td>0.0</td><td>0.0</td></tr><tr><th>4</th><td>4</td><td>5.1</td><td>26.01</td></tr></tbody></table>"
      ],
      "text/latex": [
       "\\begin{tabular}{r|ccc}\n",
       "\t& t & col1 & col2\\\\\n",
       "\t\\hline\n",
       "\t& Int64 & Float64⍰ & Float64\\\\\n",
       "\t\\hline\n",
       "\t1 & 1 & 3.0 & 9.0 \\\\\n",
       "\t2 & 2 & 4.0 & 16.0 \\\\\n",
       "\t3 & 3 & 0.0 & 0.0 \\\\\n",
       "\t4 & 4 & 5.1 & 26.01 \\\\\n",
       "\\end{tabular}\n"
      ],
      "text/plain": [
       "4×3 DataFrame\n",
       "│ Row │ t     │ col1     │ col2    │\n",
       "│     │ \u001b[90mInt64\u001b[39m │ \u001b[90mFloat64⍰\u001b[39m │ \u001b[90mFloat64\u001b[39m │\n",
       "├─────┼───────┼──────────┼─────────┤\n",
       "│ 1   │ 1     │ 3.0      │ 9.0     │\n",
       "│ 2   │ 2     │ 4.0      │ 16.0    │\n",
       "│ 3   │ 3     │ 0.0      │ 0.0     │\n",
       "│ 4   │ 4     │ 5.1      │ 26.01   │"
      ]
     },
     "execution_count": 14,
     "metadata": {},
     "output_type": "execute_result"
    }
   ],
   "source": [
    "using DataFramesMeta\n",
    "f(x) = x^2\n",
    "df2 = @transform(df2, col2 = f.(:col1))"
   ]
  },
  {
   "cell_type": "markdown",
   "metadata": {},
   "source": [
    "### Categorical Data\n",
    "\n",
    "For data that is [categorical](https://juliadata.github.io/DataFrames.jl/stable/man/categorical.html#Categorical-Data-1)"
   ]
  },
  {
   "cell_type": "code",
   "execution_count": 15,
   "metadata": {
    "hide-output": false
   },
   "outputs": [
    {
     "name": "stderr",
     "output_type": "stream",
     "text": [
      "┌ Warning: `T` is deprecated, use `nonmissingtype` instead.\n",
      "│   caller = catvaluetype at array.jl:614 [inlined]\n",
      "└ @ Core /home/ubuntu/.julia/packages/CategoricalArrays/xjesC/src/array.jl:614\n"
     ]
    },
    {
     "data": {
      "text/html": [
       "<table class=\"data-frame\"><thead><tr><th></th><th>id</th><th>y</th></tr><tr><th></th><th>Int64</th><th>Categorical…</th></tr></thead><tbody><p>4 rows × 2 columns</p><tr><th>1</th><td>1</td><td>old</td></tr><tr><th>2</th><td>2</td><td>young</td></tr><tr><th>3</th><td>3</td><td>young</td></tr><tr><th>4</th><td>4</td><td>old</td></tr></tbody></table>"
      ],
      "text/latex": [
       "\\begin{tabular}{r|cc}\n",
       "\t& id & y\\\\\n",
       "\t\\hline\n",
       "\t& Int64 & Categorical…\\\\\n",
       "\t\\hline\n",
       "\t1 & 1 & old \\\\\n",
       "\t2 & 2 & young \\\\\n",
       "\t3 & 3 & young \\\\\n",
       "\t4 & 4 & old \\\\\n",
       "\\end{tabular}\n"
      ],
      "text/plain": [
       "4×2 DataFrame\n",
       "│ Row │ id    │ y            │\n",
       "│     │ \u001b[90mInt64\u001b[39m │ \u001b[90mCategorical…\u001b[39m │\n",
       "├─────┼───────┼──────────────┤\n",
       "│ 1   │ 1     │ old          │\n",
       "│ 2   │ 2     │ young        │\n",
       "│ 3   │ 3     │ young        │\n",
       "│ 4   │ 4     │ old          │"
      ]
     },
     "execution_count": 15,
     "metadata": {},
     "output_type": "execute_result"
    }
   ],
   "source": [
    "using CategoricalArrays\n",
    "id = [1, 2, 3, 4]\n",
    "y = [\"old\", \"young\", \"young\", \"old\"]\n",
    "y = CategoricalArray(y)\n",
    "df = DataFrame(id=id, y=y)"
   ]
  },
  {
   "cell_type": "code",
   "execution_count": 16,
   "metadata": {
    "hide-output": false
   },
   "outputs": [
    {
     "data": {
      "text/plain": [
       "2-element Array{String,1}:\n",
       " \"old\"  \n",
       " \"young\""
      ]
     },
     "execution_count": 16,
     "metadata": {},
     "output_type": "execute_result"
    }
   ],
   "source": [
    "levels(df.y)"
   ]
  },
  {
   "cell_type": "markdown",
   "metadata": {},
   "source": [
    "### Visualization, Querying, and Plots\n",
    "\n",
    "The `DataFrame` (and similar types that fulfill a standard generic interface) can fit into a variety of packages\n",
    "\n",
    "One set of them is the [QueryVerse](https://github.com/queryverse)\n",
    "\n",
    "**Note:** The QueryVerse, in the same spirit as R’s tidyverse, makes heavy use of the pipeline syntax `|>`"
   ]
  },
  {
   "cell_type": "code",
   "execution_count": 17,
   "metadata": {
    "hide-output": false
   },
   "outputs": [
    {
     "name": "stdout",
     "output_type": "stream",
     "text": [
      "g(f(x)) = 2.1972245773362196\n",
      "(x |> f) |> g = 2.1972245773362196\n"
     ]
    }
   ],
   "source": [
    "x = 3.0\n",
    "f(x) = x^2\n",
    "g(x) = log(x)\n",
    "\n",
    "@show g(f(x))\n",
    "@show x |> f |> g; # pipes nest function calls"
   ]
  },
  {
   "cell_type": "markdown",
   "metadata": {},
   "source": [
    "To give an example directly from the source of the LINQ inspired [Query.jl](http://www.queryverse.org/Query.jl/stable/)"
   ]
  },
  {
   "cell_type": "code",
   "execution_count": 18,
   "metadata": {
    "hide-output": false
   },
   "outputs": [
    {
     "data": {
      "text/html": [
       "<table class=\"data-frame\"><thead><tr><th></th><th>name</th><th>children</th></tr><tr><th></th><th>String</th><th>Int64</th></tr></thead><tbody><p>1 rows × 2 columns</p><tr><th>1</th><td>Kirk</td><td>2</td></tr></tbody></table>"
      ],
      "text/latex": [
       "\\begin{tabular}{r|cc}\n",
       "\t& name & children\\\\\n",
       "\t\\hline\n",
       "\t& String & Int64\\\\\n",
       "\t\\hline\n",
       "\t1 & Kirk & 2 \\\\\n",
       "\\end{tabular}\n"
      ],
      "text/plain": [
       "1×2 DataFrame\n",
       "│ Row │ name   │ children │\n",
       "│     │ \u001b[90mString\u001b[39m │ \u001b[90mInt64\u001b[39m    │\n",
       "├─────┼────────┼──────────┤\n",
       "│ 1   │ Kirk   │ 2        │"
      ]
     },
     "execution_count": 18,
     "metadata": {},
     "output_type": "execute_result"
    }
   ],
   "source": [
    "using Query\n",
    "\n",
    "df = DataFrame(name=[\"John\", \"Sally\", \"Kirk\"], age=[23., 42., 59.], children=[3,5,2])\n",
    "\n",
    "x = @from i in df begin\n",
    "    @where i.age>50\n",
    "    @select {i.name, i.children}\n",
    "    @collect DataFrame\n",
    "end"
   ]
  },
  {
   "cell_type": "markdown",
   "metadata": {},
   "source": [
    "While it is possible to just use the `Plots.jl` library, there may be better options for displaying tabular data – such as [VegaLite.jl](https://github.com/queryverse/VegaLite.jl)"
   ]
  },
  {
   "cell_type": "code",
   "execution_count": 19,
   "metadata": {
    "hide-output": false
   },
   "outputs": [
    {
     "data": {
      "application/vnd.vegalite.v3+json": {
       "data": {
        "values": [
         {
          "PetalLength": 1.4,
          "PetalWidth": 0.2,
          "SepalLength": 5.1,
          "SepalWidth": 3.5,
          "Species": "setosa"
         },
         {
          "PetalLength": 1.4,
          "PetalWidth": 0.2,
          "SepalLength": 4.9,
          "SepalWidth": 3.0,
          "Species": "setosa"
         },
         {
          "PetalLength": 1.3,
          "PetalWidth": 0.2,
          "SepalLength": 4.7,
          "SepalWidth": 3.2,
          "Species": "setosa"
         },
         {
          "PetalLength": 1.5,
          "PetalWidth": 0.2,
          "SepalLength": 4.6,
          "SepalWidth": 3.1,
          "Species": "setosa"
         },
         {
          "PetalLength": 1.4,
          "PetalWidth": 0.2,
          "SepalLength": 5.0,
          "SepalWidth": 3.6,
          "Species": "setosa"
         },
         {
          "PetalLength": 1.7,
          "PetalWidth": 0.4,
          "SepalLength": 5.4,
          "SepalWidth": 3.9,
          "Species": "setosa"
         },
         {
          "PetalLength": 1.4,
          "PetalWidth": 0.3,
          "SepalLength": 4.6,
          "SepalWidth": 3.4,
          "Species": "setosa"
         },
         {
          "PetalLength": 1.5,
          "PetalWidth": 0.2,
          "SepalLength": 5.0,
          "SepalWidth": 3.4,
          "Species": "setosa"
         },
         {
          "PetalLength": 1.4,
          "PetalWidth": 0.2,
          "SepalLength": 4.4,
          "SepalWidth": 2.9,
          "Species": "setosa"
         },
         {
          "PetalLength": 1.5,
          "PetalWidth": 0.1,
          "SepalLength": 4.9,
          "SepalWidth": 3.1,
          "Species": "setosa"
         },
         {
          "PetalLength": 1.5,
          "PetalWidth": 0.2,
          "SepalLength": 5.4,
          "SepalWidth": 3.7,
          "Species": "setosa"
         },
         {
          "PetalLength": 1.6,
          "PetalWidth": 0.2,
          "SepalLength": 4.8,
          "SepalWidth": 3.4,
          "Species": "setosa"
         },
         {
          "PetalLength": 1.4,
          "PetalWidth": 0.1,
          "SepalLength": 4.8,
          "SepalWidth": 3.0,
          "Species": "setosa"
         },
         {
          "PetalLength": 1.1,
          "PetalWidth": 0.1,
          "SepalLength": 4.3,
          "SepalWidth": 3.0,
          "Species": "setosa"
         },
         {
          "PetalLength": 1.2,
          "PetalWidth": 0.2,
          "SepalLength": 5.8,
          "SepalWidth": 4.0,
          "Species": "setosa"
         },
         {
          "PetalLength": 1.5,
          "PetalWidth": 0.4,
          "SepalLength": 5.7,
          "SepalWidth": 4.4,
          "Species": "setosa"
         },
         {
          "PetalLength": 1.3,
          "PetalWidth": 0.4,
          "SepalLength": 5.4,
          "SepalWidth": 3.9,
          "Species": "setosa"
         },
         {
          "PetalLength": 1.4,
          "PetalWidth": 0.3,
          "SepalLength": 5.1,
          "SepalWidth": 3.5,
          "Species": "setosa"
         },
         {
          "PetalLength": 1.7,
          "PetalWidth": 0.3,
          "SepalLength": 5.7,
          "SepalWidth": 3.8,
          "Species": "setosa"
         },
         {
          "PetalLength": 1.5,
          "PetalWidth": 0.3,
          "SepalLength": 5.1,
          "SepalWidth": 3.8,
          "Species": "setosa"
         },
         {
          "PetalLength": 1.7,
          "PetalWidth": 0.2,
          "SepalLength": 5.4,
          "SepalWidth": 3.4,
          "Species": "setosa"
         },
         {
          "PetalLength": 1.5,
          "PetalWidth": 0.4,
          "SepalLength": 5.1,
          "SepalWidth": 3.7,
          "Species": "setosa"
         },
         {
          "PetalLength": 1.0,
          "PetalWidth": 0.2,
          "SepalLength": 4.6,
          "SepalWidth": 3.6,
          "Species": "setosa"
         },
         {
          "PetalLength": 1.7,
          "PetalWidth": 0.5,
          "SepalLength": 5.1,
          "SepalWidth": 3.3,
          "Species": "setosa"
         },
         {
          "PetalLength": 1.9,
          "PetalWidth": 0.2,
          "SepalLength": 4.8,
          "SepalWidth": 3.4,
          "Species": "setosa"
         },
         {
          "PetalLength": 1.6,
          "PetalWidth": 0.2,
          "SepalLength": 5.0,
          "SepalWidth": 3.0,
          "Species": "setosa"
         },
         {
          "PetalLength": 1.6,
          "PetalWidth": 0.4,
          "SepalLength": 5.0,
          "SepalWidth": 3.4,
          "Species": "setosa"
         },
         {
          "PetalLength": 1.5,
          "PetalWidth": 0.2,
          "SepalLength": 5.2,
          "SepalWidth": 3.5,
          "Species": "setosa"
         },
         {
          "PetalLength": 1.4,
          "PetalWidth": 0.2,
          "SepalLength": 5.2,
          "SepalWidth": 3.4,
          "Species": "setosa"
         },
         {
          "PetalLength": 1.6,
          "PetalWidth": 0.2,
          "SepalLength": 4.7,
          "SepalWidth": 3.2,
          "Species": "setosa"
         },
         {
          "PetalLength": 1.6,
          "PetalWidth": 0.2,
          "SepalLength": 4.8,
          "SepalWidth": 3.1,
          "Species": "setosa"
         },
         {
          "PetalLength": 1.5,
          "PetalWidth": 0.4,
          "SepalLength": 5.4,
          "SepalWidth": 3.4,
          "Species": "setosa"
         },
         {
          "PetalLength": 1.5,
          "PetalWidth": 0.1,
          "SepalLength": 5.2,
          "SepalWidth": 4.1,
          "Species": "setosa"
         },
         {
          "PetalLength": 1.4,
          "PetalWidth": 0.2,
          "SepalLength": 5.5,
          "SepalWidth": 4.2,
          "Species": "setosa"
         },
         {
          "PetalLength": 1.5,
          "PetalWidth": 0.2,
          "SepalLength": 4.9,
          "SepalWidth": 3.1,
          "Species": "setosa"
         },
         {
          "PetalLength": 1.2,
          "PetalWidth": 0.2,
          "SepalLength": 5.0,
          "SepalWidth": 3.2,
          "Species": "setosa"
         },
         {
          "PetalLength": 1.3,
          "PetalWidth": 0.2,
          "SepalLength": 5.5,
          "SepalWidth": 3.5,
          "Species": "setosa"
         },
         {
          "PetalLength": 1.4,
          "PetalWidth": 0.1,
          "SepalLength": 4.9,
          "SepalWidth": 3.6,
          "Species": "setosa"
         },
         {
          "PetalLength": 1.3,
          "PetalWidth": 0.2,
          "SepalLength": 4.4,
          "SepalWidth": 3.0,
          "Species": "setosa"
         },
         {
          "PetalLength": 1.5,
          "PetalWidth": 0.2,
          "SepalLength": 5.1,
          "SepalWidth": 3.4,
          "Species": "setosa"
         },
         {
          "PetalLength": 1.3,
          "PetalWidth": 0.3,
          "SepalLength": 5.0,
          "SepalWidth": 3.5,
          "Species": "setosa"
         },
         {
          "PetalLength": 1.3,
          "PetalWidth": 0.3,
          "SepalLength": 4.5,
          "SepalWidth": 2.3,
          "Species": "setosa"
         },
         {
          "PetalLength": 1.3,
          "PetalWidth": 0.2,
          "SepalLength": 4.4,
          "SepalWidth": 3.2,
          "Species": "setosa"
         },
         {
          "PetalLength": 1.6,
          "PetalWidth": 0.6,
          "SepalLength": 5.0,
          "SepalWidth": 3.5,
          "Species": "setosa"
         },
         {
          "PetalLength": 1.9,
          "PetalWidth": 0.4,
          "SepalLength": 5.1,
          "SepalWidth": 3.8,
          "Species": "setosa"
         },
         {
          "PetalLength": 1.4,
          "PetalWidth": 0.3,
          "SepalLength": 4.8,
          "SepalWidth": 3.0,
          "Species": "setosa"
         },
         {
          "PetalLength": 1.6,
          "PetalWidth": 0.2,
          "SepalLength": 5.1,
          "SepalWidth": 3.8,
          "Species": "setosa"
         },
         {
          "PetalLength": 1.4,
          "PetalWidth": 0.2,
          "SepalLength": 4.6,
          "SepalWidth": 3.2,
          "Species": "setosa"
         },
         {
          "PetalLength": 1.5,
          "PetalWidth": 0.2,
          "SepalLength": 5.3,
          "SepalWidth": 3.7,
          "Species": "setosa"
         },
         {
          "PetalLength": 1.4,
          "PetalWidth": 0.2,
          "SepalLength": 5.0,
          "SepalWidth": 3.3,
          "Species": "setosa"
         },
         {
          "PetalLength": 4.7,
          "PetalWidth": 1.4,
          "SepalLength": 7.0,
          "SepalWidth": 3.2,
          "Species": "versicolor"
         },
         {
          "PetalLength": 4.5,
          "PetalWidth": 1.5,
          "SepalLength": 6.4,
          "SepalWidth": 3.2,
          "Species": "versicolor"
         },
         {
          "PetalLength": 4.9,
          "PetalWidth": 1.5,
          "SepalLength": 6.9,
          "SepalWidth": 3.1,
          "Species": "versicolor"
         },
         {
          "PetalLength": 4.0,
          "PetalWidth": 1.3,
          "SepalLength": 5.5,
          "SepalWidth": 2.3,
          "Species": "versicolor"
         },
         {
          "PetalLength": 4.6,
          "PetalWidth": 1.5,
          "SepalLength": 6.5,
          "SepalWidth": 2.8,
          "Species": "versicolor"
         },
         {
          "PetalLength": 4.5,
          "PetalWidth": 1.3,
          "SepalLength": 5.7,
          "SepalWidth": 2.8,
          "Species": "versicolor"
         },
         {
          "PetalLength": 4.7,
          "PetalWidth": 1.6,
          "SepalLength": 6.3,
          "SepalWidth": 3.3,
          "Species": "versicolor"
         },
         {
          "PetalLength": 3.3,
          "PetalWidth": 1.0,
          "SepalLength": 4.9,
          "SepalWidth": 2.4,
          "Species": "versicolor"
         },
         {
          "PetalLength": 4.6,
          "PetalWidth": 1.3,
          "SepalLength": 6.6,
          "SepalWidth": 2.9,
          "Species": "versicolor"
         },
         {
          "PetalLength": 3.9,
          "PetalWidth": 1.4,
          "SepalLength": 5.2,
          "SepalWidth": 2.7,
          "Species": "versicolor"
         },
         {
          "PetalLength": 3.5,
          "PetalWidth": 1.0,
          "SepalLength": 5.0,
          "SepalWidth": 2.0,
          "Species": "versicolor"
         },
         {
          "PetalLength": 4.2,
          "PetalWidth": 1.5,
          "SepalLength": 5.9,
          "SepalWidth": 3.0,
          "Species": "versicolor"
         },
         {
          "PetalLength": 4.0,
          "PetalWidth": 1.0,
          "SepalLength": 6.0,
          "SepalWidth": 2.2,
          "Species": "versicolor"
         },
         {
          "PetalLength": 4.7,
          "PetalWidth": 1.4,
          "SepalLength": 6.1,
          "SepalWidth": 2.9,
          "Species": "versicolor"
         },
         {
          "PetalLength": 3.6,
          "PetalWidth": 1.3,
          "SepalLength": 5.6,
          "SepalWidth": 2.9,
          "Species": "versicolor"
         },
         {
          "PetalLength": 4.4,
          "PetalWidth": 1.4,
          "SepalLength": 6.7,
          "SepalWidth": 3.1,
          "Species": "versicolor"
         },
         {
          "PetalLength": 4.5,
          "PetalWidth": 1.5,
          "SepalLength": 5.6,
          "SepalWidth": 3.0,
          "Species": "versicolor"
         },
         {
          "PetalLength": 4.1,
          "PetalWidth": 1.0,
          "SepalLength": 5.8,
          "SepalWidth": 2.7,
          "Species": "versicolor"
         },
         {
          "PetalLength": 4.5,
          "PetalWidth": 1.5,
          "SepalLength": 6.2,
          "SepalWidth": 2.2,
          "Species": "versicolor"
         },
         {
          "PetalLength": 3.9,
          "PetalWidth": 1.1,
          "SepalLength": 5.6,
          "SepalWidth": 2.5,
          "Species": "versicolor"
         },
         {
          "PetalLength": 4.8,
          "PetalWidth": 1.8,
          "SepalLength": 5.9,
          "SepalWidth": 3.2,
          "Species": "versicolor"
         },
         {
          "PetalLength": 4.0,
          "PetalWidth": 1.3,
          "SepalLength": 6.1,
          "SepalWidth": 2.8,
          "Species": "versicolor"
         },
         {
          "PetalLength": 4.9,
          "PetalWidth": 1.5,
          "SepalLength": 6.3,
          "SepalWidth": 2.5,
          "Species": "versicolor"
         },
         {
          "PetalLength": 4.7,
          "PetalWidth": 1.2,
          "SepalLength": 6.1,
          "SepalWidth": 2.8,
          "Species": "versicolor"
         },
         {
          "PetalLength": 4.3,
          "PetalWidth": 1.3,
          "SepalLength": 6.4,
          "SepalWidth": 2.9,
          "Species": "versicolor"
         },
         {
          "PetalLength": 4.4,
          "PetalWidth": 1.4,
          "SepalLength": 6.6,
          "SepalWidth": 3.0,
          "Species": "versicolor"
         },
         {
          "PetalLength": 4.8,
          "PetalWidth": 1.4,
          "SepalLength": 6.8,
          "SepalWidth": 2.8,
          "Species": "versicolor"
         },
         {
          "PetalLength": 5.0,
          "PetalWidth": 1.7,
          "SepalLength": 6.7,
          "SepalWidth": 3.0,
          "Species": "versicolor"
         },
         {
          "PetalLength": 4.5,
          "PetalWidth": 1.5,
          "SepalLength": 6.0,
          "SepalWidth": 2.9,
          "Species": "versicolor"
         },
         {
          "PetalLength": 3.5,
          "PetalWidth": 1.0,
          "SepalLength": 5.7,
          "SepalWidth": 2.6,
          "Species": "versicolor"
         },
         {
          "PetalLength": 3.8,
          "PetalWidth": 1.1,
          "SepalLength": 5.5,
          "SepalWidth": 2.4,
          "Species": "versicolor"
         },
         {
          "PetalLength": 3.7,
          "PetalWidth": 1.0,
          "SepalLength": 5.5,
          "SepalWidth": 2.4,
          "Species": "versicolor"
         },
         {
          "PetalLength": 3.9,
          "PetalWidth": 1.2,
          "SepalLength": 5.8,
          "SepalWidth": 2.7,
          "Species": "versicolor"
         },
         {
          "PetalLength": 5.1,
          "PetalWidth": 1.6,
          "SepalLength": 6.0,
          "SepalWidth": 2.7,
          "Species": "versicolor"
         },
         {
          "PetalLength": 4.5,
          "PetalWidth": 1.5,
          "SepalLength": 5.4,
          "SepalWidth": 3.0,
          "Species": "versicolor"
         },
         {
          "PetalLength": 4.5,
          "PetalWidth": 1.6,
          "SepalLength": 6.0,
          "SepalWidth": 3.4,
          "Species": "versicolor"
         },
         {
          "PetalLength": 4.7,
          "PetalWidth": 1.5,
          "SepalLength": 6.7,
          "SepalWidth": 3.1,
          "Species": "versicolor"
         },
         {
          "PetalLength": 4.4,
          "PetalWidth": 1.3,
          "SepalLength": 6.3,
          "SepalWidth": 2.3,
          "Species": "versicolor"
         },
         {
          "PetalLength": 4.1,
          "PetalWidth": 1.3,
          "SepalLength": 5.6,
          "SepalWidth": 3.0,
          "Species": "versicolor"
         },
         {
          "PetalLength": 4.0,
          "PetalWidth": 1.3,
          "SepalLength": 5.5,
          "SepalWidth": 2.5,
          "Species": "versicolor"
         },
         {
          "PetalLength": 4.4,
          "PetalWidth": 1.2,
          "SepalLength": 5.5,
          "SepalWidth": 2.6,
          "Species": "versicolor"
         },
         {
          "PetalLength": 4.6,
          "PetalWidth": 1.4,
          "SepalLength": 6.1,
          "SepalWidth": 3.0,
          "Species": "versicolor"
         },
         {
          "PetalLength": 4.0,
          "PetalWidth": 1.2,
          "SepalLength": 5.8,
          "SepalWidth": 2.6,
          "Species": "versicolor"
         },
         {
          "PetalLength": 3.3,
          "PetalWidth": 1.0,
          "SepalLength": 5.0,
          "SepalWidth": 2.3,
          "Species": "versicolor"
         },
         {
          "PetalLength": 4.2,
          "PetalWidth": 1.3,
          "SepalLength": 5.6,
          "SepalWidth": 2.7,
          "Species": "versicolor"
         },
         {
          "PetalLength": 4.2,
          "PetalWidth": 1.2,
          "SepalLength": 5.7,
          "SepalWidth": 3.0,
          "Species": "versicolor"
         },
         {
          "PetalLength": 4.2,
          "PetalWidth": 1.3,
          "SepalLength": 5.7,
          "SepalWidth": 2.9,
          "Species": "versicolor"
         },
         {
          "PetalLength": 4.3,
          "PetalWidth": 1.3,
          "SepalLength": 6.2,
          "SepalWidth": 2.9,
          "Species": "versicolor"
         },
         {
          "PetalLength": 3.0,
          "PetalWidth": 1.1,
          "SepalLength": 5.1,
          "SepalWidth": 2.5,
          "Species": "versicolor"
         },
         {
          "PetalLength": 4.1,
          "PetalWidth": 1.3,
          "SepalLength": 5.7,
          "SepalWidth": 2.8,
          "Species": "versicolor"
         },
         {
          "PetalLength": 6.0,
          "PetalWidth": 2.5,
          "SepalLength": 6.3,
          "SepalWidth": 3.3,
          "Species": "virginica"
         },
         {
          "PetalLength": 5.1,
          "PetalWidth": 1.9,
          "SepalLength": 5.8,
          "SepalWidth": 2.7,
          "Species": "virginica"
         },
         {
          "PetalLength": 5.9,
          "PetalWidth": 2.1,
          "SepalLength": 7.1,
          "SepalWidth": 3.0,
          "Species": "virginica"
         },
         {
          "PetalLength": 5.6,
          "PetalWidth": 1.8,
          "SepalLength": 6.3,
          "SepalWidth": 2.9,
          "Species": "virginica"
         },
         {
          "PetalLength": 5.8,
          "PetalWidth": 2.2,
          "SepalLength": 6.5,
          "SepalWidth": 3.0,
          "Species": "virginica"
         },
         {
          "PetalLength": 6.6,
          "PetalWidth": 2.1,
          "SepalLength": 7.6,
          "SepalWidth": 3.0,
          "Species": "virginica"
         },
         {
          "PetalLength": 4.5,
          "PetalWidth": 1.7,
          "SepalLength": 4.9,
          "SepalWidth": 2.5,
          "Species": "virginica"
         },
         {
          "PetalLength": 6.3,
          "PetalWidth": 1.8,
          "SepalLength": 7.3,
          "SepalWidth": 2.9,
          "Species": "virginica"
         },
         {
          "PetalLength": 5.8,
          "PetalWidth": 1.8,
          "SepalLength": 6.7,
          "SepalWidth": 2.5,
          "Species": "virginica"
         },
         {
          "PetalLength": 6.1,
          "PetalWidth": 2.5,
          "SepalLength": 7.2,
          "SepalWidth": 3.6,
          "Species": "virginica"
         },
         {
          "PetalLength": 5.1,
          "PetalWidth": 2.0,
          "SepalLength": 6.5,
          "SepalWidth": 3.2,
          "Species": "virginica"
         },
         {
          "PetalLength": 5.3,
          "PetalWidth": 1.9,
          "SepalLength": 6.4,
          "SepalWidth": 2.7,
          "Species": "virginica"
         },
         {
          "PetalLength": 5.5,
          "PetalWidth": 2.1,
          "SepalLength": 6.8,
          "SepalWidth": 3.0,
          "Species": "virginica"
         },
         {
          "PetalLength": 5.0,
          "PetalWidth": 2.0,
          "SepalLength": 5.7,
          "SepalWidth": 2.5,
          "Species": "virginica"
         },
         {
          "PetalLength": 5.1,
          "PetalWidth": 2.4,
          "SepalLength": 5.8,
          "SepalWidth": 2.8,
          "Species": "virginica"
         },
         {
          "PetalLength": 5.3,
          "PetalWidth": 2.3,
          "SepalLength": 6.4,
          "SepalWidth": 3.2,
          "Species": "virginica"
         },
         {
          "PetalLength": 5.5,
          "PetalWidth": 1.8,
          "SepalLength": 6.5,
          "SepalWidth": 3.0,
          "Species": "virginica"
         },
         {
          "PetalLength": 6.7,
          "PetalWidth": 2.2,
          "SepalLength": 7.7,
          "SepalWidth": 3.8,
          "Species": "virginica"
         },
         {
          "PetalLength": 6.9,
          "PetalWidth": 2.3,
          "SepalLength": 7.7,
          "SepalWidth": 2.6,
          "Species": "virginica"
         },
         {
          "PetalLength": 5.0,
          "PetalWidth": 1.5,
          "SepalLength": 6.0,
          "SepalWidth": 2.2,
          "Species": "virginica"
         },
         {
          "PetalLength": 5.7,
          "PetalWidth": 2.3,
          "SepalLength": 6.9,
          "SepalWidth": 3.2,
          "Species": "virginica"
         },
         {
          "PetalLength": 4.9,
          "PetalWidth": 2.0,
          "SepalLength": 5.6,
          "SepalWidth": 2.8,
          "Species": "virginica"
         },
         {
          "PetalLength": 6.7,
          "PetalWidth": 2.0,
          "SepalLength": 7.7,
          "SepalWidth": 2.8,
          "Species": "virginica"
         },
         {
          "PetalLength": 4.9,
          "PetalWidth": 1.8,
          "SepalLength": 6.3,
          "SepalWidth": 2.7,
          "Species": "virginica"
         },
         {
          "PetalLength": 5.7,
          "PetalWidth": 2.1,
          "SepalLength": 6.7,
          "SepalWidth": 3.3,
          "Species": "virginica"
         },
         {
          "PetalLength": 6.0,
          "PetalWidth": 1.8,
          "SepalLength": 7.2,
          "SepalWidth": 3.2,
          "Species": "virginica"
         },
         {
          "PetalLength": 4.8,
          "PetalWidth": 1.8,
          "SepalLength": 6.2,
          "SepalWidth": 2.8,
          "Species": "virginica"
         },
         {
          "PetalLength": 4.9,
          "PetalWidth": 1.8,
          "SepalLength": 6.1,
          "SepalWidth": 3.0,
          "Species": "virginica"
         },
         {
          "PetalLength": 5.6,
          "PetalWidth": 2.1,
          "SepalLength": 6.4,
          "SepalWidth": 2.8,
          "Species": "virginica"
         },
         {
          "PetalLength": 5.8,
          "PetalWidth": 1.6,
          "SepalLength": 7.2,
          "SepalWidth": 3.0,
          "Species": "virginica"
         },
         {
          "PetalLength": 6.1,
          "PetalWidth": 1.9,
          "SepalLength": 7.4,
          "SepalWidth": 2.8,
          "Species": "virginica"
         },
         {
          "PetalLength": 6.4,
          "PetalWidth": 2.0,
          "SepalLength": 7.9,
          "SepalWidth": 3.8,
          "Species": "virginica"
         },
         {
          "PetalLength": 5.6,
          "PetalWidth": 2.2,
          "SepalLength": 6.4,
          "SepalWidth": 2.8,
          "Species": "virginica"
         },
         {
          "PetalLength": 5.1,
          "PetalWidth": 1.5,
          "SepalLength": 6.3,
          "SepalWidth": 2.8,
          "Species": "virginica"
         },
         {
          "PetalLength": 5.6,
          "PetalWidth": 1.4,
          "SepalLength": 6.1,
          "SepalWidth": 2.6,
          "Species": "virginica"
         },
         {
          "PetalLength": 6.1,
          "PetalWidth": 2.3,
          "SepalLength": 7.7,
          "SepalWidth": 3.0,
          "Species": "virginica"
         },
         {
          "PetalLength": 5.6,
          "PetalWidth": 2.4,
          "SepalLength": 6.3,
          "SepalWidth": 3.4,
          "Species": "virginica"
         },
         {
          "PetalLength": 5.5,
          "PetalWidth": 1.8,
          "SepalLength": 6.4,
          "SepalWidth": 3.1,
          "Species": "virginica"
         },
         {
          "PetalLength": 4.8,
          "PetalWidth": 1.8,
          "SepalLength": 6.0,
          "SepalWidth": 3.0,
          "Species": "virginica"
         },
         {
          "PetalLength": 5.4,
          "PetalWidth": 2.1,
          "SepalLength": 6.9,
          "SepalWidth": 3.1,
          "Species": "virginica"
         },
         {
          "PetalLength": 5.6,
          "PetalWidth": 2.4,
          "SepalLength": 6.7,
          "SepalWidth": 3.1,
          "Species": "virginica"
         },
         {
          "PetalLength": 5.1,
          "PetalWidth": 2.3,
          "SepalLength": 6.9,
          "SepalWidth": 3.1,
          "Species": "virginica"
         },
         {
          "PetalLength": 5.1,
          "PetalWidth": 1.9,
          "SepalLength": 5.8,
          "SepalWidth": 2.7,
          "Species": "virginica"
         },
         {
          "PetalLength": 5.9,
          "PetalWidth": 2.3,
          "SepalLength": 6.8,
          "SepalWidth": 3.2,
          "Species": "virginica"
         },
         {
          "PetalLength": 5.7,
          "PetalWidth": 2.5,
          "SepalLength": 6.7,
          "SepalWidth": 3.3,
          "Species": "virginica"
         },
         {
          "PetalLength": 5.2,
          "PetalWidth": 2.3,
          "SepalLength": 6.7,
          "SepalWidth": 3.0,
          "Species": "virginica"
         },
         {
          "PetalLength": 5.0,
          "PetalWidth": 1.9,
          "SepalLength": 6.3,
          "SepalWidth": 2.5,
          "Species": "virginica"
         },
         {
          "PetalLength": 5.2,
          "PetalWidth": 2.0,
          "SepalLength": 6.5,
          "SepalWidth": 3.0,
          "Species": "virginica"
         },
         {
          "PetalLength": 5.4,
          "PetalWidth": 2.3,
          "SepalLength": 6.2,
          "SepalWidth": 3.4,
          "Species": "virginica"
         },
         {
          "PetalLength": 5.1,
          "PetalWidth": 1.8,
          "SepalLength": 5.9,
          "SepalWidth": 3.0,
          "Species": "virginica"
         }
        ]
       },
       "encoding": {
        "color": {
         "field": "Species",
         "type": "nominal"
        },
        "x": {
         "field": "PetalLength",
         "type": "quantitative"
        },
        "y": {
         "field": "PetalWidth",
         "type": "quantitative"
        }
       },
       "mark": "point"
      },
      "image/png": "[encoded data removed]",
      "image/svg+xml": [
       "<svg class=\"marks\" width=\"330\" height=\"242\" viewBox=\"0 0 330 242\" version=\"1.1\" xmlns=\"http://www.w3.org/2000/svg\" xmlns:xlink=\"http://www.w3.org/1999/xlink\"><g transform=\"translate(42,5)\"><g class=\"mark-group role-frame root\"><g transform=\"translate(0,0)\"><path class=\"background\" d=\"M0.5,0.5h200v200h-200Z\" style=\"fill: none; stroke: #ddd;\"></path><g><g class=\"mark-group role-axis\"><g transform=\"translate(0.5,200.5)\"><path class=\"background\" d=\"M0,0h0v0h0Z\" style=\"pointer-events: none; fill: none;\"></path><g><g class=\"mark-rule role-axis-grid\" style=\"pointer-events: none;\"><line transform=\"translate(0,-200)\" x2=\"0\" y2=\"200\" style=\"fill: none; stroke: #ddd; stroke-width: 1; opacity: 1;\"></line><line transform=\"translate(29,-200)\" x2=\"0\" y2=\"200\" style=\"fill: none; stroke: #ddd; stroke-width: 1; opacity: 1;\"></line><line transform=\"translate(57,-200)\" x2=\"0\" y2=\"200\" style=\"fill: none; stroke: #ddd; stroke-width: 1; opacity: 1;\"></line><line transform=\"translate(86,-200)\" x2=\"0\" y2=\"200\" style=\"fill: none; stroke: #ddd; stroke-width: 1; opacity: 1;\"></line><line transform=\"translate(114,-200)\" x2=\"0\" y2=\"200\" style=\"fill: none; stroke: #ddd; stroke-width: 1; opacity: 1;\"></line><line transform=\"translate(143,-200)\" x2=\"0\" y2=\"200\" style=\"fill: none; stroke: #ddd; stroke-width: 1; opacity: 1;\"></line><line transform=\"translate(171,-200)\" x2=\"0\" y2=\"200\" style=\"fill: none; stroke: #ddd; stroke-width: 1; opacity: 1;\"></line><line transform=\"translate(200,-200)\" x2=\"0\" y2=\"200\" style=\"fill: none; stroke: #ddd; stroke-width: 1; opacity: 1;\"></line></g></g></g></g><g class=\"mark-group role-axis\"><g transform=\"translate(0.5,0.5)\"><path class=\"background\" d=\"M0,0h0v0h0Z\" style=\"pointer-events: none; fill: none;\"></path><g><g class=\"mark-rule role-axis-grid\" style=\"pointer-events: none;\"><line transform=\"translate(0,200)\" x2=\"200\" y2=\"0\" style=\"fill: none; stroke: #ddd; stroke-width: 1; opacity: 1;\"></line><line transform=\"translate(0,162)\" x2=\"200\" y2=\"0\" style=\"fill: none; stroke: #ddd; stroke-width: 1; opacity: 1;\"></line><line transform=\"translate(0,123)\" x2=\"200\" y2=\"0\" style=\"fill: none; stroke: #ddd; stroke-width: 1; opacity: 1;\"></line><line transform=\"translate(0,85)\" x2=\"200\" y2=\"0\" style=\"fill: none; stroke: #ddd; stroke-width: 1; opacity: 1;\"></line><line transform=\"translate(0,46)\" x2=\"200\" y2=\"0\" style=\"fill: none; stroke: #ddd; stroke-width: 1; opacity: 1;\"></line><line transform=\"translate(0,8)\" x2=\"200\" y2=\"0\" style=\"fill: none; stroke: #ddd; stroke-width: 1; opacity: 1;\"></line></g></g></g></g><g class=\"mark-symbol role-mark marks\"><path transform=\"translate(40,184.6153846153846)\" d=\"M2.7386127875258306,0A2.7386127875258306,2.7386127875258306,0,1,1,-2.7386127875258306,0A2.7386127875258306,2.7386127875258306,0,1,1,2.7386127875258306,0\" style=\"fill: none; stroke: #4c78a8; stroke-width: 2; opacity: 0.7;\"></path><path transform=\"translate(40,184.6153846153846)\" d=\"M2.7386127875258306,0A2.7386127875258306,2.7386127875258306,0,1,1,-2.7386127875258306,0A2.7386127875258306,2.7386127875258306,0,1,1,2.7386127875258306,0\" style=\"fill: none; stroke: #4c78a8; stroke-width: 2; opacity: 0.7;\"></path><path transform=\"translate(37.142857142857146,184.6153846153846)\" d=\"M2.7386127875258306,0A2.7386127875258306,2.7386127875258306,0,1,1,-2.7386127875258306,0A2.7386127875258306,2.7386127875258306,0,1,1,2.7386127875258306,0\" style=\"fill: none; stroke: #4c78a8; stroke-width: 2; opacity: 0.7;\"></path><path transform=\"translate(42.857142857142854,184.6153846153846)\" d=\"M2.7386127875258306,0A2.7386127875258306,2.7386127875258306,0,1,1,-2.7386127875258306,0A2.7386127875258306,2.7386127875258306,0,1,1,2.7386127875258306,0\" style=\"fill: none; stroke: #4c78a8; stroke-width: 2; opacity: 0.7;\"></path><path transform=\"translate(40,184.6153846153846)\" d=\"M2.7386127875258306,0A2.7386127875258306,2.7386127875258306,0,1,1,-2.7386127875258306,0A2.7386127875258306,2.7386127875258306,0,1,1,2.7386127875258306,0\" style=\"fill: none; stroke: #4c78a8; stroke-width: 2; opacity: 0.7;\"></path><path transform=\"translate(48.57142857142857,169.23076923076923)\" d=\"M2.7386127875258306,0A2.7386127875258306,2.7386127875258306,0,1,1,-2.7386127875258306,0A2.7386127875258306,2.7386127875258306,0,1,1,2.7386127875258306,0\" style=\"fill: none; stroke: #4c78a8; stroke-width: 2; opacity: 0.7;\"></path><path transform=\"translate(40,176.92307692307693)\" d=\"M2.7386127875258306,0A2.7386127875258306,2.7386127875258306,0,1,1,-2.7386127875258306,0A2.7386127875258306,2.7386127875258306,0,1,1,2.7386127875258306,0\" style=\"fill: none; stroke: #4c78a8; stroke-width: 2; opacity: 0.7;\"></path><path transform=\"translate(42.857142857142854,184.6153846153846)\" d=\"M2.7386127875258306,0A2.7386127875258306,2.7386127875258306,0,1,1,-2.7386127875258306,0A2.7386127875258306,2.7386127875258306,0,1,1,2.7386127875258306,0\" style=\"fill: none; stroke: #4c78a8; stroke-width: 2; opacity: 0.7;\"></path><path transform=\"translate(40,184.6153846153846)\" d=\"M2.7386127875258306,0A2.7386127875258306,2.7386127875258306,0,1,1,-2.7386127875258306,0A2.7386127875258306,2.7386127875258306,0,1,1,2.7386127875258306,0\" style=\"fill: none; stroke: #4c78a8; stroke-width: 2; opacity: 0.7;\"></path><path transform=\"translate(42.857142857142854,192.30769230769232)\" d=\"M2.7386127875258306,0A2.7386127875258306,2.7386127875258306,0,1,1,-2.7386127875258306,0A2.7386127875258306,2.7386127875258306,0,1,1,2.7386127875258306,0\" style=\"fill: none; stroke: #4c78a8; stroke-width: 2; opacity: 0.7;\"></path><path transform=\"translate(42.857142857142854,184.6153846153846)\" d=\"M2.7386127875258306,0A2.7386127875258306,2.7386127875258306,0,1,1,-2.7386127875258306,0A2.7386127875258306,2.7386127875258306,0,1,1,2.7386127875258306,0\" style=\"fill: none; stroke: #4c78a8; stroke-width: 2; opacity: 0.7;\"></path><path transform=\"translate(45.714285714285715,184.6153846153846)\" d=\"M2.7386127875258306,0A2.7386127875258306,2.7386127875258306,0,1,1,-2.7386127875258306,0A2.7386127875258306,2.7386127875258306,0,1,1,2.7386127875258306,0\" style=\"fill: none; stroke: #4c78a8; stroke-width: 2; opacity: 0.7;\"></path><path transform=\"translate(40,192.30769230769232)\" d=\"M2.7386127875258306,0A2.7386127875258306,2.7386127875258306,0,1,1,-2.7386127875258306,0A2.7386127875258306,2.7386127875258306,0,1,1,2.7386127875258306,0\" style=\"fill: none; stroke: #4c78a8; stroke-width: 2; opacity: 0.7;\"></path><path transform=\"translate(31.428571428571434,192.30769230769232)\" d=\"M2.7386127875258306,0A2.7386127875258306,2.7386127875258306,0,1,1,-2.7386127875258306,0A2.7386127875258306,2.7386127875258306,0,1,1,2.7386127875258306,0\" style=\"fill: none; stroke: #4c78a8; stroke-width: 2; opacity: 0.7;\"></path><path transform=\"translate(34.285714285714285,184.6153846153846)\" d=\"M2.7386127875258306,0A2.7386127875258306,2.7386127875258306,0,1,1,-2.7386127875258306,0A2.7386127875258306,2.7386127875258306,0,1,1,2.7386127875258306,0\" style=\"fill: none; stroke: #4c78a8; stroke-width: 2; opacity: 0.7;\"></path><path transform=\"translate(42.857142857142854,169.23076923076923)\" d=\"M2.7386127875258306,0A2.7386127875258306,2.7386127875258306,0,1,1,-2.7386127875258306,0A2.7386127875258306,2.7386127875258306,0,1,1,2.7386127875258306,0\" style=\"fill: none; stroke: #4c78a8; stroke-width: 2; opacity: 0.7;\"></path><path transform=\"translate(37.142857142857146,169.23076923076923)\" d=\"M2.7386127875258306,0A2.7386127875258306,2.7386127875258306,0,1,1,-2.7386127875258306,0A2.7386127875258306,2.7386127875258306,0,1,1,2.7386127875258306,0\" style=\"fill: none; stroke: #4c78a8; stroke-width: 2; opacity: 0.7;\"></path><path transform=\"translate(40,176.92307692307693)\" d=\"M2.7386127875258306,0A2.7386127875258306,2.7386127875258306,0,1,1,-2.7386127875258306,0A2.7386127875258306,2.7386127875258306,0,1,1,2.7386127875258306,0\" style=\"fill: none; stroke: #4c78a8; stroke-width: 2; opacity: 0.7;\"></path><path transform=\"translate(48.57142857142857,176.92307692307693)\" d=\"M2.7386127875258306,0A2.7386127875258306,2.7386127875258306,0,1,1,-2.7386127875258306,0A2.7386127875258306,2.7386127875258306,0,1,1,2.7386127875258306,0\" style=\"fill: none; stroke: #4c78a8; stroke-width: 2; opacity: 0.7;\"></path><path transform=\"translate(42.857142857142854,176.92307692307693)\" d=\"M2.7386127875258306,0A2.7386127875258306,2.7386127875258306,0,1,1,-2.7386127875258306,0A2.7386127875258306,2.7386127875258306,0,1,1,2.7386127875258306,0\" style=\"fill: none; stroke: #4c78a8; stroke-width: 2; opacity: 0.7;\"></path><path transform=\"translate(48.57142857142857,184.6153846153846)\" d=\"M2.7386127875258306,0A2.7386127875258306,2.7386127875258306,0,1,1,-2.7386127875258306,0A2.7386127875258306,2.7386127875258306,0,1,1,2.7386127875258306,0\" style=\"fill: none; stroke: #4c78a8; stroke-width: 2; opacity: 0.7;\"></path><path transform=\"translate(42.857142857142854,169.23076923076923)\" d=\"M2.7386127875258306,0A2.7386127875258306,2.7386127875258306,0,1,1,-2.7386127875258306,0A2.7386127875258306,2.7386127875258306,0,1,1,2.7386127875258306,0\" style=\"fill: none; stroke: #4c78a8; stroke-width: 2; opacity: 0.7;\"></path><path transform=\"translate(28.57142857142857,184.6153846153846)\" d=\"M2.7386127875258306,0A2.7386127875258306,2.7386127875258306,0,1,1,-2.7386127875258306,0A2.7386127875258306,2.7386127875258306,0,1,1,2.7386127875258306,0\" style=\"fill: none; stroke: #4c78a8; stroke-width: 2; opacity: 0.7;\"></path><path transform=\"translate(48.57142857142857,161.53846153846155)\" d=\"M2.7386127875258306,0A2.7386127875258306,2.7386127875258306,0,1,1,-2.7386127875258306,0A2.7386127875258306,2.7386127875258306,0,1,1,2.7386127875258306,0\" style=\"fill: none; stroke: #4c78a8; stroke-width: 2; opacity: 0.7;\"></path><path transform=\"translate(54.285714285714285,184.6153846153846)\" d=\"M2.7386127875258306,0A2.7386127875258306,2.7386127875258306,0,1,1,-2.7386127875258306,0A2.7386127875258306,2.7386127875258306,0,1,1,2.7386127875258306,0\" style=\"fill: none; stroke: #4c78a8; stroke-width: 2; opacity: 0.7;\"></path><path transform=\"translate(45.714285714285715,184.6153846153846)\" d=\"M2.7386127875258306,0A2.7386127875258306,2.7386127875258306,0,1,1,-2.7386127875258306,0A2.7386127875258306,2.7386127875258306,0,1,1,2.7386127875258306,0\" style=\"fill: none; stroke: #4c78a8; stroke-width: 2; opacity: 0.7;\"></path><path transform=\"translate(45.714285714285715,169.23076923076923)\" d=\"M2.7386127875258306,0A2.7386127875258306,2.7386127875258306,0,1,1,-2.7386127875258306,0A2.7386127875258306,2.7386127875258306,0,1,1,2.7386127875258306,0\" style=\"fill: none; stroke: #4c78a8; stroke-width: 2; opacity: 0.7;\"></path><path transform=\"translate(42.857142857142854,184.6153846153846)\" d=\"M2.7386127875258306,0A2.7386127875258306,2.7386127875258306,0,1,1,-2.7386127875258306,0A2.7386127875258306,2.7386127875258306,0,1,1,2.7386127875258306,0\" style=\"fill: none; stroke: #4c78a8; stroke-width: 2; opacity: 0.7;\"></path><path transform=\"translate(40,184.6153846153846)\" d=\"M2.7386127875258306,0A2.7386127875258306,2.7386127875258306,0,1,1,-2.7386127875258306,0A2.7386127875258306,2.7386127875258306,0,1,1,2.7386127875258306,0\" style=\"fill: none; stroke: #4c78a8; stroke-width: 2; opacity: 0.7;\"></path><path transform=\"translate(45.714285714285715,184.6153846153846)\" d=\"M2.7386127875258306,0A2.7386127875258306,2.7386127875258306,0,1,1,-2.7386127875258306,0A2.7386127875258306,2.7386127875258306,0,1,1,2.7386127875258306,0\" style=\"fill: none; stroke: #4c78a8; stroke-width: 2; opacity: 0.7;\"></path><path transform=\"translate(45.714285714285715,184.6153846153846)\" d=\"M2.7386127875258306,0A2.7386127875258306,2.7386127875258306,0,1,1,-2.7386127875258306,0A2.7386127875258306,2.7386127875258306,0,1,1,2.7386127875258306,0\" style=\"fill: none; stroke: #4c78a8; stroke-width: 2; opacity: 0.7;\"></path><path transform=\"translate(42.857142857142854,169.23076923076923)\" d=\"M2.7386127875258306,0A2.7386127875258306,2.7386127875258306,0,1,1,-2.7386127875258306,0A2.7386127875258306,2.7386127875258306,0,1,1,2.7386127875258306,0\" style=\"fill: none; stroke: #4c78a8; stroke-width: 2; opacity: 0.7;\"></path><path transform=\"translate(42.857142857142854,192.30769230769232)\" d=\"M2.7386127875258306,0A2.7386127875258306,2.7386127875258306,0,1,1,-2.7386127875258306,0A2.7386127875258306,2.7386127875258306,0,1,1,2.7386127875258306,0\" style=\"fill: none; stroke: #4c78a8; stroke-width: 2; opacity: 0.7;\"></path><path transform=\"translate(40,184.6153846153846)\" d=\"M2.7386127875258306,0A2.7386127875258306,2.7386127875258306,0,1,1,-2.7386127875258306,0A2.7386127875258306,2.7386127875258306,0,1,1,2.7386127875258306,0\" style=\"fill: none; stroke: #4c78a8; stroke-width: 2; opacity: 0.7;\"></path><path transform=\"translate(42.857142857142854,184.6153846153846)\" d=\"M2.7386127875258306,0A2.7386127875258306,2.7386127875258306,0,1,1,-2.7386127875258306,0A2.7386127875258306,2.7386127875258306,0,1,1,2.7386127875258306,0\" style=\"fill: none; stroke: #4c78a8; stroke-width: 2; opacity: 0.7;\"></path><path transform=\"translate(34.285714285714285,184.6153846153846)\" d=\"M2.7386127875258306,0A2.7386127875258306,2.7386127875258306,0,1,1,-2.7386127875258306,0A2.7386127875258306,2.7386127875258306,0,1,1,2.7386127875258306,0\" style=\"fill: none; stroke: #4c78a8; stroke-width: 2; opacity: 0.7;\"></path><path transform=\"translate(37.142857142857146,184.6153846153846)\" d=\"M2.7386127875258306,0A2.7386127875258306,2.7386127875258306,0,1,1,-2.7386127875258306,0A2.7386127875258306,2.7386127875258306,0,1,1,2.7386127875258306,0\" style=\"fill: none; stroke: #4c78a8; stroke-width: 2; opacity: 0.7;\"></path><path transform=\"translate(40,192.30769230769232)\" d=\"M2.7386127875258306,0A2.7386127875258306,2.7386127875258306,0,1,1,-2.7386127875258306,0A2.7386127875258306,2.7386127875258306,0,1,1,2.7386127875258306,0\" style=\"fill: none; stroke: #4c78a8; stroke-width: 2; opacity: 0.7;\"></path><path transform=\"translate(37.142857142857146,184.6153846153846)\" d=\"M2.7386127875258306,0A2.7386127875258306,2.7386127875258306,0,1,1,-2.7386127875258306,0A2.7386127875258306,2.7386127875258306,0,1,1,2.7386127875258306,0\" style=\"fill: none; stroke: #4c78a8; stroke-width: 2; opacity: 0.7;\"></path><path transform=\"translate(42.857142857142854,184.6153846153846)\" d=\"M2.7386127875258306,0A2.7386127875258306,2.7386127875258306,0,1,1,-2.7386127875258306,0A2.7386127875258306,2.7386127875258306,0,1,1,2.7386127875258306,0\" style=\"fill: none; stroke: #4c78a8; stroke-width: 2; opacity: 0.7;\"></path><path transform=\"translate(37.142857142857146,176.92307692307693)\" d=\"M2.7386127875258306,0A2.7386127875258306,2.7386127875258306,0,1,1,-2.7386127875258306,0A2.7386127875258306,2.7386127875258306,0,1,1,2.7386127875258306,0\" style=\"fill: none; stroke: #4c78a8; stroke-width: 2; opacity: 0.7;\"></path><path transform=\"translate(37.142857142857146,176.92307692307693)\" d=\"M2.7386127875258306,0A2.7386127875258306,2.7386127875258306,0,1,1,-2.7386127875258306,0A2.7386127875258306,2.7386127875258306,0,1,1,2.7386127875258306,0\" style=\"fill: none; stroke: #4c78a8; stroke-width: 2; opacity: 0.7;\"></path><path transform=\"translate(37.142857142857146,184.6153846153846)\" d=\"M2.7386127875258306,0A2.7386127875258306,2.7386127875258306,0,1,1,-2.7386127875258306,0A2.7386127875258306,2.7386127875258306,0,1,1,2.7386127875258306,0\" style=\"fill: none; stroke: #4c78a8; stroke-width: 2; opacity: 0.7;\"></path><path transform=\"translate(45.714285714285715,153.84615384615384)\" d=\"M2.7386127875258306,0A2.7386127875258306,2.7386127875258306,0,1,1,-2.7386127875258306,0A2.7386127875258306,2.7386127875258306,0,1,1,2.7386127875258306,0\" style=\"fill: none; stroke: #4c78a8; stroke-width: 2; opacity: 0.7;\"></path><path transform=\"translate(54.285714285714285,169.23076923076923)\" d=\"M2.7386127875258306,0A2.7386127875258306,2.7386127875258306,0,1,1,-2.7386127875258306,0A2.7386127875258306,2.7386127875258306,0,1,1,2.7386127875258306,0\" style=\"fill: none; stroke: #4c78a8; stroke-width: 2; opacity: 0.7;\"></path><path transform=\"translate(40,176.92307692307693)\" d=\"M2.7386127875258306,0A2.7386127875258306,2.7386127875258306,0,1,1,-2.7386127875258306,0A2.7386127875258306,2.7386127875258306,0,1,1,2.7386127875258306,0\" style=\"fill: none; stroke: #4c78a8; stroke-width: 2; opacity: 0.7;\"></path><path transform=\"translate(45.714285714285715,184.6153846153846)\" d=\"M2.7386127875258306,0A2.7386127875258306,2.7386127875258306,0,1,1,-2.7386127875258306,0A2.7386127875258306,2.7386127875258306,0,1,1,2.7386127875258306,0\" style=\"fill: none; stroke: #4c78a8; stroke-width: 2; opacity: 0.7;\"></path><path transform=\"translate(40,184.6153846153846)\" d=\"M2.7386127875258306,0A2.7386127875258306,2.7386127875258306,0,1,1,-2.7386127875258306,0A2.7386127875258306,2.7386127875258306,0,1,1,2.7386127875258306,0\" style=\"fill: none; stroke: #4c78a8; stroke-width: 2; opacity: 0.7;\"></path><path transform=\"translate(42.857142857142854,184.6153846153846)\" d=\"M2.7386127875258306,0A2.7386127875258306,2.7386127875258306,0,1,1,-2.7386127875258306,0A2.7386127875258306,2.7386127875258306,0,1,1,2.7386127875258306,0\" style=\"fill: none; stroke: #4c78a8; stroke-width: 2; opacity: 0.7;\"></path><path transform=\"translate(40,184.6153846153846)\" d=\"M2.7386127875258306,0A2.7386127875258306,2.7386127875258306,0,1,1,-2.7386127875258306,0A2.7386127875258306,2.7386127875258306,0,1,1,2.7386127875258306,0\" style=\"fill: none; stroke: #4c78a8; stroke-width: 2; opacity: 0.7;\"></path><path transform=\"translate(134.2857142857143,92.3076923076923)\" d=\"M2.7386127875258306,0A2.7386127875258306,2.7386127875258306,0,1,1,-2.7386127875258306,0A2.7386127875258306,2.7386127875258306,0,1,1,2.7386127875258306,0\" style=\"fill: none; stroke: #f58518; stroke-width: 2; opacity: 0.7;\"></path><path transform=\"translate(128.57142857142858,84.61538461538463)\" d=\"M2.7386127875258306,0A2.7386127875258306,2.7386127875258306,0,1,1,-2.7386127875258306,0A2.7386127875258306,2.7386127875258306,0,1,1,2.7386127875258306,0\" style=\"fill: none; stroke: #f58518; stroke-width: 2; opacity: 0.7;\"></path><path transform=\"translate(140,84.61538461538463)\" d=\"M2.7386127875258306,0A2.7386127875258306,2.7386127875258306,0,1,1,-2.7386127875258306,0A2.7386127875258306,2.7386127875258306,0,1,1,2.7386127875258306,0\" style=\"fill: none; stroke: #f58518; stroke-width: 2; opacity: 0.7;\"></path><path transform=\"translate(114.28571428571428,100)\" d=\"M2.7386127875258306,0A2.7386127875258306,2.7386127875258306,0,1,1,-2.7386127875258306,0A2.7386127875258306,2.7386127875258306,0,1,1,2.7386127875258306,0\" style=\"fill: none; stroke: #f58518; stroke-width: 2; opacity: 0.7;\"></path><path transform=\"translate(131.42857142857142,84.61538461538463)\" d=\"M2.7386127875258306,0A2.7386127875258306,2.7386127875258306,0,1,1,-2.7386127875258306,0A2.7386127875258306,2.7386127875258306,0,1,1,2.7386127875258306,0\" style=\"fill: none; stroke: #f58518; stroke-width: 2; opacity: 0.7;\"></path><path transform=\"translate(128.57142857142858,100)\" d=\"M2.7386127875258306,0A2.7386127875258306,2.7386127875258306,0,1,1,-2.7386127875258306,0A2.7386127875258306,2.7386127875258306,0,1,1,2.7386127875258306,0\" style=\"fill: none; stroke: #f58518; stroke-width: 2; opacity: 0.7;\"></path><path transform=\"translate(134.2857142857143,76.92307692307692)\" d=\"M2.7386127875258306,0A2.7386127875258306,2.7386127875258306,0,1,1,-2.7386127875258306,0A2.7386127875258306,2.7386127875258306,0,1,1,2.7386127875258306,0\" style=\"fill: none; stroke: #f58518; stroke-width: 2; opacity: 0.7;\"></path><path transform=\"translate(94.28571428571428,123.07692307692308)\" d=\"M2.7386127875258306,0A2.7386127875258306,2.7386127875258306,0,1,1,-2.7386127875258306,0A2.7386127875258306,2.7386127875258306,0,1,1,2.7386127875258306,0\" style=\"fill: none; stroke: #f58518; stroke-width: 2; opacity: 0.7;\"></path><path transform=\"translate(131.42857142857142,100)\" d=\"M2.7386127875258306,0A2.7386127875258306,2.7386127875258306,0,1,1,-2.7386127875258306,0A2.7386127875258306,2.7386127875258306,0,1,1,2.7386127875258306,0\" style=\"fill: none; stroke: #f58518; stroke-width: 2; opacity: 0.7;\"></path><path transform=\"translate(111.42857142857143,92.3076923076923)\" d=\"M2.7386127875258306,0A2.7386127875258306,2.7386127875258306,0,1,1,-2.7386127875258306,0A2.7386127875258306,2.7386127875258306,0,1,1,2.7386127875258306,0\" style=\"fill: none; stroke: #f58518; stroke-width: 2; opacity: 0.7;\"></path><path transform=\"translate(100,123.07692307692308)\" d=\"M2.7386127875258306,0A2.7386127875258306,2.7386127875258306,0,1,1,-2.7386127875258306,0A2.7386127875258306,2.7386127875258306,0,1,1,2.7386127875258306,0\" style=\"fill: none; stroke: #f58518; stroke-width: 2; opacity: 0.7;\"></path><path transform=\"translate(120,84.61538461538463)\" d=\"M2.7386127875258306,0A2.7386127875258306,2.7386127875258306,0,1,1,-2.7386127875258306,0A2.7386127875258306,2.7386127875258306,0,1,1,2.7386127875258306,0\" style=\"fill: none; stroke: #f58518; stroke-width: 2; opacity: 0.7;\"></path><path transform=\"translate(114.28571428571428,123.07692307692308)\" d=\"M2.7386127875258306,0A2.7386127875258306,2.7386127875258306,0,1,1,-2.7386127875258306,0A2.7386127875258306,2.7386127875258306,0,1,1,2.7386127875258306,0\" style=\"fill: none; stroke: #f58518; stroke-width: 2; opacity: 0.7;\"></path><path transform=\"translate(134.2857142857143,92.3076923076923)\" d=\"M2.7386127875258306,0A2.7386127875258306,2.7386127875258306,0,1,1,-2.7386127875258306,0A2.7386127875258306,2.7386127875258306,0,1,1,2.7386127875258306,0\" style=\"fill: none; stroke: #f58518; stroke-width: 2; opacity: 0.7;\"></path><path transform=\"translate(102.85714285714288,100)\" d=\"M2.7386127875258306,0A2.7386127875258306,2.7386127875258306,0,1,1,-2.7386127875258306,0A2.7386127875258306,2.7386127875258306,0,1,1,2.7386127875258306,0\" style=\"fill: none; stroke: #f58518; stroke-width: 2; opacity: 0.7;\"></path><path transform=\"translate(125.71428571428574,92.3076923076923)\" d=\"M2.7386127875258306,0A2.7386127875258306,2.7386127875258306,0,1,1,-2.7386127875258306,0A2.7386127875258306,2.7386127875258306,0,1,1,2.7386127875258306,0\" style=\"fill: none; stroke: #f58518; stroke-width: 2; opacity: 0.7;\"></path><path transform=\"translate(128.57142857142858,84.61538461538463)\" d=\"M2.7386127875258306,0A2.7386127875258306,2.7386127875258306,0,1,1,-2.7386127875258306,0A2.7386127875258306,2.7386127875258306,0,1,1,2.7386127875258306,0\" style=\"fill: none; stroke: #f58518; stroke-width: 2; opacity: 0.7;\"></path><path transform=\"translate(117.14285714285712,123.07692307692308)\" d=\"M2.7386127875258306,0A2.7386127875258306,2.7386127875258306,0,1,1,-2.7386127875258306,0A2.7386127875258306,2.7386127875258306,0,1,1,2.7386127875258306,0\" style=\"fill: none; stroke: #f58518; stroke-width: 2; opacity: 0.7;\"></path><path transform=\"translate(128.57142857142858,84.61538461538463)\" d=\"M2.7386127875258306,0A2.7386127875258306,2.7386127875258306,0,1,1,-2.7386127875258306,0A2.7386127875258306,2.7386127875258306,0,1,1,2.7386127875258306,0\" style=\"fill: none; stroke: #f58518; stroke-width: 2; opacity: 0.7;\"></path><path transform=\"translate(111.42857142857143,115.38461538461539)\" d=\"M2.7386127875258306,0A2.7386127875258306,2.7386127875258306,0,1,1,-2.7386127875258306,0A2.7386127875258306,2.7386127875258306,0,1,1,2.7386127875258306,0\" style=\"fill: none; stroke: #f58518; stroke-width: 2; opacity: 0.7;\"></path><path transform=\"translate(137.14285714285714,61.53846153846155)\" d=\"M2.7386127875258306,0A2.7386127875258306,2.7386127875258306,0,1,1,-2.7386127875258306,0A2.7386127875258306,2.7386127875258306,0,1,1,2.7386127875258306,0\" style=\"fill: none; stroke: #f58518; stroke-width: 2; opacity: 0.7;\"></path><path transform=\"translate(114.28571428571428,100)\" d=\"M2.7386127875258306,0A2.7386127875258306,2.7386127875258306,0,1,1,-2.7386127875258306,0A2.7386127875258306,2.7386127875258306,0,1,1,2.7386127875258306,0\" style=\"fill: none; stroke: #f58518; stroke-width: 2; opacity: 0.7;\"></path><path transform=\"translate(140,84.61538461538463)\" d=\"M2.7386127875258306,0A2.7386127875258306,2.7386127875258306,0,1,1,-2.7386127875258306,0A2.7386127875258306,2.7386127875258306,0,1,1,2.7386127875258306,0\" style=\"fill: none; stroke: #f58518; stroke-width: 2; opacity: 0.7;\"></path><path transform=\"translate(134.2857142857143,107.6923076923077)\" d=\"M2.7386127875258306,0A2.7386127875258306,2.7386127875258306,0,1,1,-2.7386127875258306,0A2.7386127875258306,2.7386127875258306,0,1,1,2.7386127875258306,0\" style=\"fill: none; stroke: #f58518; stroke-width: 2; opacity: 0.7;\"></path><path transform=\"translate(122.85714285714285,100)\" d=\"M2.7386127875258306,0A2.7386127875258306,2.7386127875258306,0,1,1,-2.7386127875258306,0A2.7386127875258306,2.7386127875258306,0,1,1,2.7386127875258306,0\" style=\"fill: none; stroke: #f58518; stroke-width: 2; opacity: 0.7;\"></path><path transform=\"translate(125.71428571428574,92.3076923076923)\" d=\"M2.7386127875258306,0A2.7386127875258306,2.7386127875258306,0,1,1,-2.7386127875258306,0A2.7386127875258306,2.7386127875258306,0,1,1,2.7386127875258306,0\" style=\"fill: none; stroke: #f58518; stroke-width: 2; opacity: 0.7;\"></path><path transform=\"translate(137.14285714285714,92.3076923076923)\" d=\"M2.7386127875258306,0A2.7386127875258306,2.7386127875258306,0,1,1,-2.7386127875258306,0A2.7386127875258306,2.7386127875258306,0,1,1,2.7386127875258306,0\" style=\"fill: none; stroke: #f58518; stroke-width: 2; opacity: 0.7;\"></path><path transform=\"translate(142.85714285714286,69.23076923076923)\" d=\"M2.7386127875258306,0A2.7386127875258306,2.7386127875258306,0,1,1,-2.7386127875258306,0A2.7386127875258306,2.7386127875258306,0,1,1,2.7386127875258306,0\" style=\"fill: none; stroke: #f58518; stroke-width: 2; opacity: 0.7;\"></path><path transform=\"translate(128.57142857142858,84.61538461538463)\" d=\"M2.7386127875258306,0A2.7386127875258306,2.7386127875258306,0,1,1,-2.7386127875258306,0A2.7386127875258306,2.7386127875258306,0,1,1,2.7386127875258306,0\" style=\"fill: none; stroke: #f58518; stroke-width: 2; opacity: 0.7;\"></path><path transform=\"translate(100,123.07692307692308)\" d=\"M2.7386127875258306,0A2.7386127875258306,2.7386127875258306,0,1,1,-2.7386127875258306,0A2.7386127875258306,2.7386127875258306,0,1,1,2.7386127875258306,0\" style=\"fill: none; stroke: #f58518; stroke-width: 2; opacity: 0.7;\"></path><path transform=\"translate(108.57142857142857,115.38461538461539)\" d=\"M2.7386127875258306,0A2.7386127875258306,2.7386127875258306,0,1,1,-2.7386127875258306,0A2.7386127875258306,2.7386127875258306,0,1,1,2.7386127875258306,0\" style=\"fill: none; stroke: #f58518; stroke-width: 2; opacity: 0.7;\"></path><path transform=\"translate(105.71428571428572,123.07692307692308)\" d=\"M2.7386127875258306,0A2.7386127875258306,2.7386127875258306,0,1,1,-2.7386127875258306,0A2.7386127875258306,2.7386127875258306,0,1,1,2.7386127875258306,0\" style=\"fill: none; stroke: #f58518; stroke-width: 2; opacity: 0.7;\"></path><path transform=\"translate(111.42857142857143,107.6923076923077)\" d=\"M2.7386127875258306,0A2.7386127875258306,2.7386127875258306,0,1,1,-2.7386127875258306,0A2.7386127875258306,2.7386127875258306,0,1,1,2.7386127875258306,0\" style=\"fill: none; stroke: #f58518; stroke-width: 2; opacity: 0.7;\"></path><path transform=\"translate(145.7142857142857,76.92307692307692)\" d=\"M2.7386127875258306,0A2.7386127875258306,2.7386127875258306,0,1,1,-2.7386127875258306,0A2.7386127875258306,2.7386127875258306,0,1,1,2.7386127875258306,0\" style=\"fill: none; stroke: #f58518; stroke-width: 2; opacity: 0.7;\"></path><path transform=\"translate(128.57142857142858,84.61538461538463)\" d=\"M2.7386127875258306,0A2.7386127875258306,2.7386127875258306,0,1,1,-2.7386127875258306,0A2.7386127875258306,2.7386127875258306,0,1,1,2.7386127875258306,0\" style=\"fill: none; stroke: #f58518; stroke-width: 2; opacity: 0.7;\"></path><path transform=\"translate(128.57142857142858,76.92307692307692)\" d=\"M2.7386127875258306,0A2.7386127875258306,2.7386127875258306,0,1,1,-2.7386127875258306,0A2.7386127875258306,2.7386127875258306,0,1,1,2.7386127875258306,0\" style=\"fill: none; stroke: #f58518; stroke-width: 2; opacity: 0.7;\"></path><path transform=\"translate(134.2857142857143,84.61538461538463)\" d=\"M2.7386127875258306,0A2.7386127875258306,2.7386127875258306,0,1,1,-2.7386127875258306,0A2.7386127875258306,2.7386127875258306,0,1,1,2.7386127875258306,0\" style=\"fill: none; stroke: #f58518; stroke-width: 2; opacity: 0.7;\"></path><path transform=\"translate(125.71428571428574,100)\" d=\"M2.7386127875258306,0A2.7386127875258306,2.7386127875258306,0,1,1,-2.7386127875258306,0A2.7386127875258306,2.7386127875258306,0,1,1,2.7386127875258306,0\" style=\"fill: none; stroke: #f58518; stroke-width: 2; opacity: 0.7;\"></path><path transform=\"translate(117.14285714285712,100)\" d=\"M2.7386127875258306,0A2.7386127875258306,2.7386127875258306,0,1,1,-2.7386127875258306,0A2.7386127875258306,2.7386127875258306,0,1,1,2.7386127875258306,0\" style=\"fill: none; stroke: #f58518; stroke-width: 2; opacity: 0.7;\"></path><path transform=\"translate(114.28571428571428,100)\" d=\"M2.7386127875258306,0A2.7386127875258306,2.7386127875258306,0,1,1,-2.7386127875258306,0A2.7386127875258306,2.7386127875258306,0,1,1,2.7386127875258306,0\" style=\"fill: none; stroke: #f58518; stroke-width: 2; opacity: 0.7;\"></path><path transform=\"translate(125.71428571428574,107.6923076923077)\" d=\"M2.7386127875258306,0A2.7386127875258306,2.7386127875258306,0,1,1,-2.7386127875258306,0A2.7386127875258306,2.7386127875258306,0,1,1,2.7386127875258306,0\" style=\"fill: none; stroke: #f58518; stroke-width: 2; opacity: 0.7;\"></path><path transform=\"translate(131.42857142857142,92.3076923076923)\" d=\"M2.7386127875258306,0A2.7386127875258306,2.7386127875258306,0,1,1,-2.7386127875258306,0A2.7386127875258306,2.7386127875258306,0,1,1,2.7386127875258306,0\" style=\"fill: none; stroke: #f58518; stroke-width: 2; opacity: 0.7;\"></path><path transform=\"translate(114.28571428571428,107.6923076923077)\" d=\"M2.7386127875258306,0A2.7386127875258306,2.7386127875258306,0,1,1,-2.7386127875258306,0A2.7386127875258306,2.7386127875258306,0,1,1,2.7386127875258306,0\" style=\"fill: none; stroke: #f58518; stroke-width: 2; opacity: 0.7;\"></path><path transform=\"translate(94.28571428571428,123.07692307692308)\" d=\"M2.7386127875258306,0A2.7386127875258306,2.7386127875258306,0,1,1,-2.7386127875258306,0A2.7386127875258306,2.7386127875258306,0,1,1,2.7386127875258306,0\" style=\"fill: none; stroke: #f58518; stroke-width: 2; opacity: 0.7;\"></path><path transform=\"translate(120,100)\" d=\"M2.7386127875258306,0A2.7386127875258306,2.7386127875258306,0,1,1,-2.7386127875258306,0A2.7386127875258306,2.7386127875258306,0,1,1,2.7386127875258306,0\" style=\"fill: none; stroke: #f58518; stroke-width: 2; opacity: 0.7;\"></path><path transform=\"translate(120,107.6923076923077)\" d=\"M2.7386127875258306,0A2.7386127875258306,2.7386127875258306,0,1,1,-2.7386127875258306,0A2.7386127875258306,2.7386127875258306,0,1,1,2.7386127875258306,0\" style=\"fill: none; stroke: #f58518; stroke-width: 2; opacity: 0.7;\"></path><path transform=\"translate(120,100)\" d=\"M2.7386127875258306,0A2.7386127875258306,2.7386127875258306,0,1,1,-2.7386127875258306,0A2.7386127875258306,2.7386127875258306,0,1,1,2.7386127875258306,0\" style=\"fill: none; stroke: #f58518; stroke-width: 2; opacity: 0.7;\"></path><path transform=\"translate(122.85714285714285,100)\" d=\"M2.7386127875258306,0A2.7386127875258306,2.7386127875258306,0,1,1,-2.7386127875258306,0A2.7386127875258306,2.7386127875258306,0,1,1,2.7386127875258306,0\" style=\"fill: none; stroke: #f58518; stroke-width: 2; opacity: 0.7;\"></path><path transform=\"translate(85.71428571428571,115.38461538461539)\" d=\"M2.7386127875258306,0A2.7386127875258306,2.7386127875258306,0,1,1,-2.7386127875258306,0A2.7386127875258306,2.7386127875258306,0,1,1,2.7386127875258306,0\" style=\"fill: none; stroke: #f58518; stroke-width: 2; opacity: 0.7;\"></path><path transform=\"translate(117.14285714285712,100)\" d=\"M2.7386127875258306,0A2.7386127875258306,2.7386127875258306,0,1,1,-2.7386127875258306,0A2.7386127875258306,2.7386127875258306,0,1,1,2.7386127875258306,0\" style=\"fill: none; stroke: #f58518; stroke-width: 2; opacity: 0.7;\"></path><path transform=\"translate(171.42857142857142,7.692307692307708)\" d=\"M2.7386127875258306,0A2.7386127875258306,2.7386127875258306,0,1,1,-2.7386127875258306,0A2.7386127875258306,2.7386127875258306,0,1,1,2.7386127875258306,0\" style=\"fill: none; stroke: #e45756; stroke-width: 2; opacity: 0.7;\"></path><path transform=\"translate(145.7142857142857,53.84615384615387)\" d=\"M2.7386127875258306,0A2.7386127875258306,2.7386127875258306,0,1,1,-2.7386127875258306,0A2.7386127875258306,2.7386127875258306,0,1,1,2.7386127875258306,0\" style=\"fill: none; stroke: #e45756; stroke-width: 2; opacity: 0.7;\"></path><path transform=\"translate(168.57142857142858,38.46153846153845)\" d=\"M2.7386127875258306,0A2.7386127875258306,2.7386127875258306,0,1,1,-2.7386127875258306,0A2.7386127875258306,2.7386127875258306,0,1,1,2.7386127875258306,0\" style=\"fill: none; stroke: #e45756; stroke-width: 2; opacity: 0.7;\"></path><path transform=\"translate(160,61.53846153846155)\" d=\"M2.7386127875258306,0A2.7386127875258306,2.7386127875258306,0,1,1,-2.7386127875258306,0A2.7386127875258306,2.7386127875258306,0,1,1,2.7386127875258306,0\" style=\"fill: none; stroke: #e45756; stroke-width: 2; opacity: 0.7;\"></path><path transform=\"translate(165.7142857142857,30.769230769230774)\" d=\"M2.7386127875258306,0A2.7386127875258306,2.7386127875258306,0,1,1,-2.7386127875258306,0A2.7386127875258306,2.7386127875258306,0,1,1,2.7386127875258306,0\" style=\"fill: none; stroke: #e45756; stroke-width: 2; opacity: 0.7;\"></path><path transform=\"translate(188.57142857142856,38.46153846153845)\" d=\"M2.7386127875258306,0A2.7386127875258306,2.7386127875258306,0,1,1,-2.7386127875258306,0A2.7386127875258306,2.7386127875258306,0,1,1,2.7386127875258306,0\" style=\"fill: none; stroke: #e45756; stroke-width: 2; opacity: 0.7;\"></path><path transform=\"translate(128.57142857142858,69.23076923076923)\" d=\"M2.7386127875258306,0A2.7386127875258306,2.7386127875258306,0,1,1,-2.7386127875258306,0A2.7386127875258306,2.7386127875258306,0,1,1,2.7386127875258306,0\" style=\"fill: none; stroke: #e45756; stroke-width: 2; opacity: 0.7;\"></path><path transform=\"translate(180,61.53846153846155)\" d=\"M2.7386127875258306,0A2.7386127875258306,2.7386127875258306,0,1,1,-2.7386127875258306,0A2.7386127875258306,2.7386127875258306,0,1,1,2.7386127875258306,0\" style=\"fill: none; stroke: #e45756; stroke-width: 2; opacity: 0.7;\"></path><path transform=\"translate(165.7142857142857,61.53846153846155)\" d=\"M2.7386127875258306,0A2.7386127875258306,2.7386127875258306,0,1,1,-2.7386127875258306,0A2.7386127875258306,2.7386127875258306,0,1,1,2.7386127875258306,0\" style=\"fill: none; stroke: #e45756; stroke-width: 2; opacity: 0.7;\"></path><path transform=\"translate(174.28571428571428,7.692307692307708)\" d=\"M2.7386127875258306,0A2.7386127875258306,2.7386127875258306,0,1,1,-2.7386127875258306,0A2.7386127875258306,2.7386127875258306,0,1,1,2.7386127875258306,0\" style=\"fill: none; stroke: #e45756; stroke-width: 2; opacity: 0.7;\"></path><path transform=\"translate(145.7142857142857,46.15384615384616)\" d=\"M2.7386127875258306,0A2.7386127875258306,2.7386127875258306,0,1,1,-2.7386127875258306,0A2.7386127875258306,2.7386127875258306,0,1,1,2.7386127875258306,0\" style=\"fill: none; stroke: #e45756; stroke-width: 2; opacity: 0.7;\"></path><path transform=\"translate(151.42857142857142,53.84615384615387)\" d=\"M2.7386127875258306,0A2.7386127875258306,2.7386127875258306,0,1,1,-2.7386127875258306,0A2.7386127875258306,2.7386127875258306,0,1,1,2.7386127875258306,0\" style=\"fill: none; stroke: #e45756; stroke-width: 2; opacity: 0.7;\"></path><path transform=\"translate(157.14285714285714,38.46153846153845)\" d=\"M2.7386127875258306,0A2.7386127875258306,2.7386127875258306,0,1,1,-2.7386127875258306,0A2.7386127875258306,2.7386127875258306,0,1,1,2.7386127875258306,0\" style=\"fill: none; stroke: #e45756; stroke-width: 2; opacity: 0.7;\"></path><path transform=\"translate(142.85714285714286,46.15384615384616)\" d=\"M2.7386127875258306,0A2.7386127875258306,2.7386127875258306,0,1,1,-2.7386127875258306,0A2.7386127875258306,2.7386127875258306,0,1,1,2.7386127875258306,0\" style=\"fill: none; stroke: #e45756; stroke-width: 2; opacity: 0.7;\"></path><path transform=\"translate(145.7142857142857,15.384615384615387)\" d=\"M2.7386127875258306,0A2.7386127875258306,2.7386127875258306,0,1,1,-2.7386127875258306,0A2.7386127875258306,2.7386127875258306,0,1,1,2.7386127875258306,0\" style=\"fill: none; stroke: #e45756; stroke-width: 2; opacity: 0.7;\"></path><path transform=\"translate(151.42857142857142,23.076923076923094)\" d=\"M2.7386127875258306,0A2.7386127875258306,2.7386127875258306,0,1,1,-2.7386127875258306,0A2.7386127875258306,2.7386127875258306,0,1,1,2.7386127875258306,0\" style=\"fill: none; stroke: #e45756; stroke-width: 2; opacity: 0.7;\"></path><path transform=\"translate(157.14285714285714,61.53846153846155)\" d=\"M2.7386127875258306,0A2.7386127875258306,2.7386127875258306,0,1,1,-2.7386127875258306,0A2.7386127875258306,2.7386127875258306,0,1,1,2.7386127875258306,0\" style=\"fill: none; stroke: #e45756; stroke-width: 2; opacity: 0.7;\"></path><path transform=\"translate(191.42857142857144,30.769230769230774)\" d=\"M2.7386127875258306,0A2.7386127875258306,2.7386127875258306,0,1,1,-2.7386127875258306,0A2.7386127875258306,2.7386127875258306,0,1,1,2.7386127875258306,0\" style=\"fill: none; stroke: #e45756; stroke-width: 2; opacity: 0.7;\"></path><path transform=\"translate(197.14285714285717,23.076923076923094)\" d=\"M2.7386127875258306,0A2.7386127875258306,2.7386127875258306,0,1,1,-2.7386127875258306,0A2.7386127875258306,2.7386127875258306,0,1,1,2.7386127875258306,0\" style=\"fill: none; stroke: #e45756; stroke-width: 2; opacity: 0.7;\"></path><path transform=\"translate(142.85714285714286,84.61538461538463)\" d=\"M2.7386127875258306,0A2.7386127875258306,2.7386127875258306,0,1,1,-2.7386127875258306,0A2.7386127875258306,2.7386127875258306,0,1,1,2.7386127875258306,0\" style=\"fill: none; stroke: #e45756; stroke-width: 2; opacity: 0.7;\"></path><path transform=\"translate(162.85714285714286,23.076923076923094)\" d=\"M2.7386127875258306,0A2.7386127875258306,2.7386127875258306,0,1,1,-2.7386127875258306,0A2.7386127875258306,2.7386127875258306,0,1,1,2.7386127875258306,0\" style=\"fill: none; stroke: #e45756; stroke-width: 2; opacity: 0.7;\"></path><path transform=\"translate(140,46.15384615384616)\" d=\"M2.7386127875258306,0A2.7386127875258306,2.7386127875258306,0,1,1,-2.7386127875258306,0A2.7386127875258306,2.7386127875258306,0,1,1,2.7386127875258306,0\" style=\"fill: none; stroke: #e45756; stroke-width: 2; opacity: 0.7;\"></path><path transform=\"translate(191.42857142857144,46.15384615384616)\" d=\"M2.7386127875258306,0A2.7386127875258306,2.7386127875258306,0,1,1,-2.7386127875258306,0A2.7386127875258306,2.7386127875258306,0,1,1,2.7386127875258306,0\" style=\"fill: none; stroke: #e45756; stroke-width: 2; opacity: 0.7;\"></path><path transform=\"translate(140,61.53846153846155)\" d=\"M2.7386127875258306,0A2.7386127875258306,2.7386127875258306,0,1,1,-2.7386127875258306,0A2.7386127875258306,2.7386127875258306,0,1,1,2.7386127875258306,0\" style=\"fill: none; stroke: #e45756; stroke-width: 2; opacity: 0.7;\"></path><path transform=\"translate(162.85714285714286,38.46153846153845)\" d=\"M2.7386127875258306,0A2.7386127875258306,2.7386127875258306,0,1,1,-2.7386127875258306,0A2.7386127875258306,2.7386127875258306,0,1,1,2.7386127875258306,0\" style=\"fill: none; stroke: #e45756; stroke-width: 2; opacity: 0.7;\"></path><path transform=\"translate(171.42857142857142,61.53846153846155)\" d=\"M2.7386127875258306,0A2.7386127875258306,2.7386127875258306,0,1,1,-2.7386127875258306,0A2.7386127875258306,2.7386127875258306,0,1,1,2.7386127875258306,0\" style=\"fill: none; stroke: #e45756; stroke-width: 2; opacity: 0.7;\"></path><path transform=\"translate(137.14285714285714,61.53846153846155)\" d=\"M2.7386127875258306,0A2.7386127875258306,2.7386127875258306,0,1,1,-2.7386127875258306,0A2.7386127875258306,2.7386127875258306,0,1,1,2.7386127875258306,0\" style=\"fill: none; stroke: #e45756; stroke-width: 2; opacity: 0.7;\"></path><path transform=\"translate(140,61.53846153846155)\" d=\"M2.7386127875258306,0A2.7386127875258306,2.7386127875258306,0,1,1,-2.7386127875258306,0A2.7386127875258306,2.7386127875258306,0,1,1,2.7386127875258306,0\" style=\"fill: none; stroke: #e45756; stroke-width: 2; opacity: 0.7;\"></path><path transform=\"translate(160,38.46153846153845)\" d=\"M2.7386127875258306,0A2.7386127875258306,2.7386127875258306,0,1,1,-2.7386127875258306,0A2.7386127875258306,2.7386127875258306,0,1,1,2.7386127875258306,0\" style=\"fill: none; stroke: #e45756; stroke-width: 2; opacity: 0.7;\"></path><path transform=\"translate(165.7142857142857,76.92307692307692)\" d=\"M2.7386127875258306,0A2.7386127875258306,2.7386127875258306,0,1,1,-2.7386127875258306,0A2.7386127875258306,2.7386127875258306,0,1,1,2.7386127875258306,0\" style=\"fill: none; stroke: #e45756; stroke-width: 2; opacity: 0.7;\"></path><path transform=\"translate(174.28571428571428,53.84615384615387)\" d=\"M2.7386127875258306,0A2.7386127875258306,2.7386127875258306,0,1,1,-2.7386127875258306,0A2.7386127875258306,2.7386127875258306,0,1,1,2.7386127875258306,0\" style=\"fill: none; stroke: #e45756; stroke-width: 2; opacity: 0.7;\"></path><path transform=\"translate(182.85714285714286,46.15384615384616)\" d=\"M2.7386127875258306,0A2.7386127875258306,2.7386127875258306,0,1,1,-2.7386127875258306,0A2.7386127875258306,2.7386127875258306,0,1,1,2.7386127875258306,0\" style=\"fill: none; stroke: #e45756; stroke-width: 2; opacity: 0.7;\"></path><path transform=\"translate(160,30.769230769230774)\" d=\"M2.7386127875258306,0A2.7386127875258306,2.7386127875258306,0,1,1,-2.7386127875258306,0A2.7386127875258306,2.7386127875258306,0,1,1,2.7386127875258306,0\" style=\"fill: none; stroke: #e45756; stroke-width: 2; opacity: 0.7;\"></path><path transform=\"translate(145.7142857142857,84.61538461538463)\" d=\"M2.7386127875258306,0A2.7386127875258306,2.7386127875258306,0,1,1,-2.7386127875258306,0A2.7386127875258306,2.7386127875258306,0,1,1,2.7386127875258306,0\" style=\"fill: none; stroke: #e45756; stroke-width: 2; opacity: 0.7;\"></path><path transform=\"translate(160,92.3076923076923)\" d=\"M2.7386127875258306,0A2.7386127875258306,2.7386127875258306,0,1,1,-2.7386127875258306,0A2.7386127875258306,2.7386127875258306,0,1,1,2.7386127875258306,0\" style=\"fill: none; stroke: #e45756; stroke-width: 2; opacity: 0.7;\"></path><path transform=\"translate(174.28571428571428,23.076923076923094)\" d=\"M2.7386127875258306,0A2.7386127875258306,2.7386127875258306,0,1,1,-2.7386127875258306,0A2.7386127875258306,2.7386127875258306,0,1,1,2.7386127875258306,0\" style=\"fill: none; stroke: #e45756; stroke-width: 2; opacity: 0.7;\"></path><path transform=\"translate(160,15.384615384615387)\" d=\"M2.7386127875258306,0A2.7386127875258306,2.7386127875258306,0,1,1,-2.7386127875258306,0A2.7386127875258306,2.7386127875258306,0,1,1,2.7386127875258306,0\" style=\"fill: none; stroke: #e45756; stroke-width: 2; opacity: 0.7;\"></path><path transform=\"translate(157.14285714285714,61.53846153846155)\" d=\"M2.7386127875258306,0A2.7386127875258306,2.7386127875258306,0,1,1,-2.7386127875258306,0A2.7386127875258306,2.7386127875258306,0,1,1,2.7386127875258306,0\" style=\"fill: none; stroke: #e45756; stroke-width: 2; opacity: 0.7;\"></path><path transform=\"translate(137.14285714285714,61.53846153846155)\" d=\"M2.7386127875258306,0A2.7386127875258306,2.7386127875258306,0,1,1,-2.7386127875258306,0A2.7386127875258306,2.7386127875258306,0,1,1,2.7386127875258306,0\" style=\"fill: none; stroke: #e45756; stroke-width: 2; opacity: 0.7;\"></path><path transform=\"translate(154.2857142857143,38.46153846153845)\" d=\"M2.7386127875258306,0A2.7386127875258306,2.7386127875258306,0,1,1,-2.7386127875258306,0A2.7386127875258306,2.7386127875258306,0,1,1,2.7386127875258306,0\" style=\"fill: none; stroke: #e45756; stroke-width: 2; opacity: 0.7;\"></path><path transform=\"translate(160,15.384615384615387)\" d=\"M2.7386127875258306,0A2.7386127875258306,2.7386127875258306,0,1,1,-2.7386127875258306,0A2.7386127875258306,2.7386127875258306,0,1,1,2.7386127875258306,0\" style=\"fill: none; stroke: #e45756; stroke-width: 2; opacity: 0.7;\"></path><path transform=\"translate(145.7142857142857,23.076923076923094)\" d=\"M2.7386127875258306,0A2.7386127875258306,2.7386127875258306,0,1,1,-2.7386127875258306,0A2.7386127875258306,2.7386127875258306,0,1,1,2.7386127875258306,0\" style=\"fill: none; stroke: #e45756; stroke-width: 2; opacity: 0.7;\"></path><path transform=\"translate(145.7142857142857,53.84615384615387)\" d=\"M2.7386127875258306,0A2.7386127875258306,2.7386127875258306,0,1,1,-2.7386127875258306,0A2.7386127875258306,2.7386127875258306,0,1,1,2.7386127875258306,0\" style=\"fill: none; stroke: #e45756; stroke-width: 2; opacity: 0.7;\"></path><path transform=\"translate(168.57142857142858,23.076923076923094)\" d=\"M2.7386127875258306,0A2.7386127875258306,2.7386127875258306,0,1,1,-2.7386127875258306,0A2.7386127875258306,2.7386127875258306,0,1,1,2.7386127875258306,0\" style=\"fill: none; stroke: #e45756; stroke-width: 2; opacity: 0.7;\"></path><path transform=\"translate(162.85714285714286,7.692307692307708)\" d=\"M2.7386127875258306,0A2.7386127875258306,2.7386127875258306,0,1,1,-2.7386127875258306,0A2.7386127875258306,2.7386127875258306,0,1,1,2.7386127875258306,0\" style=\"fill: none; stroke: #e45756; stroke-width: 2; opacity: 0.7;\"></path><path transform=\"translate(148.57142857142858,23.076923076923094)\" d=\"M2.7386127875258306,0A2.7386127875258306,2.7386127875258306,0,1,1,-2.7386127875258306,0A2.7386127875258306,2.7386127875258306,0,1,1,2.7386127875258306,0\" style=\"fill: none; stroke: #e45756; stroke-width: 2; opacity: 0.7;\"></path><path transform=\"translate(142.85714285714286,53.84615384615387)\" d=\"M2.7386127875258306,0A2.7386127875258306,2.7386127875258306,0,1,1,-2.7386127875258306,0A2.7386127875258306,2.7386127875258306,0,1,1,2.7386127875258306,0\" style=\"fill: none; stroke: #e45756; stroke-width: 2; opacity: 0.7;\"></path><path transform=\"translate(148.57142857142858,46.15384615384616)\" d=\"M2.7386127875258306,0A2.7386127875258306,2.7386127875258306,0,1,1,-2.7386127875258306,0A2.7386127875258306,2.7386127875258306,0,1,1,2.7386127875258306,0\" style=\"fill: none; stroke: #e45756; stroke-width: 2; opacity: 0.7;\"></path><path transform=\"translate(154.2857142857143,23.076923076923094)\" d=\"M2.7386127875258306,0A2.7386127875258306,2.7386127875258306,0,1,1,-2.7386127875258306,0A2.7386127875258306,2.7386127875258306,0,1,1,2.7386127875258306,0\" style=\"fill: none; stroke: #e45756; stroke-width: 2; opacity: 0.7;\"></path><path transform=\"translate(145.7142857142857,61.53846153846155)\" d=\"M2.7386127875258306,0A2.7386127875258306,2.7386127875258306,0,1,1,-2.7386127875258306,0A2.7386127875258306,2.7386127875258306,0,1,1,2.7386127875258306,0\" style=\"fill: none; stroke: #e45756; stroke-width: 2; opacity: 0.7;\"></path></g><g class=\"mark-group role-legend\"><g transform=\"translate(218,0)\"><path class=\"background\" d=\"M0,0h65v61h-65Z\" style=\"pointer-events: none; fill: none;\"></path><g><g class=\"mark-group role-legend-entry\"><g transform=\"translate(0,16)\"><path class=\"background\" d=\"M0,0h0v0h0Z\" style=\"pointer-events: none; fill: none;\"></path><g><g class=\"mark-group role-scope\"><g transform=\"translate(0,0)\"><path class=\"background\" d=\"M0,0h65v12.5h-65Z\" style=\"pointer-events: none; fill: none; opacity: 1;\"></path><g><g class=\"mark-symbol role-legend-symbol\" style=\"pointer-events: none;\"><path transform=\"translate(6,6)\" d=\"M5,0A5,5,0,1,1,-5,0A5,5,0,1,1,5,0\" style=\"fill: none; stroke: #4c78a8; stroke-width: 1.5; opacity: 0.7;\"></path></g><g class=\"mark-text role-legend-label\" style=\"pointer-events: none;\"><text text-anchor=\"start\" transform=\"translate(16,9)\" style=\"font-family: sans-serif; font-size: 10px; fill: #000; opacity: 1;\">setosa</text></g></g></g><g transform=\"translate(0,16)\"><path class=\"background\" d=\"M0,0h65v12.5h-65Z\" style=\"pointer-events: none; fill: none; opacity: 1;\"></path><g><g class=\"mark-symbol role-legend-symbol\" style=\"pointer-events: none;\"><path transform=\"translate(6,6)\" d=\"M5,0A5,5,0,1,1,-5,0A5,5,0,1,1,5,0\" style=\"fill: none; stroke: #f58518; stroke-width: 1.5; opacity: 0.7;\"></path></g><g class=\"mark-text role-legend-label\" style=\"pointer-events: none;\"><text text-anchor=\"start\" transform=\"translate(16,9)\" style=\"font-family: sans-serif; font-size: 10px; fill: #000; opacity: 1;\">versicolor</text></g></g></g><g transform=\"translate(0,32)\"><path class=\"background\" d=\"M0,0h65v12.5h-65Z\" style=\"pointer-events: none; fill: none; opacity: 1;\"></path><g><g class=\"mark-symbol role-legend-symbol\" style=\"pointer-events: none;\"><path transform=\"translate(6,6)\" d=\"M5,0A5,5,0,1,1,-5,0A5,5,0,1,1,5,0\" style=\"fill: none; stroke: #e45756; stroke-width: 1.5; opacity: 0.7;\"></path></g><g class=\"mark-text role-legend-label\" style=\"pointer-events: none;\"><text text-anchor=\"start\" transform=\"translate(16,9)\" style=\"font-family: sans-serif; font-size: 10px; fill: #000; opacity: 1;\">virginica</text></g></g></g></g></g></g></g><g class=\"mark-text role-legend-title\" style=\"pointer-events: none;\"><text text-anchor=\"start\" transform=\"translate(0,9)\" style=\"font-family: sans-serif; font-size: 11px; font-weight: bold; fill: #000; opacity: 1;\">Species</text></g></g></g></g><g class=\"mark-group role-axis\"><g transform=\"translate(0.5,200.5)\"><path class=\"background\" d=\"M0,0h0v0h0Z\" style=\"pointer-events: none; fill: none;\"></path><g><g class=\"mark-rule role-axis-tick\" style=\"pointer-events: none;\"><line transform=\"translate(0,0)\" x2=\"0\" y2=\"5\" style=\"fill: none; stroke: #888; stroke-width: 1; opacity: 1;\"></line><line transform=\"translate(29,0)\" x2=\"0\" y2=\"5\" style=\"fill: none; stroke: #888; stroke-width: 1; opacity: 1;\"></line><line transform=\"translate(57,0)\" x2=\"0\" y2=\"5\" style=\"fill: none; stroke: #888; stroke-width: 1; opacity: 1;\"></line><line transform=\"translate(86,0)\" x2=\"0\" y2=\"5\" style=\"fill: none; stroke: #888; stroke-width: 1; opacity: 1;\"></line><line transform=\"translate(114,0)\" x2=\"0\" y2=\"5\" style=\"fill: none; stroke: #888; stroke-width: 1; opacity: 1;\"></line><line transform=\"translate(143,0)\" x2=\"0\" y2=\"5\" style=\"fill: none; stroke: #888; stroke-width: 1; opacity: 1;\"></line><line transform=\"translate(171,0)\" x2=\"0\" y2=\"5\" style=\"fill: none; stroke: #888; stroke-width: 1; opacity: 1;\"></line><line transform=\"translate(200,0)\" x2=\"0\" y2=\"5\" style=\"fill: none; stroke: #888; stroke-width: 1; opacity: 1;\"></line></g><g class=\"mark-text role-axis-label\" style=\"pointer-events: none;\"><text text-anchor=\"start\" transform=\"translate(0,15)\" style=\"font-family: sans-serif; font-size: 10px; fill: #000; opacity: 1;\">0</text><text text-anchor=\"middle\" transform=\"translate(28.57142857142857,15)\" style=\"font-family: sans-serif; font-size: 10px; fill: #000; opacity: 1;\">1</text><text text-anchor=\"middle\" transform=\"translate(57.14285714285714,15)\" style=\"font-family: sans-serif; font-size: 10px; fill: #000; opacity: 1;\">2</text><text text-anchor=\"middle\" transform=\"translate(85.71428571428571,15)\" style=\"font-family: sans-serif; font-size: 10px; fill: #000; opacity: 1;\">3</text><text text-anchor=\"middle\" transform=\"translate(114.28571428571428,15)\" style=\"font-family: sans-serif; font-size: 10px; fill: #000; opacity: 1;\">4</text><text text-anchor=\"middle\" transform=\"translate(142.85714285714286,15)\" style=\"font-family: sans-serif; font-size: 10px; fill: #000; opacity: 1;\">5</text><text text-anchor=\"middle\" transform=\"translate(171.42857142857142,15)\" style=\"font-family: sans-serif; font-size: 10px; fill: #000; opacity: 1;\">6</text><text text-anchor=\"end\" transform=\"translate(200,15)\" style=\"font-family: sans-serif; font-size: 10px; fill: #000; opacity: 1;\">7</text></g><g class=\"mark-rule role-axis-domain\" style=\"pointer-events: none;\"><line transform=\"translate(0,0)\" x2=\"200\" y2=\"0\" style=\"fill: none; stroke: #888; stroke-width: 1; opacity: 1;\"></line></g><g class=\"mark-text role-axis-title\" style=\"pointer-events: none;\"><text text-anchor=\"middle\" transform=\"translate(100,30)\" style=\"font-family: sans-serif; font-size: 11px; font-weight: bold; fill: #000; opacity: 1;\">PetalLength</text></g></g></g></g><g class=\"mark-group role-axis\"><g transform=\"translate(0.5,0.5)\"><path class=\"background\" d=\"M0,0h0v0h0Z\" style=\"pointer-events: none; fill: none;\"></path><g><g class=\"mark-rule role-axis-tick\" style=\"pointer-events: none;\"><line transform=\"translate(0,200)\" x2=\"-5\" y2=\"0\" style=\"fill: none; stroke: #888; stroke-width: 1; opacity: 1;\"></line><line transform=\"translate(0,162)\" x2=\"-5\" y2=\"0\" style=\"fill: none; stroke: #888; stroke-width: 1; opacity: 1;\"></line><line transform=\"translate(0,123)\" x2=\"-5\" y2=\"0\" style=\"fill: none; stroke: #888; stroke-width: 1; opacity: 1;\"></line><line transform=\"translate(0,85)\" x2=\"-5\" y2=\"0\" style=\"fill: none; stroke: #888; stroke-width: 1; opacity: 1;\"></line><line transform=\"translate(0,46)\" x2=\"-5\" y2=\"0\" style=\"fill: none; stroke: #888; stroke-width: 1; opacity: 1;\"></line><line transform=\"translate(0,8)\" x2=\"-5\" y2=\"0\" style=\"fill: none; stroke: #888; stroke-width: 1; opacity: 1;\"></line></g><g class=\"mark-text role-axis-label\" style=\"pointer-events: none;\"><text text-anchor=\"end\" transform=\"translate(-7,203)\" style=\"font-family: sans-serif; font-size: 10px; fill: #000; opacity: 1;\">0.0</text><text text-anchor=\"end\" transform=\"translate(-7,164.53846153846155)\" style=\"font-family: sans-serif; font-size: 10px; fill: #000; opacity: 1;\">0.5</text><text text-anchor=\"end\" transform=\"translate(-7,126.07692307692308)\" style=\"font-family: sans-serif; font-size: 10px; fill: #000; opacity: 1;\">1.0</text><text text-anchor=\"end\" transform=\"translate(-7,87.61538461538463)\" style=\"font-family: sans-serif; font-size: 10px; fill: #000; opacity: 1;\">1.5</text><text text-anchor=\"end\" transform=\"translate(-7,49.15384615384616)\" style=\"font-family: sans-serif; font-size: 10px; fill: #000; opacity: 1;\">2.0</text><text text-anchor=\"end\" transform=\"translate(-7,10.692307692307708)\" style=\"font-family: sans-serif; font-size: 10px; fill: #000; opacity: 1;\">2.5</text></g><g class=\"mark-rule role-axis-domain\" style=\"pointer-events: none;\"><line transform=\"translate(0,200)\" x2=\"0\" y2=\"-200\" style=\"fill: none; stroke: #888; stroke-width: 1; opacity: 1;\"></line></g><g class=\"mark-text role-axis-title\" style=\"pointer-events: none;\"><text text-anchor=\"middle\" transform=\"translate(-26,100) rotate(-90) translate(0,-2)\" style=\"font-family: sans-serif; font-size: 11px; font-weight: bold; fill: #000; opacity: 1;\">PetalWidth</text></g></g></g></g></g></g></g></g></svg>"
      ],
      "text/plain": [
       "VegaLite.VLSpec{:plot}"
      ]
     },
     "execution_count": 19,
     "metadata": {},
     "output_type": "execute_result"
    }
   ],
   "source": [
    "using RDatasets, VegaLite\n",
    "iris = dataset(\"datasets\", \"iris\")\n",
    "\n",
    "iris |> @vlplot(\n",
    "    :point,\n",
    "    x=:PetalLength,\n",
    "    y=:PetalWidth,\n",
    "    color=:Species\n",
    ")"
   ]
  },
  {
   "cell_type": "markdown",
   "metadata": {},
   "source": [
    "Another useful tool for exploring tabular data is [DataVoyager.jl](https://github.com/queryverse/DataVoyager.jl)"
   ]
  },
  {
   "cell_type": "markdown",
   "metadata": {
    "hide-output": false
   },
   "source": [
    "```julia\n",
    "using DataVoyager\n",
    "iris |> Voyager()\n",
    "```\n"
   ]
  },
  {
   "cell_type": "markdown",
   "metadata": {},
   "source": [
    "The `Voyager()` function creates a separate window for analysis"
   ]
  },
  {
   "cell_type": "markdown",
   "metadata": {},
   "source": [
    "## Statistics and Econometrics\n",
    "\n",
    "While Julia is not intended as a replacement for R, Stata, and similar specialty languages, it has a growing number of packages aimed at statistics and econometrics\n",
    "\n",
    "Many of the packages live in the [JuliaStats organization](https://github.com/JuliaStats/)\n",
    "\n",
    "A few to point out\n",
    "\n",
    "- [StatsBase](https://github.com/JuliaStats/StatsBase.jl) has basic statistical functions such as geometric and harmonic means, auto-correlations, robust statistics, etc.  \n",
    "- [StatsFuns](https://github.com/JuliaStats/StatsFuns.jl) has a variety of mathematical functions and constants such as pdf and cdf of many distributions, softmax, etc.  "
   ]
  },
  {
   "cell_type": "markdown",
   "metadata": {},
   "source": [
    "### General Linear Models\n",
    "\n",
    "To run linear regressions and similar statistics, use the [GLM](http://juliastats.github.io/GLM.jl/latest/) package"
   ]
  },
  {
   "cell_type": "code",
   "execution_count": 20,
   "metadata": {
    "hide-output": false
   },
   "outputs": [
    {
     "name": "stderr",
     "output_type": "stream",
     "text": [
      "┌ Warning: `T` is deprecated, use `nonmissingtype` instead.\n",
      "│   caller = (::getfield(StatsModels, Symbol(\"##40#41\")){Array{Int64,1}})(::Array{Float64,1}) at none:0\n",
      "└ @ StatsModels ./none:0\n"
     ]
    },
    {
     "data": {
      "text/plain": [
       "StatsModels.TableRegressionModel{LinearModel{GLM.LmResp{Array{Float64,1}},GLM.DensePredChol{Float64,Cholesky{Float64,Array{Float64,2}}}},Array{Float64,2}}\n",
       "\n",
       "y ~ 1 + x\n",
       "\n",
       "Coefficients:\n",
       "──────────────────────────────────────────────────────────────────────────\n",
       "             Estimate  Std. Error  t value  Pr(>|t|)  Lower 95%  Upper 95%\n",
       "──────────────────────────────────────────────────────────────────────────\n",
       "(Intercept)  0.22531    0.0136252  16.5363    <1e-29   0.198271   0.252349\n",
       "x            0.900551   0.0123731  72.7831    <1e-86   0.875997   0.925105\n",
       "──────────────────────────────────────────────────────────────────────────"
      ]
     },
     "execution_count": 20,
     "metadata": {},
     "output_type": "execute_result"
    }
   ],
   "source": [
    "using GLM\n",
    "\n",
    "x = randn(100)\n",
    "y = 0.9 .* x + 0.5 * rand(100)\n",
    "df = DataFrame(x=x, y=y)\n",
    "ols = lm(@formula(y ~ x), df) # R-style notation"
   ]
  },
  {
   "cell_type": "markdown",
   "metadata": {},
   "source": [
    "To display the results in a useful tables for LaTeX and the REPL, use\n",
    "[RegressionTables](https://github.com/jmboehm/RegressionTables.jl/) for output\n",
    "similar to the Stata package esttab and the R package stargazer"
   ]
  },
  {
   "cell_type": "code",
   "execution_count": 21,
   "metadata": {
    "hide-output": false
   },
   "outputs": [
    {
     "name": "stdout",
     "output_type": "stream",
     "text": [
      "\n",
      "----------------------\n",
      "                  y   \n",
      "              --------\n",
      "                   (1)\n",
      "----------------------\n",
      "(Intercept)   0.225***\n",
      "               (0.014)\n",
      "x             0.901***\n",
      "               (0.012)\n",
      "----------------------\n",
      "Estimator          OLS\n",
      "----------------------\n",
      "N                  100\n",
      "R2               0.982\n",
      "----------------------\n",
      "\n",
      "\n"
     ]
    }
   ],
   "source": [
    "using RegressionTables\n",
    "regtable(ols)\n",
    "# regtable(ols,  renderSettings = latexOutput()) # for LaTex output"
   ]
  },
  {
   "cell_type": "markdown",
   "metadata": {},
   "source": [
    "### Fixed Effects\n",
    "\n",
    "While Julia may be overkill for estimating a simple linear regression,\n",
    "fixed-effects estimation with dummies for multiple variables are much more computationally intensive\n",
    "\n",
    "For a 2-way fixed-effect, taking the example directly from the documentation using [cigarette consumption data](https://github.com/johnmyleswhite/RDatasets.jl/blob/master/doc/plm/rst/Cigar.rst)"
   ]
  },
  {
   "cell_type": "code",
   "execution_count": 22,
   "metadata": {
    "hide-output": false
   },
   "outputs": [
    {
     "name": "stderr",
     "output_type": "stream",
     "text": [
      "┌ Warning: `T` is deprecated, use `nonmissingtype` instead.\n",
      "│   caller = catvaluetype at array.jl:614 [inlined]\n",
      "└ @ Core /home/ubuntu/.julia/packages/CategoricalArrays/xjesC/src/array.jl:614\n"
     ]
    },
    {
     "name": "stdout",
     "output_type": "stream",
     "text": [
      "\n",
      "----------------------------\n",
      "                     Sales  \n",
      "                   ---------\n",
      "                         (1)\n",
      "----------------------------\n",
      "NDI                -0.005***\n",
      "                     (0.001)\n",
      "----------------------------\n",
      "StateCategorical         Yes\n",
      "YearCategorical          Yes\n",
      "----------------------------\n",
      "Estimator                OLS\n",
      "----------------------------\n",
      "N                      1,380\n",
      "R2                     0.773\n",
      "----------------------------\n",
      "\n",
      "\n"
     ]
    }
   ],
   "source": [
    "using FixedEffectModels\n",
    "cigar = dataset(\"plm\", \"Cigar\")\n",
    "cigar.StateCategorical =  categorical(cigar.State)\n",
    "cigar.YearCategorical =  categorical(cigar.Year)\n",
    "fixedeffectresults = reg(cigar, @model(Sales ~ NDI, fe = StateCategorical + YearCategorical,\n",
    "                            weights = Pop, vcov = cluster(StateCategorical)))\n",
    "regtable(fixedeffectresults)"
   ]
  },
  {
   "cell_type": "markdown",
   "metadata": {},
   "source": [
    "To explore data use the interactive DataVoyager and VegaLite"
   ]
  },
  {
   "cell_type": "code",
   "execution_count": 23,
   "metadata": {
    "hide-output": false
   },
   "outputs": [
    {
     "data": {
      "application/vnd.vegalite.v3+json": {
       "data": {
        "values": [
         {
          "CPI": 30.6,
          "NDI": 1558.3045298,
          "Pimin": 26.1,
          "Pop": 3383.0,
          "Pop16": 2236.5,
          "Price": 28.6,
          "Sales": 93.9,
          "State": 1,
          "Year": 63
         },
         {
          "CPI": 31.0,
          "NDI": 1684.0732025,
          "Pimin": 27.5,
          "Pop": 3431.0,
          "Pop16": 2276.7,
          "Price": 29.8,
          "Sales": 95.4,
          "State": 1,
          "Year": 64
         },
         {
          "CPI": 31.5,
          "NDI": 1809.8418752,
          "Pimin": 28.9,
          "Pop": 3486.0,
          "Pop16": 2327.5,
          "Price": 29.8,
          "Sales": 98.5,
          "State": 1,
          "Year": 65
         },
         {
          "CPI": 32.4,
          "NDI": 1915.1603572,
          "Pimin": 29.5,
          "Pop": 3524.0,
          "Pop16": 2369.7,
          "Price": 31.5,
          "Sales": 96.4,
          "State": 1,
          "Year": 66
         },
         {
          "CPI": 33.4,
          "NDI": 2023.5463678,
          "Pimin": 29.6,
          "Pop": 3533.0,
          "Pop16": 2393.7,
          "Price": 31.6,
          "Sales": 95.5,
          "State": 1,
          "Year": 67
         },
         {
          "CPI": 34.8,
          "NDI": 2202.4855362,
          "Pimin": 32.0,
          "Pop": 3522.0,
          "Pop16": 2405.2,
          "Price": 35.6,
          "Sales": 88.4,
          "State": 1,
          "Year": 68
         },
         {
          "CPI": 36.7,
          "NDI": 2377.3346665,
          "Pimin": 32.8,
          "Pop": 3531.0,
          "Pop16": 2411.9,
          "Price": 36.6,
          "Sales": 90.1,
          "State": 1,
          "Year": 69
         },
         {
          "CPI": 38.8,
          "NDI": 2591.0391591,
          "Pimin": 34.3,
          "Pop": 3444.0,
          "Pop16": 2394.6,
          "Price": 39.6,
          "Sales": 89.8,
          "State": 1,
          "Year": 70
         },
         {
          "CPI": 40.5,
          "NDI": 2785.3159706,
          "Pimin": 35.8,
          "Pop": 3481.0,
          "Pop16": 2443.5,
          "Price": 42.7,
          "Sales": 95.4,
          "State": 1,
          "Year": 71
         },
         {
          "CPI": 41.8,
          "NDI": 3034.8082969,
          "Pimin": 37.4,
          "Pop": 3511.0,
          "Pop16": 2484.7,
          "Price": 42.3,
          "Sales": 101.1,
          "State": 1,
          "Year": 72
         },
         {
          "CPI": 44.4,
          "NDI": 3387.5740861,
          "Pimin": 37.3,
          "Pop": 3540.0,
          "Pop16": 2526.0,
          "Price": 42.1,
          "Sales": 102.9,
          "State": 1,
          "Year": 73
         },
         {
          "CPI": 49.3,
          "NDI": 3718.8671751,
          "Pimin": 41.4,
          "Pop": 3574.0,
          "Pop16": 2573.9,
          "Price": 43.1,
          "Sales": 108.2,
          "State": 1,
          "Year": 74
         },
         {
          "CPI": 53.8,
          "NDI": 4087.9931169,
          "Pimin": 43.0,
          "Pop": 3614.0,
          "Pop16": 2623.7,
          "Price": 46.6,
          "Sales": 111.7,
          "State": 1,
          "Year": 75
         },
         {
          "CPI": 56.9,
          "NDI": 4486.7718352,
          "Pimin": 46.4,
          "Pop": 3657.0,
          "Pop16": 2677.4,
          "Price": 50.4,
          "Sales": 116.2,
          "State": 1,
          "Year": 76
         },
         {
          "CPI": 60.6,
          "NDI": 4899.8656869,
          "Pimin": 48.8,
          "Pop": 3690.0,
          "Pop16": 2719.6,
          "Price": 50.1,
          "Sales": 117.1,
          "State": 1,
          "Year": 77
         },
         {
          "CPI": 65.2,
          "NDI": 5450.9983257,
          "Pimin": 53.6,
          "Pop": 3728.0,
          "Pop16": 2764.6,
          "Price": 55.1,
          "Sales": 123.0,
          "State": 1,
          "Year": 78
         },
         {
          "CPI": 72.6,
          "NDI": 5957.1405451,
          "Pimin": 56.5,
          "Pop": 3769.0,
          "Pop16": 2810.7,
          "Price": 56.8,
          "Sales": 121.4,
          "State": 1,
          "Year": 79
         },
         {
          "CPI": 82.4,
          "NDI": 6466.350293,
          "Pimin": 59.3,
          "Pop": 3894.0,
          "Pop16": 2898.9,
          "Price": 60.6,
          "Sales": 123.2,
          "State": 1,
          "Year": 80
         },
         {
          "CPI": 90.9,
          "NDI": 7042.0231606,
          "Pimin": 62.6,
          "Pop": 3917.0,
          "Pop16": 2924.7,
          "Price": 68.8,
          "Sales": 119.6,
          "State": 1,
          "Year": 81
         },
         {
          "CPI": 96.5,
          "NDI": 7505.2199795,
          "Pimin": 67.8,
          "Pop": 3943.0,
          "Pop16": 2953.5,
          "Price": 73.1,
          "Sales": 119.1,
          "State": 1,
          "Year": 82
         },
         {
          "CPI": 99.6,
          "NDI": 7974.5518556,
          "Pimin": 78.6,
          "Pop": 3959.0,
          "Pop16": 2977.5,
          "Price": 84.4,
          "Sales": 116.3,
          "State": 1,
          "Year": 83
         },
         {
          "CPI": 103.9,
          "NDI": 8693.376058,
          "Pimin": 86.8,
          "Pop": 3990.0,
          "Pop16": 3009.1,
          "Price": 90.8,
          "Sales": 113.0,
          "State": 1,
          "Year": 84
         },
         {
          "CPI": 107.6,
          "NDI": 9059.4344712,
          "Pimin": 90.7,
          "Pop": 4020.0,
          "Pop16": 3039.8,
          "Price": 99.0,
          "Sales": 114.5,
          "State": 1,
          "Year": 85
         },
         {
          "CPI": 109.6,
          "NDI": 9674.9852107,
          "Pimin": 98.8,
          "Pop": 4050.0,
          "Pop16": 3072.4,
          "Price": 103.0,
          "Sales": 116.3,
          "State": 1,
          "Year": 86
         },
         {
          "CPI": 113.6,
          "NDI": 10213.847735,
          "Pimin": 103.5,
          "Pop": 4083.0,
          "Pop16": 3104.0,
          "Price": 110.0,
          "Sales": 114.0,
          "State": 1,
          "Year": 87
         },
         {
          "CPI": 118.3,
          "NDI": 10993.0,
          "Pimin": 109.2,
          "Pop": 4102.0,
          "Pop16": 3124.0,
          "Price": 114.4,
          "Sales": 112.1,
          "State": 1,
          "Year": 88
         },
         {
          "CPI": 124.0,
          "NDI": 11634.0,
          "Pimin": 121.5,
          "Pop": 4118.0,
          "Pop16": 3140.0,
          "Price": 122.3,
          "Sales": 105.6,
          "State": 1,
          "Year": 89
         },
         {
          "CPI": 130.7,
          "NDI": 12806.0,
          "Pimin": 132.3,
          "Pop": 4129.2,
          "Pop16": 3148.6,
          "Price": 139.1,
          "Sales": 108.6,
          "State": 1,
          "Year": 90
         },
         {
          "CPI": 136.2,
          "NDI": 13360.0,
          "Pimin": 137.4,
          "Pop": 4178.3,
          "Pop16": 3185.1,
          "Price": 144.4,
          "Sales": 107.9,
          "State": 1,
          "Year": 91
         },
         {
          "CPI": 140.3,
          "NDI": 14533.0,
          "Pimin": 159.5,
          "Pop": 4226.3,
          "Pop16": 3226.7,
          "Price": 172.2,
          "Sales": 109.1,
          "State": 1,
          "Year": 92
         },
         {
          "CPI": 30.6,
          "NDI": 1944.7450576,
          "Pimin": 24.9,
          "Pop": 1517.0,
          "Pop16": 982.4,
          "Price": 23.9,
          "Sales": 125.0,
          "State": 3,
          "Year": 63
         },
         {
          "CPI": 31.0,
          "NDI": 2063.5159984,
          "Pimin": 25.5,
          "Pop": 1549.0,
          "Pop16": 1005.6,
          "Price": 24.0,
          "Sales": 121.0,
          "State": 3,
          "Year": 64
         },
         {
          "CPI": 31.5,
          "NDI": 2162.6639143,
          "Pimin": 25.3,
          "Pop": 1575.0,
          "Pop16": 1024.9,
          "Price": 24.2,
          "Sales": 123.2,
          "State": 3,
          "Year": 65
         },
         {
          "CPI": 32.4,
          "NDI": 2318.6153235,
          "Pimin": 25.5,
          "Pop": 1609.0,
          "Pop16": 1051.9,
          "Price": 29.6,
          "Sales": 113.9,
          "State": 3,
          "Year": 66
         },
         {
          "CPI": 33.4,
          "NDI": 2446.6813815,
          "Pimin": 26.0,
          "Pop": 1637.0,
          "Pop16": 1078.9,
          "Price": 29.2,
          "Sales": 117.1,
          "State": 3,
          "Year": 67
         },
         {
          "CPI": 34.8,
          "NDI": 2720.3709408,
          "Pimin": 32.3,
          "Pop": 1667.0,
          "Pop16": 1106.0,
          "Price": 31.3,
          "Sales": 115.6,
          "State": 3,
          "Year": 68
         },
         {
          "CPI": 36.7,
          "NDI": 2979.6014291,
          "Pimin": 33.3,
          "Pop": 1693.0,
          "Pop16": 1117.5,
          "Price": 36.1,
          "Sales": 113.8,
          "State": 3,
          "Year": 69
         },
         {
          "CPI": 38.8,
          "NDI": 3269.8156411,
          "Pimin": 34.6,
          "Pop": 1772.0,
          "Pop16": 1226.6,
          "Price": 37.1,
          "Sales": 115.2,
          "State": 3,
          "Year": 70
         },
         {
          "CPI": 40.5,
          "NDI": 3549.7019452,
          "Pimin": 36.6,
          "Pop": 1878.0,
          "Pop16": 1313.5,
          "Price": 38.5,
          "Sales": 109.6,
          "State": 3,
          "Year": 71
         },
         {
          "CPI": 41.8,
          "NDI": 3800.6701072,
          "Pimin": 37.2,
          "Pop": 1975.0,
          "Pop16": 1393.6,
          "Price": 38.0,
          "Sales": 125.0,
          "State": 3,
          "Year": 72
         },
         {
          "CPI": 44.4,
          "NDI": 4219.9831679,
          "Pimin": 36.5,
          "Pop": 2075.0,
          "Pop16": 1476.5,
          "Price": 38.7,
          "Sales": 128.3,
          "State": 3,
          "Year": 73
         },
         {
          "CPI": 49.3,
          "NDI": 4508.1317983,
          "Pimin": 37.8,
          "Pop": 2156.0,
          "Pop16": 1547.0,
          "Price": 39.2,
          "Sales": 133.1,
          "State": 3,
          "Year": 74
         },
         {
          "CPI": 53.8,
          "NDI": 4742.5753077,
          "Pimin": 40.5,
          "Pop": 2200.0,
          "Pop16": 1591.4,
          "Price": 47.7,
          "Sales": 121.8,
          "State": 3,
          "Year": 75
         },
         {
          "CPI": 56.9,
          "NDI": 5158.789996,
          "Pimin": 43.4,
          "Pop": 2244.0,
          "Pop16": 1635.8,
          "Price": 49.1,
          "Sales": 122.3,
          "State": 3,
          "Year": 76
         },
         {
          "CPI": 60.6,
          "NDI": 5567.7751489,
          "Pimin": 44.7,
          "Pop": 2304.0,
          "Pop16": 1690.8,
          "Price": 48.7,
          "Sales": 121.7,
          "State": 3,
          "Year": 77
         },
         {
          "CPI": 65.2,
          "NDI": 6283.4991663,
          "Pimin": 49.5,
          "Pop": 2373.0,
          "Pop16": 1750.6,
          "Price": 53.6,
          "Sales": 124.7,
          "State": 3,
          "Year": 78
         },
         {
          "CPI": 72.6,
          "NDI": 7099.4038904,
          "Pimin": 53.7,
          "Pop": 2450.0,
          "Pop16": 1812.4,
          "Price": 58.6,
          "Sales": 124.6,
          "State": 3,
          "Year": 79
         },
         {
          "CPI": 82.4,
          "NDI": 7823.3902342,
          "Pimin": 57.2,
          "Pop": 2718.0,
          "Pop16": 2044.0,
          "Price": 60.8,
          "Sales": 126.8,
          "State": 3,
          "Year": 80
         },
         {
          "CPI": 90.9,
          "NDI": 8647.5572846,
          "Pimin": 62.7,
          "Pop": 2794.0,
          "Pop16": 2103.8,
          "Price": 63.3,
          "Sales": 113.8,
          "State": 3,
          "Year": 81
         },
         {
          "CPI": 96.5,
          "NDI": 8879.9352124,
          "Pimin": 68.1,
          "Pop": 2860.0,
          "Pop16": 2153.1,
          "Price": 73.3,
          "Sales": 113.5,
          "State": 3,
          "Year": 82
         },
         {
          "CPI": 99.6,
          "NDI": 9579.1345772,
          "Pimin": 79.6,
          "Pop": 2963.0,
          "Pop16": 2231.2,
          "Price": 80.5,
          "Sales": 111.1,
          "State": 3,
          "Year": 83
         },
         {
          "CPI": 103.9,
          "NDI": 10549.95792,
          "Pimin": 90.2,
          "Pop": 3053.0,
          "Pop16": 2300.7,
          "Price": 92.8,
          "Sales": 107.1,
          "State": 3,
          "Year": 84
         },
         {
          "CPI": 107.6,
          "NDI": 11256.38682,
          "Pimin": 97.5,
          "Pop": 3161.0,
          "Pop16": 2384.7,
          "Price": 98.8,
          "Sales": 107.1,
          "State": 3,
          "Year": 85
         },
         {
          "CPI": 109.6,
          "NDI": 11796.536403,
          "Pimin": 101.2,
          "Pop": 3279.0,
          "Pop16": 2483.1,
          "Price": 106.7,
          "Sales": 107.9,
          "State": 3,
          "Year": 86
         },
         {
          "CPI": 113.6,
          "NDI": 12367.66971,
          "Pimin": 103.9,
          "Pop": 3386.0,
          "Pop16": 2569.0,
          "Price": 113.5,
          "Sales": 106.1,
          "State": 3,
          "Year": 87
         },
         {
          "CPI": 118.3,
          "NDI": 13008.0,
          "Pimin": 113.7,
          "Pop": 3489.0,
          "Pop16": 2638.0,
          "Price": 113.5,
          "Sales": 102.2,
          "State": 3,
          "Year": 88
         },
         {
          "CPI": 124.0,
          "NDI": 13625.0,
          "Pimin": 126.4,
          "Pop": 3556.0,
          "Pop16": 2672.0,
          "Price": 125.6,
          "Sales": 96.8,
          "State": 3,
          "Year": 89
         },
         {
          "CPI": 130.7,
          "NDI": 13826.0,
          "Pimin": 133.6,
          "Pop": 3598.2,
          "Pop16": 2703.7,
          "Price": 130.2,
          "Sales": 88.9,
          "State": 3,
          "Year": 90
         },
         {
          "CPI": 136.2,
          "NDI": 14232.0,
          "Pimin": 146.9,
          "Pop": 3681.7,
          "Pop16": 2759.1,
          "Price": 151.4,
          "Sales": 81.2,
          "State": 3,
          "Year": 91
         },
         {
          "CPI": 140.3,
          "NDI": 15179.0,
          "Pimin": 165.4,
          "Pop": 3762.2,
          "Pop16": 2804.8,
          "Price": 165.7,
          "Sales": 79.0,
          "State": 3,
          "Year": 92
         },
         {
          "CPI": 30.6,
          "NDI": 1480.3334935,
          "Pimin": 25.8,
          "Pop": 1907.0,
          "Pop16": 1296.7,
          "Price": 27.0,
          "Sales": 103.4,
          "State": 4,
          "Year": 63
         },
         {
          "CPI": 31.0,
          "NDI": 1610.0797693,
          "Pimin": 25.7,
          "Pop": 1939.0,
          "Pop16": 1320.7,
          "Price": 27.3,
          "Sales": 102.6,
          "State": 4,
          "Year": 64
         },
         {
          "CPI": 31.5,
          "NDI": 1710.1989428,
          "Pimin": 26.1,
          "Pop": 1941.0,
          "Pop16": 1323.6,
          "Price": 27.2,
          "Sales": 100.3,
          "State": 4,
          "Year": 65
         },
         {
          "CPI": 32.4,
          "NDI": 1883.8750601,
          "Pimin": 26.2,
          "Pop": 1963.0,
          "Pop16": 1344.8,
          "Price": 30.3,
          "Sales": 98.9,
          "State": 4,
          "Year": 66
         },
         {
          "CPI": 33.4,
          "NDI": 2004.4267179,
          "Pimin": 27.5,
          "Pop": 1972.0,
          "Pop16": 1357.3,
          "Price": 30.4,
          "Sales": 102.9,
          "State": 4,
          "Year": 67
         },
         {
          "CPI": 34.8,
          "NDI": 2143.3676117,
          "Pimin": 29.2,
          "Pop": 1983.0,
          "Pop16": 1374.6,
          "Price": 30.9,
          "Sales": 104.0,
          "State": 4,
          "Year": 68
         },
         {
          "CPI": 36.7,
          "NDI": 2286.3950024,
          "Pimin": 29.9,
          "Pop": 1995.0,
          "Pop16": 1389.0,
          "Price": 30.9,
          "Sales": 102.9,
          "State": 4,
          "Year": 69
         },
         {
          "CPI": 38.8,
          "NDI": 2493.7847189,
          "Pimin": 34.3,
          "Pop": 1923.0,
          "Pop16": 1366.9,
          "Price": 36.7,
          "Sales": 100.3,
          "State": 4,
          "Year": 70
         },
         {
          "CPI": 40.5,
          "NDI": 2710.3690533,
          "Pimin": 36.8,
          "Pop": 1961.0,
          "Pop16": 1405.4,
          "Price": 38.8,
          "Sales": 104.1,
          "State": 4,
          "Year": 71
         },
         {
          "CPI": 41.8,
          "NDI": 2950.4507448,
          "Pimin": 37.4,
          "Pop": 1999.0,
          "Pop16": 1442.9,
          "Price": 44.1,
          "Sales": 103.9,
          "State": 4,
          "Year": 72
         },
         {
          "CPI": 44.4,
          "NDI": 3410.1816434,
          "Pimin": 37.3,
          "Pop": 2030.0,
          "Pop16": 1474.6,
          "Price": 45.1,
          "Sales": 108.0,
          "State": 4,
          "Year": 73
         },
         {
          "CPI": 49.3,
          "NDI": 3807.5934647,
          "Pimin": 38.0,
          "Pop": 2063.0,
          "Pop16": 1508.3,
          "Price": 45.5,
          "Sales": 109.7,
          "State": 4,
          "Year": 74
         },
         {
          "CPI": 53.8,
          "NDI": 4057.8913984,
          "Pimin": 43.0,
          "Pop": 2112.0,
          "Pop16": 1552.5,
          "Price": 48.6,
          "Sales": 114.8,
          "State": 4,
          "Year": 75
         },
         {
          "CPI": 56.9,
          "NDI": 4362.3354157,
          "Pimin": 44.7,
          "Pop": 2113.0,
          "Pop16": 1565.1,
          "Price": 50.9,
          "Sales": 119.1,
          "State": 4,
          "Year": 76
         },
         {
          "CPI": 60.6,
          "NDI": 4859.8664104,
          "Pimin": 45.9,
          "Pop": 2143.0,
          "Pop16": 1596.8,
          "Price": 52.6,
          "Sales": 122.6,
          "State": 4,
          "Year": 77
         },
         {
          "CPI": 65.2,
          "NDI": 5467.7328208,
          "Pimin": 49.9,
          "Pop": 2167.0,
          "Pop16": 1623.7,
          "Price": 56.5,
          "Sales": 127.3,
          "State": 4,
          "Year": 78
         },
         {
          "CPI": 72.6,
          "NDI": 6015.3234022,
          "Pimin": 52.2,
          "Pop": 2180.0,
          "Pop16": 1641.0,
          "Price": 58.4,
          "Sales": 126.5,
          "State": 4,
          "Year": 79
         },
         {
          "CPI": 82.4,
          "NDI": 6278.9024507,
          "Pimin": 57.3,
          "Pop": 2286.0,
          "Pop16": 1715.1,
          "Price": 61.5,
          "Sales": 131.8,
          "State": 4,
          "Year": 80
         },
         {
          "CPI": 90.9,
          "NDI": 7101.3099471,
          "Pimin": 59.9,
          "Pop": 2296.0,
          "Pop16": 1725.7,
          "Price": 64.7,
          "Sales": 128.7,
          "State": 4,
          "Year": 81
         },
         {
          "CPI": 96.5,
          "NDI": 7390.4296012,
          "Pimin": 64.7,
          "Pop": 2291.0,
          "Pop16": 1724.7,
          "Price": 72.1,
          "Sales": 127.4,
          "State": 4,
          "Year": 82
         },
         {
          "CPI": 99.6,
          "NDI": 7886.9389716,
          "Pimin": 74.8,
          "Pop": 2328.0,
          "Pop16": 1757.4,
          "Price": 82.0,
          "Sales": 128.0,
          "State": 4,
          "Year": 83
         },
         {
          "CPI": 103.9,
          "NDI": 8546.9082172,
          "Pimin": 84.8,
          "Pop": 2349.0,
          "Pop16": 1776.7,
          "Price": 93.6,
          "Sales": 123.1,
          "State": 4,
          "Year": 84
         },
         {
          "CPI": 107.6,
          "NDI": 9134.3421432,
          "Pimin": 92.5,
          "Pop": 2359.0,
          "Pop16": 1790.1,
          "Price": 98.5,
          "Sales": 125.8,
          "State": 4,
          "Year": 85
         },
         {
          "CPI": 109.6,
          "NDI": 9550.1432004,
          "Pimin": 98.8,
          "Pop": 2371.0,
          "Pop16": 1804.6,
          "Price": 103.6,
          "Sales": 126.0,
          "State": 4,
          "Year": 86
         },
         {
          "CPI": 113.6,
          "NDI": 9886.2575685,
          "Pimin": 103.5,
          "Pop": 2388.0,
          "Pop16": 1819.0,
          "Price": 113.0,
          "Sales": 122.3,
          "State": 4,
          "Year": 87
         },
         {
          "CPI": 118.3,
          "NDI": 10630.0,
          "Pimin": 112.1,
          "Pop": 2395.0,
          "Pop16": 1823.0,
          "Price": 119.9,
          "Sales": 121.5,
          "State": 4,
          "Year": 88
         },
         {
          "CPI": 124.0,
          "NDI": 11243.0,
          "Pimin": 118.9,
          "Pop": 2406.0,
          "Pop16": 1831.0,
          "Price": 127.7,
          "Sales": 118.3,
          "State": 4,
          "Year": 89
         },
         {
          "CPI": 130.7,
          "NDI": 12370.0,
          "Pimin": 129.1,
          "Pop": 2411.1,
          "Pop16": 1834.9,
          "Price": 141.2,
          "Sales": 113.1,
          "State": 4,
          "Year": 90
         },
         {
          "CPI": 136.2,
          "NDI": 12917.0,
          "Pimin": 132.5,
          "Pop": 2432.7,
          "Pop16": 1851.2,
          "Price": 146.5,
          "Sales": 116.8,
          "State": 4,
          "Year": 91
         },
         {
          "CPI": 140.3,
          "NDI": 13879.0,
          "Pimin": 153.1,
          "Pop": 2460.4,
          "Pop16": 1876.7,
          "Price": 177.3,
          "Sales": 126.0,
          "State": 4,
          "Year": 92
         },
         {
          "CPI": 30.6,
          "NDI": 2776.0965615,
          "Pimin": 23.9,
          "Pop": 17556.0,
          "Pop16": 12072.0,
          "Price": 25.3,
          "Sales": 142.0,
          "State": 5,
          "Year": 63
         },
         {
          "CPI": 31.0,
          "NDI": 2974.9294798,
          "Pimin": 24.0,
          "Pop": 18003.0,
          "Pop16": 12384.3,
          "Price": 25.5,
          "Sales": 138.3,
          "State": 5,
          "Year": 64
         },
         {
          "CPI": 31.5,
          "NDI": 3107.8449633,
          "Pimin": 24.2,
          "Pop": 18403.0,
          "Pop16": 12673.3,
          "Price": 25.3,
          "Sales": 140.0,
          "State": 5,
          "Year": 65
         },
         {
          "CPI": 32.4,
          "NDI": 3296.9523585,
          "Pimin": 29.6,
          "Pop": 18669.0,
          "Pop16": 12898.5,
          "Price": 25.5,
          "Sales": 136.8,
          "State": 5,
          "Year": 66
         },
         {
          "CPI": 33.4,
          "NDI": 3462.2862526,
          "Pimin": 29.2,
          "Pop": 18992.0,
          "Pop16": 13181.8,
          "Price": 26.0,
          "Sales": 135.8,
          "State": 5,
          "Year": 67
         },
         {
          "CPI": 34.8,
          "NDI": 3690.2957405,
          "Pimin": 31.3,
          "Pop": 19179.0,
          "Pop16": 13370.3,
          "Price": 35.4,
          "Sales": 124.3,
          "State": 5,
          "Year": 68
         },
         {
          "CPI": 36.7,
          "NDI": 3919.3858421,
          "Pimin": 33.3,
          "Pop": 19443.0,
          "Pop16": 13681.6,
          "Price": 36.6,
          "Sales": 123.9,
          "State": 5,
          "Year": 69
         },
         {
          "CPI": 38.8,
          "NDI": 4192.7811049,
          "Pimin": 37.1,
          "Pop": 19953.0,
          "Pop16": 14317.6,
          "Price": 38.8,
          "Sales": 123.0,
          "State": 5,
          "Year": 70
         },
         {
          "CPI": 40.5,
          "NDI": 4414.3069107,
          "Pimin": 38.5,
          "Pop": 20266.0,
          "Pop16": 14670.5,
          "Price": 39.7,
          "Sales": 121.0,
          "State": 5,
          "Year": 71
         },
         {
          "CPI": 41.8,
          "NDI": 4650.9613081,
          "Pimin": 38.0,
          "Pop": 20447.0,
          "Pop16": 14938.3,
          "Price": 39.9,
          "Sales": 123.5,
          "State": 5,
          "Year": 72
         },
         {
          "CPI": 44.4,
          "NDI": 5103.7384429,
          "Pimin": 38.7,
          "Pop": 20670.0,
          "Pop16": 15243.7,
          "Price": 39.9,
          "Sales": 124.4,
          "State": 5,
          "Year": 73
         },
         {
          "CPI": 49.3,
          "NDI": 5607.304421,
          "Pimin": 39.2,
          "Pop": 20915.0,
          "Pop16": 15566.6,
          "Price": 41.9,
          "Sales": 126.7,
          "State": 5,
          "Year": 74
         },
         {
          "CPI": 53.8,
          "NDI": 6138.9663549,
          "Pimin": 44.5,
          "Pop": 21216.0,
          "Pop16": 15933.0,
          "Price": 45.0,
          "Sales": 127.1,
          "State": 5,
          "Year": 75
         },
         {
          "CPI": 56.9,
          "NDI": 6630.6455824,
          "Pimin": 44.9,
          "Pop": 21550.0,
          "Pop16": 16318.7,
          "Price": 48.3,
          "Sales": 128.0,
          "State": 5,
          "Year": 76
         },
         {
          "CPI": 60.6,
          "NDI": 7234.7086333,
          "Pimin": 48.7,
          "Pop": 21900.0,
          "Pop16": 16697.6,
          "Price": 49.0,
          "Sales": 126.4,
          "State": 5,
          "Year": 77
         },
         {
          "CPI": 65.2,
          "NDI": 8021.3953973,
          "Pimin": 53.6,
          "Pop": 22314.0,
          "Pop16": 17117.2,
          "Price": 58.7,
          "Sales": 126.1,
          "State": 5,
          "Year": 78
         },
         {
          "CPI": 72.6,
          "NDI": 8957.2068501,
          "Pimin": 57.1,
          "Pop": 22694.0,
          "Pop16": 17481.6,
          "Price": 60.1,
          "Sales": 121.9,
          "State": 5,
          "Year": 79
         },
         {
          "CPI": 82.4,
          "NDI": 9891.9376893,
          "Pimin": 60.8,
          "Pop": 23669.0,
          "Pop16": 20853.4,
          "Price": 62.1,
          "Sales": 120.2,
          "State": 5,
          "Year": 80
         },
         {
          "CPI": 90.9,
          "NDI": 10816.943005,
          "Pimin": 63.3,
          "Pop": 24196.0,
          "Pop16": 18670.6,
          "Price": 66.4,
          "Sales": 118.6,
          "State": 5,
          "Year": 81
         },
         {
          "CPI": 96.5,
          "NDI": 11361.572303,
          "Pimin": 71.6,
          "Pop": 24724.0,
          "Pop16": 19064.1,
          "Price": 72.8,
          "Sales": 115.4,
          "State": 5,
          "Year": 82
         },
         {
          "CPI": 99.6,
          "NDI": 12027.230334,
          "Pimin": 80.5,
          "Pop": 25174.0,
          "Pop16": 19419.8,
          "Price": 84.9,
          "Sales": 110.8,
          "State": 5,
          "Year": 83
         },
         {
          "CPI": 103.9,
          "NDI": 13019.233699,
          "Pimin": 92.8,
          "Pop": 25622.0,
          "Pop16": 19776.5,
          "Price": 94.9,
          "Sales": 104.8,
          "State": 5,
          "Year": 84
         },
         {
          "CPI": 107.6,
          "NDI": 13755.13162,
          "Pimin": 98.8,
          "Pop": 26358.0,
          "Pop16": 20215.4,
          "Price": 98.0,
          "Sales": 102.8,
          "State": 5,
          "Year": 85
         },
         {
          "CPI": 109.6,
          "NDI": 14350.549761,
          "Pimin": 106.6,
          "Pop": 27001.0,
          "Pop16": 20695.9,
          "Price": 104.4,
          "Sales": 99.7,
          "State": 5,
          "Year": 86
         },
         {
          "CPI": 113.6,
          "NDI": 15016.207792,
          "Pimin": 113.5,
          "Pop": 27663.0,
          "Pop16": 21156.0,
          "Price": 103.9,
          "Sales": 97.5,
          "State": 5,
          "Year": 87
         },
         {
          "CPI": 118.3,
          "NDI": 16059.0,
          "Pimin": 113.5,
          "Pop": 28314.0,
          "Pop16": 21591.0,
          "Price": 117.4,
          "Sales": 90.1,
          "State": 5,
          "Year": 88
         },
         {
          "CPI": 124.0,
          "NDI": 16779.0,
          "Pimin": 125.6,
          "Pop": 29063.0,
          "Pop16": 22081.0,
          "Price": 126.4,
          "Sales": 82.4,
          "State": 5,
          "Year": 89
         },
         {
          "CPI": 130.7,
          "NDI": 17384.0,
          "Pimin": 130.2,
          "Pop": 29602.1,
          "Pop16": 22490.6,
          "Price": 163.8,
          "Sales": 77.8,
          "State": 5,
          "Year": 90
         },
         {
          "CPI": 136.2,
          "NDI": 17705.0,
          "Pimin": 151.4,
          "Pop": 30218.8,
          "Pop16": 22694.0,
          "Price": 186.8,
          "Sales": 68.7,
          "State": 5,
          "Year": 91
         },
         {
          "CPI": 140.3,
          "NDI": 18495.0,
          "Pimin": 165.7,
          "Pop": 30703.3,
          "Pop16": 22920.0,
          "Price": 201.9,
          "Sales": 67.5,
          "State": 5,
          "Year": 92
         },
         {
          "CPI": 30.6,
          "NDI": 2913.6800153,
          "Pimin": 26.2,
          "Pop": 2716.0,
          "Pop16": 1883.5,
          "Price": 26.8,
          "Sales": 156.2,
          "State": 7,
          "Year": 63
         },
         {
          "CPI": 31.0,
          "NDI": 3104.1445922,
          "Pimin": 26.9,
          "Pop": 2784.0,
          "Pop16": 1929.7,
          "Price": 27.8,
          "Sales": 143.5,
          "State": 7,
          "Year": 64
         },
         {
          "CPI": 31.5,
          "NDI": 3249.6680891,
          "Pimin": 26.5,
          "Pop": 2830.0,
          "Pop16": 1961.5,
          "Price": 28.1,
          "Sales": 147.0,
          "State": 7,
          "Year": 65
         },
         {
          "CPI": 32.4,
          "NDI": 3493.6339515,
          "Pimin": 30.0,
          "Pop": 2886.0,
          "Pop16": 2004.9,
          "Price": 30.1,
          "Sales": 144.5,
          "State": 7,
          "Year": 66
         },
         {
          "CPI": 33.4,
          "NDI": 3763.2804311,
          "Pimin": 31.0,
          "Pop": 2918.0,
          "Pop16": 2034.8,
          "Price": 31.1,
          "Sales": 145.6,
          "State": 7,
          "Year": 67
         },
         {
          "CPI": 34.8,
          "NDI": 3897.0336452,
          "Pimin": 32.1,
          "Pop": 2961.0,
          "Pop16": 2075.2,
          "Price": 31.3,
          "Sales": 143.2,
          "State": 7,
          "Year": 68
         },
         {
          "CPI": 36.7,
          "NDI": 4135.6493791,
          "Pimin": 35.0,
          "Pop": 3000.0,
          "Pop16": 2127.2,
          "Price": 32.2,
          "Sales": 144.7,
          "State": 7,
          "Year": 69
         },
         {
          "CPI": 38.8,
          "NDI": 4482.3377099,
          "Pimin": 39.3,
          "Pop": 3032.0,
          "Pop16": 2155.2,
          "Price": 42.2,
          "Sales": 120.0,
          "State": 7,
          "Year": 70
         },
         {
          "CPI": 40.5,
          "NDI": 4715.6033153,
          "Pimin": 40.2,
          "Pop": 3063.0,
          "Pop16": 2201.4,
          "Price": 45.5,
          "Sales": 117.6,
          "State": 7,
          "Year": 71
         },
         {
          "CPI": 41.8,
          "NDI": 4948.8689206,
          "Pimin": 41.6,
          "Pop": 3074.0,
          "Pop16": 2234.2,
          "Price": 51.3,
          "Sales": 110.8,
          "State": 7,
          "Year": 72
         },
         {
          "CPI": 44.4,
          "NDI": 5496.7220855,
          "Pimin": 40.6,
          "Pop": 3076.0,
          "Pop16": 2258.3,
          "Price": 50.6,
          "Sales": 109.3,
          "State": 7,
          "Year": 73
         },
         {
          "CPI": 49.3,
          "NDI": 5949.3429619,
          "Pimin": 41.3,
          "Pop": 3085.0,
          "Pop16": 2292.9,
          "Price": 52.5,
          "Sales": 112.4,
          "State": 7,
          "Year": 74
         },
         {
          "CPI": 53.8,
          "NDI": 6407.3139668,
          "Pimin": 44.3,
          "Pop": 3097.0,
          "Pop16": 2327.6,
          "Price": 54.5,
          "Sales": 110.2,
          "State": 7,
          "Year": 75
         },
         {
          "CPI": 56.9,
          "NDI": 6838.534329,
          "Pimin": 52.2,
          "Pop": 3101.0,
          "Pop16": 2356.5,
          "Price": 57.6,
          "Sales": 113.4,
          "State": 7,
          "Year": 76
         },
         {
          "CPI": 60.6,
          "NDI": 7505.1603479,
          "Pimin": 52.3,
          "Pop": 3107.0,
          "Pop16": 2384.5,
          "Price": 58.4,
          "Sales": 117.3,
          "State": 7,
          "Year": 77
         },
         {
          "CPI": 65.2,
          "NDI": 8309.8196838,
          "Pimin": 56.3,
          "Pop": 3116.0,
          "Pop16": 2415.3,
          "Price": 61.7,
          "Sales": 117.5,
          "State": 7,
          "Year": 78
         },
         {
          "CPI": 72.6,
          "NDI": 9295.3133651,
          "Pimin": 58.7,
          "Pop": 3115.0,
          "Pop16": 2435.5,
          "Price": 64.4,
          "Sales": 117.4,
          "State": 7,
          "Year": 79
         },
         {
          "CPI": 82.4,
          "NDI": 10384.59954,
          "Pimin": 60.0,
          "Pop": 3108.0,
          "Pop16": 2424.0,
          "Price": 67.0,
          "Sales": 118.0,
          "State": 7,
          "Year": 80
         },
         {
          "CPI": 90.9,
          "NDI": 11470.675639,
          "Pimin": 64.5,
          "Pop": 3134.0,
          "Pop16": 2461.5,
          "Price": 80.1,
          "Sales": 116.4,
          "State": 7,
          "Year": 81
         },
         {
          "CPI": 96.5,
          "NDI": 12380.197494,
          "Pimin": 71.6,
          "Pop": 3153.0,
          "Pop16": 2487.6,
          "Price": 85.6,
          "Sales": 114.7,
          "State": 7,
          "Year": 82
         },
         {
          "CPI": 99.6,
          "NDI": 13485.534055,
          "Pimin": 83.1,
          "Pop": 3138.0,
          "Pop16": 2487.6,
          "Price": 95.6,
          "Sales": 114.1,
          "State": 7,
          "Year": 83
         },
         {
          "CPI": 103.9,
          "NDI": 14927.928716,
          "Pimin": 94.8,
          "Pop": 3154.0,
          "Pop16": 2505.9,
          "Price": 113.5,
          "Sales": 112.5,
          "State": 7,
          "Year": 84
         },
         {
          "CPI": 107.6,
          "NDI": 15685.506921,
          "Pimin": 100.3,
          "Pop": 3175.0,
          "Pop16": 2525.1,
          "Price": 118.6,
          "Sales": 111.0,
          "State": 7,
          "Year": 85
         },
         {
          "CPI": 109.6,
          "NDI": 16486.956179,
          "Pimin": 101.8,
          "Pop": 3193.0,
          "Pop16": 2541.5,
          "Price": 118.5,
          "Sales": 108.5,
          "State": 7,
          "Year": 86
         },
         {
          "CPI": 113.6,
          "NDI": 17762.426829,
          "Pimin": 113.5,
          "Pop": 3211.0,
          "Pop16": 2555.0,
          "Price": 122.7,
          "Sales": 109.0,
          "State": 7,
          "Year": 87
         },
         {
          "CPI": 118.3,
          "NDI": 19559.0,
          "Pimin": 121.5,
          "Pop": 3233.0,
          "Pop16": 2568.0,
          "Price": 129.7,
          "Sales": 104.8,
          "State": 7,
          "Year": 88
         },
         {
          "CPI": 124.0,
          "NDI": 20687.0,
          "Pimin": 134.8,
          "Pop": 3239.0,
          "Pop16": 2564.0,
          "Price": 142.0,
          "Sales": 100.6,
          "State": 7,
          "Year": 89
         },
         {
          "CPI": 130.7,
          "NDI": 21447.0,
          "Pimin": 150.9,
          "Pop": 3242.9,
          "Pop16": 2567.1,
          "Price": 171.2,
          "Sales": 91.5,
          "State": 7,
          "Year": 90
         },
         {
          "CPI": 136.2,
          "NDI": 21967.0,
          "Pimin": 163.3,
          "Pop": 3246.9,
          "Pop16": 2555.4,
          "Price": 169.5,
          "Sales": 86.7,
          "State": 7,
          "Year": 91
         },
         {
          "CPI": 140.3,
          "NDI": 22891.0,
          "Pimin": 175.9,
          "Pop": 3237.0,
          "Pop16": 2536.7,
          "Price": 193.5,
          "Sales": 83.6,
          "State": 7,
          "Year": 92
         },
         {
          "CPI": 30.6,
          "NDI": 2261.4623685,
          "Pimin": 26.8,
          "Pop": 480.0,
          "Pop16": 317.7,
          "Price": 26.8,
          "Sales": 165.8,
          "State": 8,
          "Year": 63
         },
         {
          "CPI": 31.0,
          "NDI": 2325.3400998,
          "Pimin": 28.5,
          "Pop": 494.0,
          "Pop16": 326.3,
          "Price": 27.1,
          "Sales": 170.9,
          "State": 8,
          "Year": 64
         },
         {
          "CPI": 31.5,
          "NDI": 2529.3674804,
          "Pimin": 27.9,
          "Pop": 503.0,
          "Pop16": 332.1,
          "Price": 27.2,
          "Sales": 170.8,
          "State": 8,
          "Year": 65
         },
         {
          "CPI": 32.4,
          "NDI": 2691.4453062,
          "Pimin": 28.2,
          "Pop": 514.0,
          "Pop16": 343.6,
          "Price": 31.0,
          "Sales": 161.3,
          "State": 8,
          "Year": 66
         },
         {
          "CPI": 33.4,
          "NDI": 2864.0105206,
          "Pimin": 29.4,
          "Pop": 524.0,
          "Pop16": 353.2,
          "Price": 30.7,
          "Sales": 158.2,
          "State": 8,
          "Year": 67
         },
         {
          "CPI": 34.8,
          "NDI": 3061.3641084,
          "Pimin": 30.9,
          "Pop": 533.0,
          "Pop16": 359.0,
          "Price": 32.0,
          "Sales": 164.8,
          "State": 8,
          "Year": 68
         },
         {
          "CPI": 36.7,
          "NDI": 3287.3196655,
          "Pimin": 30.7,
          "Pop": 540.0,
          "Pop16": 362.8,
          "Price": 32.2,
          "Sales": 175.5,
          "State": 8,
          "Year": 69
         },
         {
          "CPI": 38.8,
          "NDI": 3495.160642,
          "Pimin": 32.6,
          "Pop": 584.0,
          "Pop16": 378.2,
          "Price": 39.0,
          "Sales": 155.0,
          "State": 8,
          "Year": 70
         },
         {
          "CPI": 40.5,
          "NDI": 3730.6501888,
          "Pimin": 34.2,
          "Pop": 563.0,
          "Pop16": 392.6,
          "Price": 41.3,
          "Sales": 161.1,
          "State": 8,
          "Year": 71
         },
         {
          "CPI": 41.8,
          "NDI": 4015.7164823,
          "Pimin": 34.3,
          "Pop": 570.0,
          "Pop16": 403.1,
          "Price": 44.7,
          "Sales": 156.3,
          "State": 8,
          "Year": 72
         },
         {
          "CPI": 44.4,
          "NDI": 4438.0722282,
          "Pimin": 35.3,
          "Pop": 573.0,
          "Pop16": 409.9,
          "Price": 44.0,
          "Sales": 154.7,
          "State": 8,
          "Year": 73
         },
         {
          "CPI": 49.3,
          "NDI": 4755.5540869,
          "Pimin": 35.8,
          "Pop": 576.0,
          "Pop16": 416.6,
          "Price": 44.2,
          "Sales": 151.3,
          "State": 8,
          "Year": 74
         },
         {
          "CPI": 53.8,
          "NDI": 5112.1253035,
          "Pimin": 39.5,
          "Pop": 579.0,
          "Pop16": 424.3,
          "Price": 45.9,
          "Sales": 147.6,
          "State": 8,
          "Year": 75
         },
         {
          "CPI": 56.9,
          "NDI": 5440.0945508,
          "Pimin": 46.1,
          "Pop": 582.0,
          "Pop16": 431.0,
          "Price": 50.1,
          "Sales": 153.0,
          "State": 8,
          "Year": 76
         },
         {
          "CPI": 60.6,
          "NDI": 5850.0561101,
          "Pimin": 49.2,
          "Pop": 582.0,
          "Pop16": 434.8,
          "Price": 51.7,
          "Sales": 153.3,
          "State": 8,
          "Year": 77
         },
         {
          "CPI": 65.2,
          "NDI": 6407.7945104,
          "Pimin": 52.1,
          "Pop": 584.0,
          "Pop16": 440.6,
          "Price": 58.7,
          "Sales": 155.5,
          "State": 8,
          "Year": 78
         },
         {
          "CPI": 72.6,
          "NDI": 7017.0164554,
          "Pimin": 56.2,
          "Pop": 582.0,
          "Pop16": 441.5,
          "Price": 60.0,
          "Sales": 150.2,
          "State": 8,
          "Year": 79
         },
         {
          "CPI": 82.4,
          "NDI": 7773.0618425,
          "Pimin": 58.1,
          "Pop": 595.0,
          "Pop16": 454.0,
          "Price": 62.7,
          "Sales": 150.5,
          "State": 8,
          "Year": 80
         },
         {
          "CPI": 90.9,
          "NDI": 8492.8780685,
          "Pimin": 62.8,
          "Pop": 598.0,
          "Pop16": 458.8,
          "Price": 66.0,
          "Sales": 152.6,
          "State": 8,
          "Year": 81
         },
         {
          "CPI": 96.5,
          "NDI": 9213.6476936,
          "Pimin": 65.4,
          "Pop": 602.0,
          "Pop16": 463.6,
          "Price": 74.1,
          "Sales": 154.1,
          "State": 8,
          "Year": 82
         },
         {
          "CPI": 99.6,
          "NDI": 10081.240761,
          "Pimin": 74.9,
          "Pop": 606.0,
          "Pop16": 469.4,
          "Price": 82.0,
          "Sales": 149.6,
          "State": 8,
          "Year": 83
         },
         {
          "CPI": 103.9,
          "NDI": 10806.777381,
          "Pimin": 84.2,
          "Pop": 613.0,
          "Pop16": 476.1,
          "Price": 91.1,
          "Sales": 144.0,
          "State": 8,
          "Year": 84
         },
         {
          "CPI": 107.6,
          "NDI": 11563.776167,
          "Pimin": 90.1,
          "Pop": 622.0,
          "Pop16": 481.8,
          "Price": 98.7,
          "Sales": 144.5,
          "State": 8,
          "Year": 85
         },
         {
          "CPI": 109.6,
          "NDI": 12062.403831,
          "Pimin": 93.3,
          "Pop": 633.0,
          "Pop16": 492.4,
          "Price": 105.2,
          "Sales": 142.4,
          "State": 8,
          "Year": 86
         },
         {
          "CPI": 113.6,
          "NDI": 12960.505665,
          "Pimin": 100.3,
          "Pop": 644.0,
          "Pop16": 502.0,
          "Price": 111.4,
          "Sales": 141.0,
          "State": 8,
          "Year": 87
         },
         {
          "CPI": 118.3,
          "NDI": 14137.0,
          "Pimin": 109.2,
          "Pop": 660.0,
          "Pop16": 513.0,
          "Price": 119.3,
          "Sales": 137.1,
          "State": 8,
          "Year": 88
         },
         {
          "CPI": 124.0,
          "NDI": 14949.0,
          "Pimin": 120.2,
          "Pop": 673.0,
          "Pop16": 522.0,
          "Price": 124.0,
          "Sales": 131.7,
          "State": 8,
          "Year": 89
         },
         {
          "CPI": 130.7,
          "NDI": 16435.0,
          "Pimin": 131.5,
          "Pop": 681.2,
          "Pop16": 528.3,
          "Price": 140.0,
          "Sales": 127.2,
          "State": 8,
          "Year": 90
         },
         {
          "CPI": 136.2,
          "NDI": 16732.0,
          "Pimin": 141.6,
          "Pop": 695.5,
          "Pop16": 537.5,
          "Price": 143.2,
          "Sales": 118.8,
          "State": 8,
          "Year": 91
         },
         {
          "CPI": 140.3,
          "NDI": 18300.0,
          "Pimin": 159.1,
          "Pop": 704.7,
          "Pop16": 543.6,
          "Price": 174.7,
          "Sales": 120.0,
          "State": 8,
          "Year": 92
         },
         {
          "CPI": 30.6,
          "NDI": 2733.226538,
          "Pimin": 24.7,
          "Pop": 792.0,
          "Pop16": 563.1,
          "Price": 23.4,
          "Sales": 246.4,
          "State": 9,
          "Year": 63
         },
         {
          "CPI": 31.0,
          "NDI": 2894.0045696,
          "Pimin": 25.2,
          "Pop": 795.0,
          "Pop16": 559.3,
          "Price": 23.9,
          "Sales": 235.3,
          "State": 9,
          "Year": 64
         },
         {
          "CPI": 31.5,
          "NDI": 3068.4434798,
          "Pimin": 25.1,
          "Pop": 802.0,
          "Pop16": 560.2,
          "Price": 24.1,
          "Sales": 246.5,
          "State": 9,
          "Year": 65
         },
         {
          "CPI": 32.4,
          "NDI": 3215.5606329,
          "Pimin": 24.7,
          "Pop": 806.0,
          "Pop16": 559.3,
          "Price": 24.1,
          "Sales": 295.9,
          "State": 9,
          "Year": 66
         },
         {
          "CPI": 33.4,
          "NDI": 3479.3206717,
          "Pimin": 26.3,
          "Pop": 808.0,
          "Pop16": 559.3,
          "Price": 26.6,
          "Sales": 249.8,
          "State": 9,
          "Year": 67
         },
         {
          "CPI": 34.8,
          "NDI": 3752.5382418,
          "Pimin": 27.1,
          "Pop": 802.0,
          "Pop16": 554.4,
          "Price": 26.7,
          "Sales": 224.3,
          "State": 9,
          "Year": 68
         },
         {
          "CPI": 36.7,
          "NDI": 3907.0112526,
          "Pimin": 28.3,
          "Pop": 798.0,
          "Pop16": 561.2,
          "Price": 27.2,
          "Sales": 212.2,
          "State": 9,
          "Year": 69
         },
         {
          "CPI": 38.8,
          "NDI": 4202.2963957,
          "Pimin": 28.8,
          "Pop": 756.0,
          "Pop16": 563.1,
          "Price": 28.5,
          "Sales": 200.4,
          "State": 9,
          "Year": 70
         },
         {
          "CPI": 40.5,
          "NDI": 4600.563546,
          "Pimin": 30.2,
          "Pop": 750.0,
          "Pop16": 560.2,
          "Price": 32.6,
          "Sales": 213.0,
          "State": 9,
          "Year": 71
         },
         {
          "CPI": 41.8,
          "NDI": 4964.1530816,
          "Pimin": 29.9,
          "Pop": 744.0,
          "Pop16": 558.3,
          "Price": 33.7,
          "Sales": 220.6,
          "State": 9,
          "Year": 72
         },
         {
          "CPI": 44.4,
          "NDI": 5310.9292283,
          "Pimin": 30.1,
          "Pop": 734.0,
          "Pop16": 553.4,
          "Price": 34.5,
          "Sales": 209.4,
          "State": 9,
          "Year": 73
         },
         {
          "CPI": 49.3,
          "NDI": 5894.1436568,
          "Pimin": 31.3,
          "Pop": 721.0,
          "Pop16": 547.6,
          "Price": 36.0,
          "Sales": 182.7,
          "State": 9,
          "Year": 74
         },
         {
          "CPI": 53.8,
          "NDI": 6587.6959502,
          "Pimin": 33.6,
          "Pop": 711.0,
          "Pop16": 543.7,
          "Price": 39.4,
          "Sales": 176.5,
          "State": 9,
          "Year": 75
         },
         {
          "CPI": 56.9,
          "NDI": 7003.8273262,
          "Pimin": 37.9,
          "Pop": 697.0,
          "Pop16": 536.9,
          "Price": 47.8,
          "Sales": 167.7,
          "State": 9,
          "Year": 76
         },
         {
          "CPI": 60.6,
          "NDI": 7770.9381962,
          "Pimin": 38.4,
          "Pop": 683.0,
          "Pop16": 529.2,
          "Price": 51.9,
          "Sales": 136.7,
          "State": 9,
          "Year": 77
         },
         {
          "CPI": 65.2,
          "NDI": 8369.9151768,
          "Pimin": 42.8,
          "Pop": 671.0,
          "Pop16": 523.3,
          "Price": 59.8,
          "Sales": 130.3,
          "State": 9,
          "Year": 78
         },
         {
          "CPI": 72.6,
          "NDI": 9306.2107728,
          "Pimin": 45.8,
          "Pop": 656.0,
          "Pop16": 514.6,
          "Price": 59.3,
          "Sales": 128.5,
          "State": 9,
          "Year": 79
         },
         {
          "CPI": 82.4,
          "NDI": 10605.045068,
          "Pimin": 48.5,
          "Pop": 638.0,
          "Pop16": 518.5,
          "Price": 65.6,
          "Sales": 129.7,
          "State": 9,
          "Year": 80
         },
         {
          "CPI": 90.9,
          "NDI": 11612.797567,
          "Pimin": 51.8,
          "Pop": 631.0,
          "Pop16": 512.7,
          "Price": 69.0,
          "Sales": 131.9,
          "State": 9,
          "Year": 81
         },
         {
          "CPI": 96.5,
          "NDI": 12167.639401,
          "Pimin": 56.4,
          "Pop": 631.0,
          "Pop16": 512.7,
          "Price": 74.8,
          "Sales": 132.0,
          "State": 9,
          "Year": 82
         },
         {
          "CPI": 99.6,
          "NDI": 13222.679557,
          "Pimin": 68.8,
          "Pop": 623.0,
          "Pop16": 505.9,
          "Price": 86.3,
          "Sales": 124.5,
          "State": 9,
          "Year": 83
         },
         {
          "CPI": 103.9,
          "NDI": 14479.480379,
          "Pimin": 76.0,
          "Pop": 623.0,
          "Pop16": 505.9,
          "Price": 98.5,
          "Sales": 124.6,
          "State": 9,
          "Year": 84
         },
         {
          "CPI": 107.6,
          "NDI": 15439.945222,
          "Pimin": 83.6,
          "Pop": 623.0,
          "Pop16": 502.9,
          "Price": 100.4,
          "Sales": 122.1,
          "State": 9,
          "Year": 85
         },
         {
          "CPI": 109.6,
          "NDI": 15675.332667,
          "Pimin": 91.3,
          "Pop": 625.0,
          "Pop16": 502.9,
          "Price": 109.3,
          "Sales": 117.2,
          "State": 9,
          "Year": 86
         },
         {
          "CPI": 113.6,
          "NDI": 16632.644999,
          "Pimin": 94.6,
          "Pop": 622.0,
          "Pop16": 501.0,
          "Price": 112.5,
          "Sales": 113.0,
          "State": 9,
          "Year": 87
         },
         {
          "CPI": 118.3,
          "NDI": 18397.0,
          "Pimin": 102.1,
          "Pop": 617.0,
          "Pop16": 494.0,
          "Price": 119.0,
          "Sales": 105.4,
          "State": 9,
          "Year": 88
         },
         {
          "CPI": 124.0,
          "NDI": 19937.0,
          "Pimin": 109.4,
          "Pop": 604.0,
          "Pop16": 478.0,
          "Price": 135.9,
          "Sales": 101.1,
          "State": 9,
          "Year": 89
         },
         {
          "CPI": 130.7,
          "NDI": 19351.0,
          "Pimin": 128.6,
          "Pop": 587.5,
          "Pop16": 465.0,
          "Price": 145.7,
          "Sales": 84.1,
          "State": 9,
          "Year": 90
         },
         {
          "CPI": 136.2,
          "NDI": 20231.0,
          "Pimin": 136.5,
          "Pop": 578.8,
          "Pop16": 452.0,
          "Price": 143.3,
          "Sales": 82.2,
          "State": 9,
          "Year": 91
         },
         {
          "CPI": 140.3,
          "NDI": 22101.0,
          "Pimin": 157.9,
          "Pop": 570.1,
          "Pop16": 447.4,
          "Price": 187.4,
          "Sales": 82.6,
          "State": 9,
          "Year": 92
         },
         {
          "CPI": 30.6,
          "NDI": 1980.6867784,
          "Pimin": 26.9,
          "Pop": 5532.0,
          "Pop16": 3996.8,
          "Price": 26.3,
          "Sales": 137.5,
          "State": 10,
          "Year": 63
         },
         {
          "CPI": 31.0,
          "NDI": 2122.916946,
          "Pimin": 27.5,
          "Pop": 5654.0,
          "Pop16": 4087.2,
          "Price": 29.7,
          "Sales": 125.5,
          "State": 10,
          "Year": 64
         },
         {
          "CPI": 31.5,
          "NDI": 2261.9864432,
          "Pimin": 29.8,
          "Pop": 5796.0,
          "Pop16": 4197.7,
          "Price": 29.7,
          "Sales": 131.1,
          "State": 10,
          "Year": 65
         },
         {
          "CPI": 32.4,
          "NDI": 2430.5555307,
          "Pimin": 30.6,
          "Pop": 5914.0,
          "Pop16": 4292.1,
          "Price": 30.0,
          "Sales": 131.3,
          "State": 10,
          "Year": 66
         },
         {
          "CPI": 33.4,
          "NDI": 2599.1246182,
          "Pimin": 31.5,
          "Pop": 6035.0,
          "Pop16": 4401.6,
          "Price": 30.2,
          "Sales": 132.8,
          "State": 10,
          "Year": 67
         },
         {
          "CPI": 34.8,
          "NDI": 2861.4602607,
          "Pimin": 33.3,
          "Pop": 6210.0,
          "Pop16": 4559.3,
          "Price": 32.0,
          "Sales": 129.3,
          "State": 10,
          "Year": 68
         },
         {
          "CPI": 36.7,
          "NDI": 3131.1708007,
          "Pimin": 34.2,
          "Pop": 6354.0,
          "Pop16": 4733.1,
          "Price": 41.3,
          "Sales": 121.2,
          "State": 10,
          "Year": 69
         },
         {
          "CPI": 38.8,
          "NDI": 3444.0771695,
          "Pimin": 34.3,
          "Pop": 6789.0,
          "Pop16": 5188.1,
          "Price": 43.5,
          "Sales": 123.6,
          "State": 10,
          "Year": 70
         },
         {
          "CPI": 40.5,
          "NDI": 3693.7701304,
          "Pimin": 35.8,
          "Pop": 7101.0,
          "Pop16": 5471.4,
          "Price": 43.8,
          "Sales": 123.0,
          "State": 10,
          "Year": 71
         },
         {
          "CPI": 41.8,
          "NDI": 3978.2304655,
          "Pimin": 40.9,
          "Pop": 7407.0,
          "Pop16": 5754.6,
          "Price": 46.8,
          "Sales": 126.0,
          "State": 10,
          "Year": 72
         },
         {
          "CPI": 44.4,
          "NDI": 4483.9377281,
          "Pimin": 42.1,
          "Pop": 7757.0,
          "Pop16": 6073.1,
          "Price": 47.4,
          "Sales": 132.6,
          "State": 10,
          "Year": 73
         },
         {
          "CPI": 49.3,
          "NDI": 4813.7010056,
          "Pimin": 42.4,
          "Pop": 8087.0,
          "Pop16": 6387.5,
          "Price": 48.1,
          "Sales": 136.0,
          "State": 10,
          "Year": 74
         },
         {
          "CPI": 53.8,
          "NDI": 5129.7680447,
          "Pimin": 44.5,
          "Pop": 8253.0,
          "Pop16": 6572.3,
          "Price": 51.7,
          "Sales": 131.9,
          "State": 10,
          "Year": 75
         },
         {
          "CPI": 56.9,
          "NDI": 5436.3530726,
          "Pimin": 47.9,
          "Pop": 8348.0,
          "Pop16": 6705.9,
          "Price": 55.9,
          "Sales": 130.3,
          "State": 10,
          "Year": 76
         },
         {
          "CPI": 60.6,
          "NDI": 5965.2385847,
          "Pimin": 49.5,
          "Pop": 8481.0,
          "Pop16": 6862.6,
          "Price": 55.9,
          "Sales": 133.1,
          "State": 10,
          "Year": 77
         },
         {
          "CPI": 65.2,
          "NDI": 6677.4429795,
          "Pimin": 54.7,
          "Pop": 8661.0,
          "Pop16": 7051.4,
          "Price": 66.3,
          "Sales": 133.4,
          "State": 10,
          "Year": 78
         },
         {
          "CPI": 72.6,
          "NDI": 7425.4683054,
          "Pimin": 56.6,
          "Pop": 8860.0,
          "Pop16": 7251.3,
          "Price": 66.5,
          "Sales": 135.4,
          "State": 10,
          "Year": 79
         },
         {
          "CPI": 82.4,
          "NDI": 8227.2250279,
          "Pimin": 59.3,
          "Pop": 9749.0,
          "Pop16": 8052.9,
          "Price": 69.8,
          "Sales": 139.0,
          "State": 10,
          "Year": 80
         },
         {
          "CPI": 90.9,
          "NDI": 9132.2303166,
          "Pimin": 62.6,
          "Pop": 10183.0,
          "Pop16": 8426.6,
          "Price": 72.8,
          "Sales": 132.8,
          "State": 10,
          "Year": 81
         },
         {
          "CPI": 96.5,
          "NDI": 9545.224581,
          "Pimin": 67.8,
          "Pop": 10416.0,
          "Pop16": 8626.4,
          "Price": 79.0,
          "Sales": 131.8,
          "State": 10,
          "Year": 82
         },
         {
          "CPI": 99.6,
          "NDI": 10352.249088,
          "Pimin": 78.9,
          "Pop": 10680.0,
          "Pop16": 8855.5,
          "Price": 90.5,
          "Sales": 127.6,
          "State": 10,
          "Year": 83
         },
         {
          "CPI": 103.9,
          "NDI": 11091.845959,
          "Pimin": 86.8,
          "Pop": 10976.0,
          "Pop16": 9113.6,
          "Price": 99.3,
          "Sales": 124.7,
          "State": 10,
          "Year": 84
         },
         {
          "CPI": 107.6,
          "NDI": 11764.015196,
          "Pimin": 90.7,
          "Pop": 11053.0,
          "Pop16": 9113.6,
          "Price": 104.2,
          "Sales": 124.2,
          "State": 10,
          "Year": 85
         },
         {
          "CPI": 109.6,
          "NDI": 12378.238808,
          "Pimin": 100.1,
          "Pop": 11373.0,
          "Pop16": 9384.8,
          "Price": 113.8,
          "Sales": 124.7,
          "State": 10,
          "Year": 86
         },
         {
          "CPI": 113.6,
          "NDI": 13193.691769,
          "Pimin": 103.9,
          "Pop": 12023.0,
          "Pop16": 9649.0,
          "Price": 120.8,
          "Sales": 125.1,
          "State": 10,
          "Year": 87
         },
         {
          "CPI": 118.3,
          "NDI": 14144.0,
          "Pimin": 109.2,
          "Pop": 12335.0,
          "Pop16": 9870.0,
          "Price": 130.5,
          "Sales": 119.5,
          "State": 10,
          "Year": 88
         },
         {
          "CPI": 124.0,
          "NDI": 15049.0,
          "Pimin": 122.3,
          "Pop": 12671.0,
          "Pop16": 10113.0,
          "Price": 139.8,
          "Sales": 113.8,
          "State": 10,
          "Year": 89
         },
         {
          "CPI": 130.7,
          "NDI": 15859.0,
          "Pimin": 132.3,
          "Pop": 12971.8,
          "Pop16": 10353.1,
          "Price": 150.1,
          "Sales": 110.1,
          "State": 10,
          "Year": 90
         },
         {
          "CPI": 136.2,
          "NDI": 16254.0,
          "Pimin": 138.2,
          "Pop": 13311.7,
          "Pop16": 10561.6,
          "Price": 174.8,
          "Sales": 98.2,
          "State": 10,
          "Year": 91
         },
         {
          "CPI": 140.3,
          "NDI": 17246.0,
          "Pimin": 159.5,
          "Pop": 13523.2,
          "Pop16": 10664.3,
          "Price": 187.0,
          "Sales": 95.9,
          "State": 10,
          "Year": 92
         },
         {
          "CPI": 30.6,
          "NDI": 1743.9394545,
          "Pimin": 26.1,
          "Pop": 4206.0,
          "Pop16": 2768.4,
          "Price": 26.9,
          "Sales": 108.3,
          "State": 11,
          "Year": 63
         },
         {
          "CPI": 31.0,
          "NDI": 1865.9221787,
          "Pimin": 26.5,
          "Pop": 4304.0,
          "Pop16": 2840.0,
          "Price": 27.5,
          "Sales": 107.6,
          "State": 11,
          "Year": 64
         },
         {
          "CPI": 31.5,
          "NDI": 2024.0862193,
          "Pimin": 26.2,
          "Pop": 4391.0,
          "Pop16": 2903.9,
          "Price": 30.9,
          "Sales": 103.5,
          "State": 11,
          "Year": 65
         },
         {
          "CPI": 32.4,
          "NDI": 2193.6215308,
          "Pimin": 26.2,
          "Pop": 4462.0,
          "Pop16": 2965.0,
          "Price": 30.6,
          "Sales": 104.8,
          "State": 11,
          "Year": 66
         },
         {
          "CPI": 33.4,
          "NDI": 2366.2580981,
          "Pimin": 27.3,
          "Pop": 4490.0,
          "Pop16": 2996.5,
          "Price": 31.5,
          "Sales": 106.7,
          "State": 11,
          "Year": 67
         },
         {
          "CPI": 34.8,
          "NDI": 2530.6246501,
          "Pimin": 29.5,
          "Pop": 4579.0,
          "Pop16": 3077.6,
          "Price": 33.3,
          "Sales": 105.0,
          "State": 11,
          "Year": 68
         },
         {
          "CPI": 36.7,
          "NDI": 2730.1387667,
          "Pimin": 29.0,
          "Pop": 4641.0,
          "Pop16": 3113.9,
          "Price": 34.2,
          "Sales": 108.6,
          "State": 11,
          "Year": 69
         },
         {
          "CPI": 38.8,
          "NDI": 2955.4966808,
          "Pimin": 32.5,
          "Pop": 4589.0,
          "Pop16": 3159.7,
          "Price": 34.3,
          "Sales": 109.9,
          "State": 11,
          "Year": 70
         },
         {
          "CPI": 40.5,
          "NDI": 3189.1246101,
          "Pimin": 34.3,
          "Pop": 4679.0,
          "Pop16": 3243.7,
          "Price": 35.8,
          "Sales": 115.7,
          "State": 11,
          "Year": 71
         },
         {
          "CPI": 41.8,
          "NDI": 3467.2038711,
          "Pimin": 34.1,
          "Pop": 4751.0,
          "Pop16": 3314.3,
          "Price": 40.9,
          "Sales": 117.0,
          "State": 11,
          "Year": 72
         },
         {
          "CPI": 44.4,
          "NDI": 3885.8733904,
          "Pimin": 33.5,
          "Pop": 4826.0,
          "Pop16": 3392.5,
          "Price": 42.4,
          "Sales": 119.8,
          "State": 11,
          "Year": 73
         },
         {
          "CPI": 49.3,
          "NDI": 4188.762697,
          "Pimin": 35.2,
          "Pop": 4888.0,
          "Pop16": 3463.1,
          "Price": 42.4,
          "Sales": 123.7,
          "State": 11,
          "Year": 74
         },
         {
          "CPI": 53.8,
          "NDI": 4493.7195073,
          "Pimin": 38.1,
          "Pop": 4926.0,
          "Pop16": 3519.4,
          "Price": 44.5,
          "Sales": 122.9,
          "State": 11,
          "Year": 75
         },
         {
          "CPI": 56.9,
          "NDI": 4872.0727026,
          "Pimin": 41.0,
          "Pop": 4968.0,
          "Pop16": 3581.5,
          "Price": 47.9,
          "Sales": 125.9,
          "State": 11,
          "Year": 76
         },
         {
          "CPI": 60.6,
          "NDI": 5279.370951,
          "Pimin": 42.2,
          "Pop": 5027.0,
          "Pop16": 3652.1,
          "Price": 49.5,
          "Sales": 127.9,
          "State": 11,
          "Year": 77
         },
         {
          "CPI": 65.2,
          "NDI": 5893.4195793,
          "Pimin": 49.2,
          "Pop": 5075.0,
          "Pop16": 3711.3,
          "Price": 54.7,
          "Sales": 130.6,
          "State": 11,
          "Year": 78
         },
         {
          "CPI": 72.6,
          "NDI": 6422.7005519,
          "Pimin": 50.2,
          "Pop": 5117.0,
          "Pop16": 3764.7,
          "Price": 56.6,
          "Sales": 131.0,
          "State": 11,
          "Year": 79
         },
         {
          "CPI": 82.4,
          "NDI": 7014.0066384,
          "Pimin": 52.3,
          "Pop": 5464.0,
          "Pop16": 4036.7,
          "Price": 59.3,
          "Sales": 134.0,
          "State": 11,
          "Year": 80
         },
         {
          "CPI": 90.9,
          "NDI": 7744.8692314,
          "Pimin": 54.7,
          "Pop": 5574.0,
          "Pop16": 4133.1,
          "Price": 62.6,
          "Sales": 131.7,
          "State": 11,
          "Year": 81
         },
         {
          "CPI": 96.5,
          "NDI": 8357.8841078,
          "Pimin": 61.9,
          "Pop": 5639.0,
          "Pop16": 4197.0,
          "Price": 67.8,
          "Sales": 131.2,
          "State": 11,
          "Year": 82
         },
         {
          "CPI": 99.6,
          "NDI": 9010.1815564,
          "Pimin": 72.4,
          "Pop": 5732.0,
          "Pop16": 4283.8,
          "Price": 78.9,
          "Sales": 128.6,
          "State": 11,
          "Year": 83
         },
         {
          "CPI": 103.9,
          "NDI": 9955.0307926,
          "Pimin": 81.3,
          "Pop": 5837.0,
          "Pop16": 4382.1,
          "Price": 86.8,
          "Sales": 126.3,
          "State": 11,
          "Year": 84
         },
         {
          "CPI": 107.6,
          "NDI": 10577.349436,
          "Pimin": 83.0,
          "Pop": 5973.0,
          "Pop16": 4486.1,
          "Price": 90.7,
          "Sales": 128.8,
          "State": 11,
          "Year": 85
         },
         {
          "CPI": 109.6,
          "NDI": 11423.992242,
          "Pimin": 88.7,
          "Pop": 6100.0,
          "Pop16": 4595.9,
          "Price": 100.1,
          "Sales": 129.0,
          "State": 11,
          "Year": 86
         },
         {
          "CPI": 113.6,
          "NDI": 12115.572263,
          "Pimin": 95.3,
          "Pop": 6222.0,
          "Pop16": 4698.0,
          "Price": 103.9,
          "Sales": 129.3,
          "State": 11,
          "Year": 87
         },
         {
          "CPI": 118.3,
          "NDI": 12925.0,
          "Pimin": 99.9,
          "Pop": 6342.0,
          "Pop16": 4778.0,
          "Price": 109.2,
          "Sales": 124.1,
          "State": 11,
          "Year": 88
         },
         {
          "CPI": 124.0,
          "NDI": 13464.0,
          "Pimin": 111.9,
          "Pop": 6436.0,
          "Pop16": 4842.0,
          "Price": 122.4,
          "Sales": 117.1,
          "State": 11,
          "Year": 89
         },
         {
          "CPI": 130.7,
          "NDI": 14354.0,
          "Pimin": 125.2,
          "Pop": 6503.3,
          "Pop16": 4892.6,
          "Price": 132.3,
          "Sales": 113.8,
          "State": 11,
          "Year": 90
         },
         {
          "CPI": 136.2,
          "NDI": 14694.0,
          "Pimin": 129.0,
          "Pop": 6648.8,
          "Pop16": 4987.7,
          "Price": 138.2,
          "Sales": 109.6,
          "State": 11,
          "Year": 91
         },
         {
          "CPI": 140.3,
          "NDI": 15943.0,
          "Pimin": 151.9,
          "Pop": 6777.3,
          "Pop16": 5088.7,
          "Price": 159.5,
          "Sales": 109.2,
          "State": 11,
          "Year": 92
         },
         {
          "CPI": 30.6,
          "NDI": 1938.8138772,
          "Pimin": 24.9,
          "Pop": 689.0,
          "Pop16": 451.6,
          "Price": 28.0,
          "Sales": 97.0,
          "State": 13,
          "Year": 63
         },
         {
          "CPI": 31.0,
          "NDI": 2021.6064698,
          "Pimin": 26.2,
          "Pop": 687.0,
          "Pop16": 453.5,
          "Price": 29.4,
          "Sales": 90.1,
          "State": 13,
          "Year": 64
         },
         {
          "CPI": 31.5,
          "NDI": 2302.4724801,
          "Pimin": 26.1,
          "Pop": 693.0,
          "Pop16": 461.2,
          "Price": 29.1,
          "Sales": 95.2,
          "State": 13,
          "Year": 65
         },
         {
          "CPI": 32.4,
          "NDI": 2314.0005626,
          "Pimin": 26.5,
          "Pop": 700.0,
          "Pop16": 468.9,
          "Price": 29.8,
          "Sales": 94.5,
          "State": 13,
          "Year": 66
         },
         {
          "CPI": 33.4,
          "NDI": 2445.0015002,
          "Pimin": 27.4,
          "Pop": 701.0,
          "Pop16": 474.7,
          "Price": 30.1,
          "Sales": 98.3,
          "State": 13,
          "Year": 67
         },
         {
          "CPI": 34.8,
          "NDI": 2559.2343179,
          "Pimin": 32.3,
          "Pop": 709.0,
          "Pop16": 485.3,
          "Price": 32.0,
          "Sales": 99.1,
          "State": 13,
          "Year": 68
         },
         {
          "CPI": 36.7,
          "NDI": 2813.9001406,
          "Pimin": 32.6,
          "Pop": 718.0,
          "Pop16": 487.2,
          "Price": 31.9,
          "Sales": 100.6,
          "State": 13,
          "Year": 69
         },
         {
          "CPI": 38.8,
          "NDI": 3058.0858884,
          "Pimin": 34.0,
          "Pop": 713.0,
          "Pop16": 493.0,
          "Price": 33.8,
          "Sales": 102.4,
          "State": 13,
          "Year": 70
         },
         {
          "CPI": 40.5,
          "NDI": 3245.6792311,
          "Pimin": 34.4,
          "Pop": 735.0,
          "Pop16": 513.2,
          "Price": 33.6,
          "Sales": 108.5,
          "State": 13,
          "Year": 71
         },
         {
          "CPI": 41.8,
          "NDI": 3615.625879,
          "Pimin": 34.4,
          "Pop": 756.0,
          "Pop16": 533.4,
          "Price": 33.7,
          "Sales": 126.1,
          "State": 13,
          "Year": 72
         },
         {
          "CPI": 44.4,
          "NDI": 4165.8298172,
          "Pimin": 34.4,
          "Pop": 772.0,
          "Pop16": 547.9,
          "Price": 36.3,
          "Sales": 121.8,
          "State": 13,
          "Year": 73
         },
         {
          "CPI": 49.3,
          "NDI": 4643.7212377,
          "Pimin": 35.8,
          "Pop": 794.0,
          "Pop16": 568.1,
          "Price": 38.0,
          "Sales": 125.6,
          "State": 13,
          "Year": 74
         },
         {
          "CPI": 53.8,
          "NDI": 4804.0663854,
          "Pimin": 38.6,
          "Pop": 815.0,
          "Pop16": 586.4,
          "Price": 40.3,
          "Sales": 123.3,
          "State": 13,
          "Year": 75
         },
         {
          "CPI": 56.9,
          "NDI": 5161.4369433,
          "Pimin": 42.6,
          "Pop": 836.0,
          "Pop16": 604.7,
          "Price": 42.5,
          "Sales": 125.1,
          "State": 13,
          "Year": 76
         },
         {
          "CPI": 60.6,
          "NDI": 5555.4877637,
          "Pimin": 43.4,
          "Pop": 859.0,
          "Pop16": 623.0,
          "Price": 45.6,
          "Sales": 125.0,
          "State": 13,
          "Year": 77
         },
         {
          "CPI": 65.2,
          "NDI": 6217.8285045,
          "Pimin": 49.5,
          "Pop": 882.0,
          "Pop16": 640.3,
          "Price": 51.5,
          "Sales": 122.8,
          "State": 13,
          "Year": 78
         },
         {
          "CPI": 72.6,
          "NDI": 6672.66376,
          "Pimin": 51.7,
          "Pop": 905.0,
          "Pop16": 655.7,
          "Price": 55.4,
          "Sales": 117.5,
          "State": 13,
          "Year": 79
         },
         {
          "CPI": 82.4,
          "NDI": 7348.6285982,
          "Pimin": 55.3,
          "Pop": 944.0,
          "Pop16": 677.9,
          "Price": 56.4,
          "Sales": 115.2,
          "State": 13,
          "Year": 80
         },
         {
          "CPI": 90.9,
          "NDI": 8047.6496015,
          "Pimin": 55.9,
          "Pop": 959.0,
          "Pop16": 687.5,
          "Price": 59.2,
          "Sales": 114.1,
          "State": 13,
          "Year": 81
         },
         {
          "CPI": 96.5,
          "NDI": 8138.8262541,
          "Pimin": 64.3,
          "Pop": 965.0,
          "Pop16": 691.3,
          "Price": 67.6,
          "Sales": 111.5,
          "State": 13,
          "Year": 82
         },
         {
          "CPI": 99.6,
          "NDI": 8744.5745898,
          "Pimin": 71.0,
          "Pop": 989.0,
          "Pop16": 707.7,
          "Price": 76.5,
          "Sales": 111.3,
          "State": 13,
          "Year": 83
         },
         {
          "CPI": 103.9,
          "NDI": 9148.0574777,
          "Pimin": 81.7,
          "Pop": 1001.0,
          "Pop16": 717.3,
          "Price": 88.5,
          "Sales": 103.6,
          "State": 13,
          "Year": 84
         },
         {
          "CPI": 107.6,
          "NDI": 9493.8999531,
          "Pimin": 87.4,
          "Pop": 1004.0,
          "Pop16": 723.1,
          "Price": 97.6,
          "Sales": 100.7,
          "State": 13,
          "Year": 85
         },
         {
          "CPI": 109.6,
          "NDI": 9883.7587436,
          "Pimin": 97.8,
          "Pop": 1002.0,
          "Pop16": 726.0,
          "Price": 99.9,
          "Sales": 96.7,
          "State": 13,
          "Year": 86
         },
         {
          "CPI": 113.6,
          "NDI": 10386.802344,
          "Pimin": 102.7,
          "Pop": 998.0,
          "Pop16": 726.0,
          "Price": 107.1,
          "Sales": 95.0,
          "State": 13,
          "Year": 87
         },
         {
          "CPI": 118.3,
          "NDI": 11177.0,
          "Pimin": 112.9,
          "Pop": 1003.0,
          "Pop16": 732.0,
          "Price": 121.9,
          "Sales": 84.5,
          "State": 13,
          "Year": 88
         },
         {
          "CPI": 124.0,
          "NDI": 12041.0,
          "Pimin": 118.6,
          "Pop": 1014.0,
          "Pop16": 742.0,
          "Price": 133.6,
          "Sales": 78.4,
          "State": 13,
          "Year": 89
         },
         {
          "CPI": 130.7,
          "NDI": 13318.0,
          "Pimin": 129.5,
          "Pop": 1027.3,
          "Pop16": 751.7,
          "Price": 141.3,
          "Sales": 90.1,
          "State": 13,
          "Year": 90
         },
         {
          "CPI": 136.2,
          "NDI": 14079.0,
          "Pimin": 127.0,
          "Pop": 1059.9,
          "Pop16": 777.4,
          "Price": 144.4,
          "Sales": 85.4,
          "State": 13,
          "Year": 91
         },
         {
          "CPI": 140.3,
          "NDI": 14572.0,
          "Pimin": 155.1,
          "Pop": 1088.5,
          "Pop16": 802.2,
          "Price": 167.2,
          "Sales": 85.1,
          "State": 13,
          "Year": 92
         },
         {
          "CPI": 30.6,
          "NDI": 2655.6910868,
          "Pimin": 24.1,
          "Pop": 10369.0,
          "Pop16": 7115.8,
          "Price": 25.4,
          "Sales": 145.5,
          "State": 14,
          "Year": 63
         },
         {
          "CPI": 31.0,
          "NDI": 2831.550804,
          "Pimin": 25.0,
          "Pop": 10538.0,
          "Pop16": 7225.6,
          "Price": 25.6,
          "Sales": 144.5,
          "State": 14,
          "Year": 64
         },
         {
          "CPI": 31.5,
          "NDI": 3037.7672581,
          "Pimin": 24.5,
          "Pop": 10641.0,
          "Pop16": 7307.5,
          "Price": 26.2,
          "Sales": 145.5,
          "State": 14,
          "Year": 65
         },
         {
          "CPI": 32.4,
          "NDI": 3229.3287358,
          "Pimin": 24.7,
          "Pop": 10787.0,
          "Pop16": 7425.9,
          "Price": 30.0,
          "Sales": 144.2,
          "State": 14,
          "Year": 66
         },
         {
          "CPI": 33.4,
          "NDI": 3391.5802606,
          "Pimin": 25.0,
          "Pop": 10887.0,
          "Pop16": 7521.3,
          "Price": 30.1,
          "Sales": 141.8,
          "State": 14,
          "Year": 67
         },
         {
          "CPI": 34.8,
          "NDI": 3582.0949543,
          "Pimin": 26.3,
          "Pop": 10958.0,
          "Pop16": 7608.9,
          "Price": 35.6,
          "Sales": 132.6,
          "State": 14,
          "Year": 68
         },
         {
          "CPI": 36.7,
          "NDI": 3795.6388966,
          "Pimin": 27.0,
          "Pop": 11047.0,
          "Pop16": 7738.0,
          "Price": 35.2,
          "Sales": 130.4,
          "State": 14,
          "Year": 69
         },
         {
          "CPI": 38.8,
          "NDI": 4013.369975,
          "Pimin": 28.3,
          "Pop": 11113.0,
          "Pop16": 7860.3,
          "Price": 41.4,
          "Sales": 124.8,
          "State": 14,
          "Year": 70
         },
         {
          "CPI": 40.5,
          "NDI": 4319.0309121,
          "Pimin": 30.1,
          "Pop": 11172.0,
          "Pop16": 7963.3,
          "Price": 41.4,
          "Sales": 125.6,
          "State": 14,
          "Year": 71
         },
         {
          "CPI": 41.8,
          "NDI": 4560.8380233,
          "Pimin": 30.6,
          "Pop": 11200.0,
          "Pop16": 8054.8,
          "Price": 41.9,
          "Sales": 126.6,
          "State": 14,
          "Year": 72
         },
         {
          "CPI": 44.4,
          "NDI": 5158.551705,
          "Pimin": 30.6,
          "Pop": 11179.0,
          "Pop16": 8110.6,
          "Price": 41.0,
          "Sales": 124.4,
          "State": 14,
          "Year": 73
         },
         {
          "CPI": 49.3,
          "NDI": 5603.4349182,
          "Pimin": 31.5,
          "Pop": 11169.0,
          "Pop16": 8177.1,
          "Price": 41.9,
          "Sales": 131.9,
          "State": 14,
          "Year": 74
         },
         {
          "CPI": 53.8,
          "NDI": 6120.5462296,
          "Pimin": 33.3,
          "Pop": 11178.0,
          "Pop16": 8255.1,
          "Price": 45.2,
          "Sales": 131.8,
          "State": 14,
          "Year": 75
         },
         {
          "CPI": 56.9,
          "NDI": 6523.5580815,
          "Pimin": 36.0,
          "Pop": 11209.0,
          "Pop16": 8342.7,
          "Price": 48.4,
          "Sales": 134.4,
          "State": 14,
          "Year": 76
         },
         {
          "CPI": 60.6,
          "NDI": 7108.7103549,
          "Pimin": 36.9,
          "Pop": 11232.0,
          "Pop16": 8417.9,
          "Price": 49.4,
          "Sales": 134.0,
          "State": 14,
          "Year": 77
         },
         {
          "CPI": 65.2,
          "NDI": 7812.1492237,
          "Pimin": 41.4,
          "Pop": 11238.0,
          "Pop16": 8472.7,
          "Price": 54.6,
          "Sales": 136.7,
          "State": 14,
          "Year": 78
         },
         {
          "CPI": 72.6,
          "NDI": 8642.2489604,
          "Pimin": 43.4,
          "Pop": 11229.0,
          "Pop16": 8505.5,
          "Price": 56.8,
          "Sales": 135.3,
          "State": 14,
          "Year": 79
         },
         {
          "CPI": 82.4,
          "NDI": 9179.2491683,
          "Pimin": 46.3,
          "Pop": 11427.0,
          "Pop16": 8673.1,
          "Price": 60.0,
          "Sales": 135.2,
          "State": 14,
          "Year": 80
         },
         {
          "CPI": 90.9,
          "NDI": 10134.962989,
          "Pimin": 49.4,
          "Pop": 11462.0,
          "Pop16": 8714.5,
          "Price": 63.1,
          "Sales": 133.0,
          "State": 14,
          "Year": 81
         },
         {
          "CPI": 96.5,
          "NDI": 10588.220474,
          "Pimin": 56.3,
          "Pop": 11448.0,
          "Pop16": 8716.4,
          "Price": 69.6,
          "Sales": 130.7,
          "State": 14,
          "Year": 82
         },
         {
          "CPI": 99.6,
          "NDI": 11044.618312,
          "Pimin": 66.4,
          "Pop": 11486.0,
          "Pop16": 8759.7,
          "Price": 80.8,
          "Sales": 127.9,
          "State": 14,
          "Year": 83
         },
         {
          "CPI": 103.9,
          "NDI": 12027.548517,
          "Pimin": 75.4,
          "Pop": 11511.0,
          "Pop16": 8799.2,
          "Price": 89.6,
          "Sales": 124.0,
          "State": 14,
          "Year": 84
         },
         {
          "CPI": 107.6,
          "NDI": 12644.104311,
          "Pimin": 79.3,
          "Pop": 11538.0,
          "Pop16": 8832.9,
          "Price": 96.7,
          "Sales": 121.6,
          "State": 14,
          "Year": 85
         },
         {
          "CPI": 109.6,
          "NDI": 13314.046091,
          "Pimin": 85.4,
          "Pop": 11551.0,
          "Pop16": 8864.7,
          "Price": 108.4,
          "Sales": 118.2,
          "State": 14,
          "Year": 86
         },
         {
          "CPI": 113.6,
          "NDI": 13970.379678,
          "Pimin": 90.5,
          "Pop": 11582.0,
          "Pop16": 8909.0,
          "Price": 116.2,
          "Sales": 109.5,
          "State": 14,
          "Year": 87
         },
         {
          "CPI": 118.3,
          "NDI": 15103.0,
          "Pimin": 94.4,
          "Pop": 11614.0,
          "Pop16": 8961.0,
          "Price": 124.1,
          "Sales": 107.6,
          "State": 14,
          "Year": 88
         },
         {
          "CPI": 124.0,
          "NDI": 16060.0,
          "Pimin": 103.8,
          "Pop": 11658.0,
          "Pop16": 9003.0,
          "Price": 132.7,
          "Sales": 104.6,
          "State": 14,
          "Year": 89
         },
         {
          "CPI": 130.7,
          "NDI": 17510.0,
          "Pimin": 115.6,
          "Pop": 11679.5,
          "Pop16": 9019.6,
          "Price": 147.3,
          "Sales": 94.1,
          "State": 14,
          "Year": 90
         },
         {
          "CPI": 136.2,
          "NDI": 17908.0,
          "Pimin": 120.5,
          "Pop": 11793.9,
          "Pop16": 9080.1,
          "Price": 154.4,
          "Sales": 96.1,
          "State": 14,
          "Year": 91
         },
         {
          "CPI": 140.3,
          "NDI": 18914.0,
          "Pimin": 135.8,
          "Pop": 11883.8,
          "Pop16": 9138.5,
          "Price": 179.8,
          "Sales": 94.8,
          "State": 14,
          "Year": 92
         },
         {
          "CPI": 30.6,
          "NDI": 2204.3263141,
          "Pimin": 24.1,
          "Pop": 4780.0,
          "Pop16": 3206.7,
          "Price": 24.4,
          "Sales": 138.5,
          "State": 15,
          "Year": 63
         },
         {
          "CPI": 31.0,
          "NDI": 2344.6110023,
          "Pimin": 25.0,
          "Pop": 4832.0,
          "Pop16": 3244.2,
          "Price": 26.0,
          "Sales": 134.3,
          "State": 15,
          "Year": 64
         },
         {
          "CPI": 31.5,
          "NDI": 2562.25857,
          "Pimin": 24.5,
          "Pop": 4893.0,
          "Pop16": 3296.9,
          "Price": 26.0,
          "Sales": 135.3,
          "State": 15,
          "Year": 65
         },
         {
          "CPI": 32.4,
          "NDI": 2702.5432582,
          "Pimin": 24.7,
          "Pop": 4973.0,
          "Pop16": 3365.1,
          "Price": 28.8,
          "Sales": 132.1,
          "State": 15,
          "Year": 66
         },
         {
          "CPI": 33.4,
          "NDI": 2784.032158,
          "Pimin": 25.0,
          "Pop": 5012.0,
          "Pop16": 3411.1,
          "Price": 29.1,
          "Sales": 134.8,
          "State": 15,
          "Year": 67
         },
         {
          "CPI": 34.8,
          "NDI": 2970.7345739,
          "Pimin": 26.3,
          "Pop": 5065.0,
          "Pop16": 3472.5,
          "Price": 29.8,
          "Sales": 134.3,
          "State": 15,
          "Year": 68
         },
         {
          "CPI": 36.7,
          "NDI": 3194.5711721,
          "Pimin": 27.0,
          "Pop": 5118.0,
          "Pop16": 3514.8,
          "Price": 29.7,
          "Sales": 132.9,
          "State": 15,
          "Year": 69
         },
         {
          "CPI": 38.8,
          "NDI": 3304.9422135,
          "Pimin": 28.3,
          "Pop": 5193.0,
          "Pop16": 3616.5,
          "Price": 30.6,
          "Sales": 134.6,
          "State": 15,
          "Year": 70
         },
         {
          "CPI": 40.5,
          "NDI": 3570.039014,
          "Pimin": 30.1,
          "Pop": 5239.0,
          "Pop16": 3681.7,
          "Price": 32.2,
          "Sales": 139.3,
          "State": 15,
          "Year": 71
         },
         {
          "CPI": 41.8,
          "NDI": 3812.4427032,
          "Pimin": 30.6,
          "Pop": 5278.0,
          "Pop16": 3743.1,
          "Price": 32.5,
          "Sales": 149.2,
          "State": 15,
          "Year": 72
         },
         {
          "CPI": 44.4,
          "NDI": 4427.2197192,
          "Pimin": 30.6,
          "Pop": 5304.0,
          "Pop16": 3794.9,
          "Price": 32.9,
          "Sales": 156.0,
          "State": 15,
          "Year": 73
         },
         {
          "CPI": 49.3,
          "NDI": 4611.859125,
          "Pimin": 31.5,
          "Pop": 5318.0,
          "Pop16": 3840.0,
          "Price": 34.5,
          "Sales": 159.6,
          "State": 15,
          "Year": 74
         },
         {
          "CPI": 53.8,
          "NDI": 5024.4611492,
          "Pimin": 33.3,
          "Pop": 5312.0,
          "Pop16": 3869.8,
          "Price": 36.7,
          "Sales": 162.4,
          "State": 15,
          "Year": 75
         },
         {
          "CPI": 56.9,
          "NDI": 5521.6465883,
          "Pimin": 36.0,
          "Pop": 5326.0,
          "Pop16": 3912.0,
          "Price": 38.7,
          "Sales": 166.6,
          "State": 15,
          "Year": 76
         },
         {
          "CPI": 60.6,
          "NDI": 6012.6429971,
          "Pimin": 36.9,
          "Pop": 5352.0,
          "Pop16": 3960.0,
          "Price": 40.6,
          "Sales": 173.0,
          "State": 15,
          "Year": 77
         },
         {
          "CPI": 65.2,
          "NDI": 6663.5226902,
          "Pimin": 41.4,
          "Pop": 5387.0,
          "Pop16": 4013.7,
          "Price": 50.0,
          "Sales": 150.9,
          "State": 15,
          "Year": 78
         },
         {
          "CPI": 72.6,
          "NDI": 7358.7571009,
          "Pimin": 43.4,
          "Pop": 5400.0,
          "Pop16": 4045.4,
          "Price": 52.5,
          "Sales": 148.9,
          "State": 15,
          "Year": 79
         },
         {
          "CPI": 82.4,
          "NDI": 7760.0125694,
          "Pimin": 46.3,
          "Pop": 5490.0,
          "Pop16": 4103.9,
          "Price": 53.7,
          "Sales": 146.9,
          "State": 15,
          "Year": 80
         },
         {
          "CPI": 90.9,
          "NDI": 8407.7977473,
          "Pimin": 49.4,
          "Pop": 5468.0,
          "Pop16": 4102.0,
          "Price": 58.3,
          "Sales": 148.5,
          "State": 15,
          "Year": 81
         },
         {
          "CPI": 96.5,
          "NDI": 8612.0357493,
          "Pimin": 56.3,
          "Pop": 5471.0,
          "Pop16": 4115.4,
          "Price": 65.1,
          "Sales": 147.7,
          "State": 15,
          "Year": 82
         },
         {
          "CPI": 99.6,
          "NDI": 9060.7404505,
          "Pimin": 66.4,
          "Pop": 5479.0,
          "Pop16": 4134.6,
          "Price": 75.7,
          "Sales": 143.0,
          "State": 15,
          "Year": 83
         },
         {
          "CPI": 103.9,
          "NDI": 10077.80444,
          "Pimin": 75.4,
          "Pop": 5498.0,
          "Pop16": 4164.4,
          "Price": 85.2,
          "Sales": 137.8,
          "State": 15,
          "Year": 84
         },
         {
          "CPI": 107.6,
          "NDI": 10502.784525,
          "Pimin": 79.3,
          "Pop": 5500.0,
          "Pop16": 4186.4,
          "Price": 88.8,
          "Sales": 135.3,
          "State": 15,
          "Year": 85
         },
         {
          "CPI": 109.6,
          "NDI": 11140.254652,
          "Pimin": 85.4,
          "Pop": 5503.0,
          "Pop16": 4211.4,
          "Price": 93.6,
          "Sales": 137.6,
          "State": 15,
          "Year": 86
         },
         {
          "CPI": 113.6,
          "NDI": 11803.512406,
          "Pimin": 90.5,
          "Pop": 5531.0,
          "Pop16": 4244.0,
          "Price": 100.1,
          "Sales": 134.0,
          "State": 15,
          "Year": 87
         },
         {
          "CPI": 118.3,
          "NDI": 12638.0,
          "Pimin": 94.4,
          "Pop": 5556.0,
          "Pop16": 4275.0,
          "Price": 109.3,
          "Sales": 134.0,
          "State": 15,
          "Year": 88
         },
         {
          "CPI": 124.0,
          "NDI": 13451.0,
          "Pimin": 103.8,
          "Pop": 5593.0,
          "Pop16": 4301.0,
          "Price": 119.0,
          "Sales": 132.5,
          "State": 15,
          "Year": 89
         },
         {
          "CPI": 130.7,
          "NDI": 14441.0,
          "Pimin": 115.6,
          "Pop": 5613.2,
          "Pop16": 4316.6,
          "Price": 130.8,
          "Sales": 128.3,
          "State": 15,
          "Year": 90
         },
         {
          "CPI": 136.2,
          "NDI": 14773.0,
          "Pimin": 120.5,
          "Pop": 5680.1,
          "Pop16": 4373.5,
          "Price": 135.8,
          "Sales": 127.2,
          "State": 15,
          "Year": 91
         },
         {
          "CPI": 140.3,
          "NDI": 15882.0,
          "Pimin": 135.8,
          "Pop": 5732.7,
          "Pop16": 4430.4,
          "Price": 153.5,
          "Sales": 128.2,
          "State": 15,
          "Year": 92
         },
         {
          "CPI": 30.6,
          "NDI": 2153.014454,
          "Pimin": 25.4,
          "Pop": 2758.0,
          "Pop16": 1880.7,
          "Price": 26.4,
          "Sales": 114.9,
          "State": 16,
          "Year": 63
         },
         {
          "CPI": 31.0,
          "NDI": 2280.5627037,
          "Pimin": 25.6,
          "Pop": 2763.0,
          "Pop16": 1889.4,
          "Price": 27.9,
          "Sales": 109.7,
          "State": 16,
          "Year": 64
         },
         {
          "CPI": 31.5,
          "NDI": 2537.6999749,
          "Pimin": 26.1,
          "Pop": 2758.0,
          "Pop16": 1897.1,
          "Price": 28.1,
          "Sales": 116.0,
          "State": 16,
          "Year": 65
         },
         {
          "CPI": 32.4,
          "NDI": 2722.3898404,
          "Pimin": 26.2,
          "Pop": 2764.0,
          "Pop16": 1912.5,
          "Price": 31.6,
          "Sales": 108.2,
          "State": 16,
          "Year": 66
         },
         {
          "CPI": 33.4,
          "NDI": 2744.8383324,
          "Pimin": 27.5,
          "Pop": 2772.0,
          "Pop16": 1930.8,
          "Price": 32.0,
          "Sales": 113.7,
          "State": 16,
          "Year": 67
         },
         {
          "CPI": 34.8,
          "NDI": 2918.3039519,
          "Pimin": 29.2,
          "Pop": 2775.0,
          "Pop16": 1950.1,
          "Price": 36.3,
          "Sales": 109.2,
          "State": 16,
          "Year": 68
         },
         {
          "CPI": 36.7,
          "NDI": 3165.2373632,
          "Pimin": 29.9,
          "Pop": 2781.0,
          "Pop16": 1963.6,
          "Price": 36.0,
          "Sales": 107.9,
          "State": 16,
          "Year": 69
         },
         {
          "CPI": 38.8,
          "NDI": 3369.3145626,
          "Pimin": 33.9,
          "Pop": 2825.0,
          "Pop16": 2000.2,
          "Price": 37.7,
          "Sales": 108.5,
          "State": 16,
          "Year": 70
         },
         {
          "CPI": 40.5,
          "NDI": 3507.0666722,
          "Pimin": 34.7,
          "Pop": 2849.0,
          "Pop16": 2036.8,
          "Price": 38.5,
          "Sales": 108.4,
          "State": 16,
          "Year": 71
         },
         {
          "CPI": 41.8,
          "NDI": 3892.7725792,
          "Pimin": 37.7,
          "Pop": 2856.0,
          "Pop16": 2062.8,
          "Price": 41.9,
          "Sales": 109.4,
          "State": 16,
          "Year": 72
         },
         {
          "CPI": 44.4,
          "NDI": 4829.4869246,
          "Pimin": 37.7,
          "Pop": 2858.0,
          "Pop16": 2084.0,
          "Price": 41.9,
          "Sales": 110.6,
          "State": 16,
          "Year": 73
         },
         {
          "CPI": 49.3,
          "NDI": 4793.7734147,
          "Pimin": 38.0,
          "Pop": 2861.0,
          "Pop16": 2108.1,
          "Price": 43.2,
          "Sales": 116.1,
          "State": 16,
          "Year": 74
         },
         {
          "CPI": 53.8,
          "NDI": 5289.6810093,
          "Pimin": 42.8,
          "Pop": 2873.0,
          "Pop16": 2137.0,
          "Price": 45.4,
          "Sales": 120.5,
          "State": 16,
          "Year": 75
         },
         {
          "CPI": 56.9,
          "NDI": 5794.7720779,
          "Pimin": 44.7,
          "Pop": 2894.0,
          "Pop16": 2172.7,
          "Price": 47.8,
          "Sales": 124.4,
          "State": 16,
          "Year": 76
         },
         {
          "CPI": 60.6,
          "NDI": 6047.8278052,
          "Pimin": 45.9,
          "Pop": 2903.0,
          "Pop16": 2195.8,
          "Price": 49.4,
          "Sales": 125.5,
          "State": 16,
          "Year": 77
         },
         {
          "CPI": 65.2,
          "NDI": 7016.1741165,
          "Pimin": 49.9,
          "Pop": 2906.0,
          "Pop16": 2213.1,
          "Price": 54.6,
          "Sales": 127.1,
          "State": 16,
          "Year": 78
         },
         {
          "CPI": 72.6,
          "NDI": 7617.1814688,
          "Pimin": 52.2,
          "Pop": 2902.0,
          "Pop16": 2219.9,
          "Price": 56.4,
          "Sales": 124.2,
          "State": 16,
          "Year": 79
         },
         {
          "CPI": 82.4,
          "NDI": 7957.9903918,
          "Pimin": 57.3,
          "Pop": 2913.0,
          "Pop16": 2213.1,
          "Price": 58.8,
          "Sales": 124.6,
          "State": 16,
          "Year": 80
         },
         {
          "CPI": 90.9,
          "NDI": 8951.8463531,
          "Pimin": 59.9,
          "Pop": 2899.0,
          "Pop16": 2206.4,
          "Price": 61.4,
          "Sales": 132.9,
          "State": 16,
          "Year": 81
         },
         {
          "CPI": 96.5,
          "NDI": 9118.1692706,
          "Pimin": 64.7,
          "Pop": 2905.0,
          "Pop16": 2212.2,
          "Price": 72.8,
          "Sales": 116.2,
          "State": 16,
          "Year": 82
         },
         {
          "CPI": 99.6,
          "NDI": 9124.2915866,
          "Pimin": 74.8,
          "Pop": 2905.0,
          "Pop16": 2216.0,
          "Price": 84.0,
          "Sales": 115.6,
          "State": 16,
          "Year": 83
         },
         {
          "CPI": 103.9,
          "NDI": 10180.391094,
          "Pimin": 84.8,
          "Pop": 2910.0,
          "Pop16": 2218.9,
          "Price": 93.3,
          "Sales": 111.2,
          "State": 16,
          "Year": 84
         },
         {
          "CPI": 107.6,
          "NDI": 10668.1356,
          "Pimin": 92.3,
          "Pop": 2880.0,
          "Pop16": 2209.3,
          "Price": 99.5,
          "Sales": 109.4,
          "State": 16,
          "Year": 85
         },
         {
          "CPI": 109.6,
          "NDI": 11155.880107,
          "Pimin": 101.9,
          "Pop": 2850.0,
          "Pop16": 2195.8,
          "Price": 104.8,
          "Sales": 104.1,
          "State": 16,
          "Year": 86
         },
         {
          "CPI": 113.6,
          "NDI": 11623.216894,
          "Pimin": 108.5,
          "Pop": 2834.0,
          "Pop16": 2190.0,
          "Price": 117.1,
          "Sales": 101.1,
          "State": 16,
          "Year": 87
         },
         {
          "CPI": 118.3,
          "NDI": 12213.0,
          "Pimin": 114.6,
          "Pop": 2834.0,
          "Pop16": 2203.0,
          "Price": 124.2,
          "Sales": 100.2,
          "State": 16,
          "Year": 88
         },
         {
          "CPI": 124.0,
          "NDI": 13138.0,
          "Pimin": 118.9,
          "Pop": 2840.0,
          "Pop16": 2209.0,
          "Price": 145.1,
          "Sales": 94.4,
          "State": 16,
          "Year": 89
         },
         {
          "CPI": 130.7,
          "NDI": 14647.0,
          "Pimin": 129.1,
          "Pop": 2846.1,
          "Pop16": 2213.8,
          "Price": 149.6,
          "Sales": 95.4,
          "State": 16,
          "Year": 90
         },
         {
          "CPI": 136.2,
          "NDI": 14873.0,
          "Pimin": 132.5,
          "Pop": 2864.6,
          "Pop16": 2228.3,
          "Price": 155.4,
          "Sales": 97.1,
          "State": 16,
          "Year": 91
         },
         {
          "CPI": 140.3,
          "NDI": 16089.0,
          "Pimin": 153.1,
          "Pop": 2882.0,
          "Pop16": 2238.7,
          "Price": 178.5,
          "Sales": 95.2,
          "State": 16,
          "Year": 92
         },
         {
          "CPI": 30.6,
          "NDI": 2148.6675472,
          "Pimin": 25.8,
          "Pop": 2261.0,
          "Pop16": 1550.4,
          "Price": 25.8,
          "Sales": 115.8,
          "State": 17,
          "Year": 63
         },
         {
          "CPI": 31.0,
          "NDI": 2316.5973895,
          "Pimin": 25.7,
          "Pop": 2237.0,
          "Pop16": 1537.8,
          "Price": 25.6,
          "Sales": 111.2,
          "State": 17,
          "Year": 64
         },
         {
          "CPI": 31.5,
          "NDI": 2488.6994018,
          "Pimin": 26.1,
          "Pop": 2248.0,
          "Pop16": 1552.3,
          "Price": 28.1,
          "Sales": 107.8,
          "State": 17,
          "Year": 65
         },
         {
          "CPI": 32.4,
          "NDI": 2639.9405641,
          "Pimin": 26.2,
          "Pop": 2275.0,
          "Pop16": 1582.3,
          "Price": 30.5,
          "Sales": 101.7,
          "State": 17,
          "Year": 66
         },
         {
          "CPI": 33.4,
          "NDI": 2768.2347914,
          "Pimin": 27.5,
          "Pop": 2281.0,
          "Pop16": 1597.8,
          "Price": 31.0,
          "Sales": 101.2,
          "State": 17,
          "Year": 67
         },
         {
          "CPI": 34.8,
          "NDI": 2945.5520162,
          "Pimin": 29.2,
          "Pop": 2291.0,
          "Pop16": 1622.0,
          "Price": 32.4,
          "Sales": 100.1,
          "State": 17,
          "Year": 68
         },
         {
          "CPI": 36.7,
          "NDI": 3163.5478984,
          "Pimin": 29.9,
          "Pop": 2321.0,
          "Pop16": 1656.9,
          "Price": 32.6,
          "Sales": 102.6,
          "State": 17,
          "Year": 69
         },
         {
          "CPI": 38.8,
          "NDI": 3411.7920131,
          "Pimin": 33.9,
          "Pop": 2249.0,
          "Pop16": 1624.9,
          "Price": 34.2,
          "Sales": 114.0,
          "State": 17,
          "Year": 70
         },
         {
          "CPI": 40.5,
          "NDI": 3717.4034652,
          "Pimin": 34.7,
          "Pop": 2247.0,
          "Pop16": 1641.4,
          "Price": 38.9,
          "Sales": 102.8,
          "State": 17,
          "Year": 71
         },
         {
          "CPI": 41.8,
          "NDI": 4125.2330821,
          "Pimin": 37.7,
          "Pop": 2259.0,
          "Pop16": 1665.6,
          "Price": 38.8,
          "Sales": 111.0,
          "State": 17,
          "Year": 72
         },
         {
          "CPI": 44.4,
          "NDI": 4790.6941963,
          "Pimin": 37.7,
          "Pop": 2269.0,
          "Pop16": 1687.9,
          "Price": 39.3,
          "Sales": 115.2,
          "State": 17,
          "Year": 73
         },
         {
          "CPI": 49.3,
          "NDI": 5095.2626059,
          "Pimin": 38.0,
          "Pop": 2275.0,
          "Pop16": 1706.3,
          "Price": 40.2,
          "Sales": 118.6,
          "State": 17,
          "Year": 74
         },
         {
          "CPI": 53.8,
          "NDI": 5498.9200528,
          "Pimin": 43.5,
          "Pop": 2287.0,
          "Pop16": 1730.5,
          "Price": 42.7,
          "Sales": 123.4,
          "State": 17,
          "Year": 75
         },
         {
          "CPI": 56.9,
          "NDI": 5587.5786652,
          "Pimin": 44.7,
          "Pop": 2309.0,
          "Pop16": 1760.5,
          "Price": 46.6,
          "Sales": 127.7,
          "State": 17,
          "Year": 76
         },
         {
          "CPI": 60.6,
          "NDI": 6407.4100691,
          "Pimin": 45.9,
          "Pop": 2331.0,
          "Pop16": 1787.6,
          "Price": 48.1,
          "Sales": 127.9,
          "State": 17,
          "Year": 77
         },
         {
          "CPI": 65.2,
          "NDI": 7177.1754331,
          "Pimin": 49.9,
          "Pop": 2347.0,
          "Pop16": 1810.8,
          "Price": 52.6,
          "Sales": 127.1,
          "State": 17,
          "Year": 78
         },
         {
          "CPI": 72.6,
          "NDI": 8258.8105042,
          "Pimin": 52.2,
          "Pop": 2369.0,
          "Pop16": 1832.2,
          "Price": 54.8,
          "Sales": 126.4,
          "State": 17,
          "Year": 79
         },
         {
          "CPI": 82.4,
          "NDI": 8365.2008391,
          "Pimin": 57.3,
          "Pop": 2363.0,
          "Pop16": 1814.7,
          "Price": 58.3,
          "Sales": 127.1,
          "State": 17,
          "Year": 80
         },
         {
          "CPI": 90.9,
          "NDI": 9461.4385052,
          "Pimin": 59.9,
          "Pop": 2383.0,
          "Pop16": 1828.3,
          "Price": 59.8,
          "Sales": 132.0,
          "State": 17,
          "Year": 81
         },
         {
          "CPI": 96.5,
          "NDI": 10019.466242,
          "Pimin": 64.7,
          "Pop": 2408.0,
          "Pop16": 1843.8,
          "Price": 65.1,
          "Sales": 130.9,
          "State": 17,
          "Year": 82
         },
         {
          "CPI": 99.6,
          "NDI": 10400.176754,
          "Pimin": 74.8,
          "Pop": 2425.0,
          "Pop16": 1856.4,
          "Price": 77.0,
          "Sales": 127.6,
          "State": 17,
          "Year": 83
         },
         {
          "CPI": 103.9,
          "NDI": 11277.375495,
          "Pimin": 84.8,
          "Pop": 2438.0,
          "Pop16": 1867.0,
          "Price": 91.0,
          "Sales": 121.7,
          "State": 17,
          "Year": 84
         },
         {
          "CPI": 107.6,
          "NDI": 11843.747572,
          "Pimin": 93.7,
          "Pop": 2449.0,
          "Pop16": 1873.8,
          "Price": 97.5,
          "Sales": 115.7,
          "State": 17,
          "Year": 85
         },
         {
          "CPI": 109.6,
          "NDI": 12517.553026,
          "Pimin": 101.9,
          "Pop": 2459.0,
          "Pop16": 1887.3,
          "Price": 103.0,
          "Sales": 109.4,
          "State": 17,
          "Year": 86
         },
         {
          "CPI": 113.6,
          "NDI": 12827.336648,
          "Pimin": 108.5,
          "Pop": 2476.0,
          "Pop16": 1898.0,
          "Price": 114.5,
          "Sales": 105.2,
          "State": 17,
          "Year": 87
         },
         {
          "CPI": 118.3,
          "NDI": 13425.0,
          "Pimin": 114.6,
          "Pop": 2495.0,
          "Pop16": 1912.0,
          "Price": 123.9,
          "Sales": 103.2,
          "State": 17,
          "Year": 88
         },
         {
          "CPI": 124.0,
          "NDI": 14103.0,
          "Pimin": 118.9,
          "Pop": 2513.0,
          "Pop16": 1920.0,
          "Price": 136.5,
          "Sales": 96.5,
          "State": 17,
          "Year": 89
         },
         {
          "CPI": 130.7,
          "NDI": 15398.0,
          "Pimin": 129.1,
          "Pop": 2518.1,
          "Pop16": 1923.9,
          "Price": 145.8,
          "Sales": 94.3,
          "State": 17,
          "Year": 90
         },
         {
          "CPI": 136.2,
          "NDI": 15849.0,
          "Pimin": 132.5,
          "Pop": 2535.4,
          "Pop16": 1932.1,
          "Price": 145.7,
          "Sales": 91.8,
          "State": 17,
          "Year": 91
         },
         {
          "CPI": 140.3,
          "NDI": 16982.0,
          "Pimin": 153.1,
          "Pop": 2563.8,
          "Pop16": 1913.0,
          "Price": 174.2,
          "Sales": 90.0,
          "State": 17,
          "Year": 92
         },
         {
          "CPI": 30.6,
          "NDI": 1724.5821178,
          "Pimin": 24.4,
          "Pop": 3121.0,
          "Pop16": 2106.7,
          "Price": 24.1,
          "Sales": 126.3,
          "State": 18,
          "Year": 63
         },
         {
          "CPI": 31.0,
          "NDI": 1792.8512029,
          "Pimin": 25.2,
          "Pop": 3163.0,
          "Pop16": 2142.2,
          "Price": 25.0,
          "Sales": 127.0,
          "State": 18,
          "Year": 64
         },
         {
          "CPI": 31.5,
          "NDI": 1935.6911347,
          "Pimin": 25.1,
          "Pop": 3173.0,
          "Pop16": 2157.6,
          "Price": 24.5,
          "Sales": 128.7,
          "State": 18,
          "Year": 65
         },
         {
          "CPI": 32.4,
          "NDI": 2089.0340027,
          "Pimin": 24.7,
          "Pop": 3181.0,
          "Pop16": 2176.8,
          "Price": 24.7,
          "Sales": 134.0,
          "State": 18,
          "Year": 66
         },
         {
          "CPI": 33.4,
          "NDI": 2237.1254025,
          "Pimin": 26.3,
          "Pop": 3201.0,
          "Pop16": 2207.5,
          "Price": 25.0,
          "Sales": 139.3,
          "State": 18,
          "Year": 67
         },
         {
          "CPI": 34.8,
          "NDI": 2405.1723811,
          "Pimin": 27.1,
          "Pop": 3224.0,
          "Pop16": 2242.1,
          "Price": 26.3,
          "Sales": 142.8,
          "State": 18,
          "Year": 68
         },
         {
          "CPI": 36.7,
          "NDI": 2587.9234704,
          "Pimin": 28.3,
          "Pop": 3232.0,
          "Pop16": 2256.5,
          "Price": 27.0,
          "Sales": 146.3,
          "State": 18,
          "Year": 69
         },
         {
          "CPI": 38.8,
          "NDI": 2812.6863042,
          "Pimin": 28.8,
          "Pop": 3219.0,
          "Pop16": 2270.0,
          "Price": 28.3,
          "Sales": 155.8,
          "State": 18,
          "Year": 70
         },
         {
          "CPI": 40.5,
          "NDI": 3006.9906232,
          "Pimin": 30.2,
          "Pop": 3280.0,
          "Pop16": 2330.5,
          "Price": 30.1,
          "Sales": 163.5,
          "State": 18,
          "Year": 71
         },
         {
          "CPI": 41.8,
          "NDI": 3239.1055124,
          "Pimin": 29.9,
          "Pop": 3303.0,
          "Pop16": 2360.3,
          "Price": 30.6,
          "Sales": 179.4,
          "State": 18,
          "Year": 72
         },
         {
          "CPI": 44.4,
          "NDI": 3653.9714908,
          "Pimin": 30.1,
          "Pop": 3325.0,
          "Pop16": 2396.8,
          "Price": 30.6,
          "Sales": 201.9,
          "State": 18,
          "Year": 73
         },
         {
          "CPI": 49.3,
          "NDI": 4052.0327714,
          "Pimin": 31.3,
          "Pop": 3356.0,
          "Pop16": 2440.0,
          "Price": 31.5,
          "Sales": 212.4,
          "State": 18,
          "Year": 74
         },
         {
          "CPI": 53.8,
          "NDI": 4380.7746732,
          "Pimin": 33.6,
          "Pop": 3392.0,
          "Pop16": 2484.2,
          "Price": 33.3,
          "Sales": 223.0,
          "State": 18,
          "Year": 75
         },
         {
          "CPI": 56.9,
          "NDI": 4802.992707,
          "Pimin": 37.9,
          "Pop": 3439.0,
          "Pop16": 2537.0,
          "Price": 36.0,
          "Sales": 230.9,
          "State": 18,
          "Year": 76
         },
         {
          "CPI": 60.6,
          "NDI": 5232.562796,
          "Pimin": 38.4,
          "Pop": 3468.0,
          "Pop16": 2574.5,
          "Price": 36.9,
          "Sales": 229.4,
          "State": 18,
          "Year": 77
         },
         {
          "CPI": 65.2,
          "NDI": 5753.5084296,
          "Pimin": 42.8,
          "Pop": 3490.0,
          "Pop16": 2603.3,
          "Price": 41.4,
          "Sales": 224.7,
          "State": 18,
          "Year": 78
         },
         {
          "CPI": 72.6,
          "NDI": 6409.9419398,
          "Pimin": 45.8,
          "Pop": 3527.0,
          "Pop16": 2641.7,
          "Price": 43.4,
          "Sales": 214.9,
          "State": 18,
          "Year": 79
         },
         {
          "CPI": 82.4,
          "NDI": 6775.4441182,
          "Pimin": 48.5,
          "Pop": 3661.0,
          "Pop16": 2737.8,
          "Price": 46.3,
          "Sales": 215.3,
          "State": 18,
          "Year": 80
         },
         {
          "CPI": 90.9,
          "NDI": 7506.4484751,
          "Pimin": 51.8,
          "Pop": 3662.0,
          "Pop16": 2745.5,
          "Price": 49.4,
          "Sales": 209.7,
          "State": 18,
          "Year": 81
         },
         {
          "CPI": 96.5,
          "NDI": 7988.5332449,
          "Pimin": 56.4,
          "Pop": 3667.0,
          "Pop16": 2757.0,
          "Price": 56.3,
          "Sales": 210.6,
          "State": 18,
          "Year": 82
         },
         {
          "CPI": 99.6,
          "NDI": 8272.1125213,
          "Pimin": 68.8,
          "Pop": 3714.0,
          "Pop16": 2800.2,
          "Price": 66.4,
          "Sales": 201.1,
          "State": 18,
          "Year": 83
         },
         {
          "CPI": 103.9,
          "NDI": 9062.9836143,
          "Pimin": 76.0,
          "Pop": 3723.0,
          "Pop16": 2812.7,
          "Price": 75.4,
          "Sales": 183.2,
          "State": 18,
          "Year": 84
         },
         {
          "CPI": 107.6,
          "NDI": 9282.4949801,
          "Pimin": 83.6,
          "Pop": 3728.0,
          "Pop16": 2829.1,
          "Price": 79.3,
          "Sales": 182.4,
          "State": 18,
          "Year": 85
         },
         {
          "CPI": 109.6,
          "NDI": 9722.5680053,
          "Pimin": 91.3,
          "Pop": 3726.0,
          "Pop16": 2841.6,
          "Price": 85.4,
          "Sales": 179.8,
          "State": 18,
          "Year": 86
         },
         {
          "CPI": 113.6,
          "NDI": 10328.587422,
          "Pimin": 94.6,
          "Pop": 3727.0,
          "Pop16": 2855.0,
          "Price": 90.5,
          "Sales": 171.2,
          "State": 18,
          "Year": 87
         },
         {
          "CPI": 118.3,
          "NDI": 11089.0,
          "Pimin": 102.1,
          "Pop": 3727.0,
          "Pop16": 2867.0,
          "Price": 94.4,
          "Sales": 173.2,
          "State": 18,
          "Year": 88
         },
         {
          "CPI": 124.0,
          "NDI": 11873.0,
          "Pimin": 109.4,
          "Pop": 3727.0,
          "Pop16": 2874.0,
          "Price": 103.8,
          "Sales": 171.6,
          "State": 18,
          "Year": 89
         },
         {
          "CPI": 130.7,
          "NDI": 12879.0,
          "Pimin": 128.6,
          "Pop": 3735.1,
          "Pop16": 2880.3,
          "Price": 115.6,
          "Sales": 182.5,
          "State": 18,
          "Year": 90
         },
         {
          "CPI": 136.2,
          "NDI": 13338.0,
          "Pimin": 132.5,
          "Pop": 3763.5,
          "Pop16": 2903.6,
          "Price": 120.5,
          "Sales": 170.8,
          "State": 18,
          "Year": 91
         },
         {
          "CPI": 140.3,
          "NDI": 14664.0,
          "Pimin": 153.1,
          "Pop": 3806.1,
          "Pop16": 2942.1,
          "Price": 135.8,
          "Sales": 167.6,
          "State": 18,
          "Year": 92
         },
         {
          "CPI": 30.6,
          "NDI": 1675.9379252,
          "Pimin": 27.0,
          "Pop": 3410.0,
          "Pop16": 2194.0,
          "Price": 30.1,
          "Sales": 114.0,
          "State": 19,
          "Year": 63
         },
         {
          "CPI": 31.0,
          "NDI": 1782.5702302,
          "Pimin": 27.3,
          "Pop": 3493.0,
          "Pop16": 2253.6,
          "Price": 30.1,
          "Sales": 114.0,
          "State": 19,
          "Year": 64
         },
         {
          "CPI": 31.5,
          "NDI": 1910.3278032,
          "Pimin": 27.2,
          "Pop": 3560.0,
          "Pop16": 2305.5,
          "Price": 30.3,
          "Sales": 117.5,
          "State": 19,
          "Year": 65
         },
         {
          "CPI": 32.4,
          "NDI": 2054.1808183,
          "Pimin": 30.3,
          "Pop": 3624.0,
          "Pop16": 2363.2,
          "Price": 30.0,
          "Sales": 119.7,
          "State": 19,
          "Year": 66
         },
         {
          "CPI": 33.4,
          "NDI": 2236.2605089,
          "Pimin": 30.4,
          "Pop": 3663.0,
          "Pop16": 2404.5,
          "Price": 31.5,
          "Sales": 120.0,
          "State": 19,
          "Year": 67
         },
         {
          "CPI": 34.8,
          "NDI": 2413.3103738,
          "Pimin": 30.9,
          "Pop": 3710.0,
          "Pop16": 2455.5,
          "Price": 32.5,
          "Sales": 117.3,
          "State": 19,
          "Year": 68
         },
         {
          "CPI": 36.7,
          "NDI": 2511.8949576,
          "Pimin": 30.9,
          "Pop": 3745.0,
          "Pop16": 2467.0,
          "Price": 33.3,
          "Sales": 115.9,
          "State": 19,
          "Year": 69
         },
         {
          "CPI": 38.8,
          "NDI": 2709.0641253,
          "Pimin": 36.2,
          "Pop": 3643.0,
          "Pop16": 2467.0,
          "Price": 34.3,
          "Sales": 115.9,
          "State": 19,
          "Year": 70
         },
         {
          "CPI": 40.5,
          "NDI": 2877.0603038,
          "Pimin": 37.5,
          "Pop": 3696.0,
          "Pop16": 2530.5,
          "Price": 39.3,
          "Sales": 119.8,
          "State": 19,
          "Year": 71
         },
         {
          "CPI": 41.8,
          "NDI": 3075.2354367,
          "Pimin": 37.4,
          "Pop": 3737.0,
          "Pop16": 2580.5,
          "Price": 40.0,
          "Sales": 125.3,
          "State": 19,
          "Year": 72
         },
         {
          "CPI": 44.4,
          "NDI": 3410.2218287,
          "Pimin": 37.3,
          "Pop": 3753.0,
          "Pop16": 2616.0,
          "Price": 39.9,
          "Sales": 126.7,
          "State": 19,
          "Year": 73
         },
         {
          "CPI": 49.3,
          "NDI": 3855.8643862,
          "Pimin": 41.4,
          "Pop": 3774.0,
          "Pop16": 2658.3,
          "Price": 41.6,
          "Sales": 129.9,
          "State": 19,
          "Year": 74
         },
         {
          "CPI": 53.8,
          "NDI": 4252.2146519,
          "Pimin": 43.0,
          "Pop": 3829.0,
          "Pop16": 2722.8,
          "Price": 44.3,
          "Sales": 133.6,
          "State": 19,
          "Year": 75
         },
         {
          "CPI": 56.9,
          "NDI": 4694.839314,
          "Pimin": 46.4,
          "Pop": 3883.0,
          "Pop16": 2781.4,
          "Price": 48.1,
          "Sales": 139.6,
          "State": 19,
          "Year": 76
         },
         {
          "CPI": 60.6,
          "NDI": 5161.6071395,
          "Pimin": 48.8,
          "Pop": 3935.0,
          "Pop16": 2839.1,
          "Price": 48.9,
          "Sales": 140.0,
          "State": 19,
          "Year": 77
         },
         {
          "CPI": 65.2,
          "NDI": 5786.3114922,
          "Pimin": 53.6,
          "Pop": 3978.0,
          "Pop16": 2889.1,
          "Price": 54.2,
          "Sales": 142.7,
          "State": 19,
          "Year": 78
         },
         {
          "CPI": 72.6,
          "NDI": 6416.0456706,
          "Pimin": 56.5,
          "Pop": 4018.0,
          "Pop16": 2933.3,
          "Price": 57.1,
          "Sales": 140.1,
          "State": 19,
          "Year": 79
         },
         {
          "CPI": 82.4,
          "NDI": 7284.1935875,
          "Pimin": 59.7,
          "Pop": 4204.0,
          "Pop16": 3079.4,
          "Price": 60.0,
          "Sales": 143.8,
          "State": 19,
          "Year": 80
         },
         {
          "CPI": 90.9,
          "NDI": 8164.413086,
          "Pimin": 63.0,
          "Pop": 4308.0,
          "Pop16": 3160.2,
          "Price": 62.6,
          "Sales": 144.0,
          "State": 19,
          "Year": 81
         },
         {
          "CPI": 96.5,
          "NDI": 8669.4075869,
          "Pimin": 69.2,
          "Pop": 4362.0,
          "Pop16": 3200.6,
          "Price": 70.3,
          "Sales": 143.9,
          "State": 19,
          "Year": 82
         },
         {
          "CPI": 99.6,
          "NDI": 8984.2746761,
          "Pimin": 78.6,
          "Pop": 4438.0,
          "Pop16": 3256.4,
          "Price": 80.7,
          "Sales": 133.7,
          "State": 19,
          "Year": 83
         },
         {
          "CPI": 103.9,
          "NDI": 9465.1260136,
          "Pimin": 89.0,
          "Pop": 4462.0,
          "Pop16": 3274.6,
          "Price": 90.7,
          "Sales": 128.9,
          "State": 19,
          "Year": 84
         },
         {
          "CPI": 107.6,
          "NDI": 9747.8022183,
          "Pimin": 96.4,
          "Pop": 4485.0,
          "Pop16": 3294.8,
          "Price": 103.0,
          "Sales": 125.0,
          "State": 19,
          "Year": 85
         },
         {
          "CPI": 109.6,
          "NDI": 9902.72085,
          "Pimin": 103.6,
          "Pop": 4499.0,
          "Pop16": 3313.1,
          "Price": 105.1,
          "Sales": 121.2,
          "State": 19,
          "Year": 86
         },
         {
          "CPI": 113.6,
          "NDI": 10098.884053,
          "Pimin": 113.0,
          "Pop": 4461.0,
          "Pop16": 3290.0,
          "Price": 117.8,
          "Sales": 116.5,
          "State": 19,
          "Year": 87
         },
         {
          "CPI": 118.3,
          "NDI": 10793.0,
          "Pimin": 119.9,
          "Pop": 4408.0,
          "Pop16": 3250.0,
          "Price": 120.4,
          "Sales": 110.9,
          "State": 19,
          "Year": 88
         },
         {
          "CPI": 124.0,
          "NDI": 11348.0,
          "Pimin": 125.8,
          "Pop": 4382.0,
          "Pop16": 3239.0,
          "Price": 130.7,
          "Sales": 103.6,
          "State": 19,
          "Year": 89
         },
         {
          "CPI": 130.7,
          "NDI": 12764.0,
          "Pimin": 139.9,
          "Pop": 4348.0,
          "Pop16": 3213.9,
          "Price": 143.4,
          "Sales": 101.5,
          "State": 19,
          "Year": 90
         },
         {
          "CPI": 136.2,
          "NDI": 13349.0,
          "Pimin": 142.7,
          "Pop": 4381.0,
          "Pop16": 3239.6,
          "Price": 149.6,
          "Sales": 107.2,
          "State": 19,
          "Year": 91
         },
         {
          "CPI": 140.3,
          "NDI": 14163.0,
          "Pimin": 160.8,
          "Pop": 4417.0,
          "Pop16": 3274.6,
          "Price": 178.1,
          "Sales": 108.5,
          "State": 19,
          "Year": 92
         },
         {
          "CPI": 30.6,
          "NDI": 1878.7179278,
          "Pimin": 24.2,
          "Pop": 985.0,
          "Pop16": 669.7,
          "Price": 26.7,
          "Sales": 138.4,
          "State": 20,
          "Year": 63
         },
         {
          "CPI": 31.0,
          "NDI": 2042.6400586,
          "Pimin": 24.7,
          "Pop": 984.0,
          "Pop16": 668.7,
          "Price": 26.8,
          "Sales": 137.4,
          "State": 20,
          "Year": 64
         },
         {
          "CPI": 31.5,
          "NDI": 2212.948766,
          "Pimin": 24.7,
          "Pop": 986.0,
          "Pop16": 671.6,
          "Price": 27.2,
          "Sales": 139.1,
          "State": 20,
          "Year": 65
         },
         {
          "CPI": 32.4,
          "NDI": 2356.6467378,
          "Pimin": 25.9,
          "Pop": 985.0,
          "Pop16": 673.5,
          "Price": 29.6,
          "Sales": 135.1,
          "State": 20,
          "Year": 66
         },
         {
          "CPI": 33.4,
          "NDI": 2447.1232386,
          "Pimin": 26.5,
          "Pop": 982.0,
          "Pop16": 674.5,
          "Price": 30.3,
          "Sales": 136.0,
          "State": 20,
          "Year": 67
         },
         {
          "CPI": 34.8,
          "NDI": 2613.1742282,
          "Pimin": 29.9,
          "Pop": 978.0,
          "Pop16": 676.4,
          "Price": 32.0,
          "Sales": 135.6,
          "State": 20,
          "Year": 68
         },
         {
          "CPI": 36.7,
          "NDI": 2827.1245418,
          "Pimin": 29.9,
          "Pop": 978.0,
          "Pop16": 680.2,
          "Price": 33.4,
          "Sales": 135.2,
          "State": 20,
          "Year": 69
         },
         {
          "CPI": 38.8,
          "NDI": 3103.8761913,
          "Pimin": 31.4,
          "Pop": 993.0,
          "Pop16": 697.5,
          "Price": 38.0,
          "Sales": 128.5,
          "State": 20,
          "Year": 70
         },
         {
          "CPI": 40.5,
          "NDI": 3280.5714751,
          "Pimin": 34.1,
          "Pop": 1012.0,
          "Pop16": 716.7,
          "Price": 38.8,
          "Sales": 133.2,
          "State": 20,
          "Year": 71
         },
         {
          "CPI": 41.8,
          "NDI": 3507.2949418,
          "Pimin": 36.1,
          "Pop": 1028.0,
          "Pop16": 734.0,
          "Price": 41.5,
          "Sales": 136.5,
          "State": 20,
          "Year": 72
         },
         {
          "CPI": 44.4,
          "NDI": 3870.2653743,
          "Pimin": 36.9,
          "Pop": 1037.0,
          "Pop16": 747.4,
          "Price": 41.0,
          "Sales": 138.0,
          "State": 20,
          "Year": 73
         },
         {
          "CPI": 49.3,
          "NDI": 4234.3002362,
          "Pimin": 37.9,
          "Pop": 1048.0,
          "Pop16": 760.8,
          "Price": 41.8,
          "Sales": 142.1,
          "State": 20,
          "Year": 74
         },
         {
          "CPI": 53.8,
          "NDI": 4492.9565855,
          "Pimin": 40.8,
          "Pop": 1058.0,
          "Pop16": 776.2,
          "Price": 46.7,
          "Sales": 140.7,
          "State": 20,
          "Year": 75
         },
         {
          "CPI": 56.9,
          "NDI": 5028.3645842,
          "Pimin": 43.9,
          "Pop": 1072.0,
          "Pop16": 792.5,
          "Price": 49.9,
          "Sales": 144.9,
          "State": 20,
          "Year": 76
         },
         {
          "CPI": 60.6,
          "NDI": 5440.2987701,
          "Pimin": 45.0,
          "Pop": 1084.0,
          "Pop16": 808.8,
          "Price": 50.9,
          "Sales": 145.6,
          "State": 20,
          "Year": 77
         },
         {
          "CPI": 65.2,
          "NDI": 5882.0369797,
          "Pimin": 49.7,
          "Pop": 1092.0,
          "Pop16": 819.3,
          "Price": 55.0,
          "Sales": 143.9,
          "State": 20,
          "Year": 78
         },
         {
          "CPI": 72.6,
          "NDI": 6445.1201434,
          "Pimin": 53.2,
          "Pop": 1097.0,
          "Pop16": 828.9,
          "Price": 54.5,
          "Sales": 138.5,
          "State": 20,
          "Year": 79
         },
         {
          "CPI": 82.4,
          "NDI": 7097.6153783,
          "Pimin": 55.3,
          "Pop": 1125.0,
          "Pop16": 851.0,
          "Price": 59.0,
          "Sales": 141.2,
          "State": 20,
          "Year": 80
         },
         {
          "CPI": 90.9,
          "NDI": 7850.1669789,
          "Pimin": 58.4,
          "Pop": 1133.0,
          "Pop16": 862.5,
          "Price": 62.9,
          "Sales": 138.9,
          "State": 20,
          "Year": 81
         },
         {
          "CPI": 96.5,
          "NDI": 8341.9333713,
          "Pimin": 67.0,
          "Pop": 1133.0,
          "Pop16": 864.4,
          "Price": 69.7,
          "Sales": 139.5,
          "State": 20,
          "Year": 82
         },
         {
          "CPI": 99.6,
          "NDI": 8962.4957237,
          "Pimin": 74.7,
          "Pop": 1146.0,
          "Pop16": 877.9,
          "Price": 80.8,
          "Sales": 135.4,
          "State": 20,
          "Year": 83
         },
         {
          "CPI": 103.9,
          "NDI": 9851.2942901,
          "Pimin": 90.5,
          "Pop": 1156.0,
          "Pop16": 890.3,
          "Price": 93.7,
          "Sales": 135.5,
          "State": 20,
          "Year": 84
         },
         {
          "CPI": 107.6,
          "NDI": 10501.660666,
          "Pimin": 89.2,
          "Pop": 1165.0,
          "Pop16": 899.9,
          "Price": 98.1,
          "Sales": 127.9,
          "State": 20,
          "Year": 85
         },
         {
          "CPI": 109.6,
          "NDI": 11146.704895,
          "Pimin": 100.0,
          "Pop": 1172.0,
          "Pop16": 908.6,
          "Price": 112.7,
          "Sales": 119.0,
          "State": 20,
          "Year": 86
         },
         {
          "CPI": 113.6,
          "NDI": 12056.79205,
          "Pimin": 102.0,
          "Pop": 1187.0,
          "Pop16": 922.0,
          "Price": 121.2,
          "Sales": 125.0,
          "State": 20,
          "Year": 87
         },
         {
          "CPI": 118.3,
          "NDI": 13068.0,
          "Pimin": 113.5,
          "Pop": 1205.0,
          "Pop16": 940.0,
          "Price": 129.0,
          "Sales": 125.0,
          "State": 20,
          "Year": 88
         },
         {
          "CPI": 124.0,
          "NDI": 14110.0,
          "Pimin": 125.9,
          "Pop": 1222.0,
          "Pop16": 953.0,
          "Price": 144.4,
          "Sales": 122.4,
          "State": 20,
          "Year": 89
         },
         {
          "CPI": 130.7,
          "NDI": 14975.0,
          "Pimin": 135.9,
          "Pop": 1230.0,
          "Pop16": 959.2,
          "Price": 160.1,
          "Sales": 117.5,
          "State": 20,
          "Year": 90
         },
         {
          "CPI": 136.2,
          "NDI": 15093.0,
          "Pimin": 153.9,
          "Pop": 1237.0,
          "Pop16": 963.3,
          "Price": 158.9,
          "Sales": 116.1,
          "State": 20,
          "Year": 91
         },
         {
          "CPI": 140.3,
          "NDI": 16298.0,
          "Pimin": 164.4,
          "Pop": 1237.0,
          "Pop16": 968.3,
          "Price": 187.7,
          "Sales": 114.7,
          "State": 20,
          "Year": 92
         },
         {
          "CPI": 30.6,
          "NDI": 2312.3069668,
          "Pimin": 23.4,
          "Pop": 3351.0,
          "Pop16": 2238.0,
          "Price": 28.2,
          "Sales": 122.7,
          "State": 21,
          "Year": 63
         },
         {
          "CPI": 31.0,
          "NDI": 2483.3969442,
          "Pimin": 23.9,
          "Pop": 3442.0,
          "Pop16": 2299.3,
          "Price": 28.5,
          "Sales": 122.2,
          "State": 21,
          "Year": 64
         },
         {
          "CPI": 31.5,
          "NDI": 2629.6011066,
          "Pimin": 24.1,
          "Pop": 3534.0,
          "Pop16": 2365.4,
          "Price": 27.9,
          "Sales": 121.0,
          "State": 21,
          "Year": 65
         },
         {
          "CPI": 32.4,
          "NDI": 2780.9898139,
          "Pimin": 24.1,
          "Pop": 3608.0,
          "Pop16": 2425.8,
          "Price": 28.2,
          "Sales": 121.0,
          "State": 21,
          "Year": 66
         },
         {
          "CPI": 33.4,
          "NDI": 2967.6334256,
          "Pimin": 26.3,
          "Pop": 3680.0,
          "Pop16": 2485.2,
          "Price": 29.4,
          "Sales": 121.7,
          "State": 21,
          "Year": 67
         },
         {
          "CPI": 34.8,
          "NDI": 3140.7972208,
          "Pimin": 26.7,
          "Pop": 3716.0,
          "Pop16": 2523.6,
          "Price": 30.9,
          "Sales": 121.7,
          "State": 21,
          "Year": 68
         },
         {
          "CPI": 36.7,
          "NDI": 3384.4708249,
          "Pimin": 27.2,
          "Pop": 3765.0,
          "Pop16": 2563.8,
          "Price": 30.7,
          "Sales": 122.3,
          "State": 21,
          "Year": 69
         },
         {
          "CPI": 38.8,
          "NDI": 3702.8018737,
          "Pimin": 28.5,
          "Pop": 3922.0,
          "Pop16": 2723.9,
          "Price": 32.6,
          "Sales": 123.5,
          "State": 21,
          "Year": 70
         },
         {
          "CPI": 40.5,
          "NDI": 3968.2505659,
          "Pimin": 30.2,
          "Pop": 4011.0,
          "Pop16": 2816.9,
          "Price": 34.2,
          "Sales": 126.7,
          "State": 21,
          "Year": 71
         },
         {
          "CPI": 41.8,
          "NDI": 4212.961079,
          "Pimin": 29.9,
          "Pop": 4062.0,
          "Pop16": 2884.0,
          "Price": 34.3,
          "Sales": 133.2,
          "State": 21,
          "Year": 72
         },
         {
          "CPI": 44.4,
          "NDI": 4684.7546529,
          "Pimin": 30.1,
          "Pop": 4082.0,
          "Pop16": 2933.8,
          "Price": 35.3,
          "Sales": 137.3,
          "State": 21,
          "Year": 73
         },
         {
          "CPI": 49.3,
          "NDI": 5073.5955106,
          "Pimin": 31.3,
          "Pop": 4099.0,
          "Pop16": 2980.8,
          "Price": 35.8,
          "Sales": 144.8,
          "State": 21,
          "Year": 74
         },
         {
          "CPI": 53.8,
          "NDI": 5543.3152666,
          "Pimin": 33.6,
          "Pop": 4115.0,
          "Pop16": 3028.7,
          "Price": 39.5,
          "Sales": 146.1,
          "State": 21,
          "Year": 75
         },
         {
          "CPI": 56.9,
          "NDI": 6029.6255659,
          "Pimin": 37.9,
          "Pop": 4123.0,
          "Pop16": 3071.8,
          "Price": 46.1,
          "Sales": 137.1,
          "State": 21,
          "Year": 76
         },
         {
          "CPI": 60.6,
          "NDI": 6435.0569668,
          "Pimin": 38.4,
          "Pop": 4138.0,
          "Pop16": 3114.9,
          "Price": 49.2,
          "Sales": 135.7,
          "State": 21,
          "Year": 77
         },
         {
          "CPI": 65.2,
          "NDI": 7184.7421403,
          "Pimin": 42.8,
          "Pop": 4148.0,
          "Pop16": 3153.3,
          "Price": 52.1,
          "Sales": 134.1,
          "State": 21,
          "Year": 78
         },
         {
          "CPI": 72.6,
          "NDI": 7917.8367706,
          "Pimin": 45.8,
          "Pop": 4148.0,
          "Pop16": 3181.1,
          "Price": 56.2,
          "Sales": 131.9,
          "State": 21,
          "Year": 79
         },
         {
          "CPI": 82.4,
          "NDI": 8888.3835513,
          "Pimin": 48.5,
          "Pop": 4216.0,
          "Pop16": 3230.9,
          "Price": 58.1,
          "Sales": 131.5,
          "State": 21,
          "Year": 80
         },
         {
          "CPI": 90.9,
          "NDI": 9726.2059859,
          "Pimin": 51.8,
          "Pop": 4263.0,
          "Pop16": 3287.5,
          "Price": 62.8,
          "Sales": 137.1,
          "State": 21,
          "Year": 81
         },
         {
          "CPI": 96.5,
          "NDI": 10426.11953,
          "Pimin": 56.4,
          "Pop": 4265.0,
          "Pop16": 3302.8,
          "Price": 65.4,
          "Sales": 131.3,
          "State": 21,
          "Year": 82
         },
         {
          "CPI": 99.6,
          "NDI": 11464.065392,
          "Pimin": 68.8,
          "Pop": 4304.0,
          "Pop16": 3346.9,
          "Price": 74.9,
          "Sales": 128.2,
          "State": 21,
          "Year": 83
         },
         {
          "CPI": 103.9,
          "NDI": 12555.930521,
          "Pimin": 76.0,
          "Pop": 4349.0,
          "Pop16": 3391.9,
          "Price": 84.2,
          "Sales": 122.5,
          "State": 21,
          "Year": 84
         },
         {
          "CPI": 107.6,
          "NDI": 13494.333124,
          "Pimin": 83.6,
          "Pop": 4391.0,
          "Pop16": 3434.1,
          "Price": 90.1,
          "Sales": 121.9,
          "State": 21,
          "Year": 85
         },
         {
          "CPI": 109.6,
          "NDI": 14247.129024,
          "Pimin": 91.3,
          "Pop": 4461.0,
          "Pop16": 3496.4,
          "Price": 93.3,
          "Sales": 121.8,
          "State": 21,
          "Year": 86
         },
         {
          "CPI": 113.6,
          "NDI": 15111.911092,
          "Pimin": 94.6,
          "Pop": 4535.0,
          "Pop16": 3552.0,
          "Price": 100.3,
          "Sales": 119.3,
          "State": 21,
          "Year": 87
         },
         {
          "CPI": 118.3,
          "NDI": 16491.0,
          "Pimin": 102.1,
          "Pop": 4622.0,
          "Pop16": 3612.0,
          "Price": 109.2,
          "Sales": 115.0,
          "State": 21,
          "Year": 88
         },
         {
          "CPI": 124.0,
          "NDI": 17489.0,
          "Pimin": 109.4,
          "Pop": 4694.0,
          "Pop16": 3658.0,
          "Price": 120.2,
          "Sales": 109.0,
          "State": 21,
          "Year": 89
         },
         {
          "CPI": 130.7,
          "NDI": 18172.0,
          "Pimin": 128.6,
          "Pop": 4747.6,
          "Pop16": 3699.8,
          "Price": 131.5,
          "Sales": 102.8,
          "State": 21,
          "Year": 90
         },
         {
          "CPI": 136.2,
          "NDI": 18477.0,
          "Pimin": 136.5,
          "Pop": 4826.1,
          "Pop16": 3737.4,
          "Price": 141.6,
          "Sales": 97.6,
          "State": 21,
          "Year": 91
         },
         {
          "CPI": 140.3,
          "NDI": 19746.0,
          "Pimin": 157.9,
          "Pop": 4871.8,
          "Pop16": 3760.2,
          "Price": 159.1,
          "Sales": 91.7,
          "State": 21,
          "Year": 92
         },
         {
          "CPI": 30.6,
          "NDI": 2498.0022941,
          "Pimin": 24.2,
          "Pop": 5252.0,
          "Pop16": 3669.4,
          "Price": 28.0,
          "Sales": 142.2,
          "State": 22,
          "Year": 63
         },
         {
          "CPI": 31.0,
          "NDI": 2653.9271915,
          "Pimin": 24.7,
          "Pop": 5287.0,
          "Pop16": 3686.8,
          "Price": 28.4,
          "Sales": 138.7,
          "State": 22,
          "Year": 64
         },
         {
          "CPI": 31.5,
          "NDI": 2802.3762376,
          "Pimin": 24.7,
          "Pop": 5361.0,
          "Pop16": 3740.8,
          "Price": 28.4,
          "Sales": 136.5,
          "State": 22,
          "Year": 65
         },
         {
          "CPI": 32.4,
          "NDI": 2983.932625,
          "Pimin": 25.9,
          "Pop": 5403.0,
          "Pop16": 3779.3,
          "Price": 31.0,
          "Sales": 131.6,
          "State": 22,
          "Year": 66
         },
         {
          "CPI": 33.4,
          "NDI": 3187.916566,
          "Pimin": 26.5,
          "Pop": 5434.0,
          "Pop16": 3812.1,
          "Price": 33.6,
          "Sales": 130.2,
          "State": 22,
          "Year": 67
         },
         {
          "CPI": 34.8,
          "NDI": 3401.5123159,
          "Pimin": 29.9,
          "Pop": 5438.0,
          "Pop16": 3839.1,
          "Price": 35.1,
          "Sales": 128.0,
          "State": 22,
          "Year": 68
         },
         {
          "CPI": 36.7,
          "NDI": 3626.8558319,
          "Pimin": 29.9,
          "Pop": 5467.0,
          "Pop16": 3914.3,
          "Price": 35.0,
          "Sales": 129.7,
          "State": 22,
          "Year": 69
         },
         {
          "CPI": 38.8,
          "NDI": 3931.2297754,
          "Pimin": 31.4,
          "Pop": 5689.0,
          "Pop16": 4076.2,
          "Price": 39.6,
          "Sales": 124.3,
          "State": 22,
          "Year": 70
         },
         {
          "CPI": 40.5,
          "NDI": 4199.2924414,
          "Pimin": 34.1,
          "Pop": 5741.0,
          "Pop16": 4151.4,
          "Price": 41.0,
          "Sales": 121.4,
          "State": 22,
          "Year": 71
         },
         {
          "CPI": 41.8,
          "NDI": 4442.7915962,
          "Pimin": 36.1,
          "Pop": 5767.0,
          "Pop16": 4211.1,
          "Price": 46.0,
          "Sales": 117.9,
          "State": 22,
          "Year": 72
         },
         {
          "CPI": 44.4,
          "NDI": 4861.4392659,
          "Pimin": 36.9,
          "Pop": 5793.0,
          "Pop16": 4274.8,
          "Price": 46.0,
          "Sales": 121.2,
          "State": 22,
          "Year": 73
         },
         {
          "CPI": 49.3,
          "NDI": 5272.6110843,
          "Pimin": 37.9,
          "Pop": 5789.0,
          "Pop16": 4313.3,
          "Price": 46.3,
          "Sales": 124.3,
          "State": 22,
          "Year": 74
         },
         {
          "CPI": 53.8,
          "NDI": 5721.1621589,
          "Pimin": 40.8,
          "Pop": 5778.0,
          "Pop16": 4350.9,
          "Price": 49.4,
          "Sales": 126.1,
          "State": 22,
          "Year": 75
         },
         {
          "CPI": 56.9,
          "NDI": 6115.2463173,
          "Pimin": 43.9,
          "Pop": 5769.0,
          "Pop16": 4389.5,
          "Price": 57.4,
          "Sales": 116.9,
          "State": 22,
          "Year": 76
         },
         {
          "CPI": 60.6,
          "NDI": 6611.8564356,
          "Pimin": 45.0,
          "Pop": 5768.0,
          "Pop16": 4432.8,
          "Price": 57.3,
          "Sales": 118.9,
          "State": 22,
          "Year": 77
         },
         {
          "CPI": 65.2,
          "NDI": 7274.0032601,
          "Pimin": 49.7,
          "Pop": 5771.0,
          "Pop16": 4477.2,
          "Price": 61.8,
          "Sales": 120.5,
          "State": 22,
          "Year": 78
         },
         {
          "CPI": 72.6,
          "NDI": 8027.9962569,
          "Pimin": 53.2,
          "Pop": 5769.0,
          "Pop16": 4513.8,
          "Price": 64.5,
          "Sales": 118.2,
          "State": 22,
          "Year": 79
         },
         {
          "CPI": 82.4,
          "NDI": 8940.0501087,
          "Pimin": 55.3,
          "Pop": 5737.0,
          "Pop16": 4493.6,
          "Price": 68.2,
          "Sales": 120.5,
          "State": 22,
          "Year": 80
         },
         {
          "CPI": 90.9,
          "NDI": 9837.1522579,
          "Pimin": 58.4,
          "Pop": 5773.0,
          "Pop16": 4552.3,
          "Price": 70.8,
          "Sales": 123.2,
          "State": 22,
          "Year": 81
         },
         {
          "CPI": 96.5,
          "NDI": 10820.760686,
          "Pimin": 66.8,
          "Pop": 5781.0,
          "Pop16": 4577.4,
          "Price": 78.1,
          "Sales": 122.3,
          "State": 22,
          "Year": 82
         },
         {
          "CPI": 99.6,
          "NDI": 11715.726878,
          "Pimin": 74.7,
          "Pop": 5767.0,
          "Pop16": 4585.1,
          "Price": 88.7,
          "Sales": 119.8,
          "State": 22,
          "Year": 83
         },
         {
          "CPI": 103.9,
          "NDI": 13018.660951,
          "Pimin": 90.5,
          "Pop": 5798.0,
          "Pop16": 4627.5,
          "Price": 101.4,
          "Sales": 116.0,
          "State": 22,
          "Year": 84
         },
         {
          "CPI": 107.6,
          "NDI": 13860.228206,
          "Pimin": 89.2,
          "Pop": 5823.0,
          "Pop16": 4663.2,
          "Price": 108.3,
          "Sales": 117.2,
          "State": 22,
          "Year": 85
         },
         {
          "CPI": 109.6,
          "NDI": 14869.468124,
          "Pimin": 100.0,
          "Pop": 5834.0,
          "Pop16": 4679.6,
          "Price": 115.0,
          "Sales": 115.8,
          "State": 22,
          "Year": 86
         },
         {
          "CPI": 113.6,
          "NDI": 16086.963898,
          "Pimin": 102.0,
          "Pop": 5855.0,
          "Pop16": 4695.0,
          "Price": 120.4,
          "Sales": 113.8,
          "State": 22,
          "Year": 87
         },
         {
          "CPI": 118.3,
          "NDI": 17690.0,
          "Pimin": 113.5,
          "Pop": 5889.0,
          "Pop16": 4722.0,
          "Price": 131.6,
          "Sales": 111.7,
          "State": 22,
          "Year": 88
         },
         {
          "CPI": 124.0,
          "NDI": 18636.0,
          "Pimin": 125.9,
          "Pop": 5913.0,
          "Pop16": 4726.0,
          "Price": 148.6,
          "Sales": 104.4,
          "State": 22,
          "Year": 89
         },
         {
          "CPI": 130.7,
          "NDI": 19051.0,
          "Pimin": 135.9,
          "Pop": 5913.0,
          "Pop16": 4726.0,
          "Price": 152.4,
          "Sales": 99.4,
          "State": 22,
          "Year": 90
         },
         {
          "CPI": 136.2,
          "NDI": 19385.0,
          "Pimin": 150.1,
          "Pop": 5893.3,
          "Pop16": 4678.8,
          "Price": 163.3,
          "Sales": 93.5,
          "State": 22,
          "Year": 91
         },
         {
          "CPI": 140.3,
          "NDI": 20822.0,
          "Pimin": 164.4,
          "Pop": 5895.3,
          "Pop16": 4668.0,
          "Price": 175.9,
          "Sales": 90.5,
          "State": 22,
          "Year": 92
         },
         {
          "CPI": 30.6,
          "NDI": 2251.0006434,
          "Pimin": 24.4,
          "Pop": 8036.0,
          "Pop16": 5265.5,
          "Price": 28.8,
          "Sales": 126.7,
          "State": 23,
          "Year": 63
         },
         {
          "CPI": 31.0,
          "NDI": 2462.5308457,
          "Pimin": 26.0,
          "Pop": 8161.0,
          "Pop16": 5362.8,
          "Price": 29.3,
          "Sales": 125.0,
          "State": 23,
          "Year": 64
         },
         {
          "CPI": 31.5,
          "NDI": 2675.0588319,
          "Pimin": 26.0,
          "Pop": 8317.0,
          "Pop16": 5494.4,
          "Price": 28.7,
          "Sales": 131.8,
          "State": 23,
          "Year": 65
         },
         {
          "CPI": 32.4,
          "NDI": 2845.6798913,
          "Pimin": 26.3,
          "Pop": 8496.0,
          "Pop16": 5646.1,
          "Price": 29.2,
          "Sales": 134.5,
          "State": 23,
          "Year": 66
         },
         {
          "CPI": 33.4,
          "NDI": 2906.5447137,
          "Pimin": 27.0,
          "Pop": 8608.0,
          "Pop16": 5758.7,
          "Price": 30.0,
          "Sales": 134.4,
          "State": 23,
          "Year": 67
         },
         {
          "CPI": 34.8,
          "NDI": 3126.0571878,
          "Pimin": 29.8,
          "Pop": 8673.0,
          "Pop16": 5849.3,
          "Price": 32.0,
          "Sales": 134.2,
          "State": 23,
          "Year": 68
         },
         {
          "CPI": 36.7,
          "NDI": 3303.662735,
          "Pimin": 29.7,
          "Pop": 8766.0,
          "Pop16": 5892.2,
          "Price": 31.9,
          "Sales": 133.4,
          "State": 23,
          "Year": 69
         },
         {
          "CPI": 38.8,
          "NDI": 3415.41454,
          "Pimin": 30.6,
          "Pop": 8875.0,
          "Pop16": 6064.9,
          "Price": 33.7,
          "Sales": 128.6,
          "State": 23,
          "Year": 70
         },
         {
          "CPI": 40.5,
          "NDI": 3710.758596,
          "Pimin": 32.2,
          "Pop": 8965.0,
          "Pop16": 6198.4,
          "Price": 39.2,
          "Sales": 126.1,
          "State": 23,
          "Year": 71
         },
         {
          "CPI": 41.8,
          "NDI": 4008.09822,
          "Pimin": 32.5,
          "Pop": 9015.0,
          "Pop16": 6301.4,
          "Price": 40.0,
          "Sales": 131.4,
          "State": 23,
          "Year": 72
         },
         {
          "CPI": 44.4,
          "NDI": 4496.0145829,
          "Pimin": 32.9,
          "Pop": 9060.0,
          "Pop16": 6398.7,
          "Price": 40.2,
          "Sales": 133.7,
          "State": 23,
          "Year": 73
         },
         {
          "CPI": 49.3,
          "NDI": 4812.3121024,
          "Pimin": 34.5,
          "Pop": 9096.0,
          "Pop16": 6488.4,
          "Price": 41.1,
          "Sales": 138.8,
          "State": 23,
          "Year": 74
         },
         {
          "CPI": 53.8,
          "NDI": 5141.5808135,
          "Pimin": 36.7,
          "Pop": 9092.0,
          "Pop16": 6553.3,
          "Price": 44.4,
          "Sales": 136.8,
          "State": 23,
          "Year": 75
         },
         {
          "CPI": 56.9,
          "NDI": 5686.3708628,
          "Pimin": 38.7,
          "Pop": 9100.0,
          "Pop16": 6621.9,
          "Price": 47.9,
          "Sales": 138.0,
          "State": 23,
          "Year": 76
         },
         {
          "CPI": 60.6,
          "NDI": 6325.9503896,
          "Pimin": 40.6,
          "Pop": 9138.0,
          "Pop16": 6704.9,
          "Price": 48.3,
          "Sales": 140.3,
          "State": 23,
          "Year": 77
         },
         {
          "CPI": 65.2,
          "NDI": 7044.3548502,
          "Pimin": 50.0,
          "Pop": 9181.0,
          "Pop16": 6787.9,
          "Price": 54.0,
          "Sales": 141.8,
          "State": 23,
          "Year": 78
         },
         {
          "CPI": 72.6,
          "NDI": 7732.8257917,
          "Pimin": 52.5,
          "Pop": 9207.0,
          "Pop16": 6849.0,
          "Price": 57.2,
          "Sales": 140.9,
          "State": 23,
          "Year": 79
         },
         {
          "CPI": 82.4,
          "NDI": 8329.5006076,
          "Pimin": 53.7,
          "Pop": 9262.0,
          "Pop16": 6880.4,
          "Price": 60.3,
          "Sales": 140.7,
          "State": 23,
          "Year": 80
         },
         {
          "CPI": 90.9,
          "NDI": 9004.0025735,
          "Pimin": 58.3,
          "Pop": 9204.0,
          "Pop16": 6871.9,
          "Price": 61.8,
          "Sales": 139.5,
          "State": 23,
          "Year": 81
         },
         {
          "CPI": 96.5,
          "NDI": 9337.2624205,
          "Pimin": 65.1,
          "Pop": 9109.0,
          "Pop16": 6828.0,
          "Price": 68.0,
          "Sales": 137.3,
          "State": 23,
          "Year": 82
         },
         {
          "CPI": 99.6,
          "NDI": 10002.784331,
          "Pimin": 75.7,
          "Pop": 9069.0,
          "Pop16": 6828.0,
          "Price": 87.7,
          "Sales": 128.3,
          "State": 23,
          "Year": 83
         },
         {
          "CPI": 103.9,
          "NDI": 11039.481879,
          "Pimin": 85.2,
          "Pop": 9075.0,
          "Pop16": 6864.2,
          "Price": 97.0,
          "Sales": 128.2,
          "State": 23,
          "Year": 84
         },
         {
          "CPI": 107.6,
          "NDI": 11760.879691,
          "Pimin": 88.8,
          "Pop": 9085.0,
          "Pop16": 6913.8,
          "Price": 101.4,
          "Sales": 126.6,
          "State": 23,
          "Year": 85
         },
         {
          "CPI": 109.6,
          "NDI": 12501.235399,
          "Pimin": 93.6,
          "Pop": 9139.0,
          "Pop16": 6992.0,
          "Price": 106.0,
          "Sales": 126.5,
          "State": 23,
          "Year": 86
         },
         {
          "CPI": 113.6,
          "NDI": 13064.983344,
          "Pimin": 100.1,
          "Pop": 9200.0,
          "Pop16": 7055.0,
          "Price": 111.4,
          "Sales": 122.1,
          "State": 23,
          "Year": 87
         },
         {
          "CPI": 118.3,
          "NDI": 13957.002216,
          "Pimin": 108.4,
          "Pop": 9240.0,
          "Pop16": 7090.0,
          "Price": 122.2,
          "Sales": 121.1,
          "State": 23,
          "Year": 88
         },
         {
          "CPI": 124.0,
          "NDI": 14757.0,
          "Pimin": 119.0,
          "Pop": 9273.0,
          "Pop16": 7108.0,
          "Price": 133.0,
          "Sales": 116.6,
          "State": 23,
          "Year": 89
         },
         {
          "CPI": 130.7,
          "NDI": 15560.0,
          "Pimin": 130.8,
          "Pop": 9315.1,
          "Pop16": 7140.3,
          "Price": 143.9,
          "Sales": 114.4,
          "State": 23,
          "Year": 90
         },
         {
          "CPI": 136.2,
          "NDI": 15938.0,
          "Pimin": 135.8,
          "Pop": 9388.2,
          "Pop16": 7183.5,
          "Price": 144.9,
          "Sales": 110.3,
          "State": 23,
          "Year": 91
         },
         {
          "CPI": 140.3,
          "NDI": 17154.0,
          "Pimin": 153.5,
          "Pop": 9457.4,
          "Pop16": 7226.7,
          "Price": 176.7,
          "Sales": 107.6,
          "State": 23,
          "Year": 92
         },
         {
          "CPI": 30.6,
          "NDI": 2067.2509051,
          "Pimin": 26.4,
          "Pop": 3507.0,
          "Pop16": 2314.2,
          "Price": 28.7,
          "Sales": 112.6,
          "State": 24,
          "Year": 63
         },
         {
          "CPI": 31.0,
          "NDI": 2157.0879797,
          "Pimin": 27.9,
          "Pop": 3529.0,
          "Pop16": 2333.4,
          "Price": 30.1,
          "Sales": 104.7,
          "State": 24,
          "Year": 64
         },
         {
          "CPI": 31.5,
          "NDI": 2360.7186821,
          "Pimin": 28.1,
          "Pop": 3562.0,
          "Pop16": 2367.9,
          "Price": 30.2,
          "Sales": 109.2,
          "State": 24,
          "Year": 65
         },
         {
          "CPI": 32.4,
          "NDI": 2527.416365,
          "Pimin": 30.2,
          "Pop": 3585.0,
          "Pop16": 2398.6,
          "Price": 30.3,
          "Sales": 110.7,
          "State": 24,
          "Year": 66
         },
         {
          "CPI": 33.4,
          "NDI": 2669.1593049,
          "Pimin": 30.5,
          "Pop": 3625.0,
          "Pop16": 2444.7,
          "Price": 30.9,
          "Sales": 114.4,
          "State": 24,
          "Year": 67
         },
         {
          "CPI": 34.8,
          "NDI": 2876.7827661,
          "Pimin": 32.3,
          "Pop": 3663.0,
          "Pop16": 2493.6,
          "Price": 32.7,
          "Sales": 113.7,
          "State": 24,
          "Year": 68
         },
         {
          "CPI": 36.7,
          "NDI": 3071.429761,
          "Pimin": 32.3,
          "Pop": 3700.0,
          "Pop16": 2516.7,
          "Price": 32.8,
          "Sales": 112.3,
          "State": 24,
          "Year": 69
         },
         {
          "CPI": 38.8,
          "NDI": 3331.9572773,
          "Pimin": 37.3,
          "Pop": 3805.0,
          "Pop16": 2624.1,
          "Price": 39.1,
          "Sales": 104.3,
          "State": 24,
          "Year": 70
         },
         {
          "CPI": 40.5,
          "NDI": 3524.6078928,
          "Pimin": 38.5,
          "Pop": 3853.0,
          "Pop16": 2690.3,
          "Price": 40.1,
          "Sales": 116.4,
          "State": 24,
          "Year": 71
         },
         {
          "CPI": 41.8,
          "NDI": 3757.186097,
          "Pimin": 38.9,
          "Pop": 3870.0,
          "Pop16": 2734.5,
          "Price": 45.2,
          "Sales": 96.8,
          "State": 24,
          "Year": 72
         },
         {
          "CPI": 44.4,
          "NDI": 4514.8120927,
          "Pimin": 39.4,
          "Pop": 3891.0,
          "Pop16": 2783.4,
          "Price": 45.6,
          "Sales": 106.8,
          "State": 24,
          "Year": 73
         },
         {
          "CPI": 49.3,
          "NDI": 4644.576756,
          "Pimin": 39.9,
          "Pop": 3907.0,
          "Pop16": 2829.4,
          "Price": 47.0,
          "Sales": 110.6,
          "State": 24,
          "Year": 74
         },
         {
          "CPI": 53.8,
          "NDI": 4962.9992759,
          "Pimin": 42.6,
          "Pop": 3937.0,
          "Pop16": 2885.1,
          "Price": 49.4,
          "Sales": 111.5,
          "State": 24,
          "Year": 75
         },
         {
          "CPI": 56.9,
          "NDI": 5312.365677,
          "Pimin": 45.0,
          "Pop": 3970.0,
          "Pop16": 2941.7,
          "Price": 52.1,
          "Sales": 116.7,
          "State": 24,
          "Year": 76
         },
         {
          "CPI": 60.6,
          "NDI": 6025.0731354,
          "Pimin": 46.4,
          "Pop": 3996.0,
          "Pop16": 2989.7,
          "Price": 53.1,
          "Sales": 117.2,
          "State": 24,
          "Year": 77
         },
         {
          "CPI": 65.2,
          "NDI": 6668.9055033,
          "Pimin": 53.2,
          "Pop": 4024.0,
          "Pop16": 3033.8,
          "Price": 57.9,
          "Sales": 118.9,
          "State": 24,
          "Year": 78
         },
         {
          "CPI": 72.6,
          "NDI": 7378.6183925,
          "Pimin": 54.1,
          "Pop": 4060.0,
          "Pop16": 3078.9,
          "Price": 60.9,
          "Sales": 118.3,
          "State": 24,
          "Year": 79
         },
         {
          "CPI": 82.4,
          "NDI": 8054.3928313,
          "Pimin": 58.8,
          "Pop": 4077.0,
          "Pop16": 3079.9,
          "Price": 63.0,
          "Sales": 117.7,
          "State": 24,
          "Year": 80
         },
         {
          "CPI": 90.9,
          "NDI": 8895.8667632,
          "Pimin": 61.4,
          "Pop": 4094.0,
          "Pop16": 3101.9,
          "Price": 65.8,
          "Sales": 120.8,
          "State": 24,
          "Year": 81
         },
         {
          "CPI": 96.5,
          "NDI": 9376.9942071,
          "Pimin": 67.8,
          "Pop": 4133.0,
          "Pop16": 3130.7,
          "Price": 71.7,
          "Sales": 119.4,
          "State": 24,
          "Year": 82
         },
         {
          "CPI": 99.6,
          "NDI": 9884.0745836,
          "Pimin": 77.9,
          "Pop": 4144.0,
          "Pop16": 3143.2,
          "Price": 87.3,
          "Sales": 113.2,
          "State": 24,
          "Year": 83
         },
         {
          "CPI": 103.9,
          "NDI": 11105.858798,
          "Pimin": 89.8,
          "Pop": 4162.0,
          "Pop16": 3166.2,
          "Price": 99.2,
          "Sales": 110.8,
          "State": 24,
          "Year": 84
         },
         {
          "CPI": 107.6,
          "NDI": 11676.823316,
          "Pimin": 92.3,
          "Pop": 4190.0,
          "Pop16": 3196.9,
          "Price": 101.5,
          "Sales": 113.0,
          "State": 24,
          "Year": 85
         },
         {
          "CPI": 109.6,
          "NDI": 12407.49819,
          "Pimin": 104.2,
          "Pop": 4213.0,
          "Pop16": 3224.7,
          "Price": 116.3,
          "Sales": 104.3,
          "State": 24,
          "Year": 86
         },
         {
          "CPI": 113.6,
          "NDI": 12961.493483,
          "Pimin": 110.3,
          "Pop": 4246.0,
          "Pop16": 3266.0,
          "Price": 120.1,
          "Sales": 108.8,
          "State": 24,
          "Year": 87
         },
         {
          "CPI": 118.3,
          "NDI": 13785.0,
          "Pimin": 123.3,
          "Pop": 4307.0,
          "Pop16": 3312.0,
          "Price": 141.7,
          "Sales": 94.1,
          "State": 24,
          "Year": 88
         },
         {
          "CPI": 124.0,
          "NDI": 14771.0,
          "Pimin": 130.1,
          "Pop": 4353.0,
          "Pop16": 3339.0,
          "Price": 152.5,
          "Sales": 92.3,
          "State": 24,
          "Year": 89
         },
         {
          "CPI": 130.7,
          "NDI": 15553.0,
          "Pimin": 138.9,
          "Pop": 4390.1,
          "Pop16": 3367.5,
          "Price": 162.3,
          "Sales": 90.7,
          "State": 24,
          "Year": 90
         },
         {
          "CPI": 136.2,
          "NDI": 15869.0,
          "Pimin": 150.3,
          "Pop": 4447.3,
          "Pop16": 3406.0,
          "Price": 173.9,
          "Sales": 86.2,
          "State": 24,
          "Year": 91
         },
         {
          "CPI": 140.3,
          "NDI": 17255.0,
          "Pimin": 160.0,
          "Pop": 4495.5,
          "Pop16": 3440.5,
          "Price": 197.7,
          "Sales": 83.8,
          "State": 24,
          "Year": 92
         },
         {
          "CPI": 30.6,
          "NDI": 1322.5729775,
          "Pimin": 26.1,
          "Pop": 2291.0,
          "Pop16": 1460.9,
          "Price": 30.5,
          "Sales": 83.9,
          "State": 25,
          "Year": 63
         },
         {
          "CPI": 31.0,
          "NDI": 1383.3694746,
          "Pimin": 27.3,
          "Pop": 2304.0,
          "Pop16": 1472.4,
          "Price": 30.4,
          "Sales": 86.1,
          "State": 25,
          "Year": 64
         },
         {
          "CPI": 31.5,
          "NDI": 1496.9891576,
          "Pimin": 27.2,
          "Pop": 2309.0,
          "Pop16": 1483.8,
          "Price": 31.4,
          "Sales": 83.5,
          "State": 25,
          "Year": 65
         },
         {
          "CPI": 32.4,
          "NDI": 1616.588824,
          "Pimin": 29.5,
          "Pop": 2339.0,
          "Pop16": 1516.1,
          "Price": 31.8,
          "Sales": 86.9,
          "State": 25,
          "Year": 66
         },
         {
          "CPI": 33.4,
          "NDI": 1760.1084237,
          "Pimin": 29.6,
          "Pop": 2344.0,
          "Pop16": 1530.4,
          "Price": 31.6,
          "Sales": 88.1,
          "State": 25,
          "Year": 67
         },
         {
          "CPI": 34.8,
          "NDI": 1919.5746455,
          "Pimin": 30.9,
          "Pop": 2349.0,
          "Pop16": 1547.5,
          "Price": 33.9,
          "Sales": 89.0,
          "State": 25,
          "Year": 68
         },
         {
          "CPI": 36.7,
          "NDI": 2069.0742285,
          "Pimin": 30.9,
          "Pop": 2360.0,
          "Pop16": 1541.8,
          "Price": 34.8,
          "Sales": 91.0,
          "State": 25,
          "Year": 69
         },
         {
          "CPI": 38.8,
          "NDI": 2243.4904087,
          "Pimin": 34.3,
          "Pop": 2216.0,
          "Pop16": 1490.4,
          "Price": 36.2,
          "Sales": 93.4,
          "State": 25,
          "Year": 70
         },
         {
          "CPI": 40.5,
          "NDI": 2441.8265221,
          "Pimin": 38.8,
          "Pop": 2253.0,
          "Pop16": 1529.4,
          "Price": 37.5,
          "Sales": 105.4,
          "State": 25,
          "Year": 71
         },
         {
          "CPI": 41.8,
          "NDI": 2681.0258549,
          "Pimin": 40.0,
          "Pop": 2286.0,
          "Pop16": 1563.7,
          "Price": 37.4,
          "Sales": 112.1,
          "State": 25,
          "Year": 72
         },
         {
          "CPI": 44.4,
          "NDI": 3042.8148457,
          "Pimin": 39.9,
          "Pop": 2319.0,
          "Pop16": 1598.9,
          "Price": 37.3,
          "Sales": 115.0,
          "State": 25,
          "Year": 73
         },
         {
          "CPI": 49.3,
          "NDI": 3302.9441201,
          "Pimin": 41.6,
          "Pop": 2338.0,
          "Pop16": 1623.6,
          "Price": 41.4,
          "Sales": 117.1,
          "State": 25,
          "Year": 74
         },
         {
          "CPI": 53.8,
          "NDI": 3530.1834862,
          "Pimin": 44.3,
          "Pop": 2350.0,
          "Pop16": 1642.6,
          "Price": 43.0,
          "Sales": 116.8,
          "State": 25,
          "Year": 75
         },
         {
          "CPI": 56.9,
          "NDI": 3878.0191827,
          "Pimin": 48.1,
          "Pop": 2371.0,
          "Pop16": 1668.3,
          "Price": 46.4,
          "Sales": 120.9,
          "State": 25,
          "Year": 76
         },
         {
          "CPI": 60.6,
          "NDI": 4343.4612177,
          "Pimin": 48.9,
          "Pop": 2390.0,
          "Pop16": 1691.1,
          "Price": 48.8,
          "Sales": 122.1,
          "State": 25,
          "Year": 77
         },
         {
          "CPI": 65.2,
          "NDI": 4773.0233528,
          "Pimin": 54.2,
          "Pop": 2409.0,
          "Pop16": 1712.0,
          "Price": 53.6,
          "Sales": 124.9,
          "State": 25,
          "Year": 78
         },
         {
          "CPI": 72.6,
          "NDI": 5257.4020017,
          "Pimin": 56.8,
          "Pop": 2429.0,
          "Pop16": 1732.0,
          "Price": 56.5,
          "Sales": 123.9,
          "State": 25,
          "Year": 79
         },
         {
          "CPI": 82.4,
          "NDI": 5676.000834,
          "Pimin": 60.0,
          "Pop": 2521.0,
          "Pop16": 1791.0,
          "Price": 59.7,
          "Sales": 127.0,
          "State": 25,
          "Year": 80
         },
         {
          "CPI": 90.9,
          "NDI": 6301.9057548,
          "Pimin": 62.6,
          "Pop": 2531.0,
          "Pop16": 1824.3,
          "Price": 63.0,
          "Sales": 125.3,
          "State": 25,
          "Year": 81
         },
         {
          "CPI": 96.5,
          "NDI": 6824.1576314,
          "Pimin": 68.3,
          "Pop": 2551.0,
          "Pop16": 1841.4,
          "Price": 69.2,
          "Sales": 125.8,
          "State": 25,
          "Year": 82
         },
         {
          "CPI": 99.6,
          "NDI": 7118.1734779,
          "Pimin": 79.1,
          "Pop": 2587.0,
          "Pop16": 1872.8,
          "Price": 78.6,
          "Sales": 122.3,
          "State": 25,
          "Year": 83
         },
         {
          "CPI": 103.9,
          "NDI": 7659.3619683,
          "Pimin": 88.3,
          "Pop": 2598.0,
          "Pop16": 1887.1,
          "Price": 89.0,
          "Sales": 116.4,
          "State": 25,
          "Year": 84
         },
         {
          "CPI": 107.6,
          "NDI": 7968.3277731,
          "Pimin": 92.5,
          "Pop": 2613.0,
          "Pop16": 1900.4,
          "Price": 96.4,
          "Sales": 115.3,
          "State": 25,
          "Year": 85
         },
         {
          "CPI": 109.6,
          "NDI": 8390.9132611,
          "Pimin": 98.8,
          "Pop": 2624.0,
          "Pop16": 1917.5,
          "Price": 106.0,
          "Sales": 113.2,
          "State": 25,
          "Year": 86
         },
         {
          "CPI": 113.6,
          "NDI": 8827.4520434,
          "Pimin": 103.5,
          "Pop": 2625.0,
          "Pop16": 1927.0,
          "Price": 115.8,
          "Sales": 110.0,
          "State": 25,
          "Year": 87
         },
         {
          "CPI": 118.3,
          "NDI": 9560.0,
          "Pimin": 112.1,
          "Pop": 2620.0,
          "Pop16": 1931.0,
          "Price": 122.6,
          "Sales": 109.0,
          "State": 25,
          "Year": 88
         },
         {
          "CPI": 124.0,
          "NDI": 10102.0,
          "Pimin": 121.5,
          "Pop": 2621.0,
          "Pop16": 1939.0,
          "Price": 125.8,
          "Sales": 108.3,
          "State": 25,
          "Year": 89
         },
         {
          "CPI": 130.7,
          "NDI": 11054.0,
          "Pimin": 135.0,
          "Pop": 2620.0,
          "Pop16": 1938.2,
          "Price": 139.9,
          "Sales": 101.8,
          "State": 25,
          "Year": 90
         },
         {
          "CPI": 136.2,
          "NDI": 11528.0,
          "Pimin": 137.4,
          "Pop": 2639.3,
          "Pop16": 1952.4,
          "Price": 142.7,
          "Sales": 105.6,
          "State": 25,
          "Year": 91
         },
         {
          "CPI": 140.3,
          "NDI": 13006.0,
          "Pimin": 163.9,
          "Pop": 2661.7,
          "Pop16": 1978.8,
          "Price": 160.8,
          "Sales": 103.9,
          "State": 25,
          "Year": 92
         },
         {
          "CPI": 30.6,
          "NDI": 2180.0546712,
          "Pimin": 24.1,
          "Pop": 4412.0,
          "Pop16": 3064.2,
          "Price": 25.8,
          "Sales": 133.2,
          "State": 26,
          "Year": 63
         },
         {
          "CPI": 31.0,
          "NDI": 2313.1146487,
          "Pimin": 25.0,
          "Pop": 4471.0,
          "Pop16": 3103.8,
          "Price": 25.7,
          "Sales": 130.0,
          "State": 26,
          "Year": 64
         },
         {
          "CPI": 31.5,
          "NDI": 2486.6248593,
          "Pimin": 24.5,
          "Pop": 4492.0,
          "Pop16": 3125.9,
          "Price": 26.1,
          "Sales": 130.2,
          "State": 26,
          "Year": 65
         },
         {
          "CPI": 32.4,
          "NDI": 2623.9427561,
          "Pimin": 24.7,
          "Pop": 4567.0,
          "Pop16": 3191.5,
          "Price": 26.2,
          "Sales": 139.3,
          "State": 26,
          "Year": 66
         },
         {
          "CPI": 33.4,
          "NDI": 2772.9699309,
          "Pimin": 25.0,
          "Pop": 4587.0,
          "Pop16": 3218.5,
          "Price": 27.5,
          "Sales": 138.3,
          "State": 26,
          "Year": 67
         },
         {
          "CPI": 34.8,
          "NDI": 3018.8647693,
          "Pimin": 26.3,
          "Pop": 4610.0,
          "Pop16": 3258.0,
          "Price": 29.2,
          "Sales": 137.3,
          "State": 26,
          "Year": 68
         },
         {
          "CPI": 36.7,
          "NDI": 3128.5061907,
          "Pimin": 27.0,
          "Pop": 4651.0,
          "Pop16": 3325.5,
          "Price": 29.9,
          "Sales": 137.2,
          "State": 26,
          "Year": 69
         },
         {
          "CPI": 38.8,
          "NDI": 3389.3037466,
          "Pimin": 28.3,
          "Pop": 4677.0,
          "Pop16": 3352.5,
          "Price": 36.0,
          "Sales": 121.3,
          "State": 26,
          "Year": 70
         },
         {
          "CPI": 40.5,
          "NDI": 3624.5537868,
          "Pimin": 30.1,
          "Pop": 4717.0,
          "Pop16": 3413.2,
          "Price": 36.8,
          "Sales": 127.6,
          "State": 26,
          "Year": 71
         },
         {
          "CPI": 41.8,
          "NDI": 3848.094549,
          "Pimin": 30.6,
          "Pop": 4745.0,
          "Pop16": 3458.5,
          "Price": 37.7,
          "Sales": 130.0,
          "State": 26,
          "Year": 72
         },
         {
          "CPI": 44.4,
          "NDI": 4351.5935038,
          "Pimin": 30.6,
          "Pop": 4763.0,
          "Pop16": 3501.9,
          "Price": 37.7,
          "Sales": 132.1,
          "State": 26,
          "Year": 73
         },
         {
          "CPI": 49.3,
          "NDI": 4610.2621,
          "Pimin": 31.5,
          "Pop": 4771.0,
          "Pop16": 3542.3,
          "Price": 38.0,
          "Sales": 135.4,
          "State": 26,
          "Year": 74
         },
         {
          "CPI": 53.8,
          "NDI": 5041.3764271,
          "Pimin": 33.3,
          "Pop": 4779.0,
          "Pop16": 3578.0,
          "Price": 43.5,
          "Sales": 135.6,
          "State": 26,
          "Year": 75
         },
         {
          "CPI": 56.9,
          "NDI": 5443.749799,
          "Pimin": 36.0,
          "Pop": 4804.0,
          "Pop16": 3628.1,
          "Price": 44.7,
          "Sales": 139.5,
          "State": 26,
          "Year": 76
         },
         {
          "CPI": 60.6,
          "NDI": 6035.6005789,
          "Pimin": 36.9,
          "Pop": 4823.0,
          "Pop16": 3667.6,
          "Price": 45.9,
          "Sales": 140.8,
          "State": 26,
          "Year": 77
         },
         {
          "CPI": 65.2,
          "NDI": 6645.5475157,
          "Pimin": 41.4,
          "Pop": 4847.0,
          "Pop16": 3707.2,
          "Price": 49.9,
          "Sales": 141.8,
          "State": 26,
          "Year": 78
         },
         {
          "CPI": 72.6,
          "NDI": 7398.1347484,
          "Pimin": 43.4,
          "Pop": 4867.0,
          "Pop16": 3739.9,
          "Price": 52.2,
          "Sales": 140.2,
          "State": 26,
          "Year": 79
         },
         {
          "CPI": 82.4,
          "NDI": 7856.9255507,
          "Pimin": 46.3,
          "Pop": 4917.0,
          "Pop16": 3764.0,
          "Price": 57.3,
          "Sales": 142.1,
          "State": 26,
          "Year": 80
         },
         {
          "CPI": 90.9,
          "NDI": 8681.8974112,
          "Pimin": 49.4,
          "Pop": 4941.0,
          "Pop16": 3788.1,
          "Price": 59.9,
          "Sales": 140.5,
          "State": 26,
          "Year": 81
         },
         {
          "CPI": 96.5,
          "NDI": 9133.2368548,
          "Pimin": 56.3,
          "Pop": 4951.0,
          "Pop16": 3797.8,
          "Price": 64.7,
          "Sales": 139.7,
          "State": 26,
          "Year": 82
         },
         {
          "CPI": 99.6,
          "NDI": 9800.6657019,
          "Pimin": 66.4,
          "Pop": 4970.0,
          "Pop16": 3817.1,
          "Price": 74.8,
          "Sales": 134.1,
          "State": 26,
          "Year": 83
         },
         {
          "CPI": 103.9,
          "NDI": 10675.668114,
          "Pimin": 75.4,
          "Pop": 5008.0,
          "Pop16": 3850.8,
          "Price": 84.8,
          "Sales": 130.0,
          "State": 26,
          "Year": 84
         },
         {
          "CPI": 107.6,
          "NDI": 11363.322078,
          "Pimin": 79.3,
          "Pop": 5034.0,
          "Pop16": 3881.6,
          "Price": 93.7,
          "Sales": 129.2,
          "State": 26,
          "Year": 85
         },
         {
          "CPI": 109.6,
          "NDI": 11942.3991,
          "Pimin": 85.4,
          "Pop": 5064.0,
          "Pop16": 3914.4,
          "Price": 101.9,
          "Sales": 128.8,
          "State": 26,
          "Year": 86
         },
         {
          "CPI": 113.6,
          "NDI": 12519.347162,
          "Pimin": 90.5,
          "Pop": 5103.0,
          "Pop16": 3952.0,
          "Price": 108.5,
          "Sales": 128.7,
          "State": 26,
          "Year": 87
         },
         {
          "CPI": 118.3,
          "NDI": 13240.0,
          "Pimin": 94.4,
          "Pop": 5141.0,
          "Pop16": 3984.0,
          "Price": 114.6,
          "Sales": 127.4,
          "State": 26,
          "Year": 88
         },
         {
          "CPI": 124.0,
          "NDI": 14008.0,
          "Pimin": 103.8,
          "Pop": 5159.0,
          "Pop16": 3998.0,
          "Price": 118.9,
          "Sales": 122.8,
          "State": 26,
          "Year": 89
         },
         {
          "CPI": 130.7,
          "NDI": 14956.0,
          "Pimin": 115.6,
          "Pop": 5180.3,
          "Pop16": 4014.5,
          "Price": 129.1,
          "Sales": 119.1,
          "State": 26,
          "Year": 90
         },
         {
          "CPI": 136.2,
          "NDI": 15331.0,
          "Pimin": 120.5,
          "Pop": 5221.8,
          "Pop16": 4031.8,
          "Price": 132.5,
          "Sales": 119.9,
          "State": 26,
          "Year": 91
         },
         {
          "CPI": 140.3,
          "NDI": 16742.0,
          "Pimin": 135.8,
          "Pop": 5257.2,
          "Pop16": 4062.4,
          "Price": 153.1,
          "Sales": 122.3,
          "State": 26,
          "Year": 92
         },
         {
          "CPI": 30.6,
          "NDI": 2079.7832302,
          "Pimin": 26.2,
          "Pop": 701.0,
          "Pop16": 461.6,
          "Price": 30.5,
          "Sales": 118.9,
          "State": 27,
          "Year": 63
         },
         {
          "CPI": 31.0,
          "NDI": 2136.7210488,
          "Pimin": 26.2,
          "Pop": 703.0,
          "Pop16": 465.5,
          "Price": 30.8,
          "Sales": 112.8,
          "State": 27,
          "Year": 64
         },
         {
          "CPI": 31.5,
          "NDI": 2292.0060087,
          "Pimin": 26.1,
          "Pop": 703.0,
          "Pop16": 467.4,
          "Price": 31.0,
          "Sales": 118.0,
          "State": 27,
          "Year": 65
         },
         {
          "CPI": 32.4,
          "NDI": 2446.2557356,
          "Pimin": 26.5,
          "Pop": 703.0,
          "Pop16": 471.2,
          "Price": 30.9,
          "Sales": 114.9,
          "State": 27,
          "Year": 66
         },
         {
          "CPI": 33.4,
          "NDI": 2514.581118,
          "Pimin": 27.4,
          "Pop": 699.0,
          "Pop16": 472.2,
          "Price": 31.3,
          "Sales": 118.0,
          "State": 27,
          "Year": 67
         },
         {
          "CPI": 34.8,
          "NDI": 2639.844319,
          "Pimin": 32.0,
          "Pop": 696.0,
          "Pop16": 475.1,
          "Price": 32.4,
          "Sales": 116.1,
          "State": 27,
          "Year": 68
         },
         {
          "CPI": 36.7,
          "NDI": 2789.9531136,
          "Pimin": 31.9,
          "Pop": 694.0,
          "Pop16": 471.2,
          "Price": 32.6,
          "Sales": 117.4,
          "State": 27,
          "Year": 69
         },
         {
          "CPI": 38.8,
          "NDI": 3091.2059359,
          "Pimin": 33.8,
          "Pop": 694.0,
          "Pop16": 482.8,
          "Price": 34.0,
          "Sales": 111.2,
          "State": 27,
          "Year": 70
         },
         {
          "CPI": 40.5,
          "NDI": 3224.7510015,
          "Pimin": 33.6,
          "Pop": 710.0,
          "Pop16": 501.1,
          "Price": 34.7,
          "Sales": 115.6,
          "State": 27,
          "Year": 71
         },
         {
          "CPI": 41.8,
          "NDI": 3686.464949,
          "Pimin": 33.7,
          "Pop": 718.0,
          "Pop16": 511.7,
          "Price": 40.1,
          "Sales": 122.2,
          "State": 27,
          "Year": 72
         },
         {
          "CPI": 44.4,
          "NDI": 4281.7239621,
          "Pimin": 34.4,
          "Pop": 726.0,
          "Pop16": 523.3,
          "Price": 40.9,
          "Sales": 119.9,
          "State": 27,
          "Year": 73
         },
         {
          "CPI": 49.3,
          "NDI": 4548.8140932,
          "Pimin": 35.8,
          "Pop": 735.0,
          "Pop16": 534.8,
          "Price": 41.8,
          "Sales": 121.9,
          "State": 27,
          "Year": 74
         },
         {
          "CPI": 53.8,
          "NDI": 4888.370539,
          "Pimin": 38.6,
          "Pop": 747.0,
          "Pop16": 548.3,
          "Price": 43.7,
          "Sales": 123.7,
          "State": 27,
          "Year": 75
         },
         {
          "CPI": 56.9,
          "NDI": 5151.3197378,
          "Pimin": 42.5,
          "Pop": 756.0,
          "Pop16": 559.9,
          "Price": 45.3,
          "Sales": 124.9,
          "State": 27,
          "Year": 76
         },
         {
          "CPI": 60.6,
          "NDI": 5470.1715222,
          "Pimin": 43.4,
          "Pop": 768.0,
          "Pop16": 572.4,
          "Price": 47.6,
          "Sales": 127.0,
          "State": 27,
          "Year": 77
         },
         {
          "CPI": 65.2,
          "NDI": 6344.9434632,
          "Pimin": 49.8,
          "Pop": 780.0,
          "Pop16": 584.9,
          "Price": 51.9,
          "Sales": 127.2,
          "State": 27,
          "Year": 78
         },
         {
          "CPI": 72.6,
          "NDI": 6767.3185543,
          "Pimin": 51.7,
          "Pop": 786.0,
          "Pop16": 591.7,
          "Price": 53.7,
          "Sales": 120.3,
          "State": 27,
          "Year": 79
         },
         {
          "CPI": 82.4,
          "NDI": 7466.100874,
          "Pimin": 55.3,
          "Pop": 787.0,
          "Pop16": 590.7,
          "Price": 56.7,
          "Sales": 122.0,
          "State": 27,
          "Year": 80
         },
         {
          "CPI": 90.9,
          "NDI": 8322.2386198,
          "Pimin": 55.9,
          "Pop": 793.0,
          "Pop16": 593.6,
          "Price": 60.4,
          "Sales": 121.1,
          "State": 27,
          "Year": 81
         },
         {
          "CPI": 96.5,
          "NDI": 8779.8116351,
          "Pimin": 64.3,
          "Pop": 801.0,
          "Pop16": 599.4,
          "Price": 65.7,
          "Sales": 122.4,
          "State": 27,
          "Year": 82
         },
         {
          "CPI": 99.6,
          "NDI": 8956.8364894,
          "Pimin": 71.0,
          "Pop": 817.0,
          "Pop16": 611.0,
          "Price": 77.2,
          "Sales": 113.7,
          "State": 27,
          "Year": 83
         },
         {
          "CPI": 103.9,
          "NDI": 9446.5017298,
          "Pimin": 81.7,
          "Pop": 824.0,
          "Pop16": 616.7,
          "Price": 91.3,
          "Sales": 110.1,
          "State": 27,
          "Year": 84
         },
         {
          "CPI": 107.6,
          "NDI": 9765.3535142,
          "Pimin": 87.4,
          "Pop": 825.0,
          "Pop16": 618.7,
          "Price": 95.5,
          "Sales": 103.6,
          "State": 27,
          "Year": 85
         },
         {
          "CPI": 109.6,
          "NDI": 10476.558631,
          "Pimin": 97.8,
          "Pop": 817.0,
          "Pop16": 614.8,
          "Price": 102.0,
          "Sales": 97.8,
          "State": 27,
          "Year": 86
         },
         {
          "CPI": 113.6,
          "NDI": 10846.136835,
          "Pimin": 102.7,
          "Pop": 809.0,
          "Pop16": 610.0,
          "Price": 106.2,
          "Sales": 91.7,
          "State": 27,
          "Year": 87
         },
         {
          "CPI": 118.3,
          "NDI": 11371.0,
          "Pimin": 112.9,
          "Pop": 805.0,
          "Pop16": 608.0,
          "Price": 115.3,
          "Sales": 87.1,
          "State": 27,
          "Year": 88
         },
         {
          "CPI": 124.0,
          "NDI": 12390.0,
          "Pimin": 118.6,
          "Pop": 806.0,
          "Pop16": 610.0,
          "Price": 123.0,
          "Sales": 86.2,
          "State": 27,
          "Year": 89
         },
         {
          "CPI": 130.7,
          "NDI": 13318.0,
          "Pimin": 129.5,
          "Pop": 805.0,
          "Pop16": 609.2,
          "Price": 140.4,
          "Sales": 84.7,
          "State": 27,
          "Year": 90
         },
         {
          "CPI": 136.2,
          "NDI": 14079.0,
          "Pimin": 127.0,
          "Pop": 814.1,
          "Pop16": 618.4,
          "Price": 143.6,
          "Sales": 82.9,
          "State": 27,
          "Year": 91
         },
         {
          "CPI": 140.3,
          "NDI": 15490.0,
          "Pimin": 155.1,
          "Pop": 830.2,
          "Pop16": 632.6,
          "Price": 163.5,
          "Sales": 86.6,
          "State": 27,
          "Year": 92
         },
         {
          "CPI": 30.6,
          "NDI": 2055.0955137,
          "Pimin": 25.8,
          "Pop": 1468.0,
          "Pop16": 1002.9,
          "Price": 25.8,
          "Sales": 118.5,
          "State": 28,
          "Year": 63
         },
         {
          "CPI": 31.0,
          "NDI": 2135.9252291,
          "Pimin": 25.6,
          "Pop": 1471.0,
          "Pop16": 1005.8,
          "Price": 27.5,
          "Sales": 106.3,
          "State": 28,
          "Year": 64
         },
         {
          "CPI": 31.5,
          "NDI": 2395.5906898,
          "Pimin": 26.1,
          "Pop": 1459.0,
          "Pop16": 1001.0,
          "Price": 27.6,
          "Sales": 110.5,
          "State": 28,
          "Year": 65
         },
         {
          "CPI": 32.4,
          "NDI": 2588.5716353,
          "Pimin": 26.2,
          "Pop": 1442.0,
          "Pop16": 993.2,
          "Price": 29.6,
          "Sales": 106.1,
          "State": 28,
          "Year": 66
         },
         {
          "CPI": 33.4,
          "NDI": 2670.4117221,
          "Pimin": 27.4,
          "Pop": 1443.0,
          "Pop16": 1000.0,
          "Price": 31.4,
          "Sales": 110.0,
          "State": 28,
          "Year": 67
         },
         {
          "CPI": 34.8,
          "NDI": 2801.7600096,
          "Pimin": 29.2,
          "Pop": 1453.0,
          "Pop16": 1016.5,
          "Price": 33.2,
          "Sales": 109.5,
          "State": 28,
          "Year": 68
         },
         {
          "CPI": 36.7,
          "NDI": 3106.8921852,
          "Pimin": 29.9,
          "Pop": 1449.0,
          "Pop16": 1018.4,
          "Price": 32.9,
          "Sales": 108.4,
          "State": 28,
          "Year": 69
         },
         {
          "CPI": 38.8,
          "NDI": 3295.831645,
          "Pimin": 34.1,
          "Pop": 1483.0,
          "Pop16": 1059.1,
          "Price": 33.9,
          "Sales": 108.1,
          "State": 28,
          "Year": 70
         },
         {
          "CPI": 40.5,
          "NDI": 3540.341534,
          "Pimin": 34.4,
          "Pop": 1505.0,
          "Pop16": 1084.3,
          "Price": 34.7,
          "Sales": 108.6,
          "State": 28,
          "Year": 71
         },
         {
          "CPI": 41.8,
          "NDI": 3919.2308249,
          "Pimin": 34.4,
          "Pop": 1520.0,
          "Pop16": 1104.7,
          "Price": 41.1,
          "Sales": 104.9,
          "State": 28,
          "Year": 72
         },
         {
          "CPI": 44.4,
          "NDI": 4689.133864,
          "Pimin": 34.4,
          "Pop": 1531.0,
          "Pop16": 1123.1,
          "Price": 41.2,
          "Sales": 106.6,
          "State": 28,
          "Year": 73
         },
         {
          "CPI": 49.3,
          "NDI": 4679.0301495,
          "Pimin": 35.8,
          "Pop": 1541.0,
          "Pop16": 1141.5,
          "Price": 42.0,
          "Sales": 110.5,
          "State": 28,
          "Year": 74
         },
         {
          "CPI": 53.8,
          "NDI": 5349.9167873,
          "Pimin": 38.6,
          "Pop": 1546.0,
          "Pop16": 1155.0,
          "Price": 44.6,
          "Sales": 114.1,
          "State": 28,
          "Year": 75
         },
         {
          "CPI": 56.9,
          "NDI": 5448.9331886,
          "Pimin": 42.6,
          "Pop": 1555.0,
          "Pop16": 1171.5,
          "Price": 46.8,
          "Sales": 118.1,
          "State": 28,
          "Year": 76
         },
         {
          "CPI": 60.6,
          "NDI": 5813.6772793,
          "Pimin": 43.4,
          "Pop": 1561.0,
          "Pop16": 1184.1,
          "Price": 48.1,
          "Sales": 117.7,
          "State": 28,
          "Year": 77
         },
         {
          "CPI": 65.2,
          "NDI": 6579.5388326,
          "Pimin": 49.8,
          "Pop": 1569.0,
          "Pop16": 1197.7,
          "Price": 53.6,
          "Sales": 117.4,
          "State": 28,
          "Year": 78
         },
         {
          "CPI": 72.6,
          "NDI": 7449.4686445,
          "Pimin": 51.7,
          "Pop": 1574.0,
          "Pop16": 1205.4,
          "Price": 55.4,
          "Sales": 116.1,
          "State": 28,
          "Year": 79
         },
         {
          "CPI": 82.4,
          "NDI": 7640.4288471,
          "Pimin": 55.3,
          "Pop": 1570.0,
          "Pop16": 1194.8,
          "Price": 59.5,
          "Sales": 116.3,
          "State": 28,
          "Year": 80
         },
         {
          "CPI": 90.9,
          "NDI": 8947.8494935,
          "Pimin": 55.9,
          "Pop": 1577.0,
          "Pop16": 1199.6,
          "Price": 60.9,
          "Sales": 117.0,
          "State": 28,
          "Year": 81
         },
         {
          "CPI": 96.5,
          "NDI": 9097.384467,
          "Pimin": 64.3,
          "Pop": 1586.0,
          "Pop16": 1205.4,
          "Price": 69.7,
          "Sales": 117.1,
          "State": 28,
          "Year": 82
         },
         {
          "CPI": 99.6,
          "NDI": 9525.7819585,
          "Pimin": 71.0,
          "Pop": 1597.0,
          "Pop16": 1212.2,
          "Price": 83.7,
          "Sales": 110.8,
          "State": 28,
          "Year": 83
         },
         {
          "CPI": 103.9,
          "NDI": 10599.806802,
          "Pimin": 81.7,
          "Pop": 1606.0,
          "Pop16": 1220.9,
          "Price": 94.8,
          "Sales": 107.7,
          "State": 28,
          "Year": 84
         },
         {
          "CPI": 107.6,
          "NDI": 11166.625181,
          "Pimin": 87.4,
          "Pop": 1604.0,
          "Pop16": 1221.9,
          "Price": 95.8,
          "Sales": 105.1,
          "State": 28,
          "Year": 85
         },
         {
          "CPI": 109.6,
          "NDI": 11542.483357,
          "Pimin": 97.8,
          "Pop": 1598.0,
          "Pop16": 1220.0,
          "Price": 104.0,
          "Sales": 103.1,
          "State": 28,
          "Year": 86
         },
         {
          "CPI": 113.6,
          "NDI": 11983.005306,
          "Pimin": 102.7,
          "Pop": 1594.0,
          "Pop16": 1219.0,
          "Price": 113.7,
          "Sales": 101.3,
          "State": 28,
          "Year": 87
         },
         {
          "CPI": 118.3,
          "NDI": 12567.0,
          "Pimin": 112.9,
          "Pop": 1602.0,
          "Pop16": 1227.0,
          "Price": 123.3,
          "Sales": 92.9,
          "State": 28,
          "Year": 88
         },
         {
          "CPI": 124.0,
          "NDI": 13268.0,
          "Pimin": 118.6,
          "Pop": 1611.0,
          "Pop16": 1232.0,
          "Price": 139.3,
          "Sales": 93.8,
          "State": 28,
          "Year": 89
         },
         {
          "CPI": 130.7,
          "NDI": 15153.0,
          "Pimin": 129.1,
          "Pop": 1614.1,
          "Pop16": 1234.3,
          "Price": 143.4,
          "Sales": 89.9,
          "State": 28,
          "Year": 90
         },
         {
          "CPI": 136.2,
          "NDI": 15466.0,
          "Pimin": 127.0,
          "Pop": 1629.4,
          "Pop16": 1244.7,
          "Price": 152.2,
          "Sales": 92.4,
          "State": 28,
          "Year": 91
         },
         {
          "CPI": 140.3,
          "NDI": 16992.0,
          "Pimin": 153.1,
          "Pop": 1642.7,
          "Pop16": 1255.1,
          "Price": 169.5,
          "Sales": 90.6,
          "State": 28,
          "Year": 92
         },
         {
          "CPI": 30.6,
          "NDI": 2836.8368237,
          "Pimin": 23.9,
          "Pop": 391.0,
          "Pop16": 263.2,
          "Price": 29.9,
          "Sales": 212.7,
          "State": 29,
          "Year": 63
         },
         {
          "CPI": 31.0,
          "NDI": 2919.3030105,
          "Pimin": 24.0,
          "Pop": 418.0,
          "Pop16": 280.6,
          "Price": 29.5,
          "Sales": 206.3,
          "State": 29,
          "Year": 64
         },
         {
          "CPI": 31.5,
          "NDI": 3016.0633362,
          "Pimin": 24.2,
          "Pop": 434.0,
          "Pop16": 289.3,
          "Price": 29.7,
          "Sales": 192.7,
          "State": 29,
          "Year": 65
         },
         {
          "CPI": 32.4,
          "NDI": 3160.1042757,
          "Pimin": 25.5,
          "Pop": 435.0,
          "Pop16": 287.3,
          "Price": 29.9,
          "Sales": 184.0,
          "State": 29,
          "Year": 66
         },
         {
          "CPI": 33.4,
          "NDI": 3332.7334933,
          "Pimin": 26.0,
          "Pop": 436.0,
          "Pop16": 287.3,
          "Price": 30.2,
          "Sales": 175.8,
          "State": 29,
          "Year": 67
         },
         {
          "CPI": 34.8,
          "NDI": 3639.507708,
          "Pimin": 31.3,
          "Pop": 449.0,
          "Pop16": 296.0,
          "Price": 32.8,
          "Sales": 189.7,
          "State": 29,
          "Year": 68
         },
         {
          "CPI": 36.7,
          "NDI": 3897.9017597,
          "Pimin": 31.9,
          "Pop": 457.0,
          "Pop16": 302.8,
          "Price": 33.3,
          "Sales": 198.6,
          "State": 29,
          "Year": 69
         },
         {
          "CPI": 38.8,
          "NDI": 4377.305192,
          "Pimin": 33.8,
          "Pop": 488.0,
          "Pop16": 341.3,
          "Price": 38.9,
          "Sales": 189.5,
          "State": 29,
          "Year": 70
         },
         {
          "CPI": 40.5,
          "NDI": 4597.2150233,
          "Pimin": 33.6,
          "Pop": 514.0,
          "Pop16": 361.6,
          "Price": 44.0,
          "Sales": 190.5,
          "State": 29,
          "Year": 71
         },
         {
          "CPI": 41.8,
          "NDI": 4786.3374782,
          "Pimin": 33.7,
          "Pop": 535.0,
          "Pop16": 380.9,
          "Price": 40.6,
          "Sales": 198.6,
          "State": 29,
          "Year": 72
         },
         {
          "CPI": 44.4,
          "NDI": 5256.9445172,
          "Pimin": 36.3,
          "Pop": 551.0,
          "Pop16": 395.3,
          "Price": 40.3,
          "Sales": 201.5,
          "State": 29,
          "Year": 73
         },
         {
          "CPI": 49.3,
          "NDI": 5525.2345113,
          "Pimin": 37.8,
          "Pop": 573.0,
          "Pop16": 414.6,
          "Price": 41.9,
          "Sales": 204.7,
          "State": 29,
          "Year": 74
         },
         {
          "CPI": 53.8,
          "NDI": 6103.5973677,
          "Pimin": 40.3,
          "Pop": 590.0,
          "Pop16": 431.0,
          "Price": 44.5,
          "Sales": 205.2,
          "State": 29,
          "Year": 75
         },
         {
          "CPI": 56.9,
          "NDI": 6572.0053083,
          "Pimin": 42.5,
          "Pop": 610.0,
          "Pop16": 450.3,
          "Price": 44.9,
          "Sales": 201.4,
          "State": 29,
          "Year": 76
         },
         {
          "CPI": 60.6,
          "NDI": 7269.1194735,
          "Pimin": 44.7,
          "Pop": 634.0,
          "Pop16": 472.5,
          "Price": 49.3,
          "Sales": 190.8,
          "State": 29,
          "Year": 77
         },
         {
          "CPI": 65.2,
          "NDI": 8207.034904,
          "Pimin": 49.5,
          "Pop": 666.0,
          "Pop16": 500.4,
          "Price": 54.3,
          "Sales": 187.0,
          "State": 29,
          "Year": 78
         },
         {
          "CPI": 72.6,
          "NDI": 9016.3030832,
          "Pimin": 53.7,
          "Pop": 702.0,
          "Pop16": 530.3,
          "Price": 57.1,
          "Sales": 183.3,
          "State": 29,
          "Year": 79
         },
         {
          "CPI": 82.4,
          "NDI": 9886.046466,
          "Pimin": 56.4,
          "Pop": 799.0,
          "Pop16": 616.2,
          "Price": 63.1,
          "Sales": 177.7,
          "State": 29,
          "Year": 80
         },
         {
          "CPI": 90.9,
          "NDI": 10682.120055,
          "Pimin": 59.2,
          "Pop": 845.0,
          "Pop16": 651.8,
          "Price": 63.3,
          "Sales": 171.9,
          "State": 29,
          "Year": 81
         },
         {
          "CPI": 96.5,
          "NDI": 10913.025378,
          "Pimin": 67.6,
          "Pop": 881.0,
          "Pop16": 680.8,
          "Price": 71.6,
          "Sales": 165.1,
          "State": 29,
          "Year": 82
         },
         {
          "CPI": 99.6,
          "NDI": 11571.655323,
          "Pimin": 76.5,
          "Pop": 891.0,
          "Pop16": 689.4,
          "Price": 81.9,
          "Sales": 159.2,
          "State": 29,
          "Year": 83
         },
         {
          "CPI": 103.9,
          "NDI": 12056.556501,
          "Pimin": 88.5,
          "Pop": 911.0,
          "Pop16": 706.8,
          "Price": 99.8,
          "Sales": 136.6,
          "State": 29,
          "Year": 84
         },
         {
          "CPI": 107.6,
          "NDI": 12701.991856,
          "Pimin": 97.6,
          "Pop": 940.0,
          "Pop16": 729.0,
          "Price": 109.3,
          "Sales": 146.7,
          "State": 29,
          "Year": 85
         },
         {
          "CPI": 109.6,
          "NDI": 13280.354712,
          "Pimin": 99.9,
          "Pop": 967.0,
          "Pop16": 751.1,
          "Price": 106.6,
          "Sales": 142.6,
          "State": 29,
          "Year": 86
         },
         {
          "CPI": 113.6,
          "NDI": 13991.763016,
          "Pimin": 103.9,
          "Pop": 1007.0,
          "Pop16": 782.0,
          "Price": 114.0,
          "Sales": 147.7,
          "State": 29,
          "Year": 87
         },
         {
          "CPI": 118.3,
          "NDI": 15121.0,
          "Pimin": 113.5,
          "Pop": 1054.0,
          "Pop16": 816.0,
          "Price": 129.6,
          "Sales": 141.9,
          "State": 29,
          "Year": 88
         },
         {
          "CPI": 124.0,
          "NDI": 16295.0,
          "Pimin": 125.6,
          "Pop": 1111.0,
          "Pop16": 860.0,
          "Price": 145.6,
          "Sales": 137.9,
          "State": 29,
          "Year": 89
         },
         {
          "CPI": 130.7,
          "NDI": 16142.0,
          "Pimin": 130.2,
          "Pop": 1174.5,
          "Pop16": 909.2,
          "Price": 173.7,
          "Sales": 137.3,
          "State": 29,
          "Year": 90
         },
         {
          "CPI": 136.2,
          "NDI": 16382.0,
          "Pimin": 144.4,
          "Pop": 1254.6,
          "Pop16": 965.6,
          "Price": 186.3,
          "Sales": 115.5,
          "State": 29,
          "Year": 91
         },
         {
          "CPI": 140.3,
          "NDI": 17711.0,
          "Pimin": 165.7,
          "Pop": 1296.7,
          "Pop16": 993.9,
          "Price": 193.8,
          "Sales": 110.0,
          "State": 29,
          "Year": 92
         },
         {
          "CPI": 30.6,
          "NDI": 2320.244472,
          "Pimin": 26.7,
          "Pop": 646.0,
          "Pop16": 446.2,
          "Price": 24.2,
          "Sales": 221.4,
          "State": 30,
          "Year": 63
         },
         {
          "CPI": 31.0,
          "NDI": 2487.4187594,
          "Pimin": 26.8,
          "Pop": 659.0,
          "Pop16": 454.9,
          "Price": 24.7,
          "Sales": 223.9,
          "State": 30,
          "Year": 64
         },
         {
          "CPI": 31.5,
          "NDI": 2632.1535451,
          "Pimin": 27.2,
          "Pop": 673.0,
          "Pop16": 465.5,
          "Price": 24.7,
          "Sales": 233.8,
          "State": 30,
          "Year": 65
         },
         {
          "CPI": 32.4,
          "NDI": 2845.3288109,
          "Pimin": 29.6,
          "Pop": 676.0,
          "Pop16": 468.4,
          "Price": 25.9,
          "Sales": 287.6,
          "State": 30,
          "Year": 66
         },
         {
          "CPI": 33.4,
          "NDI": 3025.9667993,
          "Pimin": 30.3,
          "Pop": 691.0,
          "Pop16": 480.0,
          "Price": 26.5,
          "Sales": 297.9,
          "State": 30,
          "Year": 67
         },
         {
          "CPI": 34.8,
          "NDI": 3259.3376166,
          "Pimin": 32.0,
          "Pop": 703.0,
          "Pop16": 489.6,
          "Price": 29.9,
          "Sales": 264.0,
          "State": 30,
          "Year": 68
         },
         {
          "CPI": 36.7,
          "NDI": 3493.830409,
          "Pimin": 33.4,
          "Pop": 717.0,
          "Pop16": 505.0,
          "Price": 29.9,
          "Sales": 248.5,
          "State": 30,
          "Year": 69
         },
         {
          "CPI": 38.8,
          "NDI": 3659.8827213,
          "Pimin": 37.7,
          "Pop": 737.0,
          "Pop16": 517.6,
          "Price": 31.4,
          "Sales": 265.7,
          "State": 30,
          "Year": 70
         },
         {
          "CPI": 40.5,
          "NDI": 3880.9118127,
          "Pimin": 38.8,
          "Pop": 759.0,
          "Pop16": 537.8,
          "Price": 34.1,
          "Sales": 278.0,
          "State": 30,
          "Year": 71
         },
         {
          "CPI": 41.8,
          "NDI": 4114.28263,
          "Pimin": 40.0,
          "Pop": 775.0,
          "Pop16": 554.2,
          "Price": 36.1,
          "Sales": 296.2,
          "State": 30,
          "Year": 72
         },
         {
          "CPI": 44.4,
          "NDI": 4600.097841,
          "Pimin": 39.8,
          "Pop": 793.0,
          "Pop16": 571.5,
          "Price": 36.9,
          "Sales": 279.0,
          "State": 30,
          "Year": 73
         },
         {
          "CPI": 49.3,
          "NDI": 4961.3738178,
          "Pimin": 41.3,
          "Pop": 805.0,
          "Pop16": 586.9,
          "Price": 37.9,
          "Sales": 269.8,
          "State": 30,
          "Year": 74
         },
         {
          "CPI": 53.8,
          "NDI": 5317.0399191,
          "Pimin": 41.8,
          "Pop": 815.0,
          "Pop16": 599.5,
          "Price": 40.8,
          "Sales": 269.1,
          "State": 30,
          "Year": 75
         },
         {
          "CPI": 56.9,
          "NDI": 5830.9045072,
          "Pimin": 47.1,
          "Pop": 829.0,
          "Pop16": 615.9,
          "Price": 43.9,
          "Sales": 290.5,
          "State": 30,
          "Year": 76
         },
         {
          "CPI": 60.6,
          "NDI": 6362.7206966,
          "Pimin": 47.0,
          "Pop": 850.0,
          "Pop16": 638.0,
          "Price": 45.0,
          "Sales": 278.8,
          "State": 30,
          "Year": 77
         },
         {
          "CPI": 65.2,
          "NDI": 7041.5156219,
          "Pimin": 52.5,
          "Pop": 869.0,
          "Pop16": 658.3,
          "Price": 49.7,
          "Sales": 269.6,
          "State": 30,
          "Year": 78
         },
         {
          "CPI": 72.6,
          "NDI": 7863.9233579,
          "Pimin": 54.5,
          "Pop": 887.0,
          "Pop16": 676.6,
          "Price": 53.2,
          "Sales": 254.6,
          "State": 30,
          "Year": 79
         },
         {
          "CPI": 82.4,
          "NDI": 8721.1123214,
          "Pimin": 58.9,
          "Pop": 921.0,
          "Pop16": 702.6,
          "Price": 55.3,
          "Sales": 247.8,
          "State": 30,
          "Year": 80
         },
         {
          "CPI": 90.9,
          "NDI": 9604.1067119,
          "Pimin": 61.0,
          "Pop": 936.0,
          "Pop16": 719.0,
          "Price": 58.4,
          "Sales": 245.4,
          "State": 30,
          "Year": 81
         },
         {
          "CPI": 96.5,
          "NDI": 10404.074946,
          "Pimin": 66.8,
          "Pop": 951.0,
          "Pop16": 733.4,
          "Price": 67.0,
          "Sales": 239.8,
          "State": 30,
          "Year": 82
         },
         {
          "CPI": 99.6,
          "NDI": 11282.581436,
          "Pimin": 77.0,
          "Pop": 959.0,
          "Pop16": 742.1,
          "Price": 74.7,
          "Sales": 232.9,
          "State": 30,
          "Year": 83
         },
         {
          "CPI": 103.9,
          "NDI": 12609.87796,
          "Pimin": 90.6,
          "Pop": 977.0,
          "Pop16": 760.4,
          "Price": 90.5,
          "Sales": 215.1,
          "State": 30,
          "Year": 84
         },
         {
          "CPI": 107.6,
          "NDI": 13589.362207,
          "Pimin": 95.5,
          "Pop": 998.0,
          "Pop16": 778.7,
          "Price": 89.2,
          "Sales": 201.1,
          "State": 30,
          "Year": 85
         },
         {
          "CPI": 109.6,
          "NDI": 14550.894854,
          "Pimin": 104.9,
          "Pop": 1027.0,
          "Pop16": 802.8,
          "Price": 100.0,
          "Sales": 195.9,
          "State": 30,
          "Year": 86
         },
         {
          "CPI": 113.6,
          "NDI": 15902.874829,
          "Pimin": 113.8,
          "Pop": 1057.0,
          "Pop16": 825.0,
          "Price": 102.0,
          "Sales": 195.1,
          "State": 30,
          "Year": 87
         },
         {
          "CPI": 118.3,
          "NDI": 17201.0,
          "Pimin": 123.7,
          "Pop": 1085.0,
          "Pop16": 843.0,
          "Price": 113.5,
          "Sales": 180.4,
          "State": 30,
          "Year": 88
         },
         {
          "CPI": 124.0,
          "NDI": 17829.0,
          "Pimin": 129.7,
          "Pop": 1107.0,
          "Pop16": 858.0,
          "Price": 125.9,
          "Sales": 172.9,
          "State": 30,
          "Year": 89
         },
         {
          "CPI": 130.7,
          "NDI": 18475.0,
          "Pimin": 143.7,
          "Pop": 1111.0,
          "Pop16": 861.1,
          "Price": 135.9,
          "Sales": 152.4,
          "State": 30,
          "Year": 90
         },
         {
          "CPI": 136.2,
          "NDI": 18710.0,
          "Pimin": 150.1,
          "Pop": 1107.0,
          "Pop16": 855.1,
          "Price": 153.9,
          "Sales": 144.8,
          "State": 30,
          "Year": 91
         },
         {
          "CPI": 140.3,
          "NDI": 20889.0,
          "Pimin": 168.0,
          "Pop": 1113.0,
          "Pop16": 965.5,
          "Price": 164.4,
          "Sales": 143.7,
          "State": 30,
          "Year": 92
         },
         {
          "CPI": 30.6,
          "NDI": 2856.5116817,
          "Pimin": 26.2,
          "Pop": 6542.0,
          "Pop16": 4606.4,
          "Price": 28.8,
          "Sales": 141.4,
          "State": 31,
          "Year": 63
         },
         {
          "CPI": 31.0,
          "NDI": 3057.5661578,
          "Pimin": 26.9,
          "Pop": 6680.0,
          "Pop16": 4702.4,
          "Price": 30.0,
          "Sales": 135.6,
          "State": 31,
          "Year": 64
         },
         {
          "CPI": 31.5,
          "NDI": 3219.0689336,
          "Pimin": 26.5,
          "Pop": 6781.0,
          "Pop16": 4773.3,
          "Price": 30.0,
          "Sales": 138.0,
          "State": 31,
          "Year": 65
         },
         {
          "CPI": 32.4,
          "NDI": 3436.6032848,
          "Pimin": 29.8,
          "Pop": 6911.0,
          "Pop16": 4877.1,
          "Price": 30.1,
          "Sales": 144.9,
          "State": 31,
          "Year": 66
         },
         {
          "CPI": 33.4,
          "NDI": 3633.2631275,
          "Pimin": 30.1,
          "Pop": 6981.0,
          "Pop16": 4945.0,
          "Price": 34.2,
          "Sales": 131.1,
          "State": 31,
          "Year": 67
         },
         {
          "CPI": 34.8,
          "NDI": 3909.0263706,
          "Pimin": 32.0,
          "Pop": 7070.0,
          "Pop16": 5037.2,
          "Price": 34.5,
          "Sales": 130.2,
          "State": 31,
          "Year": 68
         },
         {
          "CPI": 36.7,
          "NDI": 4139.7446218,
          "Pimin": 32.2,
          "Pop": 7148.0,
          "Pop16": 5163.3,
          "Price": 38.6,
          "Sales": 121.2,
          "State": 31,
          "Year": 69
         },
         {
          "CPI": 38.8,
          "NDI": 4505.5978487,
          "Pimin": 38.4,
          "Pop": 7168.0,
          "Pop16": 5153.6,
          "Price": 41.0,
          "Sales": 120.7,
          "State": 31,
          "Year": 70
         },
         {
          "CPI": 40.5,
          "NDI": 4830.8007171,
          "Pimin": 41.3,
          "Pop": 7273.0,
          "Pop16": 5275.8,
          "Price": 41.7,
          "Sales": 125.1,
          "State": 31,
          "Year": 71
         },
         {
          "CPI": 41.8,
          "NDI": 5094.4787185,
          "Pimin": 42.7,
          "Pop": 7322.0,
          "Pop16": 5359.2,
          "Price": 42.1,
          "Sales": 128.4,
          "State": 31,
          "Year": 72
         },
         {
          "CPI": 44.4,
          "NDI": 5593.2696044,
          "Pimin": 44.0,
          "Pop": 7316.0,
          "Pop16": 5402.9,
          "Price": 48.9,
          "Sales": 120.2,
          "State": 31,
          "Year": 73
         },
         {
          "CPI": 49.3,
          "NDI": 6039.3248901,
          "Pimin": 44.2,
          "Pop": 7312.0,
          "Pop16": 5450.4,
          "Price": 50.2,
          "Sales": 121.4,
          "State": 31,
          "Year": 74
         },
         {
          "CPI": 53.8,
          "NDI": 6568.8782096,
          "Pimin": 45.9,
          "Pop": 7313.0,
          "Pop16": 5503.8,
          "Price": 52.8,
          "Sales": 122.3,
          "State": 31,
          "Year": 75
         },
         {
          "CPI": 56.9,
          "NDI": 7036.906662,
          "Pimin": 50.1,
          "Pop": 7312.0,
          "Pop16": 5554.3,
          "Price": 53.6,
          "Sales": 122.4,
          "State": 31,
          "Year": 76
         },
         {
          "CPI": 60.6,
          "NDI": 7551.0787647,
          "Pimin": 51.7,
          "Pop": 7306.0,
          "Pop16": 5596.9,
          "Price": 56.9,
          "Sales": 122.8,
          "State": 31,
          "Year": 77
         },
         {
          "CPI": 65.2,
          "NDI": 8326.7315522,
          "Pimin": 57.4,
          "Pop": 7316.0,
          "Pop16": 5649.3,
          "Price": 61.9,
          "Sales": 123.9,
          "State": 31,
          "Year": 78
         },
         {
          "CPI": 72.6,
          "NDI": 9119.962873,
          "Pimin": 60.0,
          "Pop": 7332.0,
          "Pop16": 5702.7,
          "Price": 63.5,
          "Sales": 123.8,
          "State": 31,
          "Year": 79
         },
         {
          "CPI": 82.4,
          "NDI": 10118.643303,
          "Pimin": 61.3,
          "Pop": 7364.0,
          "Pop16": 6708.8,
          "Price": 66.4,
          "Sales": 124.3,
          "State": 31,
          "Year": 80
         },
         {
          "CPI": 90.9,
          "NDI": 11177.749942,
          "Pimin": 64.8,
          "Pop": 7404.0,
          "Pop16": 5804.6,
          "Price": 68.7,
          "Sales": 127.9,
          "State": 31,
          "Year": 81
         },
         {
          "CPI": 96.5,
          "NDI": 12130.286722,
          "Pimin": 69.8,
          "Pop": 7438.0,
          "Pop16": 5852.1,
          "Price": 76.2,
          "Sales": 126.3,
          "State": 31,
          "Year": 82
         },
         {
          "CPI": 99.6,
          "NDI": 13182.801411,
          "Pimin": 81.7,
          "Pop": 7468.0,
          "Pop16": 5898.7,
          "Price": 92.1,
          "Sales": 121.3,
          "State": 31,
          "Year": 83
         },
         {
          "CPI": 103.9,
          "NDI": 14383.634976,
          "Pimin": 91.1,
          "Pop": 7515.0,
          "Pop16": 5957.8,
          "Price": 101.1,
          "Sales": 117.8,
          "State": 31,
          "Year": 84
         },
         {
          "CPI": 107.6,
          "NDI": 15321.889197,
          "Pimin": 98.7,
          "Pop": 7568.0,
          "Pop16": 6014.1,
          "Price": 104.7,
          "Sales": 116.9,
          "State": 31,
          "Year": 85
         },
         {
          "CPI": 109.6,
          "NDI": 16133.79771,
          "Pimin": 104.9,
          "Pop": 7625.0,
          "Pop16": 6075.2,
          "Price": 114.5,
          "Sales": 115.5,
          "State": 31,
          "Year": 86
         },
         {
          "CPI": 113.6,
          "NDI": 17317.052741,
          "Pimin": 110.0,
          "Pop": 7672.0,
          "Pop16": 6083.0,
          "Price": 119.6,
          "Sales": 111.6,
          "State": 31,
          "Year": 87
         },
         {
          "CPI": 118.3,
          "NDI": 18998.0,
          "Pimin": 112.3,
          "Pop": 7721.0,
          "Pop16": 6119.0,
          "Price": 131.8,
          "Sales": 107.8,
          "State": 31,
          "Year": 88
         },
         {
          "CPI": 124.0,
          "NDI": 20218.0,
          "Pimin": 122.8,
          "Pop": 7736.0,
          "Pop16": 6112.0,
          "Price": 139.5,
          "Sales": 103.0,
          "State": 31,
          "Year": 89
         },
         {
          "CPI": 130.7,
          "NDI": 21328.0,
          "Pimin": 133.7,
          "Pop": 7740.0,
          "Pop16": 6115.2,
          "Price": 149.3,
          "Sales": 98.6,
          "State": 31,
          "Year": 90
         },
         {
          "CPI": 136.2,
          "NDI": 21884.0,
          "Pimin": 143.2,
          "Pop": 7770.0,
          "Pop16": 6100.2,
          "Price": 180.4,
          "Sales": 86.7,
          "State": 31,
          "Year": 91
         },
         {
          "CPI": 140.3,
          "NDI": 23074.0,
          "Pimin": 174.7,
          "Pop": 7799.1,
          "Pop16": 6104.2,
          "Price": 191.1,
          "Sales": 86.6,
          "State": 31,
          "Year": 92
         },
         {
          "CPI": 30.6,
          "NDI": 1834.6917869,
          "Pimin": 23.9,
          "Pop": 990.0,
          "Pop16": 609.3,
          "Price": 30.1,
          "Sales": 92.5,
          "State": 32,
          "Year": 63
         },
         {
          "CPI": 31.0,
          "NDI": 1931.0340497,
          "Pimin": 24.0,
          "Pop": 1008.0,
          "Pop16": 621.9,
          "Price": 30.2,
          "Sales": 89.9,
          "State": 32,
          "Year": 64
         },
         {
          "CPI": 31.5,
          "NDI": 2031.5651065,
          "Pimin": 24.2,
          "Pop": 1014.0,
          "Pop16": 629.6,
          "Price": 30.2,
          "Sales": 96.3,
          "State": 32,
          "Year": 65
         },
         {
          "CPI": 32.4,
          "NDI": 2156.181729,
          "Pimin": 29.6,
          "Pop": 1009.0,
          "Pop16": 628.6,
          "Price": 30.4,
          "Sales": 96.5,
          "State": 32,
          "Year": 66
         },
         {
          "CPI": 33.4,
          "NDI": 2254.6183888,
          "Pimin": 29.2,
          "Pop": 1002.0,
          "Pop16": 629.6,
          "Price": 31.5,
          "Sales": 95.5,
          "State": 32,
          "Year": 67
         },
         {
          "CPI": 34.8,
          "NDI": 2433.6893337,
          "Pimin": 31.2,
          "Pop": 994.0,
          "Pop16": 632.5,
          "Price": 33.7,
          "Sales": 99.9,
          "State": 32,
          "Year": 68
         },
         {
          "CPI": 36.7,
          "NDI": 2563.5419488,
          "Pimin": 33.3,
          "Pop": 994.0,
          "Pop16": 619.0,
          "Price": 37.9,
          "Sales": 87.0,
          "State": 32,
          "Year": 69
         },
         {
          "CPI": 38.8,
          "NDI": 2785.5480326,
          "Pimin": 34.6,
          "Pop": 1016.0,
          "Pop16": 675.9,
          "Price": 39.7,
          "Sales": 90.0,
          "State": 32,
          "Year": 70
         },
         {
          "CPI": 40.5,
          "NDI": 3026.4036895,
          "Pimin": 36.6,
          "Pop": 1050.0,
          "Pop16": 708.7,
          "Price": 41.7,
          "Sales": 92.6,
          "State": 32,
          "Year": 71
         },
         {
          "CPI": 41.8,
          "NDI": 3286.1089196,
          "Pimin": 37.2,
          "Pop": 1073.0,
          "Pop16": 732.8,
          "Price": 41.1,
          "Sales": 99.3,
          "State": 32,
          "Year": 72
         },
         {
          "CPI": 44.4,
          "NDI": 3605.5044647,
          "Pimin": 36.5,
          "Pop": 1097.0,
          "Pop16": 758.8,
          "Price": 41.8,
          "Sales": 98.9,
          "State": 32,
          "Year": 73
         },
         {
          "CPI": 49.3,
          "NDI": 3928.0416053,
          "Pimin": 37.8,
          "Pop": 1120.0,
          "Pop16": 782.9,
          "Price": 43.7,
          "Sales": 100.3,
          "State": 32,
          "Year": 74
         },
         {
          "CPI": 53.8,
          "NDI": 4432.7912864,
          "Pimin": 40.5,
          "Pop": 1146.0,
          "Pop16": 810.9,
          "Price": 46.3,
          "Sales": 103.1,
          "State": 32,
          "Year": 75
         },
         {
          "CPI": 56.9,
          "NDI": 4847.4818958,
          "Pimin": 43.4,
          "Pop": 1172.0,
          "Pop16": 837.9,
          "Price": 49.5,
          "Sales": 102.4,
          "State": 32,
          "Year": 76
         },
         {
          "CPI": 60.6,
          "NDI": 5266.3612992,
          "Pimin": 44.7,
          "Pop": 1195.0,
          "Pop16": 862.9,
          "Price": 51.6,
          "Sales": 102.4,
          "State": 32,
          "Year": 77
         },
         {
          "CPI": 65.2,
          "NDI": 5920.860367,
          "Pimin": 49.5,
          "Pop": 1215.0,
          "Pop16": 882.2,
          "Price": 56.0,
          "Sales": 103.1,
          "State": 32,
          "Year": 78
         },
         {
          "CPI": 72.6,
          "NDI": 6555.4626631,
          "Pimin": 53.7,
          "Pop": 1241.0,
          "Pop16": 905.3,
          "Price": 57.6,
          "Sales": 101.0,
          "State": 32,
          "Year": 79
         },
         {
          "CPI": 82.4,
          "NDI": 7168.0737906,
          "Pimin": 57.2,
          "Pop": 1303.0,
          "Pop16": 951.6,
          "Price": 62.6,
          "Sales": 102.7,
          "State": 32,
          "Year": 80
         },
         {
          "CPI": 90.9,
          "NDI": 7683.2954568,
          "Pimin": 62.7,
          "Pop": 1328.0,
          "Pop16": 971.9,
          "Price": 63.0,
          "Sales": 103.0,
          "State": 32,
          "Year": 81
         },
         {
          "CPI": 96.5,
          "NDI": 8046.6733392,
          "Pimin": 68.1,
          "Pop": 1359.0,
          "Pop16": 994.0,
          "Price": 69.4,
          "Sales": 97.5,
          "State": 32,
          "Year": 82
         },
         {
          "CPI": 99.6,
          "NDI": 8546.1870278,
          "Pimin": 80.5,
          "Pop": 1399.0,
          "Pop16": 1023.9,
          "Price": 79.6,
          "Sales": 96.3,
          "State": 32,
          "Year": 83
         },
         {
          "CPI": 103.9,
          "NDI": 8896.9985281,
          "Pimin": 92.8,
          "Pop": 1424.0,
          "Pop16": 1042.3,
          "Price": 90.2,
          "Sales": 88.9,
          "State": 32,
          "Year": 84
         },
         {
          "CPI": 107.6,
          "NDI": 9619.565499,
          "Pimin": 95.1,
          "Pop": 1450.0,
          "Pop16": 1061.5,
          "Price": 97.5,
          "Sales": 88.0,
          "State": 32,
          "Year": 85
         },
         {
          "CPI": 109.6,
          "NDI": 9889.7427142,
          "Pimin": 103.5,
          "Pop": 1479.0,
          "Pop16": 1085.6,
          "Price": 101.2,
          "Sales": 88.2,
          "State": 32,
          "Year": 86
         },
         {
          "CPI": 113.6,
          "NDI": 10162.014326,
          "Pimin": 108.6,
          "Pop": 1500.0,
          "Pop16": 1103.0,
          "Price": 110.2,
          "Sales": 82.3,
          "State": 32,
          "Year": 87
         },
         {
          "CPI": 118.3,
          "NDI": 10672.0,
          "Pimin": 113.5,
          "Pop": 1507.0,
          "Pop16": 1105.0,
          "Price": 113.7,
          "Sales": 77.7,
          "State": 32,
          "Year": 88
         },
         {
          "CPI": 124.0,
          "NDI": 11302.0,
          "Pimin": 125.6,
          "Pop": 1528.0,
          "Pop16": 1120.0,
          "Price": 127.2,
          "Sales": 74.4,
          "State": 32,
          "Year": 89
         },
         {
          "CPI": 130.7,
          "NDI": 12398.0,
          "Pimin": 130.2,
          "Pop": 1539.2,
          "Pop16": 1128.2,
          "Price": 133.6,
          "Sales": 70.8,
          "State": 32,
          "Year": 90
         },
         {
          "CPI": 136.2,
          "NDI": 12961.0,
          "Pimin": 149.1,
          "Pop": 1572.7,
          "Pop16": 1150.5,
          "Price": 146.9,
          "Sales": 69.9,
          "State": 32,
          "Year": 91
         },
         {
          "CPI": 140.3,
          "NDI": 13709.0,
          "Pimin": 165.7,
          "Pop": 1606.2,
          "Pop16": 1174.8,
          "Price": 165.4,
          "Sales": 71.4,
          "State": 32,
          "Year": 92
         },
         {
          "CPI": 30.6,
          "NDI": 2636.631396,
          "Pimin": 26.8,
          "Pop": 17691.0,
          "Pop16": 12524.7,
          "Price": 26.2,
          "Sales": 146.9,
          "State": 33,
          "Year": 63
         },
         {
          "CPI": 31.0,
          "NDI": 2827.2060243,
          "Pimin": 27.8,
          "Pop": 17894.0,
          "Pop16": 12652.7,
          "Price": 26.9,
          "Sales": 141.2,
          "State": 33,
          "Year": 64
         },
         {
          "CPI": 31.5,
          "NDI": 2964.3778722,
          "Pimin": 28.1,
          "Pop": 18106.0,
          "Pop16": 12803.7,
          "Price": 26.5,
          "Sales": 138.5,
          "State": 33,
          "Year": 65
         },
         {
          "CPI": 32.4,
          "NDI": 3141.340027,
          "Pimin": 29.8,
          "Pop": 17968.0,
          "Pop16": 12708.5,
          "Price": 34.6,
          "Sales": 122.4,
          "State": 33,
          "Year": 66
         },
         {
          "CPI": 33.4,
          "NDI": 3310.9723885,
          "Pimin": 30.1,
          "Pop": 18023.0,
          "Pop16": 12774.8,
          "Price": 34.7,
          "Sales": 123.2,
          "State": 33,
          "Year": 67
         },
         {
          "CPI": 34.8,
          "NDI": 3583.2218575,
          "Pimin": 31.3,
          "Pop": 18186.0,
          "Pop16": 12935.5,
          "Price": 34.5,
          "Sales": 124.9,
          "State": 33,
          "Year": 68
         },
         {
          "CPI": 36.7,
          "NDI": 3790.5502993,
          "Pimin": 32.2,
          "Pop": 18321.0,
          "Pop16": 13267.4,
          "Price": 38.6,
          "Sales": 122.4,
          "State": 33,
          "Year": 69
         },
         {
          "CPI": 38.8,
          "NDI": 4119.3438888,
          "Pimin": 37.7,
          "Pop": 18241.0,
          "Pop16": 13177.0,
          "Price": 40.7,
          "Sales": 119.0,
          "State": 33,
          "Year": 70
         },
         {
          "CPI": 40.5,
          "NDI": 4394.7346978,
          "Pimin": 39.5,
          "Pop": 18361.0,
          "Pop16": 13348.3,
          "Price": 41.7,
          "Sales": 123.3,
          "State": 33,
          "Year": 71
         },
         {
          "CPI": 41.8,
          "NDI": 4599.9689129,
          "Pimin": 40.0,
          "Pop": 18350.0,
          "Pop16": 13445.4,
          "Price": 42.7,
          "Sales": 119.9,
          "State": 33,
          "Year": 72
         },
         {
          "CPI": 44.4,
          "NDI": 4977.9768295,
          "Pimin": 39.8,
          "Pop": 18196.0,
          "Pop16": 13441.6,
          "Price": 45.8,
          "Sales": 118.7,
          "State": 33,
          "Year": 73
         },
         {
          "CPI": 49.3,
          "NDI": 5387.3981464,
          "Pimin": 41.3,
          "Pop": 18078.0,
          "Pop16": 13465.6,
          "Price": 47.4,
          "Sales": 121.6,
          "State": 33,
          "Year": 74
         },
         {
          "CPI": 53.8,
          "NDI": 5828.2328635,
          "Pimin": 41.8,
          "Pop": 18041.0,
          "Pop16": 13550.3,
          "Price": 51.5,
          "Sales": 123.9,
          "State": 33,
          "Year": 75
         },
         {
          "CPI": 56.9,
          "NDI": 6193.67542,
          "Pimin": 47.1,
          "Pop": 17987.0,
          "Pop16": 13618.6,
          "Price": 54.2,
          "Sales": 124.6,
          "State": 33,
          "Year": 76
         },
         {
          "CPI": 60.6,
          "NDI": 6644.9812705,
          "Pimin": 47.0,
          "Pop": 17869.0,
          "Pop16": 13628.2,
          "Price": 53.8,
          "Sales": 125.5,
          "State": 33,
          "Year": 77
         },
         {
          "CPI": 65.2,
          "NDI": 7338.1703031,
          "Pimin": 52.5,
          "Pop": 17746.0,
          "Pop16": 13628.2,
          "Price": 59.5,
          "Sales": 126.4,
          "State": 33,
          "Year": 78
         },
         {
          "CPI": 72.6,
          "NDI": 8053.348716,
          "Pimin": 54.8,
          "Pop": 17648.0,
          "Pop16": 13640.7,
          "Price": 61.1,
          "Sales": 124.4,
          "State": 33,
          "Year": 79
         },
         {
          "CPI": 82.4,
          "NDI": 8929.7825835,
          "Pimin": 58.9,
          "Pop": 17557.0,
          "Pop16": 13594.6,
          "Price": 64.4,
          "Sales": 127.6,
          "State": 33,
          "Year": 80
         },
         {
          "CPI": 90.9,
          "NDI": 9901.5037652,
          "Pimin": 61.0,
          "Pop": 17602.0,
          "Pop16": 13694.6,
          "Price": 65.9,
          "Sales": 130.1,
          "State": 33,
          "Year": 81
         },
         {
          "CPI": 96.5,
          "NDI": 10556.996718,
          "Pimin": 66.8,
          "Pop": 17659.0,
          "Pop16": 13773.5,
          "Price": 72.5,
          "Sales": 128.5,
          "State": 33,
          "Year": 82
         },
         {
          "CPI": 99.6,
          "NDI": 11476.362232,
          "Pimin": 77.0,
          "Pop": 17667.0,
          "Pop16": 13825.5,
          "Price": 83.1,
          "Sales": 124.6,
          "State": 33,
          "Year": 83
         },
         {
          "CPI": 103.9,
          "NDI": 12574.784128,
          "Pimin": 90.6,
          "Pop": 17735.0,
          "Pop16": 13896.7,
          "Price": 100.8,
          "Sales": 119.3,
          "State": 33,
          "Year": 84
         },
         {
          "CPI": 107.6,
          "NDI": 13192.581,
          "Pimin": 95.5,
          "Pop": 17762.0,
          "Pop16": 13946.7,
          "Price": 106.2,
          "Sales": 115.9,
          "State": 33,
          "Year": 85
         },
         {
          "CPI": 109.6,
          "NDI": 14042.837034,
          "Pimin": 104.9,
          "Pop": 17795.0,
          "Pop16": 13936.1,
          "Price": 111.2,
          "Sales": 114.0,
          "State": 33,
          "Year": 86
         },
         {
          "CPI": 113.6,
          "NDI": 14908.799768,
          "Pimin": 110.0,
          "Pop": 17825.0,
          "Pop16": 14015.0,
          "Price": 117.0,
          "Sales": 108.9,
          "State": 33,
          "Year": 87
         },
         {
          "CPI": 118.3,
          "NDI": 16269.0,
          "Pimin": 112.3,
          "Pop": 17909.0,
          "Pop16": 14072.0,
          "Price": 125.9,
          "Sales": 106.2,
          "State": 33,
          "Year": 88
         },
         {
          "CPI": 124.0,
          "NDI": 17293.0,
          "Pimin": 122.8,
          "Pop": 17950.0,
          "Pop16": 14071.0,
          "Price": 136.7,
          "Sales": 100.1,
          "State": 33,
          "Year": 89
         },
         {
          "CPI": 130.7,
          "NDI": 18178.0,
          "Pimin": 133.7,
          "Pop": 17957.0,
          "Pop16": 14076.5,
          "Price": 167.4,
          "Sales": 93.7,
          "State": 33,
          "Year": 90
         },
         {
          "CPI": 136.2,
          "NDI": 18631.0,
          "Pimin": 144.1,
          "Pop": 18024.9,
          "Pop16": 14032.8,
          "Price": 180.4,
          "Sales": 86.4,
          "State": 33,
          "Year": 91
         },
         {
          "CPI": 140.3,
          "NDI": 20021.0,
          "Pimin": 168.0,
          "Pop": 18085.8,
          "Pop16": 14037.8,
          "Price": 198.5,
          "Sales": 82.4,
          "State": 33,
          "Year": 92
         },
         {
          "CPI": 30.6,
          "NDI": 1850.0387086,
          "Pimin": 26.6,
          "Pop": 645.0,
          "Pop16": 425.5,
          "Price": 27.1,
          "Sales": 103.3,
          "State": 35,
          "Year": 63
         },
         {
          "CPI": 31.0,
          "NDI": 1841.3756761,
          "Pimin": 28.5,
          "Pop": 650.0,
          "Pop16": 430.4,
          "Price": 28.5,
          "Sales": 102.0,
          "State": 35,
          "Year": 64
         },
         {
          "CPI": 31.5,
          "NDI": 2184.0467377,
          "Pimin": 28.3,
          "Pop": 652.0,
          "Pop16": 434.2,
          "Price": 28.6,
          "Sales": 103.2,
          "State": 35,
          "Year": 65
         },
         {
          "CPI": 32.4,
          "NDI": 2218.6988675,
          "Pimin": 30.3,
          "Pop": 642.0,
          "Pop16": 431.3,
          "Price": 30.2,
          "Sales": 99.5,
          "State": 35,
          "Year": 66
         },
         {
          "CPI": 33.4,
          "NDI": 2297.6287187,
          "Pimin": 30.9,
          "Pop": 632.0,
          "Pop16": 428.4,
          "Price": 30.5,
          "Sales": 96.3,
          "State": 35,
          "Year": 67
         },
         {
          "CPI": 34.8,
          "NDI": 2430.461883,
          "Pimin": 32.4,
          "Pop": 624.0,
          "Pop16": 428.4,
          "Price": 32.3,
          "Sales": 97.0,
          "State": 35,
          "Year": 68
         },
         {
          "CPI": 36.7,
          "NDI": 2672.0642326,
          "Pimin": 32.4,
          "Pop": 615.0,
          "Pop16": 419.7,
          "Price": 32.3,
          "Sales": 96.9,
          "State": 35,
          "Year": 69
         },
         {
          "CPI": 38.8,
          "NDI": 2748.1064064,
          "Pimin": 34.0,
          "Pop": 617.0,
          "Pop16": 431.3,
          "Price": 37.3,
          "Sales": 93.8,
          "State": 35,
          "Year": 70
         },
         {
          "CPI": 40.5,
          "NDI": 3167.7822008,
          "Pimin": 34.7,
          "Pop": 627.0,
          "Pop16": 444.9,
          "Price": 38.9,
          "Sales": 98.5,
          "State": 35,
          "Year": 71
         },
         {
          "CPI": 41.8,
          "NDI": 3774.1944726,
          "Pimin": 39.1,
          "Pop": 631.0,
          "Pop16": 453.6,
          "Price": 38.9,
          "Sales": 103.8,
          "State": 35,
          "Year": 72
         },
         {
          "CPI": 44.4,
          "NDI": 5650.2222786,
          "Pimin": 39.6,
          "Pop": 633.0,
          "Pop16": 460.4,
          "Price": 39.4,
          "Sales": 108.7,
          "State": 35,
          "Year": 73
         },
         {
          "CPI": 49.3,
          "NDI": 5191.0815585,
          "Pimin": 40.4,
          "Pop": 635.0,
          "Pop16": 466.2,
          "Price": 39.9,
          "Sales": 110.5,
          "State": 35,
          "Year": 74
         },
         {
          "CPI": 53.8,
          "NDI": 5211.2953009,
          "Pimin": 42.8,
          "Pop": 640.0,
          "Pop16": 475.0,
          "Price": 42.6,
          "Sales": 117.9,
          "State": 35,
          "Year": 75
         },
         {
          "CPI": 56.9,
          "NDI": 4987.9815754,
          "Pimin": 45.0,
          "Pop": 647.0,
          "Pop16": 483.7,
          "Price": 45.9,
          "Sales": 125.4,
          "State": 35,
          "Year": 76
         },
         {
          "CPI": 60.6,
          "NDI": 5169.9052569,
          "Pimin": 46.4,
          "Pop": 651.0,
          "Pop16": 490.5,
          "Price": 47.4,
          "Sales": 122.2,
          "State": 35,
          "Year": 77
         },
         {
          "CPI": 65.2,
          "NDI": 6271.0729378,
          "Pimin": 51.9,
          "Pop": 653.0,
          "Pop16": 494.3,
          "Price": 53.2,
          "Sales": 121.9,
          "State": 35,
          "Year": 78
         },
         {
          "CPI": 72.6,
          "NDI": 6778.341616,
          "Pimin": 53.7,
          "Pop": 657.0,
          "Pop16": 499.2,
          "Price": 55.0,
          "Sales": 121.3,
          "State": 35,
          "Year": 79
         },
         {
          "CPI": 82.4,
          "NDI": 6896.7363928,
          "Pimin": 56.7,
          "Pop": 653.0,
          "Pop16": 492.4,
          "Price": 59.6,
          "Sales": 123.7,
          "State": 35,
          "Year": 80
         },
         {
          "CPI": 90.9,
          "NDI": 8365.6016734,
          "Pimin": 60.4,
          "Pop": 658.0,
          "Pop16": 495.3,
          "Price": 62.0,
          "Sales": 125.7,
          "State": 35,
          "Year": 81
         },
         {
          "CPI": 96.5,
          "NDI": 8818.0044794,
          "Pimin": 65.7,
          "Pop": 670.0,
          "Pop16": 504.0,
          "Price": 67.8,
          "Sales": 126.8,
          "State": 35,
          "Year": 82
         },
         {
          "CPI": 99.6,
          "NDI": 9423.454192,
          "Pimin": 77.2,
          "Pop": 680.0,
          "Pop16": 509.8,
          "Price": 77.9,
          "Sales": 119.6,
          "State": 35,
          "Year": 83
         },
         {
          "CPI": 103.9,
          "NDI": 10345.585869,
          "Pimin": 89.8,
          "Pop": 686.0,
          "Pop16": 514.7,
          "Price": 94.4,
          "Sales": 109.4,
          "State": 35,
          "Year": 84
         },
         {
          "CPI": 107.6,
          "NDI": 10608.36452,
          "Pimin": 92.3,
          "Pop": 685.0,
          "Pop16": 513.7,
          "Price": 100.6,
          "Sales": 103.2,
          "State": 35,
          "Year": 85
         },
         {
          "CPI": 109.6,
          "NDI": 11053.066853,
          "Pimin": 102.0,
          "Pop": 679.0,
          "Pop16": 510.8,
          "Price": 104.2,
          "Sales": 99.8,
          "State": 35,
          "Year": 86
         },
         {
          "CPI": 113.6,
          "NDI": 11364.936021,
          "Pimin": 106.2,
          "Pop": 672.0,
          "Pop16": 505.0,
          "Price": 110.3,
          "Sales": 92.3,
          "State": 35,
          "Year": 87
         },
         {
          "CPI": 118.3,
          "NDI": 11389.0,
          "Pimin": 115.3,
          "Pop": 667.0,
          "Pop16": 503.0,
          "Price": 123.3,
          "Sales": 87.1,
          "State": 35,
          "Year": 88
         },
         {
          "CPI": 124.0,
          "NDI": 11937.0,
          "Pimin": 123.0,
          "Pop": 660.0,
          "Pop16": 499.0,
          "Price": 135.9,
          "Sales": 84.1,
          "State": 35,
          "Year": 89
         },
         {
          "CPI": 130.7,
          "NDI": 13416.0,
          "Pimin": 138.9,
          "Pop": 652.8,
          "Pop16": 493.6,
          "Price": 144.3,
          "Sales": 77.1,
          "State": 35,
          "Year": 90
         },
         {
          "CPI": 136.2,
          "NDI": 14157.0,
          "Pimin": 143.6,
          "Pop": 648.8,
          "Pop16": 491.5,
          "Price": 159.8,
          "Sales": 85.2,
          "State": 35,
          "Year": 91
         },
         {
          "CPI": 140.3,
          "NDI": 15297.0,
          "Pimin": 160.0,
          "Pop": 649.8,
          "Pop16": 494.6,
          "Price": 168.3,
          "Sales": 74.4,
          "State": 35,
          "Year": 92
         },
         {
          "CPI": 30.6,
          "NDI": 2242.8860167,
          "Pimin": 24.1,
          "Pop": 10020.0,
          "Pop16": 6725.1,
          "Price": 26.3,
          "Sales": 130.4,
          "State": 36,
          "Year": 63
         },
         {
          "CPI": 31.0,
          "NDI": 2408.686661,
          "Pimin": 25.0,
          "Pop": 10124.0,
          "Pop16": 6810.4,
          "Price": 26.4,
          "Sales": 129.4,
          "State": 36,
          "Year": 64
         },
         {
          "CPI": 31.5,
          "NDI": 2568.3842142,
          "Pimin": 24.5,
          "Pop": 10241.0,
          "Pop16": 6920.7,
          "Price": 26.4,
          "Sales": 134.8,
          "State": 36,
          "Year": 65
         },
         {
          "CPI": 32.4,
          "NDI": 2759.6144052,
          "Pimin": 24.7,
          "Pop": 10397.0,
          "Pop16": 7058.7,
          "Price": 26.3,
          "Sales": 135.5,
          "State": 36,
          "Year": 66
         },
         {
          "CPI": 33.4,
          "NDI": 2861.3325919,
          "Pimin": 25.0,
          "Pop": 10488.0,
          "Pop16": 7163.2,
          "Price": 27.0,
          "Sales": 136.4,
          "State": 36,
          "Year": 67
         },
         {
          "CPI": 34.8,
          "NDI": 3083.0782389,
          "Pimin": 26.3,
          "Pop": 10610.0,
          "Pop16": 7306.0,
          "Price": 30.8,
          "Sales": 129.8,
          "State": 36,
          "Year": 68
         },
         {
          "CPI": 36.7,
          "NDI": 3295.6692491,
          "Pimin": 27.0,
          "Pop": 10740.0,
          "Pop16": 7424.9,
          "Price": 31.5,
          "Sales": 128.8,
          "State": 36,
          "Year": 69
         },
         {
          "CPI": 38.8,
          "NDI": 3476.7276214,
          "Pimin": 28.3,
          "Pop": 10652.0,
          "Pop16": 7441.1,
          "Price": 36.6,
          "Sales": 121.6,
          "State": 36,
          "Year": 70
         },
         {
          "CPI": 40.5,
          "NDI": 3699.4904503,
          "Pimin": 30.1,
          "Pop": 10721.0,
          "Pop16": 7567.7,
          "Price": 38.1,
          "Sales": 124.6,
          "State": 36,
          "Year": 71
         },
         {
          "CPI": 41.8,
          "NDI": 3928.3563703,
          "Pimin": 30.6,
          "Pop": 10725.0,
          "Pop16": 7647.2,
          "Price": 38.4,
          "Sales": 124.4,
          "State": 36,
          "Year": 72
         },
         {
          "CPI": 44.4,
          "NDI": 4381.0023011,
          "Pimin": 30.6,
          "Pop": 10738.0,
          "Pop16": 7730.6,
          "Price": 42.0,
          "Sales": 120.5,
          "State": 36,
          "Year": 73
         },
         {
          "CPI": 49.3,
          "NDI": 4774.6516837,
          "Pimin": 31.5,
          "Pop": 10730.0,
          "Pop16": 7797.7,
          "Price": 42.9,
          "Sales": 122.1,
          "State": 36,
          "Year": 74
         },
         {
          "CPI": 53.8,
          "NDI": 5111.3388816,
          "Pimin": 33.3,
          "Pop": 10727.0,
          "Pop16": 7867.7,
          "Price": 46.0,
          "Sales": 122.5,
          "State": 36,
          "Year": 75
         },
         {
          "CPI": 56.9,
          "NDI": 5601.6205415,
          "Pimin": 36.0,
          "Pop": 10703.0,
          "Pop16": 7916.6,
          "Price": 48.5,
          "Sales": 124.6,
          "State": 36,
          "Year": 76
         },
         {
          "CPI": 60.6,
          "NDI": 6149.8815678,
          "Pimin": 36.9,
          "Pop": 10715.0,
          "Pop16": 7984.6,
          "Price": 49.8,
          "Sales": 127.3,
          "State": 36,
          "Year": 77
         },
         {
          "CPI": 65.2,
          "NDI": 6804.9466902,
          "Pimin": 41.4,
          "Pop": 10732.0,
          "Pop16": 8050.8,
          "Price": 53.9,
          "Sales": 131.3,
          "State": 36,
          "Year": 78
         },
         {
          "CPI": 72.6,
          "NDI": 7502.7334509,
          "Pimin": 43.4,
          "Pop": 10731.0,
          "Pop16": 8089.1,
          "Price": 56.3,
          "Sales": 130.9,
          "State": 36,
          "Year": 79
         },
         {
          "CPI": 82.4,
          "NDI": 8130.3346629,
          "Pimin": 46.3,
          "Pop": 10797.0,
          "Pop16": 8133.2,
          "Price": 58.7,
          "Sales": 133.5,
          "State": 36,
          "Year": 80
         },
         {
          "CPI": 90.9,
          "NDI": 8789.4685127,
          "Pimin": 49.4,
          "Pop": 10781.0,
          "Pop16": 8144.7,
          "Price": 61.4,
          "Sales": 132.8,
          "State": 36,
          "Year": 81
         },
         {
          "CPI": 96.5,
          "NDI": 9259.4065352,
          "Pimin": 56.3,
          "Pop": 10791.0,
          "Pop16": 8171.6,
          "Price": 68.3,
          "Sales": 134.0,
          "State": 36,
          "Year": 82
         },
         {
          "CPI": 99.6,
          "NDI": 9800.5472885,
          "Pimin": 66.4,
          "Pop": 10746.0,
          "Pop16": 8166.8,
          "Price": 82.5,
          "Sales": 130.0,
          "State": 36,
          "Year": 83
         },
         {
          "CPI": 103.9,
          "NDI": 10736.354606,
          "Pimin": 75.4,
          "Pop": 10752.0,
          "Pop16": 8185.0,
          "Price": 89.2,
          "Sales": 127.1,
          "State": 36,
          "Year": 84
         },
         {
          "CPI": 107.6,
          "NDI": 11247.997085,
          "Pimin": 79.3,
          "Pop": 10745.0,
          "Pop16": 8215.6,
          "Price": 92.2,
          "Sales": 126.7,
          "State": 36,
          "Year": 85
         },
         {
          "CPI": 109.6,
          "NDI": 11814.567385,
          "Pimin": 85.4,
          "Pop": 10748.0,
          "Pop16": 8255.9,
          "Price": 98.1,
          "Sales": 126.3,
          "State": 36,
          "Year": 86
         },
         {
          "CPI": 113.6,
          "NDI": 12360.794048,
          "Pimin": 90.5,
          "Pop": 10784.0,
          "Pop16": 8300.0,
          "Price": 102.2,
          "Sales": 124.6,
          "State": 36,
          "Year": 87
         },
         {
          "CPI": 118.3,
          "NDI": 13261.0,
          "Pimin": 94.4,
          "Pop": 10855.0,
          "Pop16": 8375.0,
          "Price": 108.4,
          "Sales": 122.4,
          "State": 36,
          "Year": 88
         },
         {
          "CPI": 124.0,
          "NDI": 13994.0,
          "Pimin": 103.8,
          "Pop": 10907.0,
          "Pop16": 8407.0,
          "Price": 120.5,
          "Sales": 118.6,
          "State": 36,
          "Year": 89
         },
         {
          "CPI": 130.7,
          "NDI": 15025.0,
          "Pimin": 115.6,
          "Pop": 10925.1,
          "Pop16": 8421.0,
          "Price": 135.4,
          "Sales": 115.5,
          "State": 36,
          "Year": 90
         },
         {
          "CPI": 136.2,
          "NDI": 15396.0,
          "Pimin": 120.5,
          "Pop": 11017.8,
          "Pop16": 8492.6,
          "Price": 139.8,
          "Sales": 113.2,
          "State": 36,
          "Year": 91
         },
         {
          "CPI": 140.3,
          "NDI": 16359.0,
          "Pimin": 135.8,
          "Pop": 11095.3,
          "Pop16": 8569.2,
          "Price": 159.6,
          "Sales": 112.3,
          "State": 36,
          "Year": 92
         },
         {
          "CPI": 30.6,
          "NDI": 1789.5685251,
          "Pimin": 25.8,
          "Pop": 2450.0,
          "Pop16": 1723.2,
          "Price": 28.4,
          "Sales": 113.4,
          "State": 37,
          "Year": 63
         },
         {
          "CPI": 31.0,
          "NDI": 1929.5062465,
          "Pimin": 25.6,
          "Pop": 2461.0,
          "Pop16": 1733.9,
          "Price": 28.8,
          "Sales": 111.5,
          "State": 37,
          "Year": 64
         },
         {
          "CPI": 31.5,
          "NDI": 2085.7870595,
          "Pimin": 26.1,
          "Pop": 2448.0,
          "Pop16": 1731.0,
          "Price": 28.8,
          "Sales": 115.6,
          "State": 37,
          "Year": 65
         },
         {
          "CPI": 32.4,
          "NDI": 2201.2101436,
          "Pimin": 26.2,
          "Pop": 2478.0,
          "Pop16": 1762.1,
          "Price": 30.4,
          "Sales": 115.9,
          "State": 37,
          "Year": 66
         },
         {
          "CPI": 33.4,
          "NDI": 2362.5981727,
          "Pimin": 27.5,
          "Pop": 2516.0,
          "Pop16": 1803.0,
          "Price": 30.7,
          "Sales": 117.9,
          "State": 37,
          "Year": 67
         },
         {
          "CPI": 34.8,
          "NDI": 2548.5008391,
          "Pimin": 29.2,
          "Pop": 2542.0,
          "Pop16": 1833.2,
          "Price": 31.2,
          "Sales": 113.0,
          "State": 37,
          "Year": 68
         },
         {
          "CPI": 36.7,
          "NDI": 2701.7173224,
          "Pimin": 29.9,
          "Pop": 2568.0,
          "Pop16": 1871.2,
          "Price": 36.9,
          "Sales": 108.7,
          "State": 37,
          "Year": 69
         },
         {
          "CPI": 38.8,
          "NDI": 2959.1210144,
          "Pimin": 34.2,
          "Pop": 2559.0,
          "Pop16": 1871.2,
          "Price": 38.4,
          "Sales": 108.4,
          "State": 37,
          "Year": 70
         },
         {
          "CPI": 40.5,
          "NDI": 3130.7234757,
          "Pimin": 36.8,
          "Pop": 2607.0,
          "Pop16": 1919.9,
          "Price": 39.8,
          "Sales": 115.4,
          "State": 37,
          "Year": 71
         },
         {
          "CPI": 41.8,
          "NDI": 3315.6046989,
          "Pimin": 37.7,
          "Pop": 2639.0,
          "Pop16": 1955.0,
          "Price": 39.8,
          "Sales": 121.7,
          "State": 37,
          "Year": 72
         },
         {
          "CPI": 44.4,
          "NDI": 3819.1762073,
          "Pimin": 37.7,
          "Pop": 2667.0,
          "Pop16": 1990.1,
          "Price": 40.4,
          "Sales": 124.1,
          "State": 37,
          "Year": 73
         },
         {
          "CPI": 49.3,
          "NDI": 4160.3382435,
          "Pimin": 38.0,
          "Pop": 2697.0,
          "Pop16": 2026.1,
          "Price": 41.0,
          "Sales": 130.5,
          "State": 37,
          "Year": 74
         },
         {
          "CPI": 53.8,
          "NDI": 4616.9233638,
          "Pimin": 42.7,
          "Pop": 2728.0,
          "Pop16": 2061.2,
          "Price": 43.6,
          "Sales": 132.9,
          "State": 37,
          "Year": 75
         },
         {
          "CPI": 56.9,
          "NDI": 5047.9724035,
          "Pimin": 44.7,
          "Pop": 2771.0,
          "Pop16": 2107.9,
          "Price": 46.4,
          "Sales": 138.6,
          "State": 37,
          "Year": 76
         },
         {
          "CPI": 60.6,
          "NDI": 5551.543912,
          "Pimin": 45.9,
          "Pop": 2805.0,
          "Pop16": 2143.0,
          "Price": 47.9,
          "Sales": 140.4,
          "State": 37,
          "Year": 77
         },
         {
          "CPI": 65.2,
          "NDI": 6248.1681894,
          "Pimin": 49.9,
          "Pop": 2843.0,
          "Pop16": 2179.0,
          "Price": 53.1,
          "Sales": 143.6,
          "State": 37,
          "Year": 78
         },
         {
          "CPI": 72.6,
          "NDI": 7113.3305985,
          "Pimin": 52.2,
          "Pop": 2892.0,
          "Pop16": 2221.9,
          "Price": 55.5,
          "Sales": 141.6,
          "State": 37,
          "Year": 79
         },
         {
          "CPI": 82.4,
          "NDI": 7889.6274473,
          "Pimin": 57.3,
          "Pop": 3025.0,
          "Pop16": 2316.4,
          "Price": 62.9,
          "Sales": 141.6,
          "State": 37,
          "Year": 80
         },
         {
          "CPI": 90.9,
          "NDI": 8826.290882,
          "Pimin": 59.8,
          "Pop": 3100.0,
          "Pop16": 2370.0,
          "Price": 65.8,
          "Sales": 143.7,
          "State": 37,
          "Year": 81
         },
         {
          "CPI": 96.5,
          "NDI": 9376.8487787,
          "Pimin": 64.7,
          "Pop": 3177.0,
          "Pop16": 2424.5,
          "Price": 71.7,
          "Sales": 147.0,
          "State": 37,
          "Year": 82
         },
         {
          "CPI": 99.6,
          "NDI": 9553.5584561,
          "Pimin": 74.8,
          "Pop": 3298.0,
          "Pop16": 2508.3,
          "Price": 83.9,
          "Sales": 140.0,
          "State": 37,
          "Year": 83
         },
         {
          "CPI": 103.9,
          "NDI": 10029.550998,
          "Pimin": 84.8,
          "Pop": 3298.0,
          "Pop16": 2510.2,
          "Price": 93.3,
          "Sales": 128.1,
          "State": 37,
          "Year": 84
         },
         {
          "CPI": 107.6,
          "NDI": 9973.3716204,
          "Pimin": 93.7,
          "Pop": 3316.0,
          "Pop16": 2507.3,
          "Price": 95.1,
          "Sales": 124.2,
          "State": 37,
          "Year": 85
         },
         {
          "CPI": 109.6,
          "NDI": 10159.274287,
          "Pimin": 101.2,
          "Pop": 3306.0,
          "Pop16": 2509.2,
          "Price": 104.6,
          "Sales": 119.9,
          "State": 37,
          "Year": 86
         },
         {
          "CPI": 113.6,
          "NDI": 10359.477158,
          "Pimin": 108.5,
          "Pop": 3272.0,
          "Pop16": 2481.0,
          "Price": 114.4,
          "Sales": 113.1,
          "State": 37,
          "Year": 87
         },
         {
          "CPI": 118.3,
          "NDI": 10956.0,
          "Pimin": 113.7,
          "Pop": 3242.0,
          "Pop16": 2458.0,
          "Price": 122.6,
          "Sales": 103.6,
          "State": 37,
          "Year": 88
         },
         {
          "CPI": 124.0,
          "NDI": 11591.0,
          "Pimin": 118.9,
          "Pop": 3224.0,
          "Pop16": 2464.0,
          "Price": 133.4,
          "Sales": 97.5,
          "State": 37,
          "Year": 89
         },
         {
          "CPI": 130.7,
          "NDI": 12579.0,
          "Pimin": 129.1,
          "Pop": 3219.9,
          "Pop16": 2460.9,
          "Price": 146.1,
          "Sales": 88.4,
          "State": 37,
          "Year": 90
         },
         {
          "CPI": 136.2,
          "NDI": 12951.0,
          "Pimin": 132.5,
          "Pop": 3249.6,
          "Pop16": 2483.4,
          "Price": 149.1,
          "Sales": 87.8,
          "State": 37,
          "Year": 91
         },
         {
          "CPI": 140.3,
          "NDI": 14344.0,
          "Pimin": 153.1,
          "Pop": 3287.5,
          "Pop16": 2511.2,
          "Price": 170.6,
          "Sales": 86.3,
          "State": 37,
          "Year": 92
         },
         {
          "CPI": 30.6,
          "NDI": 2188.3648608,
          "Pimin": 26.2,
          "Pop": 11408.0,
          "Pop16": 7991.7,
          "Price": 26.8,
          "Sales": 128.3,
          "State": 39,
          "Year": 63
         },
         {
          "CPI": 31.0,
          "NDI": 2344.4551273,
          "Pimin": 26.4,
          "Pop": 11505.0,
          "Pop16": 8068.8,
          "Price": 29.7,
          "Sales": 117.4,
          "State": 39,
          "Year": 64
         },
         {
          "CPI": 31.5,
          "NDI": 2484.0060277,
          "Pimin": 26.4,
          "Pop": 11583.0,
          "Pop16": 8149.8,
          "Price": 29.8,
          "Sales": 120.4,
          "State": 39,
          "Year": 65
         },
         {
          "CPI": 32.4,
          "NDI": 2655.6019497,
          "Pimin": 26.3,
          "Pop": 11657.0,
          "Pop16": 8238.5,
          "Price": 29.8,
          "Sales": 122.9,
          "State": 39,
          "Year": 66
         },
         {
          "CPI": 33.4,
          "NDI": 2837.5349754,
          "Pimin": 27.0,
          "Pop": 11672.0,
          "Pop16": 8294.4,
          "Price": 30.1,
          "Sales": 125.5,
          "State": 39,
          "Year": 67
         },
         {
          "CPI": 34.8,
          "NDI": 3033.9399464,
          "Pimin": 30.8,
          "Pop": 11750.0,
          "Pop16": 8412.9,
          "Price": 36.4,
          "Sales": 117.1,
          "State": 39,
          "Year": 68
         },
         {
          "CPI": 36.7,
          "NDI": 3255.1539664,
          "Pimin": 30.7,
          "Pop": 11803.0,
          "Pop16": 8563.3,
          "Price": 36.5,
          "Sales": 114.7,
          "State": 39,
          "Year": 69
         },
         {
          "CPI": 38.8,
          "NDI": 3494.974773,
          "Pimin": 32.6,
          "Pop": 11793.0,
          "Pop16": 8525.7,
          "Price": 38.4,
          "Sales": 107.3,
          "State": 39,
          "Year": 70
         },
         {
          "CPI": 40.5,
          "NDI": 3701.7168477,
          "Pimin": 34.2,
          "Pop": 11864.0,
          "Pop16": 8658.7,
          "Price": 44.7,
          "Sales": 106.3,
          "State": 39,
          "Year": 71
         },
         {
          "CPI": 41.8,
          "NDI": 3929.1331299,
          "Pimin": 34.3,
          "Pop": 11871.0,
          "Pop16": 8742.6,
          "Price": 44.7,
          "Sales": 109.0,
          "State": 39,
          "Year": 72
         },
         {
          "CPI": 44.4,
          "NDI": 4359.1566453,
          "Pimin": 35.3,
          "Pop": 11840.0,
          "Pop16": 8800.4,
          "Price": 44.9,
          "Sales": 110.7,
          "State": 39,
          "Year": 73
         },
         {
          "CPI": 49.3,
          "NDI": 4777.8093466,
          "Pimin": 35.8,
          "Pop": 11807.0,
          "Pop16": 8853.4,
          "Price": 46.6,
          "Sales": 114.2,
          "State": 39,
          "Year": 74
         },
         {
          "CPI": 53.8,
          "NDI": 5227.4733591,
          "Pimin": 39.5,
          "Pop": 11829.0,
          "Pop16": 8945.0,
          "Price": 49.8,
          "Sales": 114.6,
          "State": 39,
          "Year": 75
         },
         {
          "CPI": 56.9,
          "NDI": 5680.2385028,
          "Pimin": 46.1,
          "Pop": 11807.0,
          "Pop16": 8999.9,
          "Price": 52.3,
          "Sales": 118.8,
          "State": 39,
          "Year": 76
         },
         {
          "CPI": 60.6,
          "NDI": 6157.8126953,
          "Pimin": 48.9,
          "Pop": 11791.0,
          "Pop16": 9052.0,
          "Price": 53.3,
          "Sales": 120.1,
          "State": 39,
          "Year": 77
         },
         {
          "CPI": 65.2,
          "NDI": 6741.8590564,
          "Pimin": 52.1,
          "Pop": 11763.0,
          "Pop16": 9091.5,
          "Price": 57.4,
          "Sales": 122.3,
          "State": 39,
          "Year": 78
         },
         {
          "CPI": 72.6,
          "NDI": 7483.0293943,
          "Pimin": 56.2,
          "Pop": 11731.0,
          "Pop16": 9118.5,
          "Price": 60.6,
          "Sales": 122.6,
          "State": 39,
          "Year": 79
         },
         {
          "CPI": 82.4,
          "NDI": 8231.4357047,
          "Pimin": 58.1,
          "Pop": 11864.0,
          "Pop16": 9230.3,
          "Price": 61.3,
          "Sales": 124.0,
          "State": 39,
          "Year": 80
         },
         {
          "CPI": 90.9,
          "NDI": 9035.6623754,
          "Pimin": 61.4,
          "Pop": 11871.0,
          "Pop16": 9275.6,
          "Price": 64.8,
          "Sales": 125.2,
          "State": 39,
          "Year": 81
         },
         {
          "CPI": 96.5,
          "NDI": 9616.6076053,
          "Pimin": 65.4,
          "Pop": 11865.0,
          "Pop16": 9292.0,
          "Price": 69.8,
          "Sales": 123.3,
          "State": 39,
          "Year": 82
         },
         {
          "CPI": 99.6,
          "NDI": 10151.035868,
          "Pimin": 74.9,
          "Pop": 11895.0,
          "Pop16": 9341.2,
          "Price": 81.7,
          "Sales": 125.3,
          "State": 39,
          "Year": 83
         },
         {
          "CPI": 103.9,
          "NDI": 10842.588108,
          "Pimin": 84.2,
          "Pop": 11901.0,
          "Pop16": 9367.2,
          "Price": 97.7,
          "Sales": 115.3,
          "State": 39,
          "Year": 84
         },
         {
          "CPI": 107.6,
          "NDI": 11532.072928,
          "Pimin": 90.1,
          "Pop": 11864.0,
          "Pop16": 9370.1,
          "Price": 100.1,
          "Sales": 115.8,
          "State": 39,
          "Year": 85
         },
         {
          "CPI": 109.6,
          "NDI": 12193.647567,
          "Pimin": 93.3,
          "Pop": 11894.0,
          "Pop16": 9412.5,
          "Price": 104.9,
          "Sales": 113.9,
          "State": 39,
          "Year": 86
         },
         {
          "CPI": 113.6,
          "NDI": 12911.042566,
          "Pimin": 100.3,
          "Pop": 11936.0,
          "Pop16": 9452.0,
          "Price": 110.0,
          "Sales": 100.6,
          "State": 39,
          "Year": 87
         },
         {
          "CPI": 118.3,
          "NDI": 13891.0,
          "Pimin": 108.4,
          "Pop": 12001.0,
          "Pop16": 9507.0,
          "Price": 112.3,
          "Sales": 107.6,
          "State": 39,
          "Year": 88
         },
         {
          "CPI": 124.0,
          "NDI": 14811.0,
          "Pimin": 120.2,
          "Pop": 12040.0,
          "Pop16": 9525.0,
          "Price": 122.8,
          "Sales": 107.1,
          "State": 39,
          "Year": 89
         },
         {
          "CPI": 130.7,
          "NDI": 16136.0,
          "Pimin": 131.5,
          "Pop": 12056.2,
          "Pop16": 9537.8,
          "Price": 133.7,
          "Sales": 101.3,
          "State": 39,
          "Year": 90
         },
         {
          "CPI": 136.2,
          "NDI": 16609.0,
          "Pimin": 139.8,
          "Pop": 12136.4,
          "Pop16": 9579.5,
          "Price": 144.1,
          "Sales": 102.5,
          "State": 39,
          "Year": 91
         },
         {
          "CPI": 140.3,
          "NDI": 17658.0,
          "Pimin": 158.2,
          "Pop": 12185.1,
          "Pop16": 9612.0,
          "Price": 176.2,
          "Sales": 96.2,
          "State": 39,
          "Year": 92
         },
         {
          "CPI": 30.6,
          "NDI": 2227.7270183,
          "Pimin": 26.8,
          "Pop": 877.0,
          "Pop16": 615.5,
          "Price": 27.0,
          "Sales": 144.6,
          "State": 40,
          "Year": 63
         },
         {
          "CPI": 31.0,
          "NDI": 2363.6770721,
          "Pimin": 27.8,
          "Pop": 884.0,
          "Pop16": 621.3,
          "Price": 27.3,
          "Sales": 140.3,
          "State": 40,
          "Year": 64
         },
         {
          "CPI": 31.5,
          "NDI": 2514.046071,
          "Pimin": 28.1,
          "Pop": 891.0,
          "Pop16": 629.0,
          "Price": 29.8,
          "Sales": 133.2,
          "State": 40,
          "Year": 65
         },
         {
          "CPI": 32.4,
          "NDI": 2708.7018299,
          "Pimin": 30.1,
          "Pop": 898.0,
          "Pop16": 635.8,
          "Price": 30.0,
          "Sales": 140.2,
          "State": 40,
          "Year": 66
         },
         {
          "CPI": 33.4,
          "NDI": 2905.4174381,
          "Pimin": 31.1,
          "Pop": 901.0,
          "Pop16": 637.7,
          "Price": 31.0,
          "Sales": 144.5,
          "State": 40,
          "Year": 67
         },
         {
          "CPI": 34.8,
          "NDI": 3077.4148547,
          "Pimin": 31.3,
          "Pop": 908.0,
          "Pop16": 648.3,
          "Price": 32.1,
          "Sales": 142.9,
          "State": 40,
          "Year": 68
         },
         {
          "CPI": 36.7,
          "NDI": 3265.8910657,
          "Pimin": 32.2,
          "Pop": 911.0,
          "Pop16": 658.9,
          "Price": 38.4,
          "Sales": 117.8,
          "State": 40,
          "Year": 69
         },
         {
          "CPI": 38.8,
          "NDI": 3505.8635091,
          "Pimin": 39.6,
          "Pop": 949.0,
          "Pop16": 689.7,
          "Price": 39.3,
          "Sales": 123.9,
          "State": 40,
          "Year": 70
         },
         {
          "CPI": 40.5,
          "NDI": 3659.322282,
          "Pimin": 41.0,
          "Pop": 960.0,
          "Pop16": 701.3,
          "Price": 40.2,
          "Sales": 123.2,
          "State": 40,
          "Year": 71
         },
         {
          "CPI": 41.8,
          "NDI": 3906.5041981,
          "Pimin": 46.0,
          "Pop": 969.0,
          "Pop16": 713.8,
          "Price": 41.6,
          "Sales": 134.4,
          "State": 40,
          "Year": 72
         },
         {
          "CPI": 44.4,
          "NDI": 4212.3918192,
          "Pimin": 46.0,
          "Pop": 967.0,
          "Pop16": 718.6,
          "Price": 40.6,
          "Sales": 142.0,
          "State": 40,
          "Year": 73
         },
         {
          "CPI": 49.3,
          "NDI": 4598.613563,
          "Pimin": 46.3,
          "Pop": 940.0,
          "Pop16": 700.3,
          "Price": 41.3,
          "Sales": 146.1,
          "State": 40,
          "Year": 74
         },
         {
          "CPI": 53.8,
          "NDI": 5066.1993541,
          "Pimin": 49.4,
          "Pop": 930.0,
          "Pop16": 699.3,
          "Price": 44.3,
          "Sales": 154.7,
          "State": 40,
          "Year": 75
         },
         {
          "CPI": 56.9,
          "NDI": 5481.2589882,
          "Pimin": 57.4,
          "Pop": 931.0,
          "Pop16": 707.0,
          "Price": 52.2,
          "Sales": 150.2,
          "State": 40,
          "Year": 76
         },
         {
          "CPI": 60.6,
          "NDI": 5987.981916,
          "Pimin": 57.3,
          "Pop": 933.0,
          "Pop16": 714.8,
          "Price": 52.3,
          "Sales": 148.8,
          "State": 40,
          "Year": 77
         },
         {
          "CPI": 65.2,
          "NDI": 6546.2010764,
          "Pimin": 61.7,
          "Pop": 932.0,
          "Pop16": 719.6,
          "Price": 56.3,
          "Sales": 146.8,
          "State": 40,
          "Year": 78
         },
         {
          "CPI": 72.6,
          "NDI": 7211.5324004,
          "Pimin": 64.4,
          "Pop": 929.0,
          "Pop16": 723.4,
          "Price": 58.7,
          "Sales": 145.8,
          "State": 40,
          "Year": 79
         },
         {
          "CPI": 82.4,
          "NDI": 8033.4122713,
          "Pimin": 67.0,
          "Pop": 947.0,
          "Pop16": 741.7,
          "Price": 60.0,
          "Sales": 149.3,
          "State": 40,
          "Year": 80
         },
         {
          "CPI": 90.9,
          "NDI": 8821.3046286,
          "Pimin": 70.8,
          "Pop": 953.0,
          "Pop16": 751.4,
          "Price": 64.5,
          "Sales": 151.2,
          "State": 40,
          "Year": 81
         },
         {
          "CPI": 96.5,
          "NDI": 9456.7681378,
          "Pimin": 78.1,
          "Pop": 958.0,
          "Pop16": 757.1,
          "Price": 71.6,
          "Sales": 146.3,
          "State": 40,
          "Year": 82
         },
         {
          "CPI": 99.6,
          "NDI": 10332.20409,
          "Pimin": 88.7,
          "Pop": 955.0,
          "Pop16": 758.1,
          "Price": 84.0,
          "Sales": 135.8,
          "State": 40,
          "Year": 83
         },
         {
          "CPI": 103.9,
          "NDI": 11243.687406,
          "Pimin": 101.4,
          "Pop": 962.0,
          "Pop16": 763.9,
          "Price": 94.8,
          "Sales": 136.9,
          "State": 40,
          "Year": 84
         },
         {
          "CPI": 107.6,
          "NDI": 11830.744456,
          "Pimin": 108.3,
          "Pop": 967.0,
          "Pop16": 770.6,
          "Price": 100.3,
          "Sales": 133.4,
          "State": 40,
          "Year": 85
         },
         {
          "CPI": 109.6,
          "NDI": 12449.729171,
          "Pimin": 115.0,
          "Pop": 975.0,
          "Pop16": 778.3,
          "Price": 101.8,
          "Sales": 136.3,
          "State": 40,
          "Year": 86
         },
         {
          "CPI": 113.6,
          "NDI": 13229.382131,
          "Pimin": 120.4,
          "Pop": 986.0,
          "Pop16": 787.0,
          "Price": 113.5,
          "Sales": 124.4,
          "State": 40,
          "Year": 87
         },
         {
          "CPI": 118.3,
          "NDI": 14352.0,
          "Pimin": 129.7,
          "Pop": 993.0,
          "Pop16": 791.0,
          "Price": 121.5,
          "Sales": 138.0,
          "State": 40,
          "Year": 88
         },
         {
          "CPI": 124.0,
          "NDI": 15189.0,
          "Pimin": 142.0,
          "Pop": 998.0,
          "Pop16": 793.0,
          "Price": 134.8,
          "Sales": 120.8,
          "State": 40,
          "Year": 89
         },
         {
          "CPI": 130.7,
          "NDI": 15870.0,
          "Pimin": 152.4,
          "Pop": 1000.0,
          "Pop16": 794.6,
          "Price": 150.9,
          "Sales": 101.4,
          "State": 40,
          "Year": 90
         },
         {
          "CPI": 136.2,
          "NDI": 16024.0,
          "Pimin": 163.3,
          "Pop": 1001.0,
          "Pop16": 790.6,
          "Price": 170.3,
          "Sales": 103.6,
          "State": 40,
          "Year": 91
         },
         {
          "CPI": 140.3,
          "NDI": 17863.0,
          "Pimin": 175.9,
          "Pop": 1002.0,
          "Pop16": 787.6,
          "Price": 190.0,
          "Sales": 100.1,
          "State": 40,
          "Year": 92
         },
         {
          "CPI": 30.6,
          "NDI": 1498.1478534,
          "Pimin": 26.9,
          "Pop": 2498.0,
          "Pop16": 1608.3,
          "Price": 27.3,
          "Sales": 88.2,
          "State": 41,
          "Year": 63
         },
         {
          "CPI": 31.0,
          "NDI": 1619.3140266,
          "Pimin": 27.5,
          "Pop": 2528.0,
          "Pop16": 1638.8,
          "Price": 26.5,
          "Sales": 89.7,
          "State": 41,
          "Year": 64
         },
         {
          "CPI": 31.5,
          "NDI": 1769.2314952,
          "Pimin": 30.9,
          "Pop": 2550.0,
          "Pop16": 1663.6,
          "Price": 26.2,
          "Sales": 90.1,
          "State": 41,
          "Year": 65
         },
         {
          "CPI": 32.4,
          "NDI": 1946.8734271,
          "Pimin": 30.6,
          "Pop": 2607.0,
          "Pop16": 1718.0,
          "Price": 26.2,
          "Sales": 93.4,
          "State": 41,
          "Year": 66
         },
         {
          "CPI": 33.4,
          "NDI": 2086.5225759,
          "Pimin": 31.5,
          "Pop": 2638.0,
          "Pop16": 1750.5,
          "Price": 27.3,
          "Sales": 95.1,
          "State": 41,
          "Year": 67
         },
         {
          "CPI": 34.8,
          "NDI": 2269.2986677,
          "Pimin": 33.3,
          "Pop": 2669.0,
          "Pop16": 1792.5,
          "Price": 29.5,
          "Sales": 95.7,
          "State": 41,
          "Year": 68
         },
         {
          "CPI": 36.7,
          "NDI": 2466.4504071,
          "Pimin": 34.2,
          "Pop": 2692.0,
          "Pop16": 1788.7,
          "Price": 29.0,
          "Sales": 104.2,
          "State": 41,
          "Year": 69
         },
         {
          "CPI": 38.8,
          "NDI": 2688.246114,
          "Pimin": 34.3,
          "Pop": 2590.0,
          "Pop16": 1774.3,
          "Price": 32.5,
          "Sales": 103.6,
          "State": 41,
          "Year": 70
         },
         {
          "CPI": 40.5,
          "NDI": 2863.8343819,
          "Pimin": 35.8,
          "Pop": 2642.0,
          "Pop16": 1828.7,
          "Price": 34.3,
          "Sales": 115.0,
          "State": 41,
          "Year": 71
         },
         {
          "CPI": 41.8,
          "NDI": 3087.6837528,
          "Pimin": 40.9,
          "Pop": 2682.0,
          "Pop16": 1870.7,
          "Price": 34.1,
          "Sales": 118.7,
          "State": 41,
          "Year": 72
         },
         {
          "CPI": 44.4,
          "NDI": 3473.7725759,
          "Pimin": 42.4,
          "Pop": 2723.0,
          "Pop16": 1911.8,
          "Price": 33.5,
          "Sales": 125.5,
          "State": 41,
          "Year": 73
         },
         {
          "CPI": 49.3,
          "NDI": 3823.9222798,
          "Pimin": 42.4,
          "Pop": 2774.0,
          "Pop16": 1965.2,
          "Price": 35.2,
          "Sales": 129.7,
          "State": 41,
          "Year": 74
         },
         {
          "CPI": 53.8,
          "NDI": 4115.5425611,
          "Pimin": 44.5,
          "Pop": 2813.0,
          "Pop16": 2010.1,
          "Price": 38.1,
          "Sales": 130.5,
          "State": 41,
          "Year": 75
         },
         {
          "CPI": 56.9,
          "NDI": 4468.7727609,
          "Pimin": 47.9,
          "Pop": 2838.0,
          "Pop16": 2043.5,
          "Price": 41.0,
          "Sales": 136.8,
          "State": 41,
          "Year": 76
         },
         {
          "CPI": 60.6,
          "NDI": 4848.7005922,
          "Pimin": 49.5,
          "Pop": 2868.0,
          "Pop16": 2079.8,
          "Price": 42.2,
          "Sales": 137.2,
          "State": 41,
          "Year": 77
         },
         {
          "CPI": 65.2,
          "NDI": 5327.2042931,
          "Pimin": 54.7,
          "Pop": 2902.0,
          "Pop16": 2118.9,
          "Price": 49.2,
          "Sales": 140.4,
          "State": 41,
          "Year": 78
         },
         {
          "CPI": 72.6,
          "NDI": 5820.0836417,
          "Pimin": 56.6,
          "Pop": 2932.0,
          "Pop16": 2151.4,
          "Price": 50.2,
          "Sales": 135.7,
          "State": 41,
          "Year": 79
         },
         {
          "CPI": 82.4,
          "NDI": 6345.8216136,
          "Pimin": 59.3,
          "Pop": 3122.0,
          "Pop16": 2308.8,
          "Price": 52.3,
          "Sales": 138.3,
          "State": 41,
          "Year": 80
         },
         {
          "CPI": 90.9,
          "NDI": 6978.350111,
          "Pimin": 62.6,
          "Pop": 3167.0,
          "Pop16": 2351.8,
          "Price": 54.7,
          "Sales": 136.1,
          "State": 41,
          "Year": 81
         },
         {
          "CPI": 96.5,
          "NDI": 7441.4513323,
          "Pimin": 67.8,
          "Pop": 3203.0,
          "Pop16": 2383.3,
          "Price": 61.9,
          "Sales": 136.0,
          "State": 41,
          "Year": 82
         },
         {
          "CPI": 99.6,
          "NDI": 8005.1820873,
          "Pimin": 78.9,
          "Pop": 3264.0,
          "Pop16": 2437.7,
          "Price": 72.4,
          "Sales": 131.1,
          "State": 41,
          "Year": 83
         },
         {
          "CPI": 103.9,
          "NDI": 8794.8158771,
          "Pimin": 86.8,
          "Pop": 3300.0,
          "Pop16": 2477.8,
          "Price": 81.3,
          "Sales": 127.0,
          "State": 41,
          "Year": 84
         },
         {
          "CPI": 107.6,
          "NDI": 9215.8169874,
          "Pimin": 90.7,
          "Pop": 3334.0,
          "Pop16": 2515.0,
          "Price": 83.0,
          "Sales": 125.4,
          "State": 41,
          "Year": 85
         },
         {
          "CPI": 109.6,
          "NDI": 9728.2061436,
          "Pimin": 100.1,
          "Pop": 3381.0,
          "Pop16": 2558.0,
          "Price": 88.7,
          "Sales": 126.6,
          "State": 41,
          "Year": 86
         },
         {
          "CPI": 113.6,
          "NDI": 10317.607698,
          "Pimin": 103.9,
          "Pop": 3425.0,
          "Pop16": 2599.0,
          "Price": 95.3,
          "Sales": 126.6,
          "State": 41,
          "Year": 87
         },
         {
          "CPI": 118.3,
          "NDI": 11098.0,
          "Pimin": 109.2,
          "Pop": 3470.0,
          "Pop16": 2636.0,
          "Price": 99.9,
          "Sales": 124.4,
          "State": 41,
          "Year": 88
         },
         {
          "CPI": 124.0,
          "NDI": 11665.0,
          "Pimin": 122.4,
          "Pop": 3512.0,
          "Pop16": 2667.0,
          "Price": 111.9,
          "Sales": 122.4,
          "State": 41,
          "Year": 89
         },
         {
          "CPI": 130.7,
          "NDI": 12880.0,
          "Pimin": 132.3,
          "Pop": 3542.5,
          "Pop16": 2690.1,
          "Price": 125.2,
          "Sales": 118.6,
          "State": 41,
          "Year": 90
         },
         {
          "CPI": 136.2,
          "NDI": 13166.0,
          "Pimin": 138.2,
          "Pop": 3616.6,
          "Pop16": 2744.6,
          "Price": 129.0,
          "Sales": 121.5,
          "State": 41,
          "Year": 91
         },
         {
          "CPI": 140.3,
          "NDI": 14318.0,
          "Pimin": 159.5,
          "Pop": 3660.3,
          "Pop16": 2780.8,
          "Price": 151.9,
          "Sales": 121.9,
          "State": 41,
          "Year": 92
         },
         {
          "CPI": 30.6,
          "NDI": 1780.9507622,
          "Pimin": 25.8,
          "Pop": 707.0,
          "Pop16": 470.7,
          "Price": 26.6,
          "Sales": 106.0,
          "State": 42,
          "Year": 63
         },
         {
          "CPI": 31.0,
          "NDI": 1785.9310496,
          "Pimin": 26.2,
          "Pop": 700.0,
          "Pop16": 467.8,
          "Price": 28.5,
          "Sales": 99.4,
          "State": 42,
          "Year": 64
         },
         {
          "CPI": 31.5,
          "NDI": 2051.878395,
          "Pimin": 26.1,
          "Pop": 686.0,
          "Pop16": 460.9,
          "Price": 28.3,
          "Sales": 98.7,
          "State": 42,
          "Year": 65
         },
         {
          "CPI": 32.4,
          "NDI": 2241.1293149,
          "Pimin": 26.5,
          "Pop": 680.0,
          "Pop16": 459.0,
          "Price": 30.5,
          "Sales": 98.8,
          "State": 42,
          "Year": 66
         },
         {
          "CPI": 33.4,
          "NDI": 2310.853338,
          "Pimin": 27.4,
          "Pop": 668.0,
          "Pop16": 455.1,
          "Price": 31.3,
          "Sales": 99.6,
          "State": 42,
          "Year": 67
         },
         {
          "CPI": 34.8,
          "NDI": 2460.261959,
          "Pimin": 32.3,
          "Pop": 665.0,
          "Pop16": 459.0,
          "Price": 32.7,
          "Sales": 100.4,
          "State": 42,
          "Year": 68
         },
         {
          "CPI": 36.7,
          "NDI": 2609.67058,
          "Pimin": 32.3,
          "Pop": 659.0,
          "Pop16": 453.1,
          "Price": 32.4,
          "Sales": 102.5,
          "State": 42,
          "Year": 69
         },
         {
          "CPI": 38.8,
          "NDI": 2819.8387069,
          "Pimin": 33.9,
          "Pop": 666.0,
          "Pop16": 470.7,
          "Price": 38.5,
          "Sales": 92.7,
          "State": 42,
          "Year": 70
         },
         {
          "CPI": 40.5,
          "NDI": 3083.7939373,
          "Pimin": 34.4,
          "Pop": 671.0,
          "Pop16": 481.4,
          "Price": 38.5,
          "Sales": 96.7,
          "State": 42,
          "Year": 71
         },
         {
          "CPI": 41.8,
          "NDI": 3536.0040301,
          "Pimin": 34.4,
          "Pop": 677.0,
          "Pop16": 491.1,
          "Price": 39.1,
          "Sales": 103.0,
          "State": 42,
          "Year": 72
         },
         {
          "CPI": 44.4,
          "NDI": 4566.923515,
          "Pimin": 34.4,
          "Pop": 679.0,
          "Pop16": 497.0,
          "Price": 39.6,
          "Sales": 103.5,
          "State": 42,
          "Year": 73
         },
         {
          "CPI": 49.3,
          "NDI": 4404.5661468,
          "Pimin": 35.8,
          "Pop": 680.0,
          "Pop16": 502.8,
          "Price": 40.4,
          "Sales": 108.4,
          "State": 42,
          "Year": 74
         },
         {
          "CPI": 53.8,
          "NDI": 4611.7461013,
          "Pimin": 38.6,
          "Pop": 682.0,
          "Pop16": 507.7,
          "Price": 42.8,
          "Sales": 113.5,
          "State": 42,
          "Year": 75
         },
         {
          "CPI": 56.9,
          "NDI": 4516.1245838,
          "Pimin": 42.6,
          "Pop": 687.0,
          "Pop16": 516.5,
          "Price": 45.0,
          "Sales": 116.7,
          "State": 42,
          "Year": 76
         },
         {
          "CPI": 60.6,
          "NDI": 5246.2347118,
          "Pimin": 43.4,
          "Pop": 690.0,
          "Pop16": 521.4,
          "Price": 46.4,
          "Sales": 115.6,
          "State": 42,
          "Year": 77
         },
         {
          "CPI": 65.2,
          "NDI": 5945.467058,
          "Pimin": 49.8,
          "Pop": 690.0,
          "Pop16": 524.3,
          "Price": 53.2,
          "Sales": 116.9,
          "State": 42,
          "Year": 78
         },
         {
          "CPI": 72.6,
          "NDI": 6671.592956,
          "Pimin": 51.7,
          "Pop": 689.0,
          "Pop16": 524.3,
          "Price": 54.1,
          "Sales": 117.4,
          "State": 42,
          "Year": 79
         },
         {
          "CPI": 82.4,
          "NDI": 6793.1119678,
          "Pimin": 55.3,
          "Pop": 691.0,
          "Pop16": 523.3,
          "Price": 58.8,
          "Sales": 114.7,
          "State": 42,
          "Year": 80
         },
         {
          "CPI": 90.9,
          "NDI": 7773.2325215,
          "Pimin": 55.9,
          "Pop": 686.0,
          "Pop16": 518.4,
          "Price": 62.3,
          "Sales": 115.7,
          "State": 42,
          "Year": 81
         },
         {
          "CPI": 96.5,
          "NDI": 8012.2863151,
          "Pimin": 64.3,
          "Pop": 691.0,
          "Pop16": 521.4,
          "Price": 68.0,
          "Sales": 113.0,
          "State": 42,
          "Year": 82
         },
         {
          "CPI": 99.6,
          "NDI": 8478.4412125,
          "Pimin": 71.0,
          "Pop": 700.0,
          "Pop16": 525.3,
          "Price": 78.8,
          "Sales": 109.8,
          "State": 42,
          "Year": 83
         },
         {
          "CPI": 103.9,
          "NDI": 9333.0585246,
          "Pimin": 81.7,
          "Pop": 706.0,
          "Pop16": 530.1,
          "Price": 89.8,
          "Sales": 105.7,
          "State": 42,
          "Year": 84
         },
         {
          "CPI": 107.6,
          "NDI": 9821.1266865,
          "Pimin": 87.4,
          "Pop": 708.0,
          "Pop16": 532.1,
          "Price": 92.3,
          "Sales": 104.4,
          "State": 42,
          "Year": 85
         },
         {
          "CPI": 109.6,
          "NDI": 10482.508849,
          "Pimin": 97.8,
          "Pop": 708.0,
          "Pop16": 534.0,
          "Price": 108.5,
          "Sales": 97.0,
          "State": 42,
          "Year": 86
         },
         {
          "CPI": 113.6,
          "NDI": 10974.561241,
          "Pimin": 102.7,
          "Pop": 709.0,
          "Pop16": 535.0,
          "Price": 113.7,
          "Sales": 95.8,
          "State": 42,
          "Year": 87
         },
         {
          "CPI": 118.3,
          "NDI": 11369.0,
          "Pimin": 112.9,
          "Pop": 713.0,
          "Pop16": 538.0,
          "Price": 124.7,
          "Sales": 91.9,
          "State": 42,
          "Year": 88
         },
         {
          "CPI": 124.0,
          "NDI": 12335.0,
          "Pimin": 118.6,
          "Pop": 715.0,
          "Pop16": 539.0,
          "Price": 130.1,
          "Sales": 87.4,
          "State": 42,
          "Year": 89
         },
         {
          "CPI": 130.7,
          "NDI": 14308.0,
          "Pimin": 129.5,
          "Pop": 714.0,
          "Pop16": 538.2,
          "Price": 138.9,
          "Sales": 88.3,
          "State": 42,
          "Year": 90
         },
         {
          "CPI": 136.2,
          "NDI": 14831.0,
          "Pimin": 127.0,
          "Pop": 721.2,
          "Pop16": 544.5,
          "Price": 150.3,
          "Sales": 91.8,
          "State": 42,
          "Year": 91
         },
         {
          "CPI": 140.3,
          "NDI": 15082.0,
          "Pimin": 155.1,
          "Pop": 729.4,
          "Pop16": 549.7,
          "Price": 160.0,
          "Sales": 93.0,
          "State": 42,
          "Year": 92
         },
         {
          "CPI": 30.6,
          "NDI": 1676.9589603,
          "Pimin": 24.1,
          "Pop": 3742.0,
          "Pop16": 2548.0,
          "Price": 26.1,
          "Sales": 110.3,
          "State": 43,
          "Year": 63
         },
         {
          "CPI": 31.0,
          "NDI": 1797.1898085,
          "Pimin": 25.0,
          "Pop": 3805.0,
          "Pop16": 2598.9,
          "Price": 29.0,
          "Sales": 105.5,
          "State": 43,
          "Year": 64
         },
         {
          "CPI": 31.5,
          "NDI": 1940.4213406,
          "Pimin": 24.5,
          "Pop": 3850.0,
          "Pop16": 2639.2,
          "Price": 28.9,
          "Sales": 108.1,
          "State": 43,
          "Year": 65
         },
         {
          "CPI": 32.4,
          "NDI": 2107.6990424,
          "Pimin": 24.7,
          "Pop": 3878.0,
          "Pop16": 2674.7,
          "Price": 29.5,
          "Sales": 109.9,
          "State": 43,
          "Year": 66
         },
         {
          "CPI": 33.4,
          "NDI": 2239.4302326,
          "Pimin": 25.0,
          "Pop": 3936.0,
          "Pop16": 2730.4,
          "Price": 29.6,
          "Sales": 111.5,
          "State": 43,
          "Year": 67
         },
         {
          "CPI": 34.8,
          "NDI": 2448.5273598,
          "Pimin": 26.3,
          "Pop": 3952.0,
          "Pop16": 2763.9,
          "Price": 32.6,
          "Sales": 109.2,
          "State": 43,
          "Year": 68
         },
         {
          "CPI": 36.7,
          "NDI": 2626.2599179,
          "Pimin": 27.0,
          "Pop": 3985.0,
          "Pop16": 2808.1,
          "Price": 32.8,
          "Sales": 107.3,
          "State": 43,
          "Year": 69
         },
         {
          "CPI": 38.8,
          "NDI": 2825.9476744,
          "Pimin": 28.3,
          "Pop": 3924.0,
          "Pop16": 2788.9,
          "Price": 39.9,
          "Sales": 99.8,
          "State": 43,
          "Year": 70
         },
         {
          "CPI": 40.5,
          "NDI": 3058.0454856,
          "Pimin": 30.1,
          "Pop": 3991.0,
          "Pop16": 2859.0,
          "Price": 41.6,
          "Sales": 106.3,
          "State": 43,
          "Year": 71
         },
         {
          "CPI": 41.8,
          "NDI": 3350.7814637,
          "Pimin": 29.9,
          "Pop": 4054.0,
          "Pop16": 2923.3,
          "Price": 41.6,
          "Sales": 111.5,
          "State": 43,
          "Year": 72
         },
         {
          "CPI": 44.4,
          "NDI": 3753.2934337,
          "Pimin": 30.1,
          "Pop": 4089.0,
          "Pop16": 2972.2,
          "Price": 40.8,
          "Sales": 109.7,
          "State": 43,
          "Year": 73
         },
         {
          "CPI": 49.3,
          "NDI": 4088.8943228,
          "Pimin": 31.3,
          "Pop": 4137.0,
          "Pop16": 3030.7,
          "Price": 42.5,
          "Sales": 114.8,
          "State": 43,
          "Year": 74
         },
         {
          "CPI": 53.8,
          "NDI": 4397.3125855,
          "Pimin": 33.3,
          "Pop": 4180.0,
          "Pop16": 3085.4,
          "Price": 45.3,
          "Sales": 117.4,
          "State": 43,
          "Year": 75
         },
         {
          "CPI": 56.9,
          "NDI": 4805.0519836,
          "Pimin": 36.0,
          "Pop": 4233.0,
          "Pop16": 3147.8,
          "Price": 48.3,
          "Sales": 121.7,
          "State": 43,
          "Year": 76
         },
         {
          "CPI": 60.6,
          "NDI": 5222.2007524,
          "Pimin": 36.9,
          "Pop": 4289.0,
          "Pop16": 3212.1,
          "Price": 49.6,
          "Sales": 124.6,
          "State": 43,
          "Year": 77
         },
         {
          "CPI": 65.2,
          "NDI": 5800.3543092,
          "Pimin": 41.4,
          "Pop": 4333.0,
          "Pop16": 3261.1,
          "Price": 54.8,
          "Sales": 127.3,
          "State": 43,
          "Year": 78
         },
         {
          "CPI": 72.6,
          "NDI": 6399.4175787,
          "Pimin": 43.4,
          "Pop": 4380.0,
          "Pop16": 3317.7,
          "Price": 57.3,
          "Sales": 127.2,
          "State": 43,
          "Year": 79
         },
         {
          "CPI": 82.4,
          "NDI": 6868.8406293,
          "Pimin": 46.3,
          "Pop": 4591.0,
          "Pop16": 3476.0,
          "Price": 60.3,
          "Sales": 130.4,
          "State": 43,
          "Year": 80
         },
         {
          "CPI": 90.9,
          "NDI": 7577.6798906,
          "Pimin": 49.4,
          "Pop": 4612.0,
          "Pop16": 3503.9,
          "Price": 63.7,
          "Sales": 129.1,
          "State": 43,
          "Year": 81
         },
         {
          "CPI": 96.5,
          "NDI": 8047.1029412,
          "Pimin": 56.3,
          "Pop": 4651.0,
          "Pop16": 3545.1,
          "Price": 68.3,
          "Sales": 131.4,
          "State": 43,
          "Year": 82
         },
         {
          "CPI": 99.6,
          "NDI": 8501.8891929,
          "Pimin": 66.4,
          "Pop": 4685.0,
          "Pop16": 3582.6,
          "Price": 79.1,
          "Sales": 129.0,
          "State": 43,
          "Year": 83
         },
         {
          "CPI": 103.9,
          "NDI": 9367.5512996,
          "Pimin": 75.4,
          "Pop": 4717.0,
          "Pop16": 3621.9,
          "Price": 88.3,
          "Sales": 125.1,
          "State": 43,
          "Year": 84
         },
         {
          "CPI": 107.6,
          "NDI": 9810.8372093,
          "Pimin": 79.3,
          "Pop": 4766.0,
          "Pop16": 3668.9,
          "Price": 92.5,
          "Sales": 128.7,
          "State": 43,
          "Year": 85
         },
         {
          "CPI": 109.6,
          "NDI": 10592.860465,
          "Pimin": 85.4,
          "Pop": 4800.0,
          "Pop16": 3709.3,
          "Price": 98.8,
          "Sales": 129.0,
          "State": 43,
          "Year": 86
         },
         {
          "CPI": 113.6,
          "NDI": 11367.565321,
          "Pimin": 90.5,
          "Pop": 4855.0,
          "Pop16": 3763.0,
          "Price": 103.5,
          "Sales": 130.6,
          "State": 43,
          "Year": 87
         },
         {
          "CPI": 118.3,
          "NDI": 12228.0,
          "Pimin": 94.4,
          "Pop": 4895.0,
          "Pop16": 3798.0,
          "Price": 112.1,
          "Sales": 125.3,
          "State": 43,
          "Year": 88
         },
         {
          "CPI": 124.0,
          "NDI": 12854.0,
          "Pimin": 103.8,
          "Pop": 4940.0,
          "Pop16": 3832.0,
          "Price": 121.5,
          "Sales": 124.7,
          "State": 43,
          "Year": 89
         },
         {
          "CPI": 130.7,
          "NDI": 13857.0,
          "Pimin": 115.6,
          "Pop": 4963.4,
          "Pop16": 3850.2,
          "Price": 135.0,
          "Sales": 121.8,
          "State": 43,
          "Year": 90
         },
         {
          "CPI": 136.2,
          "NDI": 14328.0,
          "Pimin": 120.5,
          "Pop": 5040.8,
          "Pop16": 3912.0,
          "Price": 137.4,
          "Sales": 120.6,
          "State": 43,
          "Year": 91
         },
         {
          "CPI": 140.3,
          "NDI": 15820.0,
          "Pimin": 135.8,
          "Pop": 5113.0,
          "Pop16": 3967.7,
          "Price": 163.9,
          "Sales": 121.0,
          "State": 43,
          "Year": 92
         },
         {
          "CPI": 30.6,
          "NDI": 1896.9264812,
          "Pimin": 27.0,
          "Pop": 10257.0,
          "Pop16": 6807.7,
          "Price": 29.5,
          "Sales": 113.4,
          "State": 44,
          "Year": 63
         },
         {
          "CPI": 31.0,
          "NDI": 2043.8787782,
          "Pimin": 27.3,
          "Pop": 10401.0,
          "Pop16": 6910.9,
          "Price": 29.7,
          "Sales": 110.7,
          "State": 44,
          "Year": 64
         },
         {
          "CPI": 31.5,
          "NDI": 2179.4474465,
          "Pimin": 27.2,
          "Pop": 10591.0,
          "Pop16": 7067.3,
          "Price": 29.5,
          "Sales": 120.5,
          "State": 44,
          "Year": 65
         },
         {
          "CPI": 32.4,
          "NDI": 2331.5741201,
          "Pimin": 30.0,
          "Pop": 10714.0,
          "Pop16": 7190.8,
          "Price": 33.8,
          "Sales": 106.1,
          "State": 44,
          "Year": 66
         },
         {
          "CPI": 33.4,
          "NDI": 2530.2701836,
          "Pimin": 30.4,
          "Pop": 10858.0,
          "Pop16": 7333.6,
          "Price": 34.4,
          "Sales": 109.0,
          "State": 44,
          "Year": 67
         },
         {
          "CPI": 34.8,
          "NDI": 2721.7221198,
          "Pimin": 30.9,
          "Pop": 11013.0,
          "Pop16": 7495.8,
          "Price": 34.9,
          "Sales": 108.4,
          "State": 44,
          "Year": 68
         },
         {
          "CPI": 36.7,
          "NDI": 2928.6971859,
          "Pimin": 30.9,
          "Pop": 11187.0,
          "Pop16": 7606.7,
          "Price": 34.4,
          "Sales": 111.3,
          "State": 44,
          "Year": 69
         },
         {
          "CPI": 38.8,
          "NDI": 3185.3462679,
          "Pimin": 34.3,
          "Pop": 11196.0,
          "Pop16": 7817.1,
          "Price": 40.4,
          "Sales": 106.4,
          "State": 44,
          "Year": 70
         },
         {
          "CPI": 40.5,
          "NDI": 3350.9263209,
          "Pimin": 38.8,
          "Pop": 11445.0,
          "Pop16": 8056.5,
          "Price": 42.0,
          "Sales": 108.9,
          "State": 44,
          "Year": 71
         },
         {
          "CPI": 41.8,
          "NDI": 3570.319891,
          "Pimin": 39.8,
          "Pop": 11644.0,
          "Pop16": 8261.1,
          "Price": 46.9,
          "Sales": 108.6,
          "State": 44,
          "Year": 72
         },
         {
          "CPI": 44.4,
          "NDI": 4029.8045378,
          "Pimin": 39.9,
          "Pop": 11853.0,
          "Pop16": 8474.4,
          "Price": 46.4,
          "Sales": 110.4,
          "State": 44,
          "Year": 73
         },
         {
          "CPI": 49.3,
          "NDI": 4427.1966648,
          "Pimin": 41.0,
          "Pop": 12049.0,
          "Pop16": 8682.8,
          "Price": 47.5,
          "Sales": 114.7,
          "State": 44,
          "Year": 74
         },
         {
          "CPI": 53.8,
          "NDI": 4954.9830835,
          "Pimin": 43.6,
          "Pop": 12293.0,
          "Pop16": 8926.0,
          "Price": 50.6,
          "Sales": 116.0,
          "State": 44,
          "Year": 75
         },
         {
          "CPI": 56.9,
          "NDI": 5447.5837409,
          "Pimin": 46.4,
          "Pop": 12571.0,
          "Pop16": 9194.3,
          "Price": 53.3,
          "Sales": 121.4,
          "State": 44,
          "Year": 76
         },
         {
          "CPI": 60.6,
          "NDI": 5970.1957829,
          "Pimin": 47.9,
          "Pop": 12801.0,
          "Pop16": 9419.2,
          "Price": 53.3,
          "Sales": 124.2,
          "State": 44,
          "Year": 77
         },
         {
          "CPI": 65.2,
          "NDI": 6739.1081536,
          "Pimin": 53.1,
          "Pop": 13047.0,
          "Pop16": 9646.0,
          "Price": 59.1,
          "Sales": 126.6,
          "State": 44,
          "Year": 78
         },
         {
          "CPI": 72.6,
          "NDI": 7525.613405,
          "Pimin": 55.5,
          "Pop": 13380.0,
          "Pop16": 9924.9,
          "Price": 62.2,
          "Sales": 126.4,
          "State": 44,
          "Year": 79
         },
         {
          "CPI": 82.4,
          "NDI": 8363.8624228,
          "Pimin": 60.0,
          "Pop": 14228.0,
          "Pop16": 10564.7,
          "Price": 63.7,
          "Sales": 129.7,
          "State": 44,
          "Year": 80
         },
         {
          "CPI": 90.9,
          "NDI": 9404.9470055,
          "Pimin": 62.6,
          "Pop": 14766.0,
          "Pop16": 10960.4,
          "Price": 66.9,
          "Sales": 129.0,
          "State": 44,
          "Year": 81
         },
         {
          "CPI": 96.5,
          "NDI": 9983.4423154,
          "Pimin": 69.4,
          "Pop": 15280.0,
          "Pop16": 11331.9,
          "Price": 73.8,
          "Sales": 131.2,
          "State": 44,
          "Year": 82
         },
         {
          "CPI": 99.6,
          "NDI": 10367.381063,
          "Pimin": 79.6,
          "Pop": 15724.0,
          "Pop16": 11655.2,
          "Price": 84.1,
          "Sales": 126.4,
          "State": 44,
          "Year": 83
         },
         {
          "CPI": 103.9,
          "NDI": 11138.363184,
          "Pimin": 90.2,
          "Pop": 15989.0,
          "Pop16": 11856.9,
          "Price": 93.8,
          "Sales": 117.2,
          "State": 44,
          "Year": 84
         },
         {
          "CPI": 107.6,
          "NDI": 11755.148882,
          "Pimin": 95.1,
          "Pop": 16389.0,
          "Pop16": 12077.0,
          "Price": 102.1,
          "Sales": 115.9,
          "State": 44,
          "Year": 85
         },
         {
          "CPI": 109.6,
          "NDI": 11910.380181,
          "Pimin": 101.2,
          "Pop": 16689.0,
          "Pop16": 12300.9,
          "Price": 105.5,
          "Sales": 113.7,
          "State": 44,
          "Year": 86
         },
         {
          "CPI": 113.6,
          "NDI": 12184.622144,
          "Pimin": 110.2,
          "Pop": 16789.0,
          "Pop16": 12353.0,
          "Price": 114.4,
          "Sales": 105.8,
          "State": 44,
          "Year": 87
         },
         {
          "CPI": 118.3,
          "NDI": 12908.0,
          "Pimin": 113.7,
          "Pop": 16841.0,
          "Pop16": 12390.0,
          "Price": 128.0,
          "Sales": 96.5,
          "State": 44,
          "Year": 88
         },
         {
          "CPI": 124.0,
          "NDI": 13687.0,
          "Pimin": 127.2,
          "Pop": 16991.0,
          "Pop16": 12545.0,
          "Price": 137.0,
          "Sales": 94.5,
          "State": 44,
          "Year": 89
         },
         {
          "CPI": 130.7,
          "NDI": 14590.0,
          "Pimin": 133.6,
          "Pop": 17173.0,
          "Pop16": 12679.4,
          "Price": 145.7,
          "Sales": 85.6,
          "State": 44,
          "Year": 90
         },
         {
          "CPI": 136.2,
          "NDI": 15187.0,
          "Pimin": 146.5,
          "Pop": 17538.9,
          "Pop16": 12913.8,
          "Price": 173.6,
          "Sales": 79.6,
          "State": 44,
          "Year": 91
         },
         {
          "CPI": 140.3,
          "NDI": 15965.0,
          "Pimin": 165.4,
          "Pop": 17849.3,
          "Pop16": 13123.2,
          "Price": 186.0,
          "Sales": 77.2,
          "State": 44,
          "Year": 92
         },
         {
          "CPI": 30.6,
          "NDI": 2060.7057057,
          "Pimin": 23.9,
          "Pop": 973.0,
          "Pop16": 592.0,
          "Price": 24.9,
          "Sales": 72.0,
          "State": 45,
          "Year": 63
         },
         {
          "CPI": 31.0,
          "NDI": 2181.1711712,
          "Pimin": 24.0,
          "Pop": 977.0,
          "Pop16": 594.8,
          "Price": 29.4,
          "Sales": 62.3,
          "State": 45,
          "Year": 64
         },
         {
          "CPI": 31.5,
          "NDI": 2282.4474474,
          "Pimin": 24.2,
          "Pop": 994.0,
          "Pop16": 609.9,
          "Price": 29.7,
          "Sales": 65.0,
          "State": 45,
          "Year": 65
         },
         {
          "CPI": 32.4,
          "NDI": 2365.6006006,
          "Pimin": 26.5,
          "Pop": 1010.0,
          "Pop16": 624.9,
          "Price": 30.8,
          "Sales": 65.7,
          "State": 45,
          "Year": 66
         },
         {
          "CPI": 33.4,
          "NDI": 2454.0840841,
          "Pimin": 27.4,
          "Pop": 1022.0,
          "Pop16": 637.1,
          "Price": 31.5,
          "Sales": 64.3,
          "State": 45,
          "Year": 67
         },
         {
          "CPI": 34.8,
          "NDI": 2573.4834835,
          "Pimin": 31.3,
          "Pop": 1031.0,
          "Pop16": 649.4,
          "Price": 32.3,
          "Sales": 64.3,
          "State": 45,
          "Year": 68
         },
         {
          "CPI": 36.7,
          "NDI": 2706.7417417,
          "Pimin": 31.9,
          "Pop": 1045.0,
          "Pop16": 644.7,
          "Price": 33.3,
          "Sales": 65.6,
          "State": 45,
          "Year": 69
         },
         {
          "CPI": 38.8,
          "NDI": 2975.3903904,
          "Pimin": 33.8,
          "Pop": 1059.0,
          "Pop16": 686.9,
          "Price": 34.6,
          "Sales": 65.5,
          "State": 45,
          "Year": 70
         },
         {
          "CPI": 40.5,
          "NDI": 3192.8678679,
          "Pimin": 33.6,
          "Pop": 1094.0,
          "Pop16": 716.1,
          "Price": 36.6,
          "Sales": 67.7,
          "State": 45,
          "Year": 71
         },
         {
          "CPI": 41.8,
          "NDI": 3449.7897898,
          "Pimin": 33.7,
          "Pop": 1123.0,
          "Pop16": 740.5,
          "Price": 37.2,
          "Sales": 71.3,
          "State": 45,
          "Year": 72
         },
         {
          "CPI": 44.4,
          "NDI": 3757.8828829,
          "Pimin": 34.4,
          "Pop": 1152.0,
          "Pop16": 764.9,
          "Price": 36.5,
          "Sales": 72.7,
          "State": 45,
          "Year": 73
         },
         {
          "CPI": 49.3,
          "NDI": 4094.7597598,
          "Pimin": 35.8,
          "Pop": 1177.0,
          "Pop16": 784.7,
          "Price": 37.8,
          "Sales": 75.6,
          "State": 45,
          "Year": 74
         },
         {
          "CPI": 53.8,
          "NDI": 4488.1381381,
          "Pimin": 38.6,
          "Pop": 1206.0,
          "Pop16": 806.3,
          "Price": 40.5,
          "Sales": 75.8,
          "State": 45,
          "Year": 75
         },
         {
          "CPI": 56.9,
          "NDI": 4868.7237237,
          "Pimin": 42.5,
          "Pop": 1239.0,
          "Pop16": 828.8,
          "Price": 43.4,
          "Sales": 77.9,
          "State": 45,
          "Year": 76
         },
         {
          "CPI": 60.6,
          "NDI": 5311.1411411,
          "Pimin": 43.4,
          "Pop": 1276.0,
          "Pop16": 852.3,
          "Price": 44.7,
          "Sales": 78.0,
          "State": 45,
          "Year": 77
         },
         {
          "CPI": 65.2,
          "NDI": 5899.6096096,
          "Pimin": 49.8,
          "Pop": 1317.0,
          "Pop16": 875.8,
          "Price": 49.5,
          "Sales": 79.6,
          "State": 45,
          "Year": 78
         },
         {
          "CPI": 72.6,
          "NDI": 6426.2462462,
          "Pimin": 51.7,
          "Pop": 1367.0,
          "Pop16": 904.0,
          "Price": 53.7,
          "Sales": 79.1,
          "State": 45,
          "Year": 79
         },
         {
          "CPI": 82.4,
          "NDI": 6981.6666667,
          "Pimin": 55.3,
          "Pop": 1461.0,
          "Pop16": 961.3,
          "Price": 57.2,
          "Sales": 74.8,
          "State": 45,
          "Year": 80
         },
         {
          "CPI": 90.9,
          "NDI": 7545.6156156,
          "Pimin": 55.9,
          "Pop": 1518.0,
          "Pop16": 991.4,
          "Price": 62.7,
          "Sales": 77.6,
          "State": 45,
          "Year": 81
         },
         {
          "CPI": 96.5,
          "NDI": 7796.1411411,
          "Pimin": 64.3,
          "Pop": 1554.0,
          "Pop16": 1009.3,
          "Price": 68.1,
          "Sales": 73.6,
          "State": 45,
          "Year": 82
         },
         {
          "CPI": 99.6,
          "NDI": 8251.3513514,
          "Pimin": 71.0,
          "Pop": 1619.0,
          "Pop16": 1045.9,
          "Price": 82.0,
          "Sales": 69.0,
          "State": 45,
          "Year": 83
         },
         {
          "CPI": 103.9,
          "NDI": 8831.2912913,
          "Pimin": 81.7,
          "Pop": 1652.0,
          "Pop16": 1065.7,
          "Price": 95.3,
          "Sales": 66.3,
          "State": 45,
          "Year": 84
         },
         {
          "CPI": 107.6,
          "NDI": 9230.0,
          "Pimin": 87.4,
          "Pop": 1644.0,
          "Pop16": 1081.6,
          "Price": 104.6,
          "Sales": 66.5,
          "State": 45,
          "Year": 85
         },
         {
          "CPI": 109.6,
          "NDI": 9647.8978979,
          "Pimin": 97.8,
          "Pop": 1664.0,
          "Pop16": 1099.5,
          "Price": 103.5,
          "Sales": 64.4,
          "State": 45,
          "Year": 86
         },
         {
          "CPI": 113.6,
          "NDI": 10035.945946,
          "Pimin": 102.7,
          "Pop": 1680.0,
          "Pop16": 1107.0,
          "Price": 108.6,
          "Sales": 67.7,
          "State": 45,
          "Year": 87
         },
         {
          "CPI": 118.3,
          "NDI": 10650.0,
          "Pimin": 112.9,
          "Pop": 1690.0,
          "Pop16": 1116.0,
          "Price": 122.9,
          "Sales": 55.0,
          "State": 45,
          "Year": 88
         },
         {
          "CPI": 124.0,
          "NDI": 11425.0,
          "Pimin": 118.6,
          "Pop": 1707.0,
          "Pop16": 1131.0,
          "Price": 135.6,
          "Sales": 57.0,
          "State": 45,
          "Year": 89
         },
         {
          "CPI": 130.7,
          "NDI": 12012.0,
          "Pimin": 129.5,
          "Pop": 1724.0,
          "Pop16": 1142.3,
          "Price": 151.9,
          "Sales": 53.4,
          "State": 45,
          "Year": 90
         },
         {
          "CPI": 136.2,
          "NDI": 12492.0,
          "Pimin": 127.0,
          "Pop": 1771.0,
          "Pop16": 1178.9,
          "Price": 167.1,
          "Sales": 53.5,
          "State": 45,
          "Year": 91
         },
         {
          "CPI": 140.3,
          "NDI": 13355.0,
          "Pimin": 155.1,
          "Pop": 1814.1,
          "Pop16": 1214.5,
          "Price": 170.1,
          "Sales": 55.0,
          "State": 45,
          "Year": 92
         },
         {
          "CPI": 30.6,
          "NDI": 2042.5026784,
          "Pimin": 24.2,
          "Pop": 397.0,
          "Pop16": 269.5,
          "Price": 28.2,
          "Sales": 133.5,
          "State": 46,
          "Year": 63
         },
         {
          "CPI": 31.0,
          "NDI": 2188.8007603,
          "Pimin": 24.7,
          "Pop": 399.0,
          "Pop16": 272.4,
          "Price": 29.3,
          "Sales": 129.1,
          "State": 46,
          "Year": 64
         },
         {
          "CPI": 31.5,
          "NDI": 2400.8762744,
          "Pimin": 24.7,
          "Pop": 404.0,
          "Pop16": 276.3,
          "Price": 29.4,
          "Sales": 122.9,
          "State": 46,
          "Year": 65
         },
         {
          "CPI": 32.4,
          "NDI": 2634.499568,
          "Pimin": 25.9,
          "Pop": 410.0,
          "Pop16": 282.0,
          "Price": 32.5,
          "Sales": 130.4,
          "State": 46,
          "Year": 66
         },
         {
          "CPI": 33.4,
          "NDI": 2786.4681182,
          "Pimin": 26.5,
          "Pop": 420.0,
          "Pop16": 289.8,
          "Price": 31.8,
          "Sales": 127.4,
          "State": 46,
          "Year": 67
         },
         {
          "CPI": 34.8,
          "NDI": 2990.6049767,
          "Pimin": 29.9,
          "Pop": 429.0,
          "Pop16": 298.5,
          "Price": 33.9,
          "Sales": 128.8,
          "State": 46,
          "Year": 68
         },
         {
          "CPI": 36.7,
          "NDI": 3161.8531191,
          "Pimin": 29.9,
          "Pop": 439.0,
          "Pop16": 307.2,
          "Price": 34.2,
          "Sales": 134.6,
          "State": 46,
          "Year": 69
         },
         {
          "CPI": 38.8,
          "NDI": 3393.2082253,
          "Pimin": 31.4,
          "Pop": 444.0,
          "Pop16": 311.0,
          "Price": 37.7,
          "Sales": 122.6,
          "State": 46,
          "Year": 70
         },
         {
          "CPI": 40.5,
          "NDI": 3668.7929843,
          "Pimin": 34.1,
          "Pop": 453.0,
          "Pop16": 319.7,
          "Price": 39.5,
          "Sales": 124.4,
          "State": 46,
          "Year": 71
         },
         {
          "CPI": 41.8,
          "NDI": 3778.8000691,
          "Pimin": 36.1,
          "Pop": 460.0,
          "Pop16": 327.4,
          "Price": 40.0,
          "Sales": 138.0,
          "State": 46,
          "Year": 72
         },
         {
          "CPI": 44.4,
          "NDI": 4167.7941939,
          "Pimin": 36.9,
          "Pop": 464.0,
          "Pop16": 333.2,
          "Price": 39.8,
          "Sales": 146.8,
          "State": 46,
          "Year": 73
         },
         {
          "CPI": 49.3,
          "NDI": 4485.3404182,
          "Pimin": 37.9,
          "Pop": 468.0,
          "Pop16": 339.0,
          "Price": 41.3,
          "Sales": 151.8,
          "State": 46,
          "Year": 74
         },
         {
          "CPI": 53.8,
          "NDI": 4816.4957664,
          "Pimin": 40.8,
          "Pop": 473.0,
          "Pop16": 346.8,
          "Price": 41.8,
          "Sales": 155.5,
          "State": 46,
          "Year": 75
         },
         {
          "CPI": 56.9,
          "NDI": 5304.1560394,
          "Pimin": 43.9,
          "Pop": 477.0,
          "Pop16": 353.5,
          "Price": 47.1,
          "Sales": 171.1,
          "State": 46,
          "Year": 76
         },
         {
          "CPI": 60.6,
          "NDI": 5630.775013,
          "Pimin": 45.0,
          "Pop": 483.0,
          "Pop16": 360.3,
          "Price": 47.0,
          "Sales": 169.4,
          "State": 46,
          "Year": 77
         },
         {
          "CPI": 65.2,
          "NDI": 6338.4494557,
          "Pimin": 49.7,
          "Pop": 487.0,
          "Pop16": 367.0,
          "Price": 52.5,
          "Sales": 162.4,
          "State": 46,
          "Year": 78
         },
         {
          "CPI": 72.6,
          "NDI": 6920.2395023,
          "Pimin": 53.2,
          "Pop": 493.0,
          "Pop16": 373.8,
          "Price": 54.8,
          "Sales": 160.9,
          "State": 46,
          "Year": 79
         },
         {
          "CPI": 82.4,
          "NDI": 7519.0409539,
          "Pimin": 55.3,
          "Pop": 511.0,
          "Pop16": 390.2,
          "Price": 58.9,
          "Sales": 161.6,
          "State": 46,
          "Year": 80
         },
         {
          "CPI": 90.9,
          "NDI": 8392.2930707,
          "Pimin": 58.4,
          "Pop": 516.0,
          "Pop16": 395.1,
          "Price": 61.0,
          "Sales": 163.8,
          "State": 46,
          "Year": 81
         },
         {
          "CPI": 96.5,
          "NDI": 9596.7005357,
          "Pimin": 67.0,
          "Pop": 516.0,
          "Pop16": 396.0,
          "Price": 66.8,
          "Sales": 162.3,
          "State": 46,
          "Year": 82
         },
         {
          "CPI": 99.6,
          "NDI": 9335.8589943,
          "Pimin": 74.7,
          "Pop": 525.0,
          "Pop16": 404.7,
          "Price": 77.0,
          "Sales": 153.8,
          "State": 46,
          "Year": 83
         },
         {
          "CPI": 103.9,
          "NDI": 10134.26093,
          "Pimin": 90.5,
          "Pop": 530.0,
          "Pop16": 407.6,
          "Price": 90.6,
          "Sales": 144.3,
          "State": 46,
          "Year": 84
         },
         {
          "CPI": 107.6,
          "NDI": 10719.453257,
          "Pimin": 89.2,
          "Pop": 535.0,
          "Pop16": 413.4,
          "Price": 95.5,
          "Sales": 144.5,
          "State": 46,
          "Year": 85
         },
         {
          "CPI": 109.6,
          "NDI": 11288.768274,
          "Pimin": 100.0,
          "Pop": 541.0,
          "Pop16": 419.2,
          "Price": 104.9,
          "Sales": 131.2,
          "State": 46,
          "Year": 86
         },
         {
          "CPI": 113.6,
          "NDI": 12070.158804,
          "Pimin": 102.0,
          "Pop": 548.0,
          "Pop16": 425.0,
          "Price": 113.8,
          "Sales": 128.3,
          "State": 46,
          "Year": 87
         },
         {
          "CPI": 118.3,
          "NDI": 13126.0,
          "Pimin": 113.5,
          "Pop": 557.0,
          "Pop16": 433.0,
          "Price": 123.7,
          "Sales": 128.7,
          "State": 46,
          "Year": 88
         },
         {
          "CPI": 124.0,
          "NDI": 13945.0,
          "Pimin": 125.9,
          "Pop": 567.0,
          "Pop16": 441.0,
          "Price": 129.7,
          "Sales": 120.9,
          "State": 46,
          "Year": 89
         },
         {
          "CPI": 130.7,
          "NDI": 14896.0,
          "Pimin": 135.9,
          "Pop": 572.1,
          "Pop16": 445.0,
          "Price": 143.7,
          "Sales": 124.3,
          "State": 46,
          "Year": 90
         },
         {
          "CPI": 136.2,
          "NDI": 15121.0,
          "Pimin": 153.9,
          "Pop": 576.1,
          "Pop16": 447.0,
          "Price": 150.1,
          "Sales": 120.9,
          "State": 46,
          "Year": 91
         },
         {
          "CPI": 140.3,
          "NDI": 16640.0,
          "Pimin": 164.4,
          "Pop": 579.2,
          "Pop16": 452.1,
          "Price": 168.0,
          "Sales": 126.5,
          "State": 46,
          "Year": 92
         },
         {
          "CPI": 30.6,
          "NDI": 1936.0331153,
          "Pimin": 23.4,
          "Pop": 4288.0,
          "Pop16": 2899.7,
          "Price": 24.7,
          "Sales": 122.8,
          "State": 47,
          "Year": 63
         },
         {
          "CPI": 31.0,
          "NDI": 2134.439961,
          "Pimin": 23.9,
          "Pop": 4371.0,
          "Pop16": 2962.3,
          "Price": 25.2,
          "Sales": 118.5,
          "State": 47,
          "Year": 64
         },
         {
          "CPI": 31.5,
          "NDI": 2267.0592737,
          "Pimin": 24.1,
          "Pop": 4420.0,
          "Pop16": 3001.8,
          "Price": 25.1,
          "Sales": 123.3,
          "State": 47,
          "Year": 65
         },
         {
          "CPI": 32.4,
          "NDI": 2404.8998191,
          "Pimin": 24.1,
          "Pop": 4481.0,
          "Pop16": 3056.7,
          "Price": 24.7,
          "Sales": 120.2,
          "State": 47,
          "Year": 66
         },
         {
          "CPI": 33.4,
          "NDI": 2580.3332406,
          "Pimin": 25.0,
          "Pop": 4541.0,
          "Pop16": 3119.3,
          "Price": 26.3,
          "Sales": 120.9,
          "State": 47,
          "Year": 67
         },
         {
          "CPI": 34.8,
          "NDI": 2794.4037846,
          "Pimin": 26.3,
          "Pop": 4604.0,
          "Pop16": 3182.0,
          "Price": 27.1,
          "Sales": 122.8,
          "State": 47,
          "Year": 68
         },
         {
          "CPI": 36.7,
          "NDI": 3024.138027,
          "Pimin": 27.0,
          "Pop": 4669.0,
          "Pop16": 3251.3,
          "Price": 28.3,
          "Sales": 123.9,
          "State": 47,
          "Year": 69
         },
         {
          "CPI": 38.8,
          "NDI": 3284.1554195,
          "Pimin": 28.3,
          "Pop": 4648.0,
          "Pop16": 3292.8,
          "Price": 28.8,
          "Sales": 124.3,
          "State": 47,
          "Year": 70
         },
         {
          "CPI": 40.5,
          "NDI": 3562.96925,
          "Pimin": 30.1,
          "Pop": 4736.0,
          "Pop16": 3383.3,
          "Price": 30.2,
          "Sales": 128.4,
          "State": 47,
          "Year": 71
         },
         {
          "CPI": 41.8,
          "NDI": 3840.738834,
          "Pimin": 30.6,
          "Pop": 4799.0,
          "Pop16": 3456.5,
          "Price": 29.9,
          "Sales": 137.0,
          "State": 47,
          "Year": 72
         },
         {
          "CPI": 44.4,
          "NDI": 4290.8090998,
          "Pimin": 30.6,
          "Pop": 4865.0,
          "Pop16": 3538.4,
          "Price": 30.1,
          "Sales": 143.1,
          "State": 47,
          "Year": 73
         },
         {
          "CPI": 49.3,
          "NDI": 4677.1803256,
          "Pimin": 31.5,
          "Pop": 4924.0,
          "Pop16": 3616.4,
          "Price": 31.3,
          "Sales": 149.6,
          "State": 47,
          "Year": 74
         },
         {
          "CPI": 53.8,
          "NDI": 5154.4010018,
          "Pimin": 33.3,
          "Pop": 4989.0,
          "Pop16": 3701.2,
          "Price": 33.6,
          "Sales": 152.7,
          "State": 47,
          "Year": 75
         },
         {
          "CPI": 56.9,
          "NDI": 5570.0111312,
          "Pimin": 36.0,
          "Pop": 5052.0,
          "Pop16": 3784.1,
          "Price": 37.9,
          "Sales": 158.1,
          "State": 47,
          "Year": 76
         },
         {
          "CPI": 60.6,
          "NDI": 6093.1786559,
          "Pimin": 36.9,
          "Pop": 5112.0,
          "Pop16": 3865.0,
          "Price": 38.4,
          "Sales": 157.7,
          "State": 47,
          "Year": 77
         },
         {
          "CPI": 65.2,
          "NDI": 6684.2222068,
          "Pimin": 41.4,
          "Pop": 5177.0,
          "Pop16": 3566.3,
          "Price": 42.8,
          "Sales": 155.9,
          "State": 47,
          "Year": 78
         },
         {
          "CPI": 72.6,
          "NDI": 7396.3983581,
          "Pimin": 43.4,
          "Pop": 5197.0,
          "Pop16": 3993.1,
          "Price": 45.8,
          "Sales": 151.8,
          "State": 47,
          "Year": 79
         },
         {
          "CPI": 82.4,
          "NDI": 8230.7513566,
          "Pimin": 46.3,
          "Pop": 5346.0,
          "Pop16": 4100.0,
          "Price": 48.5,
          "Sales": 148.9,
          "State": 47,
          "Year": 80
         },
         {
          "CPI": 90.9,
          "NDI": 9028.5557256,
          "Pimin": 49.4,
          "Pop": 5430.0,
          "Pop16": 4187.7,
          "Price": 51.8,
          "Sales": 149.9,
          "State": 47,
          "Year": 81
         },
         {
          "CPI": 96.5,
          "NDI": 9754.3070822,
          "Pimin": 56.3,
          "Pop": 5491.0,
          "Pop16": 4247.4,
          "Price": 56.4,
          "Sales": 147.4,
          "State": 47,
          "Year": 82
         },
         {
          "CPI": 99.6,
          "NDI": 10561.50967,
          "Pimin": 66.4,
          "Pop": 5550.0,
          "Pop16": 4310.1,
          "Price": 68.8,
          "Sales": 144.7,
          "State": 47,
          "Year": 83
         },
         {
          "CPI": 103.9,
          "NDI": 11529.526228,
          "Pimin": 75.4,
          "Pop": 5636.0,
          "Pop16": 4391.0,
          "Price": 76.0,
          "Sales": 136.8,
          "State": 47,
          "Year": 84
         },
         {
          "CPI": 107.6,
          "NDI": 12246.923612,
          "Pimin": 79.3,
          "Pop": 5701.0,
          "Pop16": 4453.6,
          "Price": 83.6,
          "Sales": 134.6,
          "State": 47,
          "Year": 85
         },
         {
          "CPI": 109.6,
          "NDI": 13127.223459,
          "Pimin": 85.4,
          "Pop": 5795.0,
          "Pop16": 4540.3,
          "Price": 91.3,
          "Sales": 135.8,
          "State": 47,
          "Year": 86
         },
         {
          "CPI": 113.6,
          "NDI": 13942.780019,
          "Pimin": 90.5,
          "Pop": 5904.0,
          "Pop16": 4627.0,
          "Price": 94.6,
          "Sales": 133.0,
          "State": 47,
          "Year": 87
         },
         {
          "CPI": 118.3,
          "NDI": 15010.0,
          "Pimin": 94.4,
          "Pop": 6015.0,
          "Pop16": 4725.0,
          "Price": 102.1,
          "Sales": 129.5,
          "State": 47,
          "Year": 88
         },
         {
          "CPI": 124.0,
          "NDI": 15936.0,
          "Pimin": 103.8,
          "Pop": 6098.0,
          "Pop16": 4782.0,
          "Price": 109.4,
          "Sales": 122.5,
          "State": 47,
          "Year": 89
         },
         {
          "CPI": 130.7,
          "NDI": 16698.0,
          "Pimin": 115.6,
          "Pop": 6164.8,
          "Pop16": 4834.4,
          "Price": 128.6,
          "Sales": 118.9,
          "State": 47,
          "Year": 90
         },
         {
          "CPI": 136.2,
          "NDI": 17038.0,
          "Pimin": 120.5,
          "Pop": 6263.4,
          "Pop16": 4898.2,
          "Price": 136.5,
          "Sales": 109.1,
          "State": 47,
          "Year": 91
         },
         {
          "CPI": 140.3,
          "NDI": 18010.0,
          "Pimin": 135.8,
          "Pop": 6354.1,
          "Pop16": 4965.1,
          "Price": 157.9,
          "Sales": 108.2,
          "State": 47,
          "Year": 92
         },
         {
          "CPI": 30.6,
          "NDI": 2409.3326822,
          "Pimin": 28.0,
          "Pop": 2961.0,
          "Pop16": 2030.7,
          "Price": 30.1,
          "Sales": 99.1,
          "State": 48,
          "Year": 63
         },
         {
          "CPI": 31.0,
          "NDI": 2569.1936184,
          "Pimin": 29.4,
          "Pop": 2971.0,
          "Pop16": 2045.2,
          "Price": 29.9,
          "Sales": 95.4,
          "State": 48,
          "Year": 64
         },
         {
          "CPI": 31.5,
          "NDI": 2764.3485276,
          "Pimin": 29.1,
          "Pop": 2973.0,
          "Pop16": 2057.8,
          "Price": 30.0,
          "Sales": 98.3,
          "State": 48,
          "Year": 65
         },
         {
          "CPI": 32.4,
          "NDI": 3003.101874,
          "Pimin": 29.8,
          "Pop": 3074.0,
          "Pop16": 2140.0,
          "Price": 34.7,
          "Sales": 86.9,
          "State": 48,
          "Year": 66
         },
         {
          "CPI": 33.4,
          "NDI": 3143.2397077,
          "Pimin": 30.1,
          "Pop": 3208.0,
          "Pop16": 2250.3,
          "Price": 35.0,
          "Sales": 99.7,
          "State": 48,
          "Year": 67
         },
         {
          "CPI": 34.8,
          "NDI": 3363.3080096,
          "Pimin": 32.0,
          "Pop": 3296.0,
          "Pop16": 2333.5,
          "Price": 37.1,
          "Sales": 101.5,
          "State": 48,
          "Year": 68
         },
         {
          "CPI": 36.7,
          "NDI": 3529.397294,
          "Pimin": 31.9,
          "Pop": 3402.0,
          "Pop16": 2421.5,
          "Price": 37.6,
          "Sales": 100.2,
          "State": 48,
          "Year": 69
         },
         {
          "CPI": 38.8,
          "NDI": 3664.3448376,
          "Pimin": 33.8,
          "Pop": 3409.0,
          "Pop16": 2438.0,
          "Price": 38.7,
          "Sales": 96.7,
          "State": 48,
          "Year": 70
         },
         {
          "CPI": 40.5,
          "NDI": 3829.396064,
          "Pimin": 33.6,
          "Pop": 3433.0,
          "Pop16": 2477.6,
          "Price": 40.3,
          "Sales": 97.0,
          "State": 48,
          "Year": 71
         },
         {
          "CPI": 41.8,
          "NDI": 4072.3016424,
          "Pimin": 33.7,
          "Pop": 3423.0,
          "Pop16": 2489.2,
          "Price": 46.1,
          "Sales": 88.5,
          "State": 48,
          "Year": 72
         },
         {
          "CPI": 44.4,
          "NDI": 4593.4067723,
          "Pimin": 36.3,
          "Pop": 3443.0,
          "Pop16": 2528.9,
          "Price": 45.9,
          "Sales": 91.0,
          "State": 48,
          "Year": 73
         },
         {
          "CPI": 49.3,
          "NDI": 5079.2179292,
          "Pimin": 38.0,
          "Pop": 3503.0,
          "Pop16": 2597.6,
          "Price": 46.9,
          "Sales": 98.6,
          "State": 48,
          "Year": 74
         },
         {
          "CPI": 53.8,
          "NDI": 5631.4647999,
          "Pimin": 40.3,
          "Pop": 3563.0,
          "Pop16": 2667.3,
          "Price": 49.0,
          "Sales": 99.5,
          "State": 48,
          "Year": 75
         },
         {
          "CPI": 56.9,
          "NDI": 6166.0646842,
          "Pimin": 42.5,
          "Pop": 3623.0,
          "Pop16": 2735.0,
          "Price": 53.0,
          "Sales": 100.3,
          "State": 48,
          "Year": 76
         },
         {
          "CPI": 60.6,
          "NDI": 6674.7131177,
          "Pimin": 45.6,
          "Pop": 3693.0,
          "Pop16": 2806.6,
          "Price": 53.7,
          "Sales": 99.3,
          "State": 48,
          "Year": 77
         },
         {
          "CPI": 65.2,
          "NDI": 7521.7684683,
          "Pimin": 51.5,
          "Pop": 3793.0,
          "Pop16": 2899.4,
          "Price": 58.6,
          "Sales": 101.3,
          "State": 48,
          "Year": 78
         },
         {
          "CPI": 72.6,
          "NDI": 8311.7306273,
          "Pimin": 55.4,
          "Pop": 3926.0,
          "Pop16": 3014.6,
          "Price": 61.6,
          "Sales": 101.4,
          "State": 48,
          "Year": 79
         },
         {
          "CPI": 82.4,
          "NDI": 9105.8450185,
          "Pimin": 56.4,
          "Pop": 4132.0,
          "Pop16": 3165.5,
          "Price": 63.8,
          "Sales": 101.4,
          "State": 48,
          "Year": 80
         },
         {
          "CPI": 90.9,
          "NDI": 9940.4436727,
          "Pimin": 59.2,
          "Pop": 4217.0,
          "Pop16": 3233.2,
          "Price": 66.6,
          "Sales": 112.7,
          "State": 48,
          "Year": 81
         },
         {
          "CPI": 96.5,
          "NDI": 10492.690543,
          "Pimin": 67.6,
          "Pop": 4245.0,
          "Pop16": 3252.6,
          "Price": 80.3,
          "Sales": 106.6,
          "State": 48,
          "Year": 82
         },
         {
          "CPI": 99.6,
          "NDI": 11018.985963,
          "Pimin": 76.5,
          "Pop": 4300.0,
          "Pop16": 3299.0,
          "Price": 93.1,
          "Sales": 102.4,
          "State": 48,
          "Year": 83
         },
         {
          "CPI": 103.9,
          "NDI": 11805.833948,
          "Pimin": 88.5,
          "Pop": 4349.0,
          "Pop16": 3345.4,
          "Price": 105.9,
          "Sales": 96.2,
          "State": 48,
          "Year": 84
         },
         {
          "CPI": 107.6,
          "NDI": 12336.2816,
          "Pimin": 97.6,
          "Pop": 4406.0,
          "Pop16": 3394.8,
          "Price": 114.4,
          "Sales": 96.5,
          "State": 48,
          "Year": 85
         },
         {
          "CPI": 109.6,
          "NDI": 12946.659721,
          "Pimin": 99.9,
          "Pop": 4463.0,
          "Pop16": 3450.9,
          "Price": 125.7,
          "Sales": 94.2,
          "State": 48,
          "Year": 86
         },
         {
          "CPI": 113.6,
          "NDI": 13522.781926,
          "Pimin": 107.1,
          "Pop": 4538.0,
          "Pop16": 3507.0,
          "Price": 134.2,
          "Sales": 91.3,
          "State": 48,
          "Year": 87
         },
         {
          "CPI": 118.3,
          "NDI": 14347.0,
          "Pimin": 121.9,
          "Pop": 4648.0,
          "Pop16": 3591.0,
          "Price": 141.4,
          "Sales": 88.2,
          "State": 48,
          "Year": 88
         },
         {
          "CPI": 124.0,
          "NDI": 15438.0,
          "Pimin": 133.6,
          "Pop": 4761.0,
          "Pop16": 3669.0,
          "Price": 150.6,
          "Sales": 86.1,
          "State": 48,
          "Year": 89
         },
         {
          "CPI": 130.7,
          "NDI": 16252.0,
          "Pimin": 141.3,
          "Pop": 4882.4,
          "Pop16": 3762.5,
          "Price": 167.5,
          "Sales": 83.4,
          "State": 48,
          "Year": 90
         },
         {
          "CPI": 136.2,
          "NDI": 16967.0,
          "Pimin": 144.4,
          "Pop": 5033.9,
          "Pop16": 3866.5,
          "Price": 177.4,
          "Sales": 78.7,
          "State": 48,
          "Year": 91
         },
         {
          "CPI": 140.3,
          "NDI": 18038.0,
          "Pimin": 167.2,
          "Pop": 5152.2,
          "Pop16": 3950.2,
          "Price": 199.2,
          "Sales": 81.1,
          "State": 48,
          "Year": 92
         },
         {
          "CPI": 30.6,
          "NDI": 1598.0632813,
          "Pimin": 24.1,
          "Pop": 1815.0,
          "Pop16": 1247.0,
          "Price": 27.7,
          "Sales": 111.8,
          "State": 49,
          "Year": 63
         },
         {
          "CPI": 31.0,
          "NDI": 1721.5317383,
          "Pimin": 25.0,
          "Pop": 1823.0,
          "Pop16": 1260.4,
          "Price": 28.0,
          "Sales": 109.0,
          "State": 49,
          "Year": 64
         },
         {
          "CPI": 31.5,
          "NDI": 1855.0382813,
          "Pimin": 24.5,
          "Pop": 1815.0,
          "Pop16": 1264.3,
          "Price": 28.2,
          "Sales": 110.5,
          "State": 49,
          "Year": 65
         },
         {
          "CPI": 32.4,
          "NDI": 1962.4458008,
          "Pimin": 24.7,
          "Pop": 1815.0,
          "Pop16": 1275.8,
          "Price": 28.4,
          "Sales": 111.2,
          "State": 49,
          "Year": 66
         },
         {
          "CPI": 33.4,
          "NDI": 2097.9599609,
          "Pimin": 25.0,
          "Pop": 1807.0,
          "Pop16": 1280.6,
          "Price": 29.5,
          "Sales": 113.6,
          "State": 49,
          "Year": 67
         },
         {
          "CPI": 34.8,
          "NDI": 2202.3560547,
          "Pimin": 26.3,
          "Pop": 1819.0,
          "Pop16": 1301.8,
          "Price": 31.3,
          "Sales": 119.8,
          "State": 49,
          "Year": 68
         },
         {
          "CPI": 36.7,
          "NDI": 2358.9501953,
          "Pimin": 27.0,
          "Pop": 1819.0,
          "Pop16": 1310.4,
          "Price": 32.1,
          "Sales": 112.1,
          "State": 49,
          "Year": 69
         },
         {
          "CPI": 38.8,
          "NDI": 2659.0889648,
          "Pimin": 28.3,
          "Pop": 1744.0,
          "Pop16": 1255.6,
          "Price": 33.7,
          "Sales": 114.5,
          "State": 49,
          "Year": 70
         },
         {
          "CPI": 40.5,
          "NDI": 2868.8849609,
          "Pimin": 30.1,
          "Pop": 1761.0,
          "Pop16": 1277.7,
          "Price": 41.6,
          "Sales": 111.5,
          "State": 49,
          "Year": 71
         },
         {
          "CPI": 41.8,
          "NDI": 3118.8333008,
          "Pimin": 29.9,
          "Pop": 1781.0,
          "Pop16": 1300.8,
          "Price": 41.3,
          "Sales": 117.5,
          "State": 49,
          "Year": 72
         },
         {
          "CPI": 44.4,
          "NDI": 3424.9949219,
          "Pimin": 30.1,
          "Pop": 1782.0,
          "Pop16": 1310.4,
          "Price": 39.9,
          "Sales": 116.6,
          "State": 49,
          "Year": 73
         },
         {
          "CPI": 49.3,
          "NDI": 3815.4764648,
          "Pimin": 31.3,
          "Pop": 1784.0,
          "Pop16": 1320.0,
          "Price": 42.0,
          "Sales": 119.9,
          "State": 49,
          "Year": 74
         },
         {
          "CPI": 53.8,
          "NDI": 4251.1293945,
          "Pimin": 33.3,
          "Pop": 1803.0,
          "Pop16": 1340.2,
          "Price": 45.2,
          "Sales": 123.2,
          "State": 49,
          "Year": 75
         },
         {
          "CPI": 56.9,
          "NDI": 4646.6299805,
          "Pimin": 36.0,
          "Pop": 1833.0,
          "Pop16": 1369.1,
          "Price": 48.4,
          "Sales": 129.7,
          "State": 49,
          "Year": 76
         },
         {
          "CPI": 60.6,
          "NDI": 5074.2524414,
          "Pimin": 36.9,
          "Pop": 1853.0,
          "Pop16": 1389.2,
          "Price": 48.9,
          "Sales": 133.9,
          "State": 49,
          "Year": 77
         },
         {
          "CPI": 65.2,
          "NDI": 5525.9663086,
          "Pimin": 41.4,
          "Pop": 1861.0,
          "Pop16": 1399.8,
          "Price": 53.9,
          "Sales": 131.6,
          "State": 49,
          "Year": 78
         },
         {
          "CPI": 72.6,
          "NDI": 6080.0686523,
          "Pimin": 43.4,
          "Pop": 1878.0,
          "Pop16": 1416.2,
          "Price": 62.4,
          "Sales": 122.1,
          "State": 49,
          "Year": 79
         },
         {
          "CPI": 82.4,
          "NDI": 6593.0148437,
          "Pimin": 46.3,
          "Pop": 1950.0,
          "Pop16": 1467.1,
          "Price": 64.3,
          "Sales": 122.3,
          "State": 49,
          "Year": 80
         },
         {
          "CPI": 90.9,
          "NDI": 7108.9724609,
          "Pimin": 49.4,
          "Pop": 1952.0,
          "Pop16": 1471.9,
          "Price": 66.2,
          "Sales": 120.5,
          "State": 49,
          "Year": 81
         },
         {
          "CPI": 96.5,
          "NDI": 7632.9605469,
          "Pimin": 56.3,
          "Pop": 1948.0,
          "Pop16": 1473.8,
          "Price": 75.1,
          "Sales": 119.8,
          "State": 49,
          "Year": 82
         },
         {
          "CPI": 99.6,
          "NDI": 7830.7108398,
          "Pimin": 66.4,
          "Pop": 1965.0,
          "Pop16": 1490.2,
          "Price": 88.2,
          "Sales": 115.7,
          "State": 49,
          "Year": 83
         },
         {
          "CPI": 103.9,
          "NDI": 8338.6379883,
          "Pimin": 75.4,
          "Pop": 1952.0,
          "Pop16": 1487.3,
          "Price": 97.2,
          "Sales": 111.9,
          "State": 49,
          "Year": 84
         },
         {
          "CPI": 107.6,
          "NDI": 8780.3137695,
          "Pimin": 79.3,
          "Pop": 1936.0,
          "Pop16": 1484.4,
          "Price": 103.2,
          "Sales": 109.1,
          "State": 49,
          "Year": 85
         },
         {
          "CPI": 109.6,
          "NDI": 9173.8067383,
          "Pimin": 85.4,
          "Pop": 1917.0,
          "Pop16": 1477.7,
          "Price": 104.1,
          "Sales": 112.1,
          "State": 49,
          "Year": 86
         },
         {
          "CPI": 113.6,
          "NDI": 9599.421582,
          "Pimin": 90.5,
          "Pop": 1897.0,
          "Pop16": 1470.0,
          "Price": 112.8,
          "Sales": 107.5,
          "State": 49,
          "Year": 87
         },
         {
          "CPI": 118.3,
          "NDI": 10279.0,
          "Pimin": 94.4,
          "Pop": 1876.0,
          "Pop16": 1460.0,
          "Price": 122.2,
          "Sales": 109.1,
          "State": 49,
          "Year": 88
         },
         {
          "CPI": 124.0,
          "NDI": 10901.0,
          "Pimin": 103.8,
          "Pop": 1857.0,
          "Pop16": 1452.0,
          "Price": 131.2,
          "Sales": 104.0,
          "State": 49,
          "Year": 89
         },
         {
          "CPI": 130.7,
          "NDI": 11946.0,
          "Pimin": 115.6,
          "Pop": 1842.6,
          "Pop16": 1440.8,
          "Price": 142.9,
          "Sales": 104.1,
          "State": 49,
          "Year": 90
         },
         {
          "CPI": 136.2,
          "NDI": 12381.0,
          "Pimin": 120.5,
          "Pop": 1850.8,
          "Pop16": 1454.1,
          "Price": 144.1,
          "Sales": 100.1,
          "State": 49,
          "Year": 91
         },
         {
          "CPI": 140.3,
          "NDI": 13526.0,
          "Pimin": 135.8,
          "Pop": 1862.1,
          "Pop16": 1465.4,
          "Price": 158.2,
          "Sales": 98.0,
          "State": 49,
          "Year": 92
         },
         {
          "CPI": 30.6,
          "NDI": 2146.2878788,
          "Pimin": 25.4,
          "Pop": 4059.0,
          "Pop16": 2702.5,
          "Price": 27.6,
          "Sales": 110.4,
          "State": 50,
          "Year": 63
         },
         {
          "CPI": 31.0,
          "NDI": 2307.5212121,
          "Pimin": 25.6,
          "Pop": 4100.0,
          "Pop16": 2735.1,
          "Price": 29.5,
          "Sales": 106.2,
          "State": 50,
          "Year": 64
         },
         {
          "CPI": 31.5,
          "NDI": 2456.1909091,
          "Pimin": 26.2,
          "Pop": 4140.0,
          "Pop16": 2773.5,
          "Price": 29.8,
          "Sales": 109.4,
          "State": 50,
          "Year": 65
         },
         {
          "CPI": 32.4,
          "NDI": 2633.1287879,
          "Pimin": 30.0,
          "Pop": 4178.0,
          "Pop16": 2812.8,
          "Price": 32.1,
          "Sales": 106.3,
          "State": 50,
          "Year": 66
         },
         {
          "CPI": 33.4,
          "NDI": 2726.3090909,
          "Pimin": 30.1,
          "Pop": 4194.0,
          "Pop16": 2841.6,
          "Price": 32.8,
          "Sales": 108.3,
          "State": 50,
          "Year": 67
         },
         {
          "CPI": 34.8,
          "NDI": 2939.8909091,
          "Pimin": 32.7,
          "Pop": 4211.0,
          "Pop16": 2878.0,
          "Price": 33.6,
          "Sales": 111.4,
          "State": 50,
          "Year": 68
         },
         {
          "CPI": 36.7,
          "NDI": 3109.5,
          "Pimin": 32.8,
          "Pop": 4233.0,
          "Pop16": 2898.1,
          "Price": 33.6,
          "Sales": 111.5,
          "State": 50,
          "Year": 69
         },
         {
          "CPI": 38.8,
          "NDI": 3339.8333333,
          "Pimin": 37.7,
          "Pop": 4417.0,
          "Pop16": 3059.2,
          "Price": 38.5,
          "Sales": 106.4,
          "State": 50,
          "Year": 70
         },
         {
          "CPI": 40.5,
          "NDI": 3582.730303,
          "Pimin": 38.5,
          "Pop": 4466.0,
          "Pop16": 3129.2,
          "Price": 40.2,
          "Sales": 105.4,
          "State": 50,
          "Year": 71
         },
         {
          "CPI": 41.8,
          "NDI": 3814.1106061,
          "Pimin": 41.9,
          "Pop": 4510.0,
          "Pop16": 3197.2,
          "Price": 40.3,
          "Sales": 108.8,
          "State": 50,
          "Year": 72
         },
         {
          "CPI": 44.4,
          "NDI": 4269.5424242,
          "Pimin": 41.0,
          "Pop": 4537.0,
          "Pop16": 3253.8,
          "Price": 42.6,
          "Sales": 109.5,
          "State": 50,
          "Year": 73
         },
         {
          "CPI": 49.3,
          "NDI": 4634.9348485,
          "Pimin": 41.9,
          "Pop": 4563.0,
          "Pop16": 3310.4,
          "Price": 43.9,
          "Sales": 111.8,
          "State": 50,
          "Year": 74
         },
         {
          "CPI": 53.8,
          "NDI": 5039.0651515,
          "Pimin": 45.2,
          "Pop": 4601.0,
          "Pop16": 3377.5,
          "Price": 46.6,
          "Sales": 113.5,
          "State": 50,
          "Year": 75
         },
         {
          "CPI": 56.9,
          "NDI": 5487.1681818,
          "Pimin": 47.8,
          "Pop": 4623.0,
          "Pop16": 3430.2,
          "Price": 51.3,
          "Sales": 115.4,
          "State": 50,
          "Year": 76
         },
         {
          "CPI": 60.6,
          "NDI": 6063.0015152,
          "Pimin": 49.4,
          "Pop": 4658.0,
          "Pop16": 3489.6,
          "Price": 52.1,
          "Sales": 117.2,
          "State": 50,
          "Year": 77
         },
         {
          "CPI": 65.2,
          "NDI": 6728.8742424,
          "Pimin": 54.6,
          "Pop": 4683.0,
          "Pop16": 3537.6,
          "Price": 57.1,
          "Sales": 116.7,
          "State": 50,
          "Year": 78
         },
         {
          "CPI": 72.6,
          "NDI": 7622.9863636,
          "Pimin": 56.4,
          "Pop": 4720.0,
          "Pop16": 3590.3,
          "Price": 58.7,
          "Sales": 117.1,
          "State": 50,
          "Year": 79
         },
         {
          "CPI": 82.4,
          "NDI": 8173.6924242,
          "Pimin": 58.8,
          "Pop": 4705.0,
          "Pop16": 3551.0,
          "Price": 61.2,
          "Sales": 117.6,
          "State": 50,
          "Year": 80
         },
         {
          "CPI": 90.9,
          "NDI": 8663.6742424,
          "Pimin": 61.4,
          "Pop": 4742.0,
          "Pop16": 3592.2,
          "Price": 64.9,
          "Sales": 119.9,
          "State": 50,
          "Year": 81
         },
         {
          "CPI": 96.5,
          "NDI": 9196.5818182,
          "Pimin": 69.6,
          "Pop": 4765.0,
          "Pop16": 3617.1,
          "Price": 75.0,
          "Sales": 115.6,
          "State": 50,
          "Year": 82
         },
         {
          "CPI": 99.6,
          "NDI": 9815.3409091,
          "Pimin": 80.8,
          "Pop": 4751.0,
          "Pop16": 3616.2,
          "Price": 92.0,
          "Sales": 106.3,
          "State": 50,
          "Year": 83
         },
         {
          "CPI": 103.9,
          "NDI": 10641.4,
          "Pimin": 89.6,
          "Pop": 4766.0,
          "Pop16": 3639.2,
          "Price": 100.8,
          "Sales": 105.6,
          "State": 50,
          "Year": 84
         },
         {
          "CPI": 107.6,
          "NDI": 11228.75,
          "Pimin": 96.7,
          "Pop": 4775.0,
          "Pop16": 3657.4,
          "Price": 106.8,
          "Sales": 107.0,
          "State": 50,
          "Year": 85
         },
         {
          "CPI": 109.6,
          "NDI": 11763.751515,
          "Pimin": 104.8,
          "Pop": 4783.0,
          "Pop16": 3670.8,
          "Price": 110.8,
          "Sales": 105.4,
          "State": 50,
          "Year": 86
         },
         {
          "CPI": 113.6,
          "NDI": 12336.443939,
          "Pimin": 116.2,
          "Pop": 4807.0,
          "Pop16": 3690.0,
          "Price": 116.3,
          "Sales": 106.0,
          "State": 50,
          "Year": 87
         },
         {
          "CPI": 118.3,
          "NDI": 13129.0,
          "Pimin": 124.1,
          "Pop": 4855.0,
          "Pop16": 3728.0,
          "Price": 128.6,
          "Sales": 102.6,
          "State": 50,
          "Year": 88
         },
         {
          "CPI": 124.0,
          "NDI": 13933.0,
          "Pimin": 132.7,
          "Pop": 4867.0,
          "Pop16": 3745.0,
          "Price": 138.3,
          "Sales": 100.3,
          "State": 50,
          "Year": 89
         },
         {
          "CPI": 130.7,
          "NDI": 14958.0,
          "Pimin": 147.3,
          "Pop": 4902.1,
          "Pop16": 3772.0,
          "Price": 151.1,
          "Sales": 94.1,
          "State": 50,
          "Year": 90
         },
         {
          "CPI": 136.2,
          "NDI": 15438.0,
          "Pimin": 154.4,
          "Pop": 4965.2,
          "Pop16": 3817.4,
          "Price": 158.6,
          "Sales": 95.5,
          "State": 50,
          "Year": 91
         },
         {
          "CPI": 140.3,
          "NDI": 16351.0,
          "Pimin": 178.5,
          "Pop": 5017.3,
          "Pop16": 3853.8,
          "Price": 176.5,
          "Sales": 96.2,
          "State": 50,
          "Year": 92
         },
         {
          "CPI": 30.6,
          "NDI": 2212.8687965,
          "Pimin": 24.9,
          "Pop": 335.0,
          "Pop16": 221.9,
          "Price": 26.2,
          "Sales": 125.6,
          "State": 51,
          "Year": 63
         },
         {
          "CPI": 31.0,
          "NDI": 2323.4089278,
          "Pimin": 27.5,
          "Pop": 338.0,
          "Pop16": 224.8,
          "Price": 26.2,
          "Sales": 134.0,
          "State": 51,
          "Year": 64
         },
         {
          "CPI": 31.5,
          "NDI": 2468.0408753,
          "Pimin": 27.6,
          "Pop": 330.0,
          "Pop16": 220.0,
          "Price": 26.1,
          "Sales": 137.6,
          "State": 51,
          "Year": 65
         },
         {
          "CPI": 32.4,
          "NDI": 2593.0442013,
          "Pimin": 29.6,
          "Pop": 320.0,
          "Pop16": 215.2,
          "Price": 26.5,
          "Sales": 133.3,
          "State": 51,
          "Year": 66
         },
         {
          "CPI": 33.4,
          "NDI": 2775.9003063,
          "Pimin": 30.1,
          "Pop": 319.0,
          "Pop16": 216.1,
          "Price": 27.4,
          "Sales": 137.4,
          "State": 51,
          "Year": 67
         },
         {
          "CPI": 34.8,
          "NDI": 2921.5653392,
          "Pimin": 32.0,
          "Pop": 322.0,
          "Pop16": 221.9,
          "Price": 32.5,
          "Sales": 136.5,
          "State": 51,
          "Year": 68
         },
         {
          "CPI": 36.7,
          "NDI": 3066.1972867,
          "Pimin": 31.9,
          "Pop": 320.0,
          "Pop16": 228.7,
          "Price": 32.6,
          "Sales": 135.7,
          "State": 51,
          "Year": 69
         },
         {
          "CPI": 38.8,
          "NDI": 3269.7150985,
          "Pimin": 33.8,
          "Pop": 332.0,
          "Pop16": 231.6,
          "Price": 34.1,
          "Sales": 132.2,
          "State": 51,
          "Year": 70
         },
         {
          "CPI": 40.5,
          "NDI": 3514.5563239,
          "Pimin": 33.6,
          "Pop": 339.0,
          "Pop16": 240.3,
          "Price": 34.4,
          "Sales": 131.7,
          "State": 51,
          "Year": 71
         },
         {
          "CPI": 41.8,
          "NDI": 3975.3123851,
          "Pimin": 33.7,
          "Pop": 345.0,
          "Pop16": 247.0,
          "Price": 34.4,
          "Sales": 140.0,
          "State": 51,
          "Year": 72
         },
         {
          "CPI": 44.4,
          "NDI": 4505.2851641,
          "Pimin": 36.3,
          "Pop": 351.0,
          "Pop16": 253.8,
          "Price": 34.4,
          "Sales": 141.2,
          "State": 51,
          "Year": 73
         },
         {
          "CPI": 49.3,
          "NDI": 4980.5044201,
          "Pimin": 37.8,
          "Pop": 362.0,
          "Pop16": 263.4,
          "Price": 35.8,
          "Sales": 145.8,
          "State": 51,
          "Year": 74
         },
         {
          "CPI": 53.8,
          "NDI": 5455.7236761,
          "Pimin": 40.3,
          "Pop": 377.0,
          "Pop16": 276.0,
          "Price": 38.6,
          "Sales": 160.7,
          "State": 51,
          "Year": 75
         },
         {
          "CPI": 56.9,
          "NDI": 5985.6964551,
          "Pimin": 42.5,
          "Pop": 392.0,
          "Pop16": 288.5,
          "Price": 42.6,
          "Sales": 161.5,
          "State": 51,
          "Year": 76
         },
         {
          "CPI": 60.6,
          "NDI": 6640.6725602,
          "Pimin": 44.7,
          "Pop": 407.0,
          "Pop16": 300.1,
          "Price": 43.4,
          "Sales": 160.4,
          "State": 51,
          "Year": 77
         },
         {
          "CPI": 65.2,
          "NDI": 7609.7066083,
          "Pimin": 49.5,
          "Pop": 425.0,
          "Pop16": 314.5,
          "Price": 49.8,
          "Sales": 160.3,
          "State": 51,
          "Year": 78
         },
         {
          "CPI": 72.6,
          "NDI": 8482.6637199,
          "Pimin": 53.7,
          "Pop": 450.0,
          "Pop16": 332.9,
          "Price": 51.7,
          "Sales": 168.6,
          "State": 51,
          "Year": 79
         },
         {
          "CPI": 82.4,
          "NDI": 9402.1096718,
          "Pimin": 56.4,
          "Pop": 470.0,
          "Pop16": 343.5,
          "Price": 55.3,
          "Sales": 158.1,
          "State": 51,
          "Year": 80
         },
         {
          "CPI": 90.9,
          "NDI": 10046.754923,
          "Pimin": 59.2,
          "Pop": 492.0,
          "Pop16": 358.0,
          "Price": 55.9,
          "Sales": 163.1,
          "State": 51,
          "Year": 81
         },
         {
          "CPI": 96.5,
          "NDI": 10180.022932,
          "Pimin": 65.7,
          "Pop": 502.0,
          "Pop16": 364.7,
          "Price": 64.3,
          "Sales": 157.7,
          "State": 51,
          "Year": 82
         },
         {
          "CPI": 99.6,
          "NDI": 9855.6341357,
          "Pimin": 76.5,
          "Pop": 514.0,
          "Pop16": 371.5,
          "Price": 71.0,
          "Sales": 141.2,
          "State": 51,
          "Year": 83
         },
         {
          "CPI": 103.9,
          "NDI": 10382.507659,
          "Pimin": 88.5,
          "Pop": 511.0,
          "Pop16": 370.5,
          "Price": 81.7,
          "Sales": 128.9,
          "State": 51,
          "Year": 84
         },
         {
          "CPI": 107.6,
          "NDI": 10839.131379,
          "Pimin": 92.3,
          "Pop": 510.0,
          "Pop16": 369.5,
          "Price": 87.4,
          "Sales": 125.7,
          "State": 51,
          "Year": 85
         },
         {
          "CPI": 109.6,
          "NDI": 11089.138031,
          "Pimin": 99.9,
          "Pop": 507.0,
          "Pop16": 368.6,
          "Price": 97.8,
          "Sales": 124.8,
          "State": 51,
          "Year": 86
         },
         {
          "CPI": 113.6,
          "NDI": 11113.932079,
          "Pimin": 106.2,
          "Pop": 490.0,
          "Pop16": 357.0,
          "Price": 102.7,
          "Sales": 110.4,
          "State": 51,
          "Year": 87
         },
         {
          "CPI": 118.3,
          "NDI": 11803.0,
          "Pimin": 115.3,
          "Pop": 479.0,
          "Pop16": 353.0,
          "Price": 112.9,
          "Sales": 114.3,
          "State": 51,
          "Year": 88
         },
         {
          "CPI": 124.0,
          "NDI": 12399.0,
          "Pimin": 123.0,
          "Pop": 475.0,
          "Pop16": 352.0,
          "Price": 118.6,
          "Sales": 111.4,
          "State": 51,
          "Year": 89
         },
         {
          "CPI": 130.7,
          "NDI": 13871.0,
          "Pimin": 138.9,
          "Pop": 470.9,
          "Pop16": 348.9,
          "Price": 129.5,
          "Sales": 96.9,
          "State": 51,
          "Year": 90
         },
         {
          "CPI": 136.2,
          "NDI": 14675.0,
          "Pimin": 143.6,
          "Pop": 477.1,
          "Pop16": 355.2,
          "Price": 127.0,
          "Sales": 109.1,
          "State": 51,
          "Year": 91
         },
         {
          "CPI": 140.3,
          "NDI": 15607.0,
          "Pimin": 160.0,
          "Pop": 483.3,
          "Pop16": 360.5,
          "Price": 155.1,
          "Sales": 110.8,
          "State": 51,
          "Year": 92
         }
        ]
       },
       "encoding": {
        "color": {
         "field": "Year",
         "type": "quantitative"
        },
        "size": {
         "field": "NDI",
         "type": "quantitative"
        },
        "x": {
         "field": "Price",
         "type": "quantitative"
        },
        "y": {
         "field": "Sales",
         "type": "quantitative"
        }
       },
       "mark": "point"
      },
      "image/png": "[encoded data removed]",
      "image/svg+xml": [
       "<svg class=\"marks\" width=\"325\" height=\"331\" viewBox=\"0 0 325 331\" version=\"1.1\" xmlns=\"http://www.w3.org/2000/svg\" xmlns:xlink=\"http://www.w3.org/1999/xlink\"><defs><linearGradient id=\"gradient_0\" x1=\"0\" x2=\"0\" y1=\"1\" y2=\"0\"><stop offset=\"0\" stop-color=\"rgb(207, 225, 242)\"></stop><stop offset=\"0.034482758620689655\" stop-color=\"rgb(201, 222, 240)\"></stop><stop offset=\"0.10344827586206896\" stop-color=\"rgb(189, 216, 236)\"></stop><stop offset=\"0.1724137931034483\" stop-color=\"rgb(174, 209, 231)\"></stop><stop offset=\"0.2413793103448276\" stop-color=\"rgb(158, 201, 226)\"></stop><stop offset=\"0.3103448275862069\" stop-color=\"rgb(140, 191, 221)\"></stop><stop offset=\"0.3793103448275862\" stop-color=\"rgb(122, 181, 216)\"></stop><stop offset=\"0.4482758620689655\" stop-color=\"rgb(104, 171, 211)\"></stop><stop offset=\"0.5172413793103449\" stop-color=\"rgb(87, 160, 205)\"></stop><stop offset=\"0.5862068965517241\" stop-color=\"rgb(72, 148, 199)\"></stop><stop offset=\"0.6551724137931034\" stop-color=\"rgb(58, 137, 193)\"></stop><stop offset=\"0.7241379310344828\" stop-color=\"rgb(45, 125, 186)\"></stop><stop offset=\"0.7931034482758621\" stop-color=\"rgb(33, 112, 179)\"></stop><stop offset=\"0.8620689655172413\" stop-color=\"rgb(23, 99, 169)\"></stop><stop offset=\"0.9310344827586207\" stop-color=\"rgb(16, 86, 158)\"></stop><stop offset=\"1\" stop-color=\"rgb(10, 74, 144)\"></stop></linearGradient></defs><g transform=\"translate(45,10)\"><g class=\"mark-group role-frame root\"><g transform=\"translate(0,0)\"><path class=\"background\" d=\"M0.5,0.5h200v200h-200Z\" style=\"fill: none; stroke: #ddd;\"></path><g><g class=\"mark-group role-axis\"><g transform=\"translate(0.5,200.5)\"><path class=\"background\" d=\"M0,0h0v0h0Z\" style=\"pointer-events: none; fill: none;\"></path><g><g class=\"mark-rule role-axis-grid\" style=\"pointer-events: none;\"><line transform=\"translate(0,-200)\" x2=\"0\" y2=\"200\" style=\"fill: none; stroke: #ddd; stroke-width: 1; opacity: 1;\"></line><line transform=\"translate(45,-200)\" x2=\"0\" y2=\"200\" style=\"fill: none; stroke: #ddd; stroke-width: 1; opacity: 1;\"></line><line transform=\"translate(91,-200)\" x2=\"0\" y2=\"200\" style=\"fill: none; stroke: #ddd; stroke-width: 1; opacity: 1;\"></line><line transform=\"translate(136,-200)\" x2=\"0\" y2=\"200\" style=\"fill: none; stroke: #ddd; stroke-width: 1; opacity: 1;\"></line><line transform=\"translate(182,-200)\" x2=\"0\" y2=\"200\" style=\"fill: none; stroke: #ddd; stroke-width: 1; opacity: 1;\"></line></g></g></g></g><g class=\"mark-group role-axis\"><g transform=\"translate(0.5,0.5)\"><path class=\"background\" d=\"M0,0h0v0h0Z\" style=\"pointer-events: none; fill: none;\"></path><g><g class=\"mark-rule role-axis-grid\" style=\"pointer-events: none;\"><line transform=\"translate(0,200)\" x2=\"200\" y2=\"0\" style=\"fill: none; stroke: #ddd; stroke-width: 1; opacity: 1;\"></line><line transform=\"translate(0,167)\" x2=\"200\" y2=\"0\" style=\"fill: none; stroke: #ddd; stroke-width: 1; opacity: 1;\"></line><line transform=\"translate(0,133)\" x2=\"200\" y2=\"0\" style=\"fill: none; stroke: #ddd; stroke-width: 1; opacity: 1;\"></line><line transform=\"translate(0,100)\" x2=\"200\" y2=\"0\" style=\"fill: none; stroke: #ddd; stroke-width: 1; opacity: 1;\"></line><line transform=\"translate(0,67)\" x2=\"200\" y2=\"0\" style=\"fill: none; stroke: #ddd; stroke-width: 1; opacity: 1;\"></line><line transform=\"translate(0,33)\" x2=\"200\" y2=\"0\" style=\"fill: none; stroke: #ddd; stroke-width: 1; opacity: 1;\"></line><line transform=\"translate(0,0)\" x2=\"200\" y2=\"0\" style=\"fill: none; stroke: #ddd; stroke-width: 1; opacity: 1;\"></line></g></g></g></g><g class=\"mark-symbol role-mark marks\"><path transform=\"translate(26,137.4)\" d=\"M2.4688137510139447,0A2.4688137510139447,2.4688137510139447,0,1,1,-2.4688137510139447,0A2.4688137510139447,2.4688137510139447,0,1,1,2.4688137510139447,0\" style=\"fill: none; stroke: rgb(207, 225, 242); stroke-width: 2; opacity: 0.7;\"></path><path transform=\"translate(27.090909090909093,136.4)\" d=\"M2.5665081267900365,0A2.5665081267900365,2.5665081267900365,0,1,1,-2.5665081267900365,0A2.5665081267900365,2.5665081267900365,0,1,1,2.5665081267900365,0\" style=\"fill: none; stroke: rgb(201, 222, 240); stroke-width: 2; opacity: 0.7;\"></path><path transform=\"translate(27.090909090909093,134.33333333333334)\" d=\"M2.660617708834371,0A2.660617708834371,2.660617708834371,0,1,1,-2.660617708834371,0A2.660617708834371,2.660617708834371,0,1,1,2.660617708834371,0\" style=\"fill: none; stroke: rgb(195, 219, 238); stroke-width: 2; opacity: 0.7;\"></path><path transform=\"translate(28.636363636363637,135.73333333333335)\" d=\"M2.7369365723458894,0A2.7369365723458894,2.7369365723458894,0,1,1,-2.7369365723458894,0A2.7369365723458894,2.7369365723458894,0,1,1,2.7369365723458894,0\" style=\"fill: none; stroke: rgb(189, 216, 236); stroke-width: 2; opacity: 0.7;\"></path><path transform=\"translate(28.72727272727273,136.33333333333331)\" d=\"M2.8133174585152436,0A2.8133174585152436,2.8133174585152436,0,1,1,-2.8133174585152436,0A2.8133174585152436,2.8133174585152436,0,1,1,2.8133174585152436,0\" style=\"fill: none; stroke: rgb(182, 212, 233); stroke-width: 2; opacity: 0.7;\"></path><path transform=\"translate(32.36363636363637,141.06666666666666)\" d=\"M2.9350715561170175,0A2.9350715561170175,2.9350715561170175,0,1,1,-2.9350715561170175,0A2.9350715561170175,2.9350715561170175,0,1,1,2.9350715561170175,0\" style=\"fill: none; stroke: rgb(174, 209, 231); stroke-width: 2; opacity: 0.7;\"></path><path transform=\"translate(33.27272727272727,139.93333333333334)\" d=\"M3.0493503362164964,0A3.0493503362164964,3.0493503362164964,0,1,1,-3.0493503362164964,0A3.0493503362164964,3.0493503362164964,0,1,1,3.0493503362164964,0\" style=\"fill: none; stroke: rgb(166, 205, 229); stroke-width: 2; opacity: 0.7;\"></path><path transform=\"translate(36,140.13333333333333)\" d=\"M3.1834581829839186,0A3.1834581829839186,3.1834581829839186,0,1,1,-3.1834581829839186,0A3.1834581829839186,3.1834581829839186,0,1,1,3.1834581829839186,0\" style=\"fill: none; stroke: rgb(158, 201, 226); stroke-width: 2; opacity: 0.7;\"></path><path transform=\"translate(38.81818181818182,136.4)\" d=\"M3.300649403472427,0A3.300649403472427,3.300649403472427,0,1,1,-3.300649403472427,0A3.300649403472427,3.300649403472427,0,1,1,3.300649403472427,0\" style=\"fill: none; stroke: rgb(149, 196, 224); stroke-width: 2; opacity: 0.7;\"></path><path transform=\"translate(38.45454545454545,132.60000000000002)\" d=\"M3.445305936774386,0A3.445305936774386,3.445305936774386,0,1,1,-3.445305936774386,0A3.445305936774386,3.445305936774386,0,1,1,3.445305936774386,0\" style=\"fill: none; stroke: rgb(140, 191, 221); stroke-width: 2; opacity: 0.7;\"></path><path transform=\"translate(38.27272727272727,131.39999999999998)\" d=\"M3.6400434032778506,0A3.6400434032778506,3.6400434032778506,0,1,1,-3.6400434032778506,0A3.6400434032778506,3.6400434032778506,0,1,1,3.6400434032778506,0\" style=\"fill: none; stroke: rgb(131, 186, 219); stroke-width: 2; opacity: 0.7;\"></path><path transform=\"translate(39.18181818181819,127.86666666666666)\" d=\"M3.813884131367234,0A3.813884131367234,3.813884131367234,0,1,1,-3.813884131367234,0A3.813884131367234,3.813884131367234,0,1,1,3.813884131367234,0\" style=\"fill: none; stroke: rgb(122, 181, 216); stroke-width: 2; opacity: 0.7;\"></path><path transform=\"translate(42.36363636363637,125.53333333333333)\" d=\"M3.998685419333072,0A3.998685419333072,3.998685419333072,0,1,1,-3.998685419333072,0A3.998685419333072,3.998685419333072,0,1,1,3.998685419333072,0\" style=\"fill: none; stroke: rgb(113, 176, 214); stroke-width: 2; opacity: 0.7;\"></path><path transform=\"translate(45.81818181818182,122.53333333333333)\" d=\"M4.189181275125695,0A4.189181275125695,4.189181275125695,0,1,1,-4.189181275125695,0A4.189181275125695,4.189181275125695,0,1,1,4.189181275125695,0\" style=\"fill: none; stroke: rgb(104, 171, 211); stroke-width: 2; opacity: 0.7;\"></path><path transform=\"translate(45.54545454545455,121.93333333333334)\" d=\"M4.377783185817933,0A4.377783185817933,4.377783185817933,0,1,1,-4.377783185817933,0A4.377783185817933,4.377783185817933,0,1,1,4.377783185817933,0\" style=\"fill: none; stroke: rgb(95, 166, 208); stroke-width: 2; opacity: 0.7;\"></path><path transform=\"translate(50.09090909090909,118)\" d=\"M4.617428566564254,0A4.617428566564254,4.617428566564254,0,1,1,-4.617428566564254,0A4.617428566564254,4.617428566564254,0,1,1,4.617428566564254,0\" style=\"fill: none; stroke: rgb(87, 160, 205); stroke-width: 2; opacity: 0.7;\"></path><path transform=\"translate(51.63636363636363,119.06666666666666)\" d=\"M4.827042074699519,0A4.827042074699519,4.827042074699519,0,1,1,-4.827042074699519,0A4.827042074699519,4.827042074699519,0,1,1,4.827042074699519,0\" style=\"fill: none; stroke: rgb(80, 154, 202); stroke-width: 2; opacity: 0.7;\"></path><path transform=\"translate(55.09090909090909,117.86666666666666)\" d=\"M5.029117410340001,0A5.029117410340001,5.029117410340001,0,1,1,-5.029117410340001,0A5.029117410340001,5.029117410340001,0,1,1,5.029117410340001,0\" style=\"fill: none; stroke: rgb(72, 148, 199); stroke-width: 2; opacity: 0.7;\"></path><path transform=\"translate(62.54545454545454,120.26666666666667)\" d=\"M5.248206148310553,0A5.248206148310553,5.248206148310553,0,1,1,-5.248206148310553,0A5.248206148310553,5.248206148310553,0,1,1,5.248206148310553,0\" style=\"fill: none; stroke: rgb(65, 142, 196); stroke-width: 2; opacity: 0.7;\"></path><path transform=\"translate(66.45454545454544,120.60000000000001)\" d=\"M5.418060798691561,0A5.418060798691561,5.418060798691561,0,1,1,-5.418060798691561,0A5.418060798691561,5.418060798691561,0,1,1,5.418060798691561,0\" style=\"fill: none; stroke: rgb(58, 137, 193); stroke-width: 2; opacity: 0.7;\"></path><path transform=\"translate(76.72727272727273,122.46666666666667)\" d=\"M5.584898753531113,0A5.584898753531113,5.584898753531113,0,1,1,-5.584898753531113,0A5.584898753531113,5.584898753531113,0,1,1,5.584898753531113,0\" style=\"fill: none; stroke: rgb(51, 131, 190); stroke-width: 2; opacity: 0.7;\"></path><path transform=\"translate(82.54545454545455,124.66666666666667)\" d=\"M5.83117928633638,0A5.83117928633638,5.83117928633638,0,1,1,-5.83117928633638,0A5.83117928633638,5.83117928633638,0,1,1,5.83117928633638,0\" style=\"fill: none; stroke: rgb(45, 125, 186); stroke-width: 2; opacity: 0.7;\"></path><path transform=\"translate(90,123.66666666666667)\" d=\"M5.952682308995648,0A5.952682308995648,5.952682308995648,0,1,1,-5.952682308995648,0A5.952682308995648,5.952682308995648,0,1,1,5.952682308995648,0\" style=\"fill: none; stroke: rgb(39, 118, 183); stroke-width: 2; opacity: 0.7;\"></path><path transform=\"translate(93.63636363636364,122.46666666666667)\" d=\"M6.151589061989675,0A6.151589061989675,6.151589061989675,0,1,1,-6.151589061989675,0A6.151589061989675,6.151589061989675,0,1,1,6.151589061989675,0\" style=\"fill: none; stroke: rgb(33, 112, 179); stroke-width: 2; opacity: 0.7;\"></path><path transform=\"translate(100,124)\" d=\"M6.320578809021377,0A6.320578809021377,6.320578809021377,0,1,1,-6.320578809021377,0A6.320578809021377,6.320578809021377,0,1,1,6.320578809021377,0\" style=\"fill: none; stroke: rgb(28, 106, 174); stroke-width: 2; opacity: 0.7;\"></path><path transform=\"translate(104,125.26666666666667)\" d=\"M6.55722785558341,0A6.55722785558341,6.55722785558341,0,1,1,-6.55722785558341,0A6.55722785558341,6.55722785558341,0,1,1,6.55722785558341,0\" style=\"fill: none; stroke: rgb(23, 99, 169); stroke-width: 2; opacity: 0.7;\"></path><path transform=\"translate(111.18181818181819,129.60000000000002)\" d=\"M6.745694841195096,0A6.745694841195096,6.745694841195096,0,1,1,-6.745694841195096,0A6.745694841195096,6.745694841195096,0,1,1,6.745694841195096,0\" style=\"fill: none; stroke: rgb(18, 93, 164); stroke-width: 2; opacity: 0.7;\"></path><path transform=\"translate(126.45454545454544,127.60000000000001)\" d=\"M7.077321259275025,0A7.077321259275025,7.077321259275025,0,1,1,-7.077321259275025,0A7.077321259275025,7.077321259275025,0,1,1,7.077321259275025,0\" style=\"fill: none; stroke: rgb(16, 86, 158); stroke-width: 2; opacity: 0.7;\"></path><path transform=\"translate(131.27272727272728,128.06666666666666)\" d=\"M7.2287863673392865,0A7.2287863673392865,7.2287863673392865,0,1,1,-7.2287863673392865,0A7.2287863673392865,7.2287863673392865,0,1,1,7.2287863673392865,0\" style=\"fill: none; stroke: rgb(13, 80, 151); stroke-width: 2; opacity: 0.7;\"></path><path transform=\"translate(156.54545454545453,127.26666666666667)\" d=\"M7.539452300390176,0A7.539452300390176,7.539452300390176,0,1,1,-7.539452300390176,0A7.539452300390176,7.539452300390176,0,1,1,7.539452300390176,0\" style=\"fill: none; stroke: rgb(10, 74, 144); stroke-width: 2; opacity: 0.7;\"></path><path transform=\"translate(21.727272727272727,116.66666666666666)\" d=\"M2.7579951578675472,0A2.7579951578675472,2.7579951578675472,0,1,1,-2.7579951578675472,0A2.7579951578675472,2.7579951578675472,0,1,1,2.7579951578675472,0\" style=\"fill: none; stroke: rgb(207, 225, 242); stroke-width: 2; opacity: 0.7;\"></path><path transform=\"translate(21.818181818181817,119.33333333333334)\" d=\"M2.8409662948389935,0A2.8409662948389935,2.8409662948389935,0,1,1,-2.8409662948389935,0A2.8409662948389935,2.8409662948389935,0,1,1,2.8409662948389935,0\" style=\"fill: none; stroke: rgb(201, 222, 240); stroke-width: 2; opacity: 0.7;\"></path><path transform=\"translate(22,117.86666666666666)\" d=\"M2.908417023775806,0A2.908417023775806,2.908417023775806,0,1,1,-2.908417023775806,0A2.908417023775806,2.908417023775806,0,1,1,2.908417023775806,0\" style=\"fill: none; stroke: rgb(195, 219, 238); stroke-width: 2; opacity: 0.7;\"></path><path transform=\"translate(26.90909090909091,124.06666666666666)\" d=\"M3.011455929853774,0A3.011455929853774,3.011455929853774,0,1,1,-3.011455929853774,0A3.011455929853774,3.011455929853774,0,1,1,3.011455929853774,0\" style=\"fill: none; stroke: rgb(189, 216, 236); stroke-width: 2; opacity: 0.7;\"></path><path transform=\"translate(26.545454545454543,121.93333333333334)\" d=\"M3.093505337695573,0A3.093505337695573,3.093505337695573,0,1,1,-3.093505337695573,0A3.093505337695573,3.093505337695573,0,1,1,3.093505337695573,0\" style=\"fill: none; stroke: rgb(182, 212, 233); stroke-width: 2; opacity: 0.7;\"></path><path transform=\"translate(28.454545454545453,122.93333333333334)\" d=\"M3.2619419248704222,0A3.2619419248704222,3.2619419248704222,0,1,1,-3.2619419248704222,0A3.2619419248704222,3.2619419248704222,0,1,1,3.2619419248704222,0\" style=\"fill: none; stroke: rgb(174, 209, 231); stroke-width: 2; opacity: 0.7;\"></path><path transform=\"translate(32.81818181818182,124.13333333333334)\" d=\"M3.413824949779699,0A3.413824949779699,3.413824949779699,0,1,1,-3.413824949779699,0A3.413824949779699,3.413824949779699,0,1,1,3.413824949779699,0\" style=\"fill: none; stroke: rgb(166, 205, 229); stroke-width: 2; opacity: 0.7;\"></path><path transform=\"translate(33.72727272727273,123.2)\" d=\"M3.5762164341810427,0A3.5762164341810427,3.5762164341810427,0,1,1,-3.5762164341810427,0A3.5762164341810427,3.5762164341810427,0,1,1,3.5762164341810427,0\" style=\"fill: none; stroke: rgb(158, 201, 226); stroke-width: 2; opacity: 0.7;\"></path><path transform=\"translate(35,126.93333333333334)\" d=\"M3.7261308803085598,0A3.7261308803085598,3.7261308803085598,0,1,1,-3.7261308803085598,0A3.7261308803085598,3.7261308803085598,0,1,1,3.7261308803085598,0\" style=\"fill: none; stroke: rgb(149, 196, 224); stroke-width: 2; opacity: 0.7;\"></path><path transform=\"translate(34.54545454545455,116.66666666666666)\" d=\"M3.8556024599470438,0A3.8556024599470438,3.8556024599470438,0,1,1,-3.8556024599470438,0A3.8556024599470438,3.8556024599470438,0,1,1,3.8556024599470438,0\" style=\"fill: none; stroke: rgb(140, 191, 221); stroke-width: 2; opacity: 0.7;\"></path><path transform=\"translate(35.18181818181819,114.46666666666665)\" d=\"M4.062725878815108,0A4.062725878815108,4.062725878815108,0,1,1,-4.062725878815108,0A4.062725878815108,4.062725878815108,0,1,1,4.062725878815108,0\" style=\"fill: none; stroke: rgb(131, 186, 219); stroke-width: 2; opacity: 0.7;\"></path><path transform=\"translate(35.63636363636364,111.26666666666667)\" d=\"M4.1991410543141825,0A4.1991410543141825,4.1991410543141825,0,1,1,-4.1991410543141825,0A4.1991410543141825,4.1991410543141825,0,1,1,4.1991410543141825,0\" style=\"fill: none; stroke: rgb(122, 181, 216); stroke-width: 2; opacity: 0.7;\"></path><path transform=\"translate(43.36363636363637,118.80000000000001)\" d=\"M4.306944536082018,0A4.306944536082018,4.306944536082018,0,1,1,-4.306944536082018,0A4.306944536082018,4.306944536082018,0,1,1,4.306944536082018,0\" style=\"fill: none; stroke: rgb(113, 176, 214); stroke-width: 2; opacity: 0.7;\"></path><path transform=\"translate(44.63636363636363,118.46666666666667)\" d=\"M4.4919621237303415,0A4.4919621237303415,4.4919621237303415,0,1,1,-4.4919621237303415,0A4.4919621237303415,4.4919621237303415,0,1,1,4.4919621237303415,0\" style=\"fill: none; stroke: rgb(104, 171, 211); stroke-width: 2; opacity: 0.7;\"></path><path transform=\"translate(44.27272727272727,118.86666666666666)\" d=\"M4.666626095518871,0A4.666626095518871,4.666626095518871,0,1,1,-4.666626095518871,0A4.666626095518871,4.666626095518871,0,1,1,4.666626095518871,0\" style=\"fill: none; stroke: rgb(95, 166, 208); stroke-width: 2; opacity: 0.7;\"></path><path transform=\"translate(48.727272727272734,116.86666666666666)\" d=\"M4.957502501744723,0A4.957502501744723,4.957502501744723,0,1,1,-4.957502501744723,0A4.957502501744723,4.957502501744723,0,1,1,4.957502501744723,0\" style=\"fill: none; stroke: rgb(87, 160, 205); stroke-width: 2; opacity: 0.7;\"></path><path transform=\"translate(53.27272727272727,116.93333333333334)\" d=\"M5.2695448261095645,0A5.2695448261095645,5.2695448261095645,0,1,1,-5.2695448261095645,0A5.2695448261095645,5.2695448261095645,0,1,1,5.2695448261095645,0\" style=\"fill: none; stroke: rgb(80, 154, 202); stroke-width: 2; opacity: 0.7;\"></path><path transform=\"translate(55.27272727272727,115.46666666666667)\" d=\"M5.53171323269266,0A5.53171323269266,5.53171323269266,0,1,1,-5.53171323269266,0A5.53171323269266,5.53171323269266,0,1,1,5.53171323269266,0\" style=\"fill: none; stroke: rgb(72, 148, 199); stroke-width: 2; opacity: 0.7;\"></path><path transform=\"translate(57.54545454545455,124.13333333333334)\" d=\"M5.815792257540698,0A5.815792257540698,5.815792257540698,0,1,1,-5.815792257540698,0A5.815792257540698,5.815792257540698,0,1,1,5.815792257540698,0\" style=\"fill: none; stroke: rgb(65, 142, 196); stroke-width: 2; opacity: 0.7;\"></path><path transform=\"translate(66.63636363636364,124.33333333333333)\" d=\"M5.893415483146838,0A5.893415483146838,5.893415483146838,0,1,1,-5.893415483146838,0A5.893415483146838,5.893415483146838,0,1,1,5.893415483146838,0\" style=\"fill: none; stroke: rgb(58, 137, 193); stroke-width: 2; opacity: 0.7;\"></path><path transform=\"translate(73.18181818181819,125.93333333333334)\" d=\"M6.121041140796365,0A6.121041140796365,6.121041140796365,0,1,1,-6.121041140796365,0A6.121041140796365,6.121041140796365,0,1,1,6.121041140796365,0\" style=\"fill: none; stroke: rgb(51, 131, 190); stroke-width: 2; opacity: 0.7;\"></path><path transform=\"translate(84.36363636363636,128.60000000000002)\" d=\"M6.4237336430585925,0A6.4237336430585925,6.4237336430585925,0,1,1,-6.4237336430585925,0A6.4237336430585925,6.4237336430585925,0,1,1,6.4237336430585925,0\" style=\"fill: none; stroke: rgb(45, 125, 186); stroke-width: 2; opacity: 0.7;\"></path><path transform=\"translate(89.81818181818181,128.60000000000002)\" d=\"M6.635316842193662,0A6.635316842193662,6.635316842193662,0,1,1,-6.635316842193662,0A6.635316842193662,6.635316842193662,0,1,1,6.635316842193662,0\" style=\"fill: none; stroke: rgb(39, 118, 183); stroke-width: 2; opacity: 0.7;\"></path><path transform=\"translate(97,128.06666666666666)\" d=\"M6.792652810167598,0A6.792652810167598,6.792652810167598,0,1,1,-6.792652810167598,0A6.792652810167598,6.792652810167598,0,1,1,6.792652810167598,0\" style=\"fill: none; stroke: rgb(33, 112, 179); stroke-width: 2; opacity: 0.7;\"></path><path transform=\"translate(103.18181818181817,129.26666666666668)\" d=\"M6.955143588286821,0A6.955143588286821,6.955143588286821,0,1,1,-6.955143588286821,0A6.955143588286821,6.955143588286821,0,1,1,6.955143588286821,0\" style=\"fill: none; stroke: rgb(28, 106, 174); stroke-width: 2; opacity: 0.7;\"></path><path transform=\"translate(103.18181818181817,131.86666666666667)\" d=\"M7.1329211840721305,0A7.1329211840721305,7.1329211840721305,0,1,1,-7.1329211840721305,0A7.1329211840721305,7.1329211840721305,0,1,1,7.1329211840721305,0\" style=\"fill: none; stroke: rgb(23, 99, 169); stroke-width: 2; opacity: 0.7;\"></path><path transform=\"translate(114.18181818181819,135.46666666666667)\" d=\"M7.300127017267072,0A7.300127017267072,7.300127017267072,0,1,1,-7.300127017267072,0A7.300127017267072,7.300127017267072,0,1,1,7.300127017267072,0\" style=\"fill: none; stroke: rgb(18, 93, 164); stroke-width: 2; opacity: 0.7;\"></path><path transform=\"translate(118.36363636363636,140.73333333333335)\" d=\"M7.35377668621118,0A7.35377668621118,7.35377668621118,0,1,1,-7.35377668621118,0A7.35377668621118,7.35377668621118,0,1,1,7.35377668621118,0\" style=\"fill: none; stroke: rgb(16, 86, 158); stroke-width: 2; opacity: 0.7;\"></path><path transform=\"translate(137.63636363636365,145.86666666666667)\" d=\"M7.4609671645569655,0A7.4609671645569655,7.4609671645569655,0,1,1,-7.4609671645569655,0A7.4609671645569655,7.4609671645569655,0,1,1,7.4609671645569655,0\" style=\"fill: none; stroke: rgb(13, 80, 151); stroke-width: 2; opacity: 0.7;\"></path><path transform=\"translate(150.63636363636363,147.33333333333334)\" d=\"M7.705196906905585,0A7.705196906905585,7.705196906905585,0,1,1,-7.705196906905585,0A7.705196906905585,7.705196906905585,0,1,1,7.705196906905585,0\" style=\"fill: none; stroke: rgb(10, 74, 144); stroke-width: 2; opacity: 0.7;\"></path><path transform=\"translate(24.545454545454547,131.06666666666666)\" d=\"M2.4062566321613246,0A2.4062566321613246,2.4062566321613246,0,1,1,-2.4062566321613246,0A2.4062566321613246,2.4062566321613246,0,1,1,2.4062566321613246,0\" style=\"fill: none; stroke: rgb(207, 225, 242); stroke-width: 2; opacity: 0.7;\"></path><path transform=\"translate(24.81818181818182,131.60000000000002)\" d=\"M2.5094922436497127,0A2.5094922436497127,2.5094922436497127,0,1,1,-2.5094922436497127,0A2.5094922436497127,2.5094922436497127,0,1,1,2.5094922436497127,0\" style=\"fill: none; stroke: rgb(201, 222, 240); stroke-width: 2; opacity: 0.7;\"></path><path transform=\"translate(24.727272727272727,133.13333333333333)\" d=\"M2.586339174297931,0A2.586339174297931,2.586339174297931,0,1,1,-2.586339174297931,0A2.586339174297931,2.586339174297931,0,1,1,2.586339174297931,0\" style=\"fill: none; stroke: rgb(195, 219, 238); stroke-width: 2; opacity: 0.7;\"></path><path transform=\"translate(27.545454545454547,134.06666666666666)\" d=\"M2.7144897712962726,0A2.7144897712962726,2.7144897712962726,0,1,1,-2.7144897712962726,0A2.7144897712962726,2.7144897712962726,0,1,1,2.7144897712962726,0\" style=\"fill: none; stroke: rgb(189, 216, 236); stroke-width: 2; opacity: 0.7;\"></path><path transform=\"translate(27.636363636363637,131.39999999999998)\" d=\"M2.799994979583494,0A2.799994979583494,2.799994979583494,0,1,1,-2.799994979583494,0A2.799994979583494,2.799994979583494,0,1,1,2.799994979583494,0\" style=\"fill: none; stroke: rgb(182, 212, 233); stroke-width: 2; opacity: 0.7;\"></path><path transform=\"translate(28.09090909090909,130.66666666666666)\" d=\"M2.895412820429499,0A2.895412820429499,2.895412820429499,0,1,1,-2.895412820429499,0A2.895412820429499,2.895412820429499,0,1,1,2.895412820429499,0\" style=\"fill: none; stroke: rgb(174, 209, 231); stroke-width: 2; opacity: 0.7;\"></path><path transform=\"translate(28.09090909090909,131.39999999999998)\" d=\"M2.9904585850014413,0A2.9904585850014413,2.9904585850014413,0,1,1,-2.9904585850014413,0A2.9904585850014413,2.9904585850014413,0,1,1,2.9904585850014413,0\" style=\"fill: none; stroke: rgb(166, 205, 229); stroke-width: 2; opacity: 0.7;\"></path><path transform=\"translate(33.36363636363637,133.13333333333333)\" d=\"M3.123141353350351,0A3.123141353350351,3.123141353350351,0,1,1,-3.123141353350351,0A3.123141353350351,3.123141353350351,0,1,1,3.123141353350351,0\" style=\"fill: none; stroke: rgb(158, 201, 226); stroke-width: 2; opacity: 0.7;\"></path><path transform=\"translate(35.27272727272727,130.60000000000002)\" d=\"M3.255939872127739,0A3.255939872127739,3.255939872127739,0,1,1,-3.255939872127739,0A3.255939872127739,3.255939872127739,0,1,1,3.255939872127739,0\" style=\"fill: none; stroke: rgb(149, 196, 224); stroke-width: 2; opacity: 0.7;\"></path><path transform=\"translate(40.09090909090909,130.73333333333335)\" d=\"M3.397084467248324,0A3.397084467248324,3.397084467248324,0,1,1,-3.397084467248324,0A3.397084467248324,3.397084467248324,0,1,1,3.397084467248324,0\" style=\"fill: none; stroke: rgb(140, 191, 221); stroke-width: 2; opacity: 0.7;\"></path><path transform=\"translate(41,128)\" d=\"M3.652169432952874,0A3.652169432952874,3.652169432952874,0,1,1,-3.652169432952874,0A3.652169432952874,3.652169432952874,0,1,1,3.652169432952874,0\" style=\"fill: none; stroke: rgb(131, 186, 219); stroke-width: 2; opacity: 0.7;\"></path><path transform=\"translate(41.36363636363637,126.86666666666666)\" d=\"M3.859112573703019,0A3.859112573703019,3.859112573703019,0,1,1,-3.859112573703019,0A3.859112573703019,3.859112573703019,0,1,1,3.859112573703019,0\" style=\"fill: none; stroke: rgb(122, 181, 216); stroke-width: 2; opacity: 0.7;\"></path><path transform=\"translate(44.18181818181818,123.46666666666667)\" d=\"M3.983936164805137,0A3.983936164805137,3.983936164805137,0,1,1,-3.983936164805137,0A3.983936164805137,3.983936164805137,0,1,1,3.983936164805137,0\" style=\"fill: none; stroke: rgb(113, 176, 214); stroke-width: 2; opacity: 0.7;\"></path><path transform=\"translate(46.27272727272727,120.60000000000001)\" d=\"M4.130681300759939,0A4.130681300759939,4.130681300759939,0,1,1,-4.130681300759939,0A4.130681300759939,4.130681300759939,0,1,1,4.130681300759939,0\" style=\"fill: none; stroke: rgb(104, 171, 211); stroke-width: 2; opacity: 0.7;\"></path><path transform=\"translate(47.81818181818182,118.26666666666668)\" d=\"M4.35987789979767,0A4.35987789979767,4.35987789979767,0,1,1,-4.35987789979767,0A4.35987789979767,4.35987789979767,0,1,1,4.35987789979767,0\" style=\"fill: none; stroke: rgb(95, 166, 208); stroke-width: 2; opacity: 0.7;\"></path><path transform=\"translate(51.36363636363637,115.13333333333333)\" d=\"M4.6245108583969605,0A4.6245108583969605,4.6245108583969605,0,1,1,-4.6245108583969605,0A4.6245108583969605,4.6245108583969605,0,1,1,4.6245108583969605,0\" style=\"fill: none; stroke: rgb(87, 160, 205); stroke-width: 2; opacity: 0.7;\"></path><path transform=\"translate(53.090909090909086,115.66666666666666)\" d=\"M4.8505574394823086,0A4.8505574394823086,4.8505574394823086,0,1,1,-4.8505574394823086,0A4.8505574394823086,4.8505574394823086,0,1,1,4.8505574394823086,0\" style=\"fill: none; stroke: rgb(80, 154, 202); stroke-width: 2; opacity: 0.7;\"></path><path transform=\"translate(55.90909090909091,112.13333333333333)\" d=\"M4.955688830913334,0A4.955688830913334,4.955688830913334,0,1,1,-4.955688830913334,0A4.955688830913334,4.955688830913334,0,1,1,4.955688830913334,0\" style=\"fill: none; stroke: rgb(72, 148, 199); stroke-width: 2; opacity: 0.7;\"></path><path transform=\"translate(58.81818181818183,114.20000000000002)\" d=\"M5.270252165578306,0A5.270252165578306,5.270252165578306,0,1,1,-5.270252165578306,0A5.270252165578306,5.270252165578306,0,1,1,5.270252165578306,0\" style=\"fill: none; stroke: rgb(65, 142, 196); stroke-width: 2; opacity: 0.7;\"></path><path transform=\"translate(65.54545454545455,115.06666666666666)\" d=\"M5.376467233169769,0A5.376467233169769,5.376467233169769,0,1,1,-5.376467233169769,0A5.376467233169769,5.376467233169769,0,1,1,5.376467233169769,0\" style=\"fill: none; stroke: rgb(58, 137, 193); stroke-width: 2; opacity: 0.7;\"></path><path transform=\"translate(74.54545454545455,114.66666666666666)\" d=\"M5.554134612478304,0A5.554134612478304,5.554134612478304,0,1,1,-5.554134612478304,0A5.554134612478304,5.554134612478304,0,1,1,5.554134612478304,0\" style=\"fill: none; stroke: rgb(51, 131, 190); stroke-width: 2; opacity: 0.7;\"></path><path transform=\"translate(85.09090909090908,117.93333333333334)\" d=\"M5.781848146574335,0A5.781848146574335,5.781848146574335,0,1,1,-5.781848146574335,0A5.781848146574335,5.781848146574335,0,1,1,5.781848146574335,0\" style=\"fill: none; stroke: rgb(45, 125, 186); stroke-width: 2; opacity: 0.7;\"></path><path transform=\"translate(89.54545454545455,116.13333333333333)\" d=\"M5.97724143767763,0A5.97724143767763,5.97724143767763,0,1,1,-5.97724143767763,0A5.97724143767763,5.97724143767763,0,1,1,5.97724143767763,0\" style=\"fill: none; stroke: rgb(39, 118, 183); stroke-width: 2; opacity: 0.7;\"></path><path transform=\"translate(94.18181818181817,116)\" d=\"M6.1117714159816945,0A6.1117714159816945,6.1117714159816945,0,1,1,-6.1117714159816945,0A6.1117714159816945,6.1117714159816945,0,1,1,6.1117714159816945,0\" style=\"fill: none; stroke: rgb(33, 112, 179); stroke-width: 2; opacity: 0.7;\"></path><path transform=\"translate(102.72727272727273,118.46666666666667)\" d=\"M6.2183923676946415,0A6.2183923676946415,6.2183923676946415,0,1,1,-6.2183923676946415,0A6.2183923676946415,6.2183923676946415,0,1,1,6.2183923676946415,0\" style=\"fill: none; stroke: rgb(28, 106, 174); stroke-width: 2; opacity: 0.7;\"></path><path transform=\"translate(109.00000000000001,119)\" d=\"M6.448055893611828,0A6.448055893611828,6.448055893611828,0,1,1,-6.448055893611828,0A6.448055893611828,6.448055893611828,0,1,1,6.448055893611828,0\" style=\"fill: none; stroke: rgb(23, 99, 169); stroke-width: 2; opacity: 0.7;\"></path><path transform=\"translate(116.0909090909091,121.13333333333334)\" d=\"M6.631370095396325,0A6.631370095396325,6.631370095396325,0,1,1,-6.631370095396325,0A6.631370095396325,6.631370095396325,0,1,1,6.631370095396325,0\" style=\"fill: none; stroke: rgb(18, 93, 164); stroke-width: 2; opacity: 0.7;\"></path><path transform=\"translate(128.36363636363635,124.6)\" d=\"M6.955798794099983,0A6.955798794099983,6.955798794099983,0,1,1,-6.955798794099983,0A6.955798794099983,6.955798794099983,0,1,1,6.955798794099983,0\" style=\"fill: none; stroke: rgb(16, 86, 158); stroke-width: 2; opacity: 0.7;\"></path><path transform=\"translate(133.1818181818182,122.13333333333334)\" d=\"M7.107927524972993,0A7.107927524972993,7.107927524972993,0,1,1,-7.107927524972993,0A7.107927524972993,7.107927524972993,0,1,1,7.107927524972993,0\" style=\"fill: none; stroke: rgb(13, 80, 151); stroke-width: 2; opacity: 0.7;\"></path><path transform=\"translate(161.1818181818182,116)\" d=\"M7.367858031706606,0A7.367858031706606,7.367858031706606,0,1,1,-7.367858031706606,0A7.367858031706606,7.367858031706606,0,1,1,7.367858031706606,0\" style=\"fill: none; stroke: rgb(10, 74, 144); stroke-width: 2; opacity: 0.7;\"></path><path transform=\"translate(23,105.33333333333333)\" d=\"M3.295182293076247,0A3.295182293076247,3.295182293076247,0,1,1,-3.295182293076247,0A3.295182293076247,3.295182293076247,0,1,1,3.295182293076247,0\" style=\"fill: none; stroke: rgb(207, 225, 242); stroke-width: 2; opacity: 0.7;\"></path><path transform=\"translate(23.18181818181818,107.8)\" d=\"M3.411147498721975,0A3.411147498721975,3.411147498721975,0,1,1,-3.411147498721975,0A3.411147498721975,3.411147498721975,0,1,1,3.411147498721975,0\" style=\"fill: none; stroke: rgb(201, 222, 240); stroke-width: 2; opacity: 0.7;\"></path><path transform=\"translate(23,106.66666666666667)\" d=\"M3.486517375893121,0A3.486517375893121,3.486517375893121,0,1,1,-3.486517375893121,0A3.486517375893121,3.486517375893121,0,1,1,3.486517375893121,0\" style=\"fill: none; stroke: rgb(195, 219, 238); stroke-width: 2; opacity: 0.7;\"></path><path transform=\"translate(23.18181818181818,108.8)\" d=\"M3.591025564870112,0A3.591025564870112,3.591025564870112,0,1,1,-3.591025564870112,0A3.591025564870112,3.591025564870112,0,1,1,3.591025564870112,0\" style=\"fill: none; stroke: rgb(189, 216, 236); stroke-width: 2; opacity: 0.7;\"></path><path transform=\"translate(23.636363636363637,109.46666666666665)\" d=\"M3.6799646498194605,0A3.6799646498194605,3.6799646498194605,0,1,1,-3.6799646498194605,0A3.6799646498194605,3.6799646498194605,0,1,1,3.6799646498194605,0\" style=\"fill: none; stroke: rgb(182, 212, 233); stroke-width: 2; opacity: 0.7;\"></path><path transform=\"translate(32.18181818181818,117.13333333333334)\" d=\"M3.799205166004057,0A3.799205166004057,3.799205166004057,0,1,1,-3.799205166004057,0A3.799205166004057,3.799205166004057,0,1,1,3.799205166004057,0\" style=\"fill: none; stroke: rgb(174, 209, 231); stroke-width: 2; opacity: 0.7;\"></path><path transform=\"translate(33.27272727272727,117.39999999999999)\" d=\"M3.915355232710718,0A3.915355232710718,3.915355232710718,0,1,1,-3.915355232710718,0A3.915355232710718,3.915355232710718,0,1,1,3.915355232710718,0\" style=\"fill: none; stroke: rgb(166, 205, 229); stroke-width: 2; opacity: 0.7;\"></path><path transform=\"translate(35.27272727272727,118)\" d=\"M4.049610518904836,0A4.049610518904836,4.049610518904836,0,1,1,-4.049610518904836,0A4.049610518904836,4.049610518904836,0,1,1,4.049610518904836,0\" style=\"fill: none; stroke: rgb(158, 201, 226); stroke-width: 2; opacity: 0.7;\"></path><path transform=\"translate(36.09090909090909,119.33333333333334)\" d=\"M4.155214267877582,0A4.155214267877582,4.155214267877582,0,1,1,-4.155214267877582,0A4.155214267877582,4.155214267877582,0,1,1,4.155214267877582,0\" style=\"fill: none; stroke: rgb(149, 196, 224); stroke-width: 2; opacity: 0.7;\"></path><path transform=\"translate(36.27272727272727,117.66666666666666)\" d=\"M4.265142291257265,0A4.265142291257265,4.265142291257265,0,1,1,-4.265142291257265,0A4.265142291257265,4.265142291257265,0,1,1,4.265142291257265,0\" style=\"fill: none; stroke: rgb(140, 191, 221); stroke-width: 2; opacity: 0.7;\"></path><path transform=\"translate(36.27272727272727,117.06666666666666)\" d=\"M4.467930057380911,0A4.467930057380911,4.467930057380911,0,1,1,-4.467930057380911,0A4.467930057380911,4.467930057380911,0,1,1,4.467930057380911,0\" style=\"fill: none; stroke: rgb(131, 186, 219); stroke-width: 2; opacity: 0.7;\"></path><path transform=\"translate(38.09090909090909,115.53333333333333)\" d=\"M4.6831625099427,0A4.6831625099427,4.6831625099427,0,1,1,-4.6831625099427,0A4.6831625099427,4.6831625099427,0,1,1,4.6831625099427,0\" style=\"fill: none; stroke: rgb(122, 181, 216); stroke-width: 2; opacity: 0.7;\"></path><path transform=\"translate(40.909090909090914,115.26666666666668)\" d=\"M4.9001546620093075,0A4.9001546620093075,4.9001546620093075,0,1,1,-4.9001546620093075,0A4.9001546620093075,4.9001546620093075,0,1,1,4.9001546620093075,0\" style=\"fill: none; stroke: rgb(113, 176, 214); stroke-width: 2; opacity: 0.7;\"></path><path transform=\"translate(43.90909090909091,114.66666666666666)\" d=\"M5.092605896681292,0A5.092605896681292,5.092605896681292,0,1,1,-5.092605896681292,0A5.092605896681292,5.092605896681292,0,1,1,5.092605896681292,0\" style=\"fill: none; stroke: rgb(104, 171, 211); stroke-width: 2; opacity: 0.7;\"></path><path transform=\"translate(44.54545454545455,115.73333333333333)\" d=\"M5.319522911669028,0A5.319522911669028,5.319522911669028,0,1,1,-5.319522911669028,0A5.319522911669028,5.319522911669028,0,1,1,5.319522911669028,0\" style=\"fill: none; stroke: rgb(95, 166, 208); stroke-width: 2; opacity: 0.7;\"></path><path transform=\"translate(53.36363636363637,115.93333333333334)\" d=\"M5.6012779416356535,0A5.6012779416356535,5.6012779416356535,0,1,1,-5.6012779416356535,0A5.6012779416356535,5.6012779416356535,0,1,1,5.6012779416356535,0\" style=\"fill: none; stroke: rgb(87, 160, 205); stroke-width: 2; opacity: 0.7;\"></path><path transform=\"translate(54.63636363636364,118.73333333333332)\" d=\"M5.919001675663335,0A5.919001675663335,5.919001675663335,0,1,1,-5.919001675663335,0A5.919001675663335,5.919001675663335,0,1,1,5.919001675663335,0\" style=\"fill: none; stroke: rgb(80, 154, 202); stroke-width: 2; opacity: 0.7;\"></path><path transform=\"translate(56.45454545454546,119.86666666666666)\" d=\"M6.220178490887179,0A6.220178490887179,6.220178490887179,0,1,1,-6.220178490887179,0A6.220178490887179,6.220178490887179,0,1,1,6.220178490887179,0\" style=\"fill: none; stroke: rgb(72, 148, 199); stroke-width: 2; opacity: 0.7;\"></path><path transform=\"translate(60.36363636363637,120.93333333333334)\" d=\"M6.504507695485738,0A6.504507695485738,6.504507695485738,0,1,1,-6.504507695485738,0A6.504507695485738,6.504507695485738,0,1,1,6.504507695485738,0\" style=\"fill: none; stroke: rgb(65, 142, 196); stroke-width: 2; opacity: 0.7;\"></path><path transform=\"translate(66.18181818181817,123.06666666666666)\" d=\"M6.666246665250651,0A6.666246665250651,6.666246665250651,0,1,1,-6.666246665250651,0A6.666246665250651,6.666246665250651,0,1,1,6.666246665250651,0\" style=\"fill: none; stroke: rgb(58, 137, 193); stroke-width: 2; opacity: 0.7;\"></path><path transform=\"translate(77.18181818181819,126.13333333333333)\" d=\"M6.858750032511226,0A6.858750032511226,6.858750032511226,0,1,1,-6.858750032511226,0A6.858750032511226,6.858750032511226,0,1,1,6.858750032511226,0\" style=\"fill: none; stroke: rgb(51, 131, 190); stroke-width: 2; opacity: 0.7;\"></path><path transform=\"translate(86.27272727272728,130.13333333333333)\" d=\"M7.136000512069644,0A7.136000512069644,7.136000512069644,0,1,1,-7.136000512069644,0A7.136000512069644,7.136000512069644,0,1,1,7.136000512069644,0\" style=\"fill: none; stroke: rgb(45, 125, 186); stroke-width: 2; opacity: 0.7;\"></path><path transform=\"translate(89.0909090909091,131.46666666666667)\" d=\"M7.33490572653838,0A7.33490572653838,7.33490572653838,0,1,1,-7.33490572653838,0A7.33490572653838,7.33490572653838,0,1,1,7.33490572653838,0\" style=\"fill: none; stroke: rgb(39, 118, 183); stroke-width: 2; opacity: 0.7;\"></path><path transform=\"translate(94.9090909090909,133.53333333333333)\" d=\"M7.491976916760546,0A7.491976916760546,7.491976916760546,0,1,1,-7.491976916760546,0A7.491976916760546,7.491976916760546,0,1,1,7.491976916760546,0\" style=\"fill: none; stroke: rgb(33, 112, 179); stroke-width: 2; opacity: 0.7;\"></path><path transform=\"translate(94.45454545454545,135)\" d=\"M7.66376705855418,0A7.66376705855418,7.66376705855418,0,1,1,-7.66376705855418,0A7.66376705855418,7.66376705855418,0,1,1,7.66376705855418,0\" style=\"fill: none; stroke: rgb(28, 106, 174); stroke-width: 2; opacity: 0.7;\"></path><path transform=\"translate(106.72727272727273,139.93333333333334)\" d=\"M7.925404008017558,0A7.925404008017558,7.925404008017558,0,1,1,-7.925404008017558,0A7.925404008017558,7.925404008017558,0,1,1,7.925404008017558,0\" style=\"fill: none; stroke: rgb(23, 99, 169); stroke-width: 2; opacity: 0.7;\"></path><path transform=\"translate(114.90909090909092,145.06666666666666)\" d=\"M8.10112247799553,0A8.10112247799553,8.10112247799553,0,1,1,-8.10112247799553,0A8.10112247799553,8.10112247799553,0,1,1,8.10112247799553,0\" style=\"fill: none; stroke: rgb(18, 93, 164); stroke-width: 2; opacity: 0.7;\"></path><path transform=\"translate(148.90909090909093,148.13333333333333)\" d=\"M8.245880141519908,0A8.245880141519908,8.245880141519908,0,1,1,-8.245880141519908,0A8.245880141519908,8.245880141519908,0,1,1,8.245880141519908,0\" style=\"fill: none; stroke: rgb(16, 86, 158); stroke-width: 2; opacity: 0.7;\"></path><path transform=\"translate(169.8181818181818,154.2)\" d=\"M8.321663045505995,0A8.321663045505995,8.321663045505995,0,1,1,-8.321663045505995,0A8.321663045505995,8.321663045505995,0,1,1,8.321663045505995,0\" style=\"fill: none; stroke: rgb(13, 80, 151); stroke-width: 2; opacity: 0.7;\"></path><path transform=\"translate(183.54545454545453,155)\" d=\"M8.505293973161981,0A8.505293973161981,8.505293973161981,0,1,1,-8.505293973161981,0A8.505293973161981,8.505293973161981,0,1,1,8.505293973161981,0\" style=\"fill: none; stroke: rgb(10, 74, 144); stroke-width: 2; opacity: 0.7;\"></path><path transform=\"translate(24.363636363636367,95.86666666666667)\" d=\"M3.3758495916575892,0A3.3758495916575892,3.3758495916575892,0,1,1,-3.3758495916575892,0A3.3758495916575892,3.3758495916575892,0,1,1,3.3758495916575892,0\" style=\"fill: none; stroke: rgb(207, 225, 242); stroke-width: 2; opacity: 0.7;\"></path><path transform=\"translate(25.272727272727273,104.33333333333333)\" d=\"M3.484441138040331,0A3.484441138040331,3.484441138040331,0,1,1,-3.484441138040331,0A3.484441138040331,3.484441138040331,0,1,1,3.484441138040331,0\" style=\"fill: none; stroke: rgb(201, 222, 240); stroke-width: 2; opacity: 0.7;\"></path><path transform=\"translate(25.54545454545455,102)\" d=\"M3.5651816621818777,0A3.5651816621818777,3.5651816621818777,0,1,1,-3.5651816621818777,0A3.5651816621818777,3.5651816621818777,0,1,1,3.5651816621818777,0\" style=\"fill: none; stroke: rgb(195, 219, 238); stroke-width: 2; opacity: 0.7;\"></path><path transform=\"translate(27.363636363636363,103.66666666666666)\" d=\"M3.696586395642441,0A3.696586395642441,3.696586395642441,0,1,1,-3.696586395642441,0A3.696586395642441,3.696586395642441,0,1,1,3.696586395642441,0\" style=\"fill: none; stroke: rgb(189, 216, 236); stroke-width: 2; opacity: 0.7;\"></path><path transform=\"translate(28.272727272727273,102.93333333333334)\" d=\"M3.836590545442913,0A3.836590545442913,3.836590545442913,0,1,1,-3.836590545442913,0A3.836590545442913,3.836590545442913,0,1,1,3.836590545442913,0\" style=\"fill: none; stroke: rgb(182, 212, 233); stroke-width: 2; opacity: 0.7;\"></path><path transform=\"translate(28.454545454545453,104.53333333333335)\" d=\"M3.904174664067335,0A3.904174664067335,3.904174664067335,0,1,1,-3.904174664067335,0A3.904174664067335,3.904174664067335,0,1,1,3.904174664067335,0\" style=\"fill: none; stroke: rgb(174, 209, 231); stroke-width: 2; opacity: 0.7;\"></path><path transform=\"translate(29.272727272727277,103.53333333333335)\" d=\"M4.0219254582997825,0A4.0219254582997825,4.0219254582997825,0,1,1,-4.0219254582997825,0A4.0219254582997825,4.0219254582997825,0,1,1,4.0219254582997825,0\" style=\"fill: none; stroke: rgb(166, 205, 229); stroke-width: 2; opacity: 0.7;\"></path><path transform=\"translate(38.36363636363637,120)\" d=\"M4.187110750149267,0A4.187110750149267,4.187110750149267,0,1,1,-4.187110750149267,0A4.187110750149267,4.187110750149267,0,1,1,4.187110750149267,0\" style=\"fill: none; stroke: rgb(158, 201, 226); stroke-width: 2; opacity: 0.7;\"></path><path transform=\"translate(41.36363636363637,121.60000000000001)\" d=\"M4.2946798375518025,0A4.2946798375518025,4.2946798375518025,0,1,1,-4.2946798375518025,0A4.2946798375518025,4.2946798375518025,0,1,1,4.2946798375518025,0\" style=\"fill: none; stroke: rgb(149, 196, 224); stroke-width: 2; opacity: 0.7;\"></path><path transform=\"translate(46.63636363636363,126.13333333333333)\" d=\"M4.399619685807089,0A4.399619685807089,4.399619685807089,0,1,1,-4.399619685807089,0A4.399619685807089,4.399619685807089,0,1,1,4.399619685807089,0\" style=\"fill: none; stroke: rgb(140, 191, 221); stroke-width: 2; opacity: 0.7;\"></path><path transform=\"translate(46,127.13333333333333)\" d=\"M4.636753953405839,0A4.636753953405839,4.636753953405839,0,1,1,-4.636753953405839,0A4.636753953405839,4.636753953405839,0,1,1,4.636753953405839,0\" style=\"fill: none; stroke: rgb(131, 186, 219); stroke-width: 2; opacity: 0.7;\"></path><path transform=\"translate(47.72727272727273,125.06666666666666)\" d=\"M4.823881868311658,0A4.823881868311658,4.823881868311658,0,1,1,-4.823881868311658,0A4.823881868311658,4.823881868311658,0,1,1,4.823881868311658,0\" style=\"fill: none; stroke: rgb(122, 181, 216); stroke-width: 2; opacity: 0.7;\"></path><path transform=\"translate(49.54545454545455,126.53333333333333)\" d=\"M5.006107414543108,0A5.006107414543108,5.006107414543108,0,1,1,-5.006107414543108,0A5.006107414543108,5.006107414543108,0,1,1,5.006107414543108,0\" style=\"fill: none; stroke: rgb(113, 176, 214); stroke-width: 2; opacity: 0.7;\"></path><path transform=\"translate(52.36363636363637,124.4)\" d=\"M5.171823281406441,0A5.171823281406441,5.171823281406441,0,1,1,-5.171823281406441,0A5.171823281406441,5.171823281406441,0,1,1,5.171823281406441,0\" style=\"fill: none; stroke: rgb(104, 171, 211); stroke-width: 2; opacity: 0.7;\"></path><path transform=\"translate(53.090909090909086,121.8)\" d=\"M5.418039274453966,0A5.418039274453966,5.418039274453966,0,1,1,-5.418039274453966,0A5.418039274453966,5.418039274453966,0,1,1,5.418039274453966,0\" style=\"fill: none; stroke: rgb(95, 166, 208); stroke-width: 2; opacity: 0.7;\"></path><path transform=\"translate(56.09090909090909,121.66666666666667)\" d=\"M5.701090841998667,0A5.701090841998667,5.701090841998667,0,1,1,-5.701090841998667,0A5.701090841998667,5.701090841998667,0,1,1,5.701090841998667,0\" style=\"fill: none; stroke: rgb(87, 160, 205); stroke-width: 2; opacity: 0.7;\"></path><path transform=\"translate(58.545454545454554,121.73333333333332)\" d=\"M6.02967881195824,0A6.02967881195824,6.02967881195824,0,1,1,-6.02967881195824,0A6.02967881195824,6.02967881195824,0,1,1,6.02967881195824,0\" style=\"fill: none; stroke: rgb(80, 154, 202); stroke-width: 2; opacity: 0.7;\"></path><path transform=\"translate(60.909090909090914,121.33333333333334)\" d=\"M6.373192522448036,0A6.373192522448036,6.373192522448036,0,1,1,-6.373192522448036,0A6.373192522448036,6.373192522448036,0,1,1,6.373192522448036,0\" style=\"fill: none; stroke: rgb(72, 148, 199); stroke-width: 2; opacity: 0.7;\"></path><path transform=\"translate(72.81818181818181,122.39999999999999)\" d=\"M6.698177634161465,0A6.698177634161465,6.698177634161465,0,1,1,-6.698177634161465,0A6.698177634161465,6.698177634161465,0,1,1,6.698177634161465,0\" style=\"fill: none; stroke: rgb(65, 142, 196); stroke-width: 2; opacity: 0.7;\"></path><path transform=\"translate(77.81818181818181,123.53333333333333)\" d=\"M6.958665289813101,0A6.958665289813101,6.958665289813101,0,1,1,-6.958665289813101,0A6.958665289813101,6.958665289813101,0,1,1,6.958665289813101,0\" style=\"fill: none; stroke: rgb(58, 137, 193); stroke-width: 2; opacity: 0.7;\"></path><path transform=\"translate(86.9090909090909,123.93333333333334)\" d=\"M7.262668745396179,0A7.262668745396179,7.262668745396179,0,1,1,-7.262668745396179,0A7.262668745396179,7.262668745396179,0,1,1,7.262668745396179,0\" style=\"fill: none; stroke: rgb(51, 131, 190); stroke-width: 2; opacity: 0.7;\"></path><path transform=\"translate(103.18181818181817,125)\" d=\"M7.641206517179175,0A7.641206517179175,7.641206517179175,0,1,1,-7.641206517179175,0A7.641206517179175,7.641206517179175,0,1,1,7.641206517179175,0\" style=\"fill: none; stroke: rgb(45, 125, 186); stroke-width: 2; opacity: 0.7;\"></path><path transform=\"translate(107.81818181818181,126)\" d=\"M7.832699053687889,0A7.832699053687889,7.832699053687889,0,1,1,-7.832699053687889,0A7.832699053687889,7.832699053687889,0,1,1,7.832699053687889,0\" style=\"fill: none; stroke: rgb(39, 118, 183); stroke-width: 2; opacity: 0.7;\"></path><path transform=\"translate(107.72727272727273,127.66666666666666)\" d=\"M8.03031170035135,0A8.03031170035135,8.03031170035135,0,1,1,-8.03031170035135,0A8.03031170035135,8.03031170035135,0,1,1,8.03031170035135,0\" style=\"fill: none; stroke: rgb(33, 112, 179); stroke-width: 2; opacity: 0.7;\"></path><path transform=\"translate(111.54545454545455,127.33333333333333)\" d=\"M8.335147932177367,0A8.335147932177367,8.335147932177367,0,1,1,-8.335147932177367,0A8.335147932177367,8.335147932177367,0,1,1,8.335147932177367,0\" style=\"fill: none; stroke: rgb(28, 106, 174); stroke-width: 2; opacity: 0.7;\"></path><path transform=\"translate(117.90909090909089,130.13333333333333)\" d=\"M8.746523845470728,0A8.746523845470728,8.746523845470728,0,1,1,-8.746523845470728,0A8.746523845470728,8.746523845470728,0,1,1,8.746523845470728,0\" style=\"fill: none; stroke: rgb(23, 99, 169); stroke-width: 2; opacity: 0.7;\"></path><path transform=\"translate(129.0909090909091,132.93333333333334)\" d=\"M8.99520195604537,0A8.99520195604537,8.99520195604537,0,1,1,-8.99520195604537,0A8.99520195604537,8.99520195604537,0,1,1,8.99520195604537,0\" style=\"fill: none; stroke: rgb(18, 93, 164); stroke-width: 2; opacity: 0.7;\"></path><path transform=\"translate(155.63636363636363,139)\" d=\"M9.158944704165354,0A9.158944704165354,9.158944704165354,0,1,1,-9.158944704165354,0A9.158944704165354,9.158944704165354,0,1,1,9.158944704165354,0\" style=\"fill: none; stroke: rgb(16, 86, 158); stroke-width: 2; opacity: 0.7;\"></path><path transform=\"translate(154.0909090909091,142.2)\" d=\"M9.269312760581558,0A9.269312760581558,9.269312760581558,0,1,1,-9.269312760581558,0A9.269312760581558,9.269312760581558,0,1,1,9.269312760581558,0\" style=\"fill: none; stroke: rgb(13, 80, 151); stroke-width: 2; opacity: 0.7;\"></path><path transform=\"translate(175.9090909090909,144.26666666666665)\" d=\"M9.462252735760082,0A9.462252735760082,9.462252735760082,0,1,1,-9.462252735760082,0A9.462252735760082,9.462252735760082,0,1,1,9.462252735760082,0\" style=\"fill: none; stroke: rgb(10, 74, 144); stroke-width: 2; opacity: 0.7;\"></path><path transform=\"translate(24.363636363636367,89.46666666666665)\" d=\"M2.9741087438703375,0A2.9741087438703375,2.9741087438703375,0,1,1,-2.9741087438703375,0A2.9741087438703375,2.9741087438703375,0,1,1,2.9741087438703375,0\" style=\"fill: none; stroke: rgb(207, 225, 242); stroke-width: 2; opacity: 0.7;\"></path><path transform=\"translate(24.636363636363637,86.06666666666666)\" d=\"M3.01581989323867,0A3.01581989323867,3.01581989323867,0,1,1,-3.01581989323867,0A3.01581989323867,3.01581989323867,0,1,1,3.01581989323867,0\" style=\"fill: none; stroke: rgb(201, 222, 240); stroke-width: 2; opacity: 0.7;\"></path><path transform=\"translate(24.727272727272727,86.13333333333333)\" d=\"M3.1453438272656222,0A3.1453438272656222,3.1453438272656222,0,1,1,-3.1453438272656222,0A3.1453438272656222,3.1453438272656222,0,1,1,3.1453438272656222,0\" style=\"fill: none; stroke: rgb(195, 219, 238); stroke-width: 2; opacity: 0.7;\"></path><path transform=\"translate(28.18181818181818,92.46666666666665)\" d=\"M3.2445535061815107,0A3.2445535061815107,3.2445535061815107,0,1,1,-3.2445535061815107,0A3.2445535061815107,3.2445535061815107,0,1,1,3.2445535061815107,0\" style=\"fill: none; stroke: rgb(189, 216, 236); stroke-width: 2; opacity: 0.7;\"></path><path transform=\"translate(27.90909090909091,94.53333333333333)\" d=\"M3.3469518583282833,0A3.3469518583282833,3.3469518583282833,0,1,1,-3.3469518583282833,0A3.3469518583282833,3.3469518583282833,0,1,1,3.3469518583282833,0\" style=\"fill: none; stroke: rgb(182, 212, 233); stroke-width: 2; opacity: 0.7;\"></path><path transform=\"translate(29.09090909090909,90.13333333333333)\" d=\"M3.460347021247813,0A3.460347021247813,3.460347021247813,0,1,1,-3.460347021247813,0A3.460347021247813,3.460347021247813,0,1,1,3.460347021247813,0\" style=\"fill: none; stroke: rgb(174, 209, 231); stroke-width: 2; opacity: 0.7;\"></path><path transform=\"translate(29.272727272727277,83)\" d=\"M3.585775784722673,0A3.585775784722673,3.585775784722673,0,1,1,-3.585775784722673,0A3.585775784722673,3.585775784722673,0,1,1,3.585775784722673,0\" style=\"fill: none; stroke: rgb(166, 205, 229); stroke-width: 2; opacity: 0.7;\"></path><path transform=\"translate(35.45454545454545,96.66666666666666)\" d=\"M3.697393996982433,0A3.697393996982433,3.697393996982433,0,1,1,-3.697393996982433,0A3.697393996982433,3.697393996982433,0,1,1,3.697393996982433,0\" style=\"fill: none; stroke: rgb(158, 201, 226); stroke-width: 2; opacity: 0.7;\"></path><path transform=\"translate(37.54545454545454,92.6)\" d=\"M3.819921387667161,0A3.819921387667161,3.819921387667161,0,1,1,-3.819921387667161,0A3.819921387667161,3.819921387667161,0,1,1,3.819921387667161,0\" style=\"fill: none; stroke: rgb(149, 196, 224); stroke-width: 2; opacity: 0.7;\"></path><path transform=\"translate(40.63636363636364,95.8)\" d=\"M3.9631789516244713,0A3.9631789516244713,3.9631789516244713,0,1,1,-3.9631789516244713,0A3.9631789516244713,3.9631789516244713,0,1,1,3.9631789516244713,0\" style=\"fill: none; stroke: rgb(140, 191, 221); stroke-width: 2; opacity: 0.7;\"></path><path transform=\"translate(40,96.86666666666667)\" d=\"M4.166384473617289,0A4.166384473617289,4.166384473617289,0,1,1,-4.166384473617289,0A4.166384473617289,4.166384473617289,0,1,1,4.166384473617289,0\" style=\"fill: none; stroke: rgb(131, 186, 219); stroke-width: 2; opacity: 0.7;\"></path><path transform=\"translate(40.18181818181819,99.13333333333331)\" d=\"M4.312833814251283,0A4.312833814251283,4.312833814251283,0,1,1,-4.312833814251283,0A4.312833814251283,4.312833814251283,0,1,1,4.312833814251283,0\" style=\"fill: none; stroke: rgb(122, 181, 216); stroke-width: 2; opacity: 0.7;\"></path><path transform=\"translate(41.72727272727273,101.6)\" d=\"M4.471599575855197,0A4.471599575855197,4.471599575855197,0,1,1,-4.471599575855197,0A4.471599575855197,4.471599575855197,0,1,1,4.471599575855197,0\" style=\"fill: none; stroke: rgb(113, 176, 214); stroke-width: 2; opacity: 0.7;\"></path><path transform=\"translate(45.54545454545455,98)\" d=\"M4.612808073058543,0A4.612808073058543,4.612808073058543,0,1,1,-4.612808073058543,0A4.612808073058543,4.612808073058543,0,1,1,4.612808073058543,0\" style=\"fill: none; stroke: rgb(104, 171, 211); stroke-width: 2; opacity: 0.7;\"></path><path transform=\"translate(47,97.8)\" d=\"M4.783460333238444,0A4.783460333238444,4.783460333238444,0,1,1,-4.783460333238444,0A4.783460333238444,4.783460333238444,0,1,1,4.783460333238444,0\" style=\"fill: none; stroke: rgb(95, 166, 208); stroke-width: 2; opacity: 0.7;\"></path><path transform=\"translate(53.36363636363637,96.33333333333334)\" d=\"M5.006295138118666,0A5.006295138118666,5.006295138118666,0,1,1,-5.006295138118666,0A5.006295138118666,5.006295138118666,0,1,1,5.006295138118666,0\" style=\"fill: none; stroke: rgb(87, 160, 205); stroke-width: 2; opacity: 0.7;\"></path><path transform=\"translate(54.54545454545454,99.86666666666667)\" d=\"M5.23887949181075,0A5.23887949181075,5.23887949181075,0,1,1,-5.23887949181075,0A5.23887949181075,5.23887949181075,0,1,1,5.23887949181075,0\" style=\"fill: none; stroke: rgb(80, 154, 202); stroke-width: 2; opacity: 0.7;\"></path><path transform=\"translate(57.00000000000001,99.66666666666666)\" d=\"M5.513891584210562,0A5.513891584210562,5.513891584210562,0,1,1,-5.513891584210562,0A5.513891584210562,5.513891584210562,0,1,1,5.513891584210562,0\" style=\"fill: none; stroke: rgb(72, 148, 199); stroke-width: 2; opacity: 0.7;\"></path><path transform=\"translate(60,98.26666666666668)\" d=\"M5.763543902416174,0A5.763543902416174,5.763543902416174,0,1,1,-5.763543902416174,0A5.763543902416174,5.763543902416174,0,1,1,5.763543902416174,0\" style=\"fill: none; stroke: rgb(65, 142, 196); stroke-width: 2; opacity: 0.7;\"></path><path transform=\"translate(67.36363636363636,97.26666666666668)\" d=\"M6.003132955803725,0A6.003132955803725,6.003132955803725,0,1,1,-6.003132955803725,0A6.003132955803725,6.003132955803725,0,1,1,6.003132955803725,0\" style=\"fill: none; stroke: rgb(58, 137, 193); stroke-width: 2; opacity: 0.7;\"></path><path transform=\"translate(74.54545454545455,100.26666666666667)\" d=\"M6.27941454347181,0A6.27941454347181,6.27941454347181,0,1,1,-6.27941454347181,0A6.27941454347181,6.27941454347181,0,1,1,6.27941454347181,0\" style=\"fill: none; stroke: rgb(51, 131, 190); stroke-width: 2; opacity: 0.7;\"></path><path transform=\"translate(82.81818181818181,104)\" d=\"M6.5014505506874505,0A6.5014505506874505,6.5014505506874505,0,1,1,-6.5014505506874505,0A6.5014505506874505,6.5014505506874505,0,1,1,6.5014505506874505,0\" style=\"fill: none; stroke: rgb(45, 125, 186); stroke-width: 2; opacity: 0.7;\"></path><path transform=\"translate(89.72727272727273,103.66666666666666)\" d=\"M6.72530522670103,0A6.72530522670103,6.72530522670103,0,1,1,-6.72530522670103,0A6.72530522670103,6.72530522670103,0,1,1,6.72530522670103,0\" style=\"fill: none; stroke: rgb(39, 118, 183); stroke-width: 2; opacity: 0.7;\"></path><path transform=\"translate(95.63636363636364,105.06666666666666)\" d=\"M6.86877187852173,0A6.86877187852173,6.86877187852173,0,1,1,-6.86877187852173,0A6.86877187852173,6.86877187852173,0,1,1,6.86877187852173,0\" style=\"fill: none; stroke: rgb(33, 112, 179); stroke-width: 2; opacity: 0.7;\"></path><path transform=\"translate(101.27272727272727,106)\" d=\"M7.119887545415847,0A7.119887545415847,7.119887545415847,0,1,1,-7.119887545415847,0A7.119887545415847,7.119887545415847,0,1,1,7.119887545415847,0\" style=\"fill: none; stroke: rgb(28, 106, 174); stroke-width: 2; opacity: 0.7;\"></path><path transform=\"translate(108.45454545454545,108.60000000000001)\" d=\"M7.436024125674129,0A7.436024125674129,7.436024125674129,0,1,1,-7.436024125674129,0A7.436024125674129,7.436024125674129,0,1,1,7.436024125674129,0\" style=\"fill: none; stroke: rgb(23, 99, 169); stroke-width: 2; opacity: 0.7;\"></path><path transform=\"translate(112.72727272727272,112.20000000000002)\" d=\"M7.646597528147794,0A7.646597528147794,7.646597528147794,0,1,1,-7.646597528147794,0A7.646597528147794,7.646597528147794,0,1,1,7.646597528147794,0\" style=\"fill: none; stroke: rgb(18, 93, 164); stroke-width: 2; opacity: 0.7;\"></path><path transform=\"translate(127.27272727272727,115.2)\" d=\"M8.017648552236844,0A8.017648552236844,8.017648552236844,0,1,1,-8.017648552236844,0A8.017648552236844,8.017648552236844,0,1,1,8.017648552236844,0\" style=\"fill: none; stroke: rgb(16, 86, 158); stroke-width: 2; opacity: 0.7;\"></path><path transform=\"translate(130.1818181818182,120.80000000000001)\" d=\"M8.08976841147964,0A8.08976841147964,8.08976841147964,0,1,1,-8.08976841147964,0A8.08976841147964,8.08976841147964,0,1,1,8.08976841147964,0\" style=\"fill: none; stroke: rgb(13, 80, 151); stroke-width: 2; opacity: 0.7;\"></path><path transform=\"translate(158.8181818181818,120)\" d=\"M8.460337845505045,0A8.460337845505045,8.460337845505045,0,1,1,-8.460337845505045,0A8.460337845505045,8.460337845505045,0,1,1,8.460337845505045,0\" style=\"fill: none; stroke: rgb(10, 74, 144); stroke-width: 2; opacity: 0.7;\"></path><path transform=\"translate(21.27272727272727,35.73333333333332)\" d=\"M3.2696402842498635,0A3.2696402842498635,3.2696402842498635,0,1,1,-3.2696402842498635,0A3.2696402842498635,3.2696402842498635,0,1,1,3.2696402842498635,0\" style=\"fill: none; stroke: rgb(207, 225, 242); stroke-width: 2; opacity: 0.7;\"></path><path transform=\"translate(21.727272727272727,43.133333333333326)\" d=\"M3.364432096015458,0A3.364432096015458,3.364432096015458,0,1,1,-3.364432096015458,0A3.364432096015458,3.364432096015458,0,1,1,3.364432096015458,0\" style=\"fill: none; stroke: rgb(201, 222, 240); stroke-width: 2; opacity: 0.7;\"></path><path transform=\"translate(21.90909090909091,35.66666666666666)\" d=\"M3.4643457183827637,0A3.4643457183827637,3.4643457183827637,0,1,1,-3.4643457183827637,0A3.4643457183827637,3.4643457183827637,0,1,1,3.4643457183827637,0\" style=\"fill: none; stroke: rgb(195, 219, 238); stroke-width: 2; opacity: 0.7;\"></path><path transform=\"translate(21.90909090909091,2.7333333333333485)\" d=\"M3.546422818800514,0A3.546422818800514,3.546422818800514,0,1,1,-3.546422818800514,0A3.546422818800514,3.546422818800514,0,1,1,3.546422818800514,0\" style=\"fill: none; stroke: rgb(189, 216, 236); stroke-width: 2; opacity: 0.7;\"></path><path transform=\"translate(24.181818181818183,33.46666666666667)\" d=\"M3.6890062398155625,0A3.6890062398155625,3.6890062398155625,0,1,1,-3.6890062398155625,0A3.6890062398155625,3.6890062398155625,0,1,1,3.6890062398155625,0\" style=\"fill: none; stroke: rgb(182, 212, 233); stroke-width: 2; opacity: 0.7;\"></path><path transform=\"translate(24.27272727272727,50.46666666666667)\" d=\"M3.831110906687278,0A3.831110906687278,3.831110906687278,0,1,1,-3.831110906687278,0A3.831110906687278,3.831110906687278,0,1,1,3.831110906687278,0\" style=\"fill: none; stroke: rgb(174, 209, 231); stroke-width: 2; opacity: 0.7;\"></path><path transform=\"translate(24.727272727272727,58.53333333333336)\" d=\"M3.9091694143907114,0A3.9091694143907114,3.9091694143907114,0,1,1,-3.9091694143907114,0A3.9091694143907114,3.9091694143907114,0,1,1,3.9091694143907114,0\" style=\"fill: none; stroke: rgb(166, 205, 229); stroke-width: 2; opacity: 0.7;\"></path><path transform=\"translate(25.90909090909091,66.4)\" d=\"M4.054203101161753,0A4.054203101161753,4.054203101161753,0,1,1,-4.054203101161753,0A4.054203101161753,4.054203101161753,0,1,1,4.054203101161753,0\" style=\"fill: none; stroke: rgb(158, 201, 226); stroke-width: 2; opacity: 0.7;\"></path><path transform=\"translate(29.63636363636364,58)\" d=\"M4.241970832986841,0A4.241970832986841,4.241970832986841,0,1,1,-4.241970832986841,0A4.241970832986841,4.241970832986841,0,1,1,4.241970832986841,0\" style=\"fill: none; stroke: rgb(149, 196, 224); stroke-width: 2; opacity: 0.7;\"></path><path transform=\"translate(30.63636363636364,52.93333333333334)\" d=\"M4.406408373988963,0A4.406408373988963,4.406408373988963,0,1,1,-4.406408373988963,0A4.406408373988963,4.406408373988963,0,1,1,4.406408373988963,0\" style=\"fill: none; stroke: rgb(140, 191, 221); stroke-width: 2; opacity: 0.7;\"></path><path transform=\"translate(31.363636363636367,60.39999999999998)\" d=\"M4.557717660969324,0A4.557717660969324,4.557717660969324,0,1,1,-4.557717660969324,0A4.557717660969324,4.557717660969324,0,1,1,4.557717660969324,0\" style=\"fill: none; stroke: rgb(131, 186, 219); stroke-width: 2; opacity: 0.7;\"></path><path transform=\"translate(32.72727272727273,78.2)\" d=\"M4.801451202438446,0A4.801451202438446,4.801451202438446,0,1,1,-4.801451202438446,0A4.801451202438446,4.801451202438446,0,1,1,4.801451202438446,0\" style=\"fill: none; stroke: rgb(122, 181, 216); stroke-width: 2; opacity: 0.7;\"></path><path transform=\"translate(35.81818181818181,82.33333333333333)\" d=\"M5.076085567334424,0A5.076085567334424,5.076085567334424,0,1,1,-5.076085567334424,0A5.076085567334424,5.076085567334424,0,1,1,5.076085567334424,0\" style=\"fill: none; stroke: rgb(113, 176, 214); stroke-width: 2; opacity: 0.7;\"></path><path transform=\"translate(43.45454545454545,88.20000000000002)\" d=\"M5.233953697659766,0A5.233953697659766,5.233953697659766,0,1,1,-5.233953697659766,0A5.233953697659766,5.233953697659766,0,1,1,5.233953697659766,0\" style=\"fill: none; stroke: rgb(104, 171, 211); stroke-width: 2; opacity: 0.7;\"></path><path transform=\"translate(47.18181818181818,108.86666666666667)\" d=\"M5.513138318921551,0A5.513138318921551,5.513138318921551,0,1,1,-5.513138318921551,0A5.513138318921551,5.513138318921551,0,1,1,5.513138318921551,0\" style=\"fill: none; stroke: rgb(95, 166, 208); stroke-width: 2; opacity: 0.7;\"></path><path transform=\"translate(54.36363636363636,113.13333333333333)\" d=\"M5.721668464647159,0A5.721668464647159,5.721668464647159,0,1,1,-5.721668464647159,0A5.721668464647159,5.721668464647159,0,1,1,5.721668464647159,0\" style=\"fill: none; stroke: rgb(87, 160, 205); stroke-width: 2; opacity: 0.7;\"></path><path transform=\"translate(53.90909090909091,114.33333333333333)\" d=\"M6.033212238900198,0A6.033212238900198,6.033212238900198,0,1,1,-6.033212238900198,0A6.033212238900198,6.033212238900198,0,1,1,6.033212238900198,0\" style=\"fill: none; stroke: rgb(80, 154, 202); stroke-width: 2; opacity: 0.7;\"></path><path transform=\"translate(59.63636363636363,113.53333333333335)\" d=\"M6.440482735300158,0A6.440482735300158,6.440482735300158,0,1,1,-6.440482735300158,0A6.440482735300158,6.440482735300158,0,1,1,6.440482735300158,0\" style=\"fill: none; stroke: rgb(72, 148, 199); stroke-width: 2; opacity: 0.7;\"></path><path transform=\"translate(62.727272727272734,112.06666666666666)\" d=\"M6.739545177856964,0A6.739545177856964,6.739545177856964,0,1,1,-6.739545177856964,0A6.739545177856964,6.739545177856964,0,1,1,6.739545177856964,0\" style=\"fill: none; stroke: rgb(65, 142, 196); stroke-width: 2; opacity: 0.7;\"></path><path transform=\"translate(68,112)\" d=\"M6.898669294259691,0A6.898669294259691,6.898669294259691,0,1,1,-6.898669294259691,0A6.898669294259691,6.898669294259691,0,1,1,6.898669294259691,0\" style=\"fill: none; stroke: rgb(58, 137, 193); stroke-width: 2; opacity: 0.7;\"></path><path transform=\"translate(78.45454545454545,117)\" d=\"M7.191539956466018,0A7.191539956466018,7.191539956466018,0,1,1,-7.191539956466018,0A7.191539956466018,7.191539956466018,0,1,1,7.191539956466018,0\" style=\"fill: none; stroke: rgb(51, 131, 190); stroke-width: 2; opacity: 0.7;\"></path><path transform=\"translate(89.54545454545455,116.93333333333334)\" d=\"M7.525556999755721,0A7.525556999755721,7.525556999755721,0,1,1,-7.525556999755721,0A7.525556999755721,7.525556999755721,0,1,1,7.525556999755721,0\" style=\"fill: none; stroke: rgb(45, 125, 186); stroke-width: 2; opacity: 0.7;\"></path><path transform=\"translate(91.27272727272728,118.60000000000001)\" d=\"M7.7711454707751555,0A7.7711454707751555,7.7711454707751555,0,1,1,-7.7711454707751555,0A7.7711454707751555,7.7711454707751555,0,1,1,7.7711454707751555,0\" style=\"fill: none; stroke: rgb(39, 118, 183); stroke-width: 2; opacity: 0.7;\"></path><path transform=\"translate(99.36363636363636,121.86666666666667)\" d=\"M7.830158338965876,0A7.830158338965876,7.830158338965876,0,1,1,-7.830158338965876,0A7.830158338965876,7.830158338965876,0,1,1,7.830158338965876,0\" style=\"fill: none; stroke: rgb(33, 112, 179); stroke-width: 2; opacity: 0.7;\"></path><path transform=\"translate(102.27272727272727,124.66666666666667)\" d=\"M8.065714033964198,0A8.065714033964198,8.065714033964198,0,1,1,-8.065714033964198,0A8.065714033964198,8.065714033964198,0,1,1,8.065714033964198,0\" style=\"fill: none; stroke: rgb(28, 106, 174); stroke-width: 2; opacity: 0.7;\"></path><path transform=\"translate(108.18181818181817,129.73333333333335)\" d=\"M8.48273041836242,0A8.48273041836242,8.48273041836242,0,1,1,-8.48273041836242,0A8.48273041836242,8.48273041836242,0,1,1,8.48273041836242,0\" style=\"fill: none; stroke: rgb(23, 99, 169); stroke-width: 2; opacity: 0.7;\"></path><path transform=\"translate(123.54545454545456,132.60000000000002)\" d=\"M8.830637669716127,0A8.830637669716127,8.830637669716127,0,1,1,-8.830637669716127,0A8.830637669716127,8.830637669716127,0,1,1,8.830637669716127,0\" style=\"fill: none; stroke: rgb(18, 93, 164); stroke-width: 2; opacity: 0.7;\"></path><path transform=\"translate(132.45454545454544,143.93333333333334)\" d=\"M8.699892125513939,0A8.699892125513939,8.699892125513939,0,1,1,-8.699892125513939,0A8.699892125513939,8.699892125513939,0,1,1,8.699892125513939,0\" style=\"fill: none; stroke: rgb(16, 86, 158); stroke-width: 2; opacity: 0.7;\"></path><path transform=\"translate(130.27272727272728,145.2)\" d=\"M8.89550967127195,0A8.89550967127195,8.89550967127195,0,1,1,-8.89550967127195,0A8.89550967127195,8.89550967127195,0,1,1,8.89550967127195,0\" style=\"fill: none; stroke: rgb(13, 80, 151); stroke-width: 2; opacity: 0.7;\"></path><path transform=\"translate(170.36363636363637,144.93333333333334)\" d=\"M9.297541455053251,0A9.297541455053251,9.297541455053251,0,1,1,-9.297541455053251,0A9.297541455053251,9.297541455053251,0,1,1,9.297541455053251,0\" style=\"fill: none; stroke: rgb(10, 74, 144); stroke-width: 2; opacity: 0.7;\"></path><path transform=\"translate(23.90909090909091,108.33333333333334)\" d=\"M2.7833643630269584,0A2.7833643630269584,2.7833643630269584,0,1,1,-2.7833643630269584,0A2.7833643630269584,2.7833643630269584,0,1,1,2.7833643630269584,0\" style=\"fill: none; stroke: rgb(207, 225, 242); stroke-width: 2; opacity: 0.7;\"></path><path transform=\"translate(27,116.33333333333333)\" d=\"M2.8815666092637855,0A2.8815666092637855,2.8815666092637855,0,1,1,-2.8815666092637855,0A2.8815666092637855,2.8815666092637855,0,1,1,2.8815666092637855,0\" style=\"fill: none; stroke: rgb(201, 222, 240); stroke-width: 2; opacity: 0.7;\"></path><path transform=\"translate(27,112.6)\" d=\"M2.97445333613033,0A2.97445333613033,2.97445333613033,0,1,1,-2.97445333613033,0A2.97445333613033,2.97445333613033,0,1,1,2.97445333613033,0\" style=\"fill: none; stroke: rgb(195, 219, 238); stroke-width: 2; opacity: 0.7;\"></path><path transform=\"translate(27.27272727272727,112.46666666666665)\" d=\"M3.083293980502585,0A3.083293980502585,3.083293980502585,0,1,1,-3.083293980502585,0A3.083293980502585,3.083293980502585,0,1,1,3.083293980502585,0\" style=\"fill: none; stroke: rgb(189, 216, 236); stroke-width: 2; opacity: 0.7;\"></path><path transform=\"translate(27.454545454545453,111.46666666666665)\" d=\"M3.1884213792392786,0A3.1884213792392786,3.1884213792392786,0,1,1,-3.1884213792392786,0A3.1884213792392786,3.1884213792392786,0,1,1,3.1884213792392786,0\" style=\"fill: none; stroke: rgb(182, 212, 233); stroke-width: 2; opacity: 0.7;\"></path><path transform=\"translate(29.09090909090909,113.79999999999998)\" d=\"M3.345461378801676,0A3.345461378801676,3.345461378801676,0,1,1,-3.345461378801676,0A3.345461378801676,3.345461378801676,0,1,1,3.345461378801676,0\" style=\"fill: none; stroke: rgb(174, 209, 231); stroke-width: 2; opacity: 0.7;\"></path><path transform=\"translate(37.54545454545454,119.19999999999999)\" d=\"M3.499576893178976,0A3.499576893178976,3.499576893178976,0,1,1,-3.499576893178976,0A3.499576893178976,3.499576893178976,0,1,1,3.499576893178976,0\" style=\"fill: none; stroke: rgb(166, 205, 229); stroke-width: 2; opacity: 0.7;\"></path><path transform=\"translate(39.54545454545455,117.60000000000001)\" d=\"M3.670274937024102,0A3.670274937024102,3.670274937024102,0,1,1,-3.670274937024102,0A3.670274937024102,3.670274937024102,0,1,1,3.670274937024102,0\" style=\"fill: none; stroke: rgb(158, 201, 226); stroke-width: 2; opacity: 0.7;\"></path><path transform=\"translate(39.81818181818181,118)\" d=\"M3.80099320896001,0A3.80099320896001,3.80099320896001,0,1,1,-3.80099320896001,0A3.80099320896001,3.80099320896001,0,1,1,3.80099320896001,0\" style=\"fill: none; stroke: rgb(149, 196, 224); stroke-width: 2; opacity: 0.7;\"></path><path transform=\"translate(42.54545454545454,116)\" d=\"M3.9446377864995448,0A3.9446377864995448,3.9446377864995448,0,1,1,-3.9446377864995448,0A3.9446377864995448,3.9446377864995448,0,1,1,3.9446377864995448,0\" style=\"fill: none; stroke: rgb(140, 191, 221); stroke-width: 2; opacity: 0.7;\"></path><path transform=\"translate(43.09090909090909,111.6)\" d=\"M4.187858000366182,0A4.187858000366182,4.187858000366182,0,1,1,-4.187858000366182,0A4.187858000366182,4.187858000366182,0,1,1,4.187858000366182,0\" style=\"fill: none; stroke: rgb(131, 186, 219); stroke-width: 2; opacity: 0.7;\"></path><path transform=\"translate(43.727272727272734,109.33333333333334)\" d=\"M4.339120558966897,0A4.339120558966897,4.339120558966897,0,1,1,-4.339120558966897,0A4.339120558966897,4.339120558966897,0,1,1,4.339120558966897,0\" style=\"fill: none; stroke: rgb(122, 181, 216); stroke-width: 2; opacity: 0.7;\"></path><path transform=\"translate(47,112.06666666666666)\" d=\"M4.47930902349858,0A4.47930902349858,4.47930902349858,0,1,1,-4.47930902349858,0A4.47930902349858,4.47930902349858,0,1,1,4.47930902349858,0\" style=\"fill: none; stroke: rgb(113, 176, 214); stroke-width: 2; opacity: 0.7;\"></path><path transform=\"translate(50.81818181818182,113.13333333333333)\" d=\"M4.6112215483052195,0A4.6112215483052195,4.6112215483052195,0,1,1,-4.6112215483052195,0A4.6112215483052195,4.6112215483052195,0,1,1,4.6112215483052195,0\" style=\"fill: none; stroke: rgb(104, 171, 211); stroke-width: 2; opacity: 0.7;\"></path><path transform=\"translate(50.81818181818182,111.26666666666667)\" d=\"M4.830321861550619,0A4.830321861550619,4.830321861550619,0,1,1,-4.830321861550619,0A4.830321861550619,4.830321861550619,0,1,1,4.830321861550619,0\" style=\"fill: none; stroke: rgb(95, 166, 208); stroke-width: 2; opacity: 0.7;\"></path><path transform=\"translate(60.272727272727266,111.06666666666666)\" d=\"M5.110545452735192,0A5.110545452735192,5.110545452735192,0,1,1,-5.110545452735192,0A5.110545452735192,5.110545452735192,0,1,1,5.110545452735192,0\" style=\"fill: none; stroke: rgb(87, 160, 205); stroke-width: 2; opacity: 0.7;\"></path><path transform=\"translate(60.45454545454545,109.73333333333332)\" d=\"M5.389197324378647,0A5.389197324378647,5.389197324378647,0,1,1,-5.389197324378647,0A5.389197324378647,5.389197324378647,0,1,1,5.389197324378647,0\" style=\"fill: none; stroke: rgb(80, 154, 202); stroke-width: 2; opacity: 0.7;\"></path><path transform=\"translate(63.45454545454545,107.33333333333334)\" d=\"M5.6726873644676274,0A5.6726873644676274,5.6726873644676274,0,1,1,-5.6726873644676274,0A5.6726873644676274,5.6726873644676274,0,1,1,5.6726873644676274,0\" style=\"fill: none; stroke: rgb(72, 148, 199); stroke-width: 2; opacity: 0.7;\"></path><path transform=\"translate(66.18181818181817,111.46666666666665)\" d=\"M5.976550439522474,0A5.976550439522474,5.976550439522474,0,1,1,-5.976550439522474,0A5.976550439522474,5.976550439522474,0,1,1,5.976550439522474,0\" style=\"fill: none; stroke: rgb(65, 142, 196); stroke-width: 2; opacity: 0.7;\"></path><path transform=\"translate(71.81818181818181,112.13333333333333)\" d=\"M6.110197337537578,0A6.110197337537578,6.110197337537578,0,1,1,-6.110197337537578,0A6.110197337537578,6.110197337537578,0,1,1,6.110197337537578,0\" style=\"fill: none; stroke: rgb(58, 137, 193); stroke-width: 2; opacity: 0.7;\"></path><path transform=\"translate(82.27272727272728,114.93333333333334)\" d=\"M6.3632577878483065,0A6.3632577878483065,6.3632577878483065,0,1,1,-6.3632577878483065,0A6.3632577878483065,6.3632577878483065,0,1,1,6.3632577878483065,0\" style=\"fill: none; stroke: rgb(51, 131, 190); stroke-width: 2; opacity: 0.7;\"></path><path transform=\"translate(90.27272727272727,116.86666666666666)\" d=\"M6.5866422548296155,0A6.5866422548296155,6.5866422548296155,0,1,1,-6.5866422548296155,0A6.5866422548296155,6.5866422548296155,0,1,1,6.5866422548296155,0\" style=\"fill: none; stroke: rgb(45, 125, 186); stroke-width: 2; opacity: 0.7;\"></path><path transform=\"translate(94.72727272727272,117.19999999999999)\" d=\"M6.783283207043509,0A6.783283207043509,6.783283207043509,0,1,1,-6.783283207043509,0A6.783283207043509,6.783283207043509,0,1,1,6.783283207043509,0\" style=\"fill: none; stroke: rgb(39, 118, 183); stroke-width: 2; opacity: 0.7;\"></path><path transform=\"translate(103.45454545454544,116.86666666666666)\" d=\"M6.958114798618213,0A6.958114798618213,6.958114798618213,0,1,1,-6.958114798618213,0A6.958114798618213,6.958114798618213,0,1,1,6.958114798618213,0\" style=\"fill: none; stroke: rgb(33, 112, 179); stroke-width: 2; opacity: 0.7;\"></path><path transform=\"translate(109.81818181818181,116.60000000000001)\" d=\"M7.183652704322026,0A7.183652704322026,7.183652704322026,0,1,1,-7.183652704322026,0A7.183652704322026,7.183652704322026,0,1,1,7.183652704322026,0\" style=\"fill: none; stroke: rgb(28, 106, 174); stroke-width: 2; opacity: 0.7;\"></path><path transform=\"translate(118.63636363636363,120.33333333333334)\" d=\"M7.437864888459986,0A7.437864888459986,7.437864888459986,0,1,1,-7.437864888459986,0A7.437864888459986,7.437864888459986,0,1,1,7.437864888459986,0\" style=\"fill: none; stroke: rgb(23, 99, 169); stroke-width: 2; opacity: 0.7;\"></path><path transform=\"translate(127.0909090909091,124.13333333333334)\" d=\"M7.672130514681499,0A7.672130514681499,7.672130514681499,0,1,1,-7.672130514681499,0A7.672130514681499,7.672130514681499,0,1,1,7.672130514681499,0\" style=\"fill: none; stroke: rgb(18, 93, 164); stroke-width: 2; opacity: 0.7;\"></path><path transform=\"translate(136.45454545454544,126.6)\" d=\"M7.875897595616555,0A7.875897595616555,7.875897595616555,0,1,1,-7.875897595616555,0A7.875897595616555,7.875897595616555,0,1,1,7.875897595616555,0\" style=\"fill: none; stroke: rgb(16, 86, 158); stroke-width: 2; opacity: 0.7;\"></path><path transform=\"translate(158.9090909090909,134.53333333333333)\" d=\"M7.973376812876797,0A7.973376812876797,7.973376812876797,0,1,1,-7.973376812876797,0A7.973376812876797,7.973376812876797,0,1,1,7.973376812876797,0\" style=\"fill: none; stroke: rgb(13, 80, 151); stroke-width: 2; opacity: 0.7;\"></path><path transform=\"translate(170,136.06666666666666)\" d=\"M8.21308565268167,0A8.21308565268167,8.21308565268167,0,1,1,-8.21308565268167,0A8.21308565268167,8.21308565268167,0,1,1,8.21308565268167,0\" style=\"fill: none; stroke: rgb(10, 74, 144); stroke-width: 2; opacity: 0.7;\"></path><path transform=\"translate(24.454545454545453,127.8)\" d=\"M2.611727504656226,0A2.611727504656226,2.611727504656226,0,1,1,-2.611727504656226,0A2.611727504656226,2.611727504656226,0,1,1,2.611727504656226,0\" style=\"fill: none; stroke: rgb(207, 225, 242); stroke-width: 2; opacity: 0.7;\"></path><path transform=\"translate(25,128.26666666666668)\" d=\"M2.7015245875205727,0A2.7015245875205727,2.7015245875205727,0,1,1,-2.7015245875205727,0A2.7015245875205727,2.7015245875205727,0,1,1,2.7015245875205727,0\" style=\"fill: none; stroke: rgb(201, 222, 240); stroke-width: 2; opacity: 0.7;\"></path><path transform=\"translate(28.09090909090909,131)\" d=\"M2.81369270871736,0A2.81369270871736,2.81369270871736,0,1,1,-2.81369270871736,0A2.81369270871736,2.81369270871736,0,1,1,2.81369270871736,0\" style=\"fill: none; stroke: rgb(195, 219, 238); stroke-width: 2; opacity: 0.7;\"></path><path transform=\"translate(27.81818181818182,130.13333333333333)\" d=\"M2.9291594357773856,0A2.9291594357773856,2.9291594357773856,0,1,1,-2.9291594357773856,0A2.9291594357773856,2.9291594357773856,0,1,1,2.9291594357773856,0\" style=\"fill: none; stroke: rgb(189, 216, 236); stroke-width: 2; opacity: 0.7;\"></path><path transform=\"translate(28.636363636363637,128.86666666666667)\" d=\"M3.0422382175540723,0A3.0422382175540723,3.0422382175540723,0,1,1,-3.0422382175540723,0A3.0422382175540723,3.0422382175540723,0,1,1,3.0422382175540723,0\" style=\"fill: none; stroke: rgb(182, 212, 233); stroke-width: 2; opacity: 0.7;\"></path><path transform=\"translate(30.272727272727266,130)\" d=\"M3.146125394152657,0A3.146125394152657,3.146125394152657,0,1,1,-3.146125394152657,0A3.146125394152657,3.146125394152657,0,1,1,3.146125394152657,0\" style=\"fill: none; stroke: rgb(174, 209, 231); stroke-width: 2; opacity: 0.7;\"></path><path transform=\"translate(31.09090909090909,127.60000000000001)\" d=\"M3.2677928789435042,0A3.2677928789435042,3.2677928789435042,0,1,1,-3.2677928789435042,0A3.2677928789435042,3.2677928789435042,0,1,1,3.2677928789435042,0\" style=\"fill: none; stroke: rgb(166, 205, 229); stroke-width: 2; opacity: 0.7;\"></path><path transform=\"translate(31.181818181818176,126.73333333333333)\" d=\"M3.39998811648801,0A3.39998811648801,3.39998811648801,0,1,1,-3.39998811648801,0A3.39998811648801,3.39998811648801,0,1,1,3.39998811648801,0\" style=\"fill: none; stroke: rgb(158, 201, 226); stroke-width: 2; opacity: 0.7;\"></path><path transform=\"translate(32.54545454545455,122.86666666666667)\" d=\"M3.531814665750685,0A3.531814665750685,3.531814665750685,0,1,1,-3.531814665750685,0A3.531814665750685,3.531814665750685,0,1,1,3.531814665750685,0\" style=\"fill: none; stroke: rgb(149, 196, 224); stroke-width: 2; opacity: 0.7;\"></path><path transform=\"translate(37.18181818181818,122)\" d=\"M3.682577120255799,0A3.682577120255799,3.682577120255799,0,1,1,-3.682577120255799,0A3.682577120255799,3.682577120255799,0,1,1,3.682577120255799,0\" style=\"fill: none; stroke: rgb(140, 191, 221); stroke-width: 2; opacity: 0.7;\"></path><path transform=\"translate(38.54545454545455,120.13333333333334)\" d=\"M3.898580303377676,0A3.898580303377676,3.898580303377676,0,1,1,-3.898580303377676,0A3.898580303377676,3.898580303377676,0,1,1,3.898580303377676,0\" style=\"fill: none; stroke: rgb(131, 186, 219); stroke-width: 2; opacity: 0.7;\"></path><path transform=\"translate(38.54545454545455,117.53333333333333)\" d=\"M4.047669457898288,0A4.047669457898288,4.047669457898288,0,1,1,-4.047669457898288,0A4.047669457898288,4.047669457898288,0,1,1,4.047669457898288,0\" style=\"fill: none; stroke: rgb(122, 181, 216); stroke-width: 2; opacity: 0.7;\"></path><path transform=\"translate(40.45454545454545,118.06666666666666)\" d=\"M4.192423450180249,0A4.192423450180249,4.192423450180249,0,1,1,-4.192423450180249,0A4.192423450180249,4.192423450180249,0,1,1,4.192423450180249,0\" style=\"fill: none; stroke: rgb(113, 176, 214); stroke-width: 2; opacity: 0.7;\"></path><path transform=\"translate(43.54545454545454,116.06666666666666)\" d=\"M4.365349713709134,0A4.365349713709134,4.365349713709134,0,1,1,-4.365349713709134,0A4.365349713709134,4.365349713709134,0,1,1,4.365349713709134,0\" style=\"fill: none; stroke: rgb(104, 171, 211); stroke-width: 2; opacity: 0.7;\"></path><path transform=\"translate(45,114.73333333333333)\" d=\"M4.544156190012604,0A4.544156190012604,4.544156190012604,0,1,1,-4.544156190012604,0A4.544156190012604,4.544156190012604,0,1,1,4.544156190012604,0\" style=\"fill: none; stroke: rgb(95, 166, 208); stroke-width: 2; opacity: 0.7;\"></path><path transform=\"translate(49.727272727272734,112.93333333333334)\" d=\"M4.801156271591392,0A4.801156271591392,4.801156271591392,0,1,1,-4.801156271591392,0A4.801156271591392,4.801156271591392,0,1,1,4.801156271591392,0\" style=\"fill: none; stroke: rgb(87, 160, 205); stroke-width: 2; opacity: 0.7;\"></path><path transform=\"translate(51.45454545454545,112.66666666666667)\" d=\"M5.012114667372563,0A5.012114667372563,5.012114667372563,0,1,1,-5.012114667372563,0A5.012114667372563,5.012114667372563,0,1,1,5.012114667372563,0\" style=\"fill: none; stroke: rgb(80, 154, 202); stroke-width: 2; opacity: 0.7;\"></path><path transform=\"translate(53.90909090909091,110.66666666666667)\" d=\"M5.237755811976711,0A5.237755811976711,5.237755811976711,0,1,1,-5.237755811976711,0A5.237755811976711,5.237755811976711,0,1,1,5.237755811976711,0\" style=\"fill: none; stroke: rgb(72, 148, 199); stroke-width: 2; opacity: 0.7;\"></path><path transform=\"translate(56.90909090909091,112.20000000000002)\" d=\"M5.50388315933204,0A5.50388315933204,5.50388315933204,0,1,1,-5.50388315933204,0A5.50388315933204,5.50388315933204,0,1,1,5.50388315933204,0\" style=\"fill: none; stroke: rgb(65, 142, 196); stroke-width: 2; opacity: 0.7;\"></path><path transform=\"translate(61.63636363636363,112.53333333333335)\" d=\"M5.71755477044554,0A5.71755477044554,5.71755477044554,0,1,1,-5.71755477044554,0A5.71755477044554,5.71755477044554,0,1,1,5.71755477044554,0\" style=\"fill: none; stroke: rgb(58, 137, 193); stroke-width: 2; opacity: 0.7;\"></path><path transform=\"translate(71.72727272727273,114.26666666666667)\" d=\"M5.936478950459555,0A5.936478950459555,5.936478950459555,0,1,1,-5.936478950459555,0A5.936478950459555,5.936478950459555,0,1,1,5.936478950459555,0\" style=\"fill: none; stroke: rgb(51, 131, 190); stroke-width: 2; opacity: 0.7;\"></path><path transform=\"translate(78.9090909090909,115.8)\" d=\"M6.23998384040494,0A6.23998384040494,6.23998384040494,0,1,1,-6.23998384040494,0A6.23998384040494,6.23998384040494,0,1,1,6.23998384040494,0\" style=\"fill: none; stroke: rgb(45, 125, 186); stroke-width: 2; opacity: 0.7;\"></path><path transform=\"translate(82.45454545454545,114.13333333333333)\" d=\"M6.432067408034625,0A6.432067408034625,6.432067408034625,0,1,1,-6.432067408034625,0A6.432067408034625,6.432067408034625,0,1,1,6.432067408034625,0\" style=\"fill: none; stroke: rgb(39, 118, 183); stroke-width: 2; opacity: 0.7;\"></path><path transform=\"translate(90.99999999999999,114)\" d=\"M6.684533604156113,0A6.684533604156113,6.684533604156113,0,1,1,-6.684533604156113,0A6.684533604156113,6.684533604156113,0,1,1,6.684533604156113,0\" style=\"fill: none; stroke: rgb(33, 112, 179); stroke-width: 2; opacity: 0.7;\"></path><path transform=\"translate(94.45454545454545,113.79999999999998)\" d=\"M6.883893254316085,0A6.883893254316085,6.883893254316085,0,1,1,-6.883893254316085,0A6.883893254316085,6.883893254316085,0,1,1,6.883893254316085,0\" style=\"fill: none; stroke: rgb(28, 106, 174); stroke-width: 2; opacity: 0.7;\"></path><path transform=\"translate(99.27272727272728,117.26666666666668)\" d=\"M7.110128292120697,0A7.110128292120697,7.110128292120697,0,1,1,-7.110128292120697,0A7.110128292120697,7.110128292120697,0,1,1,7.110128292120697,0\" style=\"fill: none; stroke: rgb(23, 99, 169); stroke-width: 2; opacity: 0.7;\"></path><path transform=\"translate(111.27272727272728,121.93333333333334)\" d=\"M7.2568678185932685,0A7.2568678185932685,7.2568678185932685,0,1,1,-7.2568678185932685,0A7.2568678185932685,7.2568678185932685,0,1,1,7.2568678185932685,0\" style=\"fill: none; stroke: rgb(18, 93, 164); stroke-width: 2; opacity: 0.7;\"></path><path transform=\"translate(120.27272727272728,124.13333333333334)\" d=\"M7.492877494015974,0A7.492877494015974,7.492877494015974,0,1,1,-7.492877494015974,0A7.492877494015974,7.492877494015974,0,1,1,7.492877494015974,0\" style=\"fill: none; stroke: rgb(16, 86, 158); stroke-width: 2; opacity: 0.7;\"></path><path transform=\"translate(125.63636363636364,126.93333333333334)\" d=\"M7.581099189534241,0A7.581099189534241,7.581099189534241,0,1,1,-7.581099189534241,0A7.581099189534241,7.581099189534241,0,1,1,7.581099189534241,0\" style=\"fill: none; stroke: rgb(13, 80, 151); stroke-width: 2; opacity: 0.7;\"></path><path transform=\"translate(145,127.2)\" d=\"M7.896728091632428,0A7.896728091632428,7.896728091632428,0,1,1,-7.896728091632428,0A7.896728091632428,7.896728091632428,0,1,1,7.896728091632428,0\" style=\"fill: none; stroke: rgb(10, 74, 144); stroke-width: 2; opacity: 0.7;\"></path><path transform=\"translate(25.454545454545453,135.33333333333334)\" d=\"M2.753786210709226,0A2.753786210709226,2.753786210709226,0,1,1,-2.753786210709226,0A2.753786210709226,2.753786210709226,0,1,1,2.753786210709226,0\" style=\"fill: none; stroke: rgb(207, 225, 242); stroke-width: 2; opacity: 0.7;\"></path><path transform=\"translate(26.727272727272727,139.93333333333334)\" d=\"M2.8119686242082573,0A2.8119686242082573,2.8119686242082573,0,1,1,-2.8119686242082573,0A2.8119686242082573,2.8119686242082573,0,1,1,2.8119686242082573,0\" style=\"fill: none; stroke: rgb(201, 222, 240); stroke-width: 2; opacity: 0.7;\"></path><path transform=\"translate(26.454545454545457,136.53333333333333)\" d=\"M3.000954323154337,0A3.000954323154337,3.000954323154337,0,1,1,-3.000954323154337,0A3.000954323154337,3.000954323154337,0,1,1,3.000954323154337,0\" style=\"fill: none; stroke: rgb(195, 219, 238); stroke-width: 2; opacity: 0.7;\"></path><path transform=\"translate(27.090909090909093,137)\" d=\"M3.0084575733063637,0A3.0084575733063637,3.0084575733063637,0,1,1,-3.0084575733063637,0A3.0084575733063637,3.0084575733063637,0,1,1,3.0084575733063637,0\" style=\"fill: none; stroke: rgb(189, 216, 236); stroke-width: 2; opacity: 0.7;\"></path><path transform=\"translate(27.363636363636363,134.46666666666667)\" d=\"M3.0924431613685264,0A3.0924431613685264,3.0924431613685264,0,1,1,-3.0924431613685264,0A3.0924431613685264,3.0924431613685264,0,1,1,3.0924431613685264,0\" style=\"fill: none; stroke: rgb(182, 212, 233); stroke-width: 2; opacity: 0.7;\"></path><path transform=\"translate(29.09090909090909,133.93333333333334)\" d=\"M3.1638594805158715,0A3.1638594805158715,3.1638594805158715,0,1,1,-3.1638594805158715,0A3.1638594805158715,3.1638594805158715,0,1,1,3.1638594805158715,0\" style=\"fill: none; stroke: rgb(174, 209, 231); stroke-width: 2; opacity: 0.7;\"></path><path transform=\"translate(28.999999999999996,132.93333333333334)\" d=\"M3.317542550003266,0A3.317542550003266,3.317542550003266,0,1,1,-3.317542550003266,0A3.317542550003266,3.317542550003266,0,1,1,3.317542550003266,0\" style=\"fill: none; stroke: rgb(166, 205, 229); stroke-width: 2; opacity: 0.7;\"></path><path transform=\"translate(30.727272727272727,131.73333333333332)\" d=\"M3.458493792283537,0A3.458493792283537,3.458493792283537,0,1,1,-3.458493792283537,0A3.458493792283537,3.458493792283537,0,1,1,3.458493792283537,0\" style=\"fill: none; stroke: rgb(158, 201, 226); stroke-width: 2; opacity: 0.7;\"></path><path transform=\"translate(30.545454545454547,127.66666666666666)\" d=\"M3.5629929201880026,0A3.5629929201880026,3.5629929201880026,0,1,1,-3.5629929201880026,0A3.5629929201880026,3.5629929201880026,0,1,1,3.5629929201880026,0\" style=\"fill: none; stroke: rgb(149, 196, 224); stroke-width: 2; opacity: 0.7;\"></path><path transform=\"translate(30.63636363636364,115.93333333333334)\" d=\"M3.760571966600452,0A3.760571966600452,3.760571966600452,0,1,1,-3.760571966600452,0A3.760571966600452,3.760571966600452,0,1,1,3.760571966600452,0\" style=\"fill: none; stroke: rgb(140, 191, 221); stroke-width: 2; opacity: 0.7;\"></path><path transform=\"translate(32.99999999999999,118.80000000000001)\" d=\"M4.0365740434061985,0A4.0365740434061985,4.0365740434061985,0,1,1,-4.0365740434061985,0A4.0365740434061985,4.0365740434061985,0,1,1,4.0365740434061985,0\" style=\"fill: none; stroke: rgb(131, 186, 219); stroke-width: 2; opacity: 0.7;\"></path><path transform=\"translate(34.54545454545455,116.26666666666668)\" d=\"M4.261821261976054,0A4.261821261976054,4.261821261976054,0,1,1,-4.261821261976054,0A4.261821261976054,4.261821261976054,0,1,1,4.261821261976054,0\" style=\"fill: none; stroke: rgb(122, 181, 216); stroke-width: 2; opacity: 0.7;\"></path><path transform=\"translate(36.63636363636363,117.80000000000001)\" d=\"M4.334776010140454,0A4.334776010140454,4.334776010140454,0,1,1,-4.334776010140454,0A4.334776010140454,4.334776010140454,0,1,1,4.334776010140454,0\" style=\"fill: none; stroke: rgb(113, 176, 214); stroke-width: 2; opacity: 0.7;\"></path><path transform=\"translate(38.63636363636363,116.60000000000001)\" d=\"M4.493114376704725,0A4.493114376704725,4.493114376704725,0,1,1,-4.493114376704725,0A4.493114376704725,4.493114376704725,0,1,1,4.493114376704725,0\" style=\"fill: none; stroke: rgb(104, 171, 211); stroke-width: 2; opacity: 0.7;\"></path><path transform=\"translate(41.45454545454545,116.66666666666666)\" d=\"M4.661473920570362,0A4.661473920570362,4.661473920570362,0,1,1,-4.661473920570362,0A4.661473920570362,4.661473920570362,0,1,1,4.661473920570362,0\" style=\"fill: none; stroke: rgb(95, 166, 208); stroke-width: 2; opacity: 0.7;\"></path><path transform=\"translate(46.81818181818182,118.13333333333334)\" d=\"M4.931528313420988,0A4.931528313420988,4.931528313420988,0,1,1,-4.931528313420988,0A4.931528313420988,4.931528313420988,0,1,1,4.931528313420988,0\" style=\"fill: none; stroke: rgb(87, 160, 205); stroke-width: 2; opacity: 0.7;\"></path><path transform=\"translate(50.36363636363637,121.66666666666667)\" d=\"M5.10871625026796,0A5.10871625026796,5.10871625026796,0,1,1,-5.10871625026796,0A5.10871625026796,5.10871625026796,0,1,1,5.10871625026796,0\" style=\"fill: none; stroke: rgb(80, 154, 202); stroke-width: 2; opacity: 0.7;\"></path><path transform=\"translate(51.272727272727266,123.2)\" d=\"M5.36124075599763,0A5.36124075599763,5.36124075599763,0,1,1,-5.36124075599763,0A5.36124075599763,5.36124075599763,0,1,1,5.36124075599763,0\" style=\"fill: none; stroke: rgb(72, 148, 199); stroke-width: 2; opacity: 0.7;\"></path><path transform=\"translate(53.81818181818182,123.93333333333334)\" d=\"M5.610437006475584,0A5.610437006475584,5.610437006475584,0,1,1,-5.610437006475584,0A5.610437006475584,5.610437006475584,0,1,1,5.610437006475584,0\" style=\"fill: none; stroke: rgb(65, 142, 196); stroke-width: 2; opacity: 0.7;\"></path><path transform=\"translate(61.45454545454545,125.66666666666667)\" d=\"M5.642129497622626,0A5.642129497622626,5.642129497622626,0,1,1,-5.642129497622626,0A5.642129497622626,5.642129497622626,0,1,1,5.642129497622626,0\" style=\"fill: none; stroke: rgb(58, 137, 193); stroke-width: 2; opacity: 0.7;\"></path><path transform=\"translate(69.54545454545455,125.8)\" d=\"M5.8483250730207414,0A5.8483250730207414,5.8483250730207414,0,1,1,-5.8483250730207414,0A5.8483250730207414,5.8483250730207414,0,1,1,5.8483250730207414,0\" style=\"fill: none; stroke: rgb(51, 131, 190); stroke-width: 2; opacity: 0.7;\"></path><path transform=\"translate(80.45454545454545,130.93333333333334)\" d=\"M5.981727207645581,0A5.981727207645581,5.981727207645581,0,1,1,-5.981727207645581,0A5.981727207645581,5.981727207645581,0,1,1,5.981727207645581,0\" style=\"fill: none; stroke: rgb(45, 125, 186); stroke-width: 2; opacity: 0.7;\"></path><path transform=\"translate(88.72727272727272,132.86666666666667)\" d=\"M6.093747944411812,0A6.093747944411812,6.093747944411812,0,1,1,-6.093747944411812,0A6.093747944411812,6.093747944411812,0,1,1,6.093747944411812,0\" style=\"fill: none; stroke: rgb(39, 118, 183); stroke-width: 2; opacity: 0.7;\"></path><path transform=\"translate(90.81818181818181,135.53333333333333)\" d=\"M6.217606445641652,0A6.217606445641652,6.217606445641652,0,1,1,-6.217606445641652,0A6.217606445641652,6.217606445641652,0,1,1,6.217606445641652,0\" style=\"fill: none; stroke: rgb(33, 112, 179); stroke-width: 2; opacity: 0.7;\"></path><path transform=\"translate(97.36363636363636,136.66666666666669)\" d=\"M6.373868434384547,0A6.373868434384547,6.373868434384547,0,1,1,-6.373868434384547,0A6.373868434384547,6.373868434384547,0,1,1,6.373868434384547,0\" style=\"fill: none; stroke: rgb(28, 106, 174); stroke-width: 2; opacity: 0.7;\"></path><path transform=\"translate(110.81818181818181,143.66666666666666)\" d=\"M6.611877316118937,0A6.611877316118937,6.611877316118937,0,1,1,-6.611877316118937,0A6.611877316118937,6.611877316118937,0,1,1,6.611877316118937,0\" style=\"fill: none; stroke: rgb(23, 99, 169); stroke-width: 2; opacity: 0.7;\"></path><path transform=\"translate(121.45454545454545,147.73333333333332)\" d=\"M6.862675112463694,0A6.862675112463694,6.862675112463694,0,1,1,-6.862675112463694,0A6.862675112463694,6.862675112463694,0,1,1,6.862675112463694,0\" style=\"fill: none; stroke: rgb(18, 93, 164); stroke-width: 2; opacity: 0.7;\"></path><path transform=\"translate(128.45454545454547,139.93333333333334)\" d=\"M7.217414809775123,0A7.217414809775123,7.217414809775123,0,1,1,-7.217414809775123,0A7.217414809775123,7.217414809775123,0,1,1,7.217414809775123,0\" style=\"fill: none; stroke: rgb(16, 86, 158); stroke-width: 2; opacity: 0.7;\"></path><path transform=\"translate(131.27272727272728,143.06666666666666)\" d=\"M7.420754525588734,0A7.420754525588734,7.420754525588734,0,1,1,-7.420754525588734,0A7.420754525588734,7.420754525588734,0,1,1,7.420754525588734,0\" style=\"fill: none; stroke: rgb(13, 80, 151); stroke-width: 2; opacity: 0.7;\"></path><path transform=\"translate(151.99999999999997,143.26666666666668)\" d=\"M7.549561762898747,0A7.549561762898747,7.549561762898747,0,1,1,-7.549561762898747,0A7.549561762898747,7.549561762898747,0,1,1,7.549561762898747,0\" style=\"fill: none; stroke: rgb(10, 74, 144); stroke-width: 2; opacity: 0.7;\"></path><path transform=\"translate(23.09090909090909,103)\" d=\"M3.222930490647762,0A3.222930490647762,3.222930490647762,0,1,1,-3.222930490647762,0A3.222930490647762,3.222930490647762,0,1,1,3.222930490647762,0\" style=\"fill: none; stroke: rgb(207, 225, 242); stroke-width: 2; opacity: 0.7;\"></path><path transform=\"translate(23.272727272727273,103.66666666666666)\" d=\"M3.327931207014105,0A3.327931207014105,3.327931207014105,0,1,1,-3.327931207014105,0A3.327931207014105,3.327931207014105,0,1,1,3.327931207014105,0\" style=\"fill: none; stroke: rgb(201, 222, 240); stroke-width: 2; opacity: 0.7;\"></path><path transform=\"translate(23.81818181818182,103)\" d=\"M3.4469851273306507,0A3.4469851273306507,3.4469851273306507,0,1,1,-3.4469851273306507,0A3.4469851273306507,3.4469851273306507,0,1,1,3.4469851273306507,0\" style=\"fill: none; stroke: rgb(195, 219, 238); stroke-width: 2; opacity: 0.7;\"></path><path transform=\"translate(27.27272727272727,103.86666666666667)\" d=\"M3.5540070887192683,0A3.5540070887192683,3.5540070887192683,0,1,1,-3.5540070887192683,0A3.5540070887192683,3.5540070887192683,0,1,1,3.5540070887192683,0\" style=\"fill: none; stroke: rgb(189, 216, 236); stroke-width: 2; opacity: 0.7;\"></path><path transform=\"translate(27.363636363636363,105.46666666666667)\" d=\"M3.6421951407522526,0A3.6421951407522526,3.6421951407522526,0,1,1,-3.6421951407522526,0A3.6421951407522526,3.6421951407522526,0,1,1,3.6421951407522526,0\" style=\"fill: none; stroke: rgb(182, 212, 233); stroke-width: 2; opacity: 0.7;\"></path><path transform=\"translate(32.36363636363637,111.6)\" d=\"M3.7430937799598376,0A3.7430937799598376,3.7430937799598376,0,1,1,-3.7430937799598376,0A3.7430937799598376,3.7430937799598376,0,1,1,3.7430937799598376,0\" style=\"fill: none; stroke: rgb(174, 209, 231); stroke-width: 2; opacity: 0.7;\"></path><path transform=\"translate(32,113.06666666666666)\" d=\"M3.8530496506521277,0A3.8530496506521277,3.8530496506521277,0,1,1,-3.8530496506521277,0A3.8530496506521277,3.8530496506521277,0,1,1,3.8530496506521277,0\" style=\"fill: none; stroke: rgb(166, 205, 229); stroke-width: 2; opacity: 0.7;\"></path><path transform=\"translate(37.63636363636363,116.8)\" d=\"M3.9620208784270314,0A3.9620208784270314,3.9620208784270314,0,1,1,-3.9620208784270314,0A3.9620208784270314,3.9620208784270314,0,1,1,3.9620208784270314,0\" style=\"fill: none; stroke: rgb(158, 201, 226); stroke-width: 2; opacity: 0.7;\"></path><path transform=\"translate(37.63636363636363,116.26666666666668)\" d=\"M4.110127717932829,0A4.110127717932829,4.110127717932829,0,1,1,-4.110127717932829,0A4.110127717932829,4.110127717932829,0,1,1,4.110127717932829,0\" style=\"fill: none; stroke: rgb(149, 196, 224); stroke-width: 2; opacity: 0.7;\"></path><path transform=\"translate(38.09090909090909,115.60000000000001)\" d=\"M4.223616574470081,0A4.223616574470081,4.223616574470081,0,1,1,-4.223616574470081,0A4.223616574470081,4.223616574470081,0,1,1,4.223616574470081,0\" style=\"fill: none; stroke: rgb(140, 191, 221); stroke-width: 2; opacity: 0.7;\"></path><path transform=\"translate(37.27272727272727,117.06666666666666)\" d=\"M4.491858377841456,0A4.491858377841456,4.491858377841456,0,1,1,-4.491858377841456,0A4.491858377841456,4.491858377841456,0,1,1,4.491858377841456,0\" style=\"fill: none; stroke: rgb(131, 186, 219); stroke-width: 2; opacity: 0.7;\"></path><path transform=\"translate(38.09090909090909,112.06666666666666)\" d=\"M4.681546346765362,0A4.681546346765362,4.681546346765362,0,1,1,-4.681546346765362,0A4.681546346765362,4.681546346765362,0,1,1,4.681546346765362,0\" style=\"fill: none; stroke: rgb(122, 181, 216); stroke-width: 2; opacity: 0.7;\"></path><path transform=\"translate(41.09090909090909,112.13333333333333)\" d=\"M4.892797619522984,0A4.892797619522984,4.892797619522984,0,1,1,-4.892797619522984,0A4.892797619522984,4.892797619522984,0,1,1,4.892797619522984,0\" style=\"fill: none; stroke: rgb(113, 176, 214); stroke-width: 2; opacity: 0.7;\"></path><path transform=\"translate(44,110.39999999999999)\" d=\"M5.051314719547417,0A5.051314719547417,5.051314719547417,0,1,1,-5.051314719547417,0A5.051314719547417,5.051314719547417,0,1,1,5.051314719547417,0\" style=\"fill: none; stroke: rgb(104, 171, 211); stroke-width: 2; opacity: 0.7;\"></path><path transform=\"translate(44.90909090909091,110.66666666666667)\" d=\"M5.272997564640837,0A5.272997564640837,5.272997564640837,0,1,1,-5.272997564640837,0A5.272997564640837,5.272997564640837,0,1,1,5.272997564640837,0\" style=\"fill: none; stroke: rgb(95, 166, 208); stroke-width: 2; opacity: 0.7;\"></path><path transform=\"translate(49.63636363636364,108.86666666666667)\" d=\"M5.527737692853519,0A5.527737692853519,5.527737692853519,0,1,1,-5.527737692853519,0A5.527737692853519,5.527737692853519,0,1,1,5.527737692853519,0\" style=\"fill: none; stroke: rgb(87, 160, 205); stroke-width: 2; opacity: 0.7;\"></path><path transform=\"translate(51.63636363636363,109.8)\" d=\"M5.814006964367634,0A5.814006964367634,5.814006964367634,0,1,1,-5.814006964367634,0A5.814006964367634,5.814006964367634,0,1,1,5.814006964367634,0\" style=\"fill: none; stroke: rgb(80, 154, 202); stroke-width: 2; opacity: 0.7;\"></path><path transform=\"translate(54.54545454545454,109.86666666666667)\" d=\"M5.991916333149472,0A5.991916333149472,5.991916333149472,0,1,1,-5.991916333149472,0A5.991916333149472,5.991916333149472,0,1,1,5.991916333149472,0\" style=\"fill: none; stroke: rgb(72, 148, 199); stroke-width: 2; opacity: 0.7;\"></path><path transform=\"translate(57.36363636363636,111.33333333333333)\" d=\"M6.296123593500958,0A6.296123593500958,6.296123593500958,0,1,1,-6.296123593500958,0A6.296123593500958,6.296123593500958,0,1,1,6.296123593500958,0\" style=\"fill: none; stroke: rgb(65, 142, 196); stroke-width: 2; opacity: 0.7;\"></path><path transform=\"translate(63.272727272727266,112.86666666666667)\" d=\"M6.435371888645757,0A6.435371888645757,6.435371888645757,0,1,1,-6.435371888645757,0A6.435371888645757,6.435371888645757,0,1,1,6.435371888645757,0\" style=\"fill: none; stroke: rgb(58, 137, 193); stroke-width: 2; opacity: 0.7;\"></path><path transform=\"translate(73.45454545454545,114.73333333333333)\" d=\"M6.572604760575235,0A6.572604760575235,6.572604760575235,0,1,1,-6.572604760575235,0A6.572604760575235,6.572604760575235,0,1,1,6.572604760575235,0\" style=\"fill: none; stroke: rgb(51, 131, 190); stroke-width: 2; opacity: 0.7;\"></path><path transform=\"translate(81.45454545454544,117.33333333333333)\" d=\"M6.858840756774735,0A6.858840756774735,6.858840756774735,0,1,1,-6.858840756774735,0A6.858840756774735,6.858840756774735,0,1,1,6.858840756774735,0\" style=\"fill: none; stroke: rgb(45, 125, 186); stroke-width: 2; opacity: 0.7;\"></path><path transform=\"translate(87.90909090909092,118.93333333333334)\" d=\"M7.032442601339526,0A7.032442601339526,7.032442601339526,0,1,1,-7.032442601339526,0A7.032442601339526,7.032442601339526,0,1,1,7.032442601339526,0\" style=\"fill: none; stroke: rgb(39, 118, 183); stroke-width: 2; opacity: 0.7;\"></path><path transform=\"translate(98.54545454545455,121.2)\" d=\"M7.216343360618471,0A7.216343360618471,7.216343360618471,0,1,1,-7.216343360618471,0A7.216343360618471,7.216343360618471,0,1,1,7.216343360618471,0\" style=\"fill: none; stroke: rgb(33, 112, 179); stroke-width: 2; opacity: 0.7;\"></path><path transform=\"translate(105.63636363636364,127)\" d=\"M7.392073318006519,0A7.392073318006519,7.392073318006519,0,1,1,-7.392073318006519,0A7.392073318006519,7.392073318006519,0,1,1,7.392073318006519,0\" style=\"fill: none; stroke: rgb(28, 106, 174); stroke-width: 2; opacity: 0.7;\"></path><path transform=\"translate(112.81818181818181,128.26666666666668)\" d=\"M7.6858830584257385,0A7.6858830584257385,7.6858830584257385,0,1,1,-7.6858830584257385,0A7.6858830584257385,7.6858830584257385,0,1,1,7.6858830584257385,0\" style=\"fill: none; stroke: rgb(23, 99, 169); stroke-width: 2; opacity: 0.7;\"></path><path transform=\"translate(120.63636363636363,130.26666666666668)\" d=\"M7.925650763127851,0A7.925650763127851,7.925650763127851,0,1,1,-7.925650763127851,0A7.925650763127851,7.925650763127851,0,1,1,7.925650763127851,0\" style=\"fill: none; stroke: rgb(18, 93, 164); stroke-width: 2; opacity: 0.7;\"></path><path transform=\"translate(133.9090909090909,137.26666666666668)\" d=\"M8.275709439867953,0A8.275709439867953,8.275709439867953,0,1,1,-8.275709439867953,0A8.275709439867953,8.275709439867953,0,1,1,8.275709439867953,0\" style=\"fill: none; stroke: rgb(16, 86, 158); stroke-width: 2; opacity: 0.7;\"></path><path transform=\"translate(140.36363636363637,135.93333333333334)\" d=\"M8.369233870725992,0A8.369233870725992,8.369233870725992,0,1,1,-8.369233870725992,0A8.369233870725992,8.369233870725992,0,1,1,8.369233870725992,0\" style=\"fill: none; stroke: rgb(13, 80, 151); stroke-width: 2; opacity: 0.7;\"></path><path transform=\"translate(163.45454545454547,136.8)\" d=\"M8.601097158143704,0A8.601097158143704,8.601097158143704,0,1,1,-8.601097158143704,0A8.601097158143704,8.601097158143704,0,1,1,8.601097158143704,0\" style=\"fill: none; stroke: rgb(10, 74, 144); stroke-width: 2; opacity: 0.7;\"></path><path transform=\"translate(22.18181818181818,107.66666666666667)\" d=\"M2.9362978267000632,0A2.9362978267000632,2.9362978267000632,0,1,1,-2.9362978267000632,0A2.9362978267000632,2.9362978267000632,0,1,1,2.9362978267000632,0\" style=\"fill: none; stroke: rgb(207, 225, 242); stroke-width: 2; opacity: 0.7;\"></path><path transform=\"translate(23.636363636363637,110.46666666666665)\" d=\"M3.0282906835034287,0A3.0282906835034287,3.0282906835034287,0,1,1,-3.0282906835034287,0A3.0282906835034287,3.0282906835034287,0,1,1,3.0282906835034287,0\" style=\"fill: none; stroke: rgb(201, 222, 240); stroke-width: 2; opacity: 0.7;\"></path><path transform=\"translate(23.636363636363637,109.8)\" d=\"M3.165728297989503,0A3.165728297989503,3.165728297989503,0,1,1,-3.165728297989503,0A3.165728297989503,3.165728297989503,0,1,1,3.165728297989503,0\" style=\"fill: none; stroke: rgb(195, 219, 238); stroke-width: 2; opacity: 0.7;\"></path><path transform=\"translate(26.181818181818183,111.93333333333334)\" d=\"M3.2512359485896534,0A3.2512359485896534,3.2512359485896534,0,1,1,-3.2512359485896534,0A3.2512359485896534,3.2512359485896534,0,1,1,3.2512359485896534,0\" style=\"fill: none; stroke: rgb(189, 216, 236); stroke-width: 2; opacity: 0.7;\"></path><path transform=\"translate(26.454545454545457,110.13333333333333)\" d=\"M3.2998886453162912,0A3.2998886453162912,3.2998886453162912,0,1,1,-3.2998886453162912,0A3.2998886453162912,3.2998886453162912,0,1,1,3.2998886453162912,0\" style=\"fill: none; stroke: rgb(182, 212, 233); stroke-width: 2; opacity: 0.7;\"></path><path transform=\"translate(27.090909090909093,110.46666666666665)\" d=\"M3.4087416449344117,0A3.4087416449344117,3.4087416449344117,0,1,1,-3.4087416449344117,0A3.4087416449344117,3.4087416449344117,0,1,1,3.4087416449344117,0\" style=\"fill: none; stroke: rgb(174, 209, 231); stroke-width: 2; opacity: 0.7;\"></path><path transform=\"translate(27,111.4)\" d=\"M3.534829292603903,0A3.534829292603903,3.534829292603903,0,1,1,-3.534829292603903,0A3.534829292603903,3.534829292603903,0,1,1,3.534829292603903,0\" style=\"fill: none; stroke: rgb(166, 205, 229); stroke-width: 2; opacity: 0.7;\"></path><path transform=\"translate(27.81818181818182,110.26666666666667)\" d=\"M3.5953741887690684,0A3.5953741887690684,3.5953741887690684,0,1,1,-3.5953741887690684,0A3.5953741887690684,3.5953741887690684,0,1,1,3.5953741887690684,0\" style=\"fill: none; stroke: rgb(158, 201, 226); stroke-width: 2; opacity: 0.7;\"></path><path transform=\"translate(29.272727272727277,107.13333333333333)\" d=\"M3.736789571202745,0A3.736789571202745,3.736789571202745,0,1,1,-3.736789571202745,0A3.736789571202745,3.736789571202745,0,1,1,3.736789571202745,0\" style=\"fill: none; stroke: rgb(149, 196, 224); stroke-width: 2; opacity: 0.7;\"></path><path transform=\"translate(29.545454545454547,100.53333333333335)\" d=\"M3.861569217631893,0A3.861569217631893,3.861569217631893,0,1,1,-3.861569217631893,0A3.861569217631893,3.861569217631893,0,1,1,3.861569217631893,0\" style=\"fill: none; stroke: rgb(140, 191, 221); stroke-width: 2; opacity: 0.7;\"></path><path transform=\"translate(29.909090909090907,96)\" d=\"M4.161287282961748,0A4.161287282961748,4.161287282961748,0,1,1,-4.161287282961748,0A4.161287282961748,4.161287282961748,0,1,1,4.161287282961748,0\" style=\"fill: none; stroke: rgb(131, 186, 219); stroke-width: 2; opacity: 0.7;\"></path><path transform=\"translate(31.363636363636367,93.6)\" d=\"M4.24717521077345,0A4.24717521077345,4.24717521077345,0,1,1,-4.24717521077345,0A4.24717521077345,4.24717521077345,0,1,1,4.24717521077345,0\" style=\"fill: none; stroke: rgb(122, 181, 216); stroke-width: 2; opacity: 0.7;\"></path><path transform=\"translate(33.36363636363637,91.73333333333333)\" d=\"M4.4330936644881715,0A4.4330936644881715,4.4330936644881715,0,1,1,-4.4330936644881715,0A4.4330936644881715,4.4330936644881715,0,1,1,4.4330936644881715,0\" style=\"fill: none; stroke: rgb(113, 176, 214); stroke-width: 2; opacity: 0.7;\"></path><path transform=\"translate(35.18181818181819,88.93333333333334)\" d=\"M4.647254581929223,0A4.647254581929223,4.647254581929223,0,1,1,-4.647254581929223,0A4.647254581929223,4.647254581929223,0,1,1,4.647254581929223,0\" style=\"fill: none; stroke: rgb(104, 171, 211); stroke-width: 2; opacity: 0.7;\"></path><path transform=\"translate(36.90909090909091,84.66666666666667)\" d=\"M4.8494766241460345,0A4.8494766241460345,4.8494766241460345,0,1,1,-4.8494766241460345,0A4.8494766241460345,4.8494766241460345,0,1,1,4.8494766241460345,0\" style=\"fill: none; stroke: rgb(95, 166, 208); stroke-width: 2; opacity: 0.7;\"></path><path transform=\"translate(45.45454545454545,99.4)\" d=\"M5.105215763948675,0A5.105215763948675,5.105215763948675,0,1,1,-5.105215763948675,0A5.105215763948675,5.105215763948675,0,1,1,5.105215763948675,0\" style=\"fill: none; stroke: rgb(87, 160, 205); stroke-width: 2; opacity: 0.7;\"></path><path transform=\"translate(47.72727272727273,100.73333333333333)\" d=\"M5.36493414197793,0A5.36493414197793,5.36493414197793,0,1,1,-5.36493414197793,0A5.36493414197793,5.36493414197793,0,1,1,5.36493414197793,0\" style=\"fill: none; stroke: rgb(80, 154, 202); stroke-width: 2; opacity: 0.7;\"></path><path transform=\"translate(48.81818181818182,102.06666666666666)\" d=\"M5.509261330264383,0A5.509261330264383,5.509261330264383,0,1,1,-5.509261330264383,0A5.509261330264383,5.509261330264383,0,1,1,5.509261330264383,0\" style=\"fill: none; stroke: rgb(72, 148, 199); stroke-width: 2; opacity: 0.7;\"></path><path transform=\"translate(53,101)\" d=\"M5.734602096671746,0A5.734602096671746,5.734602096671746,0,1,1,-5.734602096671746,0A5.734602096671746,5.734602096671746,0,1,1,5.734602096671746,0\" style=\"fill: none; stroke: rgb(65, 142, 196); stroke-width: 2; opacity: 0.7;\"></path><path transform=\"translate(59.18181818181818,101.53333333333335)\" d=\"M5.803835213025684,0A5.803835213025684,5.803835213025684,0,1,1,-5.803835213025684,0A5.803835213025684,5.803835213025684,0,1,1,5.803835213025684,0\" style=\"fill: none; stroke: rgb(58, 137, 193); stroke-width: 2; opacity: 0.7;\"></path><path transform=\"translate(68.81818181818183,104.66666666666666)\" d=\"M5.953111353421559,0A5.953111353421559,5.953111353421559,0,1,1,-5.953111353421559,0A5.953111353421559,5.953111353421559,0,1,1,5.953111353421559,0\" style=\"fill: none; stroke: rgb(51, 131, 190); stroke-width: 2; opacity: 0.7;\"></path><path transform=\"translate(77.45454545454545,108.13333333333333)\" d=\"M6.278344242519744,0A6.278344242519744,6.278344242519744,0,1,1,-6.278344242519744,0A6.278344242519744,6.278344242519744,0,1,1,6.278344242519744,0\" style=\"fill: none; stroke: rgb(45, 125, 186); stroke-width: 2; opacity: 0.7;\"></path><path transform=\"translate(80.72727272727272,109.8)\" d=\"M6.409355916158848,0A6.409355916158848,6.409355916158848,0,1,1,-6.409355916158848,0A6.409355916158848,6.409355916158848,0,1,1,6.409355916158848,0\" style=\"fill: none; stroke: rgb(39, 118, 183); stroke-width: 2; opacity: 0.7;\"></path><path transform=\"translate(85.09090909090908,108.26666666666667)\" d=\"M6.6009998111402926,0A6.6009998111402926,6.6009998111402926,0,1,1,-6.6009998111402926,0A6.6009998111402926,6.6009998111402926,0,1,1,6.6009998111402926,0\" style=\"fill: none; stroke: rgb(33, 112, 179); stroke-width: 2; opacity: 0.7;\"></path><path transform=\"translate(90.99999999999999,110.66666666666667)\" d=\"M6.7946609658392445,0A6.7946609658392445,6.7946609658392445,0,1,1,-6.7946609658392445,0A6.7946609658392445,6.7946609658392445,0,1,1,6.7946609658392445,0\" style=\"fill: none; stroke: rgb(28, 106, 174); stroke-width: 2; opacity: 0.7;\"></path><path transform=\"translate(99.36363636363636,110.66666666666667)\" d=\"M7.0307448377757265,0A7.0307448377757265,7.0307448377757265,0,1,1,-7.0307448377757265,0A7.0307448377757265,7.0307448377757265,0,1,1,7.0307448377757265,0\" style=\"fill: none; stroke: rgb(23, 99, 169); stroke-width: 2; opacity: 0.7;\"></path><path transform=\"translate(108.18181818181817,111.66666666666667)\" d=\"M7.253363582679872,0A7.253363582679872,7.253363582679872,0,1,1,-7.253363582679872,0A7.253363582679872,7.253363582679872,0,1,1,7.253363582679872,0\" style=\"fill: none; stroke: rgb(18, 93, 164); stroke-width: 2; opacity: 0.7;\"></path><path transform=\"translate(118.90909090909092,114.46666666666665)\" d=\"M7.515550461754224,0A7.515550461754224,7.515550461754224,0,1,1,-7.515550461754224,0A7.515550461754224,7.515550461754224,0,1,1,7.515550461754224,0\" style=\"fill: none; stroke: rgb(16, 86, 158); stroke-width: 2; opacity: 0.7;\"></path><path transform=\"translate(123.45454545454547,115.2)\" d=\"M7.6014511702867145,0A7.6014511702867145,7.6014511702867145,0,1,1,-7.6014511702867145,0A7.6014511702867145,7.6014511702867145,0,1,1,7.6014511702867145,0\" style=\"fill: none; stroke: rgb(13, 80, 151); stroke-width: 2; opacity: 0.7;\"></path><path transform=\"translate(139.54545454545456,114.53333333333335)\" d=\"M7.881606657167674,0A7.881606657167674,7.881606657167674,0,1,1,-7.881606657167674,0A7.881606657167674,7.881606657167674,0,1,1,7.881606657167674,0\" style=\"fill: none; stroke: rgb(10, 74, 144); stroke-width: 2; opacity: 0.7;\"></path><path transform=\"translate(24,123.4)\" d=\"M2.901921324315815,0A2.901921324315815,2.901921324315815,0,1,1,-2.901921324315815,0A2.901921324315815,2.901921324315815,0,1,1,2.901921324315815,0\" style=\"fill: none; stroke: rgb(207, 225, 242); stroke-width: 2; opacity: 0.7;\"></path><path transform=\"translate(25.36363636363636,126.86666666666666)\" d=\"M2.9866420125147464,0A2.9866420125147464,2.9866420125147464,0,1,1,-2.9866420125147464,0A2.9866420125147464,2.9866420125147464,0,1,1,2.9866420125147464,0\" style=\"fill: none; stroke: rgb(201, 222, 240); stroke-width: 2; opacity: 0.7;\"></path><path transform=\"translate(25.54545454545455,122.66666666666667)\" d=\"M3.15052042005247,0A3.15052042005247,3.15052042005247,0,1,1,-3.15052042005247,0A3.15052042005247,3.15052042005247,0,1,1,3.15052042005247,0\" style=\"fill: none; stroke: rgb(195, 219, 238); stroke-width: 2; opacity: 0.7;\"></path><path transform=\"translate(28.72727272727273,127.86666666666666)\" d=\"M3.2631521112741844,0A3.2631521112741844,3.2631521112741844,0,1,1,-3.2631521112741844,0A3.2631521112741844,3.2631521112741844,0,1,1,3.2631521112741844,0\" style=\"fill: none; stroke: rgb(189, 216, 236); stroke-width: 2; opacity: 0.7;\"></path><path transform=\"translate(29.09090909090909,124.2)\" d=\"M3.2765782660998592,0A3.2765782660998592,3.2765782660998592,0,1,1,-3.2765782660998592,0A3.2765782660998592,3.2765782660998592,0,1,1,3.2765782660998592,0\" style=\"fill: none; stroke: rgb(182, 212, 233); stroke-width: 2; opacity: 0.7;\"></path><path transform=\"translate(32.99999999999999,127.2)\" d=\"M3.3785272237679447,0A3.3785272237679447,3.3785272237679447,0,1,1,-3.3785272237679447,0A3.3785272237679447,3.3785272237679447,0,1,1,3.3785272237679447,0\" style=\"fill: none; stroke: rgb(174, 209, 231); stroke-width: 2; opacity: 0.7;\"></path><path transform=\"translate(32.72727272727273,128.06666666666666)\" d=\"M3.518562768690636,0A3.518562768690636,3.518562768690636,0,1,1,-3.518562768690636,0A3.518562768690636,3.518562768690636,0,1,1,3.518562768690636,0\" style=\"fill: none; stroke: rgb(166, 205, 229); stroke-width: 2; opacity: 0.7;\"></path><path transform=\"translate(34.27272727272728,127.66666666666666)\" d=\"M3.630219962782614,0A3.630219962782614,3.630219962782614,0,1,1,-3.630219962782614,0A3.630219962782614,3.630219962782614,0,1,1,3.630219962782614,0\" style=\"fill: none; stroke: rgb(158, 201, 226); stroke-width: 2; opacity: 0.7;\"></path><path transform=\"translate(35,127.73333333333333)\" d=\"M3.703686105403557,0A3.703686105403557,3.703686105403557,0,1,1,-3.703686105403557,0A3.703686105403557,3.703686105403557,0,1,1,3.703686105403557,0\" style=\"fill: none; stroke: rgb(149, 196, 224); stroke-width: 2; opacity: 0.7;\"></path><path transform=\"translate(38.09090909090909,127.06666666666666)\" d=\"M3.9020396432527207,0A3.9020396432527207,3.9020396432527207,0,1,1,-3.9020396432527207,0A3.9020396432527207,3.9020396432527207,0,1,1,3.9020396432527207,0\" style=\"fill: none; stroke: rgb(140, 191, 221); stroke-width: 2; opacity: 0.7;\"></path><path transform=\"translate(38.09090909090909,126.26666666666667)\" d=\"M4.346229531946986,0A4.346229531946986,4.346229531946986,0,1,1,-4.346229531946986,0A4.346229531946986,4.346229531946986,0,1,1,4.346229531946986,0\" style=\"fill: none; stroke: rgb(131, 186, 219); stroke-width: 2; opacity: 0.7;\"></path><path transform=\"translate(39.27272727272727,122.60000000000001)\" d=\"M4.330129774692544,0A4.330129774692544,4.330129774692544,0,1,1,-4.330129774692544,0A4.330129774692544,4.330129774692544,0,1,1,4.330129774692544,0\" style=\"fill: none; stroke: rgb(122, 181, 216); stroke-width: 2; opacity: 0.7;\"></path><path transform=\"translate(41.27272727272727,119.66666666666667)\" d=\"M4.548591156266039,0A4.548591156266039,4.548591156266039,0,1,1,-4.548591156266039,0A4.548591156266039,4.548591156266039,0,1,1,4.548591156266039,0\" style=\"fill: none; stroke: rgb(113, 176, 214); stroke-width: 2; opacity: 0.7;\"></path><path transform=\"translate(43.45454545454545,117.06666666666666)\" d=\"M4.760804420903423,0A4.760804420903423,4.760804420903423,0,1,1,-4.760804420903423,0A4.760804420903423,4.760804420903423,0,1,1,4.760804420903423,0\" style=\"fill: none; stroke: rgb(104, 171, 211); stroke-width: 2; opacity: 0.7;\"></path><path transform=\"translate(44.90909090909091,116.33333333333333)\" d=\"M4.863645019968854,0A4.863645019968854,4.863645019968854,0,1,1,-4.863645019968854,0A4.863645019968854,4.863645019968854,0,1,1,4.863645019968854,0\" style=\"fill: none; stroke: rgb(95, 166, 208); stroke-width: 2; opacity: 0.7;\"></path><path transform=\"translate(49.63636363636364,115.26666666666668)\" d=\"M5.238565038762336,0A5.238565038762336,5.238565038762336,0,1,1,-5.238565038762336,0A5.238565038762336,5.238565038762336,0,1,1,5.238565038762336,0\" style=\"fill: none; stroke: rgb(87, 160, 205); stroke-width: 2; opacity: 0.7;\"></path><path transform=\"translate(51.272727272727266,117.19999999999999)\" d=\"M5.458324011302392,0A5.458324011302392,5.458324011302392,0,1,1,-5.458324011302392,0A5.458324011302392,5.458324011302392,0,1,1,5.458324011302392,0\" style=\"fill: none; stroke: rgb(80, 154, 202); stroke-width: 2; opacity: 0.7;\"></path><path transform=\"translate(53.45454545454545,116.93333333333334)\" d=\"M5.579096410476082,0A5.579096410476082,5.579096410476082,0,1,1,-5.579096410476082,0A5.579096410476082,5.579096410476082,0,1,1,5.579096410476082,0\" style=\"fill: none; stroke: rgb(72, 148, 199); stroke-width: 2; opacity: 0.7;\"></path><path transform=\"translate(55.81818181818182,111.4)\" d=\"M5.917230278633478,0A5.917230278633478,5.917230278633478,0,1,1,-5.917230278633478,0A5.917230278633478,5.917230278633478,0,1,1,5.917230278633478,0\" style=\"fill: none; stroke: rgb(65, 142, 196); stroke-width: 2; opacity: 0.7;\"></path><path transform=\"translate(66.18181818181817,122.53333333333333)\" d=\"M5.971947570300993,0A5.971947570300993,5.971947570300993,0,1,1,-5.971947570300993,0A5.971947570300993,5.971947570300993,0,1,1,5.971947570300993,0\" style=\"fill: none; stroke: rgb(58, 137, 193); stroke-width: 2; opacity: 0.7;\"></path><path transform=\"translate(76.36363636363637,122.93333333333334)\" d=\"M5.973952140176839,0A5.973952140176839,5.973952140176839,0,1,1,-5.973952140176839,0A5.973952140176839,5.973952140176839,0,1,1,5.973952140176839,0\" style=\"fill: none; stroke: rgb(51, 131, 190); stroke-width: 2; opacity: 0.7;\"></path><path transform=\"translate(84.81818181818181,125.86666666666666)\" d=\"M6.310218424002117,0A6.310218424002117,6.310218424002117,0,1,1,-6.310218424002117,0A6.310218424002117,6.310218424002117,0,1,1,6.310218424002117,0\" style=\"fill: none; stroke: rgb(45, 125, 186); stroke-width: 2; opacity: 0.7;\"></path><path transform=\"translate(90.45454545454545,127.06666666666666)\" d=\"M6.459611882808364,0A6.459611882808364,6.459611882808364,0,1,1,-6.459611882808364,0A6.459611882808364,6.459611882808364,0,1,1,6.459611882808364,0\" style=\"fill: none; stroke: rgb(39, 118, 183); stroke-width: 2; opacity: 0.7;\"></path><path transform=\"translate(95.27272727272728,130.60000000000002)\" d=\"M6.605627509808105,0A6.605627509808105,6.605627509808105,0,1,1,-6.605627509808105,0A6.605627509808105,6.605627509808105,0,1,1,6.605627509808105,0\" style=\"fill: none; stroke: rgb(33, 112, 179); stroke-width: 2; opacity: 0.7;\"></path><path transform=\"translate(106.45454545454544,132.60000000000002)\" d=\"M6.742567954260201,0A6.742567954260201,6.742567954260201,0,1,1,-6.742567954260201,0A6.742567954260201,6.742567954260201,0,1,1,6.742567954260201,0\" style=\"fill: none; stroke: rgb(28, 106, 174); stroke-width: 2; opacity: 0.7;\"></path><path transform=\"translate(112.90909090909092,133.2)\" d=\"M6.9115163493533025,0A6.9115163493533025,6.9115163493533025,0,1,1,-6.9115163493533025,0A6.9115163493533025,6.9115163493533025,0,1,1,6.9115163493533025,0\" style=\"fill: none; stroke: rgb(23, 99, 169); stroke-width: 2; opacity: 0.7;\"></path><path transform=\"translate(131.9090909090909,137.06666666666666)\" d=\"M7.168475246387152,0A7.168475246387152,7.168475246387152,0,1,1,-7.168475246387152,0A7.168475246387152,7.168475246387152,0,1,1,7.168475246387152,0\" style=\"fill: none; stroke: rgb(18, 93, 164); stroke-width: 2; opacity: 0.7;\"></path><path transform=\"translate(136,136.4)\" d=\"M7.568965085759488,0A7.568965085759488,7.568965085759488,0,1,1,-7.568965085759488,0A7.568965085759488,7.568965085759488,0,1,1,7.568965085759488,0\" style=\"fill: none; stroke: rgb(16, 86, 158); stroke-width: 2; opacity: 0.7;\"></path><path transform=\"translate(141.27272727272728,135.26666666666665)\" d=\"M7.62713529256459,0A7.62713529256459,7.62713529256459,0,1,1,-7.62713529256459,0A7.62713529256459,7.62713529256459,0,1,1,7.62713529256459,0\" style=\"fill: none; stroke: rgb(13, 80, 151); stroke-width: 2; opacity: 0.7;\"></path><path transform=\"translate(162.27272727272728,136.53333333333333)\" d=\"M7.932803322492629,0A7.932803322492629,7.932803322492629,0,1,1,-7.932803322492629,0A7.932803322492629,7.932803322492629,0,1,1,7.932803322492629,0\" style=\"fill: none; stroke: rgb(10, 74, 144); stroke-width: 2; opacity: 0.7;\"></path><path transform=\"translate(23.454545454545457,122.8)\" d=\"M2.898990374406036,0A2.898990374406036,2.898990374406036,0,1,1,-2.898990374406036,0A2.898990374406036,2.898990374406036,0,1,1,2.898990374406036,0\" style=\"fill: none; stroke: rgb(207, 225, 242); stroke-width: 2; opacity: 0.7;\"></path><path transform=\"translate(23.272727272727273,125.86666666666666)\" d=\"M3.0101451815725944,0A3.0101451815725944,3.0101451815725944,0,1,1,-3.0101451815725944,0A3.0101451815725944,3.0101451815725944,0,1,1,3.0101451815725944,0\" style=\"fill: none; stroke: rgb(201, 222, 240); stroke-width: 2; opacity: 0.7;\"></path><path transform=\"translate(25.54545454545455,128.13333333333333)\" d=\"M3.119955378837629,0A3.119955378837629,3.119955378837629,0,1,1,-3.119955378837629,0A3.119955378837629,3.119955378837629,0,1,1,3.119955378837629,0\" style=\"fill: none; stroke: rgb(195, 219, 238); stroke-width: 2; opacity: 0.7;\"></path><path transform=\"translate(27.727272727272727,132.2)\" d=\"M3.213358908524627,0A3.213358908524627,3.213358908524627,0,1,1,-3.213358908524627,0A3.213358908524627,3.213358908524627,0,1,1,3.213358908524627,0\" style=\"fill: none; stroke: rgb(189, 216, 236); stroke-width: 2; opacity: 0.7;\"></path><path transform=\"translate(28.18181818181818,132.53333333333333)\" d=\"M3.290513087201031,0A3.290513087201031,3.290513087201031,0,1,1,-3.290513087201031,0A3.290513087201031,3.290513087201031,0,1,1,3.290513087201031,0\" style=\"fill: none; stroke: rgb(182, 212, 233); stroke-width: 2; opacity: 0.7;\"></path><path transform=\"translate(29.454545454545457,133.26666666666665)\" d=\"M3.3942631511888566,0A3.3942631511888566,3.3942631511888566,0,1,1,-3.3942631511888566,0A3.3942631511888566,3.3942631511888566,0,1,1,3.3942631511888566,0\" style=\"fill: none; stroke: rgb(174, 209, 231); stroke-width: 2; opacity: 0.7;\"></path><path transform=\"translate(29.63636363636364,131.60000000000002)\" d=\"M3.5176236161563144,0A3.5176236161563144,3.5176236161563144,0,1,1,-3.5176236161563144,0A3.5176236161563144,3.5176236161563144,0,1,1,3.5176236161563144,0\" style=\"fill: none; stroke: rgb(166, 205, 229); stroke-width: 2; opacity: 0.7;\"></path><path transform=\"translate(31.09090909090909,124)\" d=\"M3.653031652248656,0A3.653031652248656,3.653031652248656,0,1,1,-3.653031652248656,0A3.653031652248656,3.653031652248656,0,1,1,3.653031652248656,0\" style=\"fill: none; stroke: rgb(158, 201, 226); stroke-width: 2; opacity: 0.7;\"></path><path transform=\"translate(35.36363636363637,131.46666666666667)\" d=\"M3.8131335036757457,0A3.8131335036757457,3.8131335036757457,0,1,1,-3.8131335036757457,0A3.8131335036757457,3.8131335036757457,0,1,1,3.8131335036757457,0\" style=\"fill: none; stroke: rgb(149, 196, 224); stroke-width: 2; opacity: 0.7;\"></path><path transform=\"translate(35.27272727272727,126)\" d=\"M4.016857332543011,0A4.016857332543011,4.016857332543011,0,1,1,-4.016857332543011,0A4.016857332543011,4.016857332543011,0,1,1,4.016857332543011,0\" style=\"fill: none; stroke: rgb(140, 191, 221); stroke-width: 2; opacity: 0.7;\"></path><path transform=\"translate(35.72727272727273,123.2)\" d=\"M4.328738849846116,0A4.328738849846116,4.328738849846116,0,1,1,-4.328738849846116,0A4.328738849846116,4.328738849846116,0,1,1,4.328738849846116,0\" style=\"fill: none; stroke: rgb(131, 186, 219); stroke-width: 2; opacity: 0.7;\"></path><path transform=\"translate(36.54545454545455,120.93333333333334)\" d=\"M4.464218544443605,0A4.464218544443605,4.464218544443605,0,1,1,-4.464218544443605,0A4.464218544443605,4.464218544443605,0,1,1,4.464218544443605,0\" style=\"fill: none; stroke: rgb(122, 181, 216); stroke-width: 2; opacity: 0.7;\"></path><path transform=\"translate(38.81818181818182,117.73333333333333)\" d=\"M4.637680907216125,0A4.637680907216125,4.637680907216125,0,1,1,-4.637680907216125,0A4.637680907216125,4.637680907216125,0,1,1,4.637680907216125,0\" style=\"fill: none; stroke: rgb(113, 176, 214); stroke-width: 2; opacity: 0.7;\"></path><path transform=\"translate(42.36363636363637,114.86666666666666)\" d=\"M4.674917879321047,0A4.674917879321047,4.674917879321047,0,1,1,-4.674917879321047,0A4.674917879321047,4.674917879321047,0,1,1,4.674917879321047,0\" style=\"fill: none; stroke: rgb(104, 171, 211); stroke-width: 2; opacity: 0.7;\"></path><path transform=\"translate(43.727272727272734,114.73333333333333)\" d=\"M5.00614495731338,0A5.00614495731338,5.00614495731338,0,1,1,-5.00614495731338,0A5.00614495731338,5.00614495731338,0,1,1,5.00614495731338,0\" style=\"fill: none; stroke: rgb(95, 166, 208); stroke-width: 2; opacity: 0.7;\"></path><path transform=\"translate(47.81818181818182,115.26666666666668)\" d=\"M5.2983292410623655,0A5.2983292410623655,5.2983292410623655,0,1,1,-5.2983292410623655,0A5.2983292410623655,5.2983292410623655,0,1,1,5.2983292410623655,0\" style=\"fill: none; stroke: rgb(87, 160, 205); stroke-width: 2; opacity: 0.7;\"></path><path transform=\"translate(49.81818181818182,115.73333333333333)\" d=\"M5.683566056368455,0A5.683566056368455,5.683566056368455,0,1,1,-5.683566056368455,0A5.683566056368455,5.683566056368455,0,1,1,5.683566056368455,0\" style=\"fill: none; stroke: rgb(80, 154, 202); stroke-width: 2; opacity: 0.7;\"></path><path transform=\"translate(53,115.26666666666668)\" d=\"M5.720056878621771,0A5.720056878621771,5.720056878621771,0,1,1,-5.720056878621771,0A5.720056878621771,5.720056878621771,0,1,1,5.720056878621771,0\" style=\"fill: none; stroke: rgb(72, 148, 199); stroke-width: 2; opacity: 0.7;\"></path><path transform=\"translate(54.36363636363636,112)\" d=\"M6.083321182955154,0A6.083321182955154,6.083321182955154,0,1,1,-6.083321182955154,0A6.083321182955154,6.083321182955154,0,1,1,6.083321182955154,0\" style=\"fill: none; stroke: rgb(65, 142, 196); stroke-width: 2; opacity: 0.7;\"></path><path transform=\"translate(59.18181818181818,112.73333333333333)\" d=\"M6.26014588931057,0A6.26014588931057,6.26014588931057,0,1,1,-6.26014588931057,0A6.26014588931057,6.26014588931057,0,1,1,6.26014588931057,0\" style=\"fill: none; stroke: rgb(58, 137, 193); stroke-width: 2; opacity: 0.7;\"></path><path transform=\"translate(70,114.93333333333334)\" d=\"M6.377970722215327,0A6.377970722215327,6.377970722215327,0,1,1,-6.377970722215327,0A6.377970722215327,6.377970722215327,0,1,1,6.377970722215327,0\" style=\"fill: none; stroke: rgb(51, 131, 190); stroke-width: 2; opacity: 0.7;\"></path><path transform=\"translate(82.72727272727273,118.86666666666666)\" d=\"M6.641500071868936,0A6.641500071868936,6.641500071868936,0,1,1,-6.641500071868936,0A6.641500071868936,6.641500071868936,0,1,1,6.641500071868936,0\" style=\"fill: none; stroke: rgb(45, 125, 186); stroke-width: 2; opacity: 0.7;\"></path><path transform=\"translate(88.63636363636364,122.86666666666667)\" d=\"M6.806231747668679,0A6.806231747668679,6.806231747668679,0,1,1,-6.806231747668679,0A6.806231747668679,6.806231747668679,0,1,1,6.806231747668679,0\" style=\"fill: none; stroke: rgb(39, 118, 183); stroke-width: 2; opacity: 0.7;\"></path><path transform=\"translate(93.63636363636364,127.06666666666666)\" d=\"M6.997161228630355,0A6.997161228630355,6.997161228630355,0,1,1,-6.997161228630355,0A6.997161228630355,6.997161228630355,0,1,1,6.997161228630355,0\" style=\"fill: none; stroke: rgb(33, 112, 179); stroke-width: 2; opacity: 0.7;\"></path><path transform=\"translate(104.0909090909091,129.86666666666667)\" d=\"M7.083214725823858,0A7.083214725823858,7.083214725823858,0,1,1,-7.083214725823858,0A7.083214725823858,7.083214725823858,0,1,1,7.083214725823858,0\" style=\"fill: none; stroke: rgb(28, 106, 174); stroke-width: 2; opacity: 0.7;\"></path><path transform=\"translate(112.63636363636364,131.2)\" d=\"M7.246350027052965,0A7.246350027052965,7.246350027052965,0,1,1,-7.246350027052965,0A7.246350027052965,7.246350027052965,0,1,1,7.246350027052965,0\" style=\"fill: none; stroke: rgb(23, 99, 169); stroke-width: 2; opacity: 0.7;\"></path><path transform=\"translate(124.0909090909091,135.66666666666669)\" d=\"M7.427076788312151,0A7.427076788312151,7.427076788312151,0,1,1,-7.427076788312151,0A7.427076788312151,7.427076788312151,0,1,1,7.427076788312151,0\" style=\"fill: none; stroke: rgb(18, 93, 164); stroke-width: 2; opacity: 0.7;\"></path><path transform=\"translate(132.54545454545456,137.13333333333333)\" d=\"M7.76058247649282,0A7.76058247649282,7.76058247649282,0,1,1,-7.76058247649282,0A7.76058247649282,7.76058247649282,0,1,1,7.76058247649282,0\" style=\"fill: none; stroke: rgb(16, 86, 158); stroke-width: 2; opacity: 0.7;\"></path><path transform=\"translate(132.45454545454544,138.8)\" d=\"M7.873414103738958,0A7.873414103738958,7.873414103738958,0,1,1,-7.873414103738958,0A7.873414103738958,7.873414103738958,0,1,1,7.873414103738958,0\" style=\"fill: none; stroke: rgb(13, 80, 151); stroke-width: 2; opacity: 0.7;\"></path><path transform=\"translate(158.36363636363635,140)\" d=\"M8.14998068362444,0A8.14998068362444,8.14998068362444,0,1,1,-8.14998068362444,0A8.14998068362444,8.14998068362444,0,1,1,8.14998068362444,0\" style=\"fill: none; stroke: rgb(10, 74, 144); stroke-width: 2; opacity: 0.7;\"></path><path transform=\"translate(21.90909090909091,115.8)\" d=\"M2.5971922629380466,0A2.5971922629380466,2.5971922629380466,0,1,1,-2.5971922629380466,0A2.5971922629380466,2.5971922629380466,0,1,1,2.5971922629380466,0\" style=\"fill: none; stroke: rgb(207, 225, 242); stroke-width: 2; opacity: 0.7;\"></path><path transform=\"translate(22.727272727272727,115.33333333333333)\" d=\"M2.6480994103702242,0A2.6480994103702242,2.6480994103702242,0,1,1,-2.6480994103702242,0A2.6480994103702242,2.6480994103702242,0,1,1,2.6480994103702242,0\" style=\"fill: none; stroke: rgb(201, 222, 240); stroke-width: 2; opacity: 0.7;\"></path><path transform=\"translate(22.272727272727273,114.20000000000002)\" d=\"M2.7515676298641107,0A2.7515676298641107,2.7515676298641107,0,1,1,-2.7515676298641107,0A2.7515676298641107,2.7515676298641107,0,1,1,2.7515676298641107,0\" style=\"fill: none; stroke: rgb(195, 219, 238); stroke-width: 2; opacity: 0.7;\"></path><path transform=\"translate(22.454545454545453,110.66666666666667)\" d=\"M2.8584784051553833,0A2.8584784051553833,2.8584784051553833,0,1,1,-2.8584784051553833,0A2.8584784051553833,2.8584784051553833,0,1,1,2.8584784051553833,0\" style=\"fill: none; stroke: rgb(189, 216, 236); stroke-width: 2; opacity: 0.7;\"></path><path transform=\"translate(22.727272727272727,107.13333333333333)\" d=\"M2.958062363290672,0A2.958062363290672,2.958062363290672,0,1,1,-2.958062363290672,0A2.958062363290672,2.958062363290672,0,1,1,2.958062363290672,0\" style=\"fill: none; stroke: rgb(182, 212, 233); stroke-width: 2; opacity: 0.7;\"></path><path transform=\"translate(23.90909090909091,104.8)\" d=\"M3.067151761315808,0A3.067151761315808,3.067151761315808,0,1,1,-3.067151761315808,0A3.067151761315808,3.067151761315808,0,1,1,3.067151761315808,0\" style=\"fill: none; stroke: rgb(174, 209, 231); stroke-width: 2; opacity: 0.7;\"></path><path transform=\"translate(24.545454545454547,102.46666666666667)\" d=\"M3.181543575053132,0A3.181543575053132,3.181543575053132,0,1,1,-3.181543575053132,0A3.181543575053132,3.181543575053132,0,1,1,3.181543575053132,0\" style=\"fill: none; stroke: rgb(166, 205, 229); stroke-width: 2; opacity: 0.7;\"></path><path transform=\"translate(25.727272727272727,96.13333333333331)\" d=\"M3.316826926122439,0A3.316826926122439,3.316826926122439,0,1,1,-3.316826926122439,0A3.316826926122439,3.316826926122439,0,1,1,3.316826926122439,0\" style=\"fill: none; stroke: rgb(158, 201, 226); stroke-width: 2; opacity: 0.7;\"></path><path transform=\"translate(27.363636363636363,90.99999999999999)\" d=\"M3.4294793964335955,0A3.4294793964335955,3.4294793964335955,0,1,1,-3.4294793964335955,0A3.4294793964335955,3.4294793964335955,0,1,1,3.4294793964335955,0\" style=\"fill: none; stroke: rgb(149, 196, 224); stroke-width: 2; opacity: 0.7;\"></path><path transform=\"translate(27.81818181818182,80.4)\" d=\"M3.559382892334532,0A3.559382892334532,3.559382892334532,0,1,1,-3.559382892334532,0A3.559382892334532,3.559382892334532,0,1,1,3.559382892334532,0\" style=\"fill: none; stroke: rgb(140, 191, 221); stroke-width: 2; opacity: 0.7;\"></path><path transform=\"translate(27.81818181818182,65.39999999999998)\" d=\"M3.7804607934156653,0A3.7804607934156653,3.7804607934156653,0,1,1,-3.7804607934156653,0A3.7804607934156653,3.7804607934156653,0,1,1,3.7804607934156653,0\" style=\"fill: none; stroke: rgb(131, 186, 219); stroke-width: 2; opacity: 0.7;\"></path><path transform=\"translate(28.636363636363637,58.39999999999998)\" d=\"M3.9810591993732474,0A3.9810591993732474,3.9810591993732474,0,1,1,-3.9810591993732474,0A3.9810591993732474,3.9810591993732474,0,1,1,3.9810591993732474,0\" style=\"fill: none; stroke: rgb(122, 181, 216); stroke-width: 2; opacity: 0.7;\"></path><path transform=\"translate(30.272727272727266,51.33333333333334)\" d=\"M4.139402131561255,0A4.139402131561255,4.139402131561255,0,1,1,-4.139402131561255,0A4.139402131561255,4.139402131561255,0,1,1,4.139402131561255,0\" style=\"fill: none; stroke: rgb(113, 176, 214); stroke-width: 2; opacity: 0.7;\"></path><path transform=\"translate(32.72727272727273,46.06666666666666)\" d=\"M4.33429158558528,0A4.33429158558528,4.33429158558528,0,1,1,-4.33429158558528,0A4.33429158558528,4.33429158558528,0,1,1,4.33429158558528,0\" style=\"fill: none; stroke: rgb(104, 171, 211); stroke-width: 2; opacity: 0.7;\"></path><path transform=\"translate(33.54545454545455,47.06666666666666)\" d=\"M4.52396655557784,0A4.52396655557784,4.52396655557784,0,1,1,-4.52396655557784,0A4.52396655557784,4.52396655557784,0,1,1,4.52396655557784,0\" style=\"fill: none; stroke: rgb(95, 166, 208); stroke-width: 2; opacity: 0.7;\"></path><path transform=\"translate(37.63636363636363,50.19999999999999)\" d=\"M4.743823672883756,0A4.743823672883756,4.743823672883756,0,1,1,-4.743823672883756,0A4.743823672883756,4.743823672883756,0,1,1,4.743823672883756,0\" style=\"fill: none; stroke: rgb(87, 160, 205); stroke-width: 2; opacity: 0.7;\"></path><path transform=\"translate(39.45454545454545,56.73333333333332)\" d=\"M5.007133941921339,0A5.007133941921339,5.007133941921339,0,1,1,-5.007133941921339,0A5.007133941921339,5.007133941921339,0,1,1,5.007133941921339,0\" style=\"fill: none; stroke: rgb(80, 154, 202); stroke-width: 2; opacity: 0.7;\"></path><path transform=\"translate(42.09090909090909,56.46666666666667)\" d=\"M5.147911178099022,0A5.147911178099022,5.147911178099022,0,1,1,-5.147911178099022,0A5.147911178099022,5.147911178099022,0,1,1,5.147911178099022,0\" style=\"fill: none; stroke: rgb(72, 148, 199); stroke-width: 2; opacity: 0.7;\"></path><path transform=\"translate(44.90909090909091,60.20000000000002)\" d=\"M5.418504209512092,0A5.418504209512092,5.418504209512092,0,1,1,-5.418504209512092,0A5.418504209512092,5.418504209512092,0,1,1,5.418504209512092,0\" style=\"fill: none; stroke: rgb(65, 142, 196); stroke-width: 2; opacity: 0.7;\"></path><path transform=\"translate(51.18181818181819,59.60000000000002)\" d=\"M5.589792473552432,0A5.589792473552432,5.589792473552432,0,1,1,-5.589792473552432,0A5.589792473552432,5.589792473552432,0,1,1,5.589792473552432,0\" style=\"fill: none; stroke: rgb(58, 137, 193); stroke-width: 2; opacity: 0.7;\"></path><path transform=\"translate(60.36363636363637,65.93333333333334)\" d=\"M5.688141320261256,0A5.688141320261256,5.688141320261256,0,1,1,-5.688141320261256,0A5.688141320261256,5.688141320261256,0,1,1,5.688141320261256,0\" style=\"fill: none; stroke: rgb(51, 131, 190); stroke-width: 2; opacity: 0.7;\"></path><path transform=\"translate(68.54545454545456,77.86666666666669)\" d=\"M5.9538482124874195,0A5.9538482124874195,5.9538482124874195,0,1,1,-5.9538482124874195,0A5.9538482124874195,5.9538482124874195,0,1,1,5.9538482124874195,0\" style=\"fill: none; stroke: rgb(45, 125, 186); stroke-width: 2; opacity: 0.7;\"></path><path transform=\"translate(72.09090909090908,78.4)\" d=\"M6.025519866149671,0A6.025519866149671,6.025519866149671,0,1,1,-6.025519866149671,0A6.025519866149671,6.025519866149671,0,1,1,6.025519866149671,0\" style=\"fill: none; stroke: rgb(39, 118, 183); stroke-width: 2; opacity: 0.7;\"></path><path transform=\"translate(77.63636363636364,80.13333333333333)\" d=\"M6.166697652794938,0A6.166697652794938,6.166697652794938,0,1,1,-6.166697652794938,0A6.166697652794938,6.166697652794938,0,1,1,6.166697652794938,0\" style=\"fill: none; stroke: rgb(33, 112, 179); stroke-width: 2; opacity: 0.7;\"></path><path transform=\"translate(82.27272727272728,85.86666666666667)\" d=\"M6.3559815229184045,0A6.3559815229184045,6.3559815229184045,0,1,1,-6.3559815229184045,0A6.3559815229184045,6.3559815229184045,0,1,1,6.3559815229184045,0\" style=\"fill: none; stroke: rgb(28, 106, 174); stroke-width: 2; opacity: 0.7;\"></path><path transform=\"translate(85.81818181818183,84.53333333333335)\" d=\"M6.585797196376216,0A6.585797196376216,6.585797196376216,0,1,1,-6.585797196376216,0A6.585797196376216,6.585797196376216,0,1,1,6.585797196376216,0\" style=\"fill: none; stroke: rgb(23, 99, 169); stroke-width: 2; opacity: 0.7;\"></path><path transform=\"translate(94.36363636363636,85.60000000000001)\" d=\"M6.8146317924119995,0A6.8146317924119995,6.8146317924119995,0,1,1,-6.8146317924119995,0A6.8146317924119995,6.8146317924119995,0,1,1,6.8146317924119995,0\" style=\"fill: none; stroke: rgb(18, 93, 164); stroke-width: 2; opacity: 0.7;\"></path><path transform=\"translate(105.09090909090908,78.33333333333334)\" d=\"M7.0974645618751,0A7.0974645618751,7.0974645618751,0,1,1,-7.0974645618751,0A7.0974645618751,7.0974645618751,0,1,1,7.0974645618751,0\" style=\"fill: none; stroke: rgb(16, 86, 158); stroke-width: 2; opacity: 0.7;\"></path><path transform=\"translate(109.54545454545455,86.13333333333333)\" d=\"M7.222832070021251,0A7.222832070021251,7.222832070021251,0,1,1,-7.222832070021251,0A7.222832070021251,7.222832070021251,0,1,1,7.222832070021251,0\" style=\"fill: none; stroke: rgb(13, 80, 151); stroke-width: 2; opacity: 0.7;\"></path><path transform=\"translate(123.45454545454547,88.26666666666667)\" d=\"M7.5733562611637,0A7.5733562611637,7.5733562611637,0,1,1,-7.5733562611637,0A7.5733562611637,7.5733562611637,0,1,1,7.5733562611637,0\" style=\"fill: none; stroke: rgb(10, 74, 144); stroke-width: 2; opacity: 0.7;\"></path><path transform=\"translate(27.363636363636363,124)\" d=\"M2.5603015878481243,0A2.5603015878481243,2.5603015878481243,0,1,1,-2.5603015878481243,0A2.5603015878481243,2.5603015878481243,0,1,1,2.5603015878481243,0\" style=\"fill: none; stroke: rgb(207, 225, 242); stroke-width: 2; opacity: 0.7;\"></path><path transform=\"translate(27.363636363636363,124)\" d=\"M2.6404958289903435,0A2.6404958289903435,2.6404958289903435,0,1,1,-2.6404958289903435,0A2.6404958289903435,2.6404958289903435,0,1,1,2.6404958289903435,0\" style=\"fill: none; stroke: rgb(201, 222, 240); stroke-width: 2; opacity: 0.7;\"></path><path transform=\"translate(27.545454545454547,121.66666666666667)\" d=\"M2.733481313921837,0A2.733481313921837,2.733481313921837,0,1,1,-2.733481313921837,0A2.733481313921837,2.733481313921837,0,1,1,2.733481313921837,0\" style=\"fill: none; stroke: rgb(195, 219, 238); stroke-width: 2; opacity: 0.7;\"></path><path transform=\"translate(27.27272727272727,120.19999999999999)\" d=\"M2.834532859207793,0A2.834532859207793,2.834532859207793,0,1,1,-2.834532859207793,0A2.834532859207793,2.834532859207793,0,1,1,2.834532859207793,0\" style=\"fill: none; stroke: rgb(189, 216, 236); stroke-width: 2; opacity: 0.7;\"></path><path transform=\"translate(28.636363636363637,120)\" d=\"M2.9574905007282086,0A2.9574905007282086,2.9574905007282086,0,1,1,-2.9574905007282086,0A2.9574905007282086,2.9574905007282086,0,1,1,2.9574905007282086,0\" style=\"fill: none; stroke: rgb(182, 212, 233); stroke-width: 2; opacity: 0.7;\"></path><path transform=\"translate(29.545454545454547,121.8)\" d=\"M3.0723362921246875,0A3.0723362921246875,3.0723362921246875,0,1,1,-3.0723362921246875,0A3.0723362921246875,3.0723362921246875,0,1,1,3.0723362921246875,0\" style=\"fill: none; stroke: rgb(174, 209, 231); stroke-width: 2; opacity: 0.7;\"></path><path transform=\"translate(30.272727272727266,122.73333333333333)\" d=\"M3.1344611994145577,0A3.1344611994145577,3.1344611994145577,0,1,1,-3.1344611994145577,0A3.1344611994145577,3.1344611994145577,0,1,1,3.1344611994145577,0\" style=\"fill: none; stroke: rgb(166, 205, 229); stroke-width: 2; opacity: 0.7;\"></path><path transform=\"translate(31.181818181818176,122.73333333333333)\" d=\"M3.2551559791328315,0A3.2551559791328315,3.2551559791328315,0,1,1,-3.2551559791328315,0A3.2551559791328315,3.2551559791328315,0,1,1,3.2551559791328315,0\" style=\"fill: none; stroke: rgb(158, 201, 226); stroke-width: 2; opacity: 0.7;\"></path><path transform=\"translate(35.72727272727273,120.13333333333334)\" d=\"M3.3545683380157163,0A3.3545683380157163,3.3545683380157163,0,1,1,-3.3545683380157163,0A3.3545683380157163,3.3545683380157163,0,1,1,3.3545683380157163,0\" style=\"fill: none; stroke: rgb(149, 196, 224); stroke-width: 2; opacity: 0.7;\"></path><path transform=\"translate(36.36363636363637,116.46666666666667)\" d=\"M3.468177739518706,0A3.468177739518706,3.468177739518706,0,1,1,-3.468177739518706,0A3.468177739518706,3.468177739518706,0,1,1,3.468177739518706,0\" style=\"fill: none; stroke: rgb(140, 191, 221); stroke-width: 2; opacity: 0.7;\"></path><path transform=\"translate(36.27272727272727,115.53333333333333)\" d=\"M3.652190951321586,0A3.652190951321586,3.652190951321586,0,1,1,-3.652190951321586,0A3.652190951321586,3.652190951321586,0,1,1,3.652190951321586,0\" style=\"fill: none; stroke: rgb(131, 186, 219); stroke-width: 2; opacity: 0.7;\"></path><path transform=\"translate(37.81818181818182,113.4)\" d=\"M3.8834975602475352,0A3.8834975602475352,3.8834975602475352,0,1,1,-3.8834975602475352,0A3.8834975602475352,3.8834975602475352,0,1,1,3.8834975602475352,0\" style=\"fill: none; stroke: rgb(122, 181, 216); stroke-width: 2; opacity: 0.7;\"></path><path transform=\"translate(40.27272727272727,110.93333333333334)\" d=\"M4.078211556185939,0A4.078211556185939,4.078211556185939,0,1,1,-4.078211556185939,0A4.078211556185939,4.078211556185939,0,1,1,4.078211556185939,0\" style=\"fill: none; stroke: rgb(113, 176, 214); stroke-width: 2; opacity: 0.7;\"></path><path transform=\"translate(43.727272727272734,106.93333333333334)\" d=\"M4.285214122006513,0A4.285214122006513,4.285214122006513,0,1,1,-4.285214122006513,0A4.285214122006513,4.285214122006513,0,1,1,4.285214122006513,0\" style=\"fill: none; stroke: rgb(104, 171, 211); stroke-width: 2; opacity: 0.7;\"></path><path transform=\"translate(44.45454545454545,106.66666666666667)\" d=\"M4.49318845536708,0A4.49318845536708,4.49318845536708,0,1,1,-4.49318845536708,0A4.49318845536708,4.49318845536708,0,1,1,4.49318845536708,0\" style=\"fill: none; stroke: rgb(95, 166, 208); stroke-width: 2; opacity: 0.7;\"></path><path transform=\"translate(49.27272727272727,104.86666666666667)\" d=\"M4.757327674424834,0A4.757327674424834,4.757327674424834,0,1,1,-4.757327674424834,0A4.757327674424834,4.757327674424834,0,1,1,4.757327674424834,0\" style=\"fill: none; stroke: rgb(87, 160, 205); stroke-width: 2; opacity: 0.7;\"></path><path transform=\"translate(51.909090909090914,106.60000000000001)\" d=\"M5.009517343039427,0A5.009517343039427,5.009517343039427,0,1,1,-5.009517343039427,0A5.009517343039427,5.009517343039427,0,1,1,5.009517343039427,0\" style=\"fill: none; stroke: rgb(80, 154, 202); stroke-width: 2; opacity: 0.7;\"></path><path transform=\"translate(54.54545454545454,104.13333333333333)\" d=\"M5.337684510415797,0A5.337684510415797,5.337684510415797,0,1,1,-5.337684510415797,0A5.337684510415797,5.337684510415797,0,1,1,5.337684510415797,0\" style=\"fill: none; stroke: rgb(72, 148, 199); stroke-width: 2; opacity: 0.7;\"></path><path transform=\"translate(56.90909090909091,104)\" d=\"M5.6509913979445905,0A5.6509913979445905,5.6509913979445905,0,1,1,-5.6509913979445905,0A5.6509913979445905,5.6509913979445905,0,1,1,5.6509913979445905,0\" style=\"fill: none; stroke: rgb(65, 142, 196); stroke-width: 2; opacity: 0.7;\"></path><path transform=\"translate(63.90909090909091,104.06666666666666)\" d=\"M5.823135177793197,0A5.823135177793197,5.823135177793197,0,1,1,-5.823135177793197,0A5.823135177793197,5.823135177793197,0,1,1,5.823135177793197,0\" style=\"fill: none; stroke: rgb(58, 137, 193); stroke-width: 2; opacity: 0.7;\"></path><path transform=\"translate(73.36363636363636,110.86666666666667)\" d=\"M5.9279382590437635,0A5.9279382590437635,5.9279382590437635,0,1,1,-5.9279382590437635,0A5.9279382590437635,5.9279382590437635,0,1,1,5.9279382590437635,0\" style=\"fill: none; stroke: rgb(51, 131, 190); stroke-width: 2; opacity: 0.7;\"></path><path transform=\"translate(82.45454545454545,114.06666666666666)\" d=\"M6.084506526636257,0A6.084506526636257,6.084506526636257,0,1,1,-6.084506526636257,0A6.084506526636257,6.084506526636257,0,1,1,6.084506526636257,0\" style=\"fill: none; stroke: rgb(45, 125, 186); stroke-width: 2; opacity: 0.7;\"></path><path transform=\"translate(93.63636363636364,116.66666666666666)\" d=\"M6.174695072976412,0A6.174695072976412,6.174695072976412,0,1,1,-6.174695072976412,0A6.174695072976412,6.174695072976412,0,1,1,6.174695072976412,0\" style=\"fill: none; stroke: rgb(39, 118, 183); stroke-width: 2; opacity: 0.7;\"></path><path transform=\"translate(95.54545454545455,119.19999999999999)\" d=\"M6.2235678629829945,0A6.2235678629829945,6.2235678629829945,0,1,1,-6.2235678629829945,0A6.2235678629829945,6.2235678629829945,0,1,1,6.2235678629829945,0\" style=\"fill: none; stroke: rgb(33, 112, 179); stroke-width: 2; opacity: 0.7;\"></path><path transform=\"translate(107.09090909090908,122.33333333333334)\" d=\"M6.284906978176573,0A6.284906978176573,6.284906978176573,0,1,1,-6.284906978176573,0A6.284906978176573,6.284906978176573,0,1,1,6.284906978176573,0\" style=\"fill: none; stroke: rgb(28, 106, 174); stroke-width: 2; opacity: 0.7;\"></path><path transform=\"translate(109.45454545454545,126.06666666666666)\" d=\"M6.497304933307108,0A6.497304933307108,6.497304933307108,0,1,1,-6.497304933307108,0A6.497304933307108,6.497304933307108,0,1,1,6.497304933307108,0\" style=\"fill: none; stroke: rgb(23, 99, 169); stroke-width: 2; opacity: 0.7;\"></path><path transform=\"translate(118.8181818181818,130.93333333333334)\" d=\"M6.662263794146048,0A6.662263794146048,6.662263794146048,0,1,1,-6.662263794146048,0A6.662263794146048,6.662263794146048,0,1,1,6.662263794146048,0\" style=\"fill: none; stroke: rgb(18, 93, 164); stroke-width: 2; opacity: 0.7;\"></path><path transform=\"translate(130.36363636363637,132.33333333333334)\" d=\"M7.06570593774728,0A7.06570593774728,7.06570593774728,0,1,1,-7.06570593774728,0A7.06570593774728,7.06570593774728,0,1,1,7.06570593774728,0\" style=\"fill: none; stroke: rgb(16, 86, 158); stroke-width: 2; opacity: 0.7;\"></path><path transform=\"translate(136,128.53333333333333)\" d=\"M7.225809831996612,0A7.225809831996612,7.225809831996612,0,1,1,-7.225809831996612,0A7.225809831996612,7.225809831996612,0,1,1,7.225809831996612,0\" style=\"fill: none; stroke: rgb(13, 80, 151); stroke-width: 2; opacity: 0.7;\"></path><path transform=\"translate(161.9090909090909,127.66666666666666)\" d=\"M7.442858949730525,0A7.442858949730525,7.442858949730525,0,1,1,-7.442858949730525,0A7.442858949730525,7.442858949730525,0,1,1,7.442858949730525,0\" style=\"fill: none; stroke: rgb(10, 74, 144); stroke-width: 2; opacity: 0.7;\"></path><path transform=\"translate(24.27272727272727,107.73333333333332)\" d=\"M2.7107717496213355,0A2.7107717496213355,2.7107717496213355,0,1,1,-2.7107717496213355,0A2.7107717496213355,2.7107717496213355,0,1,1,2.7107717496213355,0\" style=\"fill: none; stroke: rgb(207, 225, 242); stroke-width: 2; opacity: 0.7;\"></path><path transform=\"translate(24.363636363636367,108.39999999999999)\" d=\"M2.826559184681251,0A2.826559184681251,2.826559184681251,0,1,1,-2.826559184681251,0A2.826559184681251,2.826559184681251,0,1,1,2.826559184681251,0\" style=\"fill: none; stroke: rgb(201, 222, 240); stroke-width: 2; opacity: 0.7;\"></path><path transform=\"translate(24.727272727272727,107.26666666666667)\" d=\"M2.9420350390934096,0A2.9420350390934096,2.9420350390934096,0,1,1,-2.9420350390934096,0A2.9420350390934096,2.9420350390934096,0,1,1,2.9420350390934096,0\" style=\"fill: none; stroke: rgb(195, 219, 238); stroke-width: 2; opacity: 0.7;\"></path><path transform=\"translate(26.90909090909091,109.93333333333334)\" d=\"M3.0360533892378427,0A3.0360533892378427,3.0360533892378427,0,1,1,-3.0360533892378427,0A3.0360533892378427,3.0360533892378427,0,1,1,3.0360533892378427,0\" style=\"fill: none; stroke: rgb(189, 216, 236); stroke-width: 2; opacity: 0.7;\"></path><path transform=\"translate(27.545454545454547,109.33333333333334)\" d=\"M3.093784660046286,0A3.093784660046286,3.093784660046286,0,1,1,-3.093784660046286,0A3.093784660046286,3.093784660046286,0,1,1,3.093784660046286,0\" style=\"fill: none; stroke: rgb(182, 212, 233); stroke-width: 2; opacity: 0.7;\"></path><path transform=\"translate(29.09090909090909,109.60000000000001)\" d=\"M3.197027296625202,0A3.197027296625202,3.197027296625202,0,1,1,-3.197027296625202,0A3.197027296625202,3.197027296625202,0,1,1,3.197027296625202,0\" style=\"fill: none; stroke: rgb(174, 209, 231); stroke-width: 2; opacity: 0.7;\"></path><path transform=\"translate(30.363636363636363,109.86666666666667)\" d=\"M3.3253290892691227,0A3.3253290892691227,3.3253290892691227,0,1,1,-3.3253290892691227,0A3.3253290892691227,3.3253290892691227,0,1,1,3.3253290892691227,0\" style=\"fill: none; stroke: rgb(166, 205, 229); stroke-width: 2; opacity: 0.7;\"></path><path transform=\"translate(34.54545454545455,114.33333333333333)\" d=\"M3.4842904930998775,0A3.4842904930998775,3.4842904930998775,0,1,1,-3.4842904930998775,0A3.4842904930998775,3.4842904930998775,0,1,1,3.4842904930998775,0\" style=\"fill: none; stroke: rgb(158, 201, 226); stroke-width: 2; opacity: 0.7;\"></path><path transform=\"translate(35.27272727272727,111.20000000000002)\" d=\"M3.5820934643107716,0A3.5820934643107716,3.5820934643107716,0,1,1,-3.5820934643107716,0A3.5820934643107716,3.5820934643107716,0,1,1,3.5820934643107716,0\" style=\"fill: none; stroke: rgb(149, 196, 224); stroke-width: 2; opacity: 0.7;\"></path><path transform=\"translate(37.72727272727273,109)\" d=\"M3.703806637071214,0A3.703806637071214,3.703806637071214,0,1,1,-3.703806637071214,0A3.703806637071214,3.703806637071214,0,1,1,3.703806637071214,0\" style=\"fill: none; stroke: rgb(140, 191, 221); stroke-width: 2; opacity: 0.7;\"></path><path transform=\"translate(37.27272727272727,108)\" d=\"M3.890742898148911,0A3.890742898148911,3.890742898148911,0,1,1,-3.890742898148911,0A3.890742898148911,3.890742898148911,0,1,1,3.890742898148911,0\" style=\"fill: none; stroke: rgb(131, 186, 219); stroke-width: 2; opacity: 0.7;\"></path><path transform=\"translate(37.99999999999999,105.26666666666668)\" d=\"M4.0696118153349286,0A4.0696118153349286,4.0696118153349286,0,1,1,-4.0696118153349286,0A4.0696118153349286,4.0696118153349286,0,1,1,4.0696118153349286,0\" style=\"fill: none; stroke: rgb(122, 181, 216); stroke-width: 2; opacity: 0.7;\"></path><path transform=\"translate(42.45454545454545,106.2)\" d=\"M4.192067550462057,0A4.192067550462057,4.192067550462057,0,1,1,-4.192067550462057,0A4.192067550462057,4.192067550462057,0,1,1,4.192067550462057,0\" style=\"fill: none; stroke: rgb(113, 176, 214); stroke-width: 2; opacity: 0.7;\"></path><path transform=\"translate(45.36363636363636,103.39999999999999)\" d=\"M4.434815335020827,0A4.434815335020827,4.434815335020827,0,1,1,-4.434815335020827,0A4.434815335020827,4.434815335020827,0,1,1,4.434815335020827,0\" style=\"fill: none; stroke: rgb(104, 171, 211); stroke-width: 2; opacity: 0.7;\"></path><path transform=\"translate(46.27272727272727,102.93333333333334)\" d=\"M4.612894653869432,0A4.612894653869432,4.612894653869432,0,1,1,-4.612894653869432,0A4.612894653869432,4.612894653869432,0,1,1,4.612894653869432,0\" style=\"fill: none; stroke: rgb(95, 166, 208); stroke-width: 2; opacity: 0.7;\"></path><path transform=\"translate(50,104.06666666666666)\" d=\"M4.796517534104062,0A4.796517534104062,4.796517534104062,0,1,1,-4.796517534104062,0A4.796517534104062,4.796517534104062,0,1,1,4.796517534104062,0\" style=\"fill: none; stroke: rgb(87, 160, 205); stroke-width: 2; opacity: 0.7;\"></path><path transform=\"translate(49.54545454545455,107.66666666666667)\" d=\"M5.020854890563847,0A5.020854890563847,5.020854890563847,0,1,1,-5.020854890563847,0A5.020854890563847,5.020854890563847,0,1,1,5.020854890563847,0\" style=\"fill: none; stroke: rgb(80, 154, 202); stroke-width: 2; opacity: 0.7;\"></path><path transform=\"translate(53.63636363636364,105.86666666666667)\" d=\"M5.268881021198798,0A5.268881021198798,5.268881021198798,0,1,1,-5.268881021198798,0A5.268881021198798,5.268881021198798,0,1,1,5.268881021198798,0\" style=\"fill: none; stroke: rgb(72, 148, 199); stroke-width: 2; opacity: 0.7;\"></path><path transform=\"translate(57.18181818181818,107.39999999999999)\" d=\"M5.541171711886746,0A5.541171711886746,5.541171711886746,0,1,1,-5.541171711886746,0A5.541171711886746,5.541171711886746,0,1,1,5.541171711886746,0\" style=\"fill: none; stroke: rgb(65, 142, 196); stroke-width: 2; opacity: 0.7;\"></path><path transform=\"translate(63.36363636363637,107)\" d=\"M5.712096285821551,0A5.712096285821551,5.712096285821551,0,1,1,-5.712096285821551,0A5.712096285821551,5.712096285821551,0,1,1,5.712096285821551,0\" style=\"fill: none; stroke: rgb(58, 137, 193); stroke-width: 2; opacity: 0.7;\"></path><path transform=\"translate(73.45454545454545,109.73333333333332)\" d=\"M5.920748885062515,0A5.920748885062515,5.920748885062515,0,1,1,-5.920748885062515,0A5.920748885062515,5.920748885062515,0,1,1,5.920748885062515,0\" style=\"fill: none; stroke: rgb(51, 131, 190); stroke-width: 2; opacity: 0.7;\"></path><path transform=\"translate(85.18181818181819,109.66666666666667)\" d=\"M6.207386790104399,0A6.207386790104399,6.207386790104399,0,1,1,-6.207386790104399,0A6.207386790104399,6.207386790104399,0,1,1,6.207386790104399,0\" style=\"fill: none; stroke: rgb(45, 125, 186); stroke-width: 2; opacity: 0.7;\"></path><path transform=\"translate(89.18181818181817,114.73333333333333)\" d=\"M6.409012987813506,0A6.409012987813506,6.409012987813506,0,1,1,-6.409012987813506,0A6.409012987813506,6.409012987813506,0,1,1,6.409012987813506,0\" style=\"fill: none; stroke: rgb(39, 118, 183); stroke-width: 2; opacity: 0.7;\"></path><path transform=\"translate(102.45454545454547,120.66666666666667)\" d=\"M6.602910534581146,0A6.602910534581146,6.602910534581146,0,1,1,-6.602910534581146,0A6.602910534581146,6.602910534581146,0,1,1,6.602910534581146,0\" style=\"fill: none; stroke: rgb(33, 112, 179); stroke-width: 2; opacity: 0.7;\"></path><path transform=\"translate(110.18181818181819,116.66666666666666)\" d=\"M6.867173916445117,0A6.867173916445117,6.867173916445117,0,1,1,-6.867173916445117,0A6.867173916445117,6.867173916445117,0,1,1,6.867173916445117,0\" style=\"fill: none; stroke: rgb(28, 106, 174); stroke-width: 2; opacity: 0.7;\"></path><path transform=\"translate(117.27272727272727,116.66666666666666)\" d=\"M7.149352722049991,0A7.149352722049991,7.149352722049991,0,1,1,-7.149352722049991,0A7.149352722049991,7.149352722049991,0,1,1,7.149352722049991,0\" style=\"fill: none; stroke: rgb(23, 99, 169); stroke-width: 2; opacity: 0.7;\"></path><path transform=\"translate(131.27272727272728,118.39999999999999)\" d=\"M7.428919768099754,0A7.428919768099754,7.428919768099754,0,1,1,-7.428919768099754,0A7.428919768099754,7.428919768099754,0,1,1,7.428919768099754,0\" style=\"fill: none; stroke: rgb(18, 93, 164); stroke-width: 2; opacity: 0.7;\"></path><path transform=\"translate(145.54545454545453,121.66666666666667)\" d=\"M7.653244299344692,0A7.653244299344692,7.653244299344692,0,1,1,-7.653244299344692,0A7.653244299344692,7.653244299344692,0,1,1,7.653244299344692,0\" style=\"fill: none; stroke: rgb(16, 86, 158); stroke-width: 2; opacity: 0.7;\"></path><path transform=\"translate(144.45454545454547,122.60000000000001)\" d=\"M7.683338148234313,0A7.683338148234313,7.683338148234313,0,1,1,-7.683338148234313,0A7.683338148234313,7.683338148234313,0,1,1,7.683338148234313,0\" style=\"fill: none; stroke: rgb(13, 80, 151); stroke-width: 2; opacity: 0.7;\"></path><path transform=\"translate(170.63636363636363,123.53333333333333)\" d=\"M7.984161588164847,0A7.984161588164847,7.984161588164847,0,1,1,-7.984161588164847,0A7.984161588164847,7.984161588164847,0,1,1,7.984161588164847,0\" style=\"fill: none; stroke: rgb(10, 74, 144); stroke-width: 2; opacity: 0.7;\"></path><path transform=\"translate(25.636363636363633,118.19999999999999)\" d=\"M3.0073564405321136,0A3.0073564405321136,3.0073564405321136,0,1,1,-3.0073564405321136,0A3.0073564405321136,3.0073564405321136,0,1,1,3.0073564405321136,0\" style=\"fill: none; stroke: rgb(207, 225, 242); stroke-width: 2; opacity: 0.7;\"></path><path transform=\"translate(25.90909090909091,118.53333333333333)\" d=\"M3.1166298963759274,0A3.1166298963759274,3.1166298963759274,0,1,1,-3.1166298963759274,0A3.1166298963759274,3.1166298963759274,0,1,1,3.1166298963759274,0\" style=\"fill: none; stroke: rgb(201, 222, 240); stroke-width: 2; opacity: 0.7;\"></path><path transform=\"translate(25.36363636363636,119.33333333333334)\" d=\"M3.2070600956991915,0A3.2070600956991915,3.2070600956991915,0,1,1,-3.2070600956991915,0A3.2070600956991915,3.2070600956991915,0,1,1,3.2070600956991915,0\" style=\"fill: none; stroke: rgb(195, 219, 238); stroke-width: 2; opacity: 0.7;\"></path><path transform=\"translate(25.636363636363633,119.33333333333334)\" d=\"M3.298085120715649,0A3.298085120715649,3.298085120715649,0,1,1,-3.298085120715649,0A3.298085120715649,3.298085120715649,0,1,1,3.298085120715649,0\" style=\"fill: none; stroke: rgb(189, 216, 236); stroke-width: 2; opacity: 0.7;\"></path><path transform=\"translate(26.727272727272727,118.86666666666666)\" d=\"M3.4069619885389932,0A3.4069619885389932,3.4069619885389932,0,1,1,-3.4069619885389932,0A3.4069619885389932,3.4069619885389932,0,1,1,3.4069619885389932,0\" style=\"fill: none; stroke: rgb(182, 212, 233); stroke-width: 2; opacity: 0.7;\"></path><path transform=\"translate(28.09090909090909,118.86666666666666)\" d=\"M3.5049522857159108,0A3.5049522857159108,3.5049522857159108,0,1,1,-3.5049522857159108,0A3.5049522857159108,3.5049522857159108,0,1,1,3.5049522857159108,0\" style=\"fill: none; stroke: rgb(174, 209, 231); stroke-width: 2; opacity: 0.7;\"></path><path transform=\"translate(27.90909090909091,118.46666666666667)\" d=\"M3.6383757506529553,0A3.6383757506529553,3.6383757506529553,0,1,1,-3.6383757506529553,0A3.6383757506529553,3.6383757506529553,0,1,1,3.6383757506529553,0\" style=\"fill: none; stroke: rgb(166, 205, 229); stroke-width: 2; opacity: 0.7;\"></path><path transform=\"translate(29.63636363636364,117.66666666666666)\" d=\"M3.805637330587007,0A3.805637330587007,3.805637330587007,0,1,1,-3.805637330587007,0A3.805637330587007,3.805637330587007,0,1,1,3.805637330587007,0\" style=\"fill: none; stroke: rgb(158, 201, 226); stroke-width: 2; opacity: 0.7;\"></path><path transform=\"translate(31.09090909090909,115.53333333333333)\" d=\"M3.9396868655097066,0A3.9396868655097066,3.9396868655097066,0,1,1,-3.9396868655097066,0A3.9396868655097066,3.9396868655097066,0,1,1,3.9396868655097066,0\" style=\"fill: none; stroke: rgb(149, 196, 224); stroke-width: 2; opacity: 0.7;\"></path><path transform=\"translate(31.181818181818176,111.20000000000002)\" d=\"M4.059344265773203,0A4.059344265773203,4.059344265773203,0,1,1,-4.059344265773203,0A4.059344265773203,4.059344265773203,0,1,1,4.059344265773203,0\" style=\"fill: none; stroke: rgb(140, 191, 221); stroke-width: 2; opacity: 0.7;\"></path><path transform=\"translate(32.090909090909086,108.46666666666665)\" d=\"M4.2806092611175055,0A4.2806092611175055,4.2806092611175055,0,1,1,-4.2806092611175055,0A4.2806092611175055,4.2806092611175055,0,1,1,4.2806092611175055,0\" style=\"fill: none; stroke: rgb(131, 186, 219); stroke-width: 2; opacity: 0.7;\"></path><path transform=\"translate(32.54545454545455,103.46666666666667)\" d=\"M4.454716610445782,0A4.454716610445782,4.454716610445782,0,1,1,-4.454716610445782,0A4.454716610445782,4.454716610445782,0,1,1,4.454716610445782,0\" style=\"fill: none; stroke: rgb(122, 181, 216); stroke-width: 2; opacity: 0.7;\"></path><path transform=\"translate(35.90909090909091,102.60000000000001)\" d=\"M4.656364297825957,0A4.656364297825957,4.656364297825957,0,1,1,-4.656364297825957,0A4.656364297825957,4.656364297825957,0,1,1,4.656364297825957,0\" style=\"fill: none; stroke: rgb(113, 176, 214); stroke-width: 2; opacity: 0.7;\"></path><path transform=\"translate(41.909090909090914,108.60000000000001)\" d=\"M4.856320411386183,0A4.856320411386183,4.856320411386183,0,1,1,-4.856320411386183,0A4.856320411386183,4.856320411386183,0,1,1,4.856320411386183,0\" style=\"fill: none; stroke: rgb(104, 171, 211); stroke-width: 2; opacity: 0.7;\"></path><path transform=\"translate(44.727272727272734,109.53333333333333)\" d=\"M5.016933669081417,0A5.016933669081417,5.016933669081417,0,1,1,-5.016933669081417,0A5.016933669081417,5.016933669081417,0,1,1,5.016933669081417,0\" style=\"fill: none; stroke: rgb(95, 166, 208); stroke-width: 2; opacity: 0.7;\"></path><path transform=\"translate(47.36363636363636,110.6)\" d=\"M5.301121449867871,0A5.301121449867871,5.301121449867871,0,1,1,-5.301121449867871,0A5.301121449867871,5.301121449867871,0,1,1,5.301121449867871,0\" style=\"fill: none; stroke: rgb(87, 160, 205); stroke-width: 2; opacity: 0.7;\"></path><path transform=\"translate(51.0909090909091,112.06666666666666)\" d=\"M5.565003391161204,0A5.565003391161204,5.565003391161204,0,1,1,-5.565003391161204,0A5.565003391161204,5.565003391161204,0,1,1,5.565003391161204,0\" style=\"fill: none; stroke: rgb(80, 154, 202); stroke-width: 2; opacity: 0.7;\"></path><path transform=\"translate(52.81818181818182,112.33333333333333)\" d=\"M5.8962183039622005,0A5.8962183039622005,5.8962183039622005,0,1,1,-5.8962183039622005,0A5.8962183039622005,5.8962183039622005,0,1,1,5.8962183039622005,0\" style=\"fill: none; stroke: rgb(72, 148, 199); stroke-width: 2; opacity: 0.7;\"></path><path transform=\"translate(57.09090909090909,108.60000000000001)\" d=\"M6.167851269215718,0A6.167851269215718,6.167851269215718,0,1,1,-6.167851269215718,0A6.167851269215718,6.167851269215718,0,1,1,6.167851269215718,0\" style=\"fill: none; stroke: rgb(65, 142, 196); stroke-width: 2; opacity: 0.7;\"></path><path transform=\"translate(59.45454545454546,112.46666666666665)\" d=\"M6.385920549109152,0A6.385920549109152,6.385920549109152,0,1,1,-6.385920549109152,0A6.385920549109152,6.385920549109152,0,1,1,6.385920549109152,0\" style=\"fill: none; stroke: rgb(58, 137, 193); stroke-width: 2; opacity: 0.7;\"></path><path transform=\"translate(68.0909090909091,114.53333333333335)\" d=\"M6.696247364720343,0A6.696247364720343,6.696247364720343,0,1,1,-6.696247364720343,0A6.696247364720343,6.696247364720343,0,1,1,6.696247364720343,0\" style=\"fill: none; stroke: rgb(51, 131, 190); stroke-width: 2; opacity: 0.7;\"></path><path transform=\"translate(76.54545454545455,118.33333333333333)\" d=\"M7.007879298311084,0A7.007879298311084,7.007879298311084,0,1,1,-7.007879298311084,0A7.007879298311084,7.007879298311084,0,1,1,7.007879298311084,0\" style=\"fill: none; stroke: rgb(45, 125, 186); stroke-width: 2; opacity: 0.7;\"></path><path transform=\"translate(81.9090909090909,118.73333333333332)\" d=\"M7.2650377395488155,0A7.2650377395488155,7.2650377395488155,0,1,1,-7.2650377395488155,0A7.2650377395488155,7.2650377395488155,0,1,1,7.2650377395488155,0\" style=\"fill: none; stroke: rgb(39, 118, 183); stroke-width: 2; opacity: 0.7;\"></path><path transform=\"translate(84.81818181818181,118.80000000000001)\" d=\"M7.464931722219894,0A7.464931722219894,7.464931722219894,0,1,1,-7.464931722219894,0A7.464931722219894,7.464931722219894,0,1,1,7.464931722219894,0\" style=\"fill: none; stroke: rgb(33, 112, 179); stroke-width: 2; opacity: 0.7;\"></path><path transform=\"translate(91.18181818181817,120.46666666666667)\" d=\"M7.688150141502991,0A7.688150141502991,7.688150141502991,0,1,1,-7.688150141502991,0A7.688150141502991,7.688150141502991,0,1,1,7.688150141502991,0\" style=\"fill: none; stroke: rgb(28, 106, 174); stroke-width: 2; opacity: 0.7;\"></path><path transform=\"translate(99.27272727272728,123.33333333333333)\" d=\"M8.031296453139491,0A8.031296453139491,8.031296453139491,0,1,1,-8.031296453139491,0A8.031296453139491,8.031296453139491,0,1,1,8.031296453139491,0\" style=\"fill: none; stroke: rgb(23, 99, 169); stroke-width: 2; opacity: 0.7;\"></path><path transform=\"translate(109.27272727272728,127.33333333333333)\" d=\"M8.270745361150047,0A8.270745361150047,8.270745361150047,0,1,1,-8.270745361150047,0A8.270745361150047,8.270745361150047,0,1,1,8.270745361150047,0\" style=\"fill: none; stroke: rgb(18, 93, 164); stroke-width: 2; opacity: 0.7;\"></path><path transform=\"translate(119.54545454545456,131.46666666666667)\" d=\"M8.43069785828796,0A8.43069785828796,8.43069785828796,0,1,1,-8.43069785828796,0A8.43069785828796,8.43069785828796,0,1,1,8.43069785828796,0\" style=\"fill: none; stroke: rgb(16, 86, 158); stroke-width: 2; opacity: 0.7;\"></path><path transform=\"translate(128.72727272727272,134.93333333333334)\" d=\"M8.50115413647323,0A8.50115413647323,8.50115413647323,0,1,1,-8.50115413647323,0A8.50115413647323,8.50115413647323,0,1,1,8.50115413647323,0\" style=\"fill: none; stroke: rgb(13, 80, 151); stroke-width: 2; opacity: 0.7;\"></path><path transform=\"translate(144.63636363636363,138.86666666666667)\" d=\"M8.788236333819325,0A8.788236333819325,8.788236333819325,0,1,1,-8.788236333819325,0A8.788236333819325,8.788236333819325,0,1,1,8.788236333819325,0\" style=\"fill: none; stroke: rgb(10, 74, 144); stroke-width: 2; opacity: 0.7;\"></path><path transform=\"translate(25.454545454545453,105.2)\" d=\"M3.1257812201463073,0A3.1257812201463073,3.1257812201463073,0,1,1,-3.1257812201463073,0A3.1257812201463073,3.1257812201463073,0,1,1,3.1257812201463073,0\" style=\"fill: none; stroke: rgb(207, 225, 242); stroke-width: 2; opacity: 0.7;\"></path><path transform=\"translate(25.818181818181817,107.53333333333333)\" d=\"M3.221859986578536,0A3.221859986578536,3.221859986578536,0,1,1,-3.221859986578536,0A3.221859986578536,3.221859986578536,0,1,1,3.221859986578536,0\" style=\"fill: none; stroke: rgb(201, 222, 240); stroke-width: 2; opacity: 0.7;\"></path><path transform=\"translate(25.818181818181817,109)\" d=\"M3.3107423333378043,0A3.3107423333378043,3.3107423333378043,0,1,1,-3.3107423333378043,0A3.3107423333378043,3.3107423333378043,0,1,1,3.3107423333378043,0\" style=\"fill: none; stroke: rgb(195, 219, 238); stroke-width: 2; opacity: 0.7;\"></path><path transform=\"translate(28.18181818181818,112.26666666666667)\" d=\"M3.4163052438070025,0A3.4163052438070025,3.4163052438070025,0,1,1,-3.4163052438070025,0A3.4163052438070025,3.4163052438070025,0,1,1,3.4163052438070025,0\" style=\"fill: none; stroke: rgb(189, 216, 236); stroke-width: 2; opacity: 0.7;\"></path><path transform=\"translate(30.545454545454547,113.20000000000002)\" d=\"M3.531145674645823,0A3.531145674645823,3.531145674645823,0,1,1,-3.531145674645823,0A3.531145674645823,3.531145674645823,0,1,1,3.531145674645823,0\" style=\"fill: none; stroke: rgb(182, 212, 233); stroke-width: 2; opacity: 0.7;\"></path><path transform=\"translate(31.90909090909091,114.66666666666666)\" d=\"M3.647524225682766,0A3.647524225682766,3.647524225682766,0,1,1,-3.647524225682766,0A3.647524225682766,3.647524225682766,0,1,1,3.647524225682766,0\" style=\"fill: none; stroke: rgb(174, 209, 231); stroke-width: 2; opacity: 0.7;\"></path><path transform=\"translate(31.818181818181817,113.53333333333335)\" d=\"M3.766407512979143,0A3.766407512979143,3.766407512979143,0,1,1,-3.766407512979143,0A3.766407512979143,3.766407512979143,0,1,1,3.766407512979143,0\" style=\"fill: none; stroke: rgb(166, 205, 229); stroke-width: 2; opacity: 0.7;\"></path><path transform=\"translate(36,117.13333333333334)\" d=\"M3.921266646807055,0A3.921266646807055,3.921266646807055,0,1,1,-3.921266646807055,0A3.921266646807055,3.921266646807055,0,1,1,3.921266646807055,0\" style=\"fill: none; stroke: rgb(158, 201, 226); stroke-width: 2; opacity: 0.7;\"></path><path transform=\"translate(37.27272727272727,119.06666666666666)\" d=\"M4.052753796197999,0A4.052753796197999,4.052753796197999,0,1,1,-4.052753796197999,0A4.052753796197999,4.052753796197999,0,1,1,4.052753796197999,0\" style=\"fill: none; stroke: rgb(149, 196, 224); stroke-width: 2; opacity: 0.7;\"></path><path transform=\"translate(41.81818181818181,121.39999999999999)\" d=\"M4.168599115029636,0A4.168599115029636,4.168599115029636,0,1,1,-4.168599115029636,0A4.168599115029636,4.168599115029636,0,1,1,4.168599115029636,0\" style=\"fill: none; stroke: rgb(140, 191, 221); stroke-width: 2; opacity: 0.7;\"></path><path transform=\"translate(41.81818181818181,119.19999999999999)\" d=\"M4.360583361903506,0A4.360583361903506,4.360583361903506,0,1,1,-4.360583361903506,0A4.360583361903506,4.360583361903506,0,1,1,4.360583361903506,0\" style=\"fill: none; stroke: rgb(131, 186, 219); stroke-width: 2; opacity: 0.7;\"></path><path transform=\"translate(42.09090909090909,117.13333333333334)\" d=\"M4.541246020437145,0A4.541246020437145,4.541246020437145,0,1,1,-4.541246020437145,0A4.541246020437145,4.541246020437145,0,1,1,4.541246020437145,0\" style=\"fill: none; stroke: rgb(122, 181, 216); stroke-width: 2; opacity: 0.7;\"></path><path transform=\"translate(44.90909090909091,115.93333333333334)\" d=\"M4.730469970338661,0A4.730469970338661,4.730469970338661,0,1,1,-4.730469970338661,0A4.730469970338661,4.730469970338661,0,1,1,4.730469970338661,0\" style=\"fill: none; stroke: rgb(113, 176, 214); stroke-width: 2; opacity: 0.7;\"></path><path transform=\"translate(52.18181818181819,122.06666666666666)\" d=\"M4.89067877151641,0A4.89067877151641,4.89067877151641,0,1,1,-4.89067877151641,0A4.89067877151641,4.89067877151641,0,1,1,4.89067877151641,0\" style=\"fill: none; stroke: rgb(104, 171, 211); stroke-width: 2; opacity: 0.7;\"></path><path transform=\"translate(52.090909090909086,120.73333333333332)\" d=\"M5.085385362831632,0A5.085385362831632,5.085385362831632,0,1,1,-5.085385362831632,0A5.085385362831632,5.085385362831632,0,1,1,5.085385362831632,0\" style=\"fill: none; stroke: rgb(95, 166, 208); stroke-width: 2; opacity: 0.7;\"></path><path transform=\"translate(56.18181818181818,119.66666666666667)\" d=\"M5.333949588439565,0A5.333949588439565,5.333949588439565,0,1,1,-5.333949588439565,0A5.333949588439565,5.333949588439565,0,1,1,5.333949588439565,0\" style=\"fill: none; stroke: rgb(87, 160, 205); stroke-width: 2; opacity: 0.7;\"></path><path transform=\"translate(58.63636363636363,121.2)\" d=\"M5.603582132127913,0A5.603582132127913,5.603582132127913,0,1,1,-5.603582132127913,0A5.603582132127913,5.603582132127913,0,1,1,5.603582132127913,0\" style=\"fill: none; stroke: rgb(80, 154, 202); stroke-width: 2; opacity: 0.7;\"></path><path transform=\"translate(62,119.66666666666667)\" d=\"M5.913330295214118,0A5.913330295214118,5.913330295214118,0,1,1,-5.913330295214118,0A5.913330295214118,5.913330295214118,0,1,1,5.913330295214118,0\" style=\"fill: none; stroke: rgb(72, 148, 199); stroke-width: 2; opacity: 0.7;\"></path><path transform=\"translate(64.36363636363636,117.86666666666666)\" d=\"M6.202929680769915,0A6.202929680769915,6.202929680769915,0,1,1,-6.202929680769915,0A6.202929680769915,6.202929680769915,0,1,1,6.202929680769915,0\" style=\"fill: none; stroke: rgb(65, 142, 196); stroke-width: 2; opacity: 0.7;\"></path><path transform=\"translate(71,118.46666666666667)\" d=\"M6.505655429405765,0A6.505655429405765,6.505655429405765,0,1,1,-6.505655429405765,0A6.505655429405765,6.505655429405765,0,1,1,6.505655429405765,0\" style=\"fill: none; stroke: rgb(58, 137, 193); stroke-width: 2; opacity: 0.7;\"></path><path transform=\"translate(80.63636363636364,120.13333333333334)\" d=\"M6.769347057109108,0A6.769347057109108,6.769347057109108,0,1,1,-6.769347057109108,0A6.769347057109108,6.769347057109108,0,1,1,6.769347057109108,0\" style=\"fill: none; stroke: rgb(51, 131, 190); stroke-width: 2; opacity: 0.7;\"></path><path transform=\"translate(92.18181818181819,122.66666666666667)\" d=\"M7.135843545267007,0A7.135843545267007,7.135843545267007,0,1,1,-7.135843545267007,0A7.135843545267007,7.135843545267007,0,1,1,7.135843545267007,0\" style=\"fill: none; stroke: rgb(45, 125, 186); stroke-width: 2; opacity: 0.7;\"></path><path transform=\"translate(98.45454545454545,121.86666666666667)\" d=\"M7.3628737132643085,0A7.3628737132643085,7.3628737132643085,0,1,1,-7.3628737132643085,0A7.3628737132643085,7.3628737132643085,0,1,1,7.3628737132643085,0\" style=\"fill: none; stroke: rgb(39, 118, 183); stroke-width: 2; opacity: 0.7;\"></path><path transform=\"translate(104.54545454545455,122.8)\" d=\"M7.62622963481165,0A7.62622963481165,7.62622963481165,0,1,1,-7.62622963481165,0A7.62622963481165,7.62622963481165,0,1,1,7.62622963481165,0\" style=\"fill: none; stroke: rgb(33, 112, 179); stroke-width: 2; opacity: 0.7;\"></path><path transform=\"translate(109.45454545454545,124.13333333333334)\" d=\"M7.932301348853451,0A7.932301348853451,7.932301348853451,0,1,1,-7.932301348853451,0A7.932301348853451,7.932301348853451,0,1,1,7.932301348853451,0\" style=\"fill: none; stroke: rgb(28, 106, 174); stroke-width: 2; opacity: 0.7;\"></path><path transform=\"translate(119.63636363636363,125.53333333333333)\" d=\"M8.318137165941389,0A8.318137165941389,8.318137165941389,0,1,1,-8.318137165941389,0A8.318137165941389,8.318137165941389,0,1,1,8.318137165941389,0\" style=\"fill: none; stroke: rgb(23, 99, 169); stroke-width: 2; opacity: 0.7;\"></path><path transform=\"translate(135.0909090909091,130.39999999999998)\" d=\"M8.53765324467077,0A8.53765324467077,8.53765324467077,0,1,1,-8.53765324467077,0A8.53765324467077,8.53765324467077,0,1,1,8.53765324467077,0\" style=\"fill: none; stroke: rgb(18, 93, 164); stroke-width: 2; opacity: 0.7;\"></path><path transform=\"translate(138.54545454545456,133.73333333333332)\" d=\"M8.63219116824264,0A8.63219116824264,8.63219116824264,0,1,1,-8.63219116824264,0A8.63219116824264,8.63219116824264,0,1,1,8.63219116824264,0\" style=\"fill: none; stroke: rgb(16, 86, 158); stroke-width: 2; opacity: 0.7;\"></path><path transform=\"translate(148.45454545454547,137.66666666666669)\" d=\"M8.707531692374252,0A8.707531692374252,8.707531692374252,0,1,1,-8.707531692374252,0A8.707531692374252,8.707531692374252,0,1,1,8.707531692374252,0\" style=\"fill: none; stroke: rgb(13, 80, 151); stroke-width: 2; opacity: 0.7;\"></path><path transform=\"translate(159.9090909090909,139.66666666666666)\" d=\"M9.024504840364617,0A9.024504840364617,9.024504840364617,0,1,1,-9.024504840364617,0A9.024504840364617,9.024504840364617,0,1,1,9.024504840364617,0\" style=\"fill: none; stroke: rgb(10, 74, 144); stroke-width: 2; opacity: 0.7;\"></path><path transform=\"translate(26.181818181818183,115.53333333333333)\" d=\"M2.9672215242573663,0A2.9672215242573663,2.9672215242573663,0,1,1,-2.9672215242573663,0A2.9672215242573663,2.9672215242573663,0,1,1,2.9672215242573663,0\" style=\"fill: none; stroke: rgb(207, 225, 242); stroke-width: 2; opacity: 0.7;\"></path><path transform=\"translate(26.636363636363637,116.66666666666666)\" d=\"M3.1035089398354843,0A3.1035089398354843,3.1035089398354843,0,1,1,-3.1035089398354843,0A3.1035089398354843,3.1035089398354843,0,1,1,3.1035089398354843,0\" style=\"fill: none; stroke: rgb(201, 222, 240); stroke-width: 2; opacity: 0.7;\"></path><path transform=\"translate(26.090909090909093,112.13333333333333)\" d=\"M3.2346614299079217,0A3.2346614299079217,3.2346614299079217,0,1,1,-3.2346614299079217,0A3.2346614299079217,3.2346614299079217,0,1,1,3.2346614299079217,0\" style=\"fill: none; stroke: rgb(195, 219, 238); stroke-width: 2; opacity: 0.7;\"></path><path transform=\"translate(26.545454545454543,110.33333333333334)\" d=\"M3.3362238570343,0A3.3362238570343,3.3362238570343,0,1,1,-3.3362238570343,0A3.3362238570343,3.3362238570343,0,1,1,3.3362238570343,0\" style=\"fill: none; stroke: rgb(189, 216, 236); stroke-width: 2; opacity: 0.7;\"></path><path transform=\"translate(27.27272727272727,110.39999999999999)\" d=\"M3.3717135042995663,0A3.3717135042995663,3.3717135042995663,0,1,1,-3.3717135042995663,0A3.3717135042995663,3.3717135042995663,0,1,1,3.3717135042995663,0\" style=\"fill: none; stroke: rgb(182, 212, 233); stroke-width: 2; opacity: 0.7;\"></path><path transform=\"translate(29.09090909090909,110.53333333333335)\" d=\"M3.496718091300246,0A3.496718091300246,3.496718091300246,0,1,1,-3.496718091300246,0A3.496718091300246,3.496718091300246,0,1,1,3.496718091300246,0\" style=\"fill: none; stroke: rgb(174, 209, 231); stroke-width: 2; opacity: 0.7;\"></path><path transform=\"translate(28.999999999999996,111.06666666666666)\" d=\"M3.594678163090731,0A3.594678163090731,3.594678163090731,0,1,1,-3.594678163090731,0A3.594678163090731,3.594678163090731,0,1,1,3.594678163090731,0\" style=\"fill: none; stroke: rgb(166, 205, 229); stroke-width: 2; opacity: 0.7;\"></path><path transform=\"translate(30.63636363636364,114.26666666666667)\" d=\"M3.65497047129091,0A3.65497047129091,3.65497047129091,0,1,1,-3.65497047129091,0A3.65497047129091,3.65497047129091,0,1,1,3.65497047129091,0\" style=\"fill: none; stroke: rgb(158, 201, 226); stroke-width: 2; opacity: 0.7;\"></path><path transform=\"translate(35.63636363636364,115.93333333333334)\" d=\"M3.8097239859064396,0A3.8097239859064396,3.8097239859064396,0,1,1,-3.8097239859064396,0A3.8097239859064396,3.8097239859064396,0,1,1,3.8097239859064396,0\" style=\"fill: none; stroke: rgb(149, 196, 224); stroke-width: 2; opacity: 0.7;\"></path><path transform=\"translate(36.36363636363637,112.4)\" d=\"M3.959417870609355,0A3.959417870609355,3.959417870609355,0,1,1,-3.959417870609355,0A3.959417870609355,3.959417870609355,0,1,1,3.959417870609355,0\" style=\"fill: none; stroke: rgb(140, 191, 221); stroke-width: 2; opacity: 0.7;\"></path><path transform=\"translate(36.54545454545455,110.86666666666667)\" d=\"M4.193493910910208,0A4.193493910910208,4.193493910910208,0,1,1,-4.193493910910208,0A4.193493910910208,4.193493910910208,0,1,1,4.193493910910208,0\" style=\"fill: none; stroke: rgb(131, 186, 219); stroke-width: 2; opacity: 0.7;\"></path><path transform=\"translate(37.36363636363637,107.46666666666665)\" d=\"M4.338494527852564,0A4.338494527852564,4.338494527852564,0,1,1,-4.338494527852564,0A4.338494527852564,4.338494527852564,0,1,1,4.338494527852564,0\" style=\"fill: none; stroke: rgb(122, 181, 216); stroke-width: 2; opacity: 0.7;\"></path><path transform=\"translate(40.36363636363636,108.8)\" d=\"M4.4844635075376225,0A4.4844635075376225,4.4844635075376225,0,1,1,-4.4844635075376225,0A4.4844635075376225,4.4844635075376225,0,1,1,4.4844635075376225,0\" style=\"fill: none; stroke: rgb(113, 176, 214); stroke-width: 2; opacity: 0.7;\"></path><path transform=\"translate(43.54545454545454,108)\" d=\"M4.716064666960485,0A4.716064666960485,4.716064666960485,0,1,1,-4.716064666960485,0A4.716064666960485,4.716064666960485,0,1,1,4.716064666960485,0\" style=\"fill: none; stroke: rgb(104, 171, 211); stroke-width: 2; opacity: 0.7;\"></path><path transform=\"translate(43.90909090909091,106.46666666666665)\" d=\"M4.974220717433884,0A4.974220717433884,4.974220717433884,0,1,1,-4.974220717433884,0A4.974220717433884,4.974220717433884,0,1,1,4.974220717433884,0\" style=\"fill: none; stroke: rgb(95, 166, 208); stroke-width: 2; opacity: 0.7;\"></path><path transform=\"translate(49.09090909090909,105.46666666666667)\" d=\"M5.249074945147568,0A5.249074945147568,5.249074945147568,0,1,1,-5.249074945147568,0A5.249074945147568,5.249074945147568,0,1,1,5.249074945147568,0\" style=\"fill: none; stroke: rgb(87, 160, 205); stroke-width: 2; opacity: 0.7;\"></path><path transform=\"translate(52,106.06666666666666)\" d=\"M5.499602165558052,0A5.499602165558052,5.499602165558052,0,1,1,-5.499602165558052,0A5.499602165558052,5.499602165558052,0,1,1,5.499602165558052,0\" style=\"fill: none; stroke: rgb(80, 154, 202); stroke-width: 2; opacity: 0.7;\"></path><path transform=\"translate(54.81818181818181,106.2)\" d=\"M5.707838062889218,0A5.707838062889218,5.707838062889218,0,1,1,-5.707838062889218,0A5.707838062889218,5.707838062889218,0,1,1,5.707838062889218,0\" style=\"fill: none; stroke: rgb(72, 148, 199); stroke-width: 2; opacity: 0.7;\"></path><path transform=\"translate(56.18181818181818,107)\" d=\"M5.934443048481778,0A5.934443048481778,5.934443048481778,0,1,1,-5.934443048481778,0A5.934443048481778,5.934443048481778,0,1,1,5.934443048481778,0\" style=\"fill: none; stroke: rgb(65, 142, 196); stroke-width: 2; opacity: 0.7;\"></path><path transform=\"translate(61.81818181818181,108.46666666666665)\" d=\"M6.043269241277242,0A6.043269241277242,6.043269241277242,0,1,1,-6.043269241277242,0A6.043269241277242,6.043269241277242,0,1,1,6.043269241277242,0\" style=\"fill: none; stroke: rgb(58, 137, 193); stroke-width: 2; opacity: 0.7;\"></path><path transform=\"translate(79.72727272727272,114.46666666666665)\" d=\"M6.254932303154634,0A6.254932303154634,6.254932303154634,0,1,1,-6.254932303154634,0A6.254932303154634,6.254932303154634,0,1,1,6.254932303154634,0\" style=\"fill: none; stroke: rgb(51, 131, 190); stroke-width: 2; opacity: 0.7;\"></path><path transform=\"translate(88.18181818181819,114.53333333333335)\" d=\"M6.571076248269901,0A6.571076248269901,6.571076248269901,0,1,1,-6.571076248269901,0A6.571076248269901,6.571076248269901,0,1,1,6.571076248269901,0\" style=\"fill: none; stroke: rgb(45, 125, 186); stroke-width: 2; opacity: 0.7;\"></path><path transform=\"translate(92.18181818181819,115.60000000000001)\" d=\"M6.782379160445751,0A6.782379160445751,6.782379160445751,0,1,1,-6.782379160445751,0A6.782379160445751,6.782379160445751,0,1,1,6.782379160445751,0\" style=\"fill: none; stroke: rgb(39, 118, 183); stroke-width: 2; opacity: 0.7;\"></path><path transform=\"translate(96.36363636363636,115.66666666666666)\" d=\"M6.9925990629759545,0A6.9925990629759545,6.9925990629759545,0,1,1,-6.9925990629759545,0A6.9925990629759545,6.9925990629759545,0,1,1,6.9925990629759545,0\" style=\"fill: none; stroke: rgb(33, 112, 179); stroke-width: 2; opacity: 0.7;\"></path><path transform=\"translate(101.27272727272727,118.60000000000001)\" d=\"M7.148527485495646,0A7.148527485495646,7.148527485495646,0,1,1,-7.148527485495646,0A7.148527485495646,7.148527485495646,0,1,1,7.148527485495646,0\" style=\"fill: none; stroke: rgb(28, 106, 174); stroke-width: 2; opacity: 0.7;\"></path><path transform=\"translate(111.09090909090908,119.26666666666667)\" d=\"M7.3885332974018825,0A7.3885332974018825,7.3885332974018825,0,1,1,-7.3885332974018825,0A7.3885332974018825,7.3885332974018825,0,1,1,7.3885332974018825,0\" style=\"fill: none; stroke: rgb(23, 99, 169); stroke-width: 2; opacity: 0.7;\"></path><path transform=\"translate(120.9090909090909,122.26666666666667)\" d=\"M7.597333652931159,0A7.597333652931159,7.597333652931159,0,1,1,-7.597333652931159,0A7.597333652931159,7.597333652931159,0,1,1,7.597333652931159,0\" style=\"fill: none; stroke: rgb(18, 93, 164); stroke-width: 2; opacity: 0.7;\"></path><path transform=\"translate(130.81818181818184,123.73333333333333)\" d=\"M7.801299611918117,0A7.801299611918117,7.801299611918117,0,1,1,-7.801299611918117,0A7.801299611918117,7.801299611918117,0,1,1,7.801299611918117,0\" style=\"fill: none; stroke: rgb(16, 86, 158); stroke-width: 2; opacity: 0.7;\"></path><path transform=\"translate(131.72727272727275,126.46666666666667)\" d=\"M7.895489719411659,0A7.895489719411659,7.895489719411659,0,1,1,-7.895489719411659,0A7.895489719411659,7.895489719411659,0,1,1,7.895489719411659,0\" style=\"fill: none; stroke: rgb(13, 80, 151); stroke-width: 2; opacity: 0.7;\"></path><path transform=\"translate(160.63636363636363,128.26666666666668)\" d=\"M8.191149717323016,0A8.191149717323016,8.191149717323016,0,1,1,-8.191149717323016,0A8.191149717323016,8.191149717323016,0,1,1,8.191149717323016,0\" style=\"fill: none; stroke: rgb(10, 74, 144); stroke-width: 2; opacity: 0.7;\"></path><path transform=\"translate(26.090909090909093,124.93333333333334)\" d=\"M2.843536167597287,0A2.843536167597287,2.843536167597287,0,1,1,-2.843536167597287,0A2.843536167597287,2.843536167597287,0,1,1,2.843536167597287,0\" style=\"fill: none; stroke: rgb(207, 225, 242); stroke-width: 2; opacity: 0.7;\"></path><path transform=\"translate(27.363636363636363,130.2)\" d=\"M2.9046652596775613,0A2.9046652596775613,2.9046652596775613,0,1,1,-2.9046652596775613,0A2.9046652596775613,2.9046652596775613,0,1,1,2.9046652596775613,0\" style=\"fill: none; stroke: rgb(201, 222, 240); stroke-width: 2; opacity: 0.7;\"></path><path transform=\"translate(27.454545454545453,127.2)\" d=\"M3.0386751875095404,0A3.0386751875095404,3.0386751875095404,0,1,1,-3.0386751875095404,0A3.0386751875095404,3.0386751875095404,0,1,1,3.0386751875095404,0\" style=\"fill: none; stroke: rgb(195, 219, 238); stroke-width: 2; opacity: 0.7;\"></path><path transform=\"translate(27.545454545454547,126.2)\" d=\"M3.144130458159082,0A3.144130458159082,3.144130458159082,0,1,1,-3.144130458159082,0A3.144130458159082,3.144130458159082,0,1,1,3.144130458159082,0\" style=\"fill: none; stroke: rgb(189, 216, 236); stroke-width: 2; opacity: 0.7;\"></path><path transform=\"translate(28.09090909090909,123.73333333333333)\" d=\"M3.231092628888784,0A3.231092628888784,3.231092628888784,0,1,1,-3.231092628888784,0A3.231092628888784,3.231092628888784,0,1,1,3.231092628888784,0\" style=\"fill: none; stroke: rgb(182, 212, 233); stroke-width: 2; opacity: 0.7;\"></path><path transform=\"translate(29.72727272727273,124.2)\" d=\"M3.3544065336847924,0A3.3544065336847924,3.3544065336847924,0,1,1,-3.3544065336847924,0A3.3544065336847924,3.3544065336847924,0,1,1,3.3544065336847924,0\" style=\"fill: none; stroke: rgb(174, 209, 231); stroke-width: 2; opacity: 0.7;\"></path><path transform=\"translate(29.818181818181817,125.13333333333333)\" d=\"M3.466031099693829,0A3.466031099693829,3.466031099693829,0,1,1,-3.466031099693829,0A3.466031099693829,3.466031099693829,0,1,1,3.466031099693829,0\" style=\"fill: none; stroke: rgb(166, 205, 229); stroke-width: 2; opacity: 0.7;\"></path><path transform=\"translate(35.54545454545455,130.46666666666667)\" d=\"M3.6100388299138175,0A3.6100388299138175,3.6100388299138175,0,1,1,-3.6100388299138175,0A3.6100388299138175,3.6100388299138175,0,1,1,3.6100388299138175,0\" style=\"fill: none; stroke: rgb(158, 201, 226); stroke-width: 2; opacity: 0.7;\"></path><path transform=\"translate(36.45454545454545,122.39999999999999)\" d=\"M3.712936876398982,0A3.712936876398982,3.712936876398982,0,1,1,-3.712936876398982,0A3.712936876398982,3.712936876398982,0,1,1,3.712936876398982,0\" style=\"fill: none; stroke: rgb(149, 196, 224); stroke-width: 2; opacity: 0.7;\"></path><path transform=\"translate(41.09090909090909,135.46666666666667)\" d=\"M3.833482759722928,0A3.833482759722928,3.833482759722928,0,1,1,-3.833482759722928,0A3.833482759722928,3.833482759722928,0,1,1,3.833482759722928,0\" style=\"fill: none; stroke: rgb(140, 191, 221); stroke-width: 2; opacity: 0.7;\"></path><path transform=\"translate(41.45454545454545,128.8)\" d=\"M4.202251113593086,0A4.202251113593086,4.202251113593086,0,1,1,-4.202251113593086,0A4.202251113593086,4.202251113593086,0,1,1,4.202251113593086,0\" style=\"fill: none; stroke: rgb(131, 186, 219); stroke-width: 2; opacity: 0.7;\"></path><path transform=\"translate(42.72727272727273,126.26666666666667)\" d=\"M4.262213824102419,0A4.262213824102419,4.262213824102419,0,1,1,-4.262213824102419,0A4.262213824102419,4.262213824102419,0,1,1,4.262213824102419,0\" style=\"fill: none; stroke: rgb(122, 181, 216); stroke-width: 2; opacity: 0.7;\"></path><path transform=\"translate(44.90909090909091,125.66666666666667)\" d=\"M4.405896258984386,0A4.405896258984386,4.405896258984386,0,1,1,-4.405896258984386,0A4.405896258984386,4.405896258984386,0,1,1,4.405896258984386,0\" style=\"fill: none; stroke: rgb(113, 176, 214); stroke-width: 2; opacity: 0.7;\"></path><path transform=\"translate(47.36363636363636,122.2)\" d=\"M4.558333982963095,0A4.558333982963095,4.558333982963095,0,1,1,-4.558333982963095,0A4.558333982963095,4.558333982963095,0,1,1,4.558333982963095,0\" style=\"fill: none; stroke: rgb(104, 171, 211); stroke-width: 2; opacity: 0.7;\"></path><path transform=\"translate(48.27272727272727,121.86666666666667)\" d=\"M4.854486778812533,0A4.854486778812533,4.854486778812533,0,1,1,-4.854486778812533,0A4.854486778812533,4.854486778812533,0,1,1,4.854486778812533,0\" style=\"fill: none; stroke: rgb(95, 166, 208); stroke-width: 2; opacity: 0.7;\"></path><path transform=\"translate(52.63636363636364,120.73333333333332)\" d=\"M5.107277351799344,0A5.107277351799344,5.107277351799344,0,1,1,-5.107277351799344,0A5.107277351799344,5.107277351799344,0,1,1,5.107277351799344,0\" style=\"fill: none; stroke: rgb(87, 160, 205); stroke-width: 2; opacity: 0.7;\"></path><path transform=\"translate(55.36363636363636,121.13333333333334)\" d=\"M5.37216924425984,0A5.37216924425984,5.37216924425984,0,1,1,-5.37216924425984,0A5.37216924425984,5.37216924425984,0,1,1,5.37216924425984,0\" style=\"fill: none; stroke: rgb(80, 154, 202); stroke-width: 2; opacity: 0.7;\"></path><path transform=\"translate(57.27272727272727,121.53333333333333)\" d=\"M5.612787043202226,0A5.612787043202226,5.612787043202226,0,1,1,-5.612787043202226,0A5.612787043202226,5.612787043202226,0,1,1,5.612787043202226,0\" style=\"fill: none; stroke: rgb(72, 148, 199); stroke-width: 2; opacity: 0.7;\"></path><path transform=\"translate(59.81818181818181,119.46666666666667)\" d=\"M5.8986998219915145,0A5.8986998219915145,5.8986998219915145,0,1,1,-5.8986998219915145,0A5.8986998219915145,5.8986998219915145,0,1,1,5.8986998219915145,0\" style=\"fill: none; stroke: rgb(65, 142, 196); stroke-width: 2; opacity: 0.7;\"></path><path transform=\"translate(65.18181818181819,120.39999999999999)\" d=\"M6.056113209188925,0A6.056113209188925,6.056113209188925,0,1,1,-6.056113209188925,0A6.056113209188925,6.056113209188925,0,1,1,6.056113209188925,0\" style=\"fill: none; stroke: rgb(58, 137, 193); stroke-width: 2; opacity: 0.7;\"></path><path transform=\"translate(79.36363636363636,124.53333333333333)\" d=\"M6.217705788067076,0A6.217705788067076,6.217705788067076,0,1,1,-6.217705788067076,0A6.217705788067076,6.217705788067076,0,1,1,6.217705788067076,0\" style=\"fill: none; stroke: rgb(51, 131, 190); stroke-width: 2; opacity: 0.7;\"></path><path transform=\"translate(90.18181818181819,126.13333333333333)\" d=\"M6.59080154559469,0A6.59080154559469,6.59080154559469,0,1,1,-6.59080154559469,0A6.59080154559469,6.59080154559469,0,1,1,6.59080154559469,0\" style=\"fill: none; stroke: rgb(45, 125, 186); stroke-width: 2; opacity: 0.7;\"></path><path transform=\"translate(92.27272727272727,124.66666666666667)\" d=\"M6.75809847208158,0A6.75809847208158,6.75809847208158,0,1,1,-6.75809847208158,0A6.75809847208158,6.75809847208158,0,1,1,6.75809847208158,0\" style=\"fill: none; stroke: rgb(39, 118, 183); stroke-width: 2; opacity: 0.7;\"></path><path transform=\"translate(105.72727272727272,130.46666666666667)\" d=\"M6.966333656473063,0A6.966333656473063,6.966333656473063,0,1,1,-6.966333656473063,0A6.966333656473063,6.966333656473063,0,1,1,6.966333656473063,0\" style=\"fill: none; stroke: rgb(33, 112, 179); stroke-width: 2; opacity: 0.7;\"></path><path transform=\"translate(109.18181818181819,127.46666666666667)\" d=\"M7.120158870441652,0A7.120158870441652,7.120158870441652,0,1,1,-7.120158870441652,0A7.120158870441652,7.120158870441652,0,1,1,7.120158870441652,0\" style=\"fill: none; stroke: rgb(28, 106, 174); stroke-width: 2; opacity: 0.7;\"></path><path transform=\"translate(128.8181818181818,137.26666666666668)\" d=\"M7.3428650451415995,0A7.3428650451415995,7.3428650451415995,0,1,1,-7.3428650451415995,0A7.3428650451415995,7.3428650451415995,0,1,1,7.3428650451415995,0\" style=\"fill: none; stroke: rgb(23, 99, 169); stroke-width: 2; opacity: 0.7;\"></path><path transform=\"translate(138.63636363636365,138.46666666666667)\" d=\"M7.600936602598172,0A7.600936602598172,7.600936602598172,0,1,1,-7.600936602598172,0A7.600936602598172,7.600936602598172,0,1,1,7.600936602598172,0\" style=\"fill: none; stroke: rgb(18, 93, 164); stroke-width: 2; opacity: 0.7;\"></path><path transform=\"translate(147.54545454545456,139.53333333333333)\" d=\"M7.799544623472294,0A7.799544623472294,7.799544623472294,0,1,1,-7.799544623472294,0A7.799544623472294,7.799544623472294,0,1,1,7.799544623472294,0\" style=\"fill: none; stroke: rgb(16, 86, 158); stroke-width: 2; opacity: 0.7;\"></path><path transform=\"translate(158.0909090909091,142.53333333333333)\" d=\"M7.878380304626183,0A7.878380304626183,7.878380304626183,0,1,1,-7.878380304626183,0A7.878380304626183,7.878380304626183,0,1,1,7.878380304626183,0\" style=\"fill: none; stroke: rgb(13, 80, 151); stroke-width: 2; opacity: 0.7;\"></path><path transform=\"translate(179.72727272727272,144.13333333333333)\" d=\"M8.215228414183036,0A8.215228414183036,8.215228414183036,0,1,1,-8.215228414183036,0A8.215228414183036,8.215228414183036,0,1,1,8.215228414183036,0\" style=\"fill: none; stroke: rgb(10, 74, 144); stroke-width: 2; opacity: 0.7;\"></path><path transform=\"translate(27.727272727272727,144.06666666666666)\" d=\"M2.274426902559418,0A2.274426902559418,2.274426902559418,0,1,1,-2.274426902559418,0A2.274426902559418,2.274426902559418,0,1,1,2.274426902559418,0\" style=\"fill: none; stroke: rgb(207, 225, 242); stroke-width: 2; opacity: 0.7;\"></path><path transform=\"translate(27.636363636363637,142.6)\" d=\"M2.3261153933555776,0A2.3261153933555776,2.3261153933555776,0,1,1,-2.3261153933555776,0A2.3261153933555776,2.3261153933555776,0,1,1,2.3261153933555776,0\" style=\"fill: none; stroke: rgb(201, 222, 240); stroke-width: 2; opacity: 0.7;\"></path><path transform=\"translate(28.545454545454547,144.33333333333334)\" d=\"M2.4197555161565414,0A2.4197555161565414,2.4197555161565414,0,1,1,-2.4197555161565414,0A2.4197555161565414,2.4197555161565414,0,1,1,2.4197555161565414,0\" style=\"fill: none; stroke: rgb(195, 219, 238); stroke-width: 2; opacity: 0.7;\"></path><path transform=\"translate(28.909090909090914,142.06666666666666)\" d=\"M2.5145596779238875,0A2.5145596779238875,2.5145596779238875,0,1,1,-2.5145596779238875,0A2.5145596779238875,2.5145596779238875,0,1,1,2.5145596779238875,0\" style=\"fill: none; stroke: rgb(189, 216, 236); stroke-width: 2; opacity: 0.7;\"></path><path transform=\"translate(28.72727272727273,141.26666666666668)\" d=\"M2.6238069122867493,0A2.6238069122867493,2.6238069122867493,0,1,1,-2.6238069122867493,0A2.6238069122867493,2.6238069122867493,0,1,1,2.6238069122867493,0\" style=\"fill: none; stroke: rgb(182, 212, 233); stroke-width: 2; opacity: 0.7;\"></path><path transform=\"translate(30.818181818181817,140.66666666666666)\" d=\"M2.7400889645892654,0A2.7400889645892654,2.7400889645892654,0,1,1,-2.7400889645892654,0A2.7400889645892654,2.7400889645892654,0,1,1,2.7400889645892654,0\" style=\"fill: none; stroke: rgb(174, 209, 231); stroke-width: 2; opacity: 0.7;\"></path><path transform=\"translate(31.636363636363633,139.33333333333331)\" d=\"M2.8447898962317444,0A2.8447898962317444,2.8447898962317444,0,1,1,-2.8447898962317444,0A2.8447898962317444,2.8447898962317444,0,1,1,2.8447898962317444,0\" style=\"fill: none; stroke: rgb(166, 205, 229); stroke-width: 2; opacity: 0.7;\"></path><path transform=\"translate(32.90909090909091,137.73333333333332)\" d=\"M2.9622674722207876,0A2.9622674722207876,2.9622674722207876,0,1,1,-2.9622674722207876,0A2.9622674722207876,2.9622674722207876,0,1,1,2.9622674722207876,0\" style=\"fill: none; stroke: rgb(158, 201, 226); stroke-width: 2; opacity: 0.7;\"></path><path transform=\"translate(34.090909090909086,129.73333333333335)\" d=\"M3.0904346495458657,0A3.0904346495458657,3.0904346495458657,0,1,1,-3.0904346495458657,0A3.0904346495458657,3.0904346495458657,0,1,1,3.0904346495458657,0\" style=\"fill: none; stroke: rgb(149, 196, 224); stroke-width: 2; opacity: 0.7;\"></path><path transform=\"translate(34,125.26666666666667)\" d=\"M3.2382670604591945,0A3.2382670604591945,3.2382670604591945,0,1,1,-3.2382670604591945,0A3.2382670604591945,3.2382670604591945,0,1,1,3.2382670604591945,0\" style=\"fill: none; stroke: rgb(140, 191, 221); stroke-width: 2; opacity: 0.7;\"></path><path transform=\"translate(33.90909090909091,123.33333333333333)\" d=\"M3.449847712962001,0A3.449847712962001,3.449847712962001,0,1,1,-3.449847712962001,0A3.449847712962001,3.449847712962001,0,1,1,3.449847712962001,0\" style=\"fill: none; stroke: rgb(131, 186, 219); stroke-width: 2; opacity: 0.7;\"></path><path transform=\"translate(37.63636363636363,121.93333333333334)\" d=\"M3.5942871834439782,0A3.5942871834439782,3.5942871834439782,0,1,1,-3.5942871834439782,0A3.5942871834439782,3.5942871834439782,0,1,1,3.5942871834439782,0\" style=\"fill: none; stroke: rgb(122, 181, 216); stroke-width: 2; opacity: 0.7;\"></path><path transform=\"translate(39.09090909090909,122.13333333333334)\" d=\"M3.715872471841472,0A3.715872471841472,3.715872471841472,0,1,1,-3.715872471841472,0A3.715872471841472,3.715872471841472,0,1,1,3.715872471841472,0\" style=\"fill: none; stroke: rgb(113, 176, 214); stroke-width: 2; opacity: 0.7;\"></path><path transform=\"translate(42.18181818181818,119.39999999999999)\" d=\"M3.8946383649005303,0A3.8946383649005303,3.8946383649005303,0,1,1,-3.8946383649005303,0A3.8946383649005303,3.8946383649005303,0,1,1,3.8946383649005303,0\" style=\"fill: none; stroke: rgb(104, 171, 211); stroke-width: 2; opacity: 0.7;\"></path><path transform=\"translate(44.36363636363636,118.60000000000001)\" d=\"M4.121735655622717,0A4.121735655622717,4.121735655622717,0,1,1,-4.121735655622717,0A4.121735655622717,4.121735655622717,0,1,1,4.121735655622717,0\" style=\"fill: none; stroke: rgb(95, 166, 208); stroke-width: 2; opacity: 0.7;\"></path><path transform=\"translate(48.727272727272734,116.73333333333333)\" d=\"M4.320748031490057,0A4.320748031490057,4.320748031490057,0,1,1,-4.320748031490057,0A4.320748031490057,4.320748031490057,0,1,1,4.320748031490057,0\" style=\"fill: none; stroke: rgb(87, 160, 205); stroke-width: 2; opacity: 0.7;\"></path><path transform=\"translate(51.36363636363637,117.39999999999999)\" d=\"M4.53469157670323,0A4.53469157670323,4.53469157670323,0,1,1,-4.53469157670323,0A4.53469157670323,4.53469157670323,0,1,1,4.53469157670323,0\" style=\"fill: none; stroke: rgb(80, 154, 202); stroke-width: 2; opacity: 0.7;\"></path><path transform=\"translate(54.27272727272727,115.33333333333333)\" d=\"M4.711762446365421,0A4.711762446365421,4.711762446365421,0,1,1,-4.711762446365421,0A4.711762446365421,4.711762446365421,0,1,1,4.711762446365421,0\" style=\"fill: none; stroke: rgb(72, 148, 199); stroke-width: 2; opacity: 0.7;\"></path><path transform=\"translate(57.27272727272727,116.46666666666667)\" d=\"M4.964758329861756,0A4.964758329861756,4.964758329861756,0,1,1,-4.964758329861756,0A4.964758329861756,4.964758329861756,0,1,1,4.964758329861756,0\" style=\"fill: none; stroke: rgb(65, 142, 196); stroke-width: 2; opacity: 0.7;\"></path><path transform=\"translate(62.909090909090914,116.13333333333333)\" d=\"M5.166384041395055,0A5.166384041395055,5.166384041395055,0,1,1,-5.166384041395055,0A5.166384041395055,5.166384041395055,0,1,1,5.166384041395055,0\" style=\"fill: none; stroke: rgb(58, 137, 193); stroke-width: 2; opacity: 0.7;\"></path><path transform=\"translate(71.45454545454545,118.46666666666667)\" d=\"M5.276506107448011,0A5.276506107448011,5.276506107448011,0,1,1,-5.276506107448011,0A5.276506107448011,5.276506107448011,0,1,1,5.276506107448011,0\" style=\"fill: none; stroke: rgb(51, 131, 190); stroke-width: 2; opacity: 0.7;\"></path><path transform=\"translate(80.9090909090909,122.39999999999999)\" d=\"M5.473416009542514,0A5.473416009542514,5.473416009542514,0,1,1,-5.473416009542514,0A5.473416009542514,5.473416009542514,0,1,1,5.473416009542514,0\" style=\"fill: none; stroke: rgb(45, 125, 186); stroke-width: 2; opacity: 0.7;\"></path><path transform=\"translate(87.63636363636364,123.13333333333334)\" d=\"M5.582718840695346,0A5.582718840695346,5.582718840695346,0,1,1,-5.582718840695346,0A5.582718840695346,5.582718840695346,0,1,1,5.582718840695346,0\" style=\"fill: none; stroke: rgb(39, 118, 183); stroke-width: 2; opacity: 0.7;\"></path><path transform=\"translate(96.36363636363636,124.53333333333333)\" d=\"M5.728841107112309,0A5.728841107112309,5.728841107112309,0,1,1,-5.728841107112309,0A5.728841107112309,5.728841107112309,0,1,1,5.728841107112309,0\" style=\"fill: none; stroke: rgb(33, 112, 179); stroke-width: 2; opacity: 0.7;\"></path><path transform=\"translate(105.27272727272728,126.66666666666667)\" d=\"M5.875973717455948,0A5.875973717455948,5.875973717455948,0,1,1,-5.875973717455948,0A5.875973717455948,5.875973717455948,0,1,1,5.875973717455948,0\" style=\"fill: none; stroke: rgb(28, 106, 174); stroke-width: 2; opacity: 0.7;\"></path><path transform=\"translate(111.45454545454545,127.33333333333333)\" d=\"M6.114924613194331,0A6.114924613194331,6.114924613194331,0,1,1,-6.114924613194331,0A6.114924613194331,6.114924613194331,0,1,1,6.114924613194331,0\" style=\"fill: none; stroke: rgb(23, 99, 169); stroke-width: 2; opacity: 0.7;\"></path><path transform=\"translate(114.36363636363636,127.8)\" d=\"M6.285876487608885,0A6.285876487608885,6.285876487608885,0,1,1,-6.285876487608885,0A6.285876487608885,6.285876487608885,0,1,1,6.285876487608885,0\" style=\"fill: none; stroke: rgb(18, 93, 164); stroke-width: 2; opacity: 0.7;\"></path><path transform=\"translate(127.1818181818182,132.13333333333333)\" d=\"M6.575395669076193,0A6.575395669076193,6.575395669076193,0,1,1,-6.575395669076193,0A6.575395669076193,6.575395669076193,0,1,1,6.575395669076193,0\" style=\"fill: none; stroke: rgb(16, 86, 158); stroke-width: 2; opacity: 0.7;\"></path><path transform=\"translate(129.72727272727272,129.60000000000002)\" d=\"M6.714893747564827,0A6.714893747564827,6.714893747564827,0,1,1,-6.714893747564827,0A6.714893747564827,6.714893747564827,0,1,1,6.714893747564827,0\" style=\"fill: none; stroke: rgb(13, 80, 151); stroke-width: 2; opacity: 0.7;\"></path><path transform=\"translate(146.1818181818182,130.73333333333335)\" d=\"M7.132372814193629,0A7.132372814193629,7.132372814193629,0,1,1,-7.132372814193629,0A7.132372814193629,7.132372814193629,0,1,1,7.132372814193629,0\" style=\"fill: none; stroke: rgb(10, 74, 144); stroke-width: 2; opacity: 0.7;\"></path><path transform=\"translate(23.454545454545457,111.20000000000002)\" d=\"M2.920087421971229,0A2.920087421971229,2.920087421971229,0,1,1,-2.920087421971229,0A2.920087421971229,2.920087421971229,0,1,1,2.920087421971229,0\" style=\"fill: none; stroke: rgb(207, 225, 242); stroke-width: 2; opacity: 0.7;\"></path><path transform=\"translate(23.363636363636363,113.33333333333333)\" d=\"M3.0078816249748095,0A3.0078816249748095,3.0078816249748095,0,1,1,-3.0078816249748095,0A3.0078816249748095,3.0078816249748095,0,1,1,3.0078816249748095,0\" style=\"fill: none; stroke: rgb(201, 222, 240); stroke-width: 2; opacity: 0.7;\"></path><path transform=\"translate(23.727272727272727,113.20000000000002)\" d=\"M3.118654733723584,0A3.118654733723584,3.118654733723584,0,1,1,-3.118654733723584,0A3.118654733723584,3.118654733723584,0,1,1,3.118654733723584,0\" style=\"fill: none; stroke: rgb(195, 219, 238); stroke-width: 2; opacity: 0.7;\"></path><path transform=\"translate(23.81818181818182,107.13333333333333)\" d=\"M3.2036077769187465,0A3.2036077769187465,3.2036077769187465,0,1,1,-3.2036077769187465,0A3.2036077769187465,3.2036077769187465,0,1,1,3.2036077769187465,0\" style=\"fill: none; stroke: rgb(189, 216, 236); stroke-width: 2; opacity: 0.7;\"></path><path transform=\"translate(25,107.8)\" d=\"M3.2933261399973084,0A3.2933261399973084,3.2933261399973084,0,1,1,-3.2933261399973084,0A3.2933261399973084,3.2933261399973084,0,1,1,3.2933261399973084,0\" style=\"fill: none; stroke: rgb(182, 212, 233); stroke-width: 2; opacity: 0.7;\"></path><path transform=\"translate(26.545454545454543,108.46666666666665)\" d=\"M3.436243969773187,0A3.436243969773187,3.436243969773187,0,1,1,-3.436243969773187,0A3.436243969773187,3.436243969773187,0,1,1,3.436243969773187,0\" style=\"fill: none; stroke: rgb(174, 209, 231); stroke-width: 2; opacity: 0.7;\"></path><path transform=\"translate(27.18181818181818,108.53333333333333)\" d=\"M3.498087515417944,0A3.498087515417944,3.498087515417944,0,1,1,-3.498087515417944,0A3.498087515417944,3.498087515417944,0,1,1,3.498087515417944,0\" style=\"fill: none; stroke: rgb(166, 205, 229); stroke-width: 2; opacity: 0.7;\"></path><path transform=\"translate(32.72727272727273,119.13333333333334)\" d=\"M3.6409725690561934,0A3.6409725690561934,3.6409725690561934,0,1,1,-3.6409725690561934,0A3.6409725690561934,3.6409725690561934,0,1,1,3.6409725690561934,0\" style=\"fill: none; stroke: rgb(158, 201, 226); stroke-width: 2; opacity: 0.7;\"></path><path transform=\"translate(33.45454545454545,114.93333333333334)\" d=\"M3.7652120124370363,0A3.7652120124370363,3.7652120124370363,0,1,1,-3.7652120124370363,0A3.7652120124370363,3.7652120124370363,0,1,1,3.7652120124370363,0\" style=\"fill: none; stroke: rgb(149, 196, 224); stroke-width: 2; opacity: 0.7;\"></path><path transform=\"translate(34.27272727272728,113.33333333333333)\" d=\"M3.8795828271456076,0A3.8795828271456076,3.8795828271456076,0,1,1,-3.8795828271456076,0A3.8795828271456076,3.8795828271456076,0,1,1,3.8795828271456076,0\" style=\"fill: none; stroke: rgb(140, 191, 221); stroke-width: 2; opacity: 0.7;\"></path><path transform=\"translate(34.27272727272728,111.93333333333334)\" d=\"M4.125592425265332,0A4.125592425265332,4.125592425265332,0,1,1,-4.125592425265332,0A4.125592425265332,4.125592425265332,0,1,1,4.125592425265332,0\" style=\"fill: none; stroke: rgb(131, 186, 219); stroke-width: 2; opacity: 0.7;\"></path><path transform=\"translate(34.54545454545455,109.73333333333332)\" d=\"M4.246439777175968,0A4.246439777175968,4.246439777175968,0,1,1,-4.246439777175968,0A4.246439777175968,4.246439777175968,0,1,1,4.246439777175968,0\" style=\"fill: none; stroke: rgb(122, 181, 216); stroke-width: 2; opacity: 0.7;\"></path><path transform=\"translate(39.54545454545455,109.60000000000001)\" d=\"M4.44054958886841,0A4.44054958886841,4.44054958886841,0,1,1,-4.44054958886841,0A4.44054958886841,4.44054958886841,0,1,1,4.44054958886841,0\" style=\"fill: none; stroke: rgb(113, 176, 214); stroke-width: 2; opacity: 0.7;\"></path><path transform=\"translate(40.63636363636364,107)\" d=\"M4.614357506339754,0A4.614357506339754,4.614357506339754,0,1,1,-4.614357506339754,0A4.614357506339754,4.614357506339754,0,1,1,4.614357506339754,0\" style=\"fill: none; stroke: rgb(104, 171, 211); stroke-width: 2; opacity: 0.7;\"></path><path transform=\"translate(41.72727272727273,106.13333333333333)\" d=\"M4.858725983041645,0A4.858725983041645,4.858725983041645,0,1,1,-4.858725983041645,0A4.858725983041645,4.858725983041645,0,1,1,4.858725983041645,0\" style=\"fill: none; stroke: rgb(95, 166, 208); stroke-width: 2; opacity: 0.7;\"></path><path transform=\"translate(45.36363636363636,105.46666666666667)\" d=\"M5.098325330864323,0A5.098325330864323,5.098325330864323,0,1,1,-5.098325330864323,0A5.098325330864323,5.098325330864323,0,1,1,5.098325330864323,0\" style=\"fill: none; stroke: rgb(87, 160, 205); stroke-width: 2; opacity: 0.7;\"></path><path transform=\"translate(47.45454545454545,106.53333333333333)\" d=\"M5.379269213680945,0A5.379269213680945,5.379269213680945,0,1,1,-5.379269213680945,0A5.379269213680945,5.379269213680945,0,1,1,5.379269213680945,0\" style=\"fill: none; stroke: rgb(80, 154, 202); stroke-width: 2; opacity: 0.7;\"></path><path transform=\"translate(52.090909090909086,105.26666666666668)\" d=\"M5.543556524193464,0A5.543556524193464,5.543556524193464,0,1,1,-5.543556524193464,0A5.543556524193464,5.543556524193464,0,1,1,5.543556524193464,0\" style=\"fill: none; stroke: rgb(72, 148, 199); stroke-width: 2; opacity: 0.7;\"></path><path transform=\"translate(54.45454545454545,106.33333333333333)\" d=\"M5.8273282993107856,0A5.8273282993107856,5.8273282993107856,0,1,1,-5.8273282993107856,0A5.8273282993107856,5.8273282993107856,0,1,1,5.8273282993107856,0\" style=\"fill: none; stroke: rgb(65, 142, 196); stroke-width: 2; opacity: 0.7;\"></path><path transform=\"translate(58.81818181818183,106.86666666666667)\" d=\"M5.976879792832908,0A5.976879792832908,5.976879792832908,0,1,1,-5.976879792832908,0A5.976879792832908,5.976879792832908,0,1,1,5.976879792832908,0\" style=\"fill: none; stroke: rgb(58, 137, 193); stroke-width: 2; opacity: 0.7;\"></path><path transform=\"translate(68,110.6)\" d=\"M6.191415485043544,0A6.191415485043544,6.191415485043544,0,1,1,-6.191415485043544,0A6.191415485043544,6.191415485043544,0,1,1,6.191415485043544,0\" style=\"fill: none; stroke: rgb(51, 131, 190); stroke-width: 2; opacity: 0.7;\"></path><path transform=\"translate(77.0909090909091,113.33333333333333)\" d=\"M6.461891968705832,0A6.461891968705832,6.461891968705832,0,1,1,-6.461891968705832,0A6.461891968705832,6.461891968705832,0,1,1,6.461891968705832,0\" style=\"fill: none; stroke: rgb(45, 125, 186); stroke-width: 2; opacity: 0.7;\"></path><path transform=\"translate(85.18181818181819,113.86666666666667)\" d=\"M6.6667599737249414,0A6.6667599737249414,6.6667599737249414,0,1,1,-6.6667599737249414,0A6.6667599737249414,6.6667599737249414,0,1,1,6.6667599737249414,0\" style=\"fill: none; stroke: rgb(39, 118, 183); stroke-width: 2; opacity: 0.7;\"></path><path transform=\"translate(92.63636363636364,114.13333333333333)\" d=\"M6.834518941555232,0A6.834518941555232,6.834518941555232,0,1,1,-6.834518941555232,0A6.834518941555232,6.834518941555232,0,1,1,6.834518941555232,0\" style=\"fill: none; stroke: rgb(33, 112, 179); stroke-width: 2; opacity: 0.7;\"></path><path transform=\"translate(98.63636363636363,114.20000000000002)\" d=\"M6.997662660860334,0A6.997662660860334,6.997662660860334,0,1,1,-6.997662660860334,0A6.997662660860334,6.997662660860334,0,1,1,6.997662660860334,0\" style=\"fill: none; stroke: rgb(28, 106, 174); stroke-width: 2; opacity: 0.7;\"></path><path transform=\"translate(104.18181818181817,115.06666666666666)\" d=\"M7.196248529090212,0A7.196248529090212,7.196248529090212,0,1,1,-7.196248529090212,0A7.196248529090212,7.196248529090212,0,1,1,7.196248529090212,0\" style=\"fill: none; stroke: rgb(23, 99, 169); stroke-width: 2; opacity: 0.7;\"></path><path transform=\"translate(108.09090909090911,118.13333333333334)\" d=\"M7.402019547832579,0A7.402019547832579,7.402019547832579,0,1,1,-7.402019547832579,0A7.402019547832579,7.402019547832579,0,1,1,7.402019547832579,0\" style=\"fill: none; stroke: rgb(18, 93, 164); stroke-width: 2; opacity: 0.7;\"></path><path transform=\"translate(117.36363636363636,120.60000000000001)\" d=\"M7.648387611703144,0A7.648387611703144,7.648387611703144,0,1,1,-7.648387611703144,0A7.648387611703144,7.648387611703144,0,1,1,7.648387611703144,0\" style=\"fill: none; stroke: rgb(16, 86, 158); stroke-width: 2; opacity: 0.7;\"></path><path transform=\"translate(120.45454545454545,120.06666666666666)\" d=\"M7.7436800906914165,0A7.7436800906914165,7.7436800906914165,0,1,1,-7.7436800906914165,0A7.7436800906914165,7.7436800906914165,0,1,1,7.7436800906914165,0\" style=\"fill: none; stroke: rgb(13, 80, 151); stroke-width: 2; opacity: 0.7;\"></path><path transform=\"translate(139.1818181818182,118.46666666666667)\" d=\"M8.092185504488695,0A8.092185504488695,8.092185504488695,0,1,1,-8.092185504488695,0A8.092185504488695,8.092185504488695,0,1,1,8.092185504488695,0\" style=\"fill: none; stroke: rgb(10, 74, 144); stroke-width: 2; opacity: 0.7;\"></path><path transform=\"translate(27.727272727272727,120.73333333333332)\" d=\"M2.8521423492054736,0A2.8521423492054736,2.8521423492054736,0,1,1,-2.8521423492054736,0A2.8521423492054736,2.8521423492054736,0,1,1,2.8521423492054736,0\" style=\"fill: none; stroke: rgb(207, 225, 242); stroke-width: 2; opacity: 0.7;\"></path><path transform=\"translate(28.000000000000004,124.8)\" d=\"M2.8909200106586055,0A2.8909200106586055,2.8909200106586055,0,1,1,-2.8909200106586055,0A2.8909200106586055,2.8909200106586055,0,1,1,2.8909200106586055,0\" style=\"fill: none; stroke: rgb(201, 222, 240); stroke-width: 2; opacity: 0.7;\"></path><path transform=\"translate(28.18181818181818,121.33333333333334)\" d=\"M2.994125755369869,0A2.994125755369869,2.994125755369869,0,1,1,-2.994125755369869,0A2.994125755369869,2.994125755369869,0,1,1,2.994125755369869,0\" style=\"fill: none; stroke: rgb(195, 219, 238); stroke-width: 2; opacity: 0.7;\"></path><path transform=\"translate(28.09090909090909,123.4)\" d=\"M3.093236239490482,0A3.093236239490482,3.093236239490482,0,1,1,-3.093236239490482,0A3.093236239490482,3.093236239490482,0,1,1,3.093236239490482,0\" style=\"fill: none; stroke: rgb(189, 216, 236); stroke-width: 2; opacity: 0.7;\"></path><path transform=\"translate(28.454545454545453,121.33333333333334)\" d=\"M3.136136710522066,0A3.136136710522066,3.136136710522066,0,1,1,-3.136136710522066,0A3.136136710522066,3.136136710522066,0,1,1,3.136136710522066,0\" style=\"fill: none; stroke: rgb(182, 212, 233); stroke-width: 2; opacity: 0.7;\"></path><path transform=\"translate(29.454545454545457,122.60000000000001)\" d=\"M3.213300332798997,0A3.213300332798997,3.213300332798997,0,1,1,-3.213300332798997,0A3.213300332798997,3.213300332798997,0,1,1,3.213300332798997,0\" style=\"fill: none; stroke: rgb(174, 209, 231); stroke-width: 2; opacity: 0.7;\"></path><path transform=\"translate(29.63636363636364,121.73333333333332)\" d=\"M3.3033958096875944,0A3.3033958096875944,3.3033958096875944,0,1,1,-3.3033958096875944,0A3.3033958096875944,3.3033958096875944,0,1,1,3.3033958096875944,0\" style=\"fill: none; stroke: rgb(166, 205, 229); stroke-width: 2; opacity: 0.7;\"></path><path transform=\"translate(30.909090909090907,125.86666666666666)\" d=\"M3.4771716532058528,0A3.4771716532058528,3.4771716532058528,0,1,1,-3.4771716532058528,0A3.4771716532058528,3.4771716532058528,0,1,1,3.4771716532058528,0\" style=\"fill: none; stroke: rgb(158, 201, 226); stroke-width: 2; opacity: 0.7;\"></path><path transform=\"translate(31.54545454545455,122.93333333333334)\" d=\"M3.5514872043702392,0A3.5514872043702392,3.5514872043702392,0,1,1,-3.5514872043702392,0A3.5514872043702392,3.5514872043702392,0,1,1,3.5514872043702392,0\" style=\"fill: none; stroke: rgb(149, 196, 224); stroke-width: 2; opacity: 0.7;\"></path><path transform=\"translate(36.45454545454545,118.53333333333333)\" d=\"M3.7972327303435804,0A3.7972327303435804,3.7972327303435804,0,1,1,-3.7972327303435804,0A3.7972327303435804,3.7972327303435804,0,1,1,3.7972327303435804,0\" style=\"fill: none; stroke: rgb(140, 191, 221); stroke-width: 2; opacity: 0.7;\"></path><path transform=\"translate(37.18181818181818,120.06666666666666)\" d=\"M4.092337976136233,0A4.092337976136233,4.092337976136233,0,1,1,-4.092337976136233,0A4.092337976136233,4.092337976136233,0,1,1,4.092337976136233,0\" style=\"fill: none; stroke: rgb(131, 186, 219); stroke-width: 2; opacity: 0.7;\"></path><path transform=\"translate(37.99999999999999,118.73333333333332)\" d=\"M4.218045450730717,0A4.218045450730717,4.218045450730717,0,1,1,-4.218045450730717,0A4.218045450730717,4.218045450730717,0,1,1,4.218045450730717,0\" style=\"fill: none; stroke: rgb(122, 181, 216); stroke-width: 2; opacity: 0.7;\"></path><path transform=\"translate(39.72727272727273,117.53333333333333)\" d=\"M4.372645002667487,0A4.372645002667487,4.372645002667487,0,1,1,-4.372645002667487,0A4.372645002667487,4.372645002667487,0,1,1,4.372645002667487,0\" style=\"fill: none; stroke: rgb(113, 176, 214); stroke-width: 2; opacity: 0.7;\"></path><path transform=\"translate(41.18181818181818,116.73333333333333)\" d=\"M4.488708621109598,0A4.488708621109598,4.488708621109598,0,1,1,-4.488708621109598,0A4.488708621109598,4.488708621109598,0,1,1,4.488708621109598,0\" style=\"fill: none; stroke: rgb(104, 171, 211); stroke-width: 2; opacity: 0.7;\"></path><path transform=\"translate(43.27272727272727,115.33333333333333)\" d=\"M4.625542048492753,0A4.625542048492753,4.625542048492753,0,1,1,-4.625542048492753,0A4.625542048492753,4.625542048492753,0,1,1,4.625542048492753,0\" style=\"fill: none; stroke: rgb(95, 166, 208); stroke-width: 2; opacity: 0.7;\"></path><path transform=\"translate(47.18181818181818,115.2)\" d=\"M4.9816824367796455,0A4.9816824367796455,4.9816824367796455,0,1,1,-4.9816824367796455,0A4.9816824367796455,4.9816824367796455,0,1,1,4.9816824367796455,0\" style=\"fill: none; stroke: rgb(87, 160, 205); stroke-width: 2; opacity: 0.7;\"></path><path transform=\"translate(48.81818181818182,119.80000000000001)\" d=\"M5.144823393057924,0A5.144823393057924,5.144823393057924,0,1,1,-5.144823393057924,0A5.144823393057924,5.144823393057924,0,1,1,5.144823393057924,0\" style=\"fill: none; stroke: rgb(80, 154, 202); stroke-width: 2; opacity: 0.7;\"></path><path transform=\"translate(51.54545454545455,118.66666666666667)\" d=\"M5.403922199253567,0A5.403922199253567,5.403922199253567,0,1,1,-5.403922199253567,0A5.403922199253567,5.403922199253567,0,1,1,5.403922199253567,0\" style=\"fill: none; stroke: rgb(72, 148, 199); stroke-width: 2; opacity: 0.7;\"></path><path transform=\"translate(54.90909090909091,119.26666666666667)\" d=\"M5.7053493609392305,0A5.7053493609392305,5.7053493609392305,0,1,1,-5.7053493609392305,0A5.7053493609392305,5.7053493609392305,0,1,1,5.7053493609392305,0\" style=\"fill: none; stroke: rgb(65, 142, 196); stroke-width: 2; opacity: 0.7;\"></path><path transform=\"translate(59.72727272727273,118.39999999999999)\" d=\"M5.86009640097458,0A5.86009640097458,5.86009640097458,0,1,1,-5.86009640097458,0A5.86009640097458,5.86009640097458,0,1,1,5.86009640097458,0\" style=\"fill: none; stroke: rgb(58, 137, 193); stroke-width: 2; opacity: 0.7;\"></path><path transform=\"translate(70.18181818181819,124.2)\" d=\"M5.918879305581827,0A5.918879305581827,5.918879305581827,0,1,1,-5.918879305581827,0A5.918879305581827,5.918879305581827,0,1,1,5.918879305581827,0\" style=\"fill: none; stroke: rgb(51, 131, 190); stroke-width: 2; opacity: 0.7;\"></path><path transform=\"translate(83,126.6)\" d=\"M6.078517415921672,0A6.078517415921672,6.078517415921672,0,1,1,-6.078517415921672,0A6.078517415921672,6.078517415921672,0,1,1,6.078517415921672,0\" style=\"fill: none; stroke: rgb(45, 125, 186); stroke-width: 2; opacity: 0.7;\"></path><path transform=\"translate(86.81818181818181,130.93333333333334)\" d=\"M6.180251461940201,0A6.180251461940201,6.180251461940201,0,1,1,-6.180251461940201,0A6.180251461940201,6.180251461940201,0,1,1,6.180251461940201,0\" style=\"fill: none; stroke: rgb(39, 118, 183); stroke-width: 2; opacity: 0.7;\"></path><path transform=\"translate(92.72727272727272,134.8)\" d=\"M6.401348699010511,0A6.401348699010511,6.401348699010511,0,1,1,-6.401348699010511,0A6.401348699010511,6.401348699010511,0,1,1,6.401348699010511,0\" style=\"fill: none; stroke: rgb(33, 112, 179); stroke-width: 2; opacity: 0.7;\"></path><path transform=\"translate(96.54545454545455,138.86666666666667)\" d=\"M6.513279283722551,0A6.513279283722551,6.513279283722551,0,1,1,-6.513279283722551,0A6.513279283722551,6.513279283722551,0,1,1,6.513279283722551,0\" style=\"fill: none; stroke: rgb(28, 106, 174); stroke-width: 2; opacity: 0.7;\"></path><path transform=\"translate(104.81818181818181,141.93333333333334)\" d=\"M6.669011877666768,0A6.669011877666768,6.669011877666768,0,1,1,-6.669011877666768,0A6.669011877666768,6.669011877666768,0,1,1,6.669011877666768,0\" style=\"fill: none; stroke: rgb(23, 99, 169); stroke-width: 2; opacity: 0.7;\"></path><path transform=\"translate(111.81818181818181,142.53333333333333)\" d=\"M6.961419642527592,0A6.961419642527592,6.961419642527592,0,1,1,-6.961419642527592,0A6.961419642527592,6.961419642527592,0,1,1,6.961419642527592,0\" style=\"fill: none; stroke: rgb(18, 93, 164); stroke-width: 2; opacity: 0.7;\"></path><path transform=\"translate(127.63636363636364,143.53333333333333)\" d=\"M7.217414809775123,0A7.217414809775123,7.217414809775123,0,1,1,-7.217414809775123,0A7.217414809775123,7.217414809775123,0,1,1,7.217414809775123,0\" style=\"fill: none; stroke: rgb(16, 86, 158); stroke-width: 2; opacity: 0.7;\"></path><path transform=\"translate(130.54545454545453,144.73333333333332)\" d=\"M7.420754525588734,0A7.420754525588734,7.420754525588734,0,1,1,-7.420754525588734,0A7.420754525588734,7.420754525588734,0,1,1,7.420754525588734,0\" style=\"fill: none; stroke: rgb(13, 80, 151); stroke-width: 2; opacity: 0.7;\"></path><path transform=\"translate(148.63636363636363,142.26666666666668)\" d=\"M7.783731921201553,0A7.783731921201553,7.783731921201553,0,1,1,-7.783731921201553,0A7.783731921201553,7.783731921201553,0,1,1,7.783731921201553,0\" style=\"fill: none; stroke: rgb(10, 74, 144); stroke-width: 2; opacity: 0.7;\"></path><path transform=\"translate(23.454545454545457,121)\" d=\"M2.835163876103279,0A2.835163876103279,2.835163876103279,0,1,1,-2.835163876103279,0A2.835163876103279,2.835163876103279,0,1,1,2.835163876103279,0\" style=\"fill: none; stroke: rgb(207, 225, 242); stroke-width: 2; opacity: 0.7;\"></path><path transform=\"translate(25,129.13333333333333)\" d=\"M2.890381600332273,0A2.890381600332273,2.890381600332273,0,1,1,-2.890381600332273,0A2.890381600332273,2.890381600332273,0,1,1,2.890381600332273,0\" style=\"fill: none; stroke: rgb(201, 222, 240); stroke-width: 2; opacity: 0.7;\"></path><path transform=\"translate(25.09090909090909,126.33333333333333)\" d=\"M3.06103622685389,0A3.06103622685389,3.06103622685389,0,1,1,-3.06103622685389,0A3.06103622685389,3.06103622685389,0,1,1,3.06103622685389,0\" style=\"fill: none; stroke: rgb(195, 219, 238); stroke-width: 2; opacity: 0.7;\"></path><path transform=\"translate(26.90909090909091,129.26666666666668)\" d=\"M3.181941970869651,0A3.181941970869651,3.181941970869651,0,1,1,-3.181941970869651,0A3.181941970869651,3.181941970869651,0,1,1,3.181941970869651,0\" style=\"fill: none; stroke: rgb(189, 216, 236); stroke-width: 2; opacity: 0.7;\"></path><path transform=\"translate(28.545454545454547,126.66666666666667)\" d=\"M3.2318505831618705,0A3.2318505831618705,3.2318505831618705,0,1,1,-3.2318505831618705,0A3.2318505831618705,3.2318505831618705,0,1,1,3.2318505831618705,0\" style=\"fill: none; stroke: rgb(182, 212, 233); stroke-width: 2; opacity: 0.7;\"></path><path transform=\"translate(30.181818181818183,127)\" d=\"M3.310378305790867,0A3.310378305790867,3.310378305790867,0,1,1,-3.310378305790867,0A3.310378305790867,3.310378305790867,0,1,1,3.310378305790867,0\" style=\"fill: none; stroke: rgb(174, 209, 231); stroke-width: 2; opacity: 0.7;\"></path><path transform=\"translate(29.909090909090907,127.73333333333333)\" d=\"M3.4859829007056686,0A3.4859829007056686,3.4859829007056686,0,1,1,-3.4859829007056686,0A3.4859829007056686,3.4859829007056686,0,1,1,3.4859829007056686,0\" style=\"fill: none; stroke: rgb(166, 205, 229); stroke-width: 2; opacity: 0.7;\"></path><path transform=\"translate(30.818181818181817,127.93333333333334)\" d=\"M3.59041517496196,0A3.59041517496196,3.59041517496196,0,1,1,-3.59041517496196,0A3.59041517496196,3.59041517496196,0,1,1,3.59041517496196,0\" style=\"fill: none; stroke: rgb(158, 201, 226); stroke-width: 2; opacity: 0.7;\"></path><path transform=\"translate(31.54545454545455,127.60000000000001)\" d=\"M3.7212148139524635,0A3.7212148139524635,3.7212148139524635,0,1,1,-3.7212148139524635,0A3.7212148139524635,3.7212148139524635,0,1,1,3.7212148139524635,0\" style=\"fill: none; stroke: rgb(149, 196, 224); stroke-width: 2; opacity: 0.7;\"></path><path transform=\"translate(37.36363636363637,130.06666666666666)\" d=\"M3.9152778030532214,0A3.9152778030532214,3.9152778030532214,0,1,1,-3.9152778030532214,0A3.9152778030532214,3.9152778030532214,0,1,1,3.9152778030532214,0\" style=\"fill: none; stroke: rgb(140, 191, 221); stroke-width: 2; opacity: 0.7;\"></path><path transform=\"translate(37.45454545454546,128.93333333333334)\" d=\"M4.282609505981475,0A4.282609505981475,4.282609505981475,0,1,1,-4.282609505981475,0A4.282609505981475,4.282609505981475,0,1,1,4.282609505981475,0\" style=\"fill: none; stroke: rgb(131, 186, 219); stroke-width: 2; opacity: 0.7;\"></path><path transform=\"translate(38.18181818181819,126.33333333333333)\" d=\"M4.277993131309615,0A4.277993131309615,4.277993131309615,0,1,1,-4.277993131309615,0A4.277993131309615,4.277993131309615,0,1,1,4.277993131309615,0\" style=\"fill: none; stroke: rgb(122, 181, 216); stroke-width: 2; opacity: 0.7;\"></path><path transform=\"translate(40.54545454545455,123.93333333333334)\" d=\"M4.574416185507675,0A4.574416185507675,4.574416185507675,0,1,1,-4.574416185507675,0A4.574416185507675,4.574416185507675,0,1,1,4.574416185507675,0\" style=\"fill: none; stroke: rgb(113, 176, 214); stroke-width: 2; opacity: 0.7;\"></path><path transform=\"translate(42.54545454545454,121.26666666666667)\" d=\"M4.6165538161245205,0A4.6165538161245205,4.6165538161245205,0,1,1,-4.6165538161245205,0A4.6165538161245205,4.6165538161245205,0,1,1,4.6165538161245205,0\" style=\"fill: none; stroke: rgb(104, 171, 211); stroke-width: 2; opacity: 0.7;\"></path><path transform=\"translate(43.727272727272734,121.53333333333333)\" d=\"M4.768564059777335,0A4.768564059777335,4.768564059777335,0,1,1,-4.768564059777335,0A4.768564059777335,4.768564059777335,0,1,1,4.768564059777335,0\" style=\"fill: none; stroke: rgb(95, 166, 208); stroke-width: 2; opacity: 0.7;\"></path><path transform=\"translate(48.727272727272734,121.73333333333332)\" d=\"M5.072941899742738,0A5.072941899742738,5.072941899742738,0,1,1,-5.072941899742738,0A5.072941899742738,5.072941899742738,0,1,1,5.072941899742738,0\" style=\"fill: none; stroke: rgb(87, 160, 205); stroke-width: 2; opacity: 0.7;\"></path><path transform=\"translate(50.36363636363637,122.60000000000001)\" d=\"M5.397899685790855,0A5.397899685790855,5.397899685790855,0,1,1,-5.397899685790855,0A5.397899685790855,5.397899685790855,0,1,1,5.397899685790855,0\" style=\"fill: none; stroke: rgb(80, 154, 202); stroke-width: 2; opacity: 0.7;\"></path><path transform=\"translate(54.090909090909086,122.46666666666667)\" d=\"M5.466646975239285,0A5.466646975239285,5.466646975239285,0,1,1,-5.466646975239285,0A5.466646975239285,5.466646975239285,0,1,1,5.466646975239285,0\" style=\"fill: none; stroke: rgb(72, 148, 199); stroke-width: 2; opacity: 0.7;\"></path><path transform=\"translate(55.36363636363636,122)\" d=\"M5.915909155695382,0A5.915909155695382,5.915909155695382,0,1,1,-5.915909155695382,0A5.915909155695382,5.915909155695382,0,1,1,5.915909155695382,0\" style=\"fill: none; stroke: rgb(65, 142, 196); stroke-width: 2; opacity: 0.7;\"></path><path transform=\"translate(63.36363636363637,121.93333333333334)\" d=\"M5.965137180497996,0A5.965137180497996,5.965137180497996,0,1,1,-5.965137180497996,0A5.965137180497996,5.965137180497996,0,1,1,5.965137180497996,0\" style=\"fill: none; stroke: rgb(58, 137, 193); stroke-width: 2; opacity: 0.7;\"></path><path transform=\"translate(76.0909090909091,126.13333333333333)\" d=\"M6.103971249517452,0A6.103971249517452,6.103971249517452,0,1,1,-6.103971249517452,0A6.103971249517452,6.103971249517452,0,1,1,6.103971249517452,0\" style=\"fill: none; stroke: rgb(51, 131, 190); stroke-width: 2; opacity: 0.7;\"></path><path transform=\"translate(86.18181818181819,128.2)\" d=\"M6.438891929765364,0A6.438891929765364,6.438891929765364,0,1,1,-6.438891929765364,0A6.438891929765364,6.438891929765364,0,1,1,6.438891929765364,0\" style=\"fill: none; stroke: rgb(45, 125, 186); stroke-width: 2; opacity: 0.7;\"></path><path transform=\"translate(87.09090909090908,129.93333333333334)\" d=\"M6.6088079345209785,0A6.6088079345209785,6.6088079345209785,0,1,1,-6.6088079345209785,0A6.6088079345209785,6.6088079345209785,0,1,1,6.6088079345209785,0\" style=\"fill: none; stroke: rgb(39, 118, 183); stroke-width: 2; opacity: 0.7;\"></path><path transform=\"translate(94.54545454545455,131.26666666666668)\" d=\"M6.719110596796352,0A6.719110596796352,6.719110596796352,0,1,1,-6.719110596796352,0A6.719110596796352,6.719110596796352,0,1,1,6.719110596796352,0\" style=\"fill: none; stroke: rgb(33, 112, 179); stroke-width: 2; opacity: 0.7;\"></path><path transform=\"translate(103.36363636363637,132.46666666666667)\" d=\"M6.846128349963722,0A6.846128349963722,6.846128349963722,0,1,1,-6.846128349963722,0A6.846128349963722,6.846128349963722,0,1,1,6.846128349963722,0\" style=\"fill: none; stroke: rgb(28, 106, 174); stroke-width: 2; opacity: 0.7;\"></path><path transform=\"translate(112.09090909090908,138.06666666666666)\" d=\"M7.010967738576463,0A7.010967738576463,7.010967738576463,0,1,1,-7.010967738576463,0A7.010967738576463,7.010967738576463,0,1,1,7.010967738576463,0\" style=\"fill: none; stroke: rgb(23, 99, 169); stroke-width: 2; opacity: 0.7;\"></path><path transform=\"translate(126.63636363636364,137.46666666666667)\" d=\"M7.203853836520126,0A7.203853836520126,7.203853836520126,0,1,1,-7.203853836520126,0A7.203853836520126,7.203853836520126,0,1,1,7.203853836520126,0\" style=\"fill: none; stroke: rgb(18, 93, 164); stroke-width: 2; opacity: 0.7;\"></path><path transform=\"translate(130.36363636363637,140.06666666666666)\" d=\"M7.6985949903999575,0A7.6985949903999575,7.6985949903999575,0,1,1,-7.6985949903999575,0A7.6985949903999575,7.6985949903999575,0,1,1,7.6985949903999575,0\" style=\"fill: none; stroke: rgb(16, 86, 158); stroke-width: 2; opacity: 0.7;\"></path><path transform=\"translate(138.36363636363635,138.4)\" d=\"M7.777699578326008,0A7.777699578326008,7.777699578326008,0,1,1,-7.777699578326008,0A7.777699578326008,7.777699578326008,0,1,1,7.777699578326008,0\" style=\"fill: none; stroke: rgb(13, 80, 151); stroke-width: 2; opacity: 0.7;\"></path><path transform=\"translate(154.0909090909091,139.6)\" d=\"M8.152379924361634,0A8.152379924361634,8.152379924361634,0,1,1,-8.152379924361634,0A8.152379924361634,8.152379924361634,0,1,1,8.152379924361634,0\" style=\"fill: none; stroke: rgb(10, 74, 144); stroke-width: 2; opacity: 0.7;\"></path><path transform=\"translate(27.18181818181818,58.20000000000002)\" d=\"M3.3310360970035773,0A3.3310360970035773,3.3310360970035773,0,1,1,-3.3310360970035773,0A3.3310360970035773,3.3310360970035773,0,1,1,3.3310360970035773,0\" style=\"fill: none; stroke: rgb(207, 225, 242); stroke-width: 2; opacity: 0.7;\"></path><path transform=\"translate(26.81818181818182,62.46666666666664)\" d=\"M3.3791054805058316,0A3.3791054805058316,3.3791054805058316,0,1,1,-3.3791054805058316,0A3.3791054805058316,3.3791054805058316,0,1,1,3.3791054805058316,0\" style=\"fill: none; stroke: rgb(201, 222, 240); stroke-width: 2; opacity: 0.7;\"></path><path transform=\"translate(27,71.53333333333333)\" d=\"M3.4346492242914795,0A3.4346492242914795,3.4346492242914795,0,1,1,-3.4346492242914795,0A3.4346492242914795,3.4346492242914795,0,1,1,3.4346492242914795,0\" style=\"fill: none; stroke: rgb(195, 219, 238); stroke-width: 2; opacity: 0.7;\"></path><path transform=\"translate(27.18181818181818,77.33333333333334)\" d=\"M3.51570857216677,0A3.51570857216677,3.51570857216677,0,1,1,-3.51570857216677,0A3.51570857216677,3.51570857216677,0,1,1,3.51570857216677,0\" style=\"fill: none; stroke: rgb(189, 216, 236); stroke-width: 2; opacity: 0.7;\"></path><path transform=\"translate(27.454545454545453,82.79999999999998)\" d=\"M3.610459304500848,0A3.610459304500848,3.610459304500848,0,1,1,-3.610459304500848,0A3.610459304500848,3.610459304500848,0,1,1,3.610459304500848,0\" style=\"fill: none; stroke: rgb(182, 212, 233); stroke-width: 2; opacity: 0.7;\"></path><path transform=\"translate(29.818181818181817,73.53333333333335)\" d=\"M3.7729711370203676,0A3.7729711370203676,3.7729711370203676,0,1,1,-3.7729711370203676,0A3.7729711370203676,3.7729711370203676,0,1,1,3.7729711370203676,0\" style=\"fill: none; stroke: rgb(174, 209, 231); stroke-width: 2; opacity: 0.7;\"></path><path transform=\"translate(30.272727272727266,67.6)\" d=\"M3.904609492479796,0A3.904609492479796,3.904609492479796,0,1,1,-3.904609492479796,0A3.904609492479796,3.904609492479796,0,1,1,3.904609492479796,0\" style=\"fill: none; stroke: rgb(166, 205, 229); stroke-width: 2; opacity: 0.7;\"></path><path transform=\"translate(35.36363636363637,73.66666666666666)\" d=\"M4.137762647270283,0A4.137762647270283,4.137762647270283,0,1,1,-4.137762647270283,0A4.137762647270283,4.137762647270283,0,1,1,4.137762647270283,0\" style=\"fill: none; stroke: rgb(158, 201, 226); stroke-width: 2; opacity: 0.7;\"></path><path transform=\"translate(40,73)\" d=\"M4.240426791579265,0A4.240426791579265,4.240426791579265,0,1,1,-4.240426791579265,0A4.240426791579265,4.240426791579265,0,1,1,4.240426791579265,0\" style=\"fill: none; stroke: rgb(149, 196, 224); stroke-width: 2; opacity: 0.7;\"></path><path transform=\"translate(36.90909090909091,67.6)\" d=\"M4.326770097119458,0A4.326770097119458,4.326770097119458,0,1,1,-4.326770097119458,0A4.326770097119458,4.326770097119458,0,1,1,4.326770097119458,0\" style=\"fill: none; stroke: rgb(140, 191, 221); stroke-width: 2; opacity: 0.7;\"></path><path transform=\"translate(36.63636363636363,65.66666666666669)\" d=\"M4.534494274286529,0A4.534494274286529,4.534494274286529,0,1,1,-4.534494274286529,0A4.534494274286529,4.534494274286529,0,1,1,4.534494274286529,0\" style=\"fill: none; stroke: rgb(131, 186, 219); stroke-width: 2; opacity: 0.7;\"></path><path transform=\"translate(38.09090909090909,63.53333333333333)\" d=\"M4.648764211670725,0A4.648764211670725,4.648764211670725,0,1,1,-4.648764211670725,0A4.648764211670725,4.648764211670725,0,1,1,4.648764211670725,0\" style=\"fill: none; stroke: rgb(122, 181, 216); stroke-width: 2; opacity: 0.7;\"></path><path transform=\"translate(40.45454545454545,63.20000000000002)\" d=\"M4.886018417328181,0A4.886018417328181,4.886018417328181,0,1,1,-4.886018417328181,0A4.886018417328181,4.886018417328181,0,1,1,4.886018417328181,0\" style=\"fill: none; stroke: rgb(113, 176, 214); stroke-width: 2; opacity: 0.7;\"></path><path transform=\"translate(40.81818181818181,65.73333333333332)\" d=\"M5.070036827069811,0A5.070036827069811,5.070036827069811,0,1,1,-5.070036827069811,0A5.070036827069811,5.070036827069811,0,1,1,5.070036827069811,0\" style=\"fill: none; stroke: rgb(104, 171, 211); stroke-width: 2; opacity: 0.7;\"></path><path transform=\"translate(44.81818181818182,72.8)\" d=\"M5.332158673275556,0A5.332158673275556,5.332158673275556,0,1,1,-5.332158673275556,0A5.332158673275556,5.332158673275556,0,1,1,5.332158673275556,0\" style=\"fill: none; stroke: rgb(95, 166, 208); stroke-width: 2; opacity: 0.7;\"></path><path transform=\"translate(49.36363636363636,75.33333333333334)\" d=\"M5.665722524316282,0A5.665722524316282,5.665722524316282,0,1,1,-5.665722524316282,0A5.665722524316282,5.665722524316282,0,1,1,5.665722524316282,0\" style=\"fill: none; stroke: rgb(87, 160, 205); stroke-width: 2; opacity: 0.7;\"></path><path transform=\"translate(51.909090909090914,77.8)\" d=\"M5.938495233064366,0A5.938495233064366,5.938495233064366,0,1,1,-5.938495233064366,0A5.938495233064366,5.938495233064366,0,1,1,5.938495233064366,0\" style=\"fill: none; stroke: rgb(80, 154, 202); stroke-width: 2; opacity: 0.7;\"></path><path transform=\"translate(57.36363636363636,81.53333333333335)\" d=\"M6.218325976283461,0A6.218325976283461,6.218325976283461,0,1,1,-6.218325976283461,0A6.218325976283461,6.218325976283461,0,1,1,6.218325976283461,0\" style=\"fill: none; stroke: rgb(72, 148, 199); stroke-width: 2; opacity: 0.7;\"></path><path transform=\"translate(57.54545454545455,85.39999999999999)\" d=\"M6.463844326534301,0A6.463844326534301,6.463844326534301,0,1,1,-6.463844326534301,0A6.463844326534301,6.463844326534301,0,1,1,6.463844326534301,0\" style=\"fill: none; stroke: rgb(65, 142, 196); stroke-width: 2; opacity: 0.7;\"></path><path transform=\"translate(65.0909090909091,89.93333333333334)\" d=\"M6.533332236330526,0A6.533332236330526,6.533332236330526,0,1,1,-6.533332236330526,0A6.533332236330526,6.533332236330526,0,1,1,6.533332236330526,0\" style=\"fill: none; stroke: rgb(58, 137, 193); stroke-width: 2; opacity: 0.7;\"></path><path transform=\"translate(74.45454545454547,93.86666666666667)\" d=\"M6.727596031408619,0A6.727596031408619,6.727596031408619,0,1,1,-6.727596031408619,0A6.727596031408619,6.727596031408619,0,1,1,6.727596031408619,0\" style=\"fill: none; stroke: rgb(51, 131, 190); stroke-width: 2; opacity: 0.7;\"></path><path transform=\"translate(90.72727272727272,108.93333333333334)\" d=\"M6.8671068354237885,0A6.8671068354237885,6.8671068354237885,0,1,1,-6.8671068354237885,0A6.8671068354237885,6.8671068354237885,0,1,1,6.8671068354237885,0\" style=\"fill: none; stroke: rgb(45, 125, 186); stroke-width: 2; opacity: 0.7;\"></path><path transform=\"translate(99.36363636363636,102.20000000000002)\" d=\"M7.048522267909807,0A7.048522267909807,7.048522267909807,0,1,1,-7.048522267909807,0A7.048522267909807,7.048522267909807,0,1,1,7.048522267909807,0\" style=\"fill: none; stroke: rgb(39, 118, 183); stroke-width: 2; opacity: 0.7;\"></path><path transform=\"translate(96.9090909090909,104.93333333333334)\" d=\"M7.20720704839368,0A7.20720704839368,7.20720704839368,0,1,1,-7.20720704839368,0A7.20720704839368,7.20720704839368,0,1,1,7.20720704839368,0\" style=\"fill: none; stroke: rgb(33, 112, 179); stroke-width: 2; opacity: 0.7;\"></path><path transform=\"translate(103.63636363636364,101.53333333333335)\" d=\"M7.397728381325298,0A7.397728381325298,7.397728381325298,0,1,1,-7.397728381325298,0A7.397728381325298,7.397728381325298,0,1,1,7.397728381325298,0\" style=\"fill: none; stroke: rgb(28, 106, 174); stroke-width: 2; opacity: 0.7;\"></path><path transform=\"translate(117.81818181818183,105.39999999999999)\" d=\"M7.690461774537689,0A7.690461774537689,7.690461774537689,0,1,1,-7.690461774537689,0A7.690461774537689,7.690461774537689,0,1,1,7.690461774537689,0\" style=\"fill: none; stroke: rgb(23, 99, 169); stroke-width: 2; opacity: 0.7;\"></path><path transform=\"translate(132.36363636363635,108.06666666666666)\" d=\"M7.983426725386918,0A7.983426725386918,7.983426725386918,0,1,1,-7.983426725386918,0A7.983426725386918,7.983426725386918,0,1,1,7.983426725386918,0\" style=\"fill: none; stroke: rgb(18, 93, 164); stroke-width: 2; opacity: 0.7;\"></path><path transform=\"translate(157.90909090909088,108.46666666666665)\" d=\"M7.945858605466785,0A7.945858605466785,7.945858605466785,0,1,1,-7.945858605466785,0A7.945858605466785,7.945858605466785,0,1,1,7.945858605466785,0\" style=\"fill: none; stroke: rgb(16, 86, 158); stroke-width: 2; opacity: 0.7;\"></path><path transform=\"translate(169.36363636363637,123)\" d=\"M8.004710355938252,0A8.004710355938252,8.004710355938252,0,1,1,-8.004710355938252,0A8.004710355938252,8.004710355938252,0,1,1,8.004710355938252,0\" style=\"fill: none; stroke: rgb(13, 80, 151); stroke-width: 2; opacity: 0.7;\"></path><path transform=\"translate(176.1818181818182,126.66666666666667)\" d=\"M8.323072979107534,0A8.323072979107534,8.323072979107534,0,1,1,-8.323072979107534,0A8.323072979107534,8.323072979107534,0,1,1,8.323072979107534,0\" style=\"fill: none; stroke: rgb(10, 74, 144); stroke-width: 2; opacity: 0.7;\"></path><path transform=\"translate(22,52.400000000000006)\" d=\"M3.012513726582397,0A3.012513726582397,3.012513726582397,0,1,1,-3.012513726582397,0A3.012513726582397,3.012513726582397,0,1,1,3.012513726582397,0\" style=\"fill: none; stroke: rgb(207, 225, 242); stroke-width: 2; opacity: 0.7;\"></path><path transform=\"translate(22.454545454545453,50.73333333333332)\" d=\"M3.119152537545545,0A3.119152537545545,3.119152537545545,0,1,1,-3.119152537545545,0A3.119152537545545,3.119152537545545,0,1,1,3.119152537545545,0\" style=\"fill: none; stroke: rgb(201, 222, 240); stroke-width: 2; opacity: 0.7;\"></path><path transform=\"translate(22.454545454545453,44.133333333333326)\" d=\"M3.208616194492651,0A3.208616194492651,3.208616194492651,0,1,1,-3.208616194492651,0A3.208616194492651,3.208616194492651,0,1,1,3.208616194492651,0\" style=\"fill: none; stroke: rgb(195, 219, 238); stroke-width: 2; opacity: 0.7;\"></path><path transform=\"translate(23.545454545454543,8.266666666666652)\" d=\"M3.33601805051716,0A3.33601805051716,3.33601805051716,0,1,1,-3.33601805051716,0A3.33601805051716,3.33601805051716,0,1,1,3.33601805051716,0\" style=\"fill: none; stroke: rgb(189, 216, 236); stroke-width: 2; opacity: 0.7;\"></path><path transform=\"translate(24.09090909090909,1.400000000000034)\" d=\"M3.440283563030088,0A3.440283563030088,3.440283563030088,0,1,1,-3.440283563030088,0A3.440283563030088,3.440283563030088,0,1,1,3.440283563030088,0\" style=\"fill: none; stroke: rgb(182, 212, 233); stroke-width: 2; opacity: 0.7;\"></path><path transform=\"translate(27.18181818181818,24)\" d=\"M3.570481898209912,0A3.570481898209912,3.570481898209912,0,1,1,-3.570481898209912,0A3.570481898209912,3.570481898209912,0,1,1,3.570481898209912,0\" style=\"fill: none; stroke: rgb(174, 209, 231); stroke-width: 2; opacity: 0.7;\"></path><path transform=\"translate(27.18181818181818,34.333333333333314)\" d=\"M3.6966903292432103,0A3.6966903292432103,3.6966903292432103,0,1,1,-3.6966903292432103,0A3.6966903292432103,3.6966903292432103,0,1,1,3.6966903292432103,0\" style=\"fill: none; stroke: rgb(166, 205, 229); stroke-width: 2; opacity: 0.7;\"></path><path transform=\"translate(28.545454545454547,22.866666666666674)\" d=\"M3.783517487268133,0A3.783517487268133,3.783517487268133,0,1,1,-3.783517487268133,0A3.783517487268133,3.783517487268133,0,1,1,3.783517487268133,0\" style=\"fill: none; stroke: rgb(158, 201, 226); stroke-width: 2; opacity: 0.7;\"></path><path transform=\"translate(31,14.666666666666686)\" d=\"M3.8960906072998553,0A3.8960906072998553,3.8960906072998553,0,1,1,-3.8960906072998553,0A3.8960906072998553,3.8960906072998553,0,1,1,3.8960906072998553,0\" style=\"fill: none; stroke: rgb(149, 196, 224); stroke-width: 2; opacity: 0.7;\"></path><path transform=\"translate(32.81818181818182,2.5333333333333314)\" d=\"M4.011522405730749,0A4.011522405730749,4.011522405730749,0,1,1,-4.011522405730749,0A4.011522405730749,4.011522405730749,0,1,1,4.011522405730749,0\" style=\"fill: none; stroke: rgb(140, 191, 221); stroke-width: 2; opacity: 0.7;\"></path><path transform=\"translate(33.54545454545455,14)\" d=\"M4.241756124831674,0A4.241756124831674,4.241756124831674,0,1,1,-4.241756124831674,0A4.241756124831674,4.241756124831674,0,1,1,4.241756124831674,0\" style=\"fill: none; stroke: rgb(131, 186, 219); stroke-width: 2; opacity: 0.7;\"></path><path transform=\"translate(34.45454545454545,20.133333333333326)\" d=\"M4.405174700724637,0A4.405174700724637,4.405174700724637,0,1,1,-4.405174700724637,0A4.405174700724637,4.405174700724637,0,1,1,4.405174700724637,0\" style=\"fill: none; stroke: rgb(122, 181, 216); stroke-width: 2; opacity: 0.7;\"></path><path transform=\"translate(37.09090909090909,20.599999999999966)\" d=\"M4.560338934534578,0A4.560338934534578,4.560338934534578,0,1,1,-4.560338934534578,0A4.560338934534578,4.560338934534578,0,1,1,4.560338934534578,0\" style=\"fill: none; stroke: rgb(113, 176, 214); stroke-width: 2; opacity: 0.7;\"></path><path transform=\"translate(39.90909090909091,6.333333333333314)\" d=\"M4.775623995278901,0A4.775623995278901,4.775623995278901,0,1,1,-4.775623995278901,0A4.775623995278901,4.775623995278901,0,1,1,4.775623995278901,0\" style=\"fill: none; stroke: rgb(104, 171, 211); stroke-width: 2; opacity: 0.7;\"></path><path transform=\"translate(40.909090909090914,14.133333333333326)\" d=\"M4.988656382768529,0A4.988656382768529,4.988656382768529,0,1,1,-4.988656382768529,0A4.988656382768529,4.988656382768529,0,1,1,4.988656382768529,0\" style=\"fill: none; stroke: rgb(95, 166, 208); stroke-width: 2; opacity: 0.7;\"></path><path transform=\"translate(45.18181818181819,20.26666666666665)\" d=\"M5.248017018307615,0A5.248017018307615,5.248017018307615,0,1,1,-5.248017018307615,0A5.248017018307615,5.248017018307615,0,1,1,5.248017018307615,0\" style=\"fill: none; stroke: rgb(87, 160, 205); stroke-width: 2; opacity: 0.7;\"></path><path transform=\"translate(48.36363636363637,30.26666666666665)\" d=\"M5.546024671919913,0A5.546024671919913,5.546024671919913,0,1,1,-5.546024671919913,0A5.546024671919913,5.546024671919913,0,1,1,5.546024671919913,0\" style=\"fill: none; stroke: rgb(80, 154, 202); stroke-width: 2; opacity: 0.7;\"></path><path transform=\"translate(50.272727272727266,34.79999999999998)\" d=\"M5.840474083014179,0A5.840474083014179,5.840474083014179,0,1,1,-5.840474083014179,0A5.840474083014179,5.840474083014179,0,1,1,5.840474083014179,0\" style=\"fill: none; stroke: rgb(72, 148, 199); stroke-width: 2; opacity: 0.7;\"></path><path transform=\"translate(53.090909090909086,36.39999999999998)\" d=\"M6.1290145110107135,0A6.1290145110107135,6.1290145110107135,0,1,1,-6.1290145110107135,0A6.1290145110107135,6.1290145110107135,0,1,1,6.1290145110107135,0\" style=\"fill: none; stroke: rgb(65, 142, 196); stroke-width: 2; opacity: 0.7;\"></path><path transform=\"translate(60.909090909090914,40.133333333333326)\" d=\"M6.379165905034129,0A6.379165905034129,6.379165905034129,0,1,1,-6.379165905034129,0A6.379165905034129,6.379165905034129,0,1,1,6.379165905034129,0\" style=\"fill: none; stroke: rgb(58, 137, 193); stroke-width: 2; opacity: 0.7;\"></path><path transform=\"translate(67.9090909090909,44.73333333333335)\" d=\"M6.643032842868874,0A6.643032842868874,6.643032842868874,0,1,1,-6.643032842868874,0A6.643032842868874,6.643032842868874,0,1,1,6.643032842868874,0\" style=\"fill: none; stroke: rgb(51, 131, 190); stroke-width: 2; opacity: 0.7;\"></path><path transform=\"translate(82.27272727272728,56.599999999999994)\" d=\"M7.0229180850864585,0A7.0229180850864585,7.0229180850864585,0,1,1,-7.0229180850864585,0A7.0229180850864585,7.0229180850864585,0,1,1,7.0229180850864585,0\" style=\"fill: none; stroke: rgb(45, 125, 186); stroke-width: 2; opacity: 0.7;\"></path><path transform=\"translate(81.0909090909091,65.93333333333334)\" d=\"M7.290573594939746,0A7.290573594939746,7.290573594939746,0,1,1,-7.290573594939746,0A7.290573594939746,7.290573594939746,0,1,1,7.290573594939746,0\" style=\"fill: none; stroke: rgb(39, 118, 183); stroke-width: 2; opacity: 0.7;\"></path><path transform=\"translate(90.9090909090909,69.4)\" d=\"M7.544092632458435,0A7.544092632458435,7.544092632458435,0,1,1,-7.544092632458435,0A7.544092632458435,7.544092632458435,0,1,1,7.544092632458435,0\" style=\"fill: none; stroke: rgb(33, 112, 179); stroke-width: 2; opacity: 0.7;\"></path><path transform=\"translate(92.72727272727272,69.93333333333334)\" d=\"M7.886784631109883,0A7.886784631109883,7.886784631109883,0,1,1,-7.886784631109883,0A7.886784631109883,7.886784631109883,0,1,1,7.886784631109883,0\" style=\"fill: none; stroke: rgb(28, 106, 174); stroke-width: 2; opacity: 0.7;\"></path><path transform=\"translate(103.18181818181817,79.73333333333332)\" d=\"M8.202363448647684,0A8.202363448647684,8.202363448647684,0,1,1,-8.202363448647684,0A8.202363448647684,8.202363448647684,0,1,1,8.202363448647684,0\" style=\"fill: none; stroke: rgb(23, 99, 169); stroke-width: 2; opacity: 0.7;\"></path><path transform=\"translate(114.45454545454545,84.73333333333332)\" d=\"M8.350753295973401,0A8.350753295973401,8.350753295973401,0,1,1,-8.350753295973401,0A8.350753295973401,8.350753295973401,0,1,1,8.350753295973401,0\" style=\"fill: none; stroke: rgb(18, 93, 164); stroke-width: 2; opacity: 0.7;\"></path><path transform=\"translate(123.54545454545456,98.4)\" d=\"M8.500694030168319,0A8.500694030168319,8.500694030168319,0,1,1,-8.500694030168319,0A8.500694030168319,8.500694030168319,0,1,1,8.500694030168319,0\" style=\"fill: none; stroke: rgb(16, 86, 158); stroke-width: 2; opacity: 0.7;\"></path><path transform=\"translate(139.9090909090909,103.46666666666667)\" d=\"M8.554587146969299,0A8.554587146969299,8.554587146969299,0,1,1,-8.554587146969299,0A8.554587146969299,8.554587146969299,0,1,1,8.554587146969299,0\" style=\"fill: none; stroke: rgb(13, 80, 151); stroke-width: 2; opacity: 0.7;\"></path><path transform=\"translate(149.45454545454547,104.2)\" d=\"M9.03901248152923,0A9.03901248152923,9.03901248152923,0,1,1,-9.03901248152923,0A9.03901248152923,9.03901248152923,0,1,1,9.03901248152923,0\" style=\"fill: none; stroke: rgb(10, 74, 144); stroke-width: 2; opacity: 0.7;\"></path><path transform=\"translate(26.181818181818183,105.73333333333333)\" d=\"M3.342567324325518,0A3.342567324325518,3.342567324325518,0,1,1,-3.342567324325518,0A3.342567324325518,3.342567324325518,0,1,1,3.342567324325518,0\" style=\"fill: none; stroke: rgb(207, 225, 242); stroke-width: 2; opacity: 0.7;\"></path><path transform=\"translate(27.27272727272727,109.60000000000001)\" d=\"M3.458199889251084,0A3.458199889251084,3.458199889251084,0,1,1,-3.458199889251084,0A3.458199889251084,3.458199889251084,0,1,1,3.458199889251084,0\" style=\"fill: none; stroke: rgb(201, 222, 240); stroke-width: 2; opacity: 0.7;\"></path><path transform=\"translate(27.27272727272727,108)\" d=\"M3.548356933450294,0A3.548356933450294,3.548356933450294,0,1,1,-3.548356933450294,0A3.548356933450294,3.548356933450294,0,1,1,3.548356933450294,0\" style=\"fill: none; stroke: rgb(195, 219, 238); stroke-width: 2; opacity: 0.7;\"></path><path transform=\"translate(27.363636363636363,103.39999999999999)\" d=\"M3.6662903994513485,0A3.6662903994513485,3.6662903994513485,0,1,1,-3.6662903994513485,0A3.6662903994513485,3.6662903994513485,0,1,1,3.6662903994513485,0\" style=\"fill: none; stroke: rgb(189, 216, 236); stroke-width: 2; opacity: 0.7;\"></path><path transform=\"translate(31.09090909090909,112.6)\" d=\"M3.769732960493765,0A3.769732960493765,3.769732960493765,0,1,1,-3.769732960493765,0A3.769732960493765,3.769732960493765,0,1,1,3.769732960493765,0\" style=\"fill: none; stroke: rgb(182, 212, 233); stroke-width: 2; opacity: 0.7;\"></path><path transform=\"translate(31.363636363636367,113.20000000000002)\" d=\"M3.9101773999925835,0A3.9101773999925835,3.9101773999925835,0,1,1,-3.9101773999925835,0A3.9101773999925835,3.9101773999925835,0,1,1,3.9101773999925835,0\" style=\"fill: none; stroke: rgb(174, 209, 231); stroke-width: 2; opacity: 0.7;\"></path><path transform=\"translate(35.09090909090909,119.19999999999999)\" d=\"M4.023916280528913,0A4.023916280528913,4.023916280528913,0,1,1,-4.023916280528913,0A4.023916280528913,4.023916280528913,0,1,1,4.023916280528913,0\" style=\"fill: none; stroke: rgb(166, 205, 229); stroke-width: 2; opacity: 0.7;\"></path><path transform=\"translate(37.27272727272727,119.53333333333333)\" d=\"M4.197960753039372,0A4.197960753039372,4.197960753039372,0,1,1,-4.197960753039372,0A4.197960753039372,4.197960753039372,0,1,1,4.197960753039372,0\" style=\"fill: none; stroke: rgb(158, 201, 226); stroke-width: 2; opacity: 0.7;\"></path><path transform=\"translate(37.90909090909091,116.60000000000001)\" d=\"M4.346820656384268,0A4.346820656384268,4.346820656384268,0,1,1,-4.346820656384268,0A4.346820656384268,4.346820656384268,0,1,1,4.346820656384268,0\" style=\"fill: none; stroke: rgb(149, 196, 224); stroke-width: 2; opacity: 0.7;\"></path><path transform=\"translate(38.27272727272727,114.4)\" d=\"M4.463875129438035,0A4.463875129438035,4.463875129438035,0,1,1,-4.463875129438035,0A4.463875129438035,4.463875129438035,0,1,1,4.463875129438035,0\" style=\"fill: none; stroke: rgb(140, 191, 221); stroke-width: 2; opacity: 0.7;\"></path><path transform=\"translate(44.45454545454545,119.86666666666666)\" d=\"M4.67729797132995,0A4.67729797132995,4.67729797132995,0,1,1,-4.67729797132995,0A4.67729797132995,4.67729797132995,0,1,1,4.67729797132995,0\" style=\"fill: none; stroke: rgb(131, 186, 219); stroke-width: 2; opacity: 0.7;\"></path><path transform=\"translate(45.63636363636364,119.06666666666666)\" d=\"M4.860224807951037,0A4.860224807951037,4.860224807951037,0,1,1,-4.860224807951037,0A4.860224807951037,4.860224807951037,0,1,1,4.860224807951037,0\" style=\"fill: none; stroke: rgb(122, 181, 216); stroke-width: 2; opacity: 0.7;\"></path><path transform=\"translate(48,118.46666666666667)\" d=\"M5.068830468336602,0A5.068830468336602,5.068830468336602,0,1,1,-5.068830468336602,0A5.068830468336602,5.068830468336602,0,1,1,5.068830468336602,0\" style=\"fill: none; stroke: rgb(113, 176, 214); stroke-width: 2; opacity: 0.7;\"></path><path transform=\"translate(48.727272727272734,118.39999999999999)\" d=\"M5.246299216304526,0A5.246299216304526,5.246299216304526,0,1,1,-5.246299216304526,0A5.246299216304526,5.246299216304526,0,1,1,5.246299216304526,0\" style=\"fill: none; stroke: rgb(104, 171, 211); stroke-width: 2; opacity: 0.7;\"></path><path transform=\"translate(51.72727272727272,118.13333333333334)\" d=\"M5.434588448461463,0A5.434588448461463,5.434588448461463,0,1,1,-5.434588448461463,0A5.434588448461463,5.434588448461463,0,1,1,5.434588448461463,0\" style=\"fill: none; stroke: rgb(95, 166, 208); stroke-width: 2; opacity: 0.7;\"></path><path transform=\"translate(56.27272727272727,117.39999999999999)\" d=\"M5.706889228478145,0A5.706889228478145,5.706889228478145,0,1,1,-5.706889228478145,0A5.706889228478145,5.706889228478145,0,1,1,5.706889228478145,0\" style=\"fill: none; stroke: rgb(87, 160, 205); stroke-width: 2; opacity: 0.7;\"></path><path transform=\"translate(57.72727272727273,117.46666666666667)\" d=\"M5.972534901621754,0A5.972534901621754,5.972534901621754,0,1,1,-5.972534901621754,0A5.972534901621754,5.972534901621754,0,1,1,5.972534901621754,0\" style=\"fill: none; stroke: rgb(80, 154, 202); stroke-width: 2; opacity: 0.7;\"></path><path transform=\"translate(60.36363636363637,117.13333333333334)\" d=\"M6.291052427638625,0A6.291052427638625,6.291052427638625,0,1,1,-6.291052427638625,0A6.291052427638625,6.291052427638625,0,1,1,6.291052427638625,0\" style=\"fill: none; stroke: rgb(72, 148, 199); stroke-width: 2; opacity: 0.7;\"></path><path transform=\"translate(62.45454545454546,114.73333333333333)\" d=\"M6.612099130618606,0A6.612099130618606,6.612099130618606,0,1,1,-6.612099130618606,0A6.612099130618606,6.612099130618606,0,1,1,6.612099130618606,0\" style=\"fill: none; stroke: rgb(65, 142, 196); stroke-width: 2; opacity: 0.7;\"></path><path transform=\"translate(69.27272727272728,115.8)\" d=\"M6.888072257432795,0A6.888072257432795,6.888072257432795,0,1,1,-6.888072257432795,0A6.888072257432795,6.888072257432795,0,1,1,6.888072257432795,0\" style=\"fill: none; stroke: rgb(58, 137, 193); stroke-width: 2; opacity: 0.7;\"></path><path transform=\"translate(83.72727272727272,119.13333333333334)\" d=\"M7.180687321264627,0A7.180687321264627,7.180687321264627,0,1,1,-7.180687321264627,0A7.180687321264627,7.180687321264627,0,1,1,7.180687321264627,0\" style=\"fill: none; stroke: rgb(51, 131, 190); stroke-width: 2; opacity: 0.7;\"></path><path transform=\"translate(91.9090909090909,121.46666666666667)\" d=\"M7.500608326963094,0A7.500608326963094,7.500608326963094,0,1,1,-7.500608326963094,0A7.500608326963094,7.500608326963094,0,1,1,7.500608326963094,0\" style=\"fill: none; stroke: rgb(45, 125, 186); stroke-width: 2; opacity: 0.7;\"></path><path transform=\"translate(95.18181818181819,122.06666666666666)\" d=\"M7.741378817826596,0A7.741378817826596,7.741378817826596,0,1,1,-7.741378817826596,0A7.741378817826596,7.741378817826596,0,1,1,7.741378817826596,0\" style=\"fill: none; stroke: rgb(39, 118, 183); stroke-width: 2; opacity: 0.7;\"></path><path transform=\"translate(104.0909090909091,123)\" d=\"M7.9438395707131155,0A7.9438395707131155,7.9438395707131155,0,1,1,-7.9438395707131155,0A7.9438395707131155,7.9438395707131155,0,1,1,7.9438395707131155,0\" style=\"fill: none; stroke: rgb(33, 112, 179); stroke-width: 2; opacity: 0.7;\"></path><path transform=\"translate(108.72727272727272,125.6)\" d=\"M8.229987033296355,0A8.229987033296355,8.229987033296355,0,1,1,-8.229987033296355,0A8.229987033296355,8.229987033296355,0,1,1,8.229987033296355,0\" style=\"fill: none; stroke: rgb(28, 106, 174); stroke-width: 2; opacity: 0.7;\"></path><path transform=\"translate(119.81818181818183,128.13333333333333)\" d=\"M8.620175400788883,0A8.620175400788883,8.620175400788883,0,1,1,-8.620175400788883,0A8.620175400788883,8.620175400788883,0,1,1,8.620175400788883,0\" style=\"fill: none; stroke: rgb(23, 99, 169); stroke-width: 2; opacity: 0.7;\"></path><path transform=\"translate(126.81818181818181,131.33333333333331)\" d=\"M8.892651181605224,0A8.892651181605224,8.892651181605224,0,1,1,-8.892651181605224,0A8.892651181605224,8.892651181605224,0,1,1,8.892651181605224,0\" style=\"fill: none; stroke: rgb(18, 93, 164); stroke-width: 2; opacity: 0.7;\"></path><path transform=\"translate(135.72727272727275,134.26666666666665)\" d=\"M9.13349987521375,0A9.13349987521375,9.13349987521375,0,1,1,-9.13349987521375,0A9.13349987521375,9.13349987521375,0,1,1,9.13349987521375,0\" style=\"fill: none; stroke: rgb(16, 86, 158); stroke-width: 2; opacity: 0.7;\"></path><path transform=\"translate(164,142.2)\" d=\"M9.251784625990291,0A9.251784625990291,9.251784625990291,0,1,1,-9.251784625990291,0A9.251784625990291,9.251784625990291,0,1,1,9.251784625990291,0\" style=\"fill: none; stroke: rgb(13, 80, 151); stroke-width: 2; opacity: 0.7;\"></path><path transform=\"translate(173.72727272727272,142.26666666666668)\" d=\"M9.5,0A9.5,9.5,0,1,1,-9.5,0A9.5,9.5,0,1,1,9.5,0\" style=\"fill: none; stroke: rgb(10, 74, 144); stroke-width: 2; opacity: 0.7;\"></path><path transform=\"translate(27.363636363636363,138.33333333333331)\" d=\"M2.678821152500713,0A2.678821152500713,2.678821152500713,0,1,1,-2.678821152500713,0A2.678821152500713,2.678821152500713,0,1,1,2.678821152500713,0\" style=\"fill: none; stroke: rgb(207, 225, 242); stroke-width: 2; opacity: 0.7;\"></path><path transform=\"translate(27.454545454545453,140.06666666666666)\" d=\"M2.748255634248574,0A2.748255634248574,2.748255634248574,0,1,1,-2.748255634248574,0A2.748255634248574,2.748255634248574,0,1,1,2.748255634248574,0\" style=\"fill: none; stroke: rgb(201, 222, 240); stroke-width: 2; opacity: 0.7;\"></path><path transform=\"translate(27.454545454545453,135.8)\" d=\"M2.818886135648183,0A2.818886135648183,2.818886135648183,0,1,1,-2.818886135648183,0A2.818886135648183,2.818886135648183,0,1,1,2.818886135648183,0\" style=\"fill: none; stroke: rgb(195, 219, 238); stroke-width: 2; opacity: 0.7;\"></path><path transform=\"translate(27.636363636363637,135.66666666666669)\" d=\"M2.9040550315625056,0A2.9040550315625056,2.9040550315625056,0,1,1,-2.9040550315625056,0A2.9040550315625056,2.9040550315625056,0,1,1,2.9040550315625056,0\" style=\"fill: none; stroke: rgb(189, 216, 236); stroke-width: 2; opacity: 0.7;\"></path><path transform=\"translate(28.636363636363637,136.33333333333331)\" d=\"M2.9696049847876487,0A2.9696049847876487,2.9696049847876487,0,1,1,-2.9696049847876487,0A2.9696049847876487,2.9696049847876487,0,1,1,2.9696049847876487,0\" style=\"fill: none; stroke: rgb(182, 212, 233); stroke-width: 2; opacity: 0.7;\"></path><path transform=\"translate(30.63636363636364,133.39999999999998)\" d=\"M3.0852810413366876,0A3.0852810413366876,3.0852810413366876,0,1,1,-3.0852810413366876,0A3.0852810413366876,3.0852810413366876,0,1,1,3.0852810413366876,0\" style=\"fill: none; stroke: rgb(174, 209, 231); stroke-width: 2; opacity: 0.7;\"></path><path transform=\"translate(34.45454545454545,142)\" d=\"M3.166521020475404,0A3.166521020475404,3.166521020475404,0,1,1,-3.166521020475404,0A3.166521020475404,3.166521020475404,0,1,1,3.166521020475404,0\" style=\"fill: none; stroke: rgb(166, 205, 229); stroke-width: 2; opacity: 0.7;\"></path><path transform=\"translate(36.09090909090909,140)\" d=\"M3.300786899425578,0A3.300786899425578,3.300786899425578,0,1,1,-3.300786899425578,0A3.300786899425578,3.300786899425578,0,1,1,3.300786899425578,0\" style=\"fill: none; stroke: rgb(158, 201, 226); stroke-width: 2; opacity: 0.7;\"></path><path transform=\"translate(37.90909090909091,138.26666666666668)\" d=\"M3.4405319087697546,0A3.4405319087697546,3.4405319087697546,0,1,1,-3.4405319087697546,0A3.4405319087697546,3.4405319087697546,0,1,1,3.4405319087697546,0\" style=\"fill: none; stroke: rgb(149, 196, 224); stroke-width: 2; opacity: 0.7;\"></path><path transform=\"translate(37.36363636363637,133.8)\" d=\"M3.5851153890821585,0A3.5851153890821585,3.5851153890821585,0,1,1,-3.5851153890821585,0A3.5851153890821585,3.5851153890821585,0,1,1,3.5851153890821585,0\" style=\"fill: none; stroke: rgb(140, 191, 221); stroke-width: 2; opacity: 0.7;\"></path><path transform=\"translate(37.99999999999999,134.06666666666666)\" d=\"M3.755304692971478,0A3.755304692971478,3.755304692971478,0,1,1,-3.755304692971478,0A3.755304692971478,3.755304692971478,0,1,1,3.755304692971478,0\" style=\"fill: none; stroke: rgb(131, 186, 219); stroke-width: 2; opacity: 0.7;\"></path><path transform=\"translate(39.72727272727273,133.13333333333333)\" d=\"M3.919676279226519,0A3.919676279226519,3.919676279226519,0,1,1,-3.919676279226519,0A3.919676279226519,3.919676279226519,0,1,1,3.919676279226519,0\" style=\"fill: none; stroke: rgb(122, 181, 216); stroke-width: 2; opacity: 0.7;\"></path><path transform=\"translate(42.09090909090909,131.26666666666668)\" d=\"M4.163904907945558,0A4.163904907945558,4.163904907945558,0,1,1,-4.163904907945558,0A4.163904907945558,4.163904907945558,0,1,1,4.163904907945558,0\" style=\"fill: none; stroke: rgb(113, 176, 214); stroke-width: 2; opacity: 0.7;\"></path><path transform=\"translate(45,131.73333333333332)\" d=\"M4.354319165255069,0A4.354319165255069,4.354319165255069,0,1,1,-4.354319165255069,0A4.354319165255069,4.354319165255069,0,1,1,4.354319165255069,0\" style=\"fill: none; stroke: rgb(104, 171, 211); stroke-width: 2; opacity: 0.7;\"></path><path transform=\"translate(46.909090909090914,131.73333333333332)\" d=\"M4.538553784398596,0A4.538553784398596,4.538553784398596,0,1,1,-4.538553784398596,0A4.538553784398596,4.538553784398596,0,1,1,4.538553784398596,0\" style=\"fill: none; stroke: rgb(95, 166, 208); stroke-width: 2; opacity: 0.7;\"></path><path transform=\"translate(50.90909090909091,131.26666666666668)\" d=\"M4.812320800465974,0A4.812320800465974,4.812320800465974,0,1,1,-4.812320800465974,0A4.812320800465974,4.812320800465974,0,1,1,4.812320800465974,0\" style=\"fill: none; stroke: rgb(87, 160, 205); stroke-width: 2; opacity: 0.7;\"></path><path transform=\"translate(52.36363636363637,132.66666666666669)\" d=\"M5.063651815021387,0A5.063651815021387,5.063651815021387,0,1,1,-5.063651815021387,0A5.063651815021387,5.063651815021387,0,1,1,5.063651815021387,0\" style=\"fill: none; stroke: rgb(80, 154, 202); stroke-width: 2; opacity: 0.7;\"></path><path transform=\"translate(56.90909090909091,131.53333333333333)\" d=\"M5.294968671347109,0A5.294968671347109,5.294968671347109,0,1,1,-5.294968671347109,0A5.294968671347109,5.294968671347109,0,1,1,5.294968671347109,0\" style=\"fill: none; stroke: rgb(72, 148, 199); stroke-width: 2; opacity: 0.7;\"></path><path transform=\"translate(57.27272727272727,131.33333333333331)\" d=\"M5.481960831273092,0A5.481960831273092,5.481960831273092,0,1,1,-5.481960831273092,0A5.481960831273092,5.481960831273092,0,1,1,5.481960831273092,0\" style=\"fill: none; stroke: rgb(65, 142, 196); stroke-width: 2; opacity: 0.7;\"></path><path transform=\"translate(63.0909090909091,135)\" d=\"M5.610096694426158,0A5.610096694426158,5.610096694426158,0,1,1,-5.610096694426158,0A5.610096694426158,5.610096694426158,0,1,1,5.610096694426158,0\" style=\"fill: none; stroke: rgb(58, 137, 193); stroke-width: 2; opacity: 0.7;\"></path><path transform=\"translate(72.36363636363636,135.8)\" d=\"M5.781604204820446,0A5.781604204820446,5.781604204820446,0,1,1,-5.781604204820446,0A5.781604204820446,5.781604204820446,0,1,1,5.781604204820446,0\" style=\"fill: none; stroke: rgb(51, 131, 190); stroke-width: 2; opacity: 0.7;\"></path><path transform=\"translate(82,140.73333333333335)\" d=\"M5.899075037204991,0A5.899075037204991,5.899075037204991,0,1,1,-5.899075037204991,0A5.899075037204991,5.899075037204991,0,1,1,5.899075037204991,0\" style=\"fill: none; stroke: rgb(45, 125, 186); stroke-width: 2; opacity: 0.7;\"></path><path transform=\"translate(88.63636363636364,141.33333333333334)\" d=\"M6.133945163994158,0A6.133945163994158,6.133945163994158,0,1,1,-6.133945163994158,0A6.133945163994158,6.133945163994158,0,1,1,6.133945163994158,0\" style=\"fill: none; stroke: rgb(39, 118, 183); stroke-width: 2; opacity: 0.7;\"></path><path transform=\"translate(92,141.2)\" d=\"M6.21948833821892,0A6.21948833821892,6.21948833821892,0,1,1,-6.21948833821892,0A6.21948833821892,6.21948833821892,0,1,1,6.21948833821892,0\" style=\"fill: none; stroke: rgb(33, 112, 179); stroke-width: 2; opacity: 0.7;\"></path><path transform=\"translate(100.18181818181819,145.13333333333333)\" d=\"M6.30452051922022,0A6.30452051922022,6.30452051922022,0,1,1,-6.30452051922022,0A6.30452051922022,6.30452051922022,0,1,1,6.30452051922022,0\" style=\"fill: none; stroke: rgb(28, 106, 174); stroke-width: 2; opacity: 0.7;\"></path><path transform=\"translate(103.36363636363637,148.2)\" d=\"M6.460781734079188,0A6.460781734079188,6.460781734079188,0,1,1,-6.460781734079188,0A6.460781734079188,6.460781734079188,0,1,1,6.460781734079188,0\" style=\"fill: none; stroke: rgb(23, 99, 169); stroke-width: 2; opacity: 0.7;\"></path><path transform=\"translate(115.63636363636365,150.39999999999998)\" d=\"M6.648747080424025,0A6.648747080424025,6.648747080424025,0,1,1,-6.648747080424025,0A6.648747080424025,6.648747080424025,0,1,1,6.648747080424025,0\" style=\"fill: none; stroke: rgb(18, 93, 164); stroke-width: 2; opacity: 0.7;\"></path><path transform=\"translate(121.45454545454545,152.8)\" d=\"M6.963666711547551,0A6.963666711547551,6.963666711547551,0,1,1,-6.963666711547551,0A6.963666711547551,6.963666711547551,0,1,1,6.963666711547551,0\" style=\"fill: none; stroke: rgb(16, 86, 158); stroke-width: 2; opacity: 0.7;\"></path><path transform=\"translate(133.54545454545453,153.4)\" d=\"M7.120023326231058,0A7.120023326231058,7.120023326231058,0,1,1,-7.120023326231058,0A7.120023326231058,7.120023326231058,0,1,1,7.120023326231058,0\" style=\"fill: none; stroke: rgb(13, 80, 151); stroke-width: 2; opacity: 0.7;\"></path><path transform=\"translate(150.36363636363637,152.4)\" d=\"M7.322595583860325,0A7.322595583860325,7.322595583860325,0,1,1,-7.322595583860325,0A7.322595583860325,7.322595583860325,0,1,1,7.322595583860325,0\" style=\"fill: none; stroke: rgb(10, 74, 144); stroke-width: 2; opacity: 0.7;\"></path><path transform=\"translate(23.81818181818182,102.06666666666666)\" d=\"M3.211344302719015,0A3.211344302719015,3.211344302719015,0,1,1,-3.211344302719015,0A3.211344302719015,3.211344302719015,0,1,1,3.211344302719015,0\" style=\"fill: none; stroke: rgb(207, 225, 242); stroke-width: 2; opacity: 0.7;\"></path><path transform=\"translate(24.454545454545453,105.86666666666667)\" d=\"M3.3253770097217212,0A3.3253770097217212,3.3253770097217212,0,1,1,-3.3253770097217212,0A3.3253770097217212,3.3253770097217212,0,1,1,3.3253770097217212,0\" style=\"fill: none; stroke: rgb(201, 222, 240); stroke-width: 2; opacity: 0.7;\"></path><path transform=\"translate(24.09090909090909,107.66666666666667)\" d=\"M3.4050927229195067,0A3.4050927229195067,3.4050927229195067,0,1,1,-3.4050927229195067,0A3.4050927229195067,3.4050927229195067,0,1,1,3.4050927229195067,0\" style=\"fill: none; stroke: rgb(195, 219, 238); stroke-width: 2; opacity: 0.7;\"></path><path transform=\"translate(31.454545454545457,118.39999999999999)\" d=\"M3.5052551431601757,0A3.5052551431601757,3.5052551431601757,0,1,1,-3.5052551431601757,0A3.5052551431601757,3.5052551431601757,0,1,1,3.5052551431601757,0\" style=\"fill: none; stroke: rgb(189, 216, 236); stroke-width: 2; opacity: 0.7;\"></path><path transform=\"translate(31.54545454545455,117.86666666666666)\" d=\"M3.598652741544019,0A3.598652741544019,3.598652741544019,0,1,1,-3.598652741544019,0A3.598652741544019,3.598652741544019,0,1,1,3.598652741544019,0\" style=\"fill: none; stroke: rgb(182, 212, 233); stroke-width: 2; opacity: 0.7;\"></path><path transform=\"translate(31.363636363636367,116.73333333333333)\" d=\"M3.743682509839648,0A3.743682509839648,3.743682509839648,0,1,1,-3.743682509839648,0A3.743682509839648,3.743682509839648,0,1,1,3.743682509839648,0\" style=\"fill: none; stroke: rgb(174, 209, 231); stroke-width: 2; opacity: 0.7;\"></path><path transform=\"translate(35.09090909090909,118.39999999999999)\" d=\"M3.8504660021068418,0A3.8504660021068418,3.8504660021068418,0,1,1,-3.8504660021068418,0A3.8504660021068418,3.8504660021068418,0,1,1,3.8504660021068418,0\" style=\"fill: none; stroke: rgb(166, 205, 229); stroke-width: 2; opacity: 0.7;\"></path><path transform=\"translate(37.00000000000001,120.66666666666667)\" d=\"M4.013989070591513,0A4.013989070591513,4.013989070591513,0,1,1,-4.013989070591513,0A4.013989070591513,4.013989070591513,0,1,1,4.013989070591513,0\" style=\"fill: none; stroke: rgb(158, 201, 226); stroke-width: 2; opacity: 0.7;\"></path><path transform=\"translate(37.90909090909091,117.80000000000001)\" d=\"M4.145992312173065,0A4.145992312173065,4.145992312173065,0,1,1,-4.145992312173065,0A4.145992312173065,4.145992312173065,0,1,1,4.145992312173065,0\" style=\"fill: none; stroke: rgb(149, 196, 224); stroke-width: 2; opacity: 0.7;\"></path><path transform=\"translate(38.81818181818182,120.06666666666666)\" d=\"M4.241696682031902,0A4.241696682031902,4.241696682031902,0,1,1,-4.241696682031902,0A4.241696682031902,4.241696682031902,0,1,1,4.241696682031902,0\" style=\"fill: none; stroke: rgb(140, 191, 221); stroke-width: 2; opacity: 0.7;\"></path><path transform=\"translate(41.63636363636363,120.86666666666666)\" d=\"M4.412539402793725,0A4.412539402793725,4.412539402793725,0,1,1,-4.412539402793725,0A4.412539402793725,4.412539402793725,0,1,1,4.412539402793725,0\" style=\"fill: none; stroke: rgb(131, 186, 219); stroke-width: 2; opacity: 0.7;\"></path><path transform=\"translate(43.09090909090909,118.93333333333334)\" d=\"M4.59041232966689,0A4.59041232966689,4.59041232966689,0,1,1,-4.59041232966689,0A4.59041232966689,4.59041232966689,0,1,1,4.59041232966689,0\" style=\"fill: none; stroke: rgb(122, 181, 216); stroke-width: 2; opacity: 0.7;\"></path><path transform=\"translate(46.81818181818182,117.39999999999999)\" d=\"M4.774529805899333,0A4.774529805899333,4.774529805899333,0,1,1,-4.774529805899333,0A4.774529805899333,4.774529805899333,0,1,1,4.774529805899333,0\" style=\"fill: none; stroke: rgb(113, 176, 214); stroke-width: 2; opacity: 0.7;\"></path><path transform=\"translate(49.27272727272727,116.93333333333334)\" d=\"M4.921940760698422,0A4.921940760698422,4.921940760698422,0,1,1,-4.921940760698422,0A4.921940760698422,4.921940760698422,0,1,1,4.921940760698422,0\" style=\"fill: none; stroke: rgb(104, 171, 211); stroke-width: 2; opacity: 0.7;\"></path><path transform=\"translate(48.90909090909091,116.33333333333333)\" d=\"M5.098108120488631,0A5.098108120488631,5.098108120488631,0,1,1,-5.098108120488631,0A5.098108120488631,5.098108120488631,0,1,1,5.098108120488631,0\" style=\"fill: none; stroke: rgb(95, 166, 208); stroke-width: 2; opacity: 0.7;\"></path><path transform=\"translate(54.090909090909086,115.73333333333333)\" d=\"M5.357424438410487,0A5.357424438410487,5.357424438410487,0,1,1,-5.357424438410487,0A5.357424438410487,5.357424438410487,0,1,1,5.357424438410487,0\" style=\"fill: none; stroke: rgb(87, 160, 205); stroke-width: 2; opacity: 0.7;\"></path><path transform=\"translate(55.54545454545454,117.06666666666666)\" d=\"M5.61242323013228,0A5.61242323013228,5.61242323013228,0,1,1,-5.61242323013228,0A5.61242323013228,5.61242323013228,0,1,1,5.61242323013228,0\" style=\"fill: none; stroke: rgb(80, 154, 202); stroke-width: 2; opacity: 0.7;\"></path><path transform=\"translate(58.545454545454554,114.93333333333334)\" d=\"M5.9099336302198,0A5.9099336302198,5.9099336302198,0,1,1,-5.9099336302198,0A5.9099336302198,5.9099336302198,0,1,1,5.9099336302198,0\" style=\"fill: none; stroke: rgb(72, 148, 199); stroke-width: 2; opacity: 0.7;\"></path><path transform=\"translate(59.909090909090914,113.26666666666667)\" d=\"M6.223185400288425,0A6.223185400288425,6.223185400288425,0,1,1,-6.223185400288425,0A6.223185400288425,6.223185400288425,0,1,1,6.223185400288425,0\" style=\"fill: none; stroke: rgb(65, 142, 196); stroke-width: 2; opacity: 0.7;\"></path><path transform=\"translate(65.9090909090909,114.33333333333333)\" d=\"M6.425876202517019,0A6.425876202517019,6.425876202517019,0,1,1,-6.425876202517019,0A6.425876202517019,6.425876202517019,0,1,1,6.425876202517019,0\" style=\"fill: none; stroke: rgb(58, 137, 193); stroke-width: 2; opacity: 0.7;\"></path><path transform=\"translate(75.54545454545453,116.93333333333334)\" d=\"M6.699837740839359,0A6.699837740839359,6.699837740839359,0,1,1,-6.699837740839359,0A6.699837740839359,6.699837740839359,0,1,1,6.699837740839359,0\" style=\"fill: none; stroke: rgb(51, 131, 190); stroke-width: 2; opacity: 0.7;\"></path><path transform=\"translate(91.63636363636364,120.46666666666667)\" d=\"M7.01313873491339,0A7.01313873491339,7.01313873491339,0,1,1,-7.01313873491339,0A7.01313873491339,7.01313873491339,0,1,1,7.01313873491339,0\" style=\"fill: none; stroke: rgb(45, 125, 186); stroke-width: 2; opacity: 0.7;\"></path><path transform=\"translate(96.54545454545455,122.73333333333333)\" d=\"M7.183350304249997,0A7.183350304249997,7.183350304249997,0,1,1,-7.183350304249997,0A7.183350304249997,7.183350304249997,0,1,1,7.183350304249997,0\" style=\"fill: none; stroke: rgb(39, 118, 183); stroke-width: 2; opacity: 0.7;\"></path><path transform=\"translate(101.0909090909091,124)\" d=\"M7.411218015939245,0A7.411218015939245,7.411218015939245,0,1,1,-7.411218015939245,0A7.411218015939245,7.411218015939245,0,1,1,7.411218015939245,0\" style=\"fill: none; stroke: rgb(33, 112, 179); stroke-width: 2; opacity: 0.7;\"></path><path transform=\"translate(106.36363636363637,127.39999999999999)\" d=\"M7.6363091499468245,0A7.6363091499468245,7.6363091499468245,0,1,1,-7.6363091499468245,0A7.6363091499468245,7.6363091499468245,0,1,1,7.6363091499468245,0\" style=\"fill: none; stroke: rgb(28, 106, 174); stroke-width: 2; opacity: 0.7;\"></path><path transform=\"translate(114.45454545454545,129.2)\" d=\"M7.977055078890079,0A7.977055078890079,7.977055078890079,0,1,1,-7.977055078890079,0A7.977055078890079,7.977055078890079,0,1,1,7.977055078890079,0\" style=\"fill: none; stroke: rgb(23, 99, 169); stroke-width: 2; opacity: 0.7;\"></path><path transform=\"translate(124.27272727272727,133.26666666666665)\" d=\"M8.224269474573175,0A8.224269474573175,8.224269474573175,0,1,1,-8.224269474573175,0A8.224269474573175,8.224269474573175,0,1,1,8.224269474573175,0\" style=\"fill: none; stroke: rgb(18, 93, 164); stroke-width: 2; opacity: 0.7;\"></path><path transform=\"translate(152.1818181818182,137.53333333333333)\" d=\"M8.432089560147654,0A8.432089560147654,8.432089560147654,0,1,1,-8.432089560147654,0A8.432089560147654,8.432089560147654,0,1,1,8.432089560147654,0\" style=\"fill: none; stroke: rgb(16, 86, 158); stroke-width: 2; opacity: 0.7;\"></path><path transform=\"translate(164,142.39999999999998)\" d=\"M8.53650785054379,0A8.53650785054379,8.53650785054379,0,1,1,-8.53650785054379,0A8.53650785054379,8.53650785054379,0,1,1,8.53650785054379,0\" style=\"fill: none; stroke: rgb(13, 80, 151); stroke-width: 2; opacity: 0.7;\"></path><path transform=\"translate(180.45454545454544,145.06666666666666)\" d=\"M8.849221054440191,0A8.849221054440191,8.849221054440191,0,1,1,-8.849221054440191,0A8.849221054440191,8.849221054440191,0,1,1,8.849221054440191,0\" style=\"fill: none; stroke: rgb(10, 74, 144); stroke-width: 2; opacity: 0.7;\"></path><path transform=\"translate(24.636363636363637,131.13333333333333)\" d=\"M2.6900017887420575,0A2.6900017887420575,2.6900017887420575,0,1,1,-2.6900017887420575,0A2.6900017887420575,2.6900017887420575,0,1,1,2.6900017887420575,0\" style=\"fill: none; stroke: rgb(207, 225, 242); stroke-width: 2; opacity: 0.7;\"></path><path transform=\"translate(25.90909090909091,132)\" d=\"M2.6836962673144305,0A2.6836962673144305,2.6836962673144305,0,1,1,-2.6836962673144305,0A2.6836962673144305,2.6836962673144305,0,1,1,2.6836962673144305,0\" style=\"fill: none; stroke: rgb(201, 222, 240); stroke-width: 2; opacity: 0.7;\"></path><path transform=\"translate(26,131.2)\" d=\"M2.922759797948001,0A2.922759797948001,2.922759797948001,0,1,1,-2.922759797948001,0A2.922759797948001,2.922759797948001,0,1,1,2.922759797948001,0\" style=\"fill: none; stroke: rgb(195, 219, 238); stroke-width: 2; opacity: 0.7;\"></path><path transform=\"translate(27.454545454545453,133.66666666666669)\" d=\"M2.945854834962343,0A2.945854834962343,2.945854834962343,0,1,1,-2.945854834962343,0A2.945854834962343,2.945854834962343,0,1,1,2.945854834962343,0\" style=\"fill: none; stroke: rgb(189, 216, 236); stroke-width: 2; opacity: 0.7;\"></path><path transform=\"translate(27.727272727272727,135.8)\" d=\"M2.99779607484366,0A2.99779607484366,2.99779607484366,0,1,1,-2.99779607484366,0A2.99779607484366,2.99779607484366,0,1,1,2.99779607484366,0\" style=\"fill: none; stroke: rgb(182, 212, 233); stroke-width: 2; opacity: 0.7;\"></path><path transform=\"translate(29.36363636363636,135.33333333333334)\" d=\"M3.0832345812896524,0A3.0832345812896524,3.0832345812896524,0,1,1,-3.0832345812896524,0A3.0832345812896524,3.0832345812896524,0,1,1,3.0832345812896524,0\" style=\"fill: none; stroke: rgb(174, 209, 231); stroke-width: 2; opacity: 0.7;\"></path><path transform=\"translate(29.36363636363636,135.39999999999998)\" d=\"M3.232850399220834,0A3.232850399220834,3.232850399220834,0,1,1,-3.232850399220834,0A3.232850399220834,3.232850399220834,0,1,1,3.232850399220834,0\" style=\"fill: none; stroke: rgb(166, 205, 229); stroke-width: 2; opacity: 0.7;\"></path><path transform=\"translate(33.90909090909091,137.46666666666667)\" d=\"M3.278528274352858,0A3.278528274352858,3.278528274352858,0,1,1,-3.278528274352858,0A3.278528274352858,3.278528274352858,0,1,1,3.278528274352858,0\" style=\"fill: none; stroke: rgb(158, 201, 226); stroke-width: 2; opacity: 0.7;\"></path><path transform=\"translate(35.36363636363637,134.33333333333334)\" d=\"M3.5199769393749545,0A3.5199769393749545,3.5199769393749545,0,1,1,-3.5199769393749545,0A3.5199769393749545,3.5199769393749545,0,1,1,3.5199769393749545,0\" style=\"fill: none; stroke: rgb(149, 196, 224); stroke-width: 2; opacity: 0.7;\"></path><path transform=\"translate(35.36363636363637,130.8)\" d=\"M3.8421498432361316,0A3.8421498432361316,3.8421498432361316,0,1,1,-3.8421498432361316,0A3.8421498432361316,3.8421498432361316,0,1,1,3.8421498432361316,0\" style=\"fill: none; stroke: rgb(140, 191, 221); stroke-width: 2; opacity: 0.7;\"></path><path transform=\"translate(35.81818181818181,127.53333333333333)\" d=\"M4.7010506214715395,0A4.7010506214715395,4.7010506214715395,0,1,1,-4.7010506214715395,0A4.7010506214715395,4.7010506214715395,0,1,1,4.7010506214715395,0\" style=\"fill: none; stroke: rgb(131, 186, 219); stroke-width: 2; opacity: 0.7;\"></path><path transform=\"translate(36.27272727272727,126.33333333333333)\" d=\"M4.505998961208041,0A4.505998961208041,4.505998961208041,0,1,1,-4.505998961208041,0A4.505998961208041,4.505998961208041,0,1,1,4.505998961208041,0\" style=\"fill: none; stroke: rgb(122, 181, 216); stroke-width: 2; opacity: 0.7;\"></path><path transform=\"translate(38.72727272727273,121.39999999999999)\" d=\"M4.514763474488148,0A4.514763474488148,4.514763474488148,0,1,1,-4.514763474488148,0A4.514763474488148,4.514763474488148,0,1,1,4.514763474488148,0\" style=\"fill: none; stroke: rgb(113, 176, 214); stroke-width: 2; opacity: 0.7;\"></path><path transform=\"translate(41.72727272727273,116.39999999999999)\" d=\"M4.416971341503758,0A4.416971341503758,4.416971341503758,0,1,1,-4.416971341503758,0A4.416971341503758,4.416971341503758,0,1,1,4.416971341503758,0\" style=\"fill: none; stroke: rgb(104, 171, 211); stroke-width: 2; opacity: 0.7;\"></path><path transform=\"translate(43.09090909090909,118.53333333333333)\" d=\"M4.496798768096416,0A4.496798768096416,4.496798768096416,0,1,1,-4.496798768096416,0A4.496798768096416,4.496798768096416,0,1,1,4.496798768096416,0\" style=\"fill: none; stroke: rgb(95, 166, 208); stroke-width: 2; opacity: 0.7;\"></path><path transform=\"translate(48.36363636363637,118.73333333333332)\" d=\"M4.952598105014331,0A4.952598105014331,4.952598105014331,0,1,1,-4.952598105014331,0A4.952598105014331,4.952598105014331,0,1,1,4.952598105014331,0\" style=\"fill: none; stroke: rgb(87, 160, 205); stroke-width: 2; opacity: 0.7;\"></path><path transform=\"translate(50,119.13333333333334)\" d=\"M5.149011804618254,0A5.149011804618254,5.149011804618254,0,1,1,-5.149011804618254,0A5.149011804618254,5.149011804618254,0,1,1,5.149011804618254,0\" style=\"fill: none; stroke: rgb(80, 154, 202); stroke-width: 2; opacity: 0.7;\"></path><path transform=\"translate(54.18181818181819,117.53333333333333)\" d=\"M5.193785080325685,0A5.193785080325685,5.193785080325685,0,1,1,-5.193785080325685,0A5.193785080325685,5.193785080325685,0,1,1,5.193785080325685,0\" style=\"fill: none; stroke: rgb(72, 148, 199); stroke-width: 2; opacity: 0.7;\"></path><path transform=\"translate(56.36363636363636,116.2)\" d=\"M5.720193920611185,0A5.720193920611185,5.720193920611185,0,1,1,-5.720193920611185,0A5.720193920611185,5.720193920611185,0,1,1,5.720193920611185,0\" style=\"fill: none; stroke: rgb(65, 142, 196); stroke-width: 2; opacity: 0.7;\"></path><path transform=\"translate(61.63636363636363,115.46666666666667)\" d=\"M5.872828500762595,0A5.872828500762595,5.872828500762595,0,1,1,-5.872828500762595,0A5.872828500762595,5.872828500762595,0,1,1,5.872828500762595,0\" style=\"fill: none; stroke: rgb(58, 137, 193); stroke-width: 2; opacity: 0.7;\"></path><path transform=\"translate(70.81818181818183,120.26666666666667)\" d=\"M6.071097716066445,0A6.071097716066445,6.071097716066445,0,1,1,-6.071097716066445,0A6.071097716066445,6.071097716066445,0,1,1,6.071097716066445,0\" style=\"fill: none; stroke: rgb(51, 131, 190); stroke-width: 2; opacity: 0.7;\"></path><path transform=\"translate(85.81818181818183,127.06666666666666)\" d=\"M6.361209604662298,0A6.361209604662298,6.361209604662298,0,1,1,-6.361209604662298,0A6.361209604662298,6.361209604662298,0,1,1,6.361209604662298,0\" style=\"fill: none; stroke: rgb(45, 125, 186); stroke-width: 2; opacity: 0.7;\"></path><path transform=\"translate(91.45454545454544,131.2)\" d=\"M6.441490614120464,0A6.441490614120464,6.441490614120464,0,1,1,-6.441490614120464,0A6.441490614120464,6.441490614120464,0,1,1,6.441490614120464,0\" style=\"fill: none; stroke: rgb(39, 118, 183); stroke-width: 2; opacity: 0.7;\"></path><path transform=\"translate(94.72727272727272,133.46666666666667)\" d=\"M6.575118125189828,0A6.575118125189828,6.575118125189828,0,1,1,-6.575118125189828,0A6.575118125189828,6.575118125189828,0,1,1,6.575118125189828,0\" style=\"fill: none; stroke: rgb(33, 112, 179); stroke-width: 2; opacity: 0.7;\"></path><path transform=\"translate(100.27272727272727,138.46666666666667)\" d=\"M6.667233399915387,0A6.667233399915387,6.667233399915387,0,1,1,-6.667233399915387,0A6.667233399915387,6.667233399915387,0,1,1,6.667233399915387,0\" style=\"fill: none; stroke: rgb(28, 106, 174); stroke-width: 2; opacity: 0.7;\"></path><path transform=\"translate(112.09090909090908,141.93333333333334)\" d=\"M6.674288227390995,0A6.674288227390995,6.674288227390995,0,1,1,-6.674288227390995,0A6.674288227390995,6.674288227390995,0,1,1,6.674288227390995,0\" style=\"fill: none; stroke: rgb(23, 99, 169); stroke-width: 2; opacity: 0.7;\"></path><path transform=\"translate(123.54545454545456,143.93333333333334)\" d=\"M6.8329738406732,0A6.8329738406732,6.8329738406732,0,1,1,-6.8329738406732,0A6.8329738406732,6.8329738406732,0,1,1,6.8329738406732,0\" style=\"fill: none; stroke: rgb(18, 93, 164); stroke-width: 2; opacity: 0.7;\"></path><path transform=\"translate(131.1818181818182,148.6)\" d=\"M7.243920675687698,0A7.243920675687698,7.243920675687698,0,1,1,-7.243920675687698,0A7.243920675687698,7.243920675687698,0,1,1,7.243920675687698,0\" style=\"fill: none; stroke: rgb(16, 86, 158); stroke-width: 2; opacity: 0.7;\"></path><path transform=\"translate(145.27272727272728,143.2)\" d=\"M7.441282239841055,0A7.441282239841055,7.441282239841055,0,1,1,-7.441282239841055,0A7.441282239841055,7.441282239841055,0,1,1,7.441282239841055,0\" style=\"fill: none; stroke: rgb(13, 80, 151); stroke-width: 2; opacity: 0.7;\"></path><path transform=\"translate(153,150.39999999999998)\" d=\"M7.735088633548297,0A7.735088633548297,7.735088633548297,0,1,1,-7.735088633548297,0A7.735088633548297,7.735088633548297,0,1,1,7.735088633548297,0\" style=\"fill: none; stroke: rgb(10, 74, 144); stroke-width: 2; opacity: 0.7;\"></path><path transform=\"translate(23.90909090909091,113.06666666666666)\" d=\"M2.9618684307646745,0A2.9618684307646745,2.9618684307646745,0,1,1,-2.9618684307646745,0A2.9618684307646745,2.9618684307646745,0,1,1,2.9618684307646745,0\" style=\"fill: none; stroke: rgb(207, 225, 242); stroke-width: 2; opacity: 0.7;\"></path><path transform=\"translate(24,113.73333333333333)\" d=\"M3.0693917037444782,0A3.0693917037444782,3.0693917037444782,0,1,1,-3.0693917037444782,0A3.0693917037444782,3.0693917037444782,0,1,1,3.0693917037444782,0\" style=\"fill: none; stroke: rgb(201, 222, 240); stroke-width: 2; opacity: 0.7;\"></path><path transform=\"translate(24,110.13333333333333)\" d=\"M3.169510224794268,0A3.169510224794268,3.169510224794268,0,1,1,-3.169510224794268,0A3.169510224794268,3.169510224794268,0,1,1,3.169510224794268,0\" style=\"fill: none; stroke: rgb(195, 219, 238); stroke-width: 2; opacity: 0.7;\"></path><path transform=\"translate(23.90909090909091,109.66666666666667)\" d=\"M3.285385702243079,0A3.285385702243079,3.285385702243079,0,1,1,-3.285385702243079,0A3.285385702243079,3.285385702243079,0,1,1,3.285385702243079,0\" style=\"fill: none; stroke: rgb(189, 216, 236); stroke-width: 2; opacity: 0.7;\"></path><path transform=\"translate(24.545454545454547,109.06666666666666)\" d=\"M3.345386746312503,0A3.345386746312503,3.345386746312503,0,1,1,-3.345386746312503,0A3.345386746312503,3.345386746312503,0,1,1,3.345386746312503,0\" style=\"fill: none; stroke: rgb(182, 212, 233); stroke-width: 2; opacity: 0.7;\"></path><path transform=\"translate(28.000000000000004,113.46666666666665)\" d=\"M3.472597386793078,0A3.472597386793078,3.472597386793078,0,1,1,-3.472597386793078,0A3.472597386793078,3.472597386793078,0,1,1,3.472597386793078,0\" style=\"fill: none; stroke: rgb(174, 209, 231); stroke-width: 2; opacity: 0.7;\"></path><path transform=\"translate(28.636363636363637,114.13333333333333)\" d=\"M3.5903267183978667,0A3.5903267183978667,3.5903267183978667,0,1,1,-3.5903267183978667,0A3.5903267183978667,3.5903267183978667,0,1,1,3.5903267183978667,0\" style=\"fill: none; stroke: rgb(166, 205, 229); stroke-width: 2; opacity: 0.7;\"></path><path transform=\"translate(33.27272727272727,118.93333333333334)\" d=\"M3.6876313217514145,0A3.6876313217514145,3.6876313217514145,0,1,1,-3.6876313217514145,0A3.6876313217514145,3.6876313217514145,0,1,1,3.6876313217514145,0\" style=\"fill: none; stroke: rgb(158, 201, 226); stroke-width: 2; opacity: 0.7;\"></path><path transform=\"translate(34.63636363636364,116.93333333333334)\" d=\"M3.8039352552782653,0A3.8039352552782653,3.8039352552782653,0,1,1,-3.8039352552782653,0A3.8039352552782653,3.8039352552782653,0,1,1,3.8039352552782653,0\" style=\"fill: none; stroke: rgb(149, 196, 224); stroke-width: 2; opacity: 0.7;\"></path><path transform=\"translate(34.90909090909091,117.06666666666666)\" d=\"M3.9198333234119542,0A3.9198333234119542,3.9198333234119542,0,1,1,-3.9198333234119542,0A3.9198333234119542,3.9198333234119542,0,1,1,3.9198333234119542,0\" style=\"fill: none; stroke: rgb(140, 191, 221); stroke-width: 2; opacity: 0.7;\"></path><path transform=\"translate(38.18181818181819,119.66666666666667)\" d=\"M4.139509673177199,0A4.139509673177199,4.139509673177199,0,1,1,-4.139509673177199,0A4.139509673177199,4.139509673177199,0,1,1,4.139509673177199,0\" style=\"fill: none; stroke: rgb(131, 186, 219); stroke-width: 2; opacity: 0.7;\"></path><path transform=\"translate(39,118.60000000000001)\" d=\"M4.3214849865663885,0A4.3214849865663885,4.3214849865663885,0,1,1,-4.3214849865663885,0A4.3214849865663885,4.3214849865663885,0,1,1,4.3214849865663885,0\" style=\"fill: none; stroke: rgb(122, 181, 216); stroke-width: 2; opacity: 0.7;\"></path><path transform=\"translate(41.81818181818181,118.33333333333333)\" d=\"M4.471255619195449,0A4.471255619195449,4.471255619195449,0,1,1,-4.471255619195449,0A4.471255619195449,4.471255619195449,0,1,1,4.471255619195449,0\" style=\"fill: none; stroke: rgb(113, 176, 214); stroke-width: 2; opacity: 0.7;\"></path><path transform=\"translate(44.09090909090909,116.93333333333334)\" d=\"M4.6807883495335325,0A4.6807883495335325,4.6807883495335325,0,1,1,-4.6807883495335325,0A4.6807883495335325,4.6807883495335325,0,1,1,4.6807883495335325,0\" style=\"fill: none; stroke: rgb(104, 171, 211); stroke-width: 2; opacity: 0.7;\"></path><path transform=\"translate(45.27272727272727,115.13333333333333)\" d=\"M4.904509017000535,0A4.904509017000535,4.904509017000535,0,1,1,-4.904509017000535,0A4.904509017000535,4.904509017000535,0,1,1,4.904509017000535,0\" style=\"fill: none; stroke: rgb(95, 166, 208); stroke-width: 2; opacity: 0.7;\"></path><path transform=\"translate(49,112.46666666666665)\" d=\"M5.159106875826437,0A5.159106875826437,5.159106875826437,0,1,1,-5.159106875826437,0A5.159106875826437,5.159106875826437,0,1,1,5.159106875826437,0\" style=\"fill: none; stroke: rgb(87, 160, 205); stroke-width: 2; opacity: 0.7;\"></path><path transform=\"translate(51.18181818181819,112.73333333333333)\" d=\"M5.417163204803029,0A5.417163204803029,5.417163204803029,0,1,1,-5.417163204803029,0A5.417163204803029,5.417163204803029,0,1,1,5.417163204803029,0\" style=\"fill: none; stroke: rgb(80, 154, 202); stroke-width: 2; opacity: 0.7;\"></path><path transform=\"translate(53.36363636363637,111)\" d=\"M5.639185390018142,0A5.639185390018142,5.639185390018142,0,1,1,-5.639185390018142,0A5.639185390018142,5.639185390018142,0,1,1,5.639185390018142,0\" style=\"fill: none; stroke: rgb(72, 148, 199); stroke-width: 2; opacity: 0.7;\"></path><path transform=\"translate(55.81818181818182,111.46666666666665)\" d=\"M5.863318262885288,0A5.863318262885288,5.863318262885288,0,1,1,-5.863318262885288,0A5.863318262885288,5.863318262885288,0,1,1,5.863318262885288,0\" style=\"fill: none; stroke: rgb(65, 142, 196); stroke-width: 2; opacity: 0.7;\"></path><path transform=\"translate(62.090909090909086,110.66666666666667)\" d=\"M6.018021531916568,0A6.018021531916568,6.018021531916568,0,1,1,-6.018021531916568,0A6.018021531916568,6.018021531916568,0,1,1,6.018021531916568,0\" style=\"fill: none; stroke: rgb(58, 137, 193); stroke-width: 2; opacity: 0.7;\"></path><path transform=\"translate(75,113.33333333333333)\" d=\"M6.191378082034646,0A6.191378082034646,6.191378082034646,0,1,1,-6.191378082034646,0A6.191378082034646,6.191378082034646,0,1,1,6.191378082034646,0\" style=\"fill: none; stroke: rgb(51, 131, 190); stroke-width: 2; opacity: 0.7;\"></path><path transform=\"translate(81.0909090909091,115.26666666666668)\" d=\"M6.480232452407273,0A6.480232452407273,6.480232452407273,0,1,1,-6.480232452407273,0A6.480232452407273,6.480232452407273,0,1,1,6.480232452407273,0\" style=\"fill: none; stroke: rgb(45, 125, 186); stroke-width: 2; opacity: 0.7;\"></path><path transform=\"translate(83.81818181818183,115.53333333333333)\" d=\"M6.632843627316633,0A6.632843627316633,6.632843627316633,0,1,1,-6.632843627316633,0A6.632843627316633,6.632843627316633,0,1,1,6.632843627316633,0\" style=\"fill: none; stroke: rgb(39, 118, 183); stroke-width: 2; opacity: 0.7;\"></path><path transform=\"translate(89.18181818181817,115.8)\" d=\"M6.797842105999172,0A6.797842105999172,6.797842105999172,0,1,1,-6.797842105999172,0A6.797842105999172,6.797842105999172,0,1,1,6.797842105999172,0\" style=\"fill: none; stroke: rgb(33, 112, 179); stroke-width: 2; opacity: 0.7;\"></path><path transform=\"translate(92.9090909090909,116.93333333333334)\" d=\"M6.953210003955403,0A6.953210003955403,6.953210003955403,0,1,1,-6.953210003955403,0A6.953210003955403,6.953210003955403,0,1,1,6.953210003955403,0\" style=\"fill: none; stroke: rgb(28, 106, 174); stroke-width: 2; opacity: 0.7;\"></path><path transform=\"translate(98.54545454545455,118.39999999999999)\" d=\"M7.201953262592556,0A7.201953262592556,7.201953262592556,0,1,1,-7.201953262592556,0A7.201953262592556,7.201953262592556,0,1,1,7.201953262592556,0\" style=\"fill: none; stroke: rgb(23, 99, 169); stroke-width: 2; opacity: 0.7;\"></path><path transform=\"translate(109.54545454545455,120.93333333333334)\" d=\"M7.398319727055548,0A7.398319727055548,7.398319727055548,0,1,1,-7.398319727055548,0A7.398319727055548,7.398319727055548,0,1,1,7.398319727055548,0\" style=\"fill: none; stroke: rgb(18, 93, 164); stroke-width: 2; opacity: 0.7;\"></path><path transform=\"translate(123.0909090909091,123)\" d=\"M7.666010353754262,0A7.666010353754262,7.666010353754262,0,1,1,-7.666010353754262,0A7.666010353754262,7.666010353754262,0,1,1,7.666010353754262,0\" style=\"fill: none; stroke: rgb(16, 86, 158); stroke-width: 2; opacity: 0.7;\"></path><path transform=\"translate(127.0909090909091,124.53333333333333)\" d=\"M7.760078460744505,0A7.760078460744505,7.760078460744505,0,1,1,-7.760078460744505,0A7.760078460744505,7.760078460744505,0,1,1,7.760078460744505,0\" style=\"fill: none; stroke: rgb(13, 80, 151); stroke-width: 2; opacity: 0.7;\"></path><path transform=\"translate(145.0909090909091,125.13333333333333)\" d=\"M7.999089155697289,0A7.999089155697289,7.999089155697289,0,1,1,-7.999089155697289,0A7.999089155697289,7.999089155697289,0,1,1,7.999089155697289,0\" style=\"fill: none; stroke: rgb(10, 74, 144); stroke-width: 2; opacity: 0.7;\"></path><path transform=\"translate(25.818181818181817,124.4)\" d=\"M2.6456739888139835,0A2.6456739888139835,2.6456739888139835,0,1,1,-2.6456739888139835,0A2.6456739888139835,2.6456739888139835,0,1,1,2.6456739888139835,0\" style=\"fill: none; stroke: rgb(207, 225, 242); stroke-width: 2; opacity: 0.7;\"></path><path transform=\"translate(26.181818181818183,125.66666666666667)\" d=\"M2.7471682312101957,0A2.7471682312101957,2.7471682312101957,0,1,1,-2.7471682312101957,0A2.7471682312101957,2.7471682312101957,0,1,1,2.7471682312101957,0\" style=\"fill: none; stroke: rgb(201, 222, 240); stroke-width: 2; opacity: 0.7;\"></path><path transform=\"translate(26.181818181818183,122.93333333333334)\" d=\"M2.8562561037820875,0A2.8562561037820875,2.8562561037820875,0,1,1,-2.8562561037820875,0A2.8562561037820875,2.8562561037820875,0,1,1,2.8562561037820875,0\" style=\"fill: none; stroke: rgb(195, 219, 238); stroke-width: 2; opacity: 0.7;\"></path><path transform=\"translate(27.636363636363637,122.73333333333333)\" d=\"M2.934221627580286,0A2.934221627580286,2.934221627580286,0,1,1,-2.934221627580286,0A2.934221627580286,2.934221627580286,0,1,1,2.934221627580286,0\" style=\"fill: none; stroke: rgb(189, 216, 236); stroke-width: 2; opacity: 0.7;\"></path><path transform=\"translate(27.90909090909091,121.39999999999999)\" d=\"M3.0398845703150785,0A3.0398845703150785,3.0398845703150785,0,1,1,-3.0398845703150785,0A3.0398845703150785,3.0398845703150785,0,1,1,3.0398845703150785,0\" style=\"fill: none; stroke: rgb(182, 212, 233); stroke-width: 2; opacity: 0.7;\"></path><path transform=\"translate(28.363636363636363,124.66666666666667)\" d=\"M3.1572178651521137,0A3.1572178651521137,3.1572178651521137,0,1,1,-3.1572178651521137,0A3.1572178651521137,3.1572178651521137,0,1,1,3.1572178651521137,0\" style=\"fill: none; stroke: rgb(174, 209, 231); stroke-width: 2; opacity: 0.7;\"></path><path transform=\"translate(33.54545454545455,127.53333333333333)\" d=\"M3.250739098566101,0A3.250739098566101,3.250739098566101,0,1,1,-3.250739098566101,0A3.250739098566101,3.250739098566101,0,1,1,3.250739098566101,0\" style=\"fill: none; stroke: rgb(166, 205, 229); stroke-width: 2; opacity: 0.7;\"></path><path transform=\"translate(34.90909090909091,127.73333333333333)\" d=\"M3.4020721850859252,0A3.4020721850859252,3.4020721850859252,0,1,1,-3.4020721850859252,0A3.4020721850859252,3.4020721850859252,0,1,1,3.4020721850859252,0\" style=\"fill: none; stroke: rgb(158, 201, 226); stroke-width: 2; opacity: 0.7;\"></path><path transform=\"translate(36.18181818181818,123.06666666666666)\" d=\"M3.4993269061536574,0A3.4993269061536574,3.4993269061536574,0,1,1,-3.4993269061536574,0A3.4993269061536574,3.4993269061536574,0,1,1,3.4993269061536574,0\" style=\"fill: none; stroke: rgb(149, 196, 224); stroke-width: 2; opacity: 0.7;\"></path><path transform=\"translate(36.18181818181818,118.86666666666666)\" d=\"M3.6011692605532373,0A3.6011692605532373,3.6011692605532373,0,1,1,-3.6011692605532373,0A3.6011692605532373,3.6011692605532373,0,1,1,3.6011692605532373,0\" style=\"fill: none; stroke: rgb(140, 191, 221); stroke-width: 2; opacity: 0.7;\"></path><path transform=\"translate(36.72727272727273,117.26666666666668)\" d=\"M3.864977848689441,0A3.864977848689441,3.864977848689441,0,1,1,-3.864977848689441,0A3.864977848689441,3.864977848689441,0,1,1,3.864977848689441,0\" style=\"fill: none; stroke: rgb(131, 186, 219); stroke-width: 2; opacity: 0.7;\"></path><path transform=\"translate(37.27272727272727,113)\" d=\"M4.033912574375473,0A4.033912574375473,4.033912574375473,0,1,1,-4.033912574375473,0A4.033912574375473,4.033912574375473,0,1,1,4.033912574375473,0\" style=\"fill: none; stroke: rgb(122, 181, 216); stroke-width: 2; opacity: 0.7;\"></path><path transform=\"translate(39.63636363636363,111.4)\" d=\"M4.249506462392606,0A4.249506462392606,4.249506462392606,0,1,1,-4.249506462392606,0A4.249506462392606,4.249506462392606,0,1,1,4.249506462392606,0\" style=\"fill: none; stroke: rgb(113, 176, 214); stroke-width: 2; opacity: 0.7;\"></path><path transform=\"translate(42.18181818181818,107.60000000000001)\" d=\"M4.443453576155355,0A4.443453576155355,4.443453576155355,0,1,1,-4.443453576155355,0A4.443453576155355,4.443453576155355,0,1,1,4.443453576155355,0\" style=\"fill: none; stroke: rgb(104, 171, 211); stroke-width: 2; opacity: 0.7;\"></path><path transform=\"translate(43.54545454545454,106.39999999999999)\" d=\"M4.659819032059664,0A4.659819032059664,4.659819032059664,0,1,1,-4.659819032059664,0A4.659819032059664,4.659819032059664,0,1,1,4.659819032059664,0\" style=\"fill: none; stroke: rgb(95, 166, 208); stroke-width: 2; opacity: 0.7;\"></path><path transform=\"translate(48.27272727272727,104.26666666666668)\" d=\"M4.943545285363906,0A4.943545285363906,4.943545285363906,0,1,1,-4.943545285363906,0A4.943545285363906,4.943545285363906,0,1,1,4.943545285363906,0\" style=\"fill: none; stroke: rgb(87, 160, 205); stroke-width: 2; opacity: 0.7;\"></path><path transform=\"translate(50.45454545454545,105.60000000000001)\" d=\"M5.274710855432502,0A5.274710855432502,5.274710855432502,0,1,1,-5.274710855432502,0A5.274710855432502,5.274710855432502,0,1,1,5.274710855432502,0\" style=\"fill: none; stroke: rgb(80, 154, 202); stroke-width: 2; opacity: 0.7;\"></path><path transform=\"translate(57.18181818181818,105.60000000000001)\" d=\"M5.555081170053038,0A5.555081170053038,5.555081170053038,0,1,1,-5.555081170053038,0A5.555081170053038,5.555081170053038,0,1,1,5.555081170053038,0\" style=\"fill: none; stroke: rgb(72, 148, 199); stroke-width: 2; opacity: 0.7;\"></path><path transform=\"translate(59.81818181818181,104.2)\" d=\"M5.875587242501348,0A5.875587242501348,5.875587242501348,0,1,1,-5.875587242501348,0A5.875587242501348,5.875587242501348,0,1,1,5.875587242501348,0\" style=\"fill: none; stroke: rgb(65, 142, 196); stroke-width: 2; opacity: 0.7;\"></path><path transform=\"translate(65.18181818181819,102)\" d=\"M6.056066246684221,0A6.056066246684221,6.056066246684221,0,1,1,-6.056066246684221,0A6.056066246684221,6.056066246684221,0,1,1,6.056066246684221,0\" style=\"fill: none; stroke: rgb(58, 137, 193); stroke-width: 2; opacity: 0.7;\"></path><path transform=\"translate(76.27272727272728,106.66666666666667)\" d=\"M6.112864142861465,0A6.112864142861465,6.112864142861465,0,1,1,-6.112864142861465,0A6.112864142861465,6.112864142861465,0,1,1,6.112864142861465,0\" style=\"fill: none; stroke: rgb(51, 131, 190); stroke-width: 2; opacity: 0.7;\"></path><path transform=\"translate(84.81818181818181,114.60000000000001)\" d=\"M6.263295566370489,0A6.263295566370489,6.263295566370489,0,1,1,-6.263295566370489,0A6.263295566370489,6.263295566370489,0,1,1,6.263295566370489,0\" style=\"fill: none; stroke: rgb(45, 125, 186); stroke-width: 2; opacity: 0.7;\"></path><path transform=\"translate(86.45454545454545,117.19999999999999)\" d=\"M6.24572936780994,0A6.24572936780994,6.24572936780994,0,1,1,-6.24572936780994,0A6.24572936780994,6.24572936780994,0,1,1,6.24572936780994,0\" style=\"fill: none; stroke: rgb(39, 118, 183); stroke-width: 2; opacity: 0.7;\"></path><path transform=\"translate(95.09090909090908,120.06666666666666)\" d=\"M6.303670500898805,0A6.303670500898805,6.303670500898805,0,1,1,-6.303670500898805,0A6.303670500898805,6.303670500898805,0,1,1,6.303670500898805,0\" style=\"fill: none; stroke: rgb(33, 112, 179); stroke-width: 2; opacity: 0.7;\"></path><path transform=\"translate(104,124.6)\" d=\"M6.365478853373285,0A6.365478853373285,6.365478853373285,0,1,1,-6.365478853373285,0A6.365478853373285,6.365478853373285,0,1,1,6.365478853373285,0\" style=\"fill: none; stroke: rgb(28, 106, 174); stroke-width: 2; opacity: 0.7;\"></path><path transform=\"translate(111.45454545454545,130.93333333333334)\" d=\"M6.546183467151796,0A6.546183467151796,6.546183467151796,0,1,1,-6.546183467151796,0A6.546183467151796,6.546183467151796,0,1,1,6.546183467151796,0\" style=\"fill: none; stroke: rgb(23, 99, 169); stroke-width: 2; opacity: 0.7;\"></path><path transform=\"translate(121.27272727272728,135)\" d=\"M6.733217043396772,0A6.733217043396772,6.733217043396772,0,1,1,-6.733217043396772,0A6.733217043396772,6.733217043396772,0,1,1,6.733217043396772,0\" style=\"fill: none; stroke: rgb(18, 93, 164); stroke-width: 2; opacity: 0.7;\"></path><path transform=\"translate(132.8181818181818,141.06666666666666)\" d=\"M7.0143142627472646,0A7.0143142627472646,7.0143142627472646,0,1,1,-7.0143142627472646,0A7.0143142627472646,7.0143142627472646,0,1,1,7.0143142627472646,0\" style=\"fill: none; stroke: rgb(16, 86, 158); stroke-width: 2; opacity: 0.7;\"></path><path transform=\"translate(135.54545454545456,141.46666666666667)\" d=\"M7.117276085581566,0A7.117276085581566,7.117276085581566,0,1,1,-7.117276085581566,0A7.117276085581566,7.117276085581566,0,1,1,7.117276085581566,0\" style=\"fill: none; stroke: rgb(13, 80, 151); stroke-width: 2; opacity: 0.7;\"></path><path transform=\"translate(155.09090909090907,142.46666666666667)\" d=\"M7.490267008101114,0A7.490267008101114,7.490267008101114,0,1,1,-7.490267008101114,0A7.490267008101114,7.490267008101114,0,1,1,7.490267008101114,0\" style=\"fill: none; stroke: rgb(10, 74, 144); stroke-width: 2; opacity: 0.7;\"></path><path transform=\"translate(24.363636363636367,114.46666666666665)\" d=\"M2.925647695059536,0A2.925647695059536,2.925647695059536,0,1,1,-2.925647695059536,0A2.925647695059536,2.925647695059536,0,1,1,2.925647695059536,0\" style=\"fill: none; stroke: rgb(207, 225, 242); stroke-width: 2; opacity: 0.7;\"></path><path transform=\"translate(27,121.73333333333332)\" d=\"M3.028190018050701,0A3.028190018050701,3.028190018050701,0,1,1,-3.028190018050701,0A3.028190018050701,3.028190018050701,0,1,1,3.028190018050701,0\" style=\"fill: none; stroke: rgb(201, 222, 240); stroke-width: 2; opacity: 0.7;\"></path><path transform=\"translate(27.090909090909093,119.73333333333332)\" d=\"M3.1170120687607348,0A3.1170120687607348,3.1170120687607348,0,1,1,-3.1170120687607348,0A3.1170120687607348,3.1170120687607348,0,1,1,3.1170120687607348,0\" style=\"fill: none; stroke: rgb(195, 219, 238); stroke-width: 2; opacity: 0.7;\"></path><path transform=\"translate(27.090909090909093,118.06666666666666)\" d=\"M3.2228764020736924,0A3.2228764020736924,3.2228764020736924,0,1,1,-3.2228764020736924,0A3.2228764020736924,3.2228764020736924,0,1,1,3.2228764020736924,0\" style=\"fill: none; stroke: rgb(189, 216, 236); stroke-width: 2; opacity: 0.7;\"></path><path transform=\"translate(27.363636363636363,116.33333333333333)\" d=\"M3.331445959395061,0A3.331445959395061,3.331445959395061,0,1,1,-3.331445959395061,0A3.331445959395061,3.331445959395061,0,1,1,3.331445959395061,0\" style=\"fill: none; stroke: rgb(182, 212, 233); stroke-width: 2; opacity: 0.7;\"></path><path transform=\"translate(33.090909090909086,121.93333333333334)\" d=\"M3.444812998361624,0A3.444812998361624,3.444812998361624,0,1,1,-3.444812998361624,0A3.444812998361624,3.444812998361624,0,1,1,3.444812998361624,0\" style=\"fill: none; stroke: rgb(174, 209, 231); stroke-width: 2; opacity: 0.7;\"></path><path transform=\"translate(33.18181818181819,123.53333333333333)\" d=\"M3.568189646594033,0A3.568189646594033,3.568189646594033,0,1,1,-3.568189646594033,0A3.568189646594033,3.568189646594033,0,1,1,3.568189646594033,0\" style=\"fill: none; stroke: rgb(166, 205, 229); stroke-width: 2; opacity: 0.7;\"></path><path transform=\"translate(34.90909090909091,128.46666666666667)\" d=\"M3.6972956838958515,0A3.6972956838958515,3.6972956838958515,0,1,1,-3.6972956838958515,0A3.6972956838958515,3.6972956838958515,0,1,1,3.6972956838958515,0\" style=\"fill: none; stroke: rgb(158, 201, 226); stroke-width: 2; opacity: 0.7;\"></path><path transform=\"translate(40.63636363636364,129.13333333333333)\" d=\"M3.805079709881152,0A3.805079709881152,3.805079709881152,0,1,1,-3.805079709881152,0A3.805079709881152,3.805079709881152,0,1,1,3.805079709881152,0\" style=\"fill: none; stroke: rgb(149, 196, 224); stroke-width: 2; opacity: 0.7;\"></path><path transform=\"translate(40.63636363636364,127.33333333333333)\" d=\"M3.920220841419568,0A3.920220841419568,3.920220841419568,0,1,1,-3.920220841419568,0A3.920220841419568,3.920220841419568,0,1,1,3.920220841419568,0\" style=\"fill: none; stroke: rgb(140, 191, 221); stroke-width: 2; opacity: 0.7;\"></path><path transform=\"translate(40.81818181818181,126.2)\" d=\"M4.12917604278801,0A4.12917604278801,4.12917604278801,0,1,1,-4.12917604278801,0A4.12917604278801,4.12917604278801,0,1,1,4.12917604278801,0\" style=\"fill: none; stroke: rgb(131, 186, 219); stroke-width: 2; opacity: 0.7;\"></path><path transform=\"translate(42.36363636363637,123.86666666666667)\" d=\"M4.322913733451097,0A4.322913733451097,4.322913733451097,0,1,1,-4.322913733451097,0A4.322913733451097,4.322913733451097,0,1,1,4.322913733451097,0\" style=\"fill: none; stroke: rgb(122, 181, 216); stroke-width: 2; opacity: 0.7;\"></path><path transform=\"translate(45.27272727272727,123.6)\" d=\"M4.52176590891494,0A4.52176590891494,4.52176590891494,0,1,1,-4.52176590891494,0A4.52176590891494,4.52176590891494,0,1,1,4.52176590891494,0\" style=\"fill: none; stroke: rgb(113, 176, 214); stroke-width: 2; opacity: 0.7;\"></path><path transform=\"translate(47.54545454545454,120.80000000000001)\" d=\"M4.713521005243051,0A4.713521005243051,4.713521005243051,0,1,1,-4.713521005243051,0A4.713521005243051,4.713521005243051,0,1,1,4.713521005243051,0\" style=\"fill: none; stroke: rgb(104, 171, 211); stroke-width: 2; opacity: 0.7;\"></path><path transform=\"translate(48.45454545454545,119.93333333333334)\" d=\"M4.907670521234636,0A4.907670521234636,4.907670521234636,0,1,1,-4.907670521234636,0A4.907670521234636,4.907670521234636,0,1,1,4.907670521234636,0\" style=\"fill: none; stroke: rgb(95, 166, 208); stroke-width: 2; opacity: 0.7;\"></path><path transform=\"translate(52.18181818181819,118.46666666666667)\" d=\"M5.135136539488802,0A5.135136539488802,5.135136539488802,0,1,1,-5.135136539488802,0A5.135136539488802,5.135136539488802,0,1,1,5.135136539488802,0\" style=\"fill: none; stroke: rgb(87, 160, 205); stroke-width: 2; opacity: 0.7;\"></path><path transform=\"translate(55.09090909090909,118.26666666666668)\" d=\"M5.410045114787845,0A5.410045114787845,5.410045114787845,0,1,1,-5.410045114787845,0A5.410045114787845,5.410045114787845,0,1,1,5.410045114787845,0\" style=\"fill: none; stroke: rgb(80, 154, 202); stroke-width: 2; opacity: 0.7;\"></path><path transform=\"translate(55.72727272727273,117.33333333333333)\" d=\"M5.674138813625604,0A5.674138813625604,5.674138813625604,0,1,1,-5.674138813625604,0A5.674138813625604,5.674138813625604,0,1,1,5.674138813625604,0\" style=\"fill: none; stroke: rgb(72, 148, 199); stroke-width: 2; opacity: 0.7;\"></path><path transform=\"translate(58.909090909090914,116.53333333333333)\" d=\"M5.944867213794113,0A5.944867213794113,5.944867213794113,0,1,1,-5.944867213794113,0A5.944867213794113,5.944867213794113,0,1,1,5.944867213794113,0\" style=\"fill: none; stroke: rgb(65, 142, 196); stroke-width: 2; opacity: 0.7;\"></path><path transform=\"translate(63.45454545454545,117.80000000000001)\" d=\"M6.13300203653683,0A6.13300203653683,6.13300203653683,0,1,1,-6.13300203653683,0A6.13300203653683,6.13300203653683,0,1,1,6.13300203653683,0\" style=\"fill: none; stroke: rgb(58, 137, 193); stroke-width: 2; opacity: 0.7;\"></path><path transform=\"translate(74.27272727272728,116.46666666666667)\" d=\"M6.301114077578798,0A6.301114077578798,6.301114077578798,0,1,1,-6.301114077578798,0A6.301114077578798,6.301114077578798,0,1,1,6.301114077578798,0\" style=\"fill: none; stroke: rgb(51, 131, 190); stroke-width: 2; opacity: 0.7;\"></path><path transform=\"translate(88.81818181818181,123.13333333333334)\" d=\"M6.512213662784981,0A6.512213662784981,6.512213662784981,0,1,1,-6.512213662784981,0A6.512213662784981,6.512213662784981,0,1,1,6.512213662784981,0\" style=\"fill: none; stroke: rgb(45, 125, 186); stroke-width: 2; opacity: 0.7;\"></path><path transform=\"translate(90.99999999999999,122.8)\" d=\"M6.716079853719941,0A6.716079853719941,6.716079853719941,0,1,1,-6.716079853719941,0A6.716079853719941,6.716079853719941,0,1,1,6.716079853719941,0\" style=\"fill: none; stroke: rgb(39, 118, 183); stroke-width: 2; opacity: 0.7;\"></path><path transform=\"translate(95.36363636363637,124.06666666666666)\" d=\"M6.906038265130617,0A6.906038265130617,6.906038265130617,0,1,1,-6.906038265130617,0A6.906038265130617,6.906038265130617,0,1,1,6.906038265130617,0\" style=\"fill: none; stroke: rgb(33, 112, 179); stroke-width: 2; opacity: 0.7;\"></path><path transform=\"translate(100,132.93333333333334)\" d=\"M7.106288216592343,0A7.106288216592343,7.106288216592343,0,1,1,-7.106288216592343,0A7.106288216592343,7.106288216592343,0,1,1,7.106288216592343,0\" style=\"fill: none; stroke: rgb(28, 106, 174); stroke-width: 2; opacity: 0.7;\"></path><path transform=\"translate(102.0909090909091,128.26666666666668)\" d=\"M7.371042526034107,0A7.371042526034107,7.371042526034107,0,1,1,-7.371042526034107,0A7.371042526034107,7.371042526034107,0,1,1,7.371042526034107,0\" style=\"fill: none; stroke: rgb(23, 99, 169); stroke-width: 2; opacity: 0.7;\"></path><path transform=\"translate(111.63636363636364,128.60000000000002)\" d=\"M7.611221346633474,0A7.611221346633474,7.611221346633474,0,1,1,-7.611221346633474,0A7.611221346633474,7.611221346633474,0,1,1,7.611221346633474,0\" style=\"fill: none; stroke: rgb(18, 93, 164); stroke-width: 2; opacity: 0.7;\"></path><path transform=\"translate(121.54545454545453,132.46666666666667)\" d=\"M7.944381725814835,0A7.944381725814835,7.944381725814835,0,1,1,-7.944381725814835,0A7.944381725814835,7.944381725814835,0,1,1,7.944381725814835,0\" style=\"fill: none; stroke: rgb(16, 86, 158); stroke-width: 2; opacity: 0.7;\"></path><path transform=\"translate(131,131.66666666666669)\" d=\"M8.059978877942028,0A8.059978877942028,8.059978877942028,0,1,1,-8.059978877942028,0A8.059978877942028,8.059978877942028,0,1,1,8.059978877942028,0\" style=\"fill: none; stroke: rgb(13, 80, 151); stroke-width: 2; opacity: 0.7;\"></path><path transform=\"translate(160.1818181818182,135.86666666666667)\" d=\"M8.310610289914305,0A8.310610289914305,8.310610289914305,0,1,1,-8.310610289914305,0A8.310610289914305,8.310610289914305,0,1,1,8.310610289914305,0\" style=\"fill: none; stroke: rgb(10, 74, 144); stroke-width: 2; opacity: 0.7;\"></path><path transform=\"translate(24.545454545454547,103.60000000000001)\" d=\"M2.9518422679099405,0A2.9518422679099405,2.9518422679099405,0,1,1,-2.9518422679099405,0A2.9518422679099405,2.9518422679099405,0,1,1,2.9518422679099405,0\" style=\"fill: none; stroke: rgb(207, 225, 242); stroke-width: 2; opacity: 0.7;\"></path><path transform=\"translate(24.81818181818182,106.46666666666665)\" d=\"M3.0405785849244253,0A3.0405785849244253,3.0405785849244253,0,1,1,-3.0405785849244253,0A3.0405785849244253,3.0405785849244253,0,1,1,3.0405785849244253,0\" style=\"fill: none; stroke: rgb(201, 222, 240); stroke-width: 2; opacity: 0.7;\"></path><path transform=\"translate(27.090909090909093,111.20000000000002)\" d=\"M3.1358030426607897,0A3.1358030426607897,3.1358030426607897,0,1,1,-3.1358030426607897,0A3.1358030426607897,3.1358030426607897,0,1,1,3.1358030426607897,0\" style=\"fill: none; stroke: rgb(195, 219, 238); stroke-width: 2; opacity: 0.7;\"></path><path transform=\"translate(27.27272727272727,106.53333333333333)\" d=\"M3.2549383084881316,0A3.2549383084881316,3.2549383084881316,0,1,1,-3.2549383084881316,0A3.2549383084881316,3.2549383084881316,0,1,1,3.2549383084881316,0\" style=\"fill: none; stroke: rgb(189, 216, 236); stroke-width: 2; opacity: 0.7;\"></path><path transform=\"translate(28.18181818181818,103.66666666666666)\" d=\"M3.371059597454777,0A3.371059597454777,3.371059597454777,0,1,1,-3.371059597454777,0A3.371059597454777,3.371059597454777,0,1,1,3.371059597454777,0\" style=\"fill: none; stroke: rgb(182, 212, 233); stroke-width: 2; opacity: 0.7;\"></path><path transform=\"translate(29.18181818181818,104.73333333333333)\" d=\"M3.4694064698755978,0A3.4694064698755978,3.4694064698755978,0,1,1,-3.4694064698755978,0A3.4694064698755978,3.4694064698755978,0,1,1,3.4694064698755978,0\" style=\"fill: none; stroke: rgb(174, 209, 231); stroke-width: 2; opacity: 0.7;\"></path><path transform=\"translate(34.90909090909091,121.46666666666667)\" d=\"M3.5740696243135983,0A3.5740696243135983,3.5740696243135983,0,1,1,-3.5740696243135983,0A3.5740696243135983,3.5740696243135983,0,1,1,3.5740696243135983,0\" style=\"fill: none; stroke: rgb(166, 205, 229); stroke-width: 2; opacity: 0.7;\"></path><path transform=\"translate(35.72727272727273,117.39999999999999)\" d=\"M3.703050742416767,0A3.703050742416767,3.703050742416767,0,1,1,-3.703050742416767,0A3.703050742416767,3.703050742416767,0,1,1,3.703050742416767,0\" style=\"fill: none; stroke: rgb(158, 201, 226); stroke-width: 2; opacity: 0.7;\"></path><path transform=\"translate(36.54545454545455,117.86666666666666)\" d=\"M3.7832277904068623,0A3.7832277904068623,3.7832277904068623,0,1,1,-3.7832277904068623,0A3.7832277904068623,3.7832277904068623,0,1,1,3.7832277904068623,0\" style=\"fill: none; stroke: rgb(149, 196, 224); stroke-width: 2; opacity: 0.7;\"></path><path transform=\"translate(37.81818181818182,110.39999999999999)\" d=\"M3.908915738866069,0A3.908915738866069,3.908915738866069,0,1,1,-3.908915738866069,0A3.908915738866069,3.908915738866069,0,1,1,3.908915738866069,0\" style=\"fill: none; stroke: rgb(140, 191, 221); stroke-width: 2; opacity: 0.7;\"></path><path transform=\"translate(36.90909090909091,105.33333333333333)\" d=\"M4.059070005042215,0A4.059070005042215,4.059070005042215,0,1,1,-4.059070005042215,0A4.059070005042215,4.059070005042215,0,1,1,4.059070005042215,0\" style=\"fill: none; stroke: rgb(131, 186, 219); stroke-width: 2; opacity: 0.7;\"></path><path transform=\"translate(37.54545454545454,102.60000000000001)\" d=\"M4.241071742296451,0A4.241071742296451,4.241071742296451,0,1,1,-4.241071742296451,0A4.241071742296451,4.241071742296451,0,1,1,4.241071742296451,0\" style=\"fill: none; stroke: rgb(122, 181, 216); stroke-width: 2; opacity: 0.7;\"></path><path transform=\"translate(40.27272727272727,96.86666666666667)\" d=\"M4.451468440828058,0A4.451468440828058,4.451468440828058,0,1,1,-4.451468440828058,0A4.451468440828058,4.451468440828058,0,1,1,4.451468440828058,0\" style=\"fill: none; stroke: rgb(113, 176, 214); stroke-width: 2; opacity: 0.7;\"></path><path transform=\"translate(47.45454545454545,99.86666666666667)\" d=\"M4.630227420668233,0A4.630227420668233,4.630227420668233,0,1,1,-4.630227420668233,0A4.630227420668233,4.630227420668233,0,1,1,4.630227420668233,0\" style=\"fill: none; stroke: rgb(104, 171, 211); stroke-width: 2; opacity: 0.7;\"></path><path transform=\"translate(47.54545454545454,100.79999999999998)\" d=\"M4.839521250307177,0A4.839521250307177,4.839521250307177,0,1,1,-4.839521250307177,0A4.839521250307177,4.839521250307177,0,1,1,4.839521250307177,0\" style=\"fill: none; stroke: rgb(95, 166, 208); stroke-width: 2; opacity: 0.7;\"></path><path transform=\"translate(51.18181818181819,102.13333333333333)\" d=\"M5.060073575875106,0A5.060073575875106,5.060073575875106,0,1,1,-5.060073575875106,0A5.060073575875106,5.060073575875106,0,1,1,5.060073575875106,0\" style=\"fill: none; stroke: rgb(87, 160, 205); stroke-width: 2; opacity: 0.7;\"></path><path transform=\"translate(53.36363636363637,102.8)\" d=\"M5.3109955885209414,0A5.3109955885209414,5.3109955885209414,0,1,1,-5.3109955885209414,0A5.3109955885209414,5.3109955885209414,0,1,1,5.3109955885209414,0\" style=\"fill: none; stroke: rgb(80, 154, 202); stroke-width: 2; opacity: 0.7;\"></path><path transform=\"translate(54.54545454545454,100.46666666666665)\" d=\"M5.605472016203052,0A5.605472016203052,5.605472016203052,0,1,1,-5.605472016203052,0A5.605472016203052,5.605472016203052,0,1,1,5.605472016203052,0\" style=\"fill: none; stroke: rgb(72, 148, 199); stroke-width: 2; opacity: 0.7;\"></path><path transform=\"translate(58.63636363636363,99.2)\" d=\"M5.873927354664433,0A5.873927354664433,5.873927354664433,0,1,1,-5.873927354664433,0A5.873927354664433,5.873927354664433,0,1,1,5.873927354664433,0\" style=\"fill: none; stroke: rgb(65, 142, 196); stroke-width: 2; opacity: 0.7;\"></path><path transform=\"translate(65.0909090909091,102.46666666666667)\" d=\"M6.081819569226031,0A6.081819569226031,6.081819569226031,0,1,1,-6.081819569226031,0A6.081819569226031,6.081819569226031,0,1,1,6.081819569226031,0\" style=\"fill: none; stroke: rgb(58, 137, 193); stroke-width: 2; opacity: 0.7;\"></path><path transform=\"translate(76.36363636363637,109.46666666666665)\" d=\"M6.3570942337890495,0A6.3570942337890495,6.3570942337890495,0,1,1,-6.3570942337890495,0A6.3570942337890495,6.3570942337890495,0,1,1,6.3570942337890495,0\" style=\"fill: none; stroke: rgb(51, 131, 190); stroke-width: 2; opacity: 0.7;\"></path><path transform=\"translate(86.18181818181819,108.73333333333332)\" d=\"M6.631572815929866,0A6.631572815929866,6.631572815929866,0,1,1,-6.631572815929866,0A6.631572815929866,6.631572815929866,0,1,1,6.631572815929866,0\" style=\"fill: none; stroke: rgb(45, 125, 186); stroke-width: 2; opacity: 0.7;\"></path><path transform=\"translate(91.18181818181817,111.06666666666666)\" d=\"M6.802494479327754,0A6.802494479327754,6.802494479327754,0,1,1,-6.802494479327754,0A6.802494479327754,6.802494479327754,0,1,1,6.802494479327754,0\" style=\"fill: none; stroke: rgb(39, 118, 183); stroke-width: 2; opacity: 0.7;\"></path><path transform=\"translate(92.54545454545455,109.13333333333333)\" d=\"M6.978179122393509,0A6.978179122393509,6.978179122393509,0,1,1,-6.978179122393509,0A6.978179122393509,6.978179122393509,0,1,1,6.978179122393509,0\" style=\"fill: none; stroke: rgb(33, 112, 179); stroke-width: 2; opacity: 0.7;\"></path><path transform=\"translate(103.18181818181817,117.06666666666666)\" d=\"M7.193362420728931,0A7.193362420728931,7.193362420728931,0,1,1,-7.193362420728931,0A7.193362420728931,7.193362420728931,0,1,1,7.193362420728931,0\" style=\"fill: none; stroke: rgb(28, 106, 174); stroke-width: 2; opacity: 0.7;\"></path><path transform=\"translate(110.45454545454545,108)\" d=\"M7.492355469596626,0A7.492355469596626,7.492355469596626,0,1,1,-7.492355469596626,0A7.492355469596626,7.492355469596626,0,1,1,7.492355469596626,0\" style=\"fill: none; stroke: rgb(23, 99, 169); stroke-width: 2; opacity: 0.7;\"></path><path transform=\"translate(122.54545454545456,119.46666666666667)\" d=\"M7.7077345998594495,0A7.7077345998594495,7.7077345998594495,0,1,1,-7.7077345998594495,0A7.7077345998594495,7.7077345998594495,0,1,1,7.7077345998594495,0\" style=\"fill: none; stroke: rgb(18, 93, 164); stroke-width: 2; opacity: 0.7;\"></path><path transform=\"translate(137.1818181818182,132.39999999999998)\" d=\"M7.878628532497903,0A7.878628532497903,7.878628532497903,0,1,1,-7.878628532497903,0A7.878628532497903,7.878628532497903,0,1,1,7.878628532497903,0\" style=\"fill: none; stroke: rgb(16, 86, 158); stroke-width: 2; opacity: 0.7;\"></path><path transform=\"translate(154.81818181818184,130.93333333333334)\" d=\"M7.916762733807922,0A7.916762733807922,7.916762733807922,0,1,1,-7.916762733807922,0A7.916762733807922,7.916762733807922,0,1,1,7.916762733807922,0\" style=\"fill: none; stroke: rgb(13, 80, 151); stroke-width: 2; opacity: 0.7;\"></path><path transform=\"translate(172.72727272727272,133.26666666666665)\" d=\"M8.358711969456369,0A8.358711969456369,8.358711969456369,0,1,1,-8.358711969456369,0A8.358711969456369,8.358711969456369,0,1,1,8.358711969456369,0\" style=\"fill: none; stroke: rgb(10, 74, 144); stroke-width: 2; opacity: 0.7;\"></path><path transform=\"translate(24.81818181818182,141.2)\" d=\"M2.420691801569599,0A2.420691801569599,2.420691801569599,0,1,1,-2.420691801569599,0A2.420691801569599,2.420691801569599,0,1,1,2.420691801569599,0\" style=\"fill: none; stroke: rgb(207, 225, 242); stroke-width: 2; opacity: 0.7;\"></path><path transform=\"translate(24.09090909090909,140.2)\" d=\"M2.516678274466075,0A2.516678274466075,2.516678274466075,0,1,1,-2.516678274466075,0A2.516678274466075,2.516678274466075,0,1,1,2.516678274466075,0\" style=\"fill: none; stroke: rgb(201, 222, 240); stroke-width: 2; opacity: 0.7;\"></path><path transform=\"translate(23.81818181818182,139.93333333333334)\" d=\"M2.6305980394155677,0A2.6305980394155677,2.6305980394155677,0,1,1,-2.6305980394155677,0A2.6305980394155677,2.6305980394155677,0,1,1,2.6305980394155677,0\" style=\"fill: none; stroke: rgb(195, 219, 238); stroke-width: 2; opacity: 0.7;\"></path><path transform=\"translate(23.81818181818182,137.73333333333332)\" d=\"M2.759503948842216,0A2.759503948842216,2.759503948842216,0,1,1,-2.759503948842216,0A2.759503948842216,2.759503948842216,0,1,1,2.759503948842216,0\" style=\"fill: none; stroke: rgb(189, 216, 236); stroke-width: 2; opacity: 0.7;\"></path><path transform=\"translate(24.81818181818182,136.6)\" d=\"M2.856759663823213,0A2.856759663823213,2.856759663823213,0,1,1,-2.856759663823213,0A2.856759663823213,2.856759663823213,0,1,1,2.856759663823213,0\" style=\"fill: none; stroke: rgb(182, 212, 233); stroke-width: 2; opacity: 0.7;\"></path><path transform=\"translate(26.81818181818182,136.2)\" d=\"M2.9792571495028835,0A2.9792571495028835,2.9792571495028835,0,1,1,-2.9792571495028835,0A2.9792571495028835,2.9792571495028835,0,1,1,2.9792571495028835,0\" style=\"fill: none; stroke: rgb(174, 209, 231); stroke-width: 2; opacity: 0.7;\"></path><path transform=\"translate(26.36363636363636,130.53333333333333)\" d=\"M3.1059778545414245,0A3.1059778545414245,3.1059778545414245,0,1,1,-3.1059778545414245,0A3.1059778545414245,3.1059778545414245,0,1,1,3.1059778545414245,0\" style=\"fill: none; stroke: rgb(166, 205, 229); stroke-width: 2; opacity: 0.7;\"></path><path transform=\"translate(29.545454545454547,130.93333333333334)\" d=\"M3.242624610094039,0A3.242624610094039,3.242624610094039,0,1,1,-3.242624610094039,0A3.242624610094039,3.242624610094039,0,1,1,3.242624610094039,0\" style=\"fill: none; stroke: rgb(158, 201, 226); stroke-width: 2; opacity: 0.7;\"></path><path transform=\"translate(31.181818181818176,123.33333333333333)\" d=\"M3.3468489367765955,0A3.3468489367765955,3.3468489367765955,0,1,1,-3.3468489367765955,0A3.3468489367765955,3.3468489367765955,0,1,1,3.3468489367765955,0\" style=\"fill: none; stroke: rgb(149, 196, 224); stroke-width: 2; opacity: 0.7;\"></path><path transform=\"translate(31,120.86666666666666)\" d=\"M3.4751901084360894,0A3.4751901084360894,3.4751901084360894,0,1,1,-3.4751901084360894,0A3.4751901084360894,3.4751901084360894,0,1,1,3.4751901084360894,0\" style=\"fill: none; stroke: rgb(140, 191, 221); stroke-width: 2; opacity: 0.7;\"></path><path transform=\"translate(30.454545454545457,116.33333333333333)\" d=\"M3.6860638370335193,0A3.6860638370335193,3.6860638370335193,0,1,1,-3.6860638370335193,0A3.6860638370335193,3.6860638370335193,0,1,1,3.6860638370335193,0\" style=\"fill: none; stroke: rgb(131, 186, 219); stroke-width: 2; opacity: 0.7;\"></path><path transform=\"translate(32,113.53333333333335)\" d=\"M3.867378598064301,0A3.867378598064301,3.867378598064301,0,1,1,-3.867378598064301,0A3.867378598064301,3.867378598064301,0,1,1,3.867378598064301,0\" style=\"fill: none; stroke: rgb(122, 181, 216); stroke-width: 2; opacity: 0.7;\"></path><path transform=\"translate(34.63636363636364,113)\" d=\"M4.012136589952706,0A4.012136589952706,4.012136589952706,0,1,1,-4.012136589952706,0A4.012136589952706,4.012136589952706,0,1,1,4.012136589952706,0\" style=\"fill: none; stroke: rgb(113, 176, 214); stroke-width: 2; opacity: 0.7;\"></path><path transform=\"translate(37.27272727272727,108.8)\" d=\"M4.180770199227792,0A4.180770199227792,4.180770199227792,0,1,1,-4.180770199227792,0A4.180770199227792,4.180770199227792,0,1,1,4.180770199227792,0\" style=\"fill: none; stroke: rgb(104, 171, 211); stroke-width: 2; opacity: 0.7;\"></path><path transform=\"translate(38.36363636363637,108.53333333333333)\" d=\"M4.354866486494937,0A4.354866486494937,4.354866486494937,0,1,1,-4.354866486494937,0A4.354866486494937,4.354866486494937,0,1,1,4.354866486494937,0\" style=\"fill: none; stroke: rgb(95, 166, 208); stroke-width: 2; opacity: 0.7;\"></path><path transform=\"translate(44.727272727272734,106.39999999999999)\" d=\"M4.564695762728338,0A4.564695762728338,4.564695762728338,0,1,1,-4.564695762728338,0A4.564695762728338,4.564695762728338,0,1,1,4.564695762728338,0\" style=\"fill: none; stroke: rgb(87, 160, 205); stroke-width: 2; opacity: 0.7;\"></path><path transform=\"translate(45.63636363636364,109.53333333333333)\" d=\"M4.771190688052139,0A4.771190688052139,4.771190688052139,0,1,1,-4.771190688052139,0A4.771190688052139,4.771190688052139,0,1,1,4.771190688052139,0\" style=\"fill: none; stroke: rgb(80, 154, 202); stroke-width: 2; opacity: 0.7;\"></path><path transform=\"translate(47.54545454545454,107.8)\" d=\"M4.982027161290994,0A4.982027161290994,4.982027161290994,0,1,1,-4.982027161290994,0A4.982027161290994,4.982027161290994,0,1,1,4.982027161290994,0\" style=\"fill: none; stroke: rgb(72, 148, 199); stroke-width: 2; opacity: 0.7;\"></path><path transform=\"translate(49.727272727272734,109.26666666666667)\" d=\"M5.2244254750640415,0A5.2244254750640415,5.2244254750640415,0,1,1,-5.2244254750640415,0A5.2244254750640415,5.2244254750640415,0,1,1,5.2244254750640415,0\" style=\"fill: none; stroke: rgb(65, 142, 196); stroke-width: 2; opacity: 0.7;\"></path><path transform=\"translate(56.27272727272727,109.33333333333334)\" d=\"M5.394994223723379,0A5.394994223723379,5.394994223723379,0,1,1,-5.394994223723379,0A5.394994223723379,5.394994223723379,0,1,1,5.394994223723379,0\" style=\"fill: none; stroke: rgb(58, 137, 193); stroke-width: 2; opacity: 0.7;\"></path><path transform=\"translate(65.81818181818181,112.6)\" d=\"M5.595614264191341,0A5.595614264191341,5.595614264191341,0,1,1,-5.595614264191341,0A5.595614264191341,5.595614264191341,0,1,1,5.595614264191341,0\" style=\"fill: none; stroke: rgb(51, 131, 190); stroke-width: 2; opacity: 0.7;\"></path><path transform=\"translate(73.9090909090909,115.33333333333333)\" d=\"M5.865101563664223,0A5.865101563664223,5.865101563664223,0,1,1,-5.865101563664223,0A5.865101563664223,5.865101563664223,0,1,1,5.865101563664223,0\" style=\"fill: none; stroke: rgb(45, 125, 186); stroke-width: 2; opacity: 0.7;\"></path><path transform=\"translate(75.45454545454545,116.39999999999999)\" d=\"M6.003839613639228,0A6.003839613639228,6.003839613639228,0,1,1,-6.003839613639228,0A6.003839613639228,6.003839613639228,0,1,1,6.003839613639228,0\" style=\"fill: none; stroke: rgb(39, 118, 183); stroke-width: 2; opacity: 0.7;\"></path><path transform=\"translate(80.63636363636364,115.60000000000001)\" d=\"M6.168485434328196,0A6.168485434328196,6.168485434328196,0,1,1,-6.168485434328196,0A6.168485434328196,6.168485434328196,0,1,1,6.168485434328196,0\" style=\"fill: none; stroke: rgb(33, 112, 179); stroke-width: 2; opacity: 0.7;\"></path><path transform=\"translate(86.63636363636364,115.60000000000001)\" d=\"M6.352602286412305,0A6.352602286412305,6.352602286412305,0,1,1,-6.352602286412305,0A6.352602286412305,6.352602286412305,0,1,1,6.352602286412305,0\" style=\"fill: none; stroke: rgb(28, 106, 174); stroke-width: 2; opacity: 0.7;\"></path><path transform=\"translate(90.81818181818181,117.06666666666666)\" d=\"M6.588469220593781,0A6.588469220593781,6.588469220593781,0,1,1,-6.588469220593781,0A6.588469220593781,6.588469220593781,0,1,1,6.588469220593781,0\" style=\"fill: none; stroke: rgb(23, 99, 169); stroke-width: 2; opacity: 0.7;\"></path><path transform=\"translate(101.72727272727273,118.39999999999999)\" d=\"M6.754676164135758,0A6.754676164135758,6.754676164135758,0,1,1,-6.754676164135758,0A6.754676164135758,6.754676164135758,0,1,1,6.754676164135758,0\" style=\"fill: none; stroke: rgb(18, 93, 164); stroke-width: 2; opacity: 0.7;\"></path><path transform=\"translate(113.81818181818181,120.93333333333334)\" d=\"M7.097740100612391,0A7.097740100612391,7.097740100612391,0,1,1,-7.097740100612391,0A7.097740100612391,7.097740100612391,0,1,1,7.097740100612391,0\" style=\"fill: none; stroke: rgb(16, 86, 158); stroke-width: 2; opacity: 0.7;\"></path><path transform=\"translate(117.27272727272727,119)\" d=\"M7.176109988258126,0A7.176109988258126,7.176109988258126,0,1,1,-7.176109988258126,0A7.176109988258126,7.176109988258126,0,1,1,7.176109988258126,0\" style=\"fill: none; stroke: rgb(13, 80, 151); stroke-width: 2; opacity: 0.7;\"></path><path transform=\"translate(138.0909090909091,118.73333333333332)\" d=\"M7.483475483000658,0A7.483475483000658,7.483475483000658,0,1,1,-7.483475483000658,0A7.483475483000658,7.483475483000658,0,1,1,7.483475483000658,0\" style=\"fill: none; stroke: rgb(10, 74, 144); stroke-width: 2; opacity: 0.7;\"></path><path transform=\"translate(24.181818181818183,129.33333333333331)\" d=\"M2.6392961090293836,0A2.6392961090293836,2.6392961090293836,0,1,1,-2.6392961090293836,0A2.6392961090293836,2.6392961090293836,0,1,1,2.6392961090293836,0\" style=\"fill: none; stroke: rgb(207, 225, 242); stroke-width: 2; opacity: 0.7;\"></path><path transform=\"translate(25.90909090909091,133.73333333333332)\" d=\"M2.6429838237340233,0A2.6429838237340233,2.6429838237340233,0,1,1,-2.6429838237340233,0A2.6429838237340233,2.6429838237340233,0,1,1,2.6429838237340233,0\" style=\"fill: none; stroke: rgb(201, 222, 240); stroke-width: 2; opacity: 0.7;\"></path><path transform=\"translate(25.727272727272727,134.2)\" d=\"M2.832943874389076,0A2.832943874389076,2.832943874389076,0,1,1,-2.832943874389076,0A2.832943874389076,2.832943874389076,0,1,1,2.832943874389076,0\" style=\"fill: none; stroke: rgb(195, 219, 238); stroke-width: 2; opacity: 0.7;\"></path><path transform=\"translate(27.727272727272727,134.13333333333333)\" d=\"M2.960708287365156,0A2.960708287365156,2.960708287365156,0,1,1,-2.960708287365156,0A2.960708287365156,2.960708287365156,0,1,1,2.960708287365156,0\" style=\"fill: none; stroke: rgb(189, 216, 236); stroke-width: 2; opacity: 0.7;\"></path><path transform=\"translate(28.454545454545453,133.60000000000002)\" d=\"M3.006411006543533,0A3.006411006543533,3.006411006543533,0,1,1,-3.006411006543533,0A3.006411006543533,3.006411006543533,0,1,1,3.006411006543533,0\" style=\"fill: none; stroke: rgb(182, 212, 233); stroke-width: 2; opacity: 0.7;\"></path><path transform=\"translate(29.72727272727273,133.06666666666666)\" d=\"M3.1020788800120838,0A3.1020788800120838,3.1020788800120838,0,1,1,-3.1020788800120838,0A3.1020788800120838,3.1020788800120838,0,1,1,3.1020788800120838,0\" style=\"fill: none; stroke: rgb(174, 209, 231); stroke-width: 2; opacity: 0.7;\"></path><path transform=\"translate(29.454545454545457,131.66666666666669)\" d=\"M3.194883349258302,0A3.194883349258302,3.194883349258302,0,1,1,-3.194883349258302,0A3.194883349258302,3.194883349258302,0,1,1,3.194883349258302,0\" style=\"fill: none; stroke: rgb(166, 205, 229); stroke-width: 2; opacity: 0.7;\"></path><path transform=\"translate(35,138.2)\" d=\"M3.3210414415200966,0A3.3210414415200966,3.3210414415200966,0,1,1,-3.3210414415200966,0A3.3210414415200966,3.3210414415200966,0,1,1,3.3210414415200966,0\" style=\"fill: none; stroke: rgb(158, 201, 226); stroke-width: 2; opacity: 0.7;\"></path><path transform=\"translate(35,135.53333333333333)\" d=\"M3.473000423625581,0A3.473000423625581,3.473000423625581,0,1,1,-3.473000423625581,0A3.473000423625581,3.473000423625581,0,1,1,3.473000423625581,0\" style=\"fill: none; stroke: rgb(149, 196, 224); stroke-width: 2; opacity: 0.7;\"></path><path transform=\"translate(35.54545454545455,131.33333333333331)\" d=\"M3.718934563526567,0A3.718934563526567,3.718934563526567,0,1,1,-3.718934563526567,0A3.718934563526567,3.718934563526567,0,1,1,3.718934563526567,0\" style=\"fill: none; stroke: rgb(140, 191, 221); stroke-width: 2; opacity: 0.7;\"></path><path transform=\"translate(36,131)\" d=\"M4.226433404999292,0A4.226433404999292,4.226433404999292,0,1,1,-4.226433404999292,0A4.226433404999292,4.226433404999292,0,1,1,4.226433404999292,0\" style=\"fill: none; stroke: rgb(131, 186, 219); stroke-width: 2; opacity: 0.7;\"></path><path transform=\"translate(36.72727272727273,127.73333333333333)\" d=\"M4.150627215482745,0A4.150627215482745,4.150627215482745,0,1,1,-4.150627215482745,0A4.150627215482745,4.150627215482745,0,1,1,4.150627215482745,0\" style=\"fill: none; stroke: rgb(122, 181, 216); stroke-width: 2; opacity: 0.7;\"></path><path transform=\"translate(38.90909090909091,124.33333333333333)\" d=\"M4.2471231672932666,0A4.2471231672932666,4.2471231672932666,0,1,1,-4.2471231672932666,0A4.2471231672932666,4.2471231672932666,0,1,1,4.2471231672932666,0\" style=\"fill: none; stroke: rgb(113, 176, 214); stroke-width: 2; opacity: 0.7;\"></path><path transform=\"translate(40.909090909090914,122.2)\" d=\"M4.202861882799851,0A4.202861882799851,4.202861882799851,0,1,1,-4.202861882799851,0A4.202861882799851,4.202861882799851,0,1,1,4.202861882799851,0\" style=\"fill: none; stroke: rgb(104, 171, 211); stroke-width: 2; opacity: 0.7;\"></path><path transform=\"translate(42.18181818181818,122.93333333333334)\" d=\"M4.529872929075747,0A4.529872929075747,4.529872929075747,0,1,1,-4.529872929075747,0A4.529872929075747,4.529872929075747,0,1,1,4.529872929075747,0\" style=\"fill: none; stroke: rgb(95, 166, 208); stroke-width: 2; opacity: 0.7;\"></path><path transform=\"translate(48.36363636363637,122.06666666666666)\" d=\"M4.8223102705029985,0A4.8223102705029985,4.8223102705029985,0,1,1,-4.8223102705029985,0A4.8223102705029985,4.8223102705029985,0,1,1,4.8223102705029985,0\" style=\"fill: none; stroke: rgb(87, 160, 205); stroke-width: 2; opacity: 0.7;\"></path><path transform=\"translate(49.18181818181818,121.73333333333332)\" d=\"M5.108306320030301,0A5.108306320030301,5.108306320030301,0,1,1,-5.108306320030301,0A5.108306320030301,5.108306320030301,0,1,1,5.108306320030301,0\" style=\"fill: none; stroke: rgb(80, 154, 202); stroke-width: 2; opacity: 0.7;\"></path><path transform=\"translate(53.45454545454545,123.53333333333333)\" d=\"M5.154618731391443,0A5.154618731391443,5.154618731391443,0,1,1,-5.154618731391443,0A5.154618731391443,5.154618731391443,0,1,1,5.154618731391443,0\" style=\"fill: none; stroke: rgb(72, 148, 199); stroke-width: 2; opacity: 0.7;\"></path><path transform=\"translate(56.636363636363626,122.86666666666667)\" d=\"M5.5139521202229265,0A5.5139521202229265,5.5139521202229265,0,1,1,-5.5139521202229265,0A5.5139521202229265,5.5139521202229265,0,1,1,5.5139521202229265,0\" style=\"fill: none; stroke: rgb(65, 142, 196); stroke-width: 2; opacity: 0.7;\"></path><path transform=\"translate(61.81818181818181,124.66666666666667)\" d=\"M5.598096637625361,0A5.598096637625361,5.598096637625361,0,1,1,-5.598096637625361,0A5.598096637625361,5.598096637625361,0,1,1,5.598096637625361,0\" style=\"fill: none; stroke: rgb(58, 137, 193); stroke-width: 2; opacity: 0.7;\"></path><path transform=\"translate(71.63636363636363,126.8)\" d=\"M5.758643158321402,0A5.758643158321402,5.758643158321402,0,1,1,-5.758643158321402,0A5.758643158321402,5.758643158321402,0,1,1,5.758643158321402,0\" style=\"fill: none; stroke: rgb(51, 131, 190); stroke-width: 2; opacity: 0.7;\"></path><path transform=\"translate(81.63636363636363,129.53333333333333)\" d=\"M6.0419086639566935,0A6.0419086639566935,6.0419086639566935,0,1,1,-6.0419086639566935,0A6.0419086639566935,6.0419086639566935,0,1,1,6.0419086639566935,0\" style=\"fill: none; stroke: rgb(45, 125, 186); stroke-width: 2; opacity: 0.7;\"></path><path transform=\"translate(83.9090909090909,130.39999999999998)\" d=\"M6.197875066999247,0A6.197875066999247,6.197875066999247,0,1,1,-6.197875066999247,0A6.197875066999247,6.197875066999247,0,1,1,6.197875066999247,0\" style=\"fill: none; stroke: rgb(39, 118, 183); stroke-width: 2; opacity: 0.7;\"></path><path transform=\"translate(98.63636363636363,135.33333333333334)\" d=\"M6.403166281236548,0A6.403166281236548,6.403166281236548,0,1,1,-6.403166281236548,0A6.403166281236548,6.403166281236548,0,1,1,6.403166281236548,0\" style=\"fill: none; stroke: rgb(33, 112, 179); stroke-width: 2; opacity: 0.7;\"></path><path transform=\"translate(103.36363636363637,136.13333333333333)\" d=\"M6.551726268817276,0A6.551726268817276,6.551726268817276,0,1,1,-6.551726268817276,0A6.551726268817276,6.551726268817276,0,1,1,6.551726268817276,0\" style=\"fill: none; stroke: rgb(28, 106, 174); stroke-width: 2; opacity: 0.7;\"></path><path transform=\"translate(113.36363636363636,138.73333333333335)\" d=\"M6.668425358877747,0A6.668425358877747,6.668425358877747,0,1,1,-6.668425358877747,0A6.668425358877747,6.668425358877747,0,1,1,6.668425358877747,0\" style=\"fill: none; stroke: rgb(23, 99, 169); stroke-width: 2; opacity: 0.7;\"></path><path transform=\"translate(118.27272727272727,141.73333333333335)\" d=\"M6.945951364436113,0A6.945951364436113,6.945951364436113,0,1,1,-6.945951364436113,0A6.945951364436113,6.945951364436113,0,1,1,6.945951364436113,0\" style=\"fill: none; stroke: rgb(18, 93, 164); stroke-width: 2; opacity: 0.7;\"></path><path transform=\"translate(126.27272727272727,141.13333333333333)\" d=\"M7.480861716205482,0A7.480861716205482,7.480861716205482,0,1,1,-7.480861716205482,0A7.480861716205482,7.480861716205482,0,1,1,7.480861716205482,0\" style=\"fill: none; stroke: rgb(16, 86, 158); stroke-width: 2; opacity: 0.7;\"></path><path transform=\"translate(136.63636363636365,138.8)\" d=\"M7.616358510654241,0A7.616358510654241,7.616358510654241,0,1,1,-7.616358510654241,0A7.616358510654241,7.616358510654241,0,1,1,7.616358510654241,0\" style=\"fill: none; stroke: rgb(13, 80, 151); stroke-width: 2; opacity: 0.7;\"></path><path transform=\"translate(145.45454545454547,138)\" d=\"M7.680537773076913,0A7.680537773076913,7.680537773076913,0,1,1,-7.680537773076913,0A7.680537773076913,7.680537773076913,0,1,1,7.680537773076913,0\" style=\"fill: none; stroke: rgb(10, 74, 144); stroke-width: 2; opacity: 0.7;\"></path><path transform=\"translate(23.727272727272727,126.46666666666667)\" d=\"M2.5610813779920605,0A2.5610813779920605,2.5610813779920605,0,1,1,-2.5610813779920605,0A2.5610813779920605,2.5610813779920605,0,1,1,2.5610813779920605,0\" style=\"fill: none; stroke: rgb(207, 225, 242); stroke-width: 2; opacity: 0.7;\"></path><path transform=\"translate(26.36363636363636,129.66666666666666)\" d=\"M2.651301604891598,0A2.651301604891598,2.651301604891598,0,1,1,-2.651301604891598,0A2.651301604891598,2.651301604891598,0,1,1,2.651301604891598,0\" style=\"fill: none; stroke: rgb(201, 222, 240); stroke-width: 2; opacity: 0.7;\"></path><path transform=\"translate(26.27272727272727,127.93333333333334)\" d=\"M2.754927551158597,0A2.754927551158597,2.754927551158597,0,1,1,-2.754927551158597,0A2.754927551158597,2.754927551158597,0,1,1,2.754927551158597,0\" style=\"fill: none; stroke: rgb(195, 219, 238); stroke-width: 2; opacity: 0.7;\"></path><path transform=\"translate(26.81818181818182,126.73333333333333)\" d=\"M2.87121993227268,0A2.87121993227268,2.87121993227268,0,1,1,-2.87121993227268,0A2.87121993227268,2.87121993227268,0,1,1,2.87121993227268,0\" style=\"fill: none; stroke: rgb(189, 216, 236); stroke-width: 2; opacity: 0.7;\"></path><path transform=\"translate(26.90909090909091,125.66666666666667)\" d=\"M2.959585763817801,0A2.959585763817801,2.959585763817801,0,1,1,-2.959585763817801,0A2.959585763817801,2.959585763817801,0,1,1,2.959585763817801,0\" style=\"fill: none; stroke: rgb(182, 212, 233); stroke-width: 2; opacity: 0.7;\"></path><path transform=\"translate(29.63636363636364,127.2)\" d=\"M3.094672115488403,0A3.094672115488403,3.094672115488403,0,1,1,-3.094672115488403,0A3.094672115488403,3.094672115488403,0,1,1,3.094672115488403,0\" style=\"fill: none; stroke: rgb(174, 209, 231); stroke-width: 2; opacity: 0.7;\"></path><path transform=\"translate(29.818181818181817,128.46666666666667)\" d=\"M3.2050219921154115,0A3.2050219921154115,3.2050219921154115,0,1,1,-3.2050219921154115,0A3.2050219921154115,3.2050219921154115,0,1,1,3.2050219921154115,0\" style=\"fill: none; stroke: rgb(166, 205, 229); stroke-width: 2; opacity: 0.7;\"></path><path transform=\"translate(36.27272727272727,133.46666666666667)\" d=\"M3.324636887935479,0A3.324636887935479,3.324636887935479,0,1,1,-3.324636887935479,0A3.324636887935479,3.324636887935479,0,1,1,3.324636887935479,0\" style=\"fill: none; stroke: rgb(158, 201, 226); stroke-width: 2; opacity: 0.7;\"></path><path transform=\"translate(37.81818181818182,129.13333333333333)\" d=\"M3.458470945754757,0A3.458470945754757,3.458470945754757,0,1,1,-3.458470945754757,0A3.458470945754757,3.458470945754757,0,1,1,3.458470945754757,0\" style=\"fill: none; stroke: rgb(149, 196, 224); stroke-width: 2; opacity: 0.7;\"></path><path transform=\"translate(37.81818181818182,125.66666666666667)\" d=\"M3.6202220836976133,0A3.6202220836976133,3.6202220836976133,0,1,1,-3.6202220836976133,0A3.6202220836976133,3.6202220836976133,0,1,1,3.6202220836976133,0\" style=\"fill: none; stroke: rgb(140, 191, 221); stroke-width: 2; opacity: 0.7;\"></path><path transform=\"translate(37.09090909090909,126.86666666666666)\" d=\"M3.8314963895509915,0A3.8314963895509915,3.8314963895509915,0,1,1,-3.8314963895509915,0A3.8314963895509915,3.8314963895509915,0,1,1,3.8314963895509915,0\" style=\"fill: none; stroke: rgb(131, 186, 219); stroke-width: 2; opacity: 0.7;\"></path><path transform=\"translate(38.63636363636363,123.46666666666667)\" d=\"M3.999126153967857,0A3.999126153967857,3.999126153967857,0,1,1,-3.999126153967857,0A3.999126153967857,3.999126153967857,0,1,1,3.999126153967857,0\" style=\"fill: none; stroke: rgb(122, 181, 216); stroke-width: 2; opacity: 0.7;\"></path><path transform=\"translate(41.18181818181818,121.73333333333332)\" d=\"M4.1472081234151545,0A4.1472081234151545,4.1472081234151545,0,1,1,-4.1472081234151545,0A4.1472081234151545,4.1472081234151545,0,1,1,4.1472081234151545,0\" style=\"fill: none; stroke: rgb(113, 176, 214); stroke-width: 2; opacity: 0.7;\"></path><path transform=\"translate(43.90909090909091,118.86666666666666)\" d=\"M4.335220646827892,0A4.335220646827892,4.335220646827892,0,1,1,-4.335220646827892,0A4.335220646827892,4.335220646827892,0,1,1,4.335220646827892,0\" style=\"fill: none; stroke: rgb(104, 171, 211); stroke-width: 2; opacity: 0.7;\"></path><path transform=\"translate(45.09090909090909,116.93333333333334)\" d=\"M4.519484930471132,0A4.519484930471132,4.519484930471132,0,1,1,-4.519484930471132,0A4.519484930471132,4.519484930471132,0,1,1,4.519484930471132,0\" style=\"fill: none; stroke: rgb(95, 166, 208); stroke-width: 2; opacity: 0.7;\"></path><path transform=\"translate(49.81818181818182,115.13333333333333)\" d=\"M4.763096962688103,0A4.763096962688103,4.763096962688103,0,1,1,-4.763096962688103,0A4.763096962688103,4.763096962688103,0,1,1,4.763096962688103,0\" style=\"fill: none; stroke: rgb(87, 160, 205); stroke-width: 2; opacity: 0.7;\"></path><path transform=\"translate(52.090909090909086,115.2)\" d=\"M5.003021694536434,0A5.003021694536434,5.003021694536434,0,1,1,-5.003021694536434,0A5.003021694536434,5.003021694536434,0,1,1,5.003021694536434,0\" style=\"fill: none; stroke: rgb(80, 154, 202); stroke-width: 2; opacity: 0.7;\"></path><path transform=\"translate(54.81818181818181,113.06666666666666)\" d=\"M5.183270585096069,0A5.183270585096069,5.183270585096069,0,1,1,-5.183270585096069,0A5.183270585096069,5.183270585096069,0,1,1,5.183270585096069,0\" style=\"fill: none; stroke: rgb(72, 148, 199); stroke-width: 2; opacity: 0.7;\"></path><path transform=\"translate(57.90909090909091,113.93333333333334)\" d=\"M5.444152583566418,0A5.444152583566418,5.444152583566418,0,1,1,-5.444152583566418,0A5.444152583566418,5.444152583566418,0,1,1,5.444152583566418,0\" style=\"fill: none; stroke: rgb(65, 142, 196); stroke-width: 2; opacity: 0.7;\"></path><path transform=\"translate(62.090909090909086,112.4)\" d=\"M5.610246450511139,0A5.610246450511139,5.610246450511139,0,1,1,-5.610246450511139,0A5.610246450511139,5.610246450511139,0,1,1,5.610246450511139,0\" style=\"fill: none; stroke: rgb(58, 137, 193); stroke-width: 2; opacity: 0.7;\"></path><path transform=\"translate(71.9090909090909,114)\" d=\"M5.766600713174028,0A5.766600713174028,5.766600713174028,0,1,1,-5.766600713174028,0A5.766600713174028,5.766600713174028,0,1,1,5.766600713174028,0\" style=\"fill: none; stroke: rgb(51, 131, 190); stroke-width: 2; opacity: 0.7;\"></path><path transform=\"translate(80.27272727272728,116.60000000000001)\" d=\"M6.053063099518402,0A6.053063099518402,6.053063099518402,0,1,1,-6.053063099518402,0A6.053063099518402,6.053063099518402,0,1,1,6.053063099518402,0\" style=\"fill: none; stroke: rgb(45, 125, 186); stroke-width: 2; opacity: 0.7;\"></path><path transform=\"translate(84.0909090909091,114.20000000000002)\" d=\"M6.194627496302557,0A6.194627496302557,6.194627496302557,0,1,1,-6.194627496302557,0A6.194627496302557,6.194627496302557,0,1,1,6.194627496302557,0\" style=\"fill: none; stroke: rgb(39, 118, 183); stroke-width: 2; opacity: 0.7;\"></path><path transform=\"translate(89.81818181818181,114)\" d=\"M6.436781794923225,0A6.436781794923225,6.436781794923225,0,1,1,-6.436781794923225,0A6.436781794923225,6.436781794923225,0,1,1,6.436781794923225,0\" style=\"fill: none; stroke: rgb(33, 112, 179); stroke-width: 2; opacity: 0.7;\"></path><path transform=\"translate(94.0909090909091,112.93333333333334)\" d=\"M6.668004594005453,0A6.668004594005453,6.668004594005453,0,1,1,-6.668004594005453,0A6.668004594005453,6.668004594005453,0,1,1,6.668004594005453,0\" style=\"fill: none; stroke: rgb(28, 106, 174); stroke-width: 2; opacity: 0.7;\"></path><path transform=\"translate(101.9090909090909,116.46666666666667)\" d=\"M6.915759407245358,0A6.915759407245358,6.915759407245358,0,1,1,-6.915759407245358,0A6.915759407245358,6.915759407245358,0,1,1,6.915759407245358,0\" style=\"fill: none; stroke: rgb(23, 99, 169); stroke-width: 2; opacity: 0.7;\"></path><path transform=\"translate(110.45454545454545,116.86666666666666)\" d=\"M7.090572613538707,0A7.090572613538707,7.090572613538707,0,1,1,-7.090572613538707,0A7.090572613538707,7.090572613538707,0,1,1,7.090572613538707,0\" style=\"fill: none; stroke: rgb(18, 93, 164); stroke-width: 2; opacity: 0.7;\"></path><path transform=\"translate(122.72727272727273,118.80000000000001)\" d=\"M7.362016214494553,0A7.362016214494553,7.362016214494553,0,1,1,-7.362016214494553,0A7.362016214494553,7.362016214494553,0,1,1,7.362016214494553,0\" style=\"fill: none; stroke: rgb(16, 86, 158); stroke-width: 2; opacity: 0.7;\"></path><path transform=\"translate(124.90909090909092,119.60000000000001)\" d=\"M7.486088337199544,0A7.486088337199544,7.486088337199544,0,1,1,-7.486088337199544,0A7.486088337199544,7.486088337199544,0,1,1,7.486088337199544,0\" style=\"fill: none; stroke: rgb(13, 80, 151); stroke-width: 2; opacity: 0.7;\"></path><path transform=\"translate(149,119.33333333333334)\" d=\"M7.866207543325724,0A7.866207543325724,7.866207543325724,0,1,1,-7.866207543325724,0A7.866207543325724,7.866207543325724,0,1,1,7.866207543325724,0\" style=\"fill: none; stroke: rgb(10, 74, 144); stroke-width: 2; opacity: 0.7;\"></path><path transform=\"translate(26.81818181818182,124.4)\" d=\"M2.7238764871572014,0A2.7238764871572014,2.7238764871572014,0,1,1,-2.7238764871572014,0A2.7238764871572014,2.7238764871572014,0,1,1,2.7238764871572014,0\" style=\"fill: none; stroke: rgb(207, 225, 242); stroke-width: 2; opacity: 0.7;\"></path><path transform=\"translate(27,126.2)\" d=\"M2.827416110888754,0A2.827416110888754,2.827416110888754,0,1,1,-2.827416110888754,0A2.827416110888754,2.827416110888754,0,1,1,2.827416110888754,0\" style=\"fill: none; stroke: rgb(201, 222, 240); stroke-width: 2; opacity: 0.7;\"></path><path transform=\"translate(26.81818181818182,119.66666666666667)\" d=\"M2.919680718249282,0A2.919680718249282,2.919680718249282,0,1,1,-2.919680718249282,0A2.919680718249282,2.919680718249282,0,1,1,2.919680718249282,0\" style=\"fill: none; stroke: rgb(195, 219, 238); stroke-width: 2; opacity: 0.7;\"></path><path transform=\"translate(30.727272727272727,129.26666666666668)\" d=\"M3.019859753597131,0A3.019859753597131,3.019859753597131,0,1,1,-3.019859753597131,0A3.019859753597131,3.019859753597131,0,1,1,3.019859753597131,0\" style=\"fill: none; stroke: rgb(189, 216, 236); stroke-width: 2; opacity: 0.7;\"></path><path transform=\"translate(31.27272727272727,127.33333333333333)\" d=\"M3.145905046360007,0A3.145905046360007,3.145905046360007,0,1,1,-3.145905046360007,0A3.145905046360007,3.145905046360007,0,1,1,3.145905046360007,0\" style=\"fill: none; stroke: rgb(182, 212, 233); stroke-width: 2; opacity: 0.7;\"></path><path transform=\"translate(31.727272727272727,127.73333333333333)\" d=\"M3.262751910047896,0A3.262751910047896,3.262751910047896,0,1,1,-3.262751910047896,0A3.262751910047896,3.262751910047896,0,1,1,3.262751910047896,0\" style=\"fill: none; stroke: rgb(174, 209, 231); stroke-width: 2; opacity: 0.7;\"></path><path transform=\"translate(31.27272727272727,125.8)\" d=\"M3.3845380123262205,0A3.3845380123262205,3.3845380123262205,0,1,1,-3.3845380123262205,0A3.3845380123262205,3.3845380123262205,0,1,1,3.3845380123262205,0\" style=\"fill: none; stroke: rgb(166, 205, 229); stroke-width: 2; opacity: 0.7;\"></path><path transform=\"translate(36.72727272727273,129.06666666666666)\" d=\"M3.5297218721406707,0A3.5297218721406707,3.5297218721406707,0,1,1,-3.5297218721406707,0A3.5297218721406707,3.5297218721406707,0,1,1,3.5297218721406707,0\" style=\"fill: none; stroke: rgb(158, 201, 226); stroke-width: 2; opacity: 0.7;\"></path><path transform=\"translate(38.18181818181819,127.39999999999999)\" d=\"M3.6203003355281926,0A3.6203003355281926,3.6203003355281926,0,1,1,-3.6203003355281926,0A3.6203003355281926,3.6203003355281926,0,1,1,3.6203003355281926,0\" style=\"fill: none; stroke: rgb(149, 196, 224); stroke-width: 2; opacity: 0.7;\"></path><path transform=\"translate(42.63636363636363,127.60000000000001)\" d=\"M3.736936566459224,0A3.736936566459224,3.736936566459224,0,1,1,-3.736936566459224,0A3.736936566459224,3.736936566459224,0,1,1,3.736936566459224,0\" style=\"fill: none; stroke: rgb(140, 191, 221); stroke-width: 2; opacity: 0.7;\"></path><path transform=\"translate(42.18181818181818,126.4)\" d=\"M3.9701247359958294,0A3.9701247359958294,3.9701247359958294,0,1,1,-3.9701247359958294,0A3.9701247359958294,3.9701247359958294,0,1,1,3.9701247359958294,0\" style=\"fill: none; stroke: rgb(131, 186, 219); stroke-width: 2; opacity: 0.7;\"></path><path transform=\"translate(43.18181818181818,123.53333333333333)\" d=\"M4.161276448158811,0A4.161276448158811,4.161276448158811,0,1,1,-4.161276448158811,0A4.161276448158811,4.161276448158811,0,1,1,4.161276448158811,0\" style=\"fill: none; stroke: rgb(122, 181, 216); stroke-width: 2; opacity: 0.7;\"></path><path transform=\"translate(46,122.66666666666667)\" d=\"M4.4023366387619856,0A4.4023366387619856,4.4023366387619856,0,1,1,-4.4023366387619856,0A4.4023366387619856,4.4023366387619856,0,1,1,4.4023366387619856,0\" style=\"fill: none; stroke: rgb(113, 176, 214); stroke-width: 2; opacity: 0.7;\"></path><path transform=\"translate(48.45454545454545,119.06666666666666)\" d=\"M4.615982127734414,0A4.615982127734414,4.615982127734414,0,1,1,-4.615982127734414,0A4.615982127734414,4.615982127734414,0,1,1,4.615982127734414,0\" style=\"fill: none; stroke: rgb(104, 171, 211); stroke-width: 2; opacity: 0.7;\"></path><path transform=\"translate(48.45454545454545,117.19999999999999)\" d=\"M4.832328477877276,0A4.832328477877276,4.832328477877276,0,1,1,-4.832328477877276,0A4.832328477877276,4.832328477877276,0,1,1,4.832328477877276,0\" style=\"fill: none; stroke: rgb(95, 166, 208); stroke-width: 2; opacity: 0.7;\"></path><path transform=\"translate(53.72727272727273,115.60000000000001)\" d=\"M5.134088779319322,0A5.134088779319322,5.134088779319322,0,1,1,-5.134088779319322,0A5.134088779319322,5.134088779319322,0,1,1,5.134088779319322,0\" style=\"fill: none; stroke: rgb(87, 160, 205); stroke-width: 2; opacity: 0.7;\"></path><path transform=\"translate(56.54545454545455,115.73333333333333)\" d=\"M5.425416869712482,0A5.425416869712482,5.425416869712482,0,1,1,-5.425416869712482,0A5.425416869712482,5.425416869712482,0,1,1,5.425416869712482,0\" style=\"fill: none; stroke: rgb(80, 154, 202); stroke-width: 2; opacity: 0.7;\"></path><path transform=\"translate(57.90909090909091,113.53333333333335)\" d=\"M5.719599261179936,0A5.719599261179936,5.719599261179936,0,1,1,-5.719599261179936,0A5.719599261179936,5.719599261179936,0,1,1,5.719599261179936,0\" style=\"fill: none; stroke: rgb(72, 148, 199); stroke-width: 2; opacity: 0.7;\"></path><path transform=\"translate(60.81818181818183,114)\" d=\"M6.065133121956127,0A6.065133121956127,6.065133121956127,0,1,1,-6.065133121956127,0A6.065133121956127,6.065133121956127,0,1,1,6.065133121956127,0\" style=\"fill: none; stroke: rgb(65, 142, 196); stroke-width: 2; opacity: 0.7;\"></path><path transform=\"translate(67.0909090909091,112.53333333333335)\" d=\"M6.248881910789636,0A6.248881910789636,6.248881910789636,0,1,1,-6.248881910789636,0A6.248881910789636,6.248881910789636,0,1,1,6.248881910789636,0\" style=\"fill: none; stroke: rgb(58, 137, 193); stroke-width: 2; opacity: 0.7;\"></path><path transform=\"translate(76.45454545454545,115.73333333333333)\" d=\"M6.367906705013114,0A6.367906705013114,6.367906705013114,0,1,1,-6.367906705013114,0A6.367906705013114,6.367906705013114,0,1,1,6.367906705013114,0\" style=\"fill: none; stroke: rgb(51, 131, 190); stroke-width: 2; opacity: 0.7;\"></path><path transform=\"translate(85.27272727272727,121.86666666666667)\" d=\"M6.600439406090434,0A6.600439406090434,6.600439406090434,0,1,1,-6.600439406090434,0A6.600439406090434,6.600439406090434,0,1,1,6.600439406090434,0\" style=\"fill: none; stroke: rgb(45, 125, 186); stroke-width: 2; opacity: 0.7;\"></path><path transform=\"translate(92.81818181818181,122.73333333333333)\" d=\"M6.780726509596255,0A6.780726509596255,6.780726509596255,0,1,1,-6.780726509596255,0A6.780726509596255,6.780726509596255,0,1,1,6.780726509596255,0\" style=\"fill: none; stroke: rgb(39, 118, 183); stroke-width: 2; opacity: 0.7;\"></path><path transform=\"translate(95.9090909090909,124.2)\" d=\"M6.82535073409875,0A6.82535073409875,6.82535073409875,0,1,1,-6.82535073409875,0A6.82535073409875,6.82535073409875,0,1,1,6.82535073409875,0\" style=\"fill: none; stroke: rgb(33, 112, 179); stroke-width: 2; opacity: 0.7;\"></path><path transform=\"translate(104,129.46666666666667)\" d=\"M6.9034819564349,0A6.9034819564349,6.9034819564349,0,1,1,-6.9034819564349,0A6.9034819564349,6.9034819564349,0,1,1,6.9034819564349,0\" style=\"fill: none; stroke: rgb(28, 106, 174); stroke-width: 2; opacity: 0.7;\"></path><path transform=\"translate(116.36363636363636,135.66666666666669)\" d=\"M7.1054508471562805,0A7.1054508471562805,7.1054508471562805,0,1,1,-7.1054508471562805,0A7.1054508471562805,7.1054508471562805,0,1,1,7.1054508471562805,0\" style=\"fill: none; stroke: rgb(23, 99, 169); stroke-width: 2; opacity: 0.7;\"></path><path transform=\"translate(124.54545454545453,137)\" d=\"M7.316717628272113,0A7.316717628272113,7.316717628272113,0,1,1,-7.316717628272113,0A7.316717628272113,7.316717628272113,0,1,1,7.316717628272113,0\" style=\"fill: none; stroke: rgb(18, 93, 164); stroke-width: 2; opacity: 0.7;\"></path><path transform=\"translate(132.45454545454544,142.93333333333334)\" d=\"M7.554223105631209,0A7.554223105631209,7.554223105631209,0,1,1,-7.554223105631209,0A7.554223105631209,7.554223105631209,0,1,1,7.554223105631209,0\" style=\"fill: none; stroke: rgb(16, 86, 158); stroke-width: 2; opacity: 0.7;\"></path><path transform=\"translate(157.8181818181818,146.93333333333334)\" d=\"M7.707227128113838,0A7.707227128113838,7.707227128113838,0,1,1,-7.707227128113838,0A7.707227128113838,7.707227128113838,0,1,1,7.707227128113838,0\" style=\"fill: none; stroke: rgb(13, 80, 151); stroke-width: 2; opacity: 0.7;\"></path><path transform=\"translate(169.0909090909091,148.53333333333333)\" d=\"M7.902174623866494,0A7.902174623866494,7.902174623866494,0,1,1,-7.902174623866494,0A7.902174623866494,7.902174623866494,0,1,1,7.902174623866494,0\" style=\"fill: none; stroke: rgb(10, 74, 144); stroke-width: 2; opacity: 0.7;\"></path><path transform=\"translate(22.636363636363637,152)\" d=\"M2.839031086431833,0A2.839031086431833,2.839031086431833,0,1,1,-2.839031086431833,0A2.839031086431833,2.839031086431833,0,1,1,2.839031086431833,0\" style=\"fill: none; stroke: rgb(207, 225, 242); stroke-width: 2; opacity: 0.7;\"></path><path transform=\"translate(26.727272727272727,158.46666666666667)\" d=\"M2.9208350775975696,0A2.9208350775975696,2.9208350775975696,0,1,1,-2.9208350775975696,0A2.9208350775975696,2.9208350775975696,0,1,1,2.9208350775975696,0\" style=\"fill: none; stroke: rgb(201, 222, 240); stroke-width: 2; opacity: 0.7;\"></path><path transform=\"translate(27,156.66666666666666)\" d=\"M2.987875894874624,0A2.987875894874624,2.987875894874624,0,1,1,-2.987875894874624,0A2.987875894874624,2.987875894874624,0,1,1,2.987875894874624,0\" style=\"fill: none; stroke: rgb(195, 219, 238); stroke-width: 2; opacity: 0.7;\"></path><path transform=\"translate(28.000000000000004,156.2)\" d=\"M3.0418155242321547,0A3.0418155242321547,3.0418155242321547,0,1,1,-3.0418155242321547,0A3.0418155242321547,3.0418155242321547,0,1,1,3.0418155242321547,0\" style=\"fill: none; stroke: rgb(189, 216, 236); stroke-width: 2; opacity: 0.7;\"></path><path transform=\"translate(28.636363636363637,157.13333333333333)\" d=\"M3.0981816728516143,0A3.0981816728516143,3.0981816728516143,0,1,1,-3.0981816728516143,0A3.0981816728516143,3.0981816728516143,0,1,1,3.0981816728516143,0\" style=\"fill: none; stroke: rgb(182, 212, 233); stroke-width: 2; opacity: 0.7;\"></path><path transform=\"translate(29.36363636363636,157.13333333333333)\" d=\"M3.1726550369975404,0A3.1726550369975404,3.1726550369975404,0,1,1,-3.1726550369975404,0A3.1726550369975404,3.1726550369975404,0,1,1,3.1726550369975404,0\" style=\"fill: none; stroke: rgb(174, 209, 231); stroke-width: 2; opacity: 0.7;\"></path><path transform=\"translate(30.272727272727266,156.26666666666668)\" d=\"M3.253760415688053,0A3.253760415688053,3.253760415688053,0,1,1,-3.253760415688053,0A3.253760415688053,3.253760415688053,0,1,1,3.253760415688053,0\" style=\"fill: none; stroke: rgb(166, 205, 229); stroke-width: 2; opacity: 0.7;\"></path><path transform=\"translate(31.454545454545457,156.33333333333334)\" d=\"M3.4114117357666727,0A3.4114117357666727,3.4114117357666727,0,1,1,-3.4114117357666727,0A3.4114117357666727,3.4114117357666727,0,1,1,3.4114117357666727,0\" style=\"fill: none; stroke: rgb(158, 201, 226); stroke-width: 2; opacity: 0.7;\"></path><path transform=\"translate(33.27272727272727,154.86666666666667)\" d=\"M3.5338868042329774,0A3.5338868042329774,3.5338868042329774,0,1,1,-3.5338868042329774,0A3.5338868042329774,3.5338868042329774,0,1,1,3.5338868042329774,0\" style=\"fill: none; stroke: rgb(149, 196, 224); stroke-width: 2; opacity: 0.7;\"></path><path transform=\"translate(33.81818181818182,152.46666666666667)\" d=\"M3.6733175808074505,0A3.6733175808074505,3.6733175808074505,0,1,1,-3.6733175808074505,0A3.6733175808074505,3.6733175808074505,0,1,1,3.6733175808074505,0\" style=\"fill: none; stroke: rgb(140, 191, 221); stroke-width: 2; opacity: 0.7;\"></path><path transform=\"translate(33.18181818181819,151.53333333333333)\" d=\"M3.8338382109615607,0A3.8338382109615607,3.8338382109615607,0,1,1,-3.8338382109615607,0A3.8338382109615607,3.8338382109615607,0,1,1,3.8338382109615607,0\" style=\"fill: none; stroke: rgb(131, 186, 219); stroke-width: 2; opacity: 0.7;\"></path><path transform=\"translate(34.36363636363636,149.6)\" d=\"M4.001993459243351,0A4.001993459243351,4.001993459243351,0,1,1,-4.001993459243351,0A4.001993459243351,4.001993459243351,0,1,1,4.001993459243351,0\" style=\"fill: none; stroke: rgb(122, 181, 216); stroke-width: 2; opacity: 0.7;\"></path><path transform=\"translate(36.81818181818181,149.46666666666667)\" d=\"M4.18981906717972,0A4.18981906717972,4.18981906717972,0,1,1,-4.18981906717972,0A4.18981906717972,4.18981906717972,0,1,1,4.18981906717972,0\" style=\"fill: none; stroke: rgb(113, 176, 214); stroke-width: 2; opacity: 0.7;\"></path><path transform=\"translate(39.45454545454545,148.06666666666666)\" d=\"M4.363849122674199,0A4.363849122674199,4.363849122674199,0,1,1,-4.363849122674199,0A4.363849122674199,4.363849122674199,0,1,1,4.363849122674199,0\" style=\"fill: none; stroke: rgb(104, 171, 211); stroke-width: 2; opacity: 0.7;\"></path><path transform=\"translate(40.63636363636364,148)\" d=\"M4.557808589414731,0A4.557808589414731,4.557808589414731,0,1,1,-4.557808589414731,0A4.557808589414731,4.557808589414731,0,1,1,4.557808589414731,0\" style=\"fill: none; stroke: rgb(95, 166, 208); stroke-width: 2; opacity: 0.7;\"></path><path transform=\"translate(45,146.93333333333334)\" d=\"M4.80367700702602,0A4.80367700702602,4.80367700702602,0,1,1,-4.80367700702602,0A4.80367700702602,4.80367700702602,0,1,1,4.80367700702602,0\" style=\"fill: none; stroke: rgb(87, 160, 205); stroke-width: 2; opacity: 0.7;\"></path><path transform=\"translate(48.81818181818182,147.26666666666665)\" d=\"M5.013497962003217,0A5.013497962003217,5.013497962003217,0,1,1,-5.013497962003217,0A5.013497962003217,5.013497962003217,0,1,1,5.013497962003217,0\" style=\"fill: none; stroke: rgb(80, 154, 202); stroke-width: 2; opacity: 0.7;\"></path><path transform=\"translate(52,150.13333333333333)\" d=\"M5.225666817184124,0A5.225666817184124,5.225666817184124,0,1,1,-5.225666817184124,0A5.225666817184124,5.225666817184124,0,1,1,5.225666817184124,0\" style=\"fill: none; stroke: rgb(72, 148, 199); stroke-width: 2; opacity: 0.7;\"></path><path transform=\"translate(57.00000000000001,148.26666666666665)\" d=\"M5.432622150666322,0A5.432622150666322,5.432622150666322,0,1,1,-5.432622150666322,0A5.432622150666322,5.432622150666322,0,1,1,5.432622150666322,0\" style=\"fill: none; stroke: rgb(65, 142, 196); stroke-width: 2; opacity: 0.7;\"></path><path transform=\"translate(61.9090909090909,150.93333333333334)\" d=\"M5.5220712714519244,0A5.5220712714519244,5.5220712714519244,0,1,1,-5.5220712714519244,0A5.5220712714519244,5.5220712714519244,0,1,1,5.5220712714519244,0\" style=\"fill: none; stroke: rgb(58, 137, 193); stroke-width: 2; opacity: 0.7;\"></path><path transform=\"translate(74.54545454545455,154)\" d=\"M5.680998848633029,0A5.680998848633029,5.680998848633029,0,1,1,-5.680998848633029,0A5.680998848633029,5.680998848633029,0,1,1,5.680998848633029,0\" style=\"fill: none; stroke: rgb(51, 131, 190); stroke-width: 2; opacity: 0.7;\"></path><path transform=\"translate(86.63636363636364,155.8)\" d=\"M5.877251371941907,0A5.877251371941907,5.877251371941907,0,1,1,-5.877251371941907,0A5.877251371941907,5.877251371941907,0,1,1,5.877251371941907,0\" style=\"fill: none; stroke: rgb(45, 125, 186); stroke-width: 2; opacity: 0.7;\"></path><path transform=\"translate(95.09090909090908,155.66666666666666)\" d=\"M6.008457749831259,0A6.008457749831259,6.008457749831259,0,1,1,-6.008457749831259,0A6.008457749831259,6.008457749831259,0,1,1,6.008457749831259,0\" style=\"fill: none; stroke: rgb(39, 118, 183); stroke-width: 2; opacity: 0.7;\"></path><path transform=\"translate(94.0909090909091,157.06666666666666)\" d=\"M6.142971642599382,0A6.142971642599382,6.142971642599382,0,1,1,-6.142971642599382,0A6.142971642599382,6.142971642599382,0,1,1,6.142971642599382,0\" style=\"fill: none; stroke: rgb(33, 112, 179); stroke-width: 2; opacity: 0.7;\"></path><path transform=\"translate(98.72727272727272,154.86666666666667)\" d=\"M6.265292019993997,0A6.265292019993997,6.265292019993997,0,1,1,-6.265292019993997,0A6.265292019993997,6.265292019993997,0,1,1,6.265292019993997,0\" style=\"fill: none; stroke: rgb(28, 106, 174); stroke-width: 2; opacity: 0.7;\"></path><path transform=\"translate(111.72727272727275,163.33333333333334)\" d=\"M6.4541189470375,0A6.4541189470375,6.4541189470375,0,1,1,-6.4541189470375,0A6.4541189470375,6.4541189470375,0,1,1,6.4541189470375,0\" style=\"fill: none; stroke: rgb(23, 99, 169); stroke-width: 2; opacity: 0.7;\"></path><path transform=\"translate(123.27272727272727,162)\" d=\"M6.68482843294794,0A6.68482843294794,6.68482843294794,0,1,1,-6.68482843294794,0A6.68482843294794,6.68482843294794,0,1,1,6.68482843294794,0\" style=\"fill: none; stroke: rgb(18, 93, 164); stroke-width: 2; opacity: 0.7;\"></path><path transform=\"translate(138.0909090909091,164.4)\" d=\"M6.854405967328428,0A6.854405967328428,6.854405967328428,0,1,1,-6.854405967328428,0A6.854405967328428,6.854405967328428,0,1,1,6.854405967328428,0\" style=\"fill: none; stroke: rgb(16, 86, 158); stroke-width: 2; opacity: 0.7;\"></path><path transform=\"translate(151.9090909090909,164.33333333333331)\" d=\"M6.990015663339866,0A6.990015663339866,6.990015663339866,0,1,1,-6.990015663339866,0A6.990015663339866,6.990015663339866,0,1,1,6.990015663339866,0\" style=\"fill: none; stroke: rgb(13, 80, 151); stroke-width: 2; opacity: 0.7;\"></path><path transform=\"translate(154.63636363636363,163.33333333333334)\" d=\"M7.227433548694084,0A7.227433548694084,7.227433548694084,0,1,1,-7.227433548694084,0A7.227433548694084,7.227433548694084,0,1,1,7.227433548694084,0\" style=\"fill: none; stroke: rgb(10, 74, 144); stroke-width: 2; opacity: 0.7;\"></path><path transform=\"translate(25.636363636363633,111)\" d=\"M2.8264641312738217,0A2.8264641312738217,2.8264641312738217,0,1,1,-2.8264641312738217,0A2.8264641312738217,2.8264641312738217,0,1,1,2.8264641312738217,0\" style=\"fill: none; stroke: rgb(207, 225, 242); stroke-width: 2; opacity: 0.7;\"></path><path transform=\"translate(26.636363636363637,113.93333333333334)\" d=\"M2.9259390598338886,0A2.9259390598338886,2.9259390598338886,0,1,1,-2.9259390598338886,0A2.9259390598338886,2.9259390598338886,0,1,1,2.9259390598338886,0\" style=\"fill: none; stroke: rgb(201, 222, 240); stroke-width: 2; opacity: 0.7;\"></path><path transform=\"translate(26.727272727272727,118.06666666666666)\" d=\"M3.064411271552045,0A3.064411271552045,3.064411271552045,0,1,1,-3.064411271552045,0A3.064411271552045,3.064411271552045,0,1,1,3.064411271552045,0\" style=\"fill: none; stroke: rgb(195, 219, 238); stroke-width: 2; opacity: 0.7;\"></path><path transform=\"translate(29.545454545454547,113.06666666666666)\" d=\"M3.2100457863433016,0A3.2100457863433016,3.2100457863433016,0,1,1,-3.2100457863433016,0A3.2100457863433016,3.2100457863433016,0,1,1,3.2100457863433016,0\" style=\"fill: none; stroke: rgb(189, 216, 236); stroke-width: 2; opacity: 0.7;\"></path><path transform=\"translate(28.909090909090914,115.06666666666666)\" d=\"M3.3013319906813536,0A3.3013319906813536,3.3013319906813536,0,1,1,-3.3013319906813536,0A3.3013319906813536,3.3013319906813536,0,1,1,3.3013319906813536,0\" style=\"fill: none; stroke: rgb(182, 212, 233); stroke-width: 2; opacity: 0.7;\"></path><path transform=\"translate(30.818181818181817,114.13333333333333)\" d=\"M3.4201226995562193,0A3.4201226995562193,3.4201226995562193,0,1,1,-3.4201226995562193,0A3.4201226995562193,3.4201226995562193,0,1,1,3.4201226995562193,0\" style=\"fill: none; stroke: rgb(174, 209, 231); stroke-width: 2; opacity: 0.7;\"></path><path transform=\"translate(31.09090909090909,110.26666666666667)\" d=\"M3.516681257365899,0A3.516681257365899,3.516681257365899,0,1,1,-3.516681257365899,0A3.516681257365899,3.516681257365899,0,1,1,3.516681257365899,0\" style=\"fill: none; stroke: rgb(166, 205, 229); stroke-width: 2; opacity: 0.7;\"></path><path transform=\"translate(34.27272727272728,118.26666666666668)\" d=\"M3.643069166030783,0A3.643069166030783,3.643069166030783,0,1,1,-3.643069166030783,0A3.643069166030783,3.643069166030783,0,1,1,3.643069166030783,0\" style=\"fill: none; stroke: rgb(158, 201, 226); stroke-width: 2; opacity: 0.7;\"></path><path transform=\"translate(35.90909090909091,117.06666666666666)\" d=\"M3.788120318108822,0A3.788120318108822,3.788120318108822,0,1,1,-3.788120318108822,0A3.788120318108822,3.788120318108822,0,1,1,3.788120318108822,0\" style=\"fill: none; stroke: rgb(149, 196, 224); stroke-width: 2; opacity: 0.7;\"></path><path transform=\"translate(36.36363636363637,108)\" d=\"M3.8444933892471598,0A3.8444933892471598,3.8444933892471598,0,1,1,-3.8444933892471598,0A3.8444933892471598,3.8444933892471598,0,1,1,3.8444933892471598,0\" style=\"fill: none; stroke: rgb(140, 191, 221); stroke-width: 2; opacity: 0.7;\"></path><path transform=\"translate(36.18181818181818,102.13333333333333)\" d=\"M4.037525644624338,0A4.037525644624338,4.037525644624338,0,1,1,-4.037525644624338,0A4.037525644624338,4.037525644624338,0,1,1,4.037525644624338,0\" style=\"fill: none; stroke: rgb(131, 186, 219); stroke-width: 2; opacity: 0.7;\"></path><path transform=\"translate(37.54545454545454,98.8)\" d=\"M4.18851298355063,0A4.18851298355063,4.18851298355063,0,1,1,-4.18851298355063,0A4.18851298355063,4.18851298355063,0,1,1,4.18851298355063,0\" style=\"fill: none; stroke: rgb(122, 181, 216); stroke-width: 2; opacity: 0.7;\"></path><path transform=\"translate(37.99999999999999,96.33333333333334)\" d=\"M4.3403799895362605,0A4.3403799895362605,4.3403799895362605,0,1,1,-4.3403799895362605,0A4.3403799895362605,4.3403799895362605,0,1,1,4.3403799895362605,0\" style=\"fill: none; stroke: rgb(113, 176, 214); stroke-width: 2; opacity: 0.7;\"></path><path transform=\"translate(42.81818181818182,85.93333333333332)\" d=\"M4.554810436067994,0A4.554810436067994,4.554810436067994,0,1,1,-4.554810436067994,0A4.554810436067994,4.554810436067994,0,1,1,4.554810436067994,0\" style=\"fill: none; stroke: rgb(104, 171, 211); stroke-width: 2; opacity: 0.7;\"></path><path transform=\"translate(42.72727272727273,87.06666666666666)\" d=\"M4.692953472625921,0A4.692953472625921,4.692953472625921,0,1,1,-4.692953472625921,0A4.692953472625921,4.692953472625921,0,1,1,4.692953472625921,0\" style=\"fill: none; stroke: rgb(95, 166, 208); stroke-width: 2; opacity: 0.7;\"></path><path transform=\"translate(47.72727272727273,91.73333333333333)\" d=\"M4.979132424686294,0A4.979132424686294,4.979132424686294,0,1,1,-4.979132424686294,0A4.979132424686294,4.979132424686294,0,1,1,4.979132424686294,0\" style=\"fill: none; stroke: rgb(87, 160, 205); stroke-width: 2; opacity: 0.7;\"></path><path transform=\"translate(49.81818181818182,92.73333333333333)\" d=\"M5.202627398627138,0A5.202627398627138,5.202627398627138,0,1,1,-5.202627398627138,0A5.202627398627138,5.202627398627138,0,1,1,5.202627398627138,0\" style=\"fill: none; stroke: rgb(80, 154, 202); stroke-width: 2; opacity: 0.7;\"></path><path transform=\"translate(53.54545454545454,92.26666666666668)\" d=\"M5.4230472239410785,0A5.4230472239410785,5.4230472239410785,0,1,1,-5.4230472239410785,0A5.4230472239410785,5.4230472239410785,0,1,1,5.4230472239410785,0\" style=\"fill: none; stroke: rgb(72, 148, 199); stroke-width: 2; opacity: 0.7;\"></path><path transform=\"translate(55.45454545454545,90.8)\" d=\"M5.729312115736326,0A5.729312115736326,5.729312115736326,0,1,1,-5.729312115736326,0A5.729312115736326,5.729312115736326,0,1,1,5.729312115736326,0\" style=\"fill: none; stroke: rgb(65, 142, 196); stroke-width: 2; opacity: 0.7;\"></path><path transform=\"translate(60.72727272727273,91.8)\" d=\"M6.126650870267185,0A6.126650870267185,6.126650870267185,0,1,1,-6.126650870267185,0A6.126650870267185,6.126650870267185,0,1,1,6.126650870267185,0\" style=\"fill: none; stroke: rgb(58, 137, 193); stroke-width: 2; opacity: 0.7;\"></path><path transform=\"translate(70,97.46666666666665)\" d=\"M6.0428150609874995,0A6.0428150609874995,6.0428150609874995,0,1,1,-6.0428150609874995,0A6.0428150609874995,6.0428150609874995,0,1,1,6.0428150609874995,0\" style=\"fill: none; stroke: rgb(51, 131, 190); stroke-width: 2; opacity: 0.7;\"></path><path transform=\"translate(82.36363636363636,103.8)\" d=\"M6.295905520342222,0A6.295905520342222,6.295905520342222,0,1,1,-6.295905520342222,0A6.295905520342222,6.295905520342222,0,1,1,6.295905520342222,0\" style=\"fill: none; stroke: rgb(45, 125, 186); stroke-width: 2; opacity: 0.7;\"></path><path transform=\"translate(86.81818181818181,103.66666666666666)\" d=\"M6.475129798287091,0A6.475129798287091,6.475129798287091,0,1,1,-6.475129798287091,0A6.475129798287091,6.475129798287091,0,1,1,6.475129798287091,0\" style=\"fill: none; stroke: rgb(39, 118, 183); stroke-width: 2; opacity: 0.7;\"></path><path transform=\"translate(95.36363636363637,112.53333333333335)\" d=\"M6.6448539569270295,0A6.6448539569270295,6.6448539569270295,0,1,1,-6.6448539569270295,0A6.6448539569270295,6.6448539569270295,0,1,1,6.6448539569270295,0\" style=\"fill: none; stroke: rgb(33, 112, 179); stroke-width: 2; opacity: 0.7;\"></path><path transform=\"translate(103.45454545454544,114.46666666666665)\" d=\"M6.8709795057301175,0A6.8709795057301175,6.8709795057301175,0,1,1,-6.8709795057301175,0A6.8709795057301175,6.8709795057301175,0,1,1,6.8709795057301175,0\" style=\"fill: none; stroke: rgb(28, 106, 174); stroke-width: 2; opacity: 0.7;\"></path><path transform=\"translate(112.45454545454545,114.20000000000002)\" d=\"M7.165200723835002,0A7.165200723835002,7.165200723835002,0,1,1,-7.165200723835002,0A7.165200723835002,7.165200723835002,0,1,1,7.165200723835002,0\" style=\"fill: none; stroke: rgb(23, 99, 169); stroke-width: 2; opacity: 0.7;\"></path><path transform=\"translate(117.90909090909089,119.39999999999999)\" d=\"M7.385355758126487,0A7.385355758126487,7.385355758126487,0,1,1,-7.385355758126487,0A7.385355758126487,7.385355758126487,0,1,1,7.385355758126487,0\" style=\"fill: none; stroke: rgb(18, 93, 164); stroke-width: 2; opacity: 0.7;\"></path><path transform=\"translate(130.63636363636363,117.13333333333334)\" d=\"M7.633030416076926,0A7.633030416076926,7.633030416076926,0,1,1,-7.633030416076926,0A7.633030416076926,7.633030416076926,0,1,1,7.633030416076926,0\" style=\"fill: none; stroke: rgb(16, 86, 158); stroke-width: 2; opacity: 0.7;\"></path><path transform=\"translate(136.45454545454544,119.39999999999999)\" d=\"M7.690461774537689,0A7.690461774537689,7.690461774537689,0,1,1,-7.690461774537689,0A7.690461774537689,7.690461774537689,0,1,1,7.690461774537689,0\" style=\"fill: none; stroke: rgb(13, 80, 151); stroke-width: 2; opacity: 0.7;\"></path><path transform=\"translate(152.72727272727275,115.66666666666666)\" d=\"M8.067497177234664,0A8.067497177234664,8.067497177234664,0,1,1,-8.067497177234664,0A8.067497177234664,8.067497177234664,0,1,1,8.067497177234664,0\" style=\"fill: none; stroke: rgb(10, 74, 144); stroke-width: 2; opacity: 0.7;\"></path><path transform=\"translate(22.454545454545453,118.13333333333334)\" d=\"M2.751810680311235,0A2.751810680311235,2.751810680311235,0,1,1,-2.751810680311235,0A2.751810680311235,2.751810680311235,0,1,1,2.751810680311235,0\" style=\"fill: none; stroke: rgb(207, 225, 242); stroke-width: 2; opacity: 0.7;\"></path><path transform=\"translate(22.90909090909091,121)\" d=\"M2.889376476627988,0A2.889376476627988,2.889376476627988,0,1,1,-2.889376476627988,0A2.889376476627988,2.889376476627988,0,1,1,2.889376476627988,0\" style=\"fill: none; stroke: rgb(201, 222, 240); stroke-width: 2; opacity: 0.7;\"></path><path transform=\"translate(22.81818181818182,117.80000000000001)\" d=\"M2.9777867883191815,0A2.9777867883191815,2.9777867883191815,0,1,1,-2.9777867883191815,0A2.9777867883191815,2.9777867883191815,0,1,1,2.9777867883191815,0\" style=\"fill: none; stroke: rgb(195, 219, 238); stroke-width: 2; opacity: 0.7;\"></path><path transform=\"translate(22.454545454545453,119.86666666666666)\" d=\"M3.066977966557783,0A3.066977966557783,3.066977966557783,0,1,1,-3.066977966557783,0A3.066977966557783,3.066977966557783,0,1,1,3.066977966557783,0\" style=\"fill: none; stroke: rgb(189, 216, 236); stroke-width: 2; opacity: 0.7;\"></path><path transform=\"translate(23.90909090909091,119.39999999999999)\" d=\"M3.1768745074029967,0A3.1768745074029967,3.1768745074029967,0,1,1,-3.1768745074029967,0A3.1768745074029967,3.1768745074029967,0,1,1,3.1768745074029967,0\" style=\"fill: none; stroke: rgb(182, 212, 233); stroke-width: 2; opacity: 0.7;\"></path><path transform=\"translate(24.636363636363637,118.13333333333334)\" d=\"M3.306029629779828,0A3.306029629779828,3.306029629779828,0,1,1,-3.306029629779828,0A3.306029629779828,3.306029629779828,0,1,1,3.306029629779828,0\" style=\"fill: none; stroke: rgb(174, 209, 231); stroke-width: 2; opacity: 0.7;\"></path><path transform=\"translate(25.727272727272727,117.39999999999999)\" d=\"M3.4392438215903387,0A3.4392438215903387,3.4392438215903387,0,1,1,-3.4392438215903387,0A3.4392438215903387,3.4392438215903387,0,1,1,3.4392438215903387,0\" style=\"fill: none; stroke: rgb(166, 205, 229); stroke-width: 2; opacity: 0.7;\"></path><path transform=\"translate(26.181818181818183,117.13333333333334)\" d=\"M3.584049605110634,0A3.584049605110634,3.584049605110634,0,1,1,-3.584049605110634,0A3.584049605110634,3.584049605110634,0,1,1,3.584049605110634,0\" style=\"fill: none; stroke: rgb(158, 201, 226); stroke-width: 2; opacity: 0.7;\"></path><path transform=\"translate(27.454545454545453,114.4)\" d=\"M3.7330877471780957,0A3.7330877471780957,3.7330877471780957,0,1,1,-3.7330877471780957,0A3.7330877471780957,3.7330877471780957,0,1,1,3.7330877471780957,0\" style=\"fill: none; stroke: rgb(149, 196, 224); stroke-width: 2; opacity: 0.7;\"></path><path transform=\"translate(27.18181818181818,108.66666666666667)\" d=\"M3.8758731007338354,0A3.8758731007338354,3.8758731007338354,0,1,1,-3.8758731007338354,0A3.8758731007338354,3.8758731007338354,0,1,1,3.8758731007338354,0\" style=\"fill: none; stroke: rgb(140, 191, 221); stroke-width: 2; opacity: 0.7;\"></path><path transform=\"translate(27.363636363636363,104.60000000000001)\" d=\"M4.0966773208756475,0A4.0966773208756475,4.0966773208756475,0,1,1,-4.0966773208756475,0A4.0966773208756475,4.0966773208756475,0,1,1,4.0966773208756475,0\" style=\"fill: none; stroke: rgb(131, 186, 219); stroke-width: 2; opacity: 0.7;\"></path><path transform=\"translate(28.454545454545453,100.26666666666667)\" d=\"M4.277147409441937,0A4.277147409441937,4.277147409441937,0,1,1,-4.277147409441937,0A4.277147409441937,4.277147409441937,0,1,1,4.277147409441937,0\" style=\"fill: none; stroke: rgb(122, 181, 216); stroke-width: 2; opacity: 0.7;\"></path><path transform=\"translate(30.545454545454547,98.2)\" d=\"M4.4900508818664395,0A4.4900508818664395,4.4900508818664395,0,1,1,-4.4900508818664395,0A4.4900508818664395,4.4900508818664395,0,1,1,4.4900508818664395,0\" style=\"fill: none; stroke: rgb(113, 176, 214); stroke-width: 2; opacity: 0.7;\"></path><path transform=\"translate(34.45454545454545,94.6)\" d=\"M4.667563044809691,0A4.667563044809691,4.667563044809691,0,1,1,-4.667563044809691,0A4.667563044809691,4.667563044809691,0,1,1,4.667563044809691,0\" style=\"fill: none; stroke: rgb(104, 171, 211); stroke-width: 2; opacity: 0.7;\"></path><path transform=\"translate(34.90909090909091,94.86666666666667)\" d=\"M4.881846471088384,0A4.881846471088384,4.881846471088384,0,1,1,-4.881846471088384,0A4.881846471088384,4.881846471088384,0,1,1,4.881846471088384,0\" style=\"fill: none; stroke: rgb(95, 166, 208); stroke-width: 2; opacity: 0.7;\"></path><path transform=\"translate(38.90909090909091,96.06666666666666)\" d=\"M5.113139017397997,0A5.113139017397997,5.113139017397997,0,1,1,-5.113139017397997,0A5.113139017397997,5.113139017397997,0,1,1,5.113139017397997,0\" style=\"fill: none; stroke: rgb(87, 160, 205); stroke-width: 2; opacity: 0.7;\"></path><path transform=\"translate(41.63636363636363,98.8)\" d=\"M5.378637901915522,0A5.378637901915522,5.378637901915522,0,1,1,-5.378637901915522,0A5.378637901915522,5.378637901915522,0,1,1,5.378637901915522,0\" style=\"fill: none; stroke: rgb(80, 154, 202); stroke-width: 2; opacity: 0.7;\"></path><path transform=\"translate(44.09090909090909,100.73333333333333)\" d=\"M5.673902939413179,0A5.673902939413179,5.673902939413179,0,1,1,-5.673902939413179,0A5.673902939413179,5.673902939413179,0,1,1,5.673902939413179,0\" style=\"fill: none; stroke: rgb(72, 148, 199); stroke-width: 2; opacity: 0.7;\"></path><path transform=\"translate(47.090909090909086,100.06666666666666)\" d=\"M5.94252890155657,0A5.94252890155657,5.94252890155657,0,1,1,-5.94252890155657,0A5.94252890155657,5.94252890155657,0,1,1,5.94252890155657,0\" style=\"fill: none; stroke: rgb(65, 142, 196); stroke-width: 2; opacity: 0.7;\"></path><path transform=\"translate(51.272727272727266,101.73333333333333)\" d=\"M6.176754965638931,0A6.176754965638931,6.176754965638931,0,1,1,-6.176754965638931,0A6.176754965638931,6.176754965638931,0,1,1,6.176754965638931,0\" style=\"fill: none; stroke: rgb(58, 137, 193); stroke-width: 2; opacity: 0.7;\"></path><path transform=\"translate(62.54545454545454,103.53333333333335)\" d=\"M6.427249536859615,0A6.427249536859615,6.427249536859615,0,1,1,-6.427249536859615,0A6.427249536859615,6.427249536859615,0,1,1,6.427249536859615,0\" style=\"fill: none; stroke: rgb(51, 131, 190); stroke-width: 2; opacity: 0.7;\"></path><path transform=\"translate(69.0909090909091,108.8)\" d=\"M6.715338235753178,0A6.715338235753178,6.715338235753178,0,1,1,-6.715338235753178,0A6.715338235753178,6.715338235753178,0,1,1,6.715338235753178,0\" style=\"fill: none; stroke: rgb(45, 125, 186); stroke-width: 2; opacity: 0.7;\"></path><path transform=\"translate(75.99999999999999,110.26666666666667)\" d=\"M6.921108628458205,0A6.921108628458205,6.921108628458205,0,1,1,-6.921108628458205,0A6.921108628458205,6.921108628458205,0,1,1,6.921108628458205,0\" style=\"fill: none; stroke: rgb(39, 118, 183); stroke-width: 2; opacity: 0.7;\"></path><path transform=\"translate(83,109.46666666666665)\" d=\"M7.165534646014153,0A7.165534646014153,7.165534646014153,0,1,1,-7.165534646014153,0A7.165534646014153,7.165534646014153,0,1,1,7.165534646014153,0\" style=\"fill: none; stroke: rgb(33, 112, 179); stroke-width: 2; opacity: 0.7;\"></path><path transform=\"translate(86,111.33333333333333)\" d=\"M7.384767877092797,0A7.384767877092797,7.384767877092797,0,1,1,-7.384767877092797,0A7.384767877092797,7.384767877092797,0,1,1,7.384767877092797,0\" style=\"fill: none; stroke: rgb(28, 106, 174); stroke-width: 2; opacity: 0.7;\"></path><path transform=\"translate(92.81818181818181,113.66666666666667)\" d=\"M7.6621827707477,0A7.6621827707477,7.6621827707477,0,1,1,-7.6621827707477,0A7.6621827707477,7.6621827707477,0,1,1,7.6621827707477,0\" style=\"fill: none; stroke: rgb(23, 99, 169); stroke-width: 2; opacity: 0.7;\"></path><path transform=\"translate(99.45454545454547,118.33333333333333)\" d=\"M7.8949943161346585,0A7.8949943161346585,7.8949943161346585,0,1,1,-7.8949943161346585,0A7.8949943161346585,7.8949943161346585,0,1,1,7.8949943161346585,0\" style=\"fill: none; stroke: rgb(18, 93, 164); stroke-width: 2; opacity: 0.7;\"></path><path transform=\"translate(116.90909090909089,120.73333333333332)\" d=\"M8.081544887782984,0A8.081544887782984,8.081544887782984,0,1,1,-8.081544887782984,0A8.081544887782984,8.081544887782984,0,1,1,8.081544887782984,0\" style=\"fill: none; stroke: rgb(16, 86, 158); stroke-width: 2; opacity: 0.7;\"></path><path transform=\"translate(124.0909090909091,127.26666666666667)\" d=\"M8.163407349537133,0A8.163407349537133,8.163407349537133,0,1,1,-8.163407349537133,0A8.163407349537133,8.163407349537133,0,1,1,8.163407349537133,0\" style=\"fill: none; stroke: rgb(13, 80, 151); stroke-width: 2; opacity: 0.7;\"></path><path transform=\"translate(143.54545454545456,127.86666666666666)\" d=\"M8.393034678665092,0A8.393034678665092,8.393034678665092,0,1,1,-8.393034678665092,0A8.393034678665092,8.393034678665092,0,1,1,8.393034678665092,0\" style=\"fill: none; stroke: rgb(10, 74, 144); stroke-width: 2; opacity: 0.7;\"></path><path transform=\"translate(27.363636363636363,133.93333333333334)\" d=\"M3.0698032888639504,0A3.0698032888639504,3.0698032888639504,0,1,1,-3.0698032888639504,0A3.0698032888639504,3.0698032888639504,0,1,1,3.0698032888639504,0\" style=\"fill: none; stroke: rgb(207, 225, 242); stroke-width: 2; opacity: 0.7;\"></path><path transform=\"translate(27.18181818181818,136.4)\" d=\"M3.170009607399962,0A3.170009607399962,3.170009607399962,0,1,1,-3.170009607399962,0A3.170009607399962,3.170009607399962,0,1,1,3.170009607399962,0\" style=\"fill: none; stroke: rgb(201, 222, 240); stroke-width: 2; opacity: 0.7;\"></path><path transform=\"translate(27.27272727272727,134.46666666666667)\" d=\"M3.288202536590329,0A3.288202536590329,3.288202536590329,0,1,1,-3.288202536590329,0A3.288202536590329,3.288202536590329,0,1,1,3.288202536590329,0\" style=\"fill: none; stroke: rgb(195, 219, 238); stroke-width: 2; opacity: 0.7;\"></path><path transform=\"translate(31.54545454545455,142.06666666666666)\" d=\"M3.4272611155183133,0A3.4272611155183133,3.4272611155183133,0,1,1,-3.4272611155183133,0A3.4272611155183133,3.4272611155183133,0,1,1,3.4272611155183133,0\" style=\"fill: none; stroke: rgb(189, 216, 236); stroke-width: 2; opacity: 0.7;\"></path><path transform=\"translate(31.818181818181817,133.53333333333333)\" d=\"M3.5063148595674316,0A3.5063148595674316,3.5063148595674316,0,1,1,-3.5063148595674316,0A3.5063148595674316,3.5063148595674316,0,1,1,3.5063148595674316,0\" style=\"fill: none; stroke: rgb(182, 212, 233); stroke-width: 2; opacity: 0.7;\"></path><path transform=\"translate(33.72727272727273,132.33333333333334)\" d=\"M3.626982681877337,0A3.626982681877337,3.626982681877337,0,1,1,-3.626982681877337,0A3.626982681877337,3.626982681877337,0,1,1,3.626982681877337,0\" style=\"fill: none; stroke: rgb(174, 209, 231); stroke-width: 2; opacity: 0.7;\"></path><path transform=\"translate(34.18181818181819,133.2)\" d=\"M3.7154586756980583,0A3.7154586756980583,3.7154586756980583,0,1,1,-3.7154586756980583,0A3.7154586756980583,3.7154586756980583,0,1,1,3.7154586756980583,0\" style=\"fill: none; stroke: rgb(166, 205, 229); stroke-width: 2; opacity: 0.7;\"></path><path transform=\"translate(35.18181818181819,135.53333333333333)\" d=\"M3.7858232103883966,0A3.7858232103883966,3.7858232103883966,0,1,1,-3.7858232103883966,0A3.7858232103883966,3.7858232103883966,0,1,1,3.7858232103883966,0\" style=\"fill: none; stroke: rgb(158, 201, 226); stroke-width: 2; opacity: 0.7;\"></path><path transform=\"translate(36.63636363636363,135.33333333333334)\" d=\"M3.870145603253033,0A3.870145603253033,3.870145603253033,0,1,1,-3.870145603253033,0A3.870145603253033,3.870145603253033,0,1,1,3.870145603253033,0\" style=\"fill: none; stroke: rgb(149, 196, 224); stroke-width: 2; opacity: 0.7;\"></path><path transform=\"translate(41.909090909090914,141)\" d=\"M3.991003704227527,0A3.991003704227527,3.991003704227527,0,1,1,-3.991003704227527,0A3.991003704227527,3.991003704227527,0,1,1,3.991003704227527,0\" style=\"fill: none; stroke: rgb(140, 191, 221); stroke-width: 2; opacity: 0.7;\"></path><path transform=\"translate(41.72727272727273,139.33333333333331)\" d=\"M4.238670080703376,0A4.238670080703376,4.238670080703376,0,1,1,-4.238670080703376,0A4.238670080703376,4.238670080703376,0,1,1,4.238670080703376,0\" style=\"fill: none; stroke: rgb(131, 186, 219); stroke-width: 2; opacity: 0.7;\"></path><path transform=\"translate(42.63636363636363,134.26666666666665)\" d=\"M4.457184224036428,0A4.457184224036428,4.457184224036428,0,1,1,-4.457184224036428,0A4.457184224036428,4.457184224036428,0,1,1,4.457184224036428,0\" style=\"fill: none; stroke: rgb(122, 181, 216); stroke-width: 2; opacity: 0.7;\"></path><path transform=\"translate(44.54545454545455,133.66666666666669)\" d=\"M4.693240914291281,0A4.693240914291281,4.693240914291281,0,1,1,-4.693240914291281,0A4.693240914291281,4.693240914291281,0,1,1,4.693240914291281,0\" style=\"fill: none; stroke: rgb(113, 176, 214); stroke-width: 2; opacity: 0.7;\"></path><path transform=\"translate(48.18181818181818,133.13333333333333)\" d=\"M4.910957766726955,0A4.910957766726955,4.910957766726955,0,1,1,-4.910957766726955,0A4.910957766726955,4.910957766726955,0,1,1,4.910957766726955,0\" style=\"fill: none; stroke: rgb(104, 171, 211); stroke-width: 2; opacity: 0.7;\"></path><path transform=\"translate(48.81818181818182,133.8)\" d=\"M5.10950070334475,0A5.10950070334475,5.10950070334475,0,1,1,-5.10950070334475,0A5.10950070334475,5.10950070334475,0,1,1,5.10950070334475,0\" style=\"fill: none; stroke: rgb(95, 166, 208); stroke-width: 2; opacity: 0.7;\"></path><path transform=\"translate(53.27272727272727,132.46666666666667)\" d=\"M5.424030733562795,0A5.424030733562795,5.424030733562795,0,1,1,-5.424030733562795,0A5.424030733562795,5.424030733562795,0,1,1,5.424030733562795,0\" style=\"fill: none; stroke: rgb(87, 160, 205); stroke-width: 2; opacity: 0.7;\"></path><path transform=\"translate(56.00000000000001,132.39999999999998)\" d=\"M5.701746321698926,0A5.701746321698926,5.701746321698926,0,1,1,-5.701746321698926,0A5.701746321698926,5.701746321698926,0,1,1,5.701746321698926,0\" style=\"fill: none; stroke: rgb(80, 154, 202); stroke-width: 2; opacity: 0.7;\"></path><path transform=\"translate(57.99999999999999,132.39999999999998)\" d=\"M5.967910319419796,0A5.967910319419796,5.967910319419796,0,1,1,-5.967910319419796,0A5.967910319419796,5.967910319419796,0,1,1,5.967910319419796,0\" style=\"fill: none; stroke: rgb(72, 148, 199); stroke-width: 2; opacity: 0.7;\"></path><path transform=\"translate(60.54545454545453,124.86666666666667)\" d=\"M6.235410436114298,0A6.235410436114298,6.235410436114298,0,1,1,-6.235410436114298,0A6.235410436114298,6.235410436114298,0,1,1,6.235410436114298,0\" style=\"fill: none; stroke: rgb(65, 142, 196); stroke-width: 2; opacity: 0.7;\"></path><path transform=\"translate(73,128.93333333333334)\" d=\"M6.4062752343165075,0A6.4062752343165075,6.4062752343165075,0,1,1,-6.4062752343165075,0A6.4062752343165075,6.4062752343165075,0,1,1,6.4062752343165075,0\" style=\"fill: none; stroke: rgb(58, 137, 193); stroke-width: 2; opacity: 0.7;\"></path><path transform=\"translate(84.63636363636363,131.73333333333332)\" d=\"M6.564973480121085,0A6.564973480121085,6.564973480121085,0,1,1,-6.564973480121085,0A6.564973480121085,6.564973480121085,0,1,1,6.564973480121085,0\" style=\"fill: none; stroke: rgb(51, 131, 190); stroke-width: 2; opacity: 0.7;\"></path><path transform=\"translate(96.27272727272728,135.86666666666667)\" d=\"M6.795329127769377,0A6.795329127769377,6.795329127769377,0,1,1,-6.795329127769377,0A6.795329127769377,6.795329127769377,0,1,1,6.795329127769377,0\" style=\"fill: none; stroke: rgb(45, 125, 186); stroke-width: 2; opacity: 0.7;\"></path><path transform=\"translate(104,135.66666666666669)\" d=\"M6.9463121954070965,0A6.9463121954070965,6.9463121954070965,0,1,1,-6.9463121954070965,0A6.9463121954070965,6.9463121954070965,0,1,1,6.9463121954070965,0\" style=\"fill: none; stroke: rgb(39, 118, 183); stroke-width: 2; opacity: 0.7;\"></path><path transform=\"translate(114.27272727272728,137.2)\" d=\"M7.11608337642808,0A7.11608337642808,7.11608337642808,0,1,1,-7.11608337642808,0A7.11608337642808,7.11608337642808,0,1,1,7.11608337642808,0\" style=\"fill: none; stroke: rgb(33, 112, 179); stroke-width: 2; opacity: 0.7;\"></path><path transform=\"translate(122,139.13333333333333)\" d=\"M7.272691797041529,0A7.272691797041529,7.272691797041529,0,1,1,-7.272691797041529,0A7.272691797041529,7.272691797041529,0,1,1,7.272691797041529,0\" style=\"fill: none; stroke: rgb(28, 106, 174); stroke-width: 2; opacity: 0.7;\"></path><path transform=\"translate(128.54545454545453,141.2)\" d=\"M7.491050249394469,0A7.491050249394469,7.491050249394469,0,1,1,-7.491050249394469,0A7.491050249394469,7.491050249394469,0,1,1,7.491050249394469,0\" style=\"fill: none; stroke: rgb(23, 99, 169); stroke-width: 2; opacity: 0.7;\"></path><path transform=\"translate(136.9090909090909,142.6)\" d=\"M7.7706559263153485,0A7.7706559263153485,7.7706559263153485,0,1,1,-7.7706559263153485,0A7.7706559263153485,7.7706559263153485,0,1,1,7.7706559263153485,0\" style=\"fill: none; stroke: rgb(18, 93, 164); stroke-width: 2; opacity: 0.7;\"></path><path transform=\"translate(152.27272727272728,144.39999999999998)\" d=\"M7.972886249193873,0A7.972886249193873,7.972886249193873,0,1,1,-7.972886249193873,0A7.972886249193873,7.972886249193873,0,1,1,7.972886249193873,0\" style=\"fill: none; stroke: rgb(16, 86, 158); stroke-width: 2; opacity: 0.7;\"></path><path transform=\"translate(161.27272727272728,147.53333333333333)\" d=\"M8.146380497615295,0A8.146380497615295,8.146380497615295,0,1,1,-8.146380497615295,0A8.146380497615295,8.146380497615295,0,1,1,8.146380497615295,0\" style=\"fill: none; stroke: rgb(13, 80, 151); stroke-width: 2; opacity: 0.7;\"></path><path transform=\"translate(181.0909090909091,145.93333333333334)\" d=\"M8.399556436073727,0A8.399556436073727,8.399556436073727,0,1,1,-8.399556436073727,0A8.399556436073727,8.399556436073727,0,1,1,8.399556436073727,0\" style=\"fill: none; stroke: rgb(10, 74, 144); stroke-width: 2; opacity: 0.7;\"></path><path transform=\"translate(25.181818181818183,125.46666666666667)\" d=\"M2.500110174718228,0A2.500110174718228,2.500110174718228,0,1,1,-2.500110174718228,0A2.500110174718228,2.500110174718228,0,1,1,2.500110174718228,0\" style=\"fill: none; stroke: rgb(207, 225, 242); stroke-width: 2; opacity: 0.7;\"></path><path transform=\"translate(25.454545454545453,127.33333333333333)\" d=\"M2.5948943357240264,0A2.5948943357240264,2.5948943357240264,0,1,1,-2.5948943357240264,0A2.5948943357240264,2.5948943357240264,0,1,1,2.5948943357240264,0\" style=\"fill: none; stroke: rgb(201, 222, 240); stroke-width: 2; opacity: 0.7;\"></path><path transform=\"translate(25.636363636363633,126.33333333333333)\" d=\"M2.6936340872446354,0A2.6936340872446354,2.6936340872446354,0,1,1,-2.6936340872446354,0A2.6936340872446354,2.6936340872446354,0,1,1,2.6936340872446354,0\" style=\"fill: none; stroke: rgb(195, 219, 238); stroke-width: 2; opacity: 0.7;\"></path><path transform=\"translate(25.818181818181817,125.86666666666666)\" d=\"M2.7705181314908365,0A2.7705181314908365,2.7705181314908365,0,1,1,-2.7705181314908365,0A2.7705181314908365,2.7705181314908365,0,1,1,2.7705181314908365,0\" style=\"fill: none; stroke: rgb(189, 216, 236); stroke-width: 2; opacity: 0.7;\"></path><path transform=\"translate(26.81818181818182,124.26666666666667)\" d=\"M2.864578703724522,0A2.864578703724522,2.864578703724522,0,1,1,-2.864578703724522,0A2.864578703724522,2.864578703724522,0,1,1,2.864578703724522,0\" style=\"fill: none; stroke: rgb(182, 212, 233); stroke-width: 2; opacity: 0.7;\"></path><path transform=\"translate(28.454545454545453,120.13333333333334)\" d=\"M2.9349852801694354,0A2.9349852801694354,2.9349852801694354,0,1,1,-2.9349852801694354,0A2.9349852801694354,2.9349852801694354,0,1,1,2.9349852801694354,0\" style=\"fill: none; stroke: rgb(174, 209, 231); stroke-width: 2; opacity: 0.7;\"></path><path transform=\"translate(29.18181818181818,125.26666666666667)\" d=\"M3.0375367918576597,0A3.0375367918576597,3.0375367918576597,0,1,1,-3.0375367918576597,0A3.0375367918576597,3.0375367918576597,0,1,1,3.0375367918576597,0\" style=\"fill: none; stroke: rgb(166, 205, 229); stroke-width: 2; opacity: 0.7;\"></path><path transform=\"translate(30.63636363636364,123.66666666666667)\" d=\"M3.224991653558135,0A3.224991653558135,3.224991653558135,0,1,1,-3.224991653558135,0A3.224991653558135,3.224991653558135,0,1,1,3.224991653558135,0\" style=\"fill: none; stroke: rgb(158, 201, 226); stroke-width: 2; opacity: 0.7;\"></path><path transform=\"translate(37.81818181818182,125.66666666666667)\" d=\"M3.349798841802587,0A3.349798841802587,3.349798841802587,0,1,1,-3.349798841802587,0A3.349798841802587,3.349798841802587,0,1,1,3.349798841802587,0\" style=\"fill: none; stroke: rgb(149, 196, 224); stroke-width: 2; opacity: 0.7;\"></path><path transform=\"translate(37.54545454545454,121.66666666666667)\" d=\"M3.492675537891304,0A3.492675537891304,3.492675537891304,0,1,1,-3.492675537891304,0A3.492675537891304,3.492675537891304,0,1,1,3.492675537891304,0\" style=\"fill: none; stroke: rgb(140, 191, 221); stroke-width: 2; opacity: 0.7;\"></path><path transform=\"translate(36.27272727272727,122.26666666666667)\" d=\"M3.6600930547385495,0A3.6600930547385495,3.6600930547385495,0,1,1,-3.6600930547385495,0A3.6600930547385495,3.6600930547385495,0,1,1,3.6600930547385495,0\" style=\"fill: none; stroke: rgb(131, 186, 219); stroke-width: 2; opacity: 0.7;\"></path><path transform=\"translate(38.18181818181819,120.06666666666666)\" d=\"M3.8631053391778574,0A3.8631053391778574,3.8631053391778574,0,1,1,-3.8631053391778574,0A3.8631053391778574,3.8631053391778574,0,1,1,3.8631053391778574,0\" style=\"fill: none; stroke: rgb(122, 181, 216); stroke-width: 2; opacity: 0.7;\"></path><path transform=\"translate(41.09090909090909,117.86666666666666)\" d=\"M4.077691098957705,0A4.077691098957705,4.077691098957705,0,1,1,-4.077691098957705,0A4.077691098957705,4.077691098957705,0,1,1,4.077691098957705,0\" style=\"fill: none; stroke: rgb(113, 176, 214); stroke-width: 2; opacity: 0.7;\"></path><path transform=\"translate(44,113.53333333333335)\" d=\"M4.263155816812754,0A4.263155816812754,4.263155816812754,0,1,1,-4.263155816812754,0A4.263155816812754,4.263155816812754,0,1,1,4.263155816812754,0\" style=\"fill: none; stroke: rgb(104, 171, 211); stroke-width: 2; opacity: 0.7;\"></path><path transform=\"translate(44.45454545454545,110.73333333333333)\" d=\"M4.455005000190054,0A4.455005000190054,4.455005000190054,0,1,1,-4.455005000190054,0A4.455005000190054,4.455005000190054,0,1,1,4.455005000190054,0\" style=\"fill: none; stroke: rgb(95, 166, 208); stroke-width: 2; opacity: 0.7;\"></path><path transform=\"translate(49,112.26666666666667)\" d=\"M4.649072057469383,0A4.649072057469383,4.649072057469383,0,1,1,-4.649072057469383,0A4.649072057469383,4.649072057469383,0,1,1,4.649072057469383,0\" style=\"fill: none; stroke: rgb(87, 160, 205); stroke-width: 2; opacity: 0.7;\"></path><path transform=\"translate(56.72727272727273,118.60000000000001)\" d=\"M4.87659178454018,0A4.87659178454018,4.87659178454018,0,1,1,-4.87659178454018,0A4.87659178454018,4.87659178454018,0,1,1,4.87659178454018,0\" style=\"fill: none; stroke: rgb(80, 154, 202); stroke-width: 2; opacity: 0.7;\"></path><path transform=\"translate(58.454545454545446,118.46666666666667)\" d=\"M5.078134364908334,0A5.078134364908334,5.078134364908334,0,1,1,-5.078134364908334,0A5.078134364908334,5.078134364908334,0,1,1,5.078134364908334,0\" style=\"fill: none; stroke: rgb(72, 148, 199); stroke-width: 2; opacity: 0.7;\"></path><path transform=\"translate(60.18181818181818,119.66666666666667)\" d=\"M5.273094774366031,0A5.273094774366031,5.273094774366031,0,1,1,-5.273094774366031,0A5.273094774366031,5.273094774366031,0,1,1,5.273094774366031,0\" style=\"fill: none; stroke: rgb(65, 142, 196); stroke-width: 2; opacity: 0.7;\"></path><path transform=\"translate(68.27272727272727,120.13333333333334)\" d=\"M5.463974576667628,0A5.463974576667628,5.463974576667628,0,1,1,-5.463974576667628,0A5.463974576667628,5.463974576667628,0,1,1,5.463974576667628,0\" style=\"fill: none; stroke: rgb(58, 137, 193); stroke-width: 2; opacity: 0.7;\"></path><path transform=\"translate(80.18181818181819,122.86666666666667)\" d=\"M5.534300731260618,0A5.534300731260618,5.534300731260618,0,1,1,-5.534300731260618,0A5.534300731260618,5.534300731260618,0,1,1,5.534300731260618,0\" style=\"fill: none; stroke: rgb(51, 131, 190); stroke-width: 2; opacity: 0.7;\"></path><path transform=\"translate(88.36363636363636,125.4)\" d=\"M5.710967926031967,0A5.710967926031967,5.710967926031967,0,1,1,-5.710967926031967,0A5.710967926031967,5.710967926031967,0,1,1,5.710967926031967,0\" style=\"fill: none; stroke: rgb(45, 125, 186); stroke-width: 2; opacity: 0.7;\"></path><path transform=\"translate(93.81818181818183,127.26666666666667)\" d=\"M5.8602639736994355,0A5.8602639736994355,5.8602639736994355,0,1,1,-5.8602639736994355,0A5.8602639736994355,5.8602639736994355,0,1,1,5.8602639736994355,0\" style=\"fill: none; stroke: rgb(39, 118, 183); stroke-width: 2; opacity: 0.7;\"></path><path transform=\"translate(94.63636363636363,125.26666666666667)\" d=\"M5.99013974882347,0A5.99013974882347,5.99013974882347,0,1,1,-5.99013974882347,0A5.99013974882347,5.99013974882347,0,1,1,5.99013974882347,0\" style=\"fill: none; stroke: rgb(33, 112, 179); stroke-width: 2; opacity: 0.7;\"></path><path transform=\"translate(102.54545454545453,128.33333333333331)\" d=\"M6.127519383308287,0A6.127519383308287,6.127519383308287,0,1,1,-6.127519383308287,0A6.127519383308287,6.127519383308287,0,1,1,6.127519383308287,0\" style=\"fill: none; stroke: rgb(28, 106, 174); stroke-width: 2; opacity: 0.7;\"></path><path transform=\"translate(111.09090909090908,127.26666666666667)\" d=\"M6.3407056712534136,0A6.3407056712534136,6.3407056712534136,0,1,1,-6.3407056712534136,0A6.3407056712534136,6.3407056712534136,0,1,1,6.3407056712534136,0\" style=\"fill: none; stroke: rgb(23, 99, 169); stroke-width: 2; opacity: 0.7;\"></path><path transform=\"translate(119.27272727272727,130.66666666666666)\" d=\"M6.529731610361519,0A6.529731610361519,6.529731610361519,0,1,1,-6.529731610361519,0A6.529731610361519,6.529731610361519,0,1,1,6.529731610361519,0\" style=\"fill: none; stroke: rgb(18, 93, 164); stroke-width: 2; opacity: 0.7;\"></path><path transform=\"translate(129.9090909090909,130.60000000000002)\" d=\"M6.835549243933443,0A6.835549243933443,6.835549243933443,0,1,1,-6.835549243933443,0A6.835549243933443,6.835549243933443,0,1,1,6.835549243933443,0\" style=\"fill: none; stroke: rgb(16, 86, 158); stroke-width: 2; opacity: 0.7;\"></path><path transform=\"translate(131,133.26666666666665)\" d=\"M6.958890822570375,0A6.958890822570375,6.958890822570375,0,1,1,-6.958890822570375,0A6.958890822570375,6.958890822570375,0,1,1,6.958890822570375,0\" style=\"fill: none; stroke: rgb(13, 80, 151); stroke-width: 2; opacity: 0.7;\"></path><path transform=\"translate(143.8181818181818,134.66666666666669)\" d=\"M7.273557102282891,0A7.273557102282891,7.273557102282891,0,1,1,-7.273557102282891,0A7.273557102282891,7.273557102282891,0,1,1,7.273557102282891,0\" style=\"fill: none; stroke: rgb(10, 74, 144); stroke-width: 2; opacity: 0.7;\"></path><path transform=\"translate(25.09090909090909,126.4)\" d=\"M2.8973846008817827,0A2.8973846008817827,2.8973846008817827,0,1,1,-2.8973846008817827,0A2.8973846008817827,2.8973846008817827,0,1,1,2.8973846008817827,0\" style=\"fill: none; stroke: rgb(207, 225, 242); stroke-width: 2; opacity: 0.7;\"></path><path transform=\"translate(26.81818181818182,129.2)\" d=\"M3.004242683335319,0A3.004242683335319,3.004242683335319,0,1,1,-3.004242683335319,0A3.004242683335319,3.004242683335319,0,1,1,3.004242683335319,0\" style=\"fill: none; stroke: rgb(201, 222, 240); stroke-width: 2; opacity: 0.7;\"></path><path transform=\"translate(27.090909090909093,127.06666666666666)\" d=\"M3.0995112781252994,0A3.0995112781252994,3.0995112781252994,0,1,1,-3.0995112781252994,0A3.0995112781252994,3.0995112781252994,0,1,1,3.0995112781252994,0\" style=\"fill: none; stroke: rgb(195, 219, 238); stroke-width: 2; opacity: 0.7;\"></path><path transform=\"translate(29.18181818181818,129.13333333333333)\" d=\"M3.209210553824761,0A3.209210553824761,3.209210553824761,0,1,1,-3.209210553824761,0A3.209210553824761,3.209210553824761,0,1,1,3.209210553824761,0\" style=\"fill: none; stroke: rgb(189, 216, 236); stroke-width: 2; opacity: 0.7;\"></path><path transform=\"translate(29.818181818181817,127.8)\" d=\"M3.26550014217486,0A3.26550014217486,3.26550014217486,0,1,1,-3.26550014217486,0A3.26550014217486,3.26550014217486,0,1,1,3.26550014217486,0\" style=\"fill: none; stroke: rgb(182, 212, 233); stroke-width: 2; opacity: 0.7;\"></path><path transform=\"translate(30.545454545454547,125.73333333333333)\" d=\"M3.3909998361040636,0A3.3909998361040636,3.3909998361040636,0,1,1,-3.3909998361040636,0A3.3909998361040636,3.3909998361040636,0,1,1,3.3909998361040636,0\" style=\"fill: none; stroke: rgb(174, 209, 231); stroke-width: 2; opacity: 0.7;\"></path><path transform=\"translate(30.545454545454547,125.66666666666667)\" d=\"M3.4874455988677404,0A3.4874455988677404,3.4874455988677404,0,1,1,-3.4874455988677404,0A3.4874455988677404,3.4874455988677404,0,1,1,3.4874455988677404,0\" style=\"fill: none; stroke: rgb(166, 205, 229); stroke-width: 2; opacity: 0.7;\"></path><path transform=\"translate(35,129.06666666666666)\" d=\"M3.614303003055935,0A3.614303003055935,3.614303003055935,0,1,1,-3.614303003055935,0A3.614303003055935,3.614303003055935,0,1,1,3.614303003055935,0\" style=\"fill: none; stroke: rgb(158, 201, 226); stroke-width: 2; opacity: 0.7;\"></path><path transform=\"translate(36.54545454545455,129.73333333333335)\" d=\"M3.74342571760443,0A3.74342571760443,3.74342571760443,0,1,1,-3.74342571760443,0A3.74342571760443,3.74342571760443,0,1,1,3.74342571760443,0\" style=\"fill: none; stroke: rgb(149, 196, 224); stroke-width: 2; opacity: 0.7;\"></path><path transform=\"translate(36.63636363636363,127.46666666666667)\" d=\"M3.862413822877827,0A3.862413822877827,3.862413822877827,0,1,1,-3.862413822877827,0A3.862413822877827,3.862413822877827,0,1,1,3.862413822877827,0\" style=\"fill: none; stroke: rgb(140, 191, 221); stroke-width: 2; opacity: 0.7;\"></path><path transform=\"translate(38.72727272727273,127)\" d=\"M4.086512463127485,0A4.086512463127485,4.086512463127485,0,1,1,-4.086512463127485,0A4.086512463127485,4.086512463127485,0,1,1,4.086512463127485,0\" style=\"fill: none; stroke: rgb(131, 186, 219); stroke-width: 2; opacity: 0.7;\"></path><path transform=\"translate(39.90909090909091,125.46666666666667)\" d=\"M4.257787455026804,0A4.257787455026804,4.257787455026804,0,1,1,-4.257787455026804,0A4.257787455026804,4.257787455026804,0,1,1,4.257787455026804,0\" style=\"fill: none; stroke: rgb(122, 181, 216); stroke-width: 2; opacity: 0.7;\"></path><path transform=\"translate(42.36363636363637,124.33333333333333)\" d=\"M4.439531562276996,0A4.439531562276996,4.439531562276996,0,1,1,-4.439531562276996,0A4.439531562276996,4.439531562276996,0,1,1,4.439531562276996,0\" style=\"fill: none; stroke: rgb(113, 176, 214); stroke-width: 2; opacity: 0.7;\"></path><path transform=\"translate(46.63636363636363,123.06666666666666)\" d=\"M4.632722608362516,0A4.632722608362516,4.632722608362516,0,1,1,-4.632722608362516,0A4.632722608362516,4.632722608362516,0,1,1,4.632722608362516,0\" style=\"fill: none; stroke: rgb(104, 171, 211); stroke-width: 2; opacity: 0.7;\"></path><path transform=\"translate(47.36363636363636,121.86666666666667)\" d=\"M4.869742523862307,0A4.869742523862307,4.869742523862307,0,1,1,-4.869742523862307,0A4.869742523862307,4.869742523862307,0,1,1,4.869742523862307,0\" style=\"fill: none; stroke: rgb(95, 166, 208); stroke-width: 2; opacity: 0.7;\"></path><path transform=\"translate(51.909090909090914,122.2)\" d=\"M5.130189022116404,0A5.130189022116404,5.130189022116404,0,1,1,-5.130189022116404,0A5.130189022116404,5.130189022116404,0,1,1,5.130189022116404,0\" style=\"fill: none; stroke: rgb(87, 160, 205); stroke-width: 2; opacity: 0.7;\"></path><path transform=\"translate(53.36363636363637,121.93333333333334)\" d=\"M5.460403452528805,0A5.460403452528805,5.460403452528805,0,1,1,-5.460403452528805,0A5.460403452528805,5.460403452528805,0,1,1,5.460403452528805,0\" style=\"fill: none; stroke: rgb(80, 154, 202); stroke-width: 2; opacity: 0.7;\"></path><path transform=\"translate(55.63636363636364,121.60000000000001)\" d=\"M5.654201828914166,0A5.654201828914166,5.654201828914166,0,1,1,-5.654201828914166,0A5.654201828914166,5.654201828914166,0,1,1,5.654201828914166,0\" style=\"fill: none; stroke: rgb(72, 148, 199); stroke-width: 2; opacity: 0.7;\"></path><path transform=\"translate(59.00000000000001,120.06666666666666)\" d=\"M5.821209350605003,0A5.821209350605003,5.821209350605003,0,1,1,-5.821209350605003,0A5.821209350605003,5.821209350605003,0,1,1,5.821209350605003,0\" style=\"fill: none; stroke: rgb(65, 142, 196); stroke-width: 2; opacity: 0.7;\"></path><path transform=\"translate(68.18181818181817,122.93333333333334)\" d=\"M5.997570761203935,0A5.997570761203935,5.997570761203935,0,1,1,-5.997570761203935,0A5.997570761203935,5.997570761203935,0,1,1,5.997570761203935,0\" style=\"fill: none; stroke: rgb(58, 137, 193); stroke-width: 2; opacity: 0.7;\"></path><path transform=\"translate(83.63636363636363,129.13333333333333)\" d=\"M6.196049166084729,0A6.196049166084729,6.196049166084729,0,1,1,-6.196049166084729,0A6.196049166084729,6.196049166084729,0,1,1,6.196049166084729,0\" style=\"fill: none; stroke: rgb(51, 131, 190); stroke-width: 2; opacity: 0.7;\"></path><path transform=\"translate(91.63636363636364,129.60000000000002)\" d=\"M6.45151253235247,0A6.45151253235247,6.45151253235247,0,1,1,-6.45151253235247,0A6.45151253235247,6.45151253235247,0,1,1,6.45151253235247,0\" style=\"fill: none; stroke: rgb(45, 125, 186); stroke-width: 2; opacity: 0.7;\"></path><path transform=\"translate(97.09090909090908,128.66666666666666)\" d=\"M6.627166280331907,0A6.627166280331907,6.627166280331907,0,1,1,-6.627166280331907,0A6.627166280331907,6.627166280331907,0,1,1,6.627166280331907,0\" style=\"fill: none; stroke: rgb(39, 118, 183); stroke-width: 2; opacity: 0.7;\"></path><path transform=\"translate(100.72727272727273,129.73333333333335)\" d=\"M6.783207185681233,0A6.783207185681233,6.783207185681233,0,1,1,-6.783207185681233,0A6.783207185681233,6.783207185681233,0,1,1,6.783207185681233,0\" style=\"fill: none; stroke: rgb(33, 112, 179); stroke-width: 2; opacity: 0.7;\"></path><path transform=\"translate(105.72727272727272,129.33333333333331)\" d=\"M6.946357900170584,0A6.946357900170584,6.946357900170584,0,1,1,-6.946357900170584,0A6.946357900170584,6.946357900170584,0,1,1,6.946357900170584,0\" style=\"fill: none; stroke: rgb(28, 106, 174); stroke-width: 2; opacity: 0.7;\"></path><path transform=\"translate(116.90909090909089,131.60000000000002)\" d=\"M7.166019494750943,0A7.166019494750943,7.166019494750943,0,1,1,-7.166019494750943,0A7.166019494750943,7.166019494750943,0,1,1,7.166019494750943,0\" style=\"fill: none; stroke: rgb(23, 99, 169); stroke-width: 2; opacity: 0.7;\"></path><path transform=\"translate(125.72727272727273,133.13333333333333)\" d=\"M7.382177438186671,0A7.382177438186671,7.382177438186671,0,1,1,-7.382177438186671,0A7.382177438186671,7.382177438186671,0,1,1,7.382177438186671,0\" style=\"fill: none; stroke: rgb(18, 93, 164); stroke-width: 2; opacity: 0.7;\"></path><path transform=\"translate(137.36363636363635,137.26666666666668)\" d=\"M7.648898987200102,0A7.648898987200102,7.648898987200102,0,1,1,-7.648898987200102,0A7.648898987200102,7.648898987200102,0,1,1,7.648898987200102,0\" style=\"fill: none; stroke: rgb(16, 86, 158); stroke-width: 2; opacity: 0.7;\"></path><path transform=\"translate(144.18181818181816,136.33333333333331)\" d=\"M7.7706559263153485,0A7.7706559263153485,7.7706559263153485,0,1,1,-7.7706559263153485,0A7.7706559263153485,7.7706559263153485,0,1,1,7.7706559263153485,0\" style=\"fill: none; stroke: rgb(13, 80, 151); stroke-width: 2; opacity: 0.7;\"></path><path transform=\"translate(160.45454545454544,135.86666666666667)\" d=\"M7.997133029445458,0A7.997133029445458,7.997133029445458,0,1,1,-7.997133029445458,0A7.997133029445458,7.997133029445458,0,1,1,7.997133029445458,0\" style=\"fill: none; stroke: rgb(10, 74, 144); stroke-width: 2; opacity: 0.7;\"></path><path transform=\"translate(23.81818181818182,116.26666666666668)\" d=\"M2.9419818803397515,0A2.9419818803397515,2.9419818803397515,0,1,1,-2.9419818803397515,0A2.9419818803397515,2.9419818803397515,0,1,1,2.9419818803397515,0\" style=\"fill: none; stroke: rgb(207, 225, 242); stroke-width: 2; opacity: 0.7;\"></path><path transform=\"translate(23.81818181818182,110.66666666666667)\" d=\"M3.0145673287976082,0A3.0145673287976082,3.0145673287976082,0,1,1,-3.0145673287976082,0A3.0145673287976082,3.0145673287976082,0,1,1,3.0145673287976082,0\" style=\"fill: none; stroke: rgb(201, 222, 240); stroke-width: 2; opacity: 0.7;\"></path><path transform=\"translate(23.727272727272727,108.26666666666667)\" d=\"M3.106979123992869,0A3.106979123992869,3.106979123992869,0,1,1,-3.106979123992869,0A3.106979123992869,3.106979123992869,0,1,1,3.106979123992869,0\" style=\"fill: none; stroke: rgb(195, 219, 238); stroke-width: 2; opacity: 0.7;\"></path><path transform=\"translate(24.09090909090909,111.13333333333333)\" d=\"M3.1846896837911554,0A3.1846896837911554,3.1846896837911554,0,1,1,-3.1846896837911554,0A3.1846896837911554,3.1846896837911554,0,1,1,3.1846896837911554,0\" style=\"fill: none; stroke: rgb(189, 216, 236); stroke-width: 2; opacity: 0.7;\"></path><path transform=\"translate(24.90909090909091,108.39999999999999)\" d=\"M3.2950658151232037,0A3.2950658151232037,3.2950658151232037,0,1,1,-3.2950658151232037,0A3.2950658151232037,3.2950658151232037,0,1,1,3.2950658151232037,0\" style=\"fill: none; stroke: rgb(182, 212, 233); stroke-width: 2; opacity: 0.7;\"></path><path transform=\"translate(29.545454545454547,109)\" d=\"M3.380414554416696,0A3.380414554416696,3.380414554416696,0,1,1,-3.380414554416696,0A3.380414554416696,3.380414554416696,0,1,1,3.380414554416696,0\" style=\"fill: none; stroke: rgb(174, 209, 231); stroke-width: 2; opacity: 0.7;\"></path><path transform=\"translate(29.63636363636364,109.53333333333333)\" d=\"M3.4630774835088194,0A3.4630774835088194,3.4630774835088194,0,1,1,-3.4630774835088194,0A3.4630774835088194,3.4630774835088194,0,1,1,3.4630774835088194,0\" style=\"fill: none; stroke: rgb(166, 205, 229); stroke-width: 2; opacity: 0.7;\"></path><path transform=\"translate(31,111.86666666666667)\" d=\"M3.576161451744419,0A3.576161451744419,3.576161451744419,0,1,1,-3.576161451744419,0A3.576161451744419,3.576161451744419,0,1,1,3.576161451744419,0\" style=\"fill: none; stroke: rgb(158, 201, 226); stroke-width: 2; opacity: 0.7;\"></path><path transform=\"translate(31.27272727272727,112.20000000000002)\" d=\"M3.7076387711747487,0A3.7076387711747487,3.7076387711747487,0,1,1,-3.7076387711747487,0A3.7076387711747487,3.7076387711747487,0,1,1,3.7076387711747487,0\" style=\"fill: none; stroke: rgb(149, 196, 224); stroke-width: 2; opacity: 0.7;\"></path><path transform=\"translate(31.27272727272727,106.66666666666667)\" d=\"M3.943190801224722,0A3.943190801224722,3.943190801224722,0,1,1,-3.943190801224722,0A3.943190801224722,3.943190801224722,0,1,1,3.943190801224722,0\" style=\"fill: none; stroke: rgb(140, 191, 221); stroke-width: 2; opacity: 0.7;\"></path><path transform=\"translate(31.27272727272727,105.86666666666667)\" d=\"M4.19781508308638,0A4.19781508308638,4.19781508308638,0,1,1,-4.19781508308638,0A4.19781508308638,4.19781508308638,0,1,1,4.19781508308638,0\" style=\"fill: none; stroke: rgb(131, 186, 219); stroke-width: 2; opacity: 0.7;\"></path><path transform=\"translate(32.54545454545455,102.8)\" d=\"M4.413659504202323,0A4.413659504202323,4.413659504202323,0,1,1,-4.413659504202323,0A4.413659504202323,4.413659504202323,0,1,1,4.413659504202323,0\" style=\"fill: none; stroke: rgb(122, 181, 216); stroke-width: 2; opacity: 0.7;\"></path><path transform=\"translate(35.09090909090909,92.86666666666667)\" d=\"M4.619429506582332,0A4.619429506582332,4.619429506582332,0,1,1,-4.619429506582332,0A4.619429506582332,4.619429506582332,0,1,1,4.619429506582332,0\" style=\"fill: none; stroke: rgb(113, 176, 214); stroke-width: 2; opacity: 0.7;\"></path><path transform=\"translate(38.72727272727273,92.33333333333333)\" d=\"M4.83859760087649,0A4.83859760087649,4.83859760087649,0,1,1,-4.83859760087649,0A4.83859760087649,4.83859760087649,0,1,1,4.83859760087649,0\" style=\"fill: none; stroke: rgb(104, 171, 211); stroke-width: 2; opacity: 0.7;\"></path><path transform=\"translate(39.45454545454545,93.06666666666665)\" d=\"M5.0964550057507045,0A5.0964550057507045,5.0964550057507045,0,1,1,-5.0964550057507045,0A5.0964550057507045,5.0964550057507045,0,1,1,5.0964550057507045,0\" style=\"fill: none; stroke: rgb(95, 166, 208); stroke-width: 2; opacity: 0.7;\"></path><path transform=\"translate(45.27272727272727,93.13333333333334)\" d=\"M5.455645184159933,0A5.455645184159933,5.455645184159933,0,1,1,-5.455645184159933,0A5.455645184159933,5.455645184159933,0,1,1,5.455645184159933,0\" style=\"fill: none; stroke: rgb(87, 160, 205); stroke-width: 2; opacity: 0.7;\"></path><path transform=\"translate(47,87.60000000000001)\" d=\"M5.76007696472451,0A5.76007696472451,5.76007696472451,0,1,1,-5.76007696472451,0A5.76007696472451,5.76007696472451,0,1,1,5.76007696472451,0\" style=\"fill: none; stroke: rgb(80, 154, 202); stroke-width: 2; opacity: 0.7;\"></path><path transform=\"translate(50.272727272727266,94.6)\" d=\"M6.064218172371701,0A6.064218172371701,6.064218172371701,0,1,1,-6.064218172371701,0A6.064218172371701,6.064218172371701,0,1,1,6.064218172371701,0\" style=\"fill: none; stroke: rgb(72, 148, 199); stroke-width: 2; opacity: 0.7;\"></path><path transform=\"translate(50.81818181818182,91.26666666666668)\" d=\"M6.268665053940638,0A6.268665053940638,6.268665053940638,0,1,1,-6.268665053940638,0A6.268665053940638,6.268665053940638,0,1,1,6.268665053940638,0\" style=\"fill: none; stroke: rgb(65, 142, 196); stroke-width: 2; opacity: 0.7;\"></path><path transform=\"translate(58.454545454545446,94.86666666666667)\" d=\"M6.310104322116533,0A6.310104322116533,6.310104322116533,0,1,1,-6.310104322116533,0A6.310104322116533,6.310104322116533,0,1,1,6.310104322116533,0\" style=\"fill: none; stroke: rgb(58, 137, 193); stroke-width: 2; opacity: 0.7;\"></path><path transform=\"translate(64.54545454545455,105.86666666666667)\" d=\"M6.208753926908998,0A6.208753926908998,6.208753926908998,0,1,1,-6.208753926908998,0A6.208753926908998,6.208753926908998,0,1,1,6.208753926908998,0\" style=\"fill: none; stroke: rgb(51, 131, 190); stroke-width: 2; opacity: 0.7;\"></path><path transform=\"translate(74.27272727272728,114.06666666666666)\" d=\"M6.372550579936764,0A6.372550579936764,6.372550579936764,0,1,1,-6.372550579936764,0A6.372550579936764,6.372550579936764,0,1,1,6.372550579936764,0\" style=\"fill: none; stroke: rgb(45, 125, 186); stroke-width: 2; opacity: 0.7;\"></path><path transform=\"translate(79.45454545454545,116.2)\" d=\"M6.511175499568524,0A6.511175499568524,6.511175499568524,0,1,1,-6.511175499568524,0A6.511175499568524,6.511175499568524,0,1,1,6.511175499568524,0\" style=\"fill: none; stroke: rgb(39, 118, 183); stroke-width: 2; opacity: 0.7;\"></path><path transform=\"translate(88.9090909090909,116.8)\" d=\"M6.585838184803666,0A6.585838184803666,6.585838184803666,0,1,1,-6.585838184803666,0A6.585838184803666,6.585838184803666,0,1,1,6.585838184803666,0\" style=\"fill: none; stroke: rgb(33, 112, 179); stroke-width: 2; opacity: 0.7;\"></path><path transform=\"translate(93.36363636363637,126.4)\" d=\"M6.59319666547596,0A6.59319666547596,6.59319666547596,0,1,1,-6.59319666547596,0A6.59319666547596,6.59319666547596,0,1,1,6.59319666547596,0\" style=\"fill: none; stroke: rgb(28, 106, 174); stroke-width: 2; opacity: 0.7;\"></path><path transform=\"translate(102.63636363636364,123.8)\" d=\"M6.794513481653461,0A6.794513481653461,6.794513481653461,0,1,1,-6.794513481653461,0A6.794513481653461,6.794513481653461,0,1,1,6.794513481653461,0\" style=\"fill: none; stroke: rgb(23, 99, 169); stroke-width: 2; opacity: 0.7;\"></path><path transform=\"translate(107.81818181818181,125.73333333333333)\" d=\"M6.963947544193867,0A6.963947544193867,6.963947544193867,0,1,1,-6.963947544193867,0A6.963947544193867,6.963947544193867,0,1,1,6.963947544193867,0\" style=\"fill: none; stroke: rgb(18, 93, 164); stroke-width: 2; opacity: 0.7;\"></path><path transform=\"translate(117.72727272727272,135.39999999999998)\" d=\"M7.365734270609893,0A7.365734270609893,7.365734270609893,0,1,1,-7.365734270609893,0A7.365734270609893,7.365734270609893,0,1,1,7.365734270609893,0\" style=\"fill: none; stroke: rgb(16, 86, 158); stroke-width: 2; opacity: 0.7;\"></path><path transform=\"translate(115.45454545454545,127.26666666666667)\" d=\"M7.576196253725139,0A7.576196253725139,7.576196253725139,0,1,1,-7.576196253725139,0A7.576196253725139,7.576196253725139,0,1,1,7.576196253725139,0\" style=\"fill: none; stroke: rgb(13, 80, 151); stroke-width: 2; opacity: 0.7;\"></path><path transform=\"translate(141,126.13333333333333)\" d=\"M7.813072896564089,0A7.813072896564089,7.813072896564089,0,1,1,-7.813072896564089,0A7.813072896564089,7.813072896564089,0,1,1,7.813072896564089,0\" style=\"fill: none; stroke: rgb(10, 74, 144); stroke-width: 2; opacity: 0.7;\"></path></g><g class=\"mark-group role-legend\"><g transform=\"translate(218,0)\"><path class=\"background\" d=\"M0,0h30v216h-30Z\" style=\"pointer-events: none; fill: none;\"></path><g><g class=\"mark-group role-legend-entry\"><g transform=\"translate(0,16)\"><path class=\"background\" d=\"M0,0h0v0h0Z\" style=\"pointer-events: none; fill: none;\"></path><g><g class=\"mark-rect role-legend-gradient\" style=\"pointer-events: none;\"><path d=\"M0,0h16v200h-16Z\" style=\"fill: url(#gradient_0); stroke: #ddd; stroke-width: 0; opacity: 0.7;\"></path></g><g class=\"mark-text role-legend-label\" style=\"pointer-events: none;\"><text text-anchor=\"start\" transform=\"translate(18,154.72413793103448)\" style=\"font-family: sans-serif; font-size: 10px; fill: #000; opacity: 1;\">70</text><text text-anchor=\"start\" transform=\"translate(18,85.75862068965519)\" style=\"font-family: sans-serif; font-size: 10px; fill: #000; opacity: 1;\">80</text><text text-anchor=\"start\" transform=\"translate(18,16.79310344827587)\" style=\"font-family: sans-serif; font-size: 10px; fill: #000; opacity: 1;\">90</text></g></g></g></g><g class=\"mark-text role-legend-title\" style=\"pointer-events: none;\"><text text-anchor=\"start\" transform=\"translate(0,9)\" style=\"font-family: sans-serif; font-size: 11px; font-weight: bold; fill: #000; opacity: 1;\">Year</text></g></g></g></g><g class=\"mark-group role-legend\"><g transform=\"translate(218,224)\"><path class=\"background\" d=\"M0,0h57v92h-57Z\" style=\"pointer-events: none; fill: none;\"></path><g><g class=\"mark-group role-legend-entry\"><g transform=\"translate(0,16)\"><path class=\"background\" d=\"M0,0h0v0h0Z\" style=\"pointer-events: none; fill: none;\"></path><g><g class=\"mark-group role-scope\"><g transform=\"translate(0,0)\"><path class=\"background\" d=\"M0,0h57v11.422289434394052h-57Z\" style=\"pointer-events: none; fill: none; opacity: 1;\"></path><g><g class=\"mark-symbol role-legend-symbol\" style=\"pointer-events: none;\"><path transform=\"translate(10,5.5)\" d=\"M4.4222894343940515,0A4.4222894343940515,4.4222894343940515,0,1,1,-4.4222894343940515,0A4.4222894343940515,4.4222894343940515,0,1,1,4.4222894343940515,0\" style=\"fill: none; stroke: #888; stroke-width: 1.5; opacity: 0.7;\"></path></g><g class=\"mark-text role-legend-label\" style=\"pointer-events: none;\"><text text-anchor=\"start\" transform=\"translate(24,8.5)\" style=\"font-family: sans-serif; font-size: 10px; fill: #000; opacity: 1;\">5,000</text></g></g></g><g transform=\"translate(0,15)\"><path class=\"background\" d=\"M0,0h57v15.25406169485931h-57Z\" style=\"pointer-events: none; fill: none; opacity: 1;\"></path><g><g class=\"mark-symbol role-legend-symbol\" style=\"pointer-events: none;\"><path transform=\"translate(10,7.5)\" d=\"M6.2540616948593115,0A6.2540616948593115,6.2540616948593115,0,1,1,-6.2540616948593115,0A6.2540616948593115,6.2540616948593115,0,1,1,6.2540616948593115,0\" style=\"fill: none; stroke: #888; stroke-width: 1.5; opacity: 0.7;\"></path></g><g class=\"mark-text role-legend-label\" style=\"pointer-events: none;\"><text text-anchor=\"start\" transform=\"translate(24,10.5)\" style=\"font-family: sans-serif; font-size: 10px; fill: #000; opacity: 1;\">10,000</text></g></g></g><g transform=\"translate(0,34)\"><path class=\"background\" d=\"M0,0h57v17.659629986145532h-57Z\" style=\"pointer-events: none; fill: none; opacity: 1;\"></path><g><g class=\"mark-symbol role-legend-symbol\" style=\"pointer-events: none;\"><path transform=\"translate(10,8.5)\" d=\"M7.659629986145531,0A7.659629986145531,7.659629986145531,0,1,1,-7.659629986145531,0A7.659629986145531,7.659629986145531,0,1,1,7.659629986145531,0\" style=\"fill: none; stroke: #888; stroke-width: 1.5; opacity: 0.7;\"></path></g><g class=\"mark-text role-legend-label\" style=\"pointer-events: none;\"><text text-anchor=\"start\" transform=\"translate(24,11.5)\" style=\"font-family: sans-serif; font-size: 10px; fill: #000; opacity: 1;\">15,000</text></g></g></g><g transform=\"translate(0,55)\"><path class=\"background\" d=\"M0,0h57v20.344578868788105h-57Z\" style=\"pointer-events: none; fill: none; opacity: 1;\"></path><g><g class=\"mark-symbol role-legend-symbol\" style=\"pointer-events: none;\"><path transform=\"translate(10,10)\" d=\"M8.844578868788103,0A8.844578868788103,8.844578868788103,0,1,1,-8.844578868788103,0A8.844578868788103,8.844578868788103,0,1,1,8.844578868788103,0\" style=\"fill: none; stroke: #888; stroke-width: 1.5; opacity: 0.7;\"></path></g><g class=\"mark-text role-legend-label\" style=\"pointer-events: none;\"><text text-anchor=\"start\" transform=\"translate(24,13)\" style=\"font-family: sans-serif; font-size: 10px; fill: #000; opacity: 1;\">20,000</text></g></g></g></g></g></g></g><g class=\"mark-text role-legend-title\" style=\"pointer-events: none;\"><text text-anchor=\"start\" transform=\"translate(0,9)\" style=\"font-family: sans-serif; font-size: 11px; font-weight: bold; fill: #000; opacity: 1;\">NDI</text></g></g></g></g><g class=\"mark-group role-axis\"><g transform=\"translate(0.5,200.5)\"><path class=\"background\" d=\"M0,0h0v0h0Z\" style=\"pointer-events: none; fill: none;\"></path><g><g class=\"mark-rule role-axis-tick\" style=\"pointer-events: none;\"><line transform=\"translate(0,0)\" x2=\"0\" y2=\"5\" style=\"fill: none; stroke: #888; stroke-width: 1; opacity: 1;\"></line><line transform=\"translate(45,0)\" x2=\"0\" y2=\"5\" style=\"fill: none; stroke: #888; stroke-width: 1; opacity: 1;\"></line><line transform=\"translate(91,0)\" x2=\"0\" y2=\"5\" style=\"fill: none; stroke: #888; stroke-width: 1; opacity: 1;\"></line><line transform=\"translate(136,0)\" x2=\"0\" y2=\"5\" style=\"fill: none; stroke: #888; stroke-width: 1; opacity: 1;\"></line><line transform=\"translate(182,0)\" x2=\"0\" y2=\"5\" style=\"fill: none; stroke: #888; stroke-width: 1; opacity: 1;\"></line></g><g class=\"mark-text role-axis-label\" style=\"pointer-events: none;\"><text text-anchor=\"start\" transform=\"translate(0,15)\" style=\"font-family: sans-serif; font-size: 10px; fill: #000; opacity: 1;\">0</text><text text-anchor=\"middle\" transform=\"translate(45.45454545454545,15)\" style=\"font-family: sans-serif; font-size: 10px; fill: #000; opacity: 1;\">50</text><text text-anchor=\"middle\" transform=\"translate(90.9090909090909,15)\" style=\"font-family: sans-serif; font-size: 10px; fill: #000; opacity: 1;\">100</text><text text-anchor=\"middle\" transform=\"translate(136.36363636363635,15)\" style=\"font-family: sans-serif; font-size: 10px; fill: #000; opacity: 1;\">150</text><text text-anchor=\"middle\" transform=\"translate(181.8181818181818,15)\" style=\"font-family: sans-serif; font-size: 10px; fill: #000; opacity: 1;\">200</text></g><g class=\"mark-rule role-axis-domain\" style=\"pointer-events: none;\"><line transform=\"translate(0,0)\" x2=\"200\" y2=\"0\" style=\"fill: none; stroke: #888; stroke-width: 1; opacity: 1;\"></line></g><g class=\"mark-text role-axis-title\" style=\"pointer-events: none;\"><text text-anchor=\"middle\" transform=\"translate(100,30)\" style=\"font-family: sans-serif; font-size: 11px; font-weight: bold; fill: #000; opacity: 1;\">Price</text></g></g></g></g><g class=\"mark-group role-axis\"><g transform=\"translate(0.5,0.5)\"><path class=\"background\" d=\"M0,0h0v0h0Z\" style=\"pointer-events: none; fill: none;\"></path><g><g class=\"mark-rule role-axis-tick\" style=\"pointer-events: none;\"><line transform=\"translate(0,200)\" x2=\"-5\" y2=\"0\" style=\"fill: none; stroke: #888; stroke-width: 1; opacity: 1;\"></line><line transform=\"translate(0,167)\" x2=\"-5\" y2=\"0\" style=\"fill: none; stroke: #888; stroke-width: 1; opacity: 1;\"></line><line transform=\"translate(0,133)\" x2=\"-5\" y2=\"0\" style=\"fill: none; stroke: #888; stroke-width: 1; opacity: 1;\"></line><line transform=\"translate(0,100)\" x2=\"-5\" y2=\"0\" style=\"fill: none; stroke: #888; stroke-width: 1; opacity: 1;\"></line><line transform=\"translate(0,67)\" x2=\"-5\" y2=\"0\" style=\"fill: none; stroke: #888; stroke-width: 1; opacity: 1;\"></line><line transform=\"translate(0,33)\" x2=\"-5\" y2=\"0\" style=\"fill: none; stroke: #888; stroke-width: 1; opacity: 1;\"></line><line transform=\"translate(0,0)\" x2=\"-5\" y2=\"0\" style=\"fill: none; stroke: #888; stroke-width: 1; opacity: 1;\"></line></g><g class=\"mark-text role-axis-label\" style=\"pointer-events: none;\"><text text-anchor=\"end\" transform=\"translate(-7,203)\" style=\"font-family: sans-serif; font-size: 10px; fill: #000; opacity: 1;\">0</text><text text-anchor=\"end\" transform=\"translate(-7,169.66666666666669)\" style=\"font-family: sans-serif; font-size: 10px; fill: #000; opacity: 1;\">50</text><text text-anchor=\"end\" transform=\"translate(-7,136.33333333333334)\" style=\"font-family: sans-serif; font-size: 10px; fill: #000; opacity: 1;\">100</text><text text-anchor=\"end\" transform=\"translate(-7,103)\" style=\"font-family: sans-serif; font-size: 10px; fill: #000; opacity: 1;\">150</text><text text-anchor=\"end\" transform=\"translate(-7,69.66666666666669)\" style=\"font-family: sans-serif; font-size: 10px; fill: #000; opacity: 1;\">200</text><text text-anchor=\"end\" transform=\"translate(-7,36.333333333333314)\" style=\"font-family: sans-serif; font-size: 10px; fill: #000; opacity: 1;\">250</text><text text-anchor=\"end\" transform=\"translate(-7,3)\" style=\"font-family: sans-serif; font-size: 10px; fill: #000; opacity: 1;\">300</text></g><g class=\"mark-rule role-axis-domain\" style=\"pointer-events: none;\"><line transform=\"translate(0,200)\" x2=\"0\" y2=\"-200\" style=\"fill: none; stroke: #888; stroke-width: 1; opacity: 1;\"></line></g><g class=\"mark-text role-axis-title\" style=\"pointer-events: none;\"><text text-anchor=\"middle\" transform=\"translate(-29,100) rotate(-90) translate(0,-2)\" style=\"font-family: sans-serif; font-size: 11px; font-weight: bold; fill: #000; opacity: 1;\">Sales</text></g></g></g></g></g></g></g></g></svg>"
      ],
      "text/plain": [
       "VegaLite.VLSpec{:plot}"
      ]
     },
     "execution_count": 23,
     "metadata": {},
     "output_type": "execute_result"
    }
   ],
   "source": [
    "cigar = dataset(\"plm\", \"Cigar\")\n",
    "# cigar |> Voyager()\n",
    "\n",
    "cigar |> @vlplot(\n",
    "    :point,\n",
    "    x=:Price,\n",
    "    y=:Sales,\n",
    "    color=:Year,\n",
    "    size=:NDI\n",
    ")"
   ]
  }
 ],
 "metadata": {
  "download_nb": 1,
  "download_nb_path": "https://lectures.quantecon.org/",
  "filename": "data_statistical_packages.rst",
  "filename_with_path": "more_julia/data_statistical_packages",
  "kernelspec": {
   "display_name": "Julia 1.2.0",
   "language": "julia",
   "name": "julia-1.2"
  },
  "language_info": {
   "file_extension": ".jl",
   "mimetype": "application/julia",
   "name": "julia",
   "version": "1.2.0"
  },
  "title": "Data and Statistics Packages"
 },
 "nbformat": 4,
 "nbformat_minor": 2
}
