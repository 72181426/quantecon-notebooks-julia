{
 "cells": [
  {
   "cell_type": "markdown",
   "metadata": {},
   "source": [
    "\n",
    "<a id='more-julia'></a>\n",
    "<div id=\"qe-notebook-header\" style=\"text-align:right;\">\n",
    "        <a href=\"https://quantecon.org/\" title=\"quantecon.org\">\n",
    "                <img style=\"width:250px;display:inline;\" src=\"https://assets.quantecon.org/img/qe-menubar-logo.svg\" alt=\"QuantEcon\">\n",
    "        </a>\n",
    "</div>"
   ]
  },
  {
   "cell_type": "markdown",
   "metadata": {},
   "source": [
    "# Packages and Software Engineering in Julia\n",
    "\n",
    "This part of the course provides a more details on the Julia programming language, its ecosystem, and core software engineering tools"
   ]
  },
  {
   "cell_type": "markdown",
   "metadata": {},
   "source": [
    "## Lectures\n",
    "\n",
    "- [Generic Programming](https://lectures.quantecon.org/generic_programming.html)\n",
    "  - [Overview](https://lectures.quantecon.org/generic_programming.html#overview)\n",
    "  - [Exploring Type Trees](https://lectures.quantecon.org/generic_programming.html#exploring-type-trees)\n",
    "  - [Distributions](https://lectures.quantecon.org/generic_programming.html#distributions)\n",
    "  - [Numbers and Algebraic Structures](https://lectures.quantecon.org/generic_programming.html#numbers-and-algebraic-structures)\n",
    "  - [Reals and Algebraic Structures](https://lectures.quantecon.org/generic_programming.html#reals-and-algebraic-structures)\n",
    "  - [Functions, and Function-Like Types](https://lectures.quantecon.org/generic_programming.html#functions-and-function-like-types)\n",
    "  - [Limitations of Dispatching on Abstract Types](https://lectures.quantecon.org/generic_programming.html#limitations-of-dispatching-on-abstract-types)\n",
    "- [General Purpose Packages](https://lectures.quantecon.org/general_packages.html)\n",
    "  - [Overview](https://lectures.quantecon.org/general_packages.html#overview)\n",
    "  - [Numerical Integration](https://lectures.quantecon.org/general_packages.html#numerical-integration)\n",
    "  - [Interpolation](https://lectures.quantecon.org/general_packages.html#interpolation)\n",
    "  - [Linear Algebra](https://lectures.quantecon.org/general_packages.html#linear-algebra)\n",
    "  - [General Tools](https://lectures.quantecon.org/general_packages.html#general-tools)\n",
    "- [Data and Statistics Packages](https://lectures.quantecon.org/data_statistical_packages.html)\n",
    "  - [Overview](https://lectures.quantecon.org/data_statistical_packages.html#overview)\n",
    "  - [DataFrames](https://lectures.quantecon.org/data_statistical_packages.html#dataframes)\n",
    "  - [Statistics and Econometrics](https://lectures.quantecon.org/data_statistical_packages.html#statistics-and-econometrics)\n",
    "- [Solvers, Optimizers, and Automatic Differentiation](https://lectures.quantecon.org/optimization_solver_packages.html)\n",
    "  - [Overview](https://lectures.quantecon.org/optimization_solver_packages.html#overview)\n",
    "  - [Introduction to Automatic Differentiation](https://lectures.quantecon.org/optimization_solver_packages.html#introduction-to-automatic-differentiation)\n",
    "  - [Optimization](https://lectures.quantecon.org/optimization_solver_packages.html#optimization)\n",
    "  - [Systems of Equations and Least Squares](https://lectures.quantecon.org/optimization_solver_packages.html#systems-of-equations-and-least-squares)\n",
    "  - [LeastSquaresOptim.jl](https://lectures.quantecon.org/optimization_solver_packages.html#leastsquaresoptim-jl)\n",
    "  - [Additional Notes](https://lectures.quantecon.org/optimization_solver_packages.html#additional-notes)\n",
    "- [Julia Tools and Editors](https://lectures.quantecon.org/tools_editors.html)\n",
    "  - [Preliminary Setup](https://lectures.quantecon.org/tools_editors.html#preliminary-setup)\n",
    "  - [The REPL](https://lectures.quantecon.org/tools_editors.html#the-repl)\n",
    "  - [Atom](https://lectures.quantecon.org/tools_editors.html#atom)\n",
    "  - [Package Environments](https://lectures.quantecon.org/tools_editors.html#package-environments)\n",
    "- [Git, GitHub, and Version Control](https://lectures.quantecon.org/version_control.html)\n",
    "  - [Setup](https://lectures.quantecon.org/version_control.html#setup)\n",
    "  - [Basic Objects](https://lectures.quantecon.org/version_control.html#basic-objects)\n",
    "  - [Individual Workflow](https://lectures.quantecon.org/version_control.html#individual-workflow)\n",
    "  - [Collaborative Work](https://lectures.quantecon.org/version_control.html#collaborative-work)\n",
    "  - [Collaboration via Pull Request](https://lectures.quantecon.org/version_control.html#collaboration-via-pull-request)\n",
    "  - [Additional Resources and Troubleshooting](https://lectures.quantecon.org/version_control.html#additional-resources-and-troubleshooting)\n",
    "  - [Exercises](https://lectures.quantecon.org/version_control.html#exercises)\n",
    "- [Packages, Testing, and Continuous Integration](https://lectures.quantecon.org/testing.html)\n",
    "  - [Project Setup](https://lectures.quantecon.org/testing.html#project-setup)\n",
    "  - [Project Structure](https://lectures.quantecon.org/testing.html#project-structure)\n",
    "  - [Project Workflow](https://lectures.quantecon.org/testing.html#project-workflow)\n",
    "  - [Unit Testing](https://lectures.quantecon.org/testing.html#unit-testing)\n",
    "  - [Continuous Integration with Travis](https://lectures.quantecon.org/testing.html#continuous-integration-with-travis)\n",
    "  - [Code Coverage](https://lectures.quantecon.org/testing.html#code-coverage)\n",
    "  - [Pull Requests to External Julia Projects](https://lectures.quantecon.org/testing.html#pull-requests-to-external-julia-projects)\n",
    "  - [Benchmarking](https://lectures.quantecon.org/testing.html#benchmarking)\n",
    "  - [Additional Notes](https://lectures.quantecon.org/testing.html#additional-notes)\n",
    "  - [Review](https://lectures.quantecon.org/testing.html#review)\n",
    "  - [Exercises](https://lectures.quantecon.org/testing.html#exercises)\n",
    "- [The Need for Speed](https://lectures.quantecon.org/need_for_speed.html)\n",
    "  - [Overview](https://lectures.quantecon.org/need_for_speed.html#overview)\n",
    "  - [Understanding Multiple Dispatch in Julia](https://lectures.quantecon.org/need_for_speed.html#understanding-multiple-dispatch-in-julia)\n",
    "  - [Foundations](https://lectures.quantecon.org/need_for_speed.html#foundations)\n",
    "  - [JIT Compilation in Julia](https://lectures.quantecon.org/need_for_speed.html#jit-compilation-in-julia)\n",
    "  - [Fast and Slow Julia Code](https://lectures.quantecon.org/need_for_speed.html#fast-and-slow-julia-code)\n",
    "  - [Further Comments](https://lectures.quantecon.org/need_for_speed.html#further-comments)"
   ]
  }
 ],
 "metadata": {
  "download_nb": 1,
  "download_nb_path": "https://lectures.quantecon.org/",
  "filename": "index.rst",
  "filename_with_path": "more_julia/index",
  "kernelspec": {
   "display_name": "Julia 1.2.0",
   "language": "julia",
   "name": "julia-1.2"
  },
  "language_info": {
   "file_extension": ".jl",
   "mimetype": "application/julia",
   "name": "julia",
   "version": "1.2.0"
  },
  "title": "Packages and Software Engineering in Julia"
 },
 "nbformat": 4,
 "nbformat_minor": 2
}
