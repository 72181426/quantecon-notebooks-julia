{
 "cells": [
  {
   "cell_type": "markdown",
   "metadata": {},
   "source": [
    "# Home\n",
    "\n",
    "<p id=\"numfocus_badge\"><a href=\"https://www.numfocus.org/\"><img src=\"/_static/img/powered-by-NumFOCUS-orange.svg\" alt=\"Powered by NumFOCUS logo\"></a></p>"
   ]
  },
  {
   "cell_type": "markdown",
   "metadata": {},
   "source": [
    "# Table of Contents (Julia)\n",
    "\n",
    "<ul class=\"index-tabs\">\n",
    "    <li><a href=\"/jl/\">All</a></li>\n",
    "    <li class=\"active\"><a href=\"/jl/index_undergrad.html\">Undergraduate course</a></li>\n",
    "    <li><a href=\"/jl/index_postgrad.html\">Graduate course</a></li>\n",
    "</ul>\n",
    "\n",
    "- [Getting Started with Julia](getting_started_julia/index.ipynb)\n",
    "  - [Setting up Your Julia Environment](getting_started_julia/getting_started.ipynb)\n",
    "  - [Interacting with Julia](getting_started_julia/julia_environment.ipynb)\n",
    "  - [Introductory Examples](getting_started_julia/julia_by_example.ipynb)\n",
    "  - [Julia Essentials](getting_started_julia/julia_essentials.ipynb)\n",
    "  - [Arrays, Tuples, Ranges, and Other Fundamental Types](getting_started_julia/fundamental_types.ipynb)\n",
    "  - [Introduction to Types and Generic Programming](getting_started_julia/introduction_to_types.ipynb)\n",
    "- [Packages and Software Engineering in Julia](more_julia/index.ipynb)\n",
    "  - [Generic Programming](more_julia/generic_programming.ipynb)\n",
    "  - [General Purpose Packages](more_julia/general_packages.ipynb)\n",
    "  - [Data and Statistics Packages](more_julia/data_statistical_packages.ipynb)\n",
    "  - [Solvers, Optimizers, and Automatic Differentiation](more_julia/optimization_solver_packages.ipynb)\n",
    "  - [Julia Tools and Editors](more_julia/tools_editors.ipynb)\n",
    "  - [Git, GitHub, and Version Control](more_julia/version_control.ipynb)\n",
    "  - [Packages, Testing, and Continuous Integration](more_julia/testing.ipynb)\n",
    "  - [The Need for Speed](more_julia/need_for_speed.ipynb)\n",
    "- [Tools and Techniques](tools_and_techniques/index_undergrad.ipynb)\n",
    "  - [Linear Algebra](tools_and_techniques/linear_algebra.ipynb)\n",
    "  - [LLN and CLT](tools_and_techniques/lln_clt.ipynb)\n",
    "  - [Linear State Space Models](tools_and_techniques/linear_models.ipynb)\n",
    "  - [Finite Markov Chains](tools_and_techniques/finite_markov.ipynb)\n",
    "  - [A First Look at the Kalman Filter](tools_and_techniques/kalman.ipynb)\n",
    "- [Dynamic Programming](dynamic_programming/index_undergrad.ipynb)\n",
    "  - [Shortest Paths](dynamic_programming/short_path.ipynb)\n",
    "  - [Job Search I: The McCall Search Model](dynamic_programming/mccall_model.ipynb)\n",
    "  - [Job Search II: Search and Separation](dynamic_programming/mccall_model_with_separation.ipynb)\n",
    "  - [Optimal Savings I: The Permanent Income Model](dynamic_programming/perm_income.ipynb)\n",
    "  - [Optimal Savings II: LQ Techniques](dynamic_programming/perm_income_cons.ipynb)\n",
    "  - [Consumption and Tax Smoothing with Complete and Incomplete Markets](dynamic_programming/smoothing.ipynb)\n",
    "- [Multiple Agent Models](multi_agent_models/index_undergrad.ipynb)\n",
    "  - [Schelling’s Segregation Model](multi_agent_models/schelling.ipynb)\n",
    "  - [A Lake Model of Employment and Unemployment](multi_agent_models/lake_model.ipynb)\n",
    "  - [Rational Expectations Equilibrium](multi_agent_models/rational_expectations.ipynb)\n",
    "  - [Markov Perfect Equilibrium](multi_agent_models/markov_perf.ipynb)\n",
    "  - [Asset Pricing I: Finite State Models](multi_agent_models/markov_asset.ipynb)\n",
    "- [References](zreferences.ipynb)\n",
    "\n",
    "\n",
    "![_static/banner.png](_static/banner.png)"
   ]
  }
 ],
 "metadata": {
  "filename": "index_undergrad.rst",
  "kernelspec": {
   "display_name": "Julia 1.2",
   "language": "julia",
   "name": "julia-1.2"
  },
  "title": "Home"
 },
 "nbformat": 4,
 "nbformat_minor": 2
}