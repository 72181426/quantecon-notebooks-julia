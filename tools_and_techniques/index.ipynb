{
 "cells": [
  {
   "cell_type": "markdown",
   "metadata": {},
   "source": [
    "\n",
    "<a id='tools-and-techniques'></a>\n",
    "<div id=\"qe-notebook-header\" style=\"text-align:right;\">\n",
    "        <a href=\"https://quantecon.org/\" title=\"quantecon.org\">\n",
    "                <img style=\"width:250px;display:inline;\" src=\"https://assets.quantecon.org/img/qe-menubar-logo.svg\" alt=\"QuantEcon\">\n",
    "        </a>\n",
    "</div>"
   ]
  },
  {
   "cell_type": "markdown",
   "metadata": {},
   "source": [
    "# Tools and Techniques\n",
    "\n",
    "This section of the course contains foundational mathematical and statistical\n",
    "tools and techniques"
   ]
  },
  {
   "cell_type": "markdown",
   "metadata": {},
   "source": [
    "## Lectures\n",
    "\n",
    "- [Linear Algebra](https://lectures.quantecon.org/linear_algebra.html)\n",
    "  - [Overview](https://lectures.quantecon.org/linear_algebra.html#overview)\n",
    "  - [Vectors](https://lectures.quantecon.org/linear_algebra.html#vectors)\n",
    "  - [Matrices](https://lectures.quantecon.org/linear_algebra.html#matrices)\n",
    "  - [Solving Systems of Equations](https://lectures.quantecon.org/linear_algebra.html#solving-systems-of-equations)\n",
    "  - [Eigenvalues and Eigenvectors](https://lectures.quantecon.org/linear_algebra.html#eigenvalues-and-eigenvectors)\n",
    "  - [Further Topics](https://lectures.quantecon.org/linear_algebra.html#further-topics)\n",
    "  - [Exercises](https://lectures.quantecon.org/linear_algebra.html#exercises)\n",
    "  - [Solutions](https://lectures.quantecon.org/linear_algebra.html#solutions)\n",
    "- [Orthogonal Projections and Their Applications](https://lectures.quantecon.org/orth_proj.html)\n",
    "  - [Overview](https://lectures.quantecon.org/orth_proj.html#overview)\n",
    "  - [Key Definitions](https://lectures.quantecon.org/orth_proj.html#key-definitions)\n",
    "  - [The Orthogonal Projection Theorem](https://lectures.quantecon.org/orth_proj.html#the-orthogonal-projection-theorem)\n",
    "  - [Orthonormal Basis](https://lectures.quantecon.org/orth_proj.html#orthonormal-basis)\n",
    "  - [Projection Using Matrix Algebra](https://lectures.quantecon.org/orth_proj.html#projection-using-matrix-algebra)\n",
    "  - [Least Squares Regression](https://lectures.quantecon.org/orth_proj.html#least-squares-regression)\n",
    "  - [Orthogonalization and Decomposition](https://lectures.quantecon.org/orth_proj.html#orthogonalization-and-decomposition)\n",
    "  - [Exercises](https://lectures.quantecon.org/orth_proj.html#exercises)\n",
    "  - [Solutions](https://lectures.quantecon.org/orth_proj.html#solutions)\n",
    "- [LLN and CLT](https://lectures.quantecon.org/lln_clt.html)\n",
    "  - [Overview](https://lectures.quantecon.org/lln_clt.html#overview)\n",
    "  - [Relationships](https://lectures.quantecon.org/lln_clt.html#relationships)\n",
    "  - [LLN](https://lectures.quantecon.org/lln_clt.html#lln)\n",
    "  - [CLT](https://lectures.quantecon.org/lln_clt.html#clt)\n",
    "  - [Exercises](https://lectures.quantecon.org/lln_clt.html#exercises)\n",
    "  - [Solutions](https://lectures.quantecon.org/lln_clt.html#solutions)\n",
    "- [Linear State Space Models](https://lectures.quantecon.org/linear_models.html)\n",
    "  - [Overview](https://lectures.quantecon.org/linear_models.html#overview)\n",
    "  - [The Linear State Space Model](https://lectures.quantecon.org/linear_models.html#the-linear-state-space-model)\n",
    "  - [Distributions and Moments](https://lectures.quantecon.org/linear_models.html#distributions-and-moments)\n",
    "  - [Stationarity and Ergodicity](https://lectures.quantecon.org/linear_models.html#stationarity-and-ergodicity)\n",
    "  - [Noisy Observations](https://lectures.quantecon.org/linear_models.html#noisy-observations)\n",
    "  - [Prediction](https://lectures.quantecon.org/linear_models.html#prediction)\n",
    "  - [Code](https://lectures.quantecon.org/linear_models.html#code)\n",
    "  - [Exercises](https://lectures.quantecon.org/linear_models.html#exercises)\n",
    "  - [Solutions](https://lectures.quantecon.org/linear_models.html#solutions)\n",
    "- [Finite Markov Chains](https://lectures.quantecon.org/finite_markov.html)\n",
    "  - [Overview](https://lectures.quantecon.org/finite_markov.html#overview)\n",
    "  - [Definitions](https://lectures.quantecon.org/finite_markov.html#definitions)\n",
    "  - [Simulation](https://lectures.quantecon.org/finite_markov.html#simulation)\n",
    "  - [Marginal Distributions](https://lectures.quantecon.org/finite_markov.html#marginal-distributions)\n",
    "  - [Irreducibility and Aperiodicity](https://lectures.quantecon.org/finite_markov.html#irreducibility-and-aperiodicity)\n",
    "  - [Stationary Distributions](https://lectures.quantecon.org/finite_markov.html#stationary-distributions)\n",
    "  - [Ergodicity](https://lectures.quantecon.org/finite_markov.html#ergodicity)\n",
    "  - [Computing Expectations](https://lectures.quantecon.org/finite_markov.html#computing-expectations)\n",
    "  - [Exercises](https://lectures.quantecon.org/finite_markov.html#exercises)\n",
    "  - [Solutions](https://lectures.quantecon.org/finite_markov.html#solutions)\n",
    "- [Continuous State Markov Chains](https://lectures.quantecon.org/stationary_densities.html)\n",
    "  - [Overview](https://lectures.quantecon.org/stationary_densities.html#overview)\n",
    "  - [The Density Case](https://lectures.quantecon.org/stationary_densities.html#the-density-case)\n",
    "  - [Beyond Densities](https://lectures.quantecon.org/stationary_densities.html#beyond-densities)\n",
    "  - [Stability](https://lectures.quantecon.org/stationary_densities.html#stability)\n",
    "  - [Exercises](https://lectures.quantecon.org/stationary_densities.html#exercises)\n",
    "  - [Solutions](https://lectures.quantecon.org/stationary_densities.html#solutions)\n",
    "  - [Appendix](https://lectures.quantecon.org/stationary_densities.html#appendix)\n",
    "- [A First Look at the Kalman Filter](https://lectures.quantecon.org/kalman.html)\n",
    "  - [Overview](https://lectures.quantecon.org/kalman.html#overview)\n",
    "  - [The Basic Idea](https://lectures.quantecon.org/kalman.html#the-basic-idea)\n",
    "  - [Convergence](https://lectures.quantecon.org/kalman.html#convergence)\n",
    "  - [Implementation](https://lectures.quantecon.org/kalman.html#implementation)\n",
    "  - [Exercises](https://lectures.quantecon.org/kalman.html#exercises)\n",
    "  - [Solutions](https://lectures.quantecon.org/kalman.html#solutions)"
   ]
  }
 ],
 "metadata": {
  "download_nb": 1,
  "download_nb_path": "https://lectures.quantecon.org/",
  "filename": "index.rst",
  "filename_with_path": "tools_and_techniques/index",
  "kernelspec": {
   "display_name": "Julia 1.2.0",
   "language": "julia",
   "name": "julia-1.2"
  },
  "language_info": {
   "file_extension": ".jl",
   "mimetype": "application/julia",
   "name": "julia",
   "version": "1.2.0"
  },
  "title": "Tools and Techniques"
 },
 "nbformat": 4,
 "nbformat_minor": 2
}
