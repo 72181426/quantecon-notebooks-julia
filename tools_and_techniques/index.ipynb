{
 "cells": [
  {
   "cell_type": "markdown",
   "metadata": {},
   "source": [
    "\n",
    "<a id='tools-and-techniques'></a>\n",
    "<div id=\"qe-notebook-header\" style=\"text-align:right;\">\n",
    "        <a href=\"https://quantecon.org/\" title=\"quantecon.org\">\n",
    "                <img style=\"width:250px;display:inline;\" src=\"https://assets.quantecon.org/img/qe-menubar-logo.svg\" alt=\"QuantEcon\">\n",
    "        </a>\n",
    "</div>"
   ]
  },
  {
   "cell_type": "markdown",
   "metadata": {},
   "source": [
    "# Tools and Techniques\n",
    "\n",
    "This section of the course contains foundational mathematical and statistical\n",
    "tools and techniques"
   ]
  },
  {
   "cell_type": "markdown",
   "metadata": {},
   "source": [
    "## Lectures\n",
    "\n",
    "- [Linear Algebra](https://julia.quantecon.org/linear_algebra.html)\n",
    "  - [Overview](https://julia.quantecon.org/linear_algebra.html#overview)\n",
    "  - [Vectors](https://julia.quantecon.org/linear_algebra.html#vectors)\n",
    "  - [Matrices](https://julia.quantecon.org/linear_algebra.html#matrices)\n",
    "  - [Solving Systems of Equations](https://julia.quantecon.org/linear_algebra.html#solving-systems-of-equations)\n",
    "  - [Eigenvalues and Eigenvectors](https://julia.quantecon.org/linear_algebra.html#eigenvalues-and-eigenvectors)\n",
    "  - [Further Topics](https://julia.quantecon.org/linear_algebra.html#further-topics)\n",
    "  - [Exercises](https://julia.quantecon.org/linear_algebra.html#exercises)\n",
    "  - [Solutions](https://julia.quantecon.org/linear_algebra.html#solutions)\n",
    "- [Orthogonal Projections and Their Applications](https://julia.quantecon.org/orth_proj.html)\n",
    "  - [Overview](https://julia.quantecon.org/orth_proj.html#overview)\n",
    "  - [Key Definitions](https://julia.quantecon.org/orth_proj.html#key-definitions)\n",
    "  - [The Orthogonal Projection Theorem](https://julia.quantecon.org/orth_proj.html#the-orthogonal-projection-theorem)\n",
    "  - [Orthonormal Basis](https://julia.quantecon.org/orth_proj.html#orthonormal-basis)\n",
    "  - [Projection Using Matrix Algebra](https://julia.quantecon.org/orth_proj.html#projection-using-matrix-algebra)\n",
    "  - [Least Squares Regression](https://julia.quantecon.org/orth_proj.html#least-squares-regression)\n",
    "  - [Orthogonalization and Decomposition](https://julia.quantecon.org/orth_proj.html#orthogonalization-and-decomposition)\n",
    "  - [Exercises](https://julia.quantecon.org/orth_proj.html#exercises)\n",
    "  - [Solutions](https://julia.quantecon.org/orth_proj.html#solutions)\n",
    "- [LLN and CLT](https://julia.quantecon.org/lln_clt.html)\n",
    "  - [Overview](https://julia.quantecon.org/lln_clt.html#overview)\n",
    "  - [Relationships](https://julia.quantecon.org/lln_clt.html#relationships)\n",
    "  - [LLN](https://julia.quantecon.org/lln_clt.html#lln)\n",
    "  - [CLT](https://julia.quantecon.org/lln_clt.html#clt)\n",
    "  - [Exercises](https://julia.quantecon.org/lln_clt.html#exercises)\n",
    "  - [Solutions](https://julia.quantecon.org/lln_clt.html#solutions)\n",
    "- [Linear State Space Models](https://julia.quantecon.org/linear_models.html)\n",
    "  - [Overview](https://julia.quantecon.org/linear_models.html#overview)\n",
    "  - [The Linear State Space Model](https://julia.quantecon.org/linear_models.html#the-linear-state-space-model)\n",
    "  - [Distributions and Moments](https://julia.quantecon.org/linear_models.html#distributions-and-moments)\n",
    "  - [Stationarity and Ergodicity](https://julia.quantecon.org/linear_models.html#stationarity-and-ergodicity)\n",
    "  - [Noisy Observations](https://julia.quantecon.org/linear_models.html#noisy-observations)\n",
    "  - [Prediction](https://julia.quantecon.org/linear_models.html#prediction)\n",
    "  - [Code](https://julia.quantecon.org/linear_models.html#code)\n",
    "  - [Exercises](https://julia.quantecon.org/linear_models.html#exercises)\n",
    "  - [Solutions](https://julia.quantecon.org/linear_models.html#solutions)\n",
    "- [Finite Markov Chains](https://julia.quantecon.org/finite_markov.html)\n",
    "  - [Overview](https://julia.quantecon.org/finite_markov.html#overview)\n",
    "  - [Definitions](https://julia.quantecon.org/finite_markov.html#definitions)\n",
    "  - [Simulation](https://julia.quantecon.org/finite_markov.html#simulation)\n",
    "  - [Marginal Distributions](https://julia.quantecon.org/finite_markov.html#marginal-distributions)\n",
    "  - [Irreducibility and Aperiodicity](https://julia.quantecon.org/finite_markov.html#irreducibility-and-aperiodicity)\n",
    "  - [Stationary Distributions](https://julia.quantecon.org/finite_markov.html#stationary-distributions)\n",
    "  - [Ergodicity](https://julia.quantecon.org/finite_markov.html#ergodicity)\n",
    "  - [Computing Expectations](https://julia.quantecon.org/finite_markov.html#computing-expectations)\n",
    "  - [Exercises](https://julia.quantecon.org/finite_markov.html#exercises)\n",
    "  - [Solutions](https://julia.quantecon.org/finite_markov.html#solutions)\n",
    "- [Continuous State Markov Chains](https://julia.quantecon.org/stationary_densities.html)\n",
    "  - [Overview](https://julia.quantecon.org/stationary_densities.html#overview)\n",
    "  - [The Density Case](https://julia.quantecon.org/stationary_densities.html#the-density-case)\n",
    "  - [Beyond Densities](https://julia.quantecon.org/stationary_densities.html#beyond-densities)\n",
    "  - [Stability](https://julia.quantecon.org/stationary_densities.html#stability)\n",
    "  - [Exercises](https://julia.quantecon.org/stationary_densities.html#exercises)\n",
    "  - [Solutions](https://julia.quantecon.org/stationary_densities.html#solutions)\n",
    "  - [Appendix](https://julia.quantecon.org/stationary_densities.html#appendix)\n",
    "- [A First Look at the Kalman Filter](https://julia.quantecon.org/kalman.html)\n",
    "  - [Overview](https://julia.quantecon.org/kalman.html#overview)\n",
    "  - [The Basic Idea](https://julia.quantecon.org/kalman.html#the-basic-idea)\n",
    "  - [Convergence](https://julia.quantecon.org/kalman.html#convergence)\n",
    "  - [Implementation](https://julia.quantecon.org/kalman.html#implementation)\n",
    "  - [Exercises](https://julia.quantecon.org/kalman.html#exercises)\n",
    "  - [Solutions](https://julia.quantecon.org/kalman.html#solutions)"
   ]
  }
 ],
 "metadata": {
  "date": 1570707174.91601,
  "download_nb": 1,
  "download_nb_path": "https://julia.quantecon.org/",
  "filename": "index.rst",
  "filename_with_path": "tools_and_techniques/index",
  "kernelspec": {
   "display_name": "Julia 1.2.0",
   "language": "julia",
   "name": "julia-1.2"
  },
  "language_info": {
   "file_extension": ".jl",
   "mimetype": "application/julia",
   "name": "julia",
   "version": "1.2.0"
  },
  "title": "Tools and Techniques"
 },
 "nbformat": 4,
 "nbformat_minor": 2
}
