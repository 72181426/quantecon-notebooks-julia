{
 "cells": [
  {
   "cell_type": "markdown",
   "metadata": {},
   "source": [
    "\n",
    "<a id='multi-agent-models'></a>\n",
    "<div id=\"qe-notebook-header\" style=\"text-align:right;\">\n",
    "        <a href=\"https://quantecon.org/\" title=\"quantecon.org\">\n",
    "                <img style=\"width:250px;display:inline;\" src=\"https://assets.quantecon.org/img/qe-menubar-logo.svg\" alt=\"QuantEcon\">\n",
    "        </a>\n",
    "</div>"
   ]
  },
  {
   "cell_type": "markdown",
   "metadata": {},
   "source": [
    "# Multiple Agent Models\n",
    "\n",
    "These lectures look at important economic models that also illustrate common\n",
    "equilibrium concepts."
   ]
  },
  {
   "cell_type": "markdown",
   "metadata": {},
   "source": [
    "## Lectures\n",
    "\n",
    "- [Asset Pricing II: The Lucas Asset Pricing Model](lucas_model.ipynb)\n",
    "  - [Overview](lucas_model.ipynb#overview)\n",
    "  - [The Lucas Model](lucas_model.ipynb#the-lucas-model)\n",
    "  - [Exercises](lucas_model.ipynb#exercises)\n",
    "  - [Solutions](lucas_model.ipynb#solutions)\n",
    "- [Uncertainty Traps](uncertainty_traps.ipynb)\n",
    "  - [Overview](uncertainty_traps.ipynb#overview)\n",
    "  - [The Model](uncertainty_traps.ipynb#the-model)\n",
    "  - [Implementation](uncertainty_traps.ipynb#implementation)\n",
    "  - [Results](uncertainty_traps.ipynb#results)\n",
    "  - [Exercises](uncertainty_traps.ipynb#exercises)\n",
    "  - [Solutions](uncertainty_traps.ipynb#solutions)\n",
    "  - [Exercise 2](uncertainty_traps.ipynb#id6)\n",
    "- [The Aiyagari Model](aiyagari.ipynb)\n",
    "  - [Overview](aiyagari.ipynb#overview)\n",
    "  - [The Economy](aiyagari.ipynb#the-economy)\n",
    "  - [Firms](aiyagari.ipynb#firms)\n",
    "  - [Code](aiyagari.ipynb#code)\n",
    "- [Default Risk and Income Fluctuations](arellano.ipynb)\n",
    "  - [Overview](arellano.ipynb#overview)\n",
    "  - [Structure](arellano.ipynb#structure)\n",
    "  - [Equilibrium](arellano.ipynb#equilibrium)\n",
    "  - [Computation](arellano.ipynb#computation)\n",
    "  - [Results](arellano.ipynb#results)\n",
    "  - [Exercises](arellano.ipynb#exercises)\n",
    "  - [Solutions](arellano.ipynb#solutions)\n",
    "- [Globalization and Cycles](matsuyama.ipynb)\n",
    "  - [Overview](matsuyama.ipynb#overview)\n",
    "  - [Key Ideas](matsuyama.ipynb#key-ideas)\n",
    "  - [Model](matsuyama.ipynb#model)\n",
    "  - [Simulation](matsuyama.ipynb#simulation)\n",
    "  - [Exercises](matsuyama.ipynb#exercises)\n",
    "  - [Solutions](matsuyama.ipynb#solutions)"
   ]
  }
 ],
 "metadata": {
  "filename": "index_grad.rst",
  "kernelspec": {
   "display_name": "Julia 1.2",
   "language": "julia",
   "name": "julia-1.2"
  },
  "title": "Multiple Agent Models"
 },
 "nbformat": 4,
 "nbformat_minor": 2
}