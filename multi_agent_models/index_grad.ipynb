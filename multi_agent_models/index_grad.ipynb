{
 "cells": [
  {
   "cell_type": "markdown",
   "metadata": {},
   "source": [
    "\n",
    "<a id='multi-agent-models'></a>\n",
    "<div id=\"qe-notebook-header\" style=\"text-align:right;\">\n",
    "        <a href=\"https://quantecon.org/\" title=\"quantecon.org\">\n",
    "                <img style=\"width:250px;display:inline;\" src=\"https://assets.quantecon.org/img/qe-menubar-logo.svg\" alt=\"QuantEcon\">\n",
    "        </a>\n",
    "</div>"
   ]
  },
  {
   "cell_type": "markdown",
   "metadata": {},
   "source": [
    "# Multiple Agent Models\n",
    "\n",
    "These lectures look at important economic models that also illustrate common\n",
    "equilibrium concepts."
   ]
  },
  {
   "cell_type": "markdown",
   "metadata": {},
   "source": [
    "## Lectures\n",
    "\n",
    "- [Asset Pricing II: The Lucas Asset Pricing Model](https://lectures.quantecon.org/lucas_model.html)\n",
    "  - [Overview](https://lectures.quantecon.org/lucas_model.html#overview)\n",
    "  - [The Lucas Model](https://lectures.quantecon.org/lucas_model.html#the-lucas-model)\n",
    "  - [Exercises](https://lectures.quantecon.org/lucas_model.html#exercises)\n",
    "  - [Solutions](https://lectures.quantecon.org/lucas_model.html#solutions)\n",
    "- [Uncertainty Traps](https://lectures.quantecon.org/uncertainty_traps.html)\n",
    "  - [Overview](https://lectures.quantecon.org/uncertainty_traps.html#overview)\n",
    "  - [The Model](https://lectures.quantecon.org/uncertainty_traps.html#the-model)\n",
    "  - [Implementation](https://lectures.quantecon.org/uncertainty_traps.html#implementation)\n",
    "  - [Results](https://lectures.quantecon.org/uncertainty_traps.html#results)\n",
    "  - [Exercises](https://lectures.quantecon.org/uncertainty_traps.html#exercises)\n",
    "  - [Solutions](https://lectures.quantecon.org/uncertainty_traps.html#solutions)\n",
    "  - [Exercise 2](https://lectures.quantecon.org/uncertainty_traps.html#id6)\n",
    "- [The Aiyagari Model](https://lectures.quantecon.org/aiyagari.html)\n",
    "  - [Overview](https://lectures.quantecon.org/aiyagari.html#overview)\n",
    "  - [The Economy](https://lectures.quantecon.org/aiyagari.html#the-economy)\n",
    "  - [Firms](https://lectures.quantecon.org/aiyagari.html#firms)\n",
    "  - [Code](https://lectures.quantecon.org/aiyagari.html#code)\n",
    "- [Default Risk and Income Fluctuations](https://lectures.quantecon.org/arellano.html)\n",
    "  - [Overview](https://lectures.quantecon.org/arellano.html#overview)\n",
    "  - [Structure](https://lectures.quantecon.org/arellano.html#structure)\n",
    "  - [Equilibrium](https://lectures.quantecon.org/arellano.html#equilibrium)\n",
    "  - [Computation](https://lectures.quantecon.org/arellano.html#computation)\n",
    "  - [Results](https://lectures.quantecon.org/arellano.html#results)\n",
    "  - [Exercises](https://lectures.quantecon.org/arellano.html#exercises)\n",
    "  - [Solutions](https://lectures.quantecon.org/arellano.html#solutions)\n",
    "- [Globalization and Cycles](https://lectures.quantecon.org/matsuyama.html)\n",
    "  - [Overview](https://lectures.quantecon.org/matsuyama.html#overview)\n",
    "  - [Key Ideas](https://lectures.quantecon.org/matsuyama.html#key-ideas)\n",
    "  - [Model](https://lectures.quantecon.org/matsuyama.html#model)\n",
    "  - [Simulation](https://lectures.quantecon.org/matsuyama.html#simulation)\n",
    "  - [Exercises](https://lectures.quantecon.org/matsuyama.html#exercises)\n",
    "  - [Solutions](https://lectures.quantecon.org/matsuyama.html#solutions)"
   ]
  }
 ],
 "metadata": {
  "download_nb": 1,
  "download_nb_path": "https://lectures.quantecon.org/",
  "filename": "index_grad.rst",
  "filename_with_path": "multi_agent_models/index_grad",
  "kernelspec": {
   "display_name": "Julia 1.2.0",
   "language": "julia",
   "name": "julia-1.2"
  },
  "language_info": {
   "file_extension": ".jl",
   "mimetype": "application/julia",
   "name": "julia",
   "version": "1.2.0"
  },
  "title": "Multiple Agent Models"
 },
 "nbformat": 4,
 "nbformat_minor": 2
}
