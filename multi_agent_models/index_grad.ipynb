{
 "cells": [
  {
   "cell_type": "markdown",
   "metadata": {},
   "source": [
    "\n",
    "<a id='multi-agent-models'></a>\n",
    "<div id=\"qe-notebook-header\" style=\"text-align:right;\">\n",
    "        <a href=\"https://quantecon.org/\" title=\"quantecon.org\">\n",
    "                <img style=\"width:250px;display:inline;\" src=\"https://assets.quantecon.org/img/qe-menubar-logo.svg\" alt=\"QuantEcon\">\n",
    "        </a>\n",
    "</div>"
   ]
  },
  {
   "cell_type": "markdown",
   "metadata": {},
   "source": [
    "# Multiple Agent Models\n",
    "\n",
    "These lectures look at important economic models that also illustrate common\n",
    "equilibrium concepts."
   ]
  },
  {
   "cell_type": "markdown",
   "metadata": {},
   "source": [
    "## Lectures\n",
    "\n",
    "- [Asset Pricing II: The Lucas Asset Pricing Model](https://julia.quantecon.org/lucas_model.html)\n",
    "  - [Overview](https://julia.quantecon.org/lucas_model.html#overview)\n",
    "  - [The Lucas Model](https://julia.quantecon.org/lucas_model.html#the-lucas-model)\n",
    "  - [Exercises](https://julia.quantecon.org/lucas_model.html#exercises)\n",
    "  - [Solutions](https://julia.quantecon.org/lucas_model.html#solutions)\n",
    "- [Uncertainty Traps](https://julia.quantecon.org/uncertainty_traps.html)\n",
    "  - [Overview](https://julia.quantecon.org/uncertainty_traps.html#overview)\n",
    "  - [The Model](https://julia.quantecon.org/uncertainty_traps.html#the-model)\n",
    "  - [Implementation](https://julia.quantecon.org/uncertainty_traps.html#implementation)\n",
    "  - [Results](https://julia.quantecon.org/uncertainty_traps.html#results)\n",
    "  - [Exercises](https://julia.quantecon.org/uncertainty_traps.html#exercises)\n",
    "  - [Solutions](https://julia.quantecon.org/uncertainty_traps.html#solutions)\n",
    "  - [Exercise 2](https://julia.quantecon.org/uncertainty_traps.html#id6)\n",
    "- [The Aiyagari Model](https://julia.quantecon.org/aiyagari.html)\n",
    "  - [Overview](https://julia.quantecon.org/aiyagari.html#overview)\n",
    "  - [The Economy](https://julia.quantecon.org/aiyagari.html#the-economy)\n",
    "  - [Firms](https://julia.quantecon.org/aiyagari.html#firms)\n",
    "  - [Code](https://julia.quantecon.org/aiyagari.html#code)\n",
    "- [Default Risk and Income Fluctuations](https://julia.quantecon.org/arellano.html)\n",
    "  - [Overview](https://julia.quantecon.org/arellano.html#overview)\n",
    "  - [Structure](https://julia.quantecon.org/arellano.html#structure)\n",
    "  - [Equilibrium](https://julia.quantecon.org/arellano.html#equilibrium)\n",
    "  - [Computation](https://julia.quantecon.org/arellano.html#computation)\n",
    "  - [Results](https://julia.quantecon.org/arellano.html#results)\n",
    "  - [Exercises](https://julia.quantecon.org/arellano.html#exercises)\n",
    "  - [Solutions](https://julia.quantecon.org/arellano.html#solutions)\n",
    "- [Globalization and Cycles](https://julia.quantecon.org/matsuyama.html)\n",
    "  - [Overview](https://julia.quantecon.org/matsuyama.html#overview)\n",
    "  - [Key Ideas](https://julia.quantecon.org/matsuyama.html#key-ideas)\n",
    "  - [Model](https://julia.quantecon.org/matsuyama.html#model)\n",
    "  - [Simulation](https://julia.quantecon.org/matsuyama.html#simulation)\n",
    "  - [Exercises](https://julia.quantecon.org/matsuyama.html#exercises)\n",
    "  - [Solutions](https://julia.quantecon.org/matsuyama.html#solutions)"
   ]
  }
 ],
 "metadata": {
  "date": 1570707171.3298562,
  "download_nb": 1,
  "download_nb_path": "https://julia.quantecon.org/",
  "filename": "index_grad.rst",
  "filename_with_path": "multi_agent_models/index_grad",
  "kernelspec": {
   "display_name": "Julia 1.2.0",
   "language": "julia",
   "name": "julia-1.2"
  },
  "language_info": {
   "file_extension": ".jl",
   "mimetype": "application/julia",
   "name": "julia",
   "version": "1.2.0"
  },
  "title": "Multiple Agent Models"
 },
 "nbformat": 4,
 "nbformat_minor": 2
}
