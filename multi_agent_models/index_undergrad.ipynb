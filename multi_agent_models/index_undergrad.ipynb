{
 "cells": [
  {
   "cell_type": "markdown",
   "metadata": {},
   "source": [
    "\n",
    "<a id='multi-agent-models'></a>\n",
    "<div id=\"qe-notebook-header\" style=\"text-align:right;\">\n",
    "        <a href=\"https://quantecon.org/\" title=\"quantecon.org\">\n",
    "                <img style=\"width:250px;display:inline;\" src=\"https://assets.quantecon.org/img/qe-menubar-logo.svg\" alt=\"QuantEcon\">\n",
    "        </a>\n",
    "</div>"
   ]
  },
  {
   "cell_type": "markdown",
   "metadata": {},
   "source": [
    "# Multiple Agent Models\n",
    "\n",
    "These lectures look at important economic models that also illustrate common\n",
    "equilibrium concepts."
   ]
  },
  {
   "cell_type": "markdown",
   "metadata": {},
   "source": [
    "## Lectures\n",
    "\n",
    "- [Schelling’s Segregation Model](https://lectures.quantecon.org/schelling.html)\n",
    "  - [Overview](https://lectures.quantecon.org/schelling.html#overview)\n",
    "  - [The Model](https://lectures.quantecon.org/schelling.html#the-model)\n",
    "  - [Results](https://lectures.quantecon.org/schelling.html#results)\n",
    "  - [Exercises](https://lectures.quantecon.org/schelling.html#exercises)\n",
    "  - [Solutions](https://lectures.quantecon.org/schelling.html#solutions)\n",
    "- [A Lake Model of Employment and Unemployment](https://lectures.quantecon.org/lake_model.html)\n",
    "  - [Overview](https://lectures.quantecon.org/lake_model.html#overview)\n",
    "  - [The Model](https://lectures.quantecon.org/lake_model.html#the-model)\n",
    "  - [Implementation](https://lectures.quantecon.org/lake_model.html#implementation)\n",
    "  - [Dynamics of an Individual Worker](https://lectures.quantecon.org/lake_model.html#dynamics-of-an-individual-worker)\n",
    "  - [Endogenous Job Finding Rate](https://lectures.quantecon.org/lake_model.html#endogenous-job-finding-rate)\n",
    "  - [Exercises](https://lectures.quantecon.org/lake_model.html#exercises)\n",
    "  - [Solutions](https://lectures.quantecon.org/lake_model.html#solutions)\n",
    "- [Rational Expectations Equilibrium](https://lectures.quantecon.org/rational_expectations.html)\n",
    "  - [Overview](https://lectures.quantecon.org/rational_expectations.html#overview)\n",
    "  - [Defining Rational Expectations Equilibrium](https://lectures.quantecon.org/rational_expectations.html#defining-rational-expectations-equilibrium)\n",
    "  - [Computation of an Equilibrium](https://lectures.quantecon.org/rational_expectations.html#computation-of-an-equilibrium)\n",
    "  - [Exercises](https://lectures.quantecon.org/rational_expectations.html#exercises)\n",
    "  - [Solutions](https://lectures.quantecon.org/rational_expectations.html#solutions)\n",
    "- [Markov Perfect Equilibrium](https://lectures.quantecon.org/markov_perf.html)\n",
    "  - [Overview](https://lectures.quantecon.org/markov_perf.html#overview)\n",
    "  - [Background](https://lectures.quantecon.org/markov_perf.html#background)\n",
    "  - [Linear Markov perfect equilibria](https://lectures.quantecon.org/markov_perf.html#linear-markov-perfect-equilibria)\n",
    "  - [Application](https://lectures.quantecon.org/markov_perf.html#application)\n",
    "  - [Exercises](https://lectures.quantecon.org/markov_perf.html#exercises)\n",
    "  - [Solutions](https://lectures.quantecon.org/markov_perf.html#solutions)\n",
    "- [Asset Pricing I: Finite State Models](https://lectures.quantecon.org/markov_asset.html)\n",
    "  - [Overview](https://lectures.quantecon.org/markov_asset.html#overview)\n",
    "  - [Pricing Models](https://lectures.quantecon.org/markov_asset.html#pricing-models)\n",
    "  - [Prices in the Risk Neutral Case](https://lectures.quantecon.org/markov_asset.html#prices-in-the-risk-neutral-case)\n",
    "  - [Asset Prices under Risk Aversion](https://lectures.quantecon.org/markov_asset.html#asset-prices-under-risk-aversion)\n",
    "  - [Exercises](https://lectures.quantecon.org/markov_asset.html#exercises)\n",
    "  - [Solutions](https://lectures.quantecon.org/markov_asset.html#solutions)"
   ]
  }
 ],
 "metadata": {
  "download_nb": 1,
  "download_nb_path": "https://lectures.quantecon.org/",
  "filename": "index_undergrad.rst",
  "filename_with_path": "multi_agent_models/index_undergrad",
  "kernelspec": {
   "display_name": "Julia 1.2.0",
   "language": "julia",
   "name": "julia-1.2"
  },
  "language_info": {
   "file_extension": ".jl",
   "mimetype": "application/julia",
   "name": "julia",
   "version": "1.2.0"
  },
  "title": "Multiple Agent Models"
 },
 "nbformat": 4,
 "nbformat_minor": 2
}
