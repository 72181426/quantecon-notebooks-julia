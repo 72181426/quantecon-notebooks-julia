{
 "cells": [
  {
   "cell_type": "markdown",
   "metadata": {},
   "source": [
    "\n",
    "<a id='multi-agent-models'></a>\n",
    "<div id=\"qe-notebook-header\" style=\"text-align:right;\">\n",
    "        <a href=\"https://quantecon.org/\" title=\"quantecon.org\">\n",
    "                <img style=\"width:250px;display:inline;\" src=\"https://assets.quantecon.org/img/qe-menubar-logo.svg\" alt=\"QuantEcon\">\n",
    "        </a>\n",
    "</div>"
   ]
  },
  {
   "cell_type": "markdown",
   "metadata": {},
   "source": [
    "# Multiple Agent Models\n",
    "\n",
    "These lectures look at important economic models that also illustrate common\n",
    "equilibrium concepts."
   ]
  },
  {
   "cell_type": "markdown",
   "metadata": {},
   "source": [
    "## Lectures\n",
    "\n",
    "- [Schelling’s Segregation Model](schelling.ipynb)\n",
    "  - [Overview](schelling.ipynb#overview)\n",
    "  - [The Model](schelling.ipynb#the-model)\n",
    "  - [Results](schelling.ipynb#results)\n",
    "  - [Exercises](schelling.ipynb#exercises)\n",
    "  - [Solutions](schelling.ipynb#solutions)\n",
    "- [A Lake Model of Employment and Unemployment](lake_model.ipynb)\n",
    "  - [Overview](lake_model.ipynb#overview)\n",
    "  - [The Model](lake_model.ipynb#the-model)\n",
    "  - [Implementation](lake_model.ipynb#implementation)\n",
    "  - [Dynamics of an Individual Worker](lake_model.ipynb#dynamics-of-an-individual-worker)\n",
    "  - [Endogenous Job Finding Rate](lake_model.ipynb#endogenous-job-finding-rate)\n",
    "  - [Exercises](lake_model.ipynb#exercises)\n",
    "  - [Solutions](lake_model.ipynb#solutions)\n",
    "- [Rational Expectations Equilibrium](rational_expectations.ipynb)\n",
    "  - [Overview](rational_expectations.ipynb#overview)\n",
    "  - [Defining Rational Expectations Equilibrium](rational_expectations.ipynb#defining-rational-expectations-equilibrium)\n",
    "  - [Computation of an Equilibrium](rational_expectations.ipynb#computation-of-an-equilibrium)\n",
    "  - [Exercises](rational_expectations.ipynb#exercises)\n",
    "  - [Solutions](rational_expectations.ipynb#solutions)\n",
    "- [Markov Perfect Equilibrium](markov_perf.ipynb)\n",
    "  - [Overview](markov_perf.ipynb#overview)\n",
    "  - [Background](markov_perf.ipynb#background)\n",
    "  - [Linear Markov perfect equilibria](markov_perf.ipynb#linear-markov-perfect-equilibria)\n",
    "  - [Application](markov_perf.ipynb#application)\n",
    "  - [Exercises](markov_perf.ipynb#exercises)\n",
    "  - [Solutions](markov_perf.ipynb#solutions)\n",
    "- [Asset Pricing I: Finite State Models](markov_asset.ipynb)\n",
    "  - [Overview](markov_asset.ipynb#overview)\n",
    "  - [Pricing Models](markov_asset.ipynb#pricing-models)\n",
    "  - [Prices in the Risk Neutral Case](markov_asset.ipynb#prices-in-the-risk-neutral-case)\n",
    "  - [Asset Prices under Risk Aversion](markov_asset.ipynb#asset-prices-under-risk-aversion)\n",
    "  - [Exercises](markov_asset.ipynb#exercises)\n",
    "  - [Solutions](markov_asset.ipynb#solutions)"
   ]
  }
 ],
 "metadata": {
  "filename": "index_undergrad.rst",
  "kernelspec": {
   "display_name": "Julia 1.2",
   "language": "julia",
   "name": "julia-1.2"
  },
  "title": "Multiple Agent Models"
 },
 "nbformat": 4,
 "nbformat_minor": 2
}