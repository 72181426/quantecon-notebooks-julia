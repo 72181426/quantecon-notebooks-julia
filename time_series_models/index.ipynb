{
 "cells": [
  {
   "cell_type": "markdown",
   "metadata": {},
   "source": [
    "<div id=\"qe-notebook-header\" style=\"text-align:right;\">\n",
    "        <a href=\"https://quantecon.org/\" title=\"quantecon.org\">\n",
    "                <img style=\"width:250px;display:inline;\" src=\"https://assets.quantecon.org/img/qe-menubar-logo.svg\" alt=\"QuantEcon\">\n",
    "        </a>\n",
    "</div>"
   ]
  },
  {
   "cell_type": "markdown",
   "metadata": {},
   "source": [
    "# Time Series Models\n",
    "\n",
    "These lectures look at important concepts in time series that are used in economics"
   ]
  },
  {
   "cell_type": "markdown",
   "metadata": {},
   "source": [
    "## Lectures\n",
    "\n",
    "- [Covariance Stationary Processes](arma.ipynb)\n",
    "  - [Overview](arma.ipynb#overview)\n",
    "  - [Introduction](arma.ipynb#introduction)\n",
    "  - [Spectral Analysis](arma.ipynb#id12)\n",
    "  - [Implementation](arma.ipynb#implementation)\n",
    "- [Estimation of Spectra](estspec.ipynb)\n",
    "  - [Overview](estspec.ipynb#overview)\n",
    "  - [Periodograms](estspec.ipynb#periodograms)\n",
    "  - [Smoothing](estspec.ipynb#smoothing)\n",
    "  - [Exercises](estspec.ipynb#exercises)\n",
    "  - [Solutions](estspec.ipynb#solutions)\n",
    "- [Additive Functionals](additive_functionals.ipynb)\n",
    "  - [Overview](additive_functionals.ipynb#overview)\n",
    "  - [A Particular Additive Functional](additive_functionals.ipynb#a-particular-additive-functional)\n",
    "  - [Dynamics](additive_functionals.ipynb#dynamics)\n",
    "  - [Code](additive_functionals.ipynb#code)\n",
    "- [Multiplicative Functionals](multiplicative_functionals.ipynb)\n",
    "  - [Overview](multiplicative_functionals.ipynb#overview)\n",
    "  - [A Log-Likelihood Process](multiplicative_functionals.ipynb#a-log-likelihood-process)\n",
    "  - [Benefits from Reduced Aggregate Fluctuations](multiplicative_functionals.ipynb#benefits-from-reduced-aggregate-fluctuations)\n",
    "- [Classical Control with Linear Algebra](lu_tricks.ipynb)\n",
    "  - [Overview](lu_tricks.ipynb#overview)\n",
    "  - [A Control Problem](lu_tricks.ipynb#a-control-problem)\n",
    "  - [Finite Horizon Theory](lu_tricks.ipynb#finite-horizon-theory)\n",
    "  - [The Infinite Horizon Limit](lu_tricks.ipynb#the-infinite-horizon-limit)\n",
    "  - [Undiscounted Problems](lu_tricks.ipynb#undiscounted-problems)\n",
    "  - [Implementation](lu_tricks.ipynb#implementation)\n",
    "  - [Exercises](lu_tricks.ipynb#exercises)\n",
    "- [Classical Filtering With Linear Algebra](classical_filtering.ipynb)\n",
    "  - [Overview](classical_filtering.ipynb#overview)\n",
    "  - [Infinite Horizon Prediction and Filtering Problems](classical_filtering.ipynb#infinite-horizon-prediction-and-filtering-problems)\n",
    "  - [Finite Dimensional Prediction](classical_filtering.ipynb#finite-dimensional-prediction)\n",
    "  - [Combined Finite Dimensional Control and Prediction](classical_filtering.ipynb#combined-finite-dimensional-control-and-prediction)\n",
    "  - [Exercises](classical_filtering.ipynb#exercises)"
   ]
  }
 ],
 "metadata": {
  "filename": "index.rst",
  "kernelspec": {
   "display_name": "Julia 1.2",
   "language": "julia",
   "name": "julia-1.2"
  },
  "title": "Time Series Models"
 },
 "nbformat": 4,
 "nbformat_minor": 2
}