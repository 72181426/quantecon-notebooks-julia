{
 "cells": [
  {
   "cell_type": "markdown",
   "metadata": {},
   "source": [
    "<div id=\"qe-notebook-header\" style=\"text-align:right;\">\n",
    "        <a href=\"https://quantecon.org/\" title=\"quantecon.org\">\n",
    "                <img style=\"width:250px;display:inline;\" src=\"https://assets.quantecon.org/img/qe-menubar-logo.svg\" alt=\"QuantEcon\">\n",
    "        </a>\n",
    "</div>"
   ]
  },
  {
   "cell_type": "markdown",
   "metadata": {},
   "source": [
    "# Time Series Models\n",
    "\n",
    "These lectures look at important concepts in time series that are used in economics"
   ]
  },
  {
   "cell_type": "markdown",
   "metadata": {},
   "source": [
    "## Lectures\n",
    "\n",
    "- [Covariance Stationary Processes](https://julia.quantecon.org/arma.html)\n",
    "  - [Overview](https://julia.quantecon.org/arma.html#overview)\n",
    "  - [Introduction](https://julia.quantecon.org/arma.html#introduction)\n",
    "  - [Spectral Analysis](https://julia.quantecon.org/arma.html#id12)\n",
    "  - [Implementation](https://julia.quantecon.org/arma.html#implementation)\n",
    "- [Estimation of Spectra](https://julia.quantecon.org/estspec.html)\n",
    "  - [Overview](https://julia.quantecon.org/estspec.html#overview)\n",
    "  - [Periodograms](https://julia.quantecon.org/estspec.html#periodograms)\n",
    "  - [Smoothing](https://julia.quantecon.org/estspec.html#smoothing)\n",
    "  - [Exercises](https://julia.quantecon.org/estspec.html#exercises)\n",
    "  - [Solutions](https://julia.quantecon.org/estspec.html#solutions)\n",
    "- [Additive Functionals](https://julia.quantecon.org/additive_functionals.html)\n",
    "  - [Overview](https://julia.quantecon.org/additive_functionals.html#overview)\n",
    "  - [A Particular Additive Functional](https://julia.quantecon.org/additive_functionals.html#a-particular-additive-functional)\n",
    "  - [Dynamics](https://julia.quantecon.org/additive_functionals.html#dynamics)\n",
    "  - [Code](https://julia.quantecon.org/additive_functionals.html#code)\n",
    "- [Multiplicative Functionals](https://julia.quantecon.org/multiplicative_functionals.html)\n",
    "  - [Overview](https://julia.quantecon.org/multiplicative_functionals.html#overview)\n",
    "  - [A Log-Likelihood Process](https://julia.quantecon.org/multiplicative_functionals.html#a-log-likelihood-process)\n",
    "  - [Benefits from Reduced Aggregate Fluctuations](https://julia.quantecon.org/multiplicative_functionals.html#benefits-from-reduced-aggregate-fluctuations)\n",
    "- [Classical Control with Linear Algebra](https://julia.quantecon.org/lu_tricks.html)\n",
    "  - [Overview](https://julia.quantecon.org/lu_tricks.html#overview)\n",
    "  - [A Control Problem](https://julia.quantecon.org/lu_tricks.html#a-control-problem)\n",
    "  - [Finite Horizon Theory](https://julia.quantecon.org/lu_tricks.html#finite-horizon-theory)\n",
    "  - [The Infinite Horizon Limit](https://julia.quantecon.org/lu_tricks.html#the-infinite-horizon-limit)\n",
    "  - [Undiscounted Problems](https://julia.quantecon.org/lu_tricks.html#undiscounted-problems)\n",
    "  - [Implementation](https://julia.quantecon.org/lu_tricks.html#implementation)\n",
    "  - [Exercises](https://julia.quantecon.org/lu_tricks.html#exercises)\n",
    "- [Classical Filtering With Linear Algebra](https://julia.quantecon.org/classical_filtering.html)\n",
    "  - [Overview](https://julia.quantecon.org/classical_filtering.html#overview)\n",
    "  - [Infinite Horizon Prediction and Filtering Problems](https://julia.quantecon.org/classical_filtering.html#infinite-horizon-prediction-and-filtering-problems)\n",
    "  - [Finite Dimensional Prediction](https://julia.quantecon.org/classical_filtering.html#finite-dimensional-prediction)\n",
    "  - [Combined Finite Dimensional Control and Prediction](https://julia.quantecon.org/classical_filtering.html#combined-finite-dimensional-control-and-prediction)\n",
    "  - [Exercises](https://julia.quantecon.org/classical_filtering.html#exercises)"
   ]
  }
 ],
 "metadata": {
  "date": 1570707173.928492,
  "download_nb": 1,
  "download_nb_path": "https://julia.quantecon.org/",
  "filename": "index_grad.rst",
  "filename_with_path": "time_series_models/index_grad",
  "kernelspec": {
   "display_name": "Julia 1.2.0",
   "language": "julia",
   "name": "julia-1.2"
  },
  "language_info": {
   "file_extension": ".jl",
   "mimetype": "application/julia",
   "name": "julia",
   "version": "1.2.0"
  },
  "title": "Time Series Models"
 },
 "nbformat": 4,
 "nbformat_minor": 2
}
