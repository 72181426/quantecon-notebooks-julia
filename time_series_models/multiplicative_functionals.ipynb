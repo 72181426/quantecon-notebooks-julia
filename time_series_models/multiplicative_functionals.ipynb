{
 "cells": [
  {
   "cell_type": "markdown",
   "metadata": {},
   "source": [
    "\n",
    "<a id='multiplicative-functionals'></a>\n",
    "<div id=\"qe-notebook-header\" style=\"text-align:right;\">\n",
    "        <a href=\"https://quantecon.org/\" title=\"quantecon.org\">\n",
    "                <img style=\"width:250px;display:inline;\" src=\"https://assets.quantecon.org/img/qe-menubar-logo.svg\" alt=\"QuantEcon\">\n",
    "        </a>\n",
    "</div>"
   ]
  },
  {
   "cell_type": "markdown",
   "metadata": {},
   "source": [
    "# Multiplicative Functionals\n",
    "\n",
    "\n",
    "<a id='index-0'></a>"
   ]
  },
  {
   "cell_type": "markdown",
   "metadata": {},
   "source": [
    "## Contents\n",
    "\n",
    "- [Multiplicative Functionals](#Multiplicative-Functionals)  \n",
    "  - [Overview](#Overview)  \n",
    "  - [A Log-Likelihood Process](#A-Log-Likelihood-Process)  \n",
    "  - [Benefits from Reduced Aggregate Fluctuations](#Benefits-from-Reduced-Aggregate-Fluctuations)  "
   ]
  },
  {
   "cell_type": "markdown",
   "metadata": {},
   "source": [
    "Co-authored with Chase Coleman and Balint Szoke"
   ]
  },
  {
   "cell_type": "markdown",
   "metadata": {},
   "source": [
    "## Overview\n",
    "\n",
    "This lecture is a sequel to the [lecture on additive functionals](additive_functionals.html)\n",
    "\n",
    "That lecture\n",
    "\n",
    "1. defined a special class of **additive functionals** driven by a first-order vector VAR  \n",
    "1. by taking the exponential of that additive functional, created an associated **multiplicative functional**  \n",
    "\n",
    "\n",
    "This lecture uses this special class to create and analyze two examples\n",
    "\n",
    "- A  **log likelihood process**, an object at the foundation of both frequentist and Bayesian approaches to statistical inference  \n",
    "- A version of Robert E. Lucas’s [[Luc03]](zreferences.html#lucas-2003) and Thomas Tallarini’s [[Tal00]](zreferences.html#tall2000) approaches to measuring the benefits of moderating aggregate fluctuations  "
   ]
  },
  {
   "cell_type": "markdown",
   "metadata": {},
   "source": [
    "## A Log-Likelihood Process\n",
    "\n",
    "Consider a vector of additive functionals $ \\{y_t\\}_{t=0}^\\infty $ described by\n",
    "\n",
    "$$\n",
    "\\begin{aligned}\n",
    "    x_{t+1} & = A x_t + B z_{t+1}\n",
    "    \\\\\n",
    "    y_{t+1} - y_t & = D x_{t} + F z_{t+1},\n",
    "\\end{aligned}\n",
    "$$\n",
    "\n",
    "where $ A $ is a stable matrix, $ \\{z_{t+1}\\}_{t=0}^\\infty $ is\n",
    "an i.i.d. sequence of $ {\\cal N}(0,I) $ random vectors, $ F $ is\n",
    "nonsingular, and $ x_0 $ and $ y_0 $ are vectors of known\n",
    "numbers\n",
    "\n",
    "Evidently,\n",
    "\n",
    "$$\n",
    "x_{t+1} = \\left(A - B F^{-1}D \\right)x_t\n",
    "    + B F^{-1} \\left(y_{t+1} - y_t \\right),\n",
    "$$\n",
    "\n",
    "so that $ x_{t+1} $ can be constructed from observations on\n",
    "$ \\{y_{s}\\}_{s=0}^{t+1} $ and $ x_0 $\n",
    "\n",
    "The distribution of $ y_{t+1} - y_t $ conditional on $ x_t $ is normal with mean $ Dx_t $ and nonsingular covariance matrix $ FF' $\n",
    "\n",
    "Let $ \\theta $ denote the vector of free parameters of the model\n",
    "\n",
    "These parameters pin down the elements of $ A, B, D, F $\n",
    "\n",
    "The **log likelihood function** of $ \\{y_s\\}_{s=1}^t $ is\n",
    "\n",
    "$$\n",
    "\\begin{aligned}\n",
    "    \\log L_{t}(\\theta)  =\n",
    "    & - {\\frac 1 2} \\sum_{j=1}^{t} (y_{j} - y_{j-1} -\n",
    "         D x_{j-1})'(FF')^{-1}(y_{j} - y_{j-1} - D x_{j-1})\n",
    "    \\\\\n",
    "    & - {\\frac t 2} \\log \\det (FF') - {\\frac {k t} 2} \\log( 2 \\pi)\n",
    "\\end{aligned}\n",
    "$$\n",
    "\n",
    "Let’s consider the case of a scalar process in which $ A, B, D, F $ are scalars and $ z_{t+1} $ is a scalar stochastic process\n",
    "\n",
    "We let $ \\theta_o $ denote the “true” values of $ \\theta $, meaning the values that generate the data\n",
    "\n",
    "For the purposes of this exercise,  set $ \\theta_o = (A, B, D, F) = (0.8, 1, 0.5, 0.2) $\n",
    "\n",
    "Set $ x_0 = y_0 = 0 $"
   ]
  },
  {
   "cell_type": "markdown",
   "metadata": {},
   "source": [
    "### Simulating sample paths\n",
    "\n",
    "Let’s write a program to simulate sample paths of $ \\{ x_t, y_{t} \\}_{t=0}^{\\infty} $\n",
    "\n",
    "We’ll do this by formulating the additive functional as a linear state space model and putting the [LSS](https://github.com/QuantEcon/QuantEcon.jl/blob/master/src/lss.jl) struct to work"
   ]
  },
  {
   "cell_type": "markdown",
   "metadata": {},
   "source": [
    "### Setup"
   ]
  },
  {
   "cell_type": "code",
   "execution_count": 1,
   "metadata": {
    "hide-output": true
   },
   "outputs": [],
   "source": [
    "using InstantiateFromURL\n",
    "github_project(\"QuantEcon/quantecon-notebooks-julia\", version = \"0.1.0\")"
   ]
  },
  {
   "cell_type": "code",
   "execution_count": 2,
   "metadata": {
    "hide-output": false
   },
   "outputs": [
    {
     "name": "stderr",
     "output_type": "stream",
     "text": [
      "┌ Warning: Replacing module `StatsBase`\n",
      "└ @ Base loading.jl:931\n",
      "┌ Info: Precompiling QuantEcon [fcd29c91-0bd7-5a09-975d-7ac3f643a60c]\n",
      "└ @ Base loading.jl:1242\n"
     ]
    },
    {
     "name": "stderr",
     "output_type": "stream",
     "text": [
      "┌ Warning: Module Distributions with build ID 144417545864125 is missing from the cache.\n",
      "│ This may mean Distributions [31c24e10-a181-5473-b8eb-7969acd0382f] does not support precompilation but is imported by a module that does.\n",
      "└ @ Base loading.jl:1000\n",
      "┌ Info: Skipping precompilation since __precompile__(false). Importing QuantEcon [fcd29c91-0bd7-5a09-975d-7ac3f643a60c].\n",
      "└ @ Base loading.jl:1017\n",
      "WARNING: DSP.TFFilter is deprecated, use PolynomialRatio instead.\n",
      "  likely near /Users/arnavsood/.julia/packages/QuantEcon/Iww9D/src/QuantEcon.jl:12\n",
      "WARNING: importing deprecated binding DSP.TFFilter into QuantEcon.\n",
      "┌ Info: Recompiling stale cache file /Users/arnavsood/.julia/compiled/v1.2/Optim/R5uoh.ji for Optim [429524aa-4258-5aef-a3af-852621145aeb]\n",
      "└ @ Base loading.jl:1240\n"
     ]
    },
    {
     "name": "stderr",
     "output_type": "stream",
     "text": [
      "┌ Warning: Module StatsBase with build ID 143274540680159 is missing from the cache.\n",
      "│ This may mean StatsBase [2913bbd2-ae8a-5f71-8c99-4fb6c76f3a91] does not support precompilation but is imported by a module that does.\n",
      "└ @ Base loading.jl:1000\n",
      "┌ Info: Skipping precompilation since __precompile__(false). Importing Optim [429524aa-4258-5aef-a3af-852621145aeb].\n",
      "└ @ Base loading.jl:1017\n"
     ]
    }
   ],
   "source": [
    "using LinearAlgebra, Statistics, Compat\n",
    "using Distributions, Parameters, Plots, QuantEcon\n",
    "import Distributions: loglikelihood\n",
    "gr(fmt = :png);"
   ]
  },
  {
   "cell_type": "code",
   "execution_count": 3,
   "metadata": {
    "hide-output": false
   },
   "outputs": [
    {
     "data": {
      "text/plain": [
       "loglikelihood (generic function with 4 methods)"
      ]
     },
     "execution_count": 3,
     "metadata": {},
     "output_type": "execute_result"
    }
   ],
   "source": [
    "AMF_LSS_VAR = @with_kw (A, B, D, F = 0.0, ν = 0.0, lss = construct_ss(A, B, D, F, ν))\n",
    "\n",
    "function construct_ss(A, B, D, F, ν)\n",
    "    H, g = additive_decomp(A, B, D, F)\n",
    "\n",
    "    # Build A matrix for LSS\n",
    "    # Order of states is: [1, t, xt, yt, mt]\n",
    "    A1 = [1 0 0 0 0]       # Transition for 1\n",
    "    A2 = [1 1 0 0 0]       # Transition for t\n",
    "    A3 = [0 0 A 0 0]       # Transition for x_{t+1}\n",
    "    A4 = [ν 0 D 1 0]       # Transition for y_{t+1}\n",
    "    A5 = [0 0 0 0 1]       # Transition for m_{t+1}\n",
    "    Abar = vcat(A1, A2, A3, A4, A5)\n",
    "\n",
    "    # Build B matrix for LSS\n",
    "    Bbar = [0, 0, B, F, H]\n",
    "\n",
    "    # Build G matrix for LSS\n",
    "    # Order of observation is: [xt, yt, mt, st, tt]\n",
    "    G1 = [0 0 1 0 0]               # Selector for x_{t}\n",
    "    G2 = [0 0 0 1 0]               # Selector for y_{t}\n",
    "    G3 = [0 0 0 0 1]               # Selector for martingale\n",
    "    G4 = [0 0 -g 0 0]              # Selector for stationary\n",
    "    G5 = [0 ν 0 0 0]               # Selector for trend\n",
    "    Gbar = vcat(G1, G2, G3, G4, G5)\n",
    "\n",
    "    # Build LSS struct\n",
    "    x0 = [0, 0, 0, 0, 0]\n",
    "    S0 = zeros(5, 5)\n",
    "    return LSS(Abar, Bbar, Gbar, mu_0 = x0, Sigma_0 = S0)\n",
    "end\n",
    "\n",
    "function additive_decomp(A, B, D, F)\n",
    "    A_res = 1 / (1 - A)\n",
    "    g = D * A_res\n",
    "    H = F + D * A_res * B\n",
    "\n",
    "    return H, g\n",
    "end\n",
    "\n",
    "function multiplicative_decomp(A, B, D, F, ν)\n",
    "    H, g = additive_decomp(A, B, D, F)\n",
    "    ν_tilde = ν + 0.5 * H^2\n",
    "\n",
    "    return ν_tilde, H, g\n",
    "end\n",
    "\n",
    "function loglikelihood_path(amf, x, y)\n",
    "    @unpack A, B, D, F = amf\n",
    "    T = length(y)\n",
    "    FF = F^2\n",
    "    FFinv = inv(FF)\n",
    "    temp = y[2:end] - y[1:end-1] - D*x[1:end-1]\n",
    "    obs =  temp .* FFinv .* temp\n",
    "    obssum = cumsum(obs)\n",
    "    scalar = (log(FF) + log(2pi)) * (1:T-1)\n",
    "    return -0.5 * (obssum + scalar)\n",
    "end\n",
    "\n",
    "function loglikelihood(amf, x, y)\n",
    "    llh = loglikelihood_path(amf, x, y)\n",
    "    return llh[end]\n",
    "end"
   ]
  },
  {
   "cell_type": "markdown",
   "metadata": {},
   "source": [
    "The heavy lifting is done inside the AMF_LSS_VAR struct\n",
    "\n",
    "The following code adds some simple functions that make it straightforward to generate sample paths from an instance of AMF_LSS_VAR"
   ]
  },
  {
   "cell_type": "code",
   "execution_count": 4,
   "metadata": {
    "hide-output": false
   },
   "outputs": [
    {
     "data": {
      "text/plain": [
       "population_means (generic function with 2 methods)"
      ]
     },
     "execution_count": 4,
     "metadata": {},
     "output_type": "execute_result"
    }
   ],
   "source": [
    "function simulate_xy(amf, T)\n",
    "    foo, bar = simulate(amf.lss, T)\n",
    "    x = bar[1, :]\n",
    "    y = bar[2, :]\n",
    "    return x, y\n",
    "end\n",
    "\n",
    "function simulate_paths(amf, T = 150, I = 5000)\n",
    "    # Allocate space\n",
    "    storeX = zeros(I, T)\n",
    "    storeY = zeros(I, T)\n",
    "\n",
    "    for i in 1:I\n",
    "        # Do specific simulation\n",
    "        x, y = simulate_xy(amf, T)\n",
    "\n",
    "        # Fill in our storage matrices\n",
    "        storeX[i, :] = x\n",
    "        storeY[i, :] = y\n",
    "    end\n",
    "\n",
    "    return storeX, storeY\n",
    "end\n",
    "\n",
    "function population_means(amf, T = 150)\n",
    "    # Allocate Space\n",
    "    xmean = zeros(T)\n",
    "    ymean = zeros(T)\n",
    "\n",
    "    # Pull out moment generator\n",
    "    moment_generator = moment_sequence(amf.lss)\n",
    "    for (tt, x) = enumerate(moment_generator)\n",
    "        ymeans = x[2]\n",
    "        xmean[tt] = ymeans[1]\n",
    "        ymean[tt] = ymeans[2]\n",
    "        if tt == T\n",
    "            break\n",
    "        end\n",
    "    end\n",
    "    return xmean, ymean\n",
    "end"
   ]
  },
  {
   "cell_type": "markdown",
   "metadata": {},
   "source": [
    "Now that we have these functions in our took kit, let’s apply them to run some\n",
    "simulations\n",
    "\n",
    "In particular, let’s use our program to generate $ I = 5000 $ sample paths of length $ T = 150 $, labeled $ \\{ x_{t}^i, y_{t}^i \\}_{t=0}^\\infty $ for $ i = 1, ..., I $\n",
    "\n",
    "Then we compute averages of $ \\frac{1}{I} \\sum_i x_t^i $ and $ \\frac{1}{I} \\sum_i y_t^i $ across the sample paths and compare them with the population means of $ x_t $ and $ y_t $\n",
    "\n",
    "Here goes"
   ]
  },
  {
   "cell_type": "code",
   "execution_count": 5,
   "metadata": {
    "hide-output": false
   },
   "outputs": [
    {
     "data": {
      "image/png": "[encoded data removed]"
     },
     "execution_count": 5,
     "metadata": {},
     "output_type": "execute_result"
    }
   ],
   "source": [
    "F = 0.2\n",
    "amf = AMF_LSS_VAR(A = 0.8, B = 1.0, D = 0.5, F = F)\n",
    "\n",
    "T = 150\n",
    "I = 5000\n",
    "\n",
    "# Simulate and compute sample means\n",
    "Xit, Yit = simulate_paths(amf, T, I)\n",
    "Xmean_t = mean(Xit, dims = 1)\n",
    "Ymean_t = mean(Yit, dims = 1)\n",
    "\n",
    "# Compute population means\n",
    "Xmean_pop, Ymean_pop = population_means(amf, T)\n",
    "\n",
    "# Plot sample means vs population means\n",
    "plt_1 = plot(Xmean_t', color = :blue, label = \"1/I sum_i x_t^i\")\n",
    "plot!(plt_1, Xmean_pop, color = :black, label = \"E x_t\")\n",
    "plot!(plt_1, title = \"x_t\", xlim = (0, T), legend = :bottomleft)\n",
    "\n",
    "plt_2 = plot(Ymean_t', color = :blue, label = \"1/I sum_i x_t^i\")\n",
    "plot!(plt_2, Ymean_pop, color = :black, label = \"E y_t\")\n",
    "plot!(plt_2, title = \"y_t\", xlim = (0, T), legend = :bottomleft)\n",
    "\n",
    "plot(plt_1, plt_2, layout = (2, 1), size = (800,500))"
   ]
  },
  {
   "cell_type": "markdown",
   "metadata": {},
   "source": [
    "### Simulating log-likelihoods\n",
    "\n",
    "Our next aim is to write a program to simulate $ \\{\\log L_t \\mid \\theta_o\\}_{t=1}^T $\n",
    "\n",
    "We want as inputs to this program the *same* sample paths $ \\{x_t^i, y_t^i\\}_{t=0}^T $ that we  have already computed\n",
    "\n",
    "We now want to simulate $ I = 5000 $ paths of $ \\{\\log L_t^i  \\mid \\theta_o\\}_{t=1}^T $\n",
    "\n",
    "- For each path, we compute $ \\log L_T^i / T $  \n",
    "- We also compute $ \\frac{1}{I} \\sum_{i=1}^I \\log L_T^i / T $  \n",
    "\n",
    "\n",
    "Then we to compare these objects\n",
    "\n",
    "Below we plot the histogram of $ \\log L_T^i / T $ for realizations $ i = 1, \\ldots, 5000 $"
   ]
  },
  {
   "cell_type": "code",
   "execution_count": 6,
   "metadata": {
    "hide-output": false
   },
   "outputs": [
    {
     "data": {
      "image/png": "[encoded data removed]"
     },
     "execution_count": 6,
     "metadata": {},
     "output_type": "execute_result"
    }
   ],
   "source": [
    "function simulate_likelihood(amf, Xit, Yit)\n",
    "    # Get size\n",
    "    I, T = size(Xit)\n",
    "\n",
    "    # Allocate space\n",
    "    LLit = zeros(I, T-1)\n",
    "\n",
    "    for i in 1:I\n",
    "        LLit[i, :] = loglikelihood_path(amf, Xit[i, :], Yit[i, :])\n",
    "    end\n",
    "\n",
    "    return LLit\n",
    "end\n",
    "\n",
    "# Get likelihood from each path x^{i}, Y^{i}\n",
    "LLit = simulate_likelihood(amf, Xit, Yit)\n",
    "\n",
    "LLT = 1 / T * LLit[:, end]\n",
    "LLmean_t = mean(LLT)\n",
    "\n",
    "plot(seriestype = :histogram, LLT, label = \"\")\n",
    "plot!(title = \"Distribution of (I/T)log(L_T)|theta_0\")\n",
    "vline!([LLmean_t], linestyle = :dash, color = :black, lw = 2, alpha = 0.6, label = \"\")"
   ]
  },
  {
   "cell_type": "markdown",
   "metadata": {},
   "source": [
    "Notice that the log likelihood is almost always nonnegative, implying that $ L_t $ is typically bigger than 1\n",
    "\n",
    "Recall that the likelihood function is a pdf (probability density function) and **not** a probability measure, so it can take values larger than 1\n",
    "\n",
    "In the current case, the conditional variance of $ \\Delta y_{t+1} $, which equals  $ FF^T=0.04 $, is so small that the maximum value of the pdf is 2 (see the figure below)\n",
    "\n",
    "This implies that approximately $ 75\\% $ of the time (a bit more than one sigma deviation),  we should expect the **increment** of the log likelihood to be nonnegative\n",
    "\n",
    "Let’s see this in a simulation"
   ]
  },
  {
   "cell_type": "code",
   "execution_count": 7,
   "metadata": {
    "hide-output": false
   },
   "outputs": [
    {
     "name": "stdout",
     "output_type": "stream",
     "text": [
      "The pdf at +/- 1.175 sigma takes the value: 1.0001868966924388\n",
      "Probability of dL being larger than 1 is approx: 0.7600052842019751\n"
     ]
    },
    {
     "name": "stdout",
     "output_type": "stream",
     "text": [
      "Fraction of dlogL being nonnegative in the sample is: 0.7606743243243244"
     ]
    }
   ],
   "source": [
    "normdist = Normal(0, F)\n",
    "mult = 1.175\n",
    "println(\"The pdf at +/- $mult sigma takes the value: $(pdf(normdist,mult*F))\")\n",
    "println(\"Probability of dL being larger than 1 is approx: \"*\n",
    "        \"$(cdf(normdist,mult*F)-cdf(normdist,-mult*F))\")\n",
    "\n",
    "# Compare this to the sample analogue:\n",
    "L_increment = LLit[:,2:end] - LLit[:,1:end-1]\n",
    "r,c = size(L_increment)\n",
    "frac_nonegative = sum(L_increment.>=0)/(c*r)\n",
    "print(\"Fraction of dlogL being nonnegative in the sample is: $(frac_nonegative)\")"
   ]
  },
  {
   "cell_type": "markdown",
   "metadata": {},
   "source": [
    "Let’s also plot the conditional pdf of $ \\Delta y_{t+1} $"
   ]
  },
  {
   "cell_type": "code",
   "execution_count": 8,
   "metadata": {
    "hide-output": false
   },
   "outputs": [
    {
     "name": "stdout",
     "output_type": "stream",
     "text": [
      "The pdf at +/- one sigma takes the value: 1.2098536225957168 \n"
     ]
    },
    {
     "data": {
      "image/png": "[encoded data removed]"
     },
     "execution_count": 8,
     "metadata": {},
     "output_type": "execute_result"
    }
   ],
   "source": [
    "xgrid = range(-1,  1, length = 100)\n",
    "println(\"The pdf at +/- one sigma takes the value: $(pdf(normdist, F)) \")\n",
    "plot(xgrid, pdf.(normdist, xgrid), label = \"\")\n",
    "plot!(title = \"Conditional pdf f(Delta y_(t+1) | x_t)\")"
   ]
  },
  {
   "cell_type": "markdown",
   "metadata": {},
   "source": [
    "### An alternative parameter vector\n",
    "\n",
    "Now consider alternative parameter vector $ \\theta_1 = [A, B, D, F] = [0.9, 1.0, 0.55, 0.25] $\n",
    "\n",
    "We want to compute $ \\{\\log L_t \\mid \\theta_1\\}_{t=1}^T $\n",
    "\n",
    "The $ x_t, y_t $ inputs to this program should be exactly the **same** sample paths $ \\{x_t^i, y_t^i\\}_{t=0}^T $ that we we computed above\n",
    "\n",
    "This is because we want to generate data under the $ \\theta_o $ probability model but evaluate the likelihood under the $ \\theta_1 $ model\n",
    "\n",
    "So our task is to use our program to simulate $ I = 5000 $ paths of $ \\{\\log L_t^i  \\mid \\theta_1\\}_{t=1}^T $\n",
    "\n",
    "- For each path, compute $ \\frac{1}{T} \\log L_T^i $  \n",
    "- Then compute $ \\frac{1}{I}\\sum_{i=1}^I \\frac{1}{T} \\log L_T^i $  \n",
    "\n",
    "\n",
    "We want to compare these objects with each other and with the analogous objects that we computed above\n",
    "\n",
    "Then we want to interpret outcomes\n",
    "\n",
    "A function that we constructed can  handle these tasks\n",
    "\n",
    "The only innovation is that we must create an alternative model to feed in\n",
    "\n",
    "We will creatively call the new model `amf2`\n",
    "\n",
    "We make three graphs\n",
    "\n",
    "- the first sets the stage by repeating an earlier graph  \n",
    "- the second contains two histograms of values of  log likelihoods of the two models  over the period $ T $  \n",
    "- the third compares likelihoods under the true and alternative models  \n",
    "\n",
    "\n",
    "Here’s the code"
   ]
  },
  {
   "cell_type": "code",
   "execution_count": 9,
   "metadata": {
    "hide-output": false
   },
   "outputs": [
    {
     "data": {
      "image/png": "[encoded data removed]"
     },
     "execution_count": 9,
     "metadata": {},
     "output_type": "execute_result"
    }
   ],
   "source": [
    "# Create the second (wrong) alternative model\n",
    "amf2 = AMF_LSS_VAR(A = 0.9, B = 1.0, D = 0.55, F = 0.25) # parameters for θ_1 closer to θ_0\n",
    "\n",
    "# Get likelihood from each path x^{i}, y^{i}\n",
    "LLit2 = simulate_likelihood(amf2, Xit, Yit)\n",
    "\n",
    "LLT2 = 1/(T-1) * LLit2[:, end]\n",
    "LLmean_t2 = mean(LLT2)\n",
    "\n",
    "plot(seriestype = :histogram, LLT2, label = \"\")\n",
    "vline!([LLmean_t2], color = :black, lw = 2, linestyle = :dash, alpha = 0.6, label = \"\")\n",
    "plot!(title = \"Distribution of (1/T)log(L_T) | theta_1)\")"
   ]
  },
  {
   "cell_type": "markdown",
   "metadata": {},
   "source": [
    "Let’s see a histogram of the log-likelihoods under the true and the alternative model (same sample paths)"
   ]
  },
  {
   "cell_type": "code",
   "execution_count": 10,
   "metadata": {
    "hide-output": false
   },
   "outputs": [
    {
     "data": {
      "image/png": "[encoded data removed]"
     },
     "execution_count": 10,
     "metadata": {},
     "output_type": "execute_result"
    }
   ],
   "source": [
    "plot(seriestype = :histogram, LLT, bin = 50, alpha = 0.5, label = \"True\", normed = true)\n",
    "plot!(seriestype = :histogram, LLT2, bin = 50, alpha = 0.5, label = \"Alternative\",\n",
    "      normed = true)\n",
    "vline!([mean(LLT)], color = :black, lw = 2, linestyle = :dash, label = \"\")\n",
    "vline!([mean(LLT2)], color = :black, lw = 2, linestyle = :dash, label = \"\")"
   ]
  },
  {
   "cell_type": "markdown",
   "metadata": {},
   "source": [
    "Now we’ll plot the histogram of the difference in log likelihood ratio"
   ]
  },
  {
   "cell_type": "code",
   "execution_count": 11,
   "metadata": {
    "hide-output": false
   },
   "outputs": [
    {
     "data": {
      "image/png": "[encoded data removed]"
     },
     "execution_count": 11,
     "metadata": {},
     "output_type": "execute_result"
    }
   ],
   "source": [
    "LLT_diff = LLT - LLT2\n",
    "\n",
    "plot(seriestype = :histogram, LLT_diff, bin = 50, label = \"\")\n",
    "plot!(title = \"(1/T)[log(L_T^i | theta_0) - log(L_T^i |theta_1)]\")"
   ]
  },
  {
   "cell_type": "markdown",
   "metadata": {},
   "source": [
    "### Interpretation\n",
    "\n",
    "These histograms of  log likelihood ratios illustrate  important features of **likelihood ratio tests** as tools for discriminating between statistical models\n",
    "\n",
    "- The loglikeklihood is higher on average under the true model – obviously a very useful property  \n",
    "- Nevertheless, for a positive fraction of realizations, the log likelihood is higher for the incorrect than for the true model  \n",
    "\n",
    "\n",
    "> - in these instances, a likelihood ratio test mistakenly selects the wrong model  \n",
    "\n",
    "\n",
    "\n",
    "- These mechanics underlie the statistical theory of **mistake probabilities** associated with model selection tests based on  likelihood ratio  \n",
    "\n",
    "\n",
    "(In a subsequent lecture, we’ll use some of the code prepared in this lecture to illustrate mistake probabilities)"
   ]
  },
  {
   "cell_type": "markdown",
   "metadata": {},
   "source": [
    "## Benefits from Reduced Aggregate Fluctuations\n",
    "\n",
    "Now let’s turn to a new example of multiplicative functionals\n",
    "\n",
    "This example illustrates  ideas in the literatures on\n",
    "\n",
    "- **long-run risk** in the consumption based asset pricing literature (e.g., [[BY04]](zreferences.html#bansal-yaron-2004), [[HHL08]](zreferences.html#hhl-2008), [[Han07]](zreferences.html#hansen-2007))  \n",
    "- **benefits of eliminating aggregate fluctuations** in representative agent macro models (e.g., [[Tal00]](zreferences.html#tall2000), [[Luc03]](zreferences.html#lucas-2003))  \n",
    "\n",
    "\n",
    "Let $ c_t $ be consumption at date $ t \\geq 0 $\n",
    "\n",
    "Suppose that $ \\{\\log c_t \\}_{t=0}^\\infty $ is an additive functional described by\n",
    "\n",
    "$$\n",
    "\\log c_{t+1} - \\log c_t = \\nu + D \\cdot x_t + F \\cdot z_{t+1}\n",
    "$$\n",
    "\n",
    "where\n",
    "\n",
    "$$\n",
    "x_{t+1} = A x_t + B z_{t+1}\n",
    "$$\n",
    "\n",
    "Here $ \\{z_{t+1}\\}_{t=0}^\\infty $ is an i.i.d. sequence of $ {\\cal N}(0,I) $ random vectors\n",
    "\n",
    "A representative household ranks consumption processes $ \\{c_t\\}_{t=0}^\\infty $ with a utility functional $ \\{V_t\\}_{t=0}^\\infty $ that satisfies\n",
    "\n",
    "\n",
    "<a id='equation-old1mf'></a>\n",
    "$$\n",
    "\\log V_t - \\log c_t = U \\cdot x_t + {\\sf u} \\tag{1}\n",
    "$$\n",
    "\n",
    "where\n",
    "\n",
    "$$\n",
    "U = \\exp(-\\delta) \\left[ I - \\exp(-\\delta) A' \\right]^{-1} D\n",
    "$$\n",
    "\n",
    "and\n",
    "\n",
    "$$\n",
    "{\\sf u}\n",
    "  = {\\frac {\\exp( -\\delta)}{ 1 - \\exp(-\\delta)}} {\\nu} + \\frac{(1 - \\gamma)}{2} {\\frac {\\exp(-\\delta)}{1 - \\exp(-\\delta)}}\n",
    "\\biggl| D' \\left[ I - \\exp(-\\delta) A \\right]^{-1}B + F \\biggl|^2,\n",
    "$$\n",
    "\n",
    "Here $ \\gamma \\geq 1 $ is a risk-aversion coefficient and $ \\delta > 0 $ is a rate of time preference"
   ]
  },
  {
   "cell_type": "markdown",
   "metadata": {},
   "source": [
    "### Consumption as a multiplicative process\n",
    "\n",
    "We begin by showing that consumption is a **multiplicative functional** with representation\n",
    "\n",
    "\n",
    "<a id='equation-old2mf'></a>\n",
    "$$\n",
    "\\frac{c_t}{c_0}\n",
    "= \\exp(\\tilde{\\nu}t )\n",
    "\\left( \\frac{\\tilde{M}_t}{\\tilde{M}_0} \\right)\n",
    "\\left( \\frac{\\tilde{e}(x_0)}{\\tilde{e}(x_t)} \\right) \\tag{2}\n",
    "$$\n",
    "\n",
    "where $ \\left( \\frac{\\tilde{M}_t}{\\tilde{M}_0} \\right) $ is a likelihood ratio process and $ \\tilde M_0 = 1 $\n",
    "\n",
    "At this point, as an exercise, we ask the reader please to verify the follow formulas for $ \\tilde{\\nu} $ and $ \\tilde{e}(x_t) $ as functions of $ A, B, D, F $:\n",
    "\n",
    "$$\n",
    "\\tilde \\nu =  \\nu + \\frac{H \\cdot H}{2}\n",
    "$$\n",
    "\n",
    "and\n",
    "\n",
    "$$\n",
    "\\tilde e(x) = \\exp[g(x)] = \\exp \\bigl[ D' (I - A)^{-1} x \\bigr]\n",
    "$$"
   ]
  },
  {
   "cell_type": "markdown",
   "metadata": {},
   "source": [
    "### Simulating a likelihood ratio process again\n",
    "\n",
    "Next, we want a program to simulate the likelihood ratio process $ \\{ \\tilde{M}_t \\}_{t=0}^\\infty $\n",
    "\n",
    "In particular, we want to simulate 5000 sample paths of length $ T=1000 $ for the case in which $ x $ is a scalar and $ [A, B, D, F] = [0.8, 0.001, 1.0, 0.01] $ and $ \\nu = 0.005 $\n",
    "\n",
    "After accomplishing this, we want to display a histogram of $ \\tilde{M}_T^i $ for\n",
    "$ T=1000 $\n",
    "\n",
    "Here is code that accomplishes these tasks"
   ]
  },
  {
   "cell_type": "code",
   "execution_count": 12,
   "metadata": {
    "hide-output": false
   },
   "outputs": [
    {
     "name": "stdout",
     "output_type": "stream",
     "text": [
      "The (min, mean, max) of additive Martingale component in period T is\n",
      "\t (-1.6240645105512181, -0.000927770768752913, 1.672829723981604)\n",
      "The (min, mean, max) of multiplicative Martingale component in period T is\n",
      "\t (0.1761442511996433, 0.9954857693962492, 4.760926175407638)\n"
     ]
    }
   ],
   "source": [
    "function simulate_martingale_components(amf, T = 1_000, I = 5_000)\n",
    "    # Get the multiplicative decomposition\n",
    "    @unpack A, B, D, F, ν, lss = amf\n",
    "    ν, H, g = multiplicative_decomp(A, B, D, F, ν)\n",
    "\n",
    "    # Allocate space\n",
    "    add_mart_comp = zeros(I, T)\n",
    "\n",
    "    # Simulate and pull out additive martingale component\n",
    "    for i in 1:I\n",
    "        foo, bar = simulate(lss, T)\n",
    "        # Martingale component is third component\n",
    "        add_mart_comp[i, :] = bar[3, :]\n",
    "    end\n",
    "\n",
    "    mul_mart_comp = exp.(add_mart_comp' .- (0:T-1) * H^2 / 2)'\n",
    "\n",
    "    return add_mart_comp, mul_mart_comp\n",
    "end\n",
    "\n",
    "# Build model\n",
    "amf_2 = AMF_LSS_VAR(A = 0.8, B = 0.001, D = 1.0, F = 0.01, ν = 0.005)\n",
    "\n",
    "amc, mmc = simulate_martingale_components(amf_2, 1_000, 5_000)\n",
    "\n",
    "amcT = amc[:, end]\n",
    "mmcT = mmc[:, end]\n",
    "\n",
    "println(\"The (min, mean, max) of additive Martingale component in period T is\")\n",
    "println(\"\\t ($(minimum(amcT)), $(mean(amcT)), $(maximum(amcT)))\")\n",
    "\n",
    "println(\"The (min, mean, max) of multiplicative Martingale component in period T is\")\n",
    "println(\"\\t ($(minimum(mmcT)), $(mean(mmcT)), $(maximum(mmcT)))\")"
   ]
  },
  {
   "cell_type": "markdown",
   "metadata": {},
   "source": [
    "#### Comments\n",
    "\n",
    "- The preceding min, mean, and max of the cross-section of the date\n",
    "  $ T $ realizations of the multiplicative martingale component of\n",
    "  $ c_t $ indicate that the sample mean is close to its population\n",
    "  mean of 1  \n",
    "  \n",
    "  - This outcome prevails for all values of the horizon $ T $  \n",
    "  \n",
    "- The cross-section distribution of the multiplicative martingale\n",
    "  component of $ c $ at date $ T $ approximates a log normal\n",
    "  distribution well  \n",
    "- The histogram of the additive martingale component of\n",
    "  $ \\log c_t $ at date $ T $ approximates a normal distribution\n",
    "  well  \n",
    "\n",
    "\n",
    "Here’s a histogram of the additive martingale component"
   ]
  },
  {
   "cell_type": "code",
   "execution_count": 13,
   "metadata": {
    "hide-output": false
   },
   "outputs": [
    {
     "data": {
      "image/png": "[encoded data removed]"
     },
     "execution_count": 13,
     "metadata": {},
     "output_type": "execute_result"
    }
   ],
   "source": [
    "plot(seriestype = :histogram, amcT, bin = 25, normed = true, label = \"\")\n",
    "plot!(title = \"Histogram of Additive Martingale Component\")"
   ]
  },
  {
   "cell_type": "markdown",
   "metadata": {},
   "source": [
    "Here’s a histogram of the multiplicative martingale component"
   ]
  },
  {
   "cell_type": "code",
   "execution_count": 14,
   "metadata": {
    "hide-output": false
   },
   "outputs": [
    {
     "data": {
      "image/png": "[encoded data removed]"
     },
     "execution_count": 14,
     "metadata": {},
     "output_type": "execute_result"
    }
   ],
   "source": [
    "plot(seriestype = :histogram, mmcT, bin = 25, normed = true, label = \"\")\n",
    "plot!(title = \"Histogram of Multiplicative Martingale Component\")"
   ]
  },
  {
   "cell_type": "markdown",
   "metadata": {},
   "source": [
    "### Representing the likelihood ratio process\n",
    "\n",
    "The likelihood ratio process $ \\{\\widetilde M_t\\}_{t=0}^\\infty $ can be represented as\n",
    "\n",
    "$$\n",
    "\\widetilde M_t = \\exp \\biggl( \\sum_{j=1}^t \\biggl(H \\cdot z_j -\\frac{ H \\cdot H }{2} \\biggr) \\biggr),  \\quad \\widetilde M_0 =1 ,\n",
    "$$\n",
    "\n",
    "where $ H =  [F + B'(I-A')^{-1} D] $\n",
    "\n",
    "It follows that $ \\log {\\widetilde M}_t \\sim {\\mathcal N} ( -\\frac{t H \\cdot H}{2}, t H \\cdot H ) $ and that consequently $ {\\widetilde M}_t $ is log normal\n",
    "\n",
    "Let’s plot the probability density functions for $ \\log {\\widetilde M}_t $ for\n",
    "$ t=100, 500, 1000, 10000, 100000 $\n",
    "\n",
    "Then let’s use the plots to  investigate how these densities evolve through time\n",
    "\n",
    "We will plot the densities of $ \\log {\\widetilde M}_t $ for different values of $ t $\n",
    "\n",
    "Here is some code that tackles these tasks"
   ]
  },
  {
   "cell_type": "code",
   "execution_count": 15,
   "metadata": {
    "hide-output": false
   },
   "outputs": [
    {
     "ename": "ErrorException",
     "evalue": "Cannot convert Tuple{Array{Int64,1},Array{Float64,1}} to series data for plotting",
     "output_type": "error",
     "traceback": [
      "Cannot convert Tuple{Array{Int64,1},Array{Float64,1}} to series data for plotting",
      "",
      "Stacktrace:",
      " [1] error(::String) at ./error.jl:33",
      " [2] prepareSeriesData(::Tuple{Array{Int64,1},Array{Float64,1}}) at /Users/arnavsood/.julia/packages/Plots/Ih71u/src/series.jl:13",
      " [3] convertToAnyVector(::Tuple{Array{Int64,1},Array{Float64,1}}) at /Users/arnavsood/.julia/packages/Plots/Ih71u/src/series.jl:24",
      " [4] process_fillrange(::Tuple{Array{Int64,1},Array{Float64,1}}) at /Users/arnavsood/.julia/packages/Plots/Ih71u/src/series.jl:43",
      " [5] macro expansion at /Users/arnavsood/.julia/packages/Plots/Ih71u/src/series.jl:119 [inlined]",
      " [6] apply_recipe(::Dict{Symbol,Any}, ::Type{Plots.SliceIt}, ::Nothing, ::Array{Float64,1}, ::Nothing) at /Users/arnavsood/.julia/packages/RecipesBase/zBoFG/src/RecipesBase.jl:275",
      " [7] _process_userrecipes(::Plots.Plot{Plots.GRBackend}, ::Dict{Symbol,Any}, ::Tuple{Array{Float64,1}}) at /Users/arnavsood/.julia/packages/Plots/Ih71u/src/pipeline.jl:83",
      " [8] _plot!(::Plots.Plot{Plots.GRBackend}, ::Dict{Symbol,Any}, ::Tuple{Array{Float64,1}}) at /Users/arnavsood/.julia/packages/Plots/Ih71u/src/plot.jl:178",
      " [9] #plot!#138 at /Users/arnavsood/.julia/packages/Plots/Ih71u/src/plot.jl:158 [inlined]",
      " [10] (::getfield(RecipesBase, Symbol(\"#kw##plot!\")))(::NamedTuple{(:fill_between, :label, :subplot),Tuple{Tuple{Array{Int64,1},Array{Float64,1}},String,Int64}}, ::typeof(plot!), ::Plots.Plot{Plots.GRBackend}, ::Array{Float64,1}) at ./none:0",
      " [11] #plot!#140(::Base.Iterators.Pairs{Symbol,Any,Tuple{Symbol,Symbol},NamedTuple{(:fill_between, :label),Tuple{Tuple{Array{Int64,1},Array{Float64,1}},String}}}, ::typeof(plot!), ::Plots.Subplot{Plots.GRBackend}, ::Array{Float64,1}) at /Users/arnavsood/.julia/packages/Plots/Ih71u/src/plot.jl:290",
      " [12] (::getfield(RecipesBase, Symbol(\"#kw##plot!\")))(::NamedTuple{(:fill_between, :label),Tuple{Tuple{Array{Int64,1},Array{Float64,1}},String}}, ::typeof(plot!), ::Plots.Subplot{Plots.GRBackend}, ::Array{Float64,1}) at ./none:0",
      " [13] top-level scope at ./In[15]:42"
     ]
    }
   ],
   "source": [
    "function Mtilde_t_density(amf, t; xmin = 1e-8, xmax = 5.0, npts = 5000)\n",
    "\n",
    "    # Pull out the multiplicative decomposition\n",
    "    νtilde, H, g =\n",
    "        multiplicative_decomp(amf.A, amf.B, amf.D, amf.F, amf.ν)\n",
    "    H2 = H*H\n",
    "\n",
    "    # The distribution\n",
    "    mdist = LogNormal(-t * H2 / 2, sqrt(t * H2))\n",
    "    x = range(xmin,  xmax, length = npts)\n",
    "    p = pdf.(mdist, x)\n",
    "\n",
    "    return x, p\n",
    "end\n",
    "\n",
    "function logMtilde_t_density(amf, t; xmin = -15.0, xmax = 15.0, npts = 5000)\n",
    "\n",
    "    # Pull out the multiplicative decomposition\n",
    "    @unpack A, B, D, F, ν = amf\n",
    "    νtilde, H, g = multiplicative_decomp(A, B, D, F, ν)\n",
    "    H2 = H * H\n",
    "\n",
    "    # The distribution\n",
    "    lmdist = Normal(-t * H2 / 2, sqrt(t * H2))\n",
    "    x = range(xmin,  xmax, length = npts)\n",
    "    p = pdf.(lmdist, x)\n",
    "\n",
    "    return x, p\n",
    "end\n",
    "\n",
    "times_to_plot = [10, 100, 500, 1000, 2500, 5000]\n",
    "dens_to_plot = [Mtilde_t_density(amf_2, t, xmin=1e-8, xmax=6.0) for t in times_to_plot]\n",
    "ldens_to_plot = [logMtilde_t_density(amf_2, t, xmin=-10.0, xmax=10.0) for t in times_to_plot]\n",
    "\n",
    "# plot_title = \"Densities of M_t^tilda\" is required, however, plot_title is not yet\n",
    "# supported in Plots\n",
    "plots = plot(layout = (3,2), size = (600,800))\n",
    "\n",
    "for (it, dens_t) in enumerate(dens_to_plot)\n",
    "    x, pdf = dens_t\n",
    "    plot!(plots[it], title = \"Density for time (time_to_plot[it])\")\n",
    "    plot!(plots[it], pdf, fill_between = ([0], pdf), label = \"\")\n",
    "end\n",
    "plot(plots)"
   ]
  },
  {
   "cell_type": "markdown",
   "metadata": {},
   "source": [
    "These probability density functions illustrate a **peculiar property** of log likelihood ratio processes:\n",
    "\n",
    "- With respect to the true model probabilities, they have mathematical expectations equal to $ 1 $ for all $ t \\geq 0 $  \n",
    "- They almost surely converge to zero  "
   ]
  },
  {
   "cell_type": "markdown",
   "metadata": {},
   "source": [
    "### Welfare benefits of reduced random aggregate fluctuations\n",
    "\n",
    "Suppose in the tradition of a strand of macroeconomics (for example Tallarini [[Tal00]](zreferences.html#tall2000), [[Luc03]](zreferences.html#lucas-2003)) we want to estimate the welfare benefits from removing random fluctuations around trend growth\n",
    "\n",
    "We shall  compute how much initial consumption $ c_0 $ a representative consumer who ranks consumption streams according to [(1)](#equation-old1mf) would be willing to sacrifice to enjoy the consumption stream\n",
    "\n",
    "$$\n",
    "\\frac{c_t}{c_0} = \\exp (\\tilde{\\nu} t)\n",
    "$$\n",
    "\n",
    "rather than the stream described by equation [(2)](#equation-old2mf)\n",
    "\n",
    "We want to compute the implied percentage reduction in $ c_0 $ that the representative consumer would accept\n",
    "\n",
    "To accomplish this, we write a function that computes the coefficients $ U $\n",
    "and $ u $ for the original values of $ A, B, D, F, \\nu $, but\n",
    "also for the case that  $ A, B, D, F = [0, 0, 0, 0] $ and\n",
    "$ \\nu = \\tilde{\\nu} $\n",
    "\n",
    "Here’s our code"
   ]
  },
  {
   "cell_type": "code",
   "execution_count": 16,
   "metadata": {
    "hide-output": false
   },
   "outputs": [
    {
     "data": {
      "text/plain": [
       "(4.54129843114712, 0.24220854072375247, 0, 0.25307727077652764)"
      ]
     },
     "execution_count": 16,
     "metadata": {},
     "output_type": "execute_result"
    }
   ],
   "source": [
    "function Uu(amf, δ, γ)\n",
    "    @unpack A, B, D, F, ν = amf\n",
    "    ν_tilde, H, g = multiplicative_decomp(A, B, D, F, ν)\n",
    "\n",
    "    resolv = 1 / (1 - exp(-δ) * A)\n",
    "    vect = F + D * resolv * B\n",
    "\n",
    "    U_risky = exp(-δ) * resolv * D\n",
    "    u_risky = exp(-δ) / (1 - exp(-δ)) * (ν + 0.5 * (1 - γ) * (vect^2))\n",
    "\n",
    "    U_det = 0\n",
    "    u_det = exp(-δ) / (1 - exp(-δ))  * ν_tilde\n",
    "\n",
    "    return U_risky, u_risky, U_det, u_det\n",
    "end\n",
    "\n",
    "# Set remaining parameters\n",
    "δ = 0.02\n",
    "γ = 2.0\n",
    "\n",
    "# Get coeffs\n",
    "U_r, u_r, U_d, u_d = Uu(amf_2, δ, γ)"
   ]
  },
  {
   "cell_type": "markdown",
   "metadata": {},
   "source": [
    "The values of the two processes are\n",
    "\n",
    "$$\n",
    "\\begin{aligned}\n",
    "    \\log V^r_0 &= \\log c^r_0 + U^r x_0 + u^r\n",
    "     \\\\\n",
    "    \\log V^d_0 &= \\log c^d_0 + U^d x_0 + u^d\n",
    "\\end{aligned}\n",
    "$$\n",
    "\n",
    "We look for the ratio $ \\frac{c^r_0-c^d_0}{c^r_0} $ that makes\n",
    "$ \\log V^r_0 - \\log V^d_0 = 0 $\n",
    "\n",
    "$$\n",
    "\\begin{aligned}\n",
    "    \\underbrace{ \\log V^r_0 - \\log V^d_0}_{=0} + \\log c^d_0 - \\log c^r_0\n",
    "      &= (U^r-U^d) x_0 + u^r - u^d\n",
    "    \\\\\n",
    " \\frac{c^d_0}{ c^r_0}\n",
    "     &= \\exp\\left((U^r-U^d) x_0 + u^r - u^d\\right)\n",
    "\\end{aligned}\n",
    "$$\n",
    "\n",
    "Hence, the implied percentage reduction in $ c_0 $ that the\n",
    "representative consumer would accept is given by\n",
    "\n",
    "$$\n",
    "\\frac{c^r_0-c^d_0}{c^r_0} = 1 - \\exp\\left((U^r-U^d) x_0 + u^r - u^d\\right)\n",
    "$$\n",
    "\n",
    "Let’s compute this"
   ]
  },
  {
   "cell_type": "code",
   "execution_count": 17,
   "metadata": {
    "hide-output": false
   },
   "outputs": [
    {
     "data": {
      "text/plain": [
       "1.0809878812017448"
      ]
     },
     "execution_count": 17,
     "metadata": {},
     "output_type": "execute_result"
    }
   ],
   "source": [
    "x0 = 0.0  # initial conditions\n",
    "logVC_r = U_r * x0 + u_r\n",
    "logVC_d = U_d * x0 + u_d\n",
    "\n",
    "perc_reduct = 100 * (1 - exp(logVC_r - logVC_d))\n",
    "perc_reduct"
   ]
  },
  {
   "cell_type": "markdown",
   "metadata": {},
   "source": [
    "We find that the consumer would be willing to take a percentage reduction of initial consumption equal to around 1.081"
   ]
  }
 ],
 "metadata": {
  "download_nb": 1,
  "download_nb_path": "https://lectures.quantecon.org/",
  "filename": "multiplicative_functionals.rst",
  "filename_with_path": "time_series_models/multiplicative_functionals",
  "kernelspec": {
   "display_name": "Julia 1.2",
   "language": "julia",
   "name": "julia-1.2"
  },
  "language_info": {
   "file_extension": ".jl",
   "mimetype": "application/julia",
   "name": "julia",
   "version": "1.2.0"
  },
  "title": "Multiplicative Functionals"
 },
 "nbformat": 4,
 "nbformat_minor": 2
}
