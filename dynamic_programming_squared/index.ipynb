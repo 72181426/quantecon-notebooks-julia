{
 "cells": [
  {
   "cell_type": "markdown",
   "metadata": {},
   "source": [
    "\n",
    "<a id='topics-in-economic-dynamics'></a>\n",
    "<div id=\"qe-notebook-header\" style=\"text-align:right;\">\n",
    "        <a href=\"https://quantecon.org/\" title=\"quantecon.org\">\n",
    "                <img style=\"width:250px;display:inline;\" src=\"https://assets.quantecon.org/img/qe-menubar-logo.svg\" alt=\"QuantEcon\">\n",
    "        </a>\n",
    "</div>"
   ]
  },
  {
   "cell_type": "markdown",
   "metadata": {},
   "source": [
    "# Dynamic Programming Squared\n",
    "\n",
    "Here we look at models in which a value function for one Bellman equation has as an argument the value function for another Bellman equation"
   ]
  },
  {
   "cell_type": "markdown",
   "metadata": {},
   "source": [
    "## Lectures\n",
    "\n",
    "- [Dynamic Stackelberg Problems](dyn_stack.ipynb)\n",
    "  - [Duopoly](dyn_stack.ipynb#duopoly)\n",
    "  - [The Stackelberg Problem](dyn_stack.ipynb#the-stackelberg-problem)\n",
    "  - [Stackelberg Plan](dyn_stack.ipynb#stackelberg-plan)\n",
    "  - [Recursive Representation of Stackelberg Plan](dyn_stack.ipynb#recursive-representation-of-stackelberg-plan)\n",
    "  - [Computing the Stackelberg Plan](dyn_stack.ipynb#computing-the-stackelberg-plan)\n",
    "  - [Exhibiting Time Inconsistency of Stackelberg Plan](dyn_stack.ipynb#exhibiting-time-inconsistency-of-stackelberg-plan)\n",
    "  - [Recursive Formulation of the Follower’s Problem](dyn_stack.ipynb#recursive-formulation-of-the-follower-s-problem)\n",
    "  - [Markov Perfect Equilibrium](dyn_stack.ipynb#markov-perfect-equilibrium)\n",
    "  - [MPE vs. Stackelberg](dyn_stack.ipynb#mpe-vs-stackelberg)\n",
    "- [Optimal Taxation in an LQ Economy](lqramsey.ipynb)\n",
    "  - [Overview](lqramsey.ipynb#overview)\n",
    "  - [The Ramsey Problem](lqramsey.ipynb#the-ramsey-problem)\n",
    "  - [Implementation](lqramsey.ipynb#implementation)\n",
    "  - [Examples](lqramsey.ipynb#examples)\n",
    "  - [Exercises](lqramsey.ipynb#exercises)\n",
    "  - [Solutions](lqramsey.ipynb#solutions)\n",
    "- [Optimal Taxation with State-Contingent Debt](opt_tax_recur.ipynb)\n",
    "  - [Overview](opt_tax_recur.ipynb#overview)\n",
    "  - [A Competitive Equilibrium with Distorting Taxes](opt_tax_recur.ipynb#a-competitive-equilibrium-with-distorting-taxes)\n",
    "  - [Recursive Formulation of the Ramsey problem](opt_tax_recur.ipynb#recursive-formulation-of-the-ramsey-problem)\n",
    "  - [Examples](opt_tax_recur.ipynb#examples)\n",
    "  - [Further Comments](opt_tax_recur.ipynb#further-comments)\n",
    "- [Optimal Taxation without State-Contingent Debt](amss.ipynb)\n",
    "  - [Overview](amss.ipynb#overview)\n",
    "  - [Competitive Equilibrium with Distorting Taxes](amss.ipynb#competitive-equilibrium-with-distorting-taxes)\n",
    "  - [Recursive Version of AMSS Model](amss.ipynb#recursive-version-of-amss-model)\n",
    "  - [Examples](amss.ipynb#examples)"
   ]
  }
 ],
 "metadata": {
  "filename": "index.rst",
  "kernelspec": {
   "display_name": "Julia 1.2",
   "language": "julia",
   "name": "julia-1.2"
  },
  "title": "Dynamic Programming Squared"
 },
 "nbformat": 4,
 "nbformat_minor": 2
}