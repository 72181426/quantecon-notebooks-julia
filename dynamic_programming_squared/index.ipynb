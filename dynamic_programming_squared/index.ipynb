{
 "cells": [
  {
   "cell_type": "markdown",
   "metadata": {},
   "source": [
    "\n",
    "<a id='topics-in-economic-dynamics'></a>\n",
    "<div id=\"qe-notebook-header\" style=\"text-align:right;\">\n",
    "        <a href=\"https://quantecon.org/\" title=\"quantecon.org\">\n",
    "                <img style=\"width:250px;display:inline;\" src=\"https://assets.quantecon.org/img/qe-menubar-logo.svg\" alt=\"QuantEcon\">\n",
    "        </a>\n",
    "</div>"
   ]
  },
  {
   "cell_type": "markdown",
   "metadata": {},
   "source": [
    "# Dynamic Programming Squared\n",
    "\n",
    "Here we look at models in which a value function for one Bellman equation has as an argument the value function for another Bellman equation"
   ]
  },
  {
   "cell_type": "markdown",
   "metadata": {},
   "source": [
    "## Lectures\n",
    "\n",
    "- [Dynamic Stackelberg Problems](https://lectures.quantecon.org/dyn_stack.html)\n",
    "  - [Duopoly](https://lectures.quantecon.org/dyn_stack.html#duopoly)\n",
    "  - [The Stackelberg Problem](https://lectures.quantecon.org/dyn_stack.html#the-stackelberg-problem)\n",
    "  - [Stackelberg Plan](https://lectures.quantecon.org/dyn_stack.html#stackelberg-plan)\n",
    "  - [Recursive Representation of Stackelberg Plan](https://lectures.quantecon.org/dyn_stack.html#recursive-representation-of-stackelberg-plan)\n",
    "  - [Computing the Stackelberg Plan](https://lectures.quantecon.org/dyn_stack.html#computing-the-stackelberg-plan)\n",
    "  - [Exhibiting Time Inconsistency of Stackelberg Plan](https://lectures.quantecon.org/dyn_stack.html#exhibiting-time-inconsistency-of-stackelberg-plan)\n",
    "  - [Recursive Formulation of the Follower’s Problem](https://lectures.quantecon.org/dyn_stack.html#recursive-formulation-of-the-follower-s-problem)\n",
    "  - [Markov Perfect Equilibrium](https://lectures.quantecon.org/dyn_stack.html#markov-perfect-equilibrium)\n",
    "  - [MPE vs. Stackelberg](https://lectures.quantecon.org/dyn_stack.html#mpe-vs-stackelberg)\n",
    "- [Optimal Taxation in an LQ Economy](https://lectures.quantecon.org/lqramsey.html)\n",
    "  - [Overview](https://lectures.quantecon.org/lqramsey.html#overview)\n",
    "  - [The Ramsey Problem](https://lectures.quantecon.org/lqramsey.html#the-ramsey-problem)\n",
    "  - [Implementation](https://lectures.quantecon.org/lqramsey.html#implementation)\n",
    "  - [Examples](https://lectures.quantecon.org/lqramsey.html#examples)\n",
    "  - [Exercises](https://lectures.quantecon.org/lqramsey.html#exercises)\n",
    "  - [Solutions](https://lectures.quantecon.org/lqramsey.html#solutions)\n",
    "- [Optimal Taxation with State-Contingent Debt](https://lectures.quantecon.org/opt_tax_recur.html)\n",
    "  - [Overview](https://lectures.quantecon.org/opt_tax_recur.html#overview)\n",
    "  - [A Competitive Equilibrium with Distorting Taxes](https://lectures.quantecon.org/opt_tax_recur.html#a-competitive-equilibrium-with-distorting-taxes)\n",
    "  - [Recursive Formulation of the Ramsey problem](https://lectures.quantecon.org/opt_tax_recur.html#recursive-formulation-of-the-ramsey-problem)\n",
    "  - [Examples](https://lectures.quantecon.org/opt_tax_recur.html#examples)\n",
    "  - [Further Comments](https://lectures.quantecon.org/opt_tax_recur.html#further-comments)\n",
    "- [Optimal Taxation without State-Contingent Debt](https://lectures.quantecon.org/amss.html)\n",
    "  - [Overview](https://lectures.quantecon.org/amss.html#overview)\n",
    "  - [Competitive Equilibrium with Distorting Taxes](https://lectures.quantecon.org/amss.html#competitive-equilibrium-with-distorting-taxes)\n",
    "  - [Recursive Version of AMSS Model](https://lectures.quantecon.org/amss.html#recursive-version-of-amss-model)\n",
    "  - [Examples](https://lectures.quantecon.org/amss.html#examples)"
   ]
  }
 ],
 "metadata": {
  "download_nb": 1,
  "download_nb_path": "https://lectures.quantecon.org/",
  "filename": "index.rst",
  "filename_with_path": "dynamic_programming_squared/index",
  "kernelspec": {
   "display_name": "Julia 1.2.0",
   "language": "julia",
   "name": "julia-1.2"
  },
  "language_info": {
   "file_extension": ".jl",
   "mimetype": "application/julia",
   "name": "julia",
   "version": "1.2.0"
  },
  "title": "Dynamic Programming Squared"
 },
 "nbformat": 4,
 "nbformat_minor": 2
}
