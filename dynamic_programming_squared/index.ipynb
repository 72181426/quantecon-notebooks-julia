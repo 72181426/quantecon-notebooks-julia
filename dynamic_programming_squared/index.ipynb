{
 "cells": [
  {
   "cell_type": "markdown",
   "metadata": {},
   "source": [
    "\n",
    "<a id='topics-in-economic-dynamics'></a>\n",
    "<div id=\"qe-notebook-header\" style=\"text-align:right;\">\n",
    "        <a href=\"https://quantecon.org/\" title=\"quantecon.org\">\n",
    "                <img style=\"width:250px;display:inline;\" src=\"https://assets.quantecon.org/img/qe-menubar-logo.svg\" alt=\"QuantEcon\">\n",
    "        </a>\n",
    "</div>"
   ]
  },
  {
   "cell_type": "markdown",
   "metadata": {},
   "source": [
    "# Dynamic Programming Squared\n",
    "\n",
    "Here we look at models in which a value function for one Bellman equation has as an argument the value function for another Bellman equation"
   ]
  },
  {
   "cell_type": "markdown",
   "metadata": {},
   "source": [
    "## Lectures\n",
    "\n",
    "- [Dynamic Stackelberg Problems](https://julia.quantecon.org/dyn_stack.html)\n",
    "  - [Duopoly](https://julia.quantecon.org/dyn_stack.html#duopoly)\n",
    "  - [The Stackelberg Problem](https://julia.quantecon.org/dyn_stack.html#the-stackelberg-problem)\n",
    "  - [Stackelberg Plan](https://julia.quantecon.org/dyn_stack.html#stackelberg-plan)\n",
    "  - [Recursive Representation of Stackelberg Plan](https://julia.quantecon.org/dyn_stack.html#recursive-representation-of-stackelberg-plan)\n",
    "  - [Computing the Stackelberg Plan](https://julia.quantecon.org/dyn_stack.html#computing-the-stackelberg-plan)\n",
    "  - [Exhibiting Time Inconsistency of Stackelberg Plan](https://julia.quantecon.org/dyn_stack.html#exhibiting-time-inconsistency-of-stackelberg-plan)\n",
    "  - [Recursive Formulation of the Follower’s Problem](https://julia.quantecon.org/dyn_stack.html#recursive-formulation-of-the-follower-s-problem)\n",
    "  - [Markov Perfect Equilibrium](https://julia.quantecon.org/dyn_stack.html#markov-perfect-equilibrium)\n",
    "  - [MPE vs. Stackelberg](https://julia.quantecon.org/dyn_stack.html#mpe-vs-stackelberg)\n",
    "- [Optimal Taxation in an LQ Economy](https://julia.quantecon.org/lqramsey.html)\n",
    "  - [Overview](https://julia.quantecon.org/lqramsey.html#overview)\n",
    "  - [The Ramsey Problem](https://julia.quantecon.org/lqramsey.html#the-ramsey-problem)\n",
    "  - [Implementation](https://julia.quantecon.org/lqramsey.html#implementation)\n",
    "  - [Examples](https://julia.quantecon.org/lqramsey.html#examples)\n",
    "  - [Exercises](https://julia.quantecon.org/lqramsey.html#exercises)\n",
    "  - [Solutions](https://julia.quantecon.org/lqramsey.html#solutions)\n",
    "- [Optimal Taxation with State-Contingent Debt](https://julia.quantecon.org/opt_tax_recur.html)\n",
    "  - [Overview](https://julia.quantecon.org/opt_tax_recur.html#overview)\n",
    "  - [A Competitive Equilibrium with Distorting Taxes](https://julia.quantecon.org/opt_tax_recur.html#a-competitive-equilibrium-with-distorting-taxes)\n",
    "  - [Recursive Formulation of the Ramsey problem](https://julia.quantecon.org/opt_tax_recur.html#recursive-formulation-of-the-ramsey-problem)\n",
    "  - [Examples](https://julia.quantecon.org/opt_tax_recur.html#examples)\n",
    "  - [Further Comments](https://julia.quantecon.org/opt_tax_recur.html#further-comments)\n",
    "- [Optimal Taxation without State-Contingent Debt](https://julia.quantecon.org/amss.html)\n",
    "  - [Overview](https://julia.quantecon.org/amss.html#overview)\n",
    "  - [Competitive Equilibrium with Distorting Taxes](https://julia.quantecon.org/amss.html#competitive-equilibrium-with-distorting-taxes)\n",
    "  - [Recursive Version of AMSS Model](https://julia.quantecon.org/amss.html#recursive-version-of-amss-model)\n",
    "  - [Examples](https://julia.quantecon.org/amss.html#examples)"
   ]
  }
 ],
 "metadata": {
  "date": 1570707164.8642204,
  "download_nb": 1,
  "download_nb_path": "https://julia.quantecon.org/",
  "filename": "index.rst",
  "filename_with_path": "dynamic_programming_squared/index",
  "kernelspec": {
   "display_name": "Julia 1.2.0",
   "language": "julia",
   "name": "julia-1.2"
  },
  "language_info": {
   "file_extension": ".jl",
   "mimetype": "application/julia",
   "name": "julia",
   "version": "1.2.0"
  },
  "title": "Dynamic Programming Squared"
 },
 "nbformat": 4,
 "nbformat_minor": 2
}
